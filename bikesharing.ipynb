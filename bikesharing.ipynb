{
 "cells": [
  {
   "cell_type": "markdown",
   "metadata": {},
   "source": [
    "# Udacity Project - Bikesharing Dataset\n",
    "\n",
    "## Data Wrangling and Data Visualisation\n",
    "\n",
    "This data set includes information about individual rides made in a bike-sharing system covering the greater Boston area. \n",
    "\n",
    "Table of Contents\n",
    "- Data Wrangling\n",
    "- Explonatory Data Analysis\n",
    "- Explanatory Data Analysis"
   ]
  },
  {
   "source": [
    "### Data Wrangling\n"
   ],
   "cell_type": "markdown",
   "metadata": {}
  },
  {
   "cell_type": "code",
   "execution_count": 112,
   "metadata": {},
   "outputs": [],
   "source": [
    "# import libraries \n",
    "import numpy as np\n",
    "import pandas as pandas\n",
    "import matplotlib.pyplot as plt\n",
    "import seaborn as sb\n",
    "\n",
    "%matplotlib inline"
   ]
  },
  {
   "source": [
    "**What is the structure of your dataset?**\n",
    "\n",
    "I have 12 csv's, for the 12 months of 2020. Ideally, I would like to see all 12 in one dataset, so it's easier to do explanatory analysis. \n",
    "Most of the months have 15 columns with a few having only 14. Need to make sure I'm not missing data so will reduce the ones with 15 rows to 14 before I merge them together. When I merge them, I will do it by quarters to help explore the data better. Different months have different amount of entries, but that's normal and I will not manipulate that.\n",
    "\n",
    "I will look at the datasets statistics, datatypes, missing and duplicated values as well as visually assess the datasets to see if there is any need for cleaning.\n",
    "\n",
    "\n",
    "**What is/are the main feature(s) of interest in your dataset?**\n",
    "\n",
    "To see who, when are where are using the most and least bikes within Boston.\n",
    "\n",
    "\n",
    "**What features in the dataset do you think will help support your investigation into your feature(s) of interest?**\n",
    "\n",
    "Trip duration, Start station, End Station, Usertype, Birthyear and Gender\n"
   ],
   "cell_type": "markdown",
   "metadata": {}
  },
  {
   "cell_type": "code",
   "execution_count": 114,
   "metadata": {},
   "outputs": [
    {
     "output_type": "execute_result",
     "data": {
      "text/plain": [
       "   tripduration                 starttime                  stoptime  \\\n",
       "0           478  2020-01-01 00:04:05.8090  2020-01-01 00:12:04.2370   \n",
       "1           363  2020-01-01 00:04:45.6990  2020-01-01 00:10:49.0400   \n",
       "2           284  2020-01-01 00:06:07.0630  2020-01-01 00:10:51.9240   \n",
       "3           193  2020-01-01 00:06:13.8550  2020-01-01 00:09:27.8320   \n",
       "4           428  2020-01-01 00:07:25.2950  2020-01-01 00:14:33.7800   \n",
       "\n",
       "   start station id                           start station name  \\\n",
       "0               366                              Broadway T Stop   \n",
       "1               219                  Boston East - 126 Border St   \n",
       "2               219                  Boston East - 126 Border St   \n",
       "3               396                         Main St at Beacon St   \n",
       "4                60  Charles Circle - Charles St at Cambridge St   \n",
       "\n",
       "   start station latitude  start station longitude  end station id  \\\n",
       "0               42.342781               -71.057473              93   \n",
       "1               42.373312               -71.041020             212   \n",
       "2               42.373312               -71.041020             212   \n",
       "3               42.409330               -71.063819             387   \n",
       "4               42.360793               -71.071190              49   \n",
       "\n",
       "               end station name  end station latitude  end station longitude  \\\n",
       "0              JFK/UMass T Stop             42.320340             -71.051180   \n",
       "1  Maverick Square - Lewis Mall             42.368844             -71.039778   \n",
       "2  Maverick Square - Lewis Mall             42.368844             -71.039778   \n",
       "3        Norman St at Kelvin St             42.409859             -71.066319   \n",
       "4       Stuart St at Charles St             42.351146             -71.066289   \n",
       "\n",
       "   bikeid    usertype  birth year  gender  \n",
       "0    6005    Customer        1969       0  \n",
       "1    3168  Subscriber        2000       1  \n",
       "2    3985  Subscriber        2001       1  \n",
       "3    2692  Subscriber        1978       1  \n",
       "4    4978  Subscriber        1987       1  "
      ],
      "text/html": "<div>\n<style scoped>\n    .dataframe tbody tr th:only-of-type {\n        vertical-align: middle;\n    }\n\n    .dataframe tbody tr th {\n        vertical-align: top;\n    }\n\n    .dataframe thead th {\n        text-align: right;\n    }\n</style>\n<table border=\"1\" class=\"dataframe\">\n  <thead>\n    <tr style=\"text-align: right;\">\n      <th></th>\n      <th>tripduration</th>\n      <th>starttime</th>\n      <th>stoptime</th>\n      <th>start station id</th>\n      <th>start station name</th>\n      <th>start station latitude</th>\n      <th>start station longitude</th>\n      <th>end station id</th>\n      <th>end station name</th>\n      <th>end station latitude</th>\n      <th>end station longitude</th>\n      <th>bikeid</th>\n      <th>usertype</th>\n      <th>birth year</th>\n      <th>gender</th>\n    </tr>\n  </thead>\n  <tbody>\n    <tr>\n      <th>0</th>\n      <td>478</td>\n      <td>2020-01-01 00:04:05.8090</td>\n      <td>2020-01-01 00:12:04.2370</td>\n      <td>366</td>\n      <td>Broadway T Stop</td>\n      <td>42.342781</td>\n      <td>-71.057473</td>\n      <td>93</td>\n      <td>JFK/UMass T Stop</td>\n      <td>42.320340</td>\n      <td>-71.051180</td>\n      <td>6005</td>\n      <td>Customer</td>\n      <td>1969</td>\n      <td>0</td>\n    </tr>\n    <tr>\n      <th>1</th>\n      <td>363</td>\n      <td>2020-01-01 00:04:45.6990</td>\n      <td>2020-01-01 00:10:49.0400</td>\n      <td>219</td>\n      <td>Boston East - 126 Border St</td>\n      <td>42.373312</td>\n      <td>-71.041020</td>\n      <td>212</td>\n      <td>Maverick Square - Lewis Mall</td>\n      <td>42.368844</td>\n      <td>-71.039778</td>\n      <td>3168</td>\n      <td>Subscriber</td>\n      <td>2000</td>\n      <td>1</td>\n    </tr>\n    <tr>\n      <th>2</th>\n      <td>284</td>\n      <td>2020-01-01 00:06:07.0630</td>\n      <td>2020-01-01 00:10:51.9240</td>\n      <td>219</td>\n      <td>Boston East - 126 Border St</td>\n      <td>42.373312</td>\n      <td>-71.041020</td>\n      <td>212</td>\n      <td>Maverick Square - Lewis Mall</td>\n      <td>42.368844</td>\n      <td>-71.039778</td>\n      <td>3985</td>\n      <td>Subscriber</td>\n      <td>2001</td>\n      <td>1</td>\n    </tr>\n    <tr>\n      <th>3</th>\n      <td>193</td>\n      <td>2020-01-01 00:06:13.8550</td>\n      <td>2020-01-01 00:09:27.8320</td>\n      <td>396</td>\n      <td>Main St at Beacon St</td>\n      <td>42.409330</td>\n      <td>-71.063819</td>\n      <td>387</td>\n      <td>Norman St at Kelvin St</td>\n      <td>42.409859</td>\n      <td>-71.066319</td>\n      <td>2692</td>\n      <td>Subscriber</td>\n      <td>1978</td>\n      <td>1</td>\n    </tr>\n    <tr>\n      <th>4</th>\n      <td>428</td>\n      <td>2020-01-01 00:07:25.2950</td>\n      <td>2020-01-01 00:14:33.7800</td>\n      <td>60</td>\n      <td>Charles Circle - Charles St at Cambridge St</td>\n      <td>42.360793</td>\n      <td>-71.071190</td>\n      <td>49</td>\n      <td>Stuart St at Charles St</td>\n      <td>42.351146</td>\n      <td>-71.066289</td>\n      <td>4978</td>\n      <td>Subscriber</td>\n      <td>1987</td>\n      <td>1</td>\n    </tr>\n  </tbody>\n</table>\n</div>"
     },
     "metadata": {},
     "execution_count": 114
    }
   ],
   "source": [
    "# load in each month's dataset into a pandas dataframe\n",
    "df_01 = pd.read_csv('202001-bluebikes-tripdata.csv')\n",
    "df_01.head()"
   ]
  },
  {
   "cell_type": "code",
   "execution_count": 116,
   "metadata": {},
   "outputs": [
    {
     "output_type": "execute_result",
     "data": {
      "text/plain": [
       "(128598, 15)"
      ]
     },
     "metadata": {},
     "execution_count": 116
    }
   ],
   "source": [
    "# assess shape\n",
    "df_01.shape"
   ]
  },
  {
   "cell_type": "code",
   "execution_count": 118,
   "metadata": {},
   "outputs": [
    {
     "output_type": "stream",
     "name": "stdout",
     "text": [
      "<class 'pandas.core.frame.DataFrame'>\nRangeIndex: 128598 entries, 0 to 128597\nData columns (total 15 columns):\n #   Column                   Non-Null Count   Dtype  \n---  ------                   --------------   -----  \n 0   tripduration             128598 non-null  int64  \n 1   starttime                128598 non-null  object \n 2   stoptime                 128598 non-null  object \n 3   start station id         128598 non-null  int64  \n 4   start station name       128598 non-null  object \n 5   start station latitude   128598 non-null  float64\n 6   start station longitude  128598 non-null  float64\n 7   end station id           128598 non-null  int64  \n 8   end station name         128598 non-null  object \n 9   end station latitude     128598 non-null  float64\n 10  end station longitude    128598 non-null  float64\n 11  bikeid                   128598 non-null  int64  \n 12  usertype                 128598 non-null  object \n 13  birth year               128598 non-null  int64  \n 14  gender                   128598 non-null  int64  \ndtypes: float64(4), int64(6), object(5)\nmemory usage: 14.7+ MB\n"
     ]
    }
   ],
   "source": [
    "# assess column names in each data set to see which column is missing\n",
    "df_01.info()"
   ]
  },
  {
   "cell_type": "code",
   "execution_count": 120,
   "metadata": {},
   "outputs": [
    {
     "output_type": "execute_result",
     "data": {
      "text/plain": [
       "(133235, 15)"
      ]
     },
     "metadata": {},
     "execution_count": 120
    }
   ],
   "source": [
    "df_02 = pd.read_csv('202002-bluebikes-tripdata.csv')\n",
    "df_02.shape"
   ]
  },
  {
   "cell_type": "code",
   "execution_count": 122,
   "metadata": {},
   "outputs": [
    {
     "output_type": "stream",
     "name": "stdout",
     "text": [
      "<class 'pandas.core.frame.DataFrame'>\nRangeIndex: 133235 entries, 0 to 133234\nData columns (total 15 columns):\n #   Column                   Non-Null Count   Dtype  \n---  ------                   --------------   -----  \n 0   tripduration             133235 non-null  int64  \n 1   starttime                133235 non-null  object \n 2   stoptime                 133235 non-null  object \n 3   start station id         133235 non-null  int64  \n 4   start station name       133235 non-null  object \n 5   start station latitude   133235 non-null  float64\n 6   start station longitude  133235 non-null  float64\n 7   end station id           133235 non-null  int64  \n 8   end station name         133235 non-null  object \n 9   end station latitude     133235 non-null  float64\n 10  end station longitude    133235 non-null  float64\n 11  bikeid                   133235 non-null  int64  \n 12  usertype                 133235 non-null  object \n 13  birth year               133235 non-null  int64  \n 14  gender                   133235 non-null  int64  \ndtypes: float64(4), int64(6), object(5)\nmemory usage: 15.2+ MB\n"
     ]
    }
   ],
   "source": [
    "# assess column names in each data set to see which column is missing\n",
    "df_02.info()"
   ]
  },
  {
   "cell_type": "code",
   "execution_count": 124,
   "metadata": {},
   "outputs": [
    {
     "output_type": "execute_result",
     "data": {
      "text/plain": [
       "(107350, 15)"
      ]
     },
     "metadata": {},
     "execution_count": 124
    }
   ],
   "source": [
    "df_03 = pd.read_csv('202003-bluebikes-tripdata.csv')\n",
    "df_03.shape"
   ]
  },
  {
   "cell_type": "code",
   "execution_count": 126,
   "metadata": {},
   "outputs": [
    {
     "output_type": "stream",
     "name": "stdout",
     "text": [
      "<class 'pandas.core.frame.DataFrame'>\nRangeIndex: 107350 entries, 0 to 107349\nData columns (total 15 columns):\n #   Column                   Non-Null Count   Dtype  \n---  ------                   --------------   -----  \n 0   tripduration             107350 non-null  int64  \n 1   starttime                107350 non-null  object \n 2   stoptime                 107350 non-null  object \n 3   start station id         107350 non-null  int64  \n 4   start station name       107350 non-null  object \n 5   start station latitude   107350 non-null  float64\n 6   start station longitude  107350 non-null  float64\n 7   end station id           107350 non-null  int64  \n 8   end station name         107350 non-null  object \n 9   end station latitude     107350 non-null  float64\n 10  end station longitude    107350 non-null  float64\n 11  bikeid                   107350 non-null  int64  \n 12  usertype                 107350 non-null  object \n 13  birth year               107350 non-null  int64  \n 14  gender                   107350 non-null  int64  \ndtypes: float64(4), int64(6), object(5)\nmemory usage: 12.3+ MB\n"
     ]
    }
   ],
   "source": [
    "# assess column names in each data set to see which column is missing\n",
    "df_03.info()"
   ]
  },
  {
   "cell_type": "code",
   "execution_count": 128,
   "metadata": {},
   "outputs": [
    {
     "output_type": "execute_result",
     "data": {
      "text/plain": [
       "(46793, 15)"
      ]
     },
     "metadata": {},
     "execution_count": 128
    }
   ],
   "source": [
    "df_04 = pd.read_csv('202004-bluebikes-tripdata.csv')\n",
    "df_04.shape"
   ]
  },
  {
   "cell_type": "code",
   "execution_count": 130,
   "metadata": {},
   "outputs": [
    {
     "output_type": "stream",
     "name": "stdout",
     "text": [
      "<class 'pandas.core.frame.DataFrame'>\nRangeIndex: 46793 entries, 0 to 46792\nData columns (total 15 columns):\n #   Column                   Non-Null Count  Dtype  \n---  ------                   --------------  -----  \n 0   tripduration             46793 non-null  int64  \n 1   starttime                46793 non-null  object \n 2   stoptime                 46793 non-null  object \n 3   start station id         46793 non-null  int64  \n 4   start station name       46793 non-null  object \n 5   start station latitude   46793 non-null  float64\n 6   start station longitude  46793 non-null  float64\n 7   end station id           46793 non-null  int64  \n 8   end station name         46793 non-null  object \n 9   end station latitude     46793 non-null  float64\n 10  end station longitude    46793 non-null  float64\n 11  bikeid                   46793 non-null  int64  \n 12  usertype                 46793 non-null  object \n 13  birth year               46793 non-null  int64  \n 14  gender                   46793 non-null  int64  \ndtypes: float64(4), int64(6), object(5)\nmemory usage: 5.4+ MB\n"
     ]
    }
   ],
   "source": [
    "# assess column names in each data set to see which column is missing\n",
    "df_04.info()"
   ]
  },
  {
   "cell_type": "code",
   "execution_count": 132,
   "metadata": {},
   "outputs": [
    {
     "output_type": "execute_result",
     "data": {
      "text/plain": [
       "(124879, 14)"
      ]
     },
     "metadata": {},
     "execution_count": 132
    }
   ],
   "source": [
    "df_05 = pd.read_csv('202005-bluebikes-tripdata.csv')\n",
    "df_05.shape"
   ]
  },
  {
   "cell_type": "code",
   "execution_count": 134,
   "metadata": {},
   "outputs": [
    {
     "output_type": "stream",
     "name": "stdout",
     "text": [
      "<class 'pandas.core.frame.DataFrame'>\nRangeIndex: 124879 entries, 0 to 124878\nData columns (total 14 columns):\n #   Column                   Non-Null Count   Dtype  \n---  ------                   --------------   -----  \n 0   tripduration             124879 non-null  int64  \n 1   starttime                124879 non-null  object \n 2   stoptime                 124879 non-null  object \n 3   start station id         124879 non-null  int64  \n 4   start station name       124879 non-null  object \n 5   start station latitude   124879 non-null  float64\n 6   start station longitude  124879 non-null  float64\n 7   end station id           124879 non-null  int64  \n 8   end station name         124879 non-null  object \n 9   end station latitude     124879 non-null  float64\n 10  end station longitude    124879 non-null  float64\n 11  bikeid                   124879 non-null  int64  \n 12  usertype                 124879 non-null  object \n 13  postal code              110498 non-null  object \ndtypes: float64(4), int64(4), object(6)\nmemory usage: 13.3+ MB\n"
     ]
    }
   ],
   "source": [
    "# assess column names in each data set to see which column is missing\n",
    "df_05.info()"
   ]
  },
  {
   "cell_type": "code",
   "execution_count": 136,
   "metadata": {},
   "outputs": [
    {
     "output_type": "execute_result",
     "data": {
      "text/plain": [
       "(191843, 14)"
      ]
     },
     "metadata": {},
     "execution_count": 136
    }
   ],
   "source": [
    "df_06 = pd.read_csv('202006-bluebikes-tripdata.csv')\n",
    "df_06.shape"
   ]
  },
  {
   "cell_type": "code",
   "execution_count": 138,
   "metadata": {},
   "outputs": [
    {
     "output_type": "stream",
     "name": "stdout",
     "text": [
      "<class 'pandas.core.frame.DataFrame'>\nRangeIndex: 191843 entries, 0 to 191842\nData columns (total 14 columns):\n #   Column                   Non-Null Count   Dtype  \n---  ------                   --------------   -----  \n 0   tripduration             191843 non-null  int64  \n 1   starttime                191843 non-null  object \n 2   stoptime                 191843 non-null  object \n 3   start station id         191843 non-null  int64  \n 4   start station name       191843 non-null  object \n 5   start station latitude   191843 non-null  float64\n 6   start station longitude  191843 non-null  float64\n 7   end station id           191843 non-null  int64  \n 8   end station name         191843 non-null  object \n 9   end station latitude     191843 non-null  float64\n 10  end station longitude    191843 non-null  float64\n 11  bikeid                   191843 non-null  int64  \n 12  usertype                 191843 non-null  object \n 13  postal code              170883 non-null  object \ndtypes: float64(4), int64(4), object(6)\nmemory usage: 20.5+ MB\n"
     ]
    }
   ],
   "source": [
    "# assess column names in each data set to see which column is missing\n",
    "df_06.info()"
   ]
  },
  {
   "cell_type": "code",
   "execution_count": 140,
   "metadata": {},
   "outputs": [
    {
     "output_type": "execute_result",
     "data": {
      "text/plain": [
       "(259726, 14)"
      ]
     },
     "metadata": {},
     "execution_count": 140
    }
   ],
   "source": [
    "df_07 = pd.read_csv('202007-bluebikes-tripdata.csv')\n",
    "df_07.shape"
   ]
  },
  {
   "cell_type": "code",
   "execution_count": 142,
   "metadata": {},
   "outputs": [
    {
     "output_type": "stream",
     "name": "stdout",
     "text": [
      "<class 'pandas.core.frame.DataFrame'>\nRangeIndex: 259726 entries, 0 to 259725\nData columns (total 14 columns):\n #   Column                   Non-Null Count   Dtype  \n---  ------                   --------------   -----  \n 0   tripduration             259726 non-null  int64  \n 1   starttime                259726 non-null  object \n 2   stoptime                 259726 non-null  object \n 3   start station id         259726 non-null  int64  \n 4   start station name       259726 non-null  object \n 5   start station latitude   259726 non-null  float64\n 6   start station longitude  259726 non-null  float64\n 7   end station id           259726 non-null  int64  \n 8   end station name         259726 non-null  object \n 9   end station latitude     259726 non-null  float64\n 10  end station longitude    259726 non-null  float64\n 11  bikeid                   259726 non-null  int64  \n 12  usertype                 259726 non-null  object \n 13  postal code              230479 non-null  object \ndtypes: float64(4), int64(4), object(6)\nmemory usage: 27.7+ MB\n"
     ]
    }
   ],
   "source": [
    "# assess column names in each data set to see which column is missing\n",
    "df_07.info()"
   ]
  },
  {
   "cell_type": "code",
   "execution_count": 144,
   "metadata": {},
   "outputs": [
    {
     "output_type": "execute_result",
     "data": {
      "text/plain": [
       "(289033, 14)"
      ]
     },
     "metadata": {},
     "execution_count": 144
    }
   ],
   "source": [
    "df_08 = pd.read_csv('202008-bluebikes-tripdata.csv')\n",
    "df_08.shape"
   ]
  },
  {
   "cell_type": "code",
   "execution_count": 146,
   "metadata": {},
   "outputs": [
    {
     "output_type": "stream",
     "name": "stdout",
     "text": [
      "<class 'pandas.core.frame.DataFrame'>\nRangeIndex: 289033 entries, 0 to 289032\nData columns (total 14 columns):\n #   Column                   Non-Null Count   Dtype  \n---  ------                   --------------   -----  \n 0   tripduration             289033 non-null  int64  \n 1   starttime                289033 non-null  object \n 2   stoptime                 289033 non-null  object \n 3   start station id         289033 non-null  int64  \n 4   start station name       289033 non-null  object \n 5   start station latitude   289033 non-null  float64\n 6   start station longitude  289033 non-null  float64\n 7   end station id           289033 non-null  int64  \n 8   end station name         289033 non-null  object \n 9   end station latitude     289033 non-null  float64\n 10  end station longitude    289033 non-null  float64\n 11  bikeid                   289033 non-null  int64  \n 12  usertype                 289033 non-null  object \n 13  postal code              264273 non-null  object \ndtypes: float64(4), int64(4), object(6)\nmemory usage: 30.9+ MB\n"
     ]
    }
   ],
   "source": [
    "# assess column names in each data set to see which column is missing\n",
    "df_08.info()"
   ]
  },
  {
   "cell_type": "code",
   "execution_count": 148,
   "metadata": {},
   "outputs": [
    {
     "output_type": "execute_result",
     "data": {
      "text/plain": [
       "(307853, 14)"
      ]
     },
     "metadata": {},
     "execution_count": 148
    }
   ],
   "source": [
    "df_09 = pd.read_csv('202009-bluebikes-tripdata.csv')\n",
    "df_09.shape"
   ]
  },
  {
   "cell_type": "code",
   "execution_count": 150,
   "metadata": {},
   "outputs": [
    {
     "output_type": "stream",
     "name": "stdout",
     "text": [
      "<class 'pandas.core.frame.DataFrame'>\nRangeIndex: 307853 entries, 0 to 307852\nData columns (total 14 columns):\n #   Column                   Non-Null Count   Dtype  \n---  ------                   --------------   -----  \n 0   tripduration             307853 non-null  int64  \n 1   starttime                307853 non-null  object \n 2   stoptime                 307853 non-null  object \n 3   start station id         307853 non-null  int64  \n 4   start station name       307853 non-null  object \n 5   start station latitude   307853 non-null  float64\n 6   start station longitude  307853 non-null  float64\n 7   end station id           307853 non-null  int64  \n 8   end station name         307853 non-null  object \n 9   end station latitude     307853 non-null  float64\n 10  end station longitude    307853 non-null  float64\n 11  bikeid                   307853 non-null  int64  \n 12  usertype                 307853 non-null  object \n 13  postal code              284701 non-null  object \ndtypes: float64(4), int64(4), object(6)\nmemory usage: 32.9+ MB\n"
     ]
    }
   ],
   "source": [
    "# assess column names in each data set to see which column is missing\n",
    "df_09.info()"
   ]
  },
  {
   "cell_type": "code",
   "execution_count": 152,
   "metadata": {},
   "outputs": [
    {
     "output_type": "execute_result",
     "data": {
      "text/plain": [
       "(248424, 14)"
      ]
     },
     "metadata": {},
     "execution_count": 152
    }
   ],
   "source": [
    "df_10 = pd.read_csv('202010-bluebikes-tripdata.csv')\n",
    "df_10.shape"
   ]
  },
  {
   "cell_type": "code",
   "execution_count": 154,
   "metadata": {},
   "outputs": [
    {
     "output_type": "stream",
     "name": "stdout",
     "text": [
      "<class 'pandas.core.frame.DataFrame'>\nRangeIndex: 248424 entries, 0 to 248423\nData columns (total 14 columns):\n #   Column                   Non-Null Count   Dtype  \n---  ------                   --------------   -----  \n 0   tripduration             248424 non-null  int64  \n 1   starttime                248424 non-null  object \n 2   stoptime                 248424 non-null  object \n 3   start station id         248424 non-null  int64  \n 4   start station name       248424 non-null  object \n 5   start station latitude   248424 non-null  float64\n 6   start station longitude  248424 non-null  float64\n 7   end station id           248424 non-null  int64  \n 8   end station name         248424 non-null  object \n 9   end station latitude     248424 non-null  float64\n 10  end station longitude    248424 non-null  float64\n 11  bikeid                   248424 non-null  int64  \n 12  usertype                 248424 non-null  object \n 13  postal code              230070 non-null  object \ndtypes: float64(4), int64(4), object(6)\nmemory usage: 26.5+ MB\n"
     ]
    }
   ],
   "source": [
    "# assess column names in each data set to see which column is missing\n",
    "df_10.info()"
   ]
  },
  {
   "cell_type": "code",
   "execution_count": 156,
   "metadata": {},
   "outputs": [
    {
     "output_type": "execute_result",
     "data": {
      "text/plain": [
       "(161712, 14)"
      ]
     },
     "metadata": {},
     "execution_count": 156
    }
   ],
   "source": [
    "df_11 = pd.read_csv('202011-bluebikes-tripdata.csv')\n",
    "df_11.shape"
   ]
  },
  {
   "cell_type": "code",
   "execution_count": 158,
   "metadata": {},
   "outputs": [
    {
     "output_type": "stream",
     "name": "stdout",
     "text": [
      "<class 'pandas.core.frame.DataFrame'>\nRangeIndex: 161712 entries, 0 to 161711\nData columns (total 14 columns):\n #   Column                   Non-Null Count   Dtype  \n---  ------                   --------------   -----  \n 0   tripduration             161712 non-null  int64  \n 1   starttime                161712 non-null  object \n 2   stoptime                 161712 non-null  object \n 3   start station id         161712 non-null  int64  \n 4   start station name       161712 non-null  object \n 5   start station latitude   161712 non-null  float64\n 6   start station longitude  161712 non-null  float64\n 7   end station id           161712 non-null  int64  \n 8   end station name         161712 non-null  object \n 9   end station latitude     161712 non-null  float64\n 10  end station longitude    161712 non-null  float64\n 11  bikeid                   161712 non-null  int64  \n 12  usertype                 161712 non-null  object \n 13  postal code              151233 non-null  object \ndtypes: float64(4), int64(4), object(6)\nmemory usage: 17.3+ MB\n"
     ]
    }
   ],
   "source": [
    "# assess column names in each data set to see which column is missing\n",
    "df_11.info()"
   ]
  },
  {
   "cell_type": "code",
   "execution_count": 160,
   "metadata": {},
   "outputs": [
    {
     "output_type": "execute_result",
     "data": {
      "text/plain": [
       "(74002, 14)"
      ]
     },
     "metadata": {},
     "execution_count": 160
    }
   ],
   "source": [
    "df_12 = pd.read_csv('202012-bluebikes-tripdata.csv')\n",
    "df_12.shape"
   ]
  },
  {
   "cell_type": "code",
   "execution_count": 162,
   "metadata": {},
   "outputs": [
    {
     "output_type": "stream",
     "name": "stdout",
     "text": [
      "<class 'pandas.core.frame.DataFrame'>\nRangeIndex: 74002 entries, 0 to 74001\nData columns (total 14 columns):\n #   Column                   Non-Null Count  Dtype  \n---  ------                   --------------  -----  \n 0   tripduration             74002 non-null  int64  \n 1   starttime                74002 non-null  object \n 2   stoptime                 74002 non-null  object \n 3   start station id         74002 non-null  int64  \n 4   start station name       74002 non-null  object \n 5   start station latitude   74002 non-null  float64\n 6   start station longitude  74002 non-null  float64\n 7   end station id           74002 non-null  int64  \n 8   end station name         74002 non-null  object \n 9   end station latitude     74002 non-null  float64\n 10  end station longitude    74002 non-null  float64\n 11  bikeid                   74002 non-null  int64  \n 12  usertype                 74002 non-null  object \n 13  postal code              71109 non-null  object \ndtypes: float64(4), int64(4), object(6)\nmemory usage: 7.9+ MB\n"
     ]
    }
   ],
   "source": [
    "# assess column names in each data set to see which column is missing\n",
    "df_12.info()"
   ]
  },
  {
   "source": [
    "### Summary of Assessment\n",
    "\n",
    "**Quality Issues**\n",
    "*All datasets*\n",
    "- `starttime` and `stopttime` column is in object format, it should be datetime\n",
    "\n",
    "**Tidiness issues**\n",
    "\n",
    "- merge datasets (concat)\n",
    "- remove birthyear, postcalcode and gender columns as it only has partial month's data coverage, not the full year\n"
   ],
   "cell_type": "markdown",
   "metadata": {}
  },
  {
   "source": [
    "### Cleaning"
   ],
   "cell_type": "markdown",
   "metadata": {}
  },
  {
   "source": [
    "### Define \n",
    "- merge datasets (concat)\n",
    "\n",
    "Action: find best method to merge datasets"
   ],
   "cell_type": "markdown",
   "metadata": {}
  },
  {
   "source": [
    "### Code"
   ],
   "cell_type": "markdown",
   "metadata": {}
  },
  {
   "cell_type": "code",
   "execution_count": 180,
   "metadata": {},
   "outputs": [],
   "source": [
    "# make a copy of all datasets to be sure I can revert if things go wrong\n",
    "df_01_copy = df_01.copy()\n",
    "df_02_copy = df_02.copy()\n",
    "df_03_copy = df_03.copy()\n",
    "df_04_copy = df_04.copy()\n",
    "df_05_copy = df_05.copy()\n",
    "df_06_copy = df_06.copy()\n",
    "df_07_copy = df_07.copy()\n",
    "df_08_copy = df_08.copy()\n",
    "df_09_copy = df_09.copy()\n",
    "df_10_copy = df_10.copy()\n",
    "df_11_copy = df_11.copy()\n",
    "df_12_copy = df_12.copy()"
   ]
  },
  {
   "source": [
    "Check each copied datasets shape so I can see if I got all the data after merging"
   ],
   "cell_type": "markdown",
   "metadata": {}
  },
  {
   "cell_type": "code",
   "execution_count": 177,
   "metadata": {},
   "outputs": [
    {
     "output_type": "execute_result",
     "data": {
      "text/plain": [
       "(128598, 15)"
      ]
     },
     "metadata": {},
     "execution_count": 177
    }
   ],
   "source": [
    "df_01_copy.shape"
   ]
  },
  {
   "cell_type": "code",
   "execution_count": 181,
   "metadata": {},
   "outputs": [
    {
     "output_type": "execute_result",
     "data": {
      "text/plain": [
       "(133235, 15)"
      ]
     },
     "metadata": {},
     "execution_count": 181
    }
   ],
   "source": [
    "df_02_copy.shape"
   ]
  },
  {
   "cell_type": "code",
   "execution_count": 182,
   "metadata": {},
   "outputs": [
    {
     "output_type": "execute_result",
     "data": {
      "text/plain": [
       "(107350, 15)"
      ]
     },
     "metadata": {},
     "execution_count": 182
    }
   ],
   "source": [
    "df_03_copy.shape"
   ]
  },
  {
   "cell_type": "code",
   "execution_count": 183,
   "metadata": {},
   "outputs": [
    {
     "output_type": "execute_result",
     "data": {
      "text/plain": [
       "(46793, 15)"
      ]
     },
     "metadata": {},
     "execution_count": 183
    }
   ],
   "source": [
    "df_04_copy.shape"
   ]
  },
  {
   "cell_type": "code",
   "execution_count": 184,
   "metadata": {},
   "outputs": [
    {
     "output_type": "execute_result",
     "data": {
      "text/plain": [
       "(124879, 14)"
      ]
     },
     "metadata": {},
     "execution_count": 184
    }
   ],
   "source": [
    "df_05_copy.shape"
   ]
  },
  {
   "cell_type": "code",
   "execution_count": 185,
   "metadata": {},
   "outputs": [
    {
     "output_type": "execute_result",
     "data": {
      "text/plain": [
       "(191843, 14)"
      ]
     },
     "metadata": {},
     "execution_count": 185
    }
   ],
   "source": [
    "df_06_copy.shape"
   ]
  },
  {
   "cell_type": "code",
   "execution_count": 186,
   "metadata": {},
   "outputs": [
    {
     "output_type": "execute_result",
     "data": {
      "text/plain": [
       "(259726, 14)"
      ]
     },
     "metadata": {},
     "execution_count": 186
    }
   ],
   "source": [
    "df_07_copy.shape"
   ]
  },
  {
   "cell_type": "code",
   "execution_count": 187,
   "metadata": {},
   "outputs": [
    {
     "output_type": "execute_result",
     "data": {
      "text/plain": [
       "(289033, 14)"
      ]
     },
     "metadata": {},
     "execution_count": 187
    }
   ],
   "source": [
    "df_08_copy.shape"
   ]
  },
  {
   "cell_type": "code",
   "execution_count": 188,
   "metadata": {},
   "outputs": [
    {
     "output_type": "execute_result",
     "data": {
      "text/plain": [
       "(307853, 14)"
      ]
     },
     "metadata": {},
     "execution_count": 188
    }
   ],
   "source": [
    "df_09_copy.shape"
   ]
  },
  {
   "cell_type": "code",
   "execution_count": 189,
   "metadata": {},
   "outputs": [
    {
     "output_type": "execute_result",
     "data": {
      "text/plain": [
       "(248424, 14)"
      ]
     },
     "metadata": {},
     "execution_count": 189
    }
   ],
   "source": [
    "df_10_copy.shape"
   ]
  },
  {
   "cell_type": "code",
   "execution_count": 190,
   "metadata": {},
   "outputs": [
    {
     "output_type": "execute_result",
     "data": {
      "text/plain": [
       "(161712, 14)"
      ]
     },
     "metadata": {},
     "execution_count": 190
    }
   ],
   "source": [
    "df_11_copy.shape"
   ]
  },
  {
   "cell_type": "code",
   "execution_count": 191,
   "metadata": {},
   "outputs": [
    {
     "output_type": "execute_result",
     "data": {
      "text/plain": [
       "(74002, 14)"
      ]
     },
     "metadata": {},
     "execution_count": 191
    }
   ],
   "source": [
    "df_12_copy.shape"
   ]
  },
  {
   "cell_type": "code",
   "execution_count": 166,
   "metadata": {},
   "outputs": [
    {
     "output_type": "execute_result",
     "data": {
      "text/plain": [
       "   tripduration                 starttime                  stoptime  \\\n",
       "0           478  2020-01-01 00:04:05.8090  2020-01-01 00:12:04.2370   \n",
       "1           363  2020-01-01 00:04:45.6990  2020-01-01 00:10:49.0400   \n",
       "2           284  2020-01-01 00:06:07.0630  2020-01-01 00:10:51.9240   \n",
       "3           193  2020-01-01 00:06:13.8550  2020-01-01 00:09:27.8320   \n",
       "4           428  2020-01-01 00:07:25.2950  2020-01-01 00:14:33.7800   \n",
       "\n",
       "   start station id                           start station name  \\\n",
       "0               366                              Broadway T Stop   \n",
       "1               219                  Boston East - 126 Border St   \n",
       "2               219                  Boston East - 126 Border St   \n",
       "3               396                         Main St at Beacon St   \n",
       "4                60  Charles Circle - Charles St at Cambridge St   \n",
       "\n",
       "   start station latitude  start station longitude  end station id  \\\n",
       "0               42.342781               -71.057473              93   \n",
       "1               42.373312               -71.041020             212   \n",
       "2               42.373312               -71.041020             212   \n",
       "3               42.409330               -71.063819             387   \n",
       "4               42.360793               -71.071190              49   \n",
       "\n",
       "               end station name  end station latitude  end station longitude  \\\n",
       "0              JFK/UMass T Stop             42.320340             -71.051180   \n",
       "1  Maverick Square - Lewis Mall             42.368844             -71.039778   \n",
       "2  Maverick Square - Lewis Mall             42.368844             -71.039778   \n",
       "3        Norman St at Kelvin St             42.409859             -71.066319   \n",
       "4       Stuart St at Charles St             42.351146             -71.066289   \n",
       "\n",
       "   bikeid    usertype  birth year  gender  \n",
       "0    6005    Customer        1969       0  \n",
       "1    3168  Subscriber        2000       1  \n",
       "2    3985  Subscriber        2001       1  \n",
       "3    2692  Subscriber        1978       1  \n",
       "4    4978  Subscriber        1987       1  "
      ],
      "text/html": "<div>\n<style scoped>\n    .dataframe tbody tr th:only-of-type {\n        vertical-align: middle;\n    }\n\n    .dataframe tbody tr th {\n        vertical-align: top;\n    }\n\n    .dataframe thead th {\n        text-align: right;\n    }\n</style>\n<table border=\"1\" class=\"dataframe\">\n  <thead>\n    <tr style=\"text-align: right;\">\n      <th></th>\n      <th>tripduration</th>\n      <th>starttime</th>\n      <th>stoptime</th>\n      <th>start station id</th>\n      <th>start station name</th>\n      <th>start station latitude</th>\n      <th>start station longitude</th>\n      <th>end station id</th>\n      <th>end station name</th>\n      <th>end station latitude</th>\n      <th>end station longitude</th>\n      <th>bikeid</th>\n      <th>usertype</th>\n      <th>birth year</th>\n      <th>gender</th>\n    </tr>\n  </thead>\n  <tbody>\n    <tr>\n      <th>0</th>\n      <td>478</td>\n      <td>2020-01-01 00:04:05.8090</td>\n      <td>2020-01-01 00:12:04.2370</td>\n      <td>366</td>\n      <td>Broadway T Stop</td>\n      <td>42.342781</td>\n      <td>-71.057473</td>\n      <td>93</td>\n      <td>JFK/UMass T Stop</td>\n      <td>42.320340</td>\n      <td>-71.051180</td>\n      <td>6005</td>\n      <td>Customer</td>\n      <td>1969</td>\n      <td>0</td>\n    </tr>\n    <tr>\n      <th>1</th>\n      <td>363</td>\n      <td>2020-01-01 00:04:45.6990</td>\n      <td>2020-01-01 00:10:49.0400</td>\n      <td>219</td>\n      <td>Boston East - 126 Border St</td>\n      <td>42.373312</td>\n      <td>-71.041020</td>\n      <td>212</td>\n      <td>Maverick Square - Lewis Mall</td>\n      <td>42.368844</td>\n      <td>-71.039778</td>\n      <td>3168</td>\n      <td>Subscriber</td>\n      <td>2000</td>\n      <td>1</td>\n    </tr>\n    <tr>\n      <th>2</th>\n      <td>284</td>\n      <td>2020-01-01 00:06:07.0630</td>\n      <td>2020-01-01 00:10:51.9240</td>\n      <td>219</td>\n      <td>Boston East - 126 Border St</td>\n      <td>42.373312</td>\n      <td>-71.041020</td>\n      <td>212</td>\n      <td>Maverick Square - Lewis Mall</td>\n      <td>42.368844</td>\n      <td>-71.039778</td>\n      <td>3985</td>\n      <td>Subscriber</td>\n      <td>2001</td>\n      <td>1</td>\n    </tr>\n    <tr>\n      <th>3</th>\n      <td>193</td>\n      <td>2020-01-01 00:06:13.8550</td>\n      <td>2020-01-01 00:09:27.8320</td>\n      <td>396</td>\n      <td>Main St at Beacon St</td>\n      <td>42.409330</td>\n      <td>-71.063819</td>\n      <td>387</td>\n      <td>Norman St at Kelvin St</td>\n      <td>42.409859</td>\n      <td>-71.066319</td>\n      <td>2692</td>\n      <td>Subscriber</td>\n      <td>1978</td>\n      <td>1</td>\n    </tr>\n    <tr>\n      <th>4</th>\n      <td>428</td>\n      <td>2020-01-01 00:07:25.2950</td>\n      <td>2020-01-01 00:14:33.7800</td>\n      <td>60</td>\n      <td>Charles Circle - Charles St at Cambridge St</td>\n      <td>42.360793</td>\n      <td>-71.071190</td>\n      <td>49</td>\n      <td>Stuart St at Charles St</td>\n      <td>42.351146</td>\n      <td>-71.066289</td>\n      <td>4978</td>\n      <td>Subscriber</td>\n      <td>1987</td>\n      <td>1</td>\n    </tr>\n  </tbody>\n</table>\n</div>"
     },
     "metadata": {},
     "execution_count": 166
    }
   ],
   "source": [
    "df_01_copy.head()"
   ]
  },
  {
   "cell_type": "code",
   "execution_count": 168,
   "metadata": {},
   "outputs": [
    {
     "output_type": "execute_result",
     "data": {
      "text/plain": [
       "   tripduration                 starttime                  stoptime  \\\n",
       "0          1160  2020-06-01 00:00:25.6240  2020-06-01 00:19:45.7010   \n",
       "1          1419  2020-06-01 00:01:09.3800  2020-06-01 00:24:48.9520   \n",
       "2          1093  2020-06-01 00:01:29.4790  2020-06-01 00:19:43.3530   \n",
       "3          1067  2020-06-01 00:01:35.8540  2020-06-01 00:19:23.3250   \n",
       "4          1391  2020-06-01 00:01:51.0390  2020-06-01 00:25:02.8460   \n",
       "\n",
       "   start station id                   start station name  \\\n",
       "0               192              Purchase St at Pearl St   \n",
       "1               355  Bennington St at Constitution Beach   \n",
       "2               131                Jackson Square T Stop   \n",
       "3               131                Jackson Square T Stop   \n",
       "4               355  Bennington St at Constitution Beach   \n",
       "\n",
       "   start station latitude  start station longitude  end station id  \\\n",
       "0               42.354659               -71.053181             366   \n",
       "1               42.385224               -71.010631             355   \n",
       "2               42.322931               -71.100141             331   \n",
       "3               42.322931               -71.100141             331   \n",
       "4               42.385224               -71.010631             355   \n",
       "\n",
       "                      end station name  end station latitude  \\\n",
       "0                      Broadway T Stop             42.342781   \n",
       "1  Bennington St at Constitution Beach             42.385224   \n",
       "2           Huntington Ave at Mass Art             42.336586   \n",
       "3           Huntington Ave at Mass Art             42.336586   \n",
       "4  Bennington St at Constitution Beach             42.385224   \n",
       "\n",
       "   end station longitude  bikeid    usertype postal code  \n",
       "0             -71.057473    2831    Customer         NaN  \n",
       "1             -71.010631    5696    Customer       02128  \n",
       "2             -71.098870    3922  Subscriber       10570  \n",
       "3             -71.098870    3361  Subscriber       10570  \n",
       "4             -71.010631    3621    Customer       01902  "
      ],
      "text/html": "<div>\n<style scoped>\n    .dataframe tbody tr th:only-of-type {\n        vertical-align: middle;\n    }\n\n    .dataframe tbody tr th {\n        vertical-align: top;\n    }\n\n    .dataframe thead th {\n        text-align: right;\n    }\n</style>\n<table border=\"1\" class=\"dataframe\">\n  <thead>\n    <tr style=\"text-align: right;\">\n      <th></th>\n      <th>tripduration</th>\n      <th>starttime</th>\n      <th>stoptime</th>\n      <th>start station id</th>\n      <th>start station name</th>\n      <th>start station latitude</th>\n      <th>start station longitude</th>\n      <th>end station id</th>\n      <th>end station name</th>\n      <th>end station latitude</th>\n      <th>end station longitude</th>\n      <th>bikeid</th>\n      <th>usertype</th>\n      <th>postal code</th>\n    </tr>\n  </thead>\n  <tbody>\n    <tr>\n      <th>0</th>\n      <td>1160</td>\n      <td>2020-06-01 00:00:25.6240</td>\n      <td>2020-06-01 00:19:45.7010</td>\n      <td>192</td>\n      <td>Purchase St at Pearl St</td>\n      <td>42.354659</td>\n      <td>-71.053181</td>\n      <td>366</td>\n      <td>Broadway T Stop</td>\n      <td>42.342781</td>\n      <td>-71.057473</td>\n      <td>2831</td>\n      <td>Customer</td>\n      <td>NaN</td>\n    </tr>\n    <tr>\n      <th>1</th>\n      <td>1419</td>\n      <td>2020-06-01 00:01:09.3800</td>\n      <td>2020-06-01 00:24:48.9520</td>\n      <td>355</td>\n      <td>Bennington St at Constitution Beach</td>\n      <td>42.385224</td>\n      <td>-71.010631</td>\n      <td>355</td>\n      <td>Bennington St at Constitution Beach</td>\n      <td>42.385224</td>\n      <td>-71.010631</td>\n      <td>5696</td>\n      <td>Customer</td>\n      <td>02128</td>\n    </tr>\n    <tr>\n      <th>2</th>\n      <td>1093</td>\n      <td>2020-06-01 00:01:29.4790</td>\n      <td>2020-06-01 00:19:43.3530</td>\n      <td>131</td>\n      <td>Jackson Square T Stop</td>\n      <td>42.322931</td>\n      <td>-71.100141</td>\n      <td>331</td>\n      <td>Huntington Ave at Mass Art</td>\n      <td>42.336586</td>\n      <td>-71.098870</td>\n      <td>3922</td>\n      <td>Subscriber</td>\n      <td>10570</td>\n    </tr>\n    <tr>\n      <th>3</th>\n      <td>1067</td>\n      <td>2020-06-01 00:01:35.8540</td>\n      <td>2020-06-01 00:19:23.3250</td>\n      <td>131</td>\n      <td>Jackson Square T Stop</td>\n      <td>42.322931</td>\n      <td>-71.100141</td>\n      <td>331</td>\n      <td>Huntington Ave at Mass Art</td>\n      <td>42.336586</td>\n      <td>-71.098870</td>\n      <td>3361</td>\n      <td>Subscriber</td>\n      <td>10570</td>\n    </tr>\n    <tr>\n      <th>4</th>\n      <td>1391</td>\n      <td>2020-06-01 00:01:51.0390</td>\n      <td>2020-06-01 00:25:02.8460</td>\n      <td>355</td>\n      <td>Bennington St at Constitution Beach</td>\n      <td>42.385224</td>\n      <td>-71.010631</td>\n      <td>355</td>\n      <td>Bennington St at Constitution Beach</td>\n      <td>42.385224</td>\n      <td>-71.010631</td>\n      <td>3621</td>\n      <td>Customer</td>\n      <td>01902</td>\n    </tr>\n  </tbody>\n</table>\n</div>"
     },
     "metadata": {},
     "execution_count": 168
    }
   ],
   "source": [
    "df_06_copy.head()"
   ]
  },
  {
   "cell_type": "code",
   "execution_count": 170,
   "metadata": {},
   "outputs": [],
   "source": [
    "df_concatenated = pandas.concat([df_01_copy, df_06_copy], axis=1)\n"
   ]
  },
  {
   "cell_type": "code",
   "execution_count": 171,
   "metadata": {},
   "outputs": [
    {
     "output_type": "execute_result",
     "data": {
      "text/plain": [
       "   tripduration                 starttime                  stoptime  \\\n",
       "0         478.0  2020-01-01 00:04:05.8090  2020-01-01 00:12:04.2370   \n",
       "1         363.0  2020-01-01 00:04:45.6990  2020-01-01 00:10:49.0400   \n",
       "2         284.0  2020-01-01 00:06:07.0630  2020-01-01 00:10:51.9240   \n",
       "3         193.0  2020-01-01 00:06:13.8550  2020-01-01 00:09:27.8320   \n",
       "4         428.0  2020-01-01 00:07:25.2950  2020-01-01 00:14:33.7800   \n",
       "\n",
       "   start station id                           start station name  \\\n",
       "0             366.0                              Broadway T Stop   \n",
       "1             219.0                  Boston East - 126 Border St   \n",
       "2             219.0                  Boston East - 126 Border St   \n",
       "3             396.0                         Main St at Beacon St   \n",
       "4              60.0  Charles Circle - Charles St at Cambridge St   \n",
       "\n",
       "   start station latitude start station longitude  end station id  \\\n",
       "0               42.342781              -71.057473            93.0   \n",
       "1               42.373312              -71.041020           212.0   \n",
       "2               42.373312              -71.041020           212.0   \n",
       "3               42.409330              -71.063819           387.0   \n",
       "4               42.360793              -71.071190            49.0   \n",
       "\n",
       "               end station name  end station latitude  ...  \\\n",
       "0              JFK/UMass T Stop             42.320340  ...   \n",
       "1  Maverick Square - Lewis Mall             42.368844  ...   \n",
       "2  Maverick Square - Lewis Mall             42.368844  ...   \n",
       "3        Norman St at Kelvin St             42.409859  ...   \n",
       "4       Stuart St at Charles St             42.351146  ...   \n",
       "\n",
       "                    start station name  start station latitude  \\\n",
       "0              Purchase St at Pearl St               42.354659   \n",
       "1  Bennington St at Constitution Beach               42.385224   \n",
       "2                Jackson Square T Stop               42.322931   \n",
       "3                Jackson Square T Stop               42.322931   \n",
       "4  Bennington St at Constitution Beach               42.385224   \n",
       "\n",
       "  start station longitude  end station id  \\\n",
       "0              -71.053181             366   \n",
       "1              -71.010631             355   \n",
       "2              -71.100141             331   \n",
       "3              -71.100141             331   \n",
       "4              -71.010631             355   \n",
       "\n",
       "                      end station name  end station latitude  \\\n",
       "0                      Broadway T Stop             42.342781   \n",
       "1  Bennington St at Constitution Beach             42.385224   \n",
       "2           Huntington Ave at Mass Art             42.336586   \n",
       "3           Huntington Ave at Mass Art             42.336586   \n",
       "4  Bennington St at Constitution Beach             42.385224   \n",
       "\n",
       "  end station longitude bikeid    usertype postal code  \n",
       "0            -71.057473   2831    Customer         NaN  \n",
       "1            -71.010631   5696    Customer       02128  \n",
       "2            -71.098870   3922  Subscriber       10570  \n",
       "3            -71.098870   3361  Subscriber       10570  \n",
       "4            -71.010631   3621    Customer       01902  \n",
       "\n",
       "[5 rows x 29 columns]"
      ],
      "text/html": "<div>\n<style scoped>\n    .dataframe tbody tr th:only-of-type {\n        vertical-align: middle;\n    }\n\n    .dataframe tbody tr th {\n        vertical-align: top;\n    }\n\n    .dataframe thead th {\n        text-align: right;\n    }\n</style>\n<table border=\"1\" class=\"dataframe\">\n  <thead>\n    <tr style=\"text-align: right;\">\n      <th></th>\n      <th>tripduration</th>\n      <th>starttime</th>\n      <th>stoptime</th>\n      <th>start station id</th>\n      <th>start station name</th>\n      <th>start station latitude</th>\n      <th>start station longitude</th>\n      <th>end station id</th>\n      <th>end station name</th>\n      <th>end station latitude</th>\n      <th>...</th>\n      <th>start station name</th>\n      <th>start station latitude</th>\n      <th>start station longitude</th>\n      <th>end station id</th>\n      <th>end station name</th>\n      <th>end station latitude</th>\n      <th>end station longitude</th>\n      <th>bikeid</th>\n      <th>usertype</th>\n      <th>postal code</th>\n    </tr>\n  </thead>\n  <tbody>\n    <tr>\n      <th>0</th>\n      <td>478.0</td>\n      <td>2020-01-01 00:04:05.8090</td>\n      <td>2020-01-01 00:12:04.2370</td>\n      <td>366.0</td>\n      <td>Broadway T Stop</td>\n      <td>42.342781</td>\n      <td>-71.057473</td>\n      <td>93.0</td>\n      <td>JFK/UMass T Stop</td>\n      <td>42.320340</td>\n      <td>...</td>\n      <td>Purchase St at Pearl St</td>\n      <td>42.354659</td>\n      <td>-71.053181</td>\n      <td>366</td>\n      <td>Broadway T Stop</td>\n      <td>42.342781</td>\n      <td>-71.057473</td>\n      <td>2831</td>\n      <td>Customer</td>\n      <td>NaN</td>\n    </tr>\n    <tr>\n      <th>1</th>\n      <td>363.0</td>\n      <td>2020-01-01 00:04:45.6990</td>\n      <td>2020-01-01 00:10:49.0400</td>\n      <td>219.0</td>\n      <td>Boston East - 126 Border St</td>\n      <td>42.373312</td>\n      <td>-71.041020</td>\n      <td>212.0</td>\n      <td>Maverick Square - Lewis Mall</td>\n      <td>42.368844</td>\n      <td>...</td>\n      <td>Bennington St at Constitution Beach</td>\n      <td>42.385224</td>\n      <td>-71.010631</td>\n      <td>355</td>\n      <td>Bennington St at Constitution Beach</td>\n      <td>42.385224</td>\n      <td>-71.010631</td>\n      <td>5696</td>\n      <td>Customer</td>\n      <td>02128</td>\n    </tr>\n    <tr>\n      <th>2</th>\n      <td>284.0</td>\n      <td>2020-01-01 00:06:07.0630</td>\n      <td>2020-01-01 00:10:51.9240</td>\n      <td>219.0</td>\n      <td>Boston East - 126 Border St</td>\n      <td>42.373312</td>\n      <td>-71.041020</td>\n      <td>212.0</td>\n      <td>Maverick Square - Lewis Mall</td>\n      <td>42.368844</td>\n      <td>...</td>\n      <td>Jackson Square T Stop</td>\n      <td>42.322931</td>\n      <td>-71.100141</td>\n      <td>331</td>\n      <td>Huntington Ave at Mass Art</td>\n      <td>42.336586</td>\n      <td>-71.098870</td>\n      <td>3922</td>\n      <td>Subscriber</td>\n      <td>10570</td>\n    </tr>\n    <tr>\n      <th>3</th>\n      <td>193.0</td>\n      <td>2020-01-01 00:06:13.8550</td>\n      <td>2020-01-01 00:09:27.8320</td>\n      <td>396.0</td>\n      <td>Main St at Beacon St</td>\n      <td>42.409330</td>\n      <td>-71.063819</td>\n      <td>387.0</td>\n      <td>Norman St at Kelvin St</td>\n      <td>42.409859</td>\n      <td>...</td>\n      <td>Jackson Square T Stop</td>\n      <td>42.322931</td>\n      <td>-71.100141</td>\n      <td>331</td>\n      <td>Huntington Ave at Mass Art</td>\n      <td>42.336586</td>\n      <td>-71.098870</td>\n      <td>3361</td>\n      <td>Subscriber</td>\n      <td>10570</td>\n    </tr>\n    <tr>\n      <th>4</th>\n      <td>428.0</td>\n      <td>2020-01-01 00:07:25.2950</td>\n      <td>2020-01-01 00:14:33.7800</td>\n      <td>60.0</td>\n      <td>Charles Circle - Charles St at Cambridge St</td>\n      <td>42.360793</td>\n      <td>-71.071190</td>\n      <td>49.0</td>\n      <td>Stuart St at Charles St</td>\n      <td>42.351146</td>\n      <td>...</td>\n      <td>Bennington St at Constitution Beach</td>\n      <td>42.385224</td>\n      <td>-71.010631</td>\n      <td>355</td>\n      <td>Bennington St at Constitution Beach</td>\n      <td>42.385224</td>\n      <td>-71.010631</td>\n      <td>3621</td>\n      <td>Customer</td>\n      <td>01902</td>\n    </tr>\n  </tbody>\n</table>\n<p>5 rows × 29 columns</p>\n</div>"
     },
     "metadata": {},
     "execution_count": 171
    }
   ],
   "source": [
    "df_concatenated.head()"
   ]
  },
  {
   "cell_type": "code",
   "execution_count": 192,
   "metadata": {},
   "outputs": [],
   "source": [
    "df_concatenated_columns_all = pandas.concat([df_01_copy, df_02_copy, df_03_copy, df_04_copy, df_05_copy, df_06_copy, df_07_copy, df_08_copy, df_09_copy, df_10_copy, df_11_copy, df_12_copy,])\n"
   ]
  },
  {
   "cell_type": "code",
   "execution_count": 193,
   "metadata": {},
   "outputs": [
    {
     "output_type": "execute_result",
     "data": {
      "text/plain": [
       "   tripduration                 starttime                  stoptime  \\\n",
       "0           478  2020-01-01 00:04:05.8090  2020-01-01 00:12:04.2370   \n",
       "1           363  2020-01-01 00:04:45.6990  2020-01-01 00:10:49.0400   \n",
       "2           284  2020-01-01 00:06:07.0630  2020-01-01 00:10:51.9240   \n",
       "3           193  2020-01-01 00:06:13.8550  2020-01-01 00:09:27.8320   \n",
       "4           428  2020-01-01 00:07:25.2950  2020-01-01 00:14:33.7800   \n",
       "\n",
       "   start station id                           start station name  \\\n",
       "0               366                              Broadway T Stop   \n",
       "1               219                  Boston East - 126 Border St   \n",
       "2               219                  Boston East - 126 Border St   \n",
       "3               396                         Main St at Beacon St   \n",
       "4                60  Charles Circle - Charles St at Cambridge St   \n",
       "\n",
       "   start station latitude  start station longitude  end station id  \\\n",
       "0               42.342781               -71.057473              93   \n",
       "1               42.373312               -71.041020             212   \n",
       "2               42.373312               -71.041020             212   \n",
       "3               42.409330               -71.063819             387   \n",
       "4               42.360793               -71.071190              49   \n",
       "\n",
       "               end station name  end station latitude  end station longitude  \\\n",
       "0              JFK/UMass T Stop             42.320340             -71.051180   \n",
       "1  Maverick Square - Lewis Mall             42.368844             -71.039778   \n",
       "2  Maverick Square - Lewis Mall             42.368844             -71.039778   \n",
       "3        Norman St at Kelvin St             42.409859             -71.066319   \n",
       "4       Stuart St at Charles St             42.351146             -71.066289   \n",
       "\n",
       "   bikeid    usertype  birth year  gender postal code  \n",
       "0    6005    Customer      1969.0     0.0         NaN  \n",
       "1    3168  Subscriber      2000.0     1.0         NaN  \n",
       "2    3985  Subscriber      2001.0     1.0         NaN  \n",
       "3    2692  Subscriber      1978.0     1.0         NaN  \n",
       "4    4978  Subscriber      1987.0     1.0         NaN  "
      ],
      "text/html": "<div>\n<style scoped>\n    .dataframe tbody tr th:only-of-type {\n        vertical-align: middle;\n    }\n\n    .dataframe tbody tr th {\n        vertical-align: top;\n    }\n\n    .dataframe thead th {\n        text-align: right;\n    }\n</style>\n<table border=\"1\" class=\"dataframe\">\n  <thead>\n    <tr style=\"text-align: right;\">\n      <th></th>\n      <th>tripduration</th>\n      <th>starttime</th>\n      <th>stoptime</th>\n      <th>start station id</th>\n      <th>start station name</th>\n      <th>start station latitude</th>\n      <th>start station longitude</th>\n      <th>end station id</th>\n      <th>end station name</th>\n      <th>end station latitude</th>\n      <th>end station longitude</th>\n      <th>bikeid</th>\n      <th>usertype</th>\n      <th>birth year</th>\n      <th>gender</th>\n      <th>postal code</th>\n    </tr>\n  </thead>\n  <tbody>\n    <tr>\n      <th>0</th>\n      <td>478</td>\n      <td>2020-01-01 00:04:05.8090</td>\n      <td>2020-01-01 00:12:04.2370</td>\n      <td>366</td>\n      <td>Broadway T Stop</td>\n      <td>42.342781</td>\n      <td>-71.057473</td>\n      <td>93</td>\n      <td>JFK/UMass T Stop</td>\n      <td>42.320340</td>\n      <td>-71.051180</td>\n      <td>6005</td>\n      <td>Customer</td>\n      <td>1969.0</td>\n      <td>0.0</td>\n      <td>NaN</td>\n    </tr>\n    <tr>\n      <th>1</th>\n      <td>363</td>\n      <td>2020-01-01 00:04:45.6990</td>\n      <td>2020-01-01 00:10:49.0400</td>\n      <td>219</td>\n      <td>Boston East - 126 Border St</td>\n      <td>42.373312</td>\n      <td>-71.041020</td>\n      <td>212</td>\n      <td>Maverick Square - Lewis Mall</td>\n      <td>42.368844</td>\n      <td>-71.039778</td>\n      <td>3168</td>\n      <td>Subscriber</td>\n      <td>2000.0</td>\n      <td>1.0</td>\n      <td>NaN</td>\n    </tr>\n    <tr>\n      <th>2</th>\n      <td>284</td>\n      <td>2020-01-01 00:06:07.0630</td>\n      <td>2020-01-01 00:10:51.9240</td>\n      <td>219</td>\n      <td>Boston East - 126 Border St</td>\n      <td>42.373312</td>\n      <td>-71.041020</td>\n      <td>212</td>\n      <td>Maverick Square - Lewis Mall</td>\n      <td>42.368844</td>\n      <td>-71.039778</td>\n      <td>3985</td>\n      <td>Subscriber</td>\n      <td>2001.0</td>\n      <td>1.0</td>\n      <td>NaN</td>\n    </tr>\n    <tr>\n      <th>3</th>\n      <td>193</td>\n      <td>2020-01-01 00:06:13.8550</td>\n      <td>2020-01-01 00:09:27.8320</td>\n      <td>396</td>\n      <td>Main St at Beacon St</td>\n      <td>42.409330</td>\n      <td>-71.063819</td>\n      <td>387</td>\n      <td>Norman St at Kelvin St</td>\n      <td>42.409859</td>\n      <td>-71.066319</td>\n      <td>2692</td>\n      <td>Subscriber</td>\n      <td>1978.0</td>\n      <td>1.0</td>\n      <td>NaN</td>\n    </tr>\n    <tr>\n      <th>4</th>\n      <td>428</td>\n      <td>2020-01-01 00:07:25.2950</td>\n      <td>2020-01-01 00:14:33.7800</td>\n      <td>60</td>\n      <td>Charles Circle - Charles St at Cambridge St</td>\n      <td>42.360793</td>\n      <td>-71.071190</td>\n      <td>49</td>\n      <td>Stuart St at Charles St</td>\n      <td>42.351146</td>\n      <td>-71.066289</td>\n      <td>4978</td>\n      <td>Subscriber</td>\n      <td>1987.0</td>\n      <td>1.0</td>\n      <td>NaN</td>\n    </tr>\n  </tbody>\n</table>\n</div>"
     },
     "metadata": {},
     "execution_count": 193
    }
   ],
   "source": [
    "df_concatenated_columns_all.head()"
   ]
  },
  {
   "cell_type": "code",
   "execution_count": 194,
   "metadata": {},
   "outputs": [
    {
     "output_type": "stream",
     "name": "stdout",
     "text": [
      "<class 'pandas.core.frame.DataFrame'>\nInt64Index: 2073448 entries, 0 to 74001\nData columns (total 16 columns):\n #   Column                   Dtype  \n---  ------                   -----  \n 0   tripduration             int64  \n 1   starttime                object \n 2   stoptime                 object \n 3   start station id         int64  \n 4   start station name       object \n 5   start station latitude   float64\n 6   start station longitude  float64\n 7   end station id           int64  \n 8   end station name         object \n 9   end station latitude     float64\n 10  end station longitude    float64\n 11  bikeid                   int64  \n 12  usertype                 object \n 13  birth year               float64\n 14  gender                   float64\n 15  postal code              object \ndtypes: float64(6), int64(4), object(6)\nmemory usage: 268.9+ MB\n"
     ]
    }
   ],
   "source": [
    "df_concatenated_columns_all.info()"
   ]
  },
  {
   "cell_type": "code",
   "execution_count": 195,
   "metadata": {},
   "outputs": [
    {
     "output_type": "execute_result",
     "data": {
      "text/plain": [
       "(2073448, 16)"
      ]
     },
     "metadata": {},
     "execution_count": 195
    }
   ],
   "source": [
    "df_concatenated_columns_all.shape"
   ]
  },
  {
   "cell_type": "code",
   "execution_count": null,
   "metadata": {},
   "outputs": [],
   "source": []
  },
  {
   "cell_type": "code",
   "execution_count": null,
   "metadata": {},
   "outputs": [],
   "source": []
  },
  {
   "cell_type": "code",
   "execution_count": null,
   "metadata": {},
   "outputs": [],
   "source": []
  },
  {
   "source": [
    "### Test"
   ],
   "cell_type": "markdown",
   "metadata": {}
  },
  {
   "cell_type": "code",
   "execution_count": null,
   "metadata": {},
   "outputs": [],
   "source": []
  }
 ],
 "metadata": {
  "kernelspec": {
   "name": "python3",
   "display_name": "Python 3.8.5 64-bit ('base': conda)",
   "metadata": {
    "interpreter": {
     "hash": "94a5e2267bb68d269dd9f387cea6be90041024604c23baf599719be89ba72eed"
    }
   }
  },
  "language_info": {
   "codemirror_mode": {
    "name": "ipython",
    "version": 3
   },
   "file_extension": ".py",
   "mimetype": "text/x-python",
   "name": "python",
   "nbconvert_exporter": "python",
   "pygments_lexer": "ipython3",
   "version": "3.8.5-final"
  }
 },
 "nbformat": 4,
 "nbformat_minor": 4
}