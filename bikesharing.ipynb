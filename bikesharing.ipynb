{
 "cells": [
  {
   "cell_type": "markdown",
   "metadata": {},
   "source": [
    "# Udacity Project - Bikesharing Dataset\n",
    "\n",
    "## Data Wrangling and Data Visualisation\n",
    "\n",
    "This data set includes information about individual rides made in a bike-sharing system covering the greater Boston area. \n",
    "\n",
    "Table of Contents\n",
    "- Introduction of the dataset and Analysis Plan\n",
    "- Data Wrangling\n",
    "- Explonatory Data Analysis\n",
    "- Explanatory Data Analysis"
   ]
  },
  {
   "source": [
    "# Introduction of the dataset and Analysis Plan\n",
    "\n",
    "**Structure of the dataset**\n",
    "\n",
    "- I have 12 csv's, for the 12 months of 2020. Ideally, I would like to see all 12 in one dataset, so I can have a wider range in time to draw conclusions from.\n",
    "\n",
    "- Most of the cvs's have 15 columns with a few having only 14. \n",
    "- Need to make sure I'm not missing data so will reduce the ones with 15 rows to 14 before I merge them together. \n",
    "- Different months have different amount of entries, but that's normal and I will not manipulate that.\n",
    "\n",
    "- I will look at the datasets' statistics, datatypes, missing and duplicated values as well as visually assess them to see if there is any need for cleaning.\n",
    "\n",
    "**Columns**\n",
    "- **tripduration**: trip duration in seconds\n",
    "- **starttime**: the time the rental started\n",
    "- **stoptime**: the time teh rental ended\n",
    "- **start station id**: where the rental started\n",
    "- **end station id**: where the rental ended\n",
    "- **start station latitude**: gps coordinates of start station\n",
    "- **start station longitude**: gps coordinates of start station\n",
    "- **end station latitude**: gps coordinates of end station\n",
    "- **end station longitude**: gps coordinates of end station\n",
    "- **bikeid**: identificator of the bike used\n",
    "- **usertype**: if the user has subscription or not\n",
    "\n",
    "\n",
    "**Insights to explore**\n",
    "\n",
    "- How long does the average trip takes?\n",
    "- Which are the most used start and end stations?\n",
    "- When are the most trips taken in terms of time of day, day of the week, or month of the year?\n",
    "- Which season is the most popular to ride a bike?\n",
    "- Does these depend on if a user is a subscriber or customer?\n",
    "\n",
    "**Features in the dataset the will help support the investigation?**\n",
    "\n",
    "Trip duration, Start time, End time, Start station, End Station, Usertype\n"
   ],
   "cell_type": "markdown",
   "metadata": {}
  },
  {
   "source": [
    "# Data Wrangling\n"
   ],
   "cell_type": "markdown",
   "metadata": {}
  },
  {
   "cell_type": "code",
   "execution_count": 1,
   "metadata": {},
   "outputs": [],
   "source": [
    "# import libraries \n",
    "import numpy as np\n",
    "import pandas as pandas\n",
    "import matplotlib.pyplot as plt\n",
    "import seaborn as sb\n",
    "\n",
    "%matplotlib inline"
   ]
  },
  {
   "source": [
    "## Assessment"
   ],
   "cell_type": "markdown",
   "metadata": {}
  },
  {
   "cell_type": "code",
   "execution_count": 2,
   "metadata": {},
   "outputs": [
    {
     "output_type": "execute_result",
     "data": {
      "text/plain": [
       "   tripduration                 starttime                  stoptime  \\\n",
       "0           478  2020-01-01 00:04:05.8090  2020-01-01 00:12:04.2370   \n",
       "1           363  2020-01-01 00:04:45.6990  2020-01-01 00:10:49.0400   \n",
       "2           284  2020-01-01 00:06:07.0630  2020-01-01 00:10:51.9240   \n",
       "3           193  2020-01-01 00:06:13.8550  2020-01-01 00:09:27.8320   \n",
       "4           428  2020-01-01 00:07:25.2950  2020-01-01 00:14:33.7800   \n",
       "\n",
       "   start station id                           start station name  \\\n",
       "0               366                              Broadway T Stop   \n",
       "1               219                  Boston East - 126 Border St   \n",
       "2               219                  Boston East - 126 Border St   \n",
       "3               396                         Main St at Beacon St   \n",
       "4                60  Charles Circle - Charles St at Cambridge St   \n",
       "\n",
       "   start station latitude  start station longitude  end station id  \\\n",
       "0               42.342781               -71.057473              93   \n",
       "1               42.373312               -71.041020             212   \n",
       "2               42.373312               -71.041020             212   \n",
       "3               42.409330               -71.063819             387   \n",
       "4               42.360793               -71.071190              49   \n",
       "\n",
       "               end station name  end station latitude  end station longitude  \\\n",
       "0              JFK/UMass T Stop             42.320340             -71.051180   \n",
       "1  Maverick Square - Lewis Mall             42.368844             -71.039778   \n",
       "2  Maverick Square - Lewis Mall             42.368844             -71.039778   \n",
       "3        Norman St at Kelvin St             42.409859             -71.066319   \n",
       "4       Stuart St at Charles St             42.351146             -71.066289   \n",
       "\n",
       "   bikeid    usertype  birth year  gender  \n",
       "0    6005    Customer        1969       0  \n",
       "1    3168  Subscriber        2000       1  \n",
       "2    3985  Subscriber        2001       1  \n",
       "3    2692  Subscriber        1978       1  \n",
       "4    4978  Subscriber        1987       1  "
      ],
      "text/html": "<div>\n<style scoped>\n    .dataframe tbody tr th:only-of-type {\n        vertical-align: middle;\n    }\n\n    .dataframe tbody tr th {\n        vertical-align: top;\n    }\n\n    .dataframe thead th {\n        text-align: right;\n    }\n</style>\n<table border=\"1\" class=\"dataframe\">\n  <thead>\n    <tr style=\"text-align: right;\">\n      <th></th>\n      <th>tripduration</th>\n      <th>starttime</th>\n      <th>stoptime</th>\n      <th>start station id</th>\n      <th>start station name</th>\n      <th>start station latitude</th>\n      <th>start station longitude</th>\n      <th>end station id</th>\n      <th>end station name</th>\n      <th>end station latitude</th>\n      <th>end station longitude</th>\n      <th>bikeid</th>\n      <th>usertype</th>\n      <th>birth year</th>\n      <th>gender</th>\n    </tr>\n  </thead>\n  <tbody>\n    <tr>\n      <th>0</th>\n      <td>478</td>\n      <td>2020-01-01 00:04:05.8090</td>\n      <td>2020-01-01 00:12:04.2370</td>\n      <td>366</td>\n      <td>Broadway T Stop</td>\n      <td>42.342781</td>\n      <td>-71.057473</td>\n      <td>93</td>\n      <td>JFK/UMass T Stop</td>\n      <td>42.320340</td>\n      <td>-71.051180</td>\n      <td>6005</td>\n      <td>Customer</td>\n      <td>1969</td>\n      <td>0</td>\n    </tr>\n    <tr>\n      <th>1</th>\n      <td>363</td>\n      <td>2020-01-01 00:04:45.6990</td>\n      <td>2020-01-01 00:10:49.0400</td>\n      <td>219</td>\n      <td>Boston East - 126 Border St</td>\n      <td>42.373312</td>\n      <td>-71.041020</td>\n      <td>212</td>\n      <td>Maverick Square - Lewis Mall</td>\n      <td>42.368844</td>\n      <td>-71.039778</td>\n      <td>3168</td>\n      <td>Subscriber</td>\n      <td>2000</td>\n      <td>1</td>\n    </tr>\n    <tr>\n      <th>2</th>\n      <td>284</td>\n      <td>2020-01-01 00:06:07.0630</td>\n      <td>2020-01-01 00:10:51.9240</td>\n      <td>219</td>\n      <td>Boston East - 126 Border St</td>\n      <td>42.373312</td>\n      <td>-71.041020</td>\n      <td>212</td>\n      <td>Maverick Square - Lewis Mall</td>\n      <td>42.368844</td>\n      <td>-71.039778</td>\n      <td>3985</td>\n      <td>Subscriber</td>\n      <td>2001</td>\n      <td>1</td>\n    </tr>\n    <tr>\n      <th>3</th>\n      <td>193</td>\n      <td>2020-01-01 00:06:13.8550</td>\n      <td>2020-01-01 00:09:27.8320</td>\n      <td>396</td>\n      <td>Main St at Beacon St</td>\n      <td>42.409330</td>\n      <td>-71.063819</td>\n      <td>387</td>\n      <td>Norman St at Kelvin St</td>\n      <td>42.409859</td>\n      <td>-71.066319</td>\n      <td>2692</td>\n      <td>Subscriber</td>\n      <td>1978</td>\n      <td>1</td>\n    </tr>\n    <tr>\n      <th>4</th>\n      <td>428</td>\n      <td>2020-01-01 00:07:25.2950</td>\n      <td>2020-01-01 00:14:33.7800</td>\n      <td>60</td>\n      <td>Charles Circle - Charles St at Cambridge St</td>\n      <td>42.360793</td>\n      <td>-71.071190</td>\n      <td>49</td>\n      <td>Stuart St at Charles St</td>\n      <td>42.351146</td>\n      <td>-71.066289</td>\n      <td>4978</td>\n      <td>Subscriber</td>\n      <td>1987</td>\n      <td>1</td>\n    </tr>\n  </tbody>\n</table>\n</div>"
     },
     "metadata": {},
     "execution_count": 2
    }
   ],
   "source": [
    "# load in each month's dataset into a pandas dataframe\n",
    "df_01 = pandas.read_csv('202001-bluebikes-tripdata.csv')\n",
    "df_01.head()"
   ]
  },
  {
   "cell_type": "code",
   "execution_count": 3,
   "metadata": {},
   "outputs": [
    {
     "output_type": "execute_result",
     "data": {
      "text/plain": [
       "(128598, 15)"
      ]
     },
     "metadata": {},
     "execution_count": 3
    }
   ],
   "source": [
    "# assess shape\n",
    "df_01.shape"
   ]
  },
  {
   "cell_type": "code",
   "execution_count": 4,
   "metadata": {},
   "outputs": [
    {
     "output_type": "stream",
     "name": "stdout",
     "text": [
      "<class 'pandas.core.frame.DataFrame'>\nRangeIndex: 128598 entries, 0 to 128597\nData columns (total 15 columns):\n #   Column                   Non-Null Count   Dtype  \n---  ------                   --------------   -----  \n 0   tripduration             128598 non-null  int64  \n 1   starttime                128598 non-null  object \n 2   stoptime                 128598 non-null  object \n 3   start station id         128598 non-null  int64  \n 4   start station name       128598 non-null  object \n 5   start station latitude   128598 non-null  float64\n 6   start station longitude  128598 non-null  float64\n 7   end station id           128598 non-null  int64  \n 8   end station name         128598 non-null  object \n 9   end station latitude     128598 non-null  float64\n 10  end station longitude    128598 non-null  float64\n 11  bikeid                   128598 non-null  int64  \n 12  usertype                 128598 non-null  object \n 13  birth year               128598 non-null  int64  \n 14  gender                   128598 non-null  int64  \ndtypes: float64(4), int64(6), object(5)\nmemory usage: 14.7+ MB\n"
     ]
    }
   ],
   "source": [
    "# assess column names in each data set to see which column is missing\n",
    "df_01.info()"
   ]
  },
  {
   "cell_type": "code",
   "execution_count": 5,
   "metadata": {},
   "outputs": [
    {
     "output_type": "execute_result",
     "data": {
      "text/plain": [
       "(133235, 15)"
      ]
     },
     "metadata": {},
     "execution_count": 5
    }
   ],
   "source": [
    "df_02 = pandas.read_csv('202002-bluebikes-tripdata.csv')\n",
    "df_02.shape"
   ]
  },
  {
   "cell_type": "code",
   "execution_count": 6,
   "metadata": {},
   "outputs": [
    {
     "output_type": "stream",
     "name": "stdout",
     "text": [
      "<class 'pandas.core.frame.DataFrame'>\nRangeIndex: 133235 entries, 0 to 133234\nData columns (total 15 columns):\n #   Column                   Non-Null Count   Dtype  \n---  ------                   --------------   -----  \n 0   tripduration             133235 non-null  int64  \n 1   starttime                133235 non-null  object \n 2   stoptime                 133235 non-null  object \n 3   start station id         133235 non-null  int64  \n 4   start station name       133235 non-null  object \n 5   start station latitude   133235 non-null  float64\n 6   start station longitude  133235 non-null  float64\n 7   end station id           133235 non-null  int64  \n 8   end station name         133235 non-null  object \n 9   end station latitude     133235 non-null  float64\n 10  end station longitude    133235 non-null  float64\n 11  bikeid                   133235 non-null  int64  \n 12  usertype                 133235 non-null  object \n 13  birth year               133235 non-null  int64  \n 14  gender                   133235 non-null  int64  \ndtypes: float64(4), int64(6), object(5)\nmemory usage: 15.2+ MB\n"
     ]
    }
   ],
   "source": [
    "# assess column names in each data set to see which column is missing\n",
    "df_02.info()"
   ]
  },
  {
   "cell_type": "code",
   "execution_count": 7,
   "metadata": {},
   "outputs": [
    {
     "output_type": "execute_result",
     "data": {
      "text/plain": [
       "(107350, 15)"
      ]
     },
     "metadata": {},
     "execution_count": 7
    }
   ],
   "source": [
    "df_03 = pandas.read_csv('202003-bluebikes-tripdata.csv')\n",
    "df_03.shape"
   ]
  },
  {
   "cell_type": "code",
   "execution_count": 8,
   "metadata": {},
   "outputs": [
    {
     "output_type": "stream",
     "name": "stdout",
     "text": [
      "<class 'pandas.core.frame.DataFrame'>\nRangeIndex: 107350 entries, 0 to 107349\nData columns (total 15 columns):\n #   Column                   Non-Null Count   Dtype  \n---  ------                   --------------   -----  \n 0   tripduration             107350 non-null  int64  \n 1   starttime                107350 non-null  object \n 2   stoptime                 107350 non-null  object \n 3   start station id         107350 non-null  int64  \n 4   start station name       107350 non-null  object \n 5   start station latitude   107350 non-null  float64\n 6   start station longitude  107350 non-null  float64\n 7   end station id           107350 non-null  int64  \n 8   end station name         107350 non-null  object \n 9   end station latitude     107350 non-null  float64\n 10  end station longitude    107350 non-null  float64\n 11  bikeid                   107350 non-null  int64  \n 12  usertype                 107350 non-null  object \n 13  birth year               107350 non-null  int64  \n 14  gender                   107350 non-null  int64  \ndtypes: float64(4), int64(6), object(5)\nmemory usage: 12.3+ MB\n"
     ]
    }
   ],
   "source": [
    "# assess column names in each data set to see which column is missing\n",
    "df_03.info()"
   ]
  },
  {
   "cell_type": "code",
   "execution_count": 9,
   "metadata": {},
   "outputs": [
    {
     "output_type": "execute_result",
     "data": {
      "text/plain": [
       "(46793, 15)"
      ]
     },
     "metadata": {},
     "execution_count": 9
    }
   ],
   "source": [
    "df_04 = pandas.read_csv('202004-bluebikes-tripdata.csv')\n",
    "df_04.shape"
   ]
  },
  {
   "cell_type": "code",
   "execution_count": 10,
   "metadata": {},
   "outputs": [
    {
     "output_type": "stream",
     "name": "stdout",
     "text": [
      "<class 'pandas.core.frame.DataFrame'>\nRangeIndex: 46793 entries, 0 to 46792\nData columns (total 15 columns):\n #   Column                   Non-Null Count  Dtype  \n---  ------                   --------------  -----  \n 0   tripduration             46793 non-null  int64  \n 1   starttime                46793 non-null  object \n 2   stoptime                 46793 non-null  object \n 3   start station id         46793 non-null  int64  \n 4   start station name       46793 non-null  object \n 5   start station latitude   46793 non-null  float64\n 6   start station longitude  46793 non-null  float64\n 7   end station id           46793 non-null  int64  \n 8   end station name         46793 non-null  object \n 9   end station latitude     46793 non-null  float64\n 10  end station longitude    46793 non-null  float64\n 11  bikeid                   46793 non-null  int64  \n 12  usertype                 46793 non-null  object \n 13  birth year               46793 non-null  int64  \n 14  gender                   46793 non-null  int64  \ndtypes: float64(4), int64(6), object(5)\nmemory usage: 5.4+ MB\n"
     ]
    }
   ],
   "source": [
    "# assess column names in each data set to see which column is missing\n",
    "df_04.info()"
   ]
  },
  {
   "cell_type": "code",
   "execution_count": 11,
   "metadata": {},
   "outputs": [
    {
     "output_type": "execute_result",
     "data": {
      "text/plain": [
       "(124879, 14)"
      ]
     },
     "metadata": {},
     "execution_count": 11
    }
   ],
   "source": [
    "df_05 = pandas.read_csv('202005-bluebikes-tripdata.csv')\n",
    "df_05.shape"
   ]
  },
  {
   "cell_type": "code",
   "execution_count": 12,
   "metadata": {},
   "outputs": [
    {
     "output_type": "stream",
     "name": "stdout",
     "text": [
      "<class 'pandas.core.frame.DataFrame'>\nRangeIndex: 124879 entries, 0 to 124878\nData columns (total 14 columns):\n #   Column                   Non-Null Count   Dtype  \n---  ------                   --------------   -----  \n 0   tripduration             124879 non-null  int64  \n 1   starttime                124879 non-null  object \n 2   stoptime                 124879 non-null  object \n 3   start station id         124879 non-null  int64  \n 4   start station name       124879 non-null  object \n 5   start station latitude   124879 non-null  float64\n 6   start station longitude  124879 non-null  float64\n 7   end station id           124879 non-null  int64  \n 8   end station name         124879 non-null  object \n 9   end station latitude     124879 non-null  float64\n 10  end station longitude    124879 non-null  float64\n 11  bikeid                   124879 non-null  int64  \n 12  usertype                 124879 non-null  object \n 13  postal code              110498 non-null  object \ndtypes: float64(4), int64(4), object(6)\nmemory usage: 13.3+ MB\n"
     ]
    }
   ],
   "source": [
    "# assess column names in each data set to see which column is missing\n",
    "df_05.info()"
   ]
  },
  {
   "cell_type": "code",
   "execution_count": 13,
   "metadata": {},
   "outputs": [
    {
     "output_type": "execute_result",
     "data": {
      "text/plain": [
       "(191843, 14)"
      ]
     },
     "metadata": {},
     "execution_count": 13
    }
   ],
   "source": [
    "df_06 = pandas.read_csv('202006-bluebikes-tripdata.csv')\n",
    "df_06.shape"
   ]
  },
  {
   "cell_type": "code",
   "execution_count": 14,
   "metadata": {},
   "outputs": [
    {
     "output_type": "stream",
     "name": "stdout",
     "text": [
      "<class 'pandas.core.frame.DataFrame'>\nRangeIndex: 191843 entries, 0 to 191842\nData columns (total 14 columns):\n #   Column                   Non-Null Count   Dtype  \n---  ------                   --------------   -----  \n 0   tripduration             191843 non-null  int64  \n 1   starttime                191843 non-null  object \n 2   stoptime                 191843 non-null  object \n 3   start station id         191843 non-null  int64  \n 4   start station name       191843 non-null  object \n 5   start station latitude   191843 non-null  float64\n 6   start station longitude  191843 non-null  float64\n 7   end station id           191843 non-null  int64  \n 8   end station name         191843 non-null  object \n 9   end station latitude     191843 non-null  float64\n 10  end station longitude    191843 non-null  float64\n 11  bikeid                   191843 non-null  int64  \n 12  usertype                 191843 non-null  object \n 13  postal code              170883 non-null  object \ndtypes: float64(4), int64(4), object(6)\nmemory usage: 20.5+ MB\n"
     ]
    }
   ],
   "source": [
    "# assess column names in each data set to see which column is missing\n",
    "df_06.info()"
   ]
  },
  {
   "cell_type": "code",
   "execution_count": 15,
   "metadata": {},
   "outputs": [
    {
     "output_type": "execute_result",
     "data": {
      "text/plain": [
       "(259726, 14)"
      ]
     },
     "metadata": {},
     "execution_count": 15
    }
   ],
   "source": [
    "df_07 = pandas.read_csv('202007-bluebikes-tripdata.csv')\n",
    "df_07.shape"
   ]
  },
  {
   "cell_type": "code",
   "execution_count": 16,
   "metadata": {},
   "outputs": [
    {
     "output_type": "stream",
     "name": "stdout",
     "text": [
      "<class 'pandas.core.frame.DataFrame'>\nRangeIndex: 259726 entries, 0 to 259725\nData columns (total 14 columns):\n #   Column                   Non-Null Count   Dtype  \n---  ------                   --------------   -----  \n 0   tripduration             259726 non-null  int64  \n 1   starttime                259726 non-null  object \n 2   stoptime                 259726 non-null  object \n 3   start station id         259726 non-null  int64  \n 4   start station name       259726 non-null  object \n 5   start station latitude   259726 non-null  float64\n 6   start station longitude  259726 non-null  float64\n 7   end station id           259726 non-null  int64  \n 8   end station name         259726 non-null  object \n 9   end station latitude     259726 non-null  float64\n 10  end station longitude    259726 non-null  float64\n 11  bikeid                   259726 non-null  int64  \n 12  usertype                 259726 non-null  object \n 13  postal code              230479 non-null  object \ndtypes: float64(4), int64(4), object(6)\nmemory usage: 27.7+ MB\n"
     ]
    }
   ],
   "source": [
    "# assess column names in each data set to see which column is missing\n",
    "df_07.info()"
   ]
  },
  {
   "cell_type": "code",
   "execution_count": 17,
   "metadata": {},
   "outputs": [
    {
     "output_type": "execute_result",
     "data": {
      "text/plain": [
       "(289033, 14)"
      ]
     },
     "metadata": {},
     "execution_count": 17
    }
   ],
   "source": [
    "df_08 = pandas.read_csv('202008-bluebikes-tripdata.csv')\n",
    "df_08.shape"
   ]
  },
  {
   "cell_type": "code",
   "execution_count": 18,
   "metadata": {},
   "outputs": [
    {
     "output_type": "stream",
     "name": "stdout",
     "text": [
      "<class 'pandas.core.frame.DataFrame'>\nRangeIndex: 289033 entries, 0 to 289032\nData columns (total 14 columns):\n #   Column                   Non-Null Count   Dtype  \n---  ------                   --------------   -----  \n 0   tripduration             289033 non-null  int64  \n 1   starttime                289033 non-null  object \n 2   stoptime                 289033 non-null  object \n 3   start station id         289033 non-null  int64  \n 4   start station name       289033 non-null  object \n 5   start station latitude   289033 non-null  float64\n 6   start station longitude  289033 non-null  float64\n 7   end station id           289033 non-null  int64  \n 8   end station name         289033 non-null  object \n 9   end station latitude     289033 non-null  float64\n 10  end station longitude    289033 non-null  float64\n 11  bikeid                   289033 non-null  int64  \n 12  usertype                 289033 non-null  object \n 13  postal code              264273 non-null  object \ndtypes: float64(4), int64(4), object(6)\nmemory usage: 30.9+ MB\n"
     ]
    }
   ],
   "source": [
    "# assess column names in each data set to see which column is missing\n",
    "df_08.info()"
   ]
  },
  {
   "cell_type": "code",
   "execution_count": 19,
   "metadata": {},
   "outputs": [
    {
     "output_type": "execute_result",
     "data": {
      "text/plain": [
       "(307853, 14)"
      ]
     },
     "metadata": {},
     "execution_count": 19
    }
   ],
   "source": [
    "df_09 = pandas.read_csv('202009-bluebikes-tripdata.csv')\n",
    "df_09.shape"
   ]
  },
  {
   "cell_type": "code",
   "execution_count": 20,
   "metadata": {},
   "outputs": [
    {
     "output_type": "stream",
     "name": "stdout",
     "text": [
      "<class 'pandas.core.frame.DataFrame'>\nRangeIndex: 307853 entries, 0 to 307852\nData columns (total 14 columns):\n #   Column                   Non-Null Count   Dtype  \n---  ------                   --------------   -----  \n 0   tripduration             307853 non-null  int64  \n 1   starttime                307853 non-null  object \n 2   stoptime                 307853 non-null  object \n 3   start station id         307853 non-null  int64  \n 4   start station name       307853 non-null  object \n 5   start station latitude   307853 non-null  float64\n 6   start station longitude  307853 non-null  float64\n 7   end station id           307853 non-null  int64  \n 8   end station name         307853 non-null  object \n 9   end station latitude     307853 non-null  float64\n 10  end station longitude    307853 non-null  float64\n 11  bikeid                   307853 non-null  int64  \n 12  usertype                 307853 non-null  object \n 13  postal code              284701 non-null  object \ndtypes: float64(4), int64(4), object(6)\nmemory usage: 32.9+ MB\n"
     ]
    }
   ],
   "source": [
    "# assess column names in each data set to see which column is missing\n",
    "df_09.info()"
   ]
  },
  {
   "cell_type": "code",
   "execution_count": 21,
   "metadata": {},
   "outputs": [
    {
     "output_type": "execute_result",
     "data": {
      "text/plain": [
       "(248424, 14)"
      ]
     },
     "metadata": {},
     "execution_count": 21
    }
   ],
   "source": [
    "df_10 = pandas.read_csv('202010-bluebikes-tripdata.csv')\n",
    "df_10.shape"
   ]
  },
  {
   "cell_type": "code",
   "execution_count": 22,
   "metadata": {},
   "outputs": [
    {
     "output_type": "stream",
     "name": "stdout",
     "text": [
      "<class 'pandas.core.frame.DataFrame'>\nRangeIndex: 248424 entries, 0 to 248423\nData columns (total 14 columns):\n #   Column                   Non-Null Count   Dtype  \n---  ------                   --------------   -----  \n 0   tripduration             248424 non-null  int64  \n 1   starttime                248424 non-null  object \n 2   stoptime                 248424 non-null  object \n 3   start station id         248424 non-null  int64  \n 4   start station name       248424 non-null  object \n 5   start station latitude   248424 non-null  float64\n 6   start station longitude  248424 non-null  float64\n 7   end station id           248424 non-null  int64  \n 8   end station name         248424 non-null  object \n 9   end station latitude     248424 non-null  float64\n 10  end station longitude    248424 non-null  float64\n 11  bikeid                   248424 non-null  int64  \n 12  usertype                 248424 non-null  object \n 13  postal code              230070 non-null  object \ndtypes: float64(4), int64(4), object(6)\nmemory usage: 26.5+ MB\n"
     ]
    }
   ],
   "source": [
    "# assess column names in each data set to see which column is missing\n",
    "df_10.info()"
   ]
  },
  {
   "cell_type": "code",
   "execution_count": 23,
   "metadata": {},
   "outputs": [
    {
     "output_type": "execute_result",
     "data": {
      "text/plain": [
       "(161712, 14)"
      ]
     },
     "metadata": {},
     "execution_count": 23
    }
   ],
   "source": [
    "df_11 = pandas.read_csv('202011-bluebikes-tripdata.csv')\n",
    "df_11.shape"
   ]
  },
  {
   "cell_type": "code",
   "execution_count": 24,
   "metadata": {},
   "outputs": [
    {
     "output_type": "stream",
     "name": "stdout",
     "text": [
      "<class 'pandas.core.frame.DataFrame'>\nRangeIndex: 161712 entries, 0 to 161711\nData columns (total 14 columns):\n #   Column                   Non-Null Count   Dtype  \n---  ------                   --------------   -----  \n 0   tripduration             161712 non-null  int64  \n 1   starttime                161712 non-null  object \n 2   stoptime                 161712 non-null  object \n 3   start station id         161712 non-null  int64  \n 4   start station name       161712 non-null  object \n 5   start station latitude   161712 non-null  float64\n 6   start station longitude  161712 non-null  float64\n 7   end station id           161712 non-null  int64  \n 8   end station name         161712 non-null  object \n 9   end station latitude     161712 non-null  float64\n 10  end station longitude    161712 non-null  float64\n 11  bikeid                   161712 non-null  int64  \n 12  usertype                 161712 non-null  object \n 13  postal code              151233 non-null  object \ndtypes: float64(4), int64(4), object(6)\nmemory usage: 17.3+ MB\n"
     ]
    }
   ],
   "source": [
    "# assess column names in each data set to see which column is missing\n",
    "df_11.info()"
   ]
  },
  {
   "cell_type": "code",
   "execution_count": 25,
   "metadata": {},
   "outputs": [
    {
     "output_type": "execute_result",
     "data": {
      "text/plain": [
       "(74002, 14)"
      ]
     },
     "metadata": {},
     "execution_count": 25
    }
   ],
   "source": [
    "df_12 = pandas.read_csv('202012-bluebikes-tripdata.csv')\n",
    "df_12.shape"
   ]
  },
  {
   "cell_type": "code",
   "execution_count": 26,
   "metadata": {},
   "outputs": [
    {
     "output_type": "stream",
     "name": "stdout",
     "text": [
      "<class 'pandas.core.frame.DataFrame'>\nRangeIndex: 74002 entries, 0 to 74001\nData columns (total 14 columns):\n #   Column                   Non-Null Count  Dtype  \n---  ------                   --------------  -----  \n 0   tripduration             74002 non-null  int64  \n 1   starttime                74002 non-null  object \n 2   stoptime                 74002 non-null  object \n 3   start station id         74002 non-null  int64  \n 4   start station name       74002 non-null  object \n 5   start station latitude   74002 non-null  float64\n 6   start station longitude  74002 non-null  float64\n 7   end station id           74002 non-null  int64  \n 8   end station name         74002 non-null  object \n 9   end station latitude     74002 non-null  float64\n 10  end station longitude    74002 non-null  float64\n 11  bikeid                   74002 non-null  int64  \n 12  usertype                 74002 non-null  object \n 13  postal code              71109 non-null  object \ndtypes: float64(4), int64(4), object(6)\nmemory usage: 7.9+ MB\n"
     ]
    }
   ],
   "source": [
    "# assess column names in each data set to see which column is missing\n",
    "df_12.info()"
   ]
  },
  {
   "source": [
    "### Summary of Assessment\n",
    "\n",
    "### Quality Issues\n",
    "*All datasets*\n",
    "- `starttime` and `stopttime` column is in object format, it should be datetime\n",
    "\n",
    "### Tidiness Issues\n",
    "\n",
    "- merge datasets (concat)\n",
    "- remove birthyear, postcalcode and gender columns as it only has partial month's data coverage, not the full year\n",
    "\n",
    "I have to state here, that I haven't gone through all the assessment like checking for missing values, etc. I would like to do that after merging the datasets together as it will be a lot easier like that so I assume that there will be a Cleaning Part 2 upon succeeding to merge the datasets together.\n",
    "\n"
   ],
   "cell_type": "markdown",
   "metadata": {}
  },
  {
   "source": [
    "## Cleaning dataset"
   ],
   "cell_type": "markdown",
   "metadata": {}
  },
  {
   "source": [
    "### Define \n",
    "- merge datasets (concat)\n",
    "\n",
    "Action: find best method to merge datasets"
   ],
   "cell_type": "markdown",
   "metadata": {}
  },
  {
   "source": [
    "### Code"
   ],
   "cell_type": "markdown",
   "metadata": {}
  },
  {
   "cell_type": "code",
   "execution_count": 27,
   "metadata": {},
   "outputs": [],
   "source": [
    "# make a copy of all datasets to be sure I can revert if things go wrong\n",
    "df_01_copy = df_01.copy()\n",
    "df_02_copy = df_02.copy()\n",
    "df_03_copy = df_03.copy()\n",
    "df_04_copy = df_04.copy()\n",
    "df_05_copy = df_05.copy()\n",
    "df_06_copy = df_06.copy()\n",
    "df_07_copy = df_07.copy()\n",
    "df_08_copy = df_08.copy()\n",
    "df_09_copy = df_09.copy()\n",
    "df_10_copy = df_10.copy()\n",
    "df_11_copy = df_11.copy()\n",
    "df_12_copy = df_12.copy()"
   ]
  },
  {
   "source": [
    "Check each copied datasets shape so I can see if I got all the data after merging"
   ],
   "cell_type": "markdown",
   "metadata": {}
  },
  {
   "cell_type": "code",
   "execution_count": 28,
   "metadata": {},
   "outputs": [
    {
     "output_type": "execute_result",
     "data": {
      "text/plain": [
       "(128598, 15)"
      ]
     },
     "metadata": {},
     "execution_count": 28
    }
   ],
   "source": [
    "df_01_copy.shape"
   ]
  },
  {
   "cell_type": "code",
   "execution_count": 29,
   "metadata": {},
   "outputs": [
    {
     "output_type": "execute_result",
     "data": {
      "text/plain": [
       "(133235, 15)"
      ]
     },
     "metadata": {},
     "execution_count": 29
    }
   ],
   "source": [
    "df_02_copy.shape"
   ]
  },
  {
   "cell_type": "code",
   "execution_count": 30,
   "metadata": {},
   "outputs": [
    {
     "output_type": "execute_result",
     "data": {
      "text/plain": [
       "(107350, 15)"
      ]
     },
     "metadata": {},
     "execution_count": 30
    }
   ],
   "source": [
    "df_03_copy.shape"
   ]
  },
  {
   "cell_type": "code",
   "execution_count": 31,
   "metadata": {},
   "outputs": [
    {
     "output_type": "execute_result",
     "data": {
      "text/plain": [
       "(46793, 15)"
      ]
     },
     "metadata": {},
     "execution_count": 31
    }
   ],
   "source": [
    "df_04_copy.shape"
   ]
  },
  {
   "cell_type": "code",
   "execution_count": 32,
   "metadata": {},
   "outputs": [
    {
     "output_type": "execute_result",
     "data": {
      "text/plain": [
       "(124879, 14)"
      ]
     },
     "metadata": {},
     "execution_count": 32
    }
   ],
   "source": [
    "df_05_copy.shape"
   ]
  },
  {
   "cell_type": "code",
   "execution_count": 33,
   "metadata": {},
   "outputs": [
    {
     "output_type": "execute_result",
     "data": {
      "text/plain": [
       "(191843, 14)"
      ]
     },
     "metadata": {},
     "execution_count": 33
    }
   ],
   "source": [
    "df_06_copy.shape"
   ]
  },
  {
   "cell_type": "code",
   "execution_count": 34,
   "metadata": {},
   "outputs": [
    {
     "output_type": "execute_result",
     "data": {
      "text/plain": [
       "(259726, 14)"
      ]
     },
     "metadata": {},
     "execution_count": 34
    }
   ],
   "source": [
    "df_07_copy.shape"
   ]
  },
  {
   "cell_type": "code",
   "execution_count": 35,
   "metadata": {},
   "outputs": [
    {
     "output_type": "execute_result",
     "data": {
      "text/plain": [
       "(289033, 14)"
      ]
     },
     "metadata": {},
     "execution_count": 35
    }
   ],
   "source": [
    "df_08_copy.shape"
   ]
  },
  {
   "cell_type": "code",
   "execution_count": 36,
   "metadata": {},
   "outputs": [
    {
     "output_type": "execute_result",
     "data": {
      "text/plain": [
       "(307853, 14)"
      ]
     },
     "metadata": {},
     "execution_count": 36
    }
   ],
   "source": [
    "df_09_copy.shape"
   ]
  },
  {
   "cell_type": "code",
   "execution_count": 37,
   "metadata": {},
   "outputs": [
    {
     "output_type": "execute_result",
     "data": {
      "text/plain": [
       "(248424, 14)"
      ]
     },
     "metadata": {},
     "execution_count": 37
    }
   ],
   "source": [
    "df_10_copy.shape"
   ]
  },
  {
   "cell_type": "code",
   "execution_count": 38,
   "metadata": {},
   "outputs": [
    {
     "output_type": "execute_result",
     "data": {
      "text/plain": [
       "(161712, 14)"
      ]
     },
     "metadata": {},
     "execution_count": 38
    }
   ],
   "source": [
    "df_11_copy.shape"
   ]
  },
  {
   "cell_type": "code",
   "execution_count": 39,
   "metadata": {},
   "outputs": [
    {
     "output_type": "execute_result",
     "data": {
      "text/plain": [
       "(74002, 14)"
      ]
     },
     "metadata": {},
     "execution_count": 39
    }
   ],
   "source": [
    "df_12_copy.shape"
   ]
  },
  {
   "source": [
    "Check if copies have the right columns"
   ],
   "cell_type": "markdown",
   "metadata": {}
  },
  {
   "cell_type": "code",
   "execution_count": 40,
   "metadata": {},
   "outputs": [
    {
     "output_type": "execute_result",
     "data": {
      "text/plain": [
       "   tripduration                 starttime                  stoptime  \\\n",
       "0           478  2020-01-01 00:04:05.8090  2020-01-01 00:12:04.2370   \n",
       "1           363  2020-01-01 00:04:45.6990  2020-01-01 00:10:49.0400   \n",
       "2           284  2020-01-01 00:06:07.0630  2020-01-01 00:10:51.9240   \n",
       "3           193  2020-01-01 00:06:13.8550  2020-01-01 00:09:27.8320   \n",
       "4           428  2020-01-01 00:07:25.2950  2020-01-01 00:14:33.7800   \n",
       "\n",
       "   start station id                           start station name  \\\n",
       "0               366                              Broadway T Stop   \n",
       "1               219                  Boston East - 126 Border St   \n",
       "2               219                  Boston East - 126 Border St   \n",
       "3               396                         Main St at Beacon St   \n",
       "4                60  Charles Circle - Charles St at Cambridge St   \n",
       "\n",
       "   start station latitude  start station longitude  end station id  \\\n",
       "0               42.342781               -71.057473              93   \n",
       "1               42.373312               -71.041020             212   \n",
       "2               42.373312               -71.041020             212   \n",
       "3               42.409330               -71.063819             387   \n",
       "4               42.360793               -71.071190              49   \n",
       "\n",
       "               end station name  end station latitude  end station longitude  \\\n",
       "0              JFK/UMass T Stop             42.320340             -71.051180   \n",
       "1  Maverick Square - Lewis Mall             42.368844             -71.039778   \n",
       "2  Maverick Square - Lewis Mall             42.368844             -71.039778   \n",
       "3        Norman St at Kelvin St             42.409859             -71.066319   \n",
       "4       Stuart St at Charles St             42.351146             -71.066289   \n",
       "\n",
       "   bikeid    usertype  birth year  gender  \n",
       "0    6005    Customer        1969       0  \n",
       "1    3168  Subscriber        2000       1  \n",
       "2    3985  Subscriber        2001       1  \n",
       "3    2692  Subscriber        1978       1  \n",
       "4    4978  Subscriber        1987       1  "
      ],
      "text/html": "<div>\n<style scoped>\n    .dataframe tbody tr th:only-of-type {\n        vertical-align: middle;\n    }\n\n    .dataframe tbody tr th {\n        vertical-align: top;\n    }\n\n    .dataframe thead th {\n        text-align: right;\n    }\n</style>\n<table border=\"1\" class=\"dataframe\">\n  <thead>\n    <tr style=\"text-align: right;\">\n      <th></th>\n      <th>tripduration</th>\n      <th>starttime</th>\n      <th>stoptime</th>\n      <th>start station id</th>\n      <th>start station name</th>\n      <th>start station latitude</th>\n      <th>start station longitude</th>\n      <th>end station id</th>\n      <th>end station name</th>\n      <th>end station latitude</th>\n      <th>end station longitude</th>\n      <th>bikeid</th>\n      <th>usertype</th>\n      <th>birth year</th>\n      <th>gender</th>\n    </tr>\n  </thead>\n  <tbody>\n    <tr>\n      <th>0</th>\n      <td>478</td>\n      <td>2020-01-01 00:04:05.8090</td>\n      <td>2020-01-01 00:12:04.2370</td>\n      <td>366</td>\n      <td>Broadway T Stop</td>\n      <td>42.342781</td>\n      <td>-71.057473</td>\n      <td>93</td>\n      <td>JFK/UMass T Stop</td>\n      <td>42.320340</td>\n      <td>-71.051180</td>\n      <td>6005</td>\n      <td>Customer</td>\n      <td>1969</td>\n      <td>0</td>\n    </tr>\n    <tr>\n      <th>1</th>\n      <td>363</td>\n      <td>2020-01-01 00:04:45.6990</td>\n      <td>2020-01-01 00:10:49.0400</td>\n      <td>219</td>\n      <td>Boston East - 126 Border St</td>\n      <td>42.373312</td>\n      <td>-71.041020</td>\n      <td>212</td>\n      <td>Maverick Square - Lewis Mall</td>\n      <td>42.368844</td>\n      <td>-71.039778</td>\n      <td>3168</td>\n      <td>Subscriber</td>\n      <td>2000</td>\n      <td>1</td>\n    </tr>\n    <tr>\n      <th>2</th>\n      <td>284</td>\n      <td>2020-01-01 00:06:07.0630</td>\n      <td>2020-01-01 00:10:51.9240</td>\n      <td>219</td>\n      <td>Boston East - 126 Border St</td>\n      <td>42.373312</td>\n      <td>-71.041020</td>\n      <td>212</td>\n      <td>Maverick Square - Lewis Mall</td>\n      <td>42.368844</td>\n      <td>-71.039778</td>\n      <td>3985</td>\n      <td>Subscriber</td>\n      <td>2001</td>\n      <td>1</td>\n    </tr>\n    <tr>\n      <th>3</th>\n      <td>193</td>\n      <td>2020-01-01 00:06:13.8550</td>\n      <td>2020-01-01 00:09:27.8320</td>\n      <td>396</td>\n      <td>Main St at Beacon St</td>\n      <td>42.409330</td>\n      <td>-71.063819</td>\n      <td>387</td>\n      <td>Norman St at Kelvin St</td>\n      <td>42.409859</td>\n      <td>-71.066319</td>\n      <td>2692</td>\n      <td>Subscriber</td>\n      <td>1978</td>\n      <td>1</td>\n    </tr>\n    <tr>\n      <th>4</th>\n      <td>428</td>\n      <td>2020-01-01 00:07:25.2950</td>\n      <td>2020-01-01 00:14:33.7800</td>\n      <td>60</td>\n      <td>Charles Circle - Charles St at Cambridge St</td>\n      <td>42.360793</td>\n      <td>-71.071190</td>\n      <td>49</td>\n      <td>Stuart St at Charles St</td>\n      <td>42.351146</td>\n      <td>-71.066289</td>\n      <td>4978</td>\n      <td>Subscriber</td>\n      <td>1987</td>\n      <td>1</td>\n    </tr>\n  </tbody>\n</table>\n</div>"
     },
     "metadata": {},
     "execution_count": 40
    }
   ],
   "source": [
    "df_01_copy.head()"
   ]
  },
  {
   "cell_type": "code",
   "execution_count": 41,
   "metadata": {},
   "outputs": [
    {
     "output_type": "execute_result",
     "data": {
      "text/plain": [
       "   tripduration                 starttime                  stoptime  \\\n",
       "0          1160  2020-06-01 00:00:25.6240  2020-06-01 00:19:45.7010   \n",
       "1          1419  2020-06-01 00:01:09.3800  2020-06-01 00:24:48.9520   \n",
       "2          1093  2020-06-01 00:01:29.4790  2020-06-01 00:19:43.3530   \n",
       "3          1067  2020-06-01 00:01:35.8540  2020-06-01 00:19:23.3250   \n",
       "4          1391  2020-06-01 00:01:51.0390  2020-06-01 00:25:02.8460   \n",
       "\n",
       "   start station id                   start station name  \\\n",
       "0               192              Purchase St at Pearl St   \n",
       "1               355  Bennington St at Constitution Beach   \n",
       "2               131                Jackson Square T Stop   \n",
       "3               131                Jackson Square T Stop   \n",
       "4               355  Bennington St at Constitution Beach   \n",
       "\n",
       "   start station latitude  start station longitude  end station id  \\\n",
       "0               42.354659               -71.053181             366   \n",
       "1               42.385224               -71.010631             355   \n",
       "2               42.322931               -71.100141             331   \n",
       "3               42.322931               -71.100141             331   \n",
       "4               42.385224               -71.010631             355   \n",
       "\n",
       "                      end station name  end station latitude  \\\n",
       "0                      Broadway T Stop             42.342781   \n",
       "1  Bennington St at Constitution Beach             42.385224   \n",
       "2           Huntington Ave at Mass Art             42.336586   \n",
       "3           Huntington Ave at Mass Art             42.336586   \n",
       "4  Bennington St at Constitution Beach             42.385224   \n",
       "\n",
       "   end station longitude  bikeid    usertype postal code  \n",
       "0             -71.057473    2831    Customer         NaN  \n",
       "1             -71.010631    5696    Customer       02128  \n",
       "2             -71.098870    3922  Subscriber       10570  \n",
       "3             -71.098870    3361  Subscriber       10570  \n",
       "4             -71.010631    3621    Customer       01902  "
      ],
      "text/html": "<div>\n<style scoped>\n    .dataframe tbody tr th:only-of-type {\n        vertical-align: middle;\n    }\n\n    .dataframe tbody tr th {\n        vertical-align: top;\n    }\n\n    .dataframe thead th {\n        text-align: right;\n    }\n</style>\n<table border=\"1\" class=\"dataframe\">\n  <thead>\n    <tr style=\"text-align: right;\">\n      <th></th>\n      <th>tripduration</th>\n      <th>starttime</th>\n      <th>stoptime</th>\n      <th>start station id</th>\n      <th>start station name</th>\n      <th>start station latitude</th>\n      <th>start station longitude</th>\n      <th>end station id</th>\n      <th>end station name</th>\n      <th>end station latitude</th>\n      <th>end station longitude</th>\n      <th>bikeid</th>\n      <th>usertype</th>\n      <th>postal code</th>\n    </tr>\n  </thead>\n  <tbody>\n    <tr>\n      <th>0</th>\n      <td>1160</td>\n      <td>2020-06-01 00:00:25.6240</td>\n      <td>2020-06-01 00:19:45.7010</td>\n      <td>192</td>\n      <td>Purchase St at Pearl St</td>\n      <td>42.354659</td>\n      <td>-71.053181</td>\n      <td>366</td>\n      <td>Broadway T Stop</td>\n      <td>42.342781</td>\n      <td>-71.057473</td>\n      <td>2831</td>\n      <td>Customer</td>\n      <td>NaN</td>\n    </tr>\n    <tr>\n      <th>1</th>\n      <td>1419</td>\n      <td>2020-06-01 00:01:09.3800</td>\n      <td>2020-06-01 00:24:48.9520</td>\n      <td>355</td>\n      <td>Bennington St at Constitution Beach</td>\n      <td>42.385224</td>\n      <td>-71.010631</td>\n      <td>355</td>\n      <td>Bennington St at Constitution Beach</td>\n      <td>42.385224</td>\n      <td>-71.010631</td>\n      <td>5696</td>\n      <td>Customer</td>\n      <td>02128</td>\n    </tr>\n    <tr>\n      <th>2</th>\n      <td>1093</td>\n      <td>2020-06-01 00:01:29.4790</td>\n      <td>2020-06-01 00:19:43.3530</td>\n      <td>131</td>\n      <td>Jackson Square T Stop</td>\n      <td>42.322931</td>\n      <td>-71.100141</td>\n      <td>331</td>\n      <td>Huntington Ave at Mass Art</td>\n      <td>42.336586</td>\n      <td>-71.098870</td>\n      <td>3922</td>\n      <td>Subscriber</td>\n      <td>10570</td>\n    </tr>\n    <tr>\n      <th>3</th>\n      <td>1067</td>\n      <td>2020-06-01 00:01:35.8540</td>\n      <td>2020-06-01 00:19:23.3250</td>\n      <td>131</td>\n      <td>Jackson Square T Stop</td>\n      <td>42.322931</td>\n      <td>-71.100141</td>\n      <td>331</td>\n      <td>Huntington Ave at Mass Art</td>\n      <td>42.336586</td>\n      <td>-71.098870</td>\n      <td>3361</td>\n      <td>Subscriber</td>\n      <td>10570</td>\n    </tr>\n    <tr>\n      <th>4</th>\n      <td>1391</td>\n      <td>2020-06-01 00:01:51.0390</td>\n      <td>2020-06-01 00:25:02.8460</td>\n      <td>355</td>\n      <td>Bennington St at Constitution Beach</td>\n      <td>42.385224</td>\n      <td>-71.010631</td>\n      <td>355</td>\n      <td>Bennington St at Constitution Beach</td>\n      <td>42.385224</td>\n      <td>-71.010631</td>\n      <td>3621</td>\n      <td>Customer</td>\n      <td>01902</td>\n    </tr>\n  </tbody>\n</table>\n</div>"
     },
     "metadata": {},
     "execution_count": 41
    }
   ],
   "source": [
    "df_06_copy.head()"
   ]
  },
  {
   "cell_type": "code",
   "execution_count": 42,
   "metadata": {},
   "outputs": [],
   "source": [
    "# concat the data sets\n",
    "df_concatenated_columns_all = pandas.concat([df_01_copy, df_02_copy, df_03_copy, df_04_copy, df_05_copy, df_06_copy, df_07_copy, df_08_copy, df_09_copy, df_10_copy, df_11_copy, df_12_copy,])\n"
   ]
  },
  {
   "source": [
    "### Test"
   ],
   "cell_type": "markdown",
   "metadata": {}
  },
  {
   "cell_type": "code",
   "execution_count": 43,
   "metadata": {},
   "outputs": [
    {
     "output_type": "execute_result",
     "data": {
      "text/plain": [
       "   tripduration                 starttime                  stoptime  \\\n",
       "0           478  2020-01-01 00:04:05.8090  2020-01-01 00:12:04.2370   \n",
       "1           363  2020-01-01 00:04:45.6990  2020-01-01 00:10:49.0400   \n",
       "2           284  2020-01-01 00:06:07.0630  2020-01-01 00:10:51.9240   \n",
       "3           193  2020-01-01 00:06:13.8550  2020-01-01 00:09:27.8320   \n",
       "4           428  2020-01-01 00:07:25.2950  2020-01-01 00:14:33.7800   \n",
       "\n",
       "   start station id                           start station name  \\\n",
       "0               366                              Broadway T Stop   \n",
       "1               219                  Boston East - 126 Border St   \n",
       "2               219                  Boston East - 126 Border St   \n",
       "3               396                         Main St at Beacon St   \n",
       "4                60  Charles Circle - Charles St at Cambridge St   \n",
       "\n",
       "   start station latitude  start station longitude  end station id  \\\n",
       "0               42.342781               -71.057473              93   \n",
       "1               42.373312               -71.041020             212   \n",
       "2               42.373312               -71.041020             212   \n",
       "3               42.409330               -71.063819             387   \n",
       "4               42.360793               -71.071190              49   \n",
       "\n",
       "               end station name  end station latitude  end station longitude  \\\n",
       "0              JFK/UMass T Stop             42.320340             -71.051180   \n",
       "1  Maverick Square - Lewis Mall             42.368844             -71.039778   \n",
       "2  Maverick Square - Lewis Mall             42.368844             -71.039778   \n",
       "3        Norman St at Kelvin St             42.409859             -71.066319   \n",
       "4       Stuart St at Charles St             42.351146             -71.066289   \n",
       "\n",
       "   bikeid    usertype  birth year  gender postal code  \n",
       "0    6005    Customer      1969.0     0.0         NaN  \n",
       "1    3168  Subscriber      2000.0     1.0         NaN  \n",
       "2    3985  Subscriber      2001.0     1.0         NaN  \n",
       "3    2692  Subscriber      1978.0     1.0         NaN  \n",
       "4    4978  Subscriber      1987.0     1.0         NaN  "
      ],
      "text/html": "<div>\n<style scoped>\n    .dataframe tbody tr th:only-of-type {\n        vertical-align: middle;\n    }\n\n    .dataframe tbody tr th {\n        vertical-align: top;\n    }\n\n    .dataframe thead th {\n        text-align: right;\n    }\n</style>\n<table border=\"1\" class=\"dataframe\">\n  <thead>\n    <tr style=\"text-align: right;\">\n      <th></th>\n      <th>tripduration</th>\n      <th>starttime</th>\n      <th>stoptime</th>\n      <th>start station id</th>\n      <th>start station name</th>\n      <th>start station latitude</th>\n      <th>start station longitude</th>\n      <th>end station id</th>\n      <th>end station name</th>\n      <th>end station latitude</th>\n      <th>end station longitude</th>\n      <th>bikeid</th>\n      <th>usertype</th>\n      <th>birth year</th>\n      <th>gender</th>\n      <th>postal code</th>\n    </tr>\n  </thead>\n  <tbody>\n    <tr>\n      <th>0</th>\n      <td>478</td>\n      <td>2020-01-01 00:04:05.8090</td>\n      <td>2020-01-01 00:12:04.2370</td>\n      <td>366</td>\n      <td>Broadway T Stop</td>\n      <td>42.342781</td>\n      <td>-71.057473</td>\n      <td>93</td>\n      <td>JFK/UMass T Stop</td>\n      <td>42.320340</td>\n      <td>-71.051180</td>\n      <td>6005</td>\n      <td>Customer</td>\n      <td>1969.0</td>\n      <td>0.0</td>\n      <td>NaN</td>\n    </tr>\n    <tr>\n      <th>1</th>\n      <td>363</td>\n      <td>2020-01-01 00:04:45.6990</td>\n      <td>2020-01-01 00:10:49.0400</td>\n      <td>219</td>\n      <td>Boston East - 126 Border St</td>\n      <td>42.373312</td>\n      <td>-71.041020</td>\n      <td>212</td>\n      <td>Maverick Square - Lewis Mall</td>\n      <td>42.368844</td>\n      <td>-71.039778</td>\n      <td>3168</td>\n      <td>Subscriber</td>\n      <td>2000.0</td>\n      <td>1.0</td>\n      <td>NaN</td>\n    </tr>\n    <tr>\n      <th>2</th>\n      <td>284</td>\n      <td>2020-01-01 00:06:07.0630</td>\n      <td>2020-01-01 00:10:51.9240</td>\n      <td>219</td>\n      <td>Boston East - 126 Border St</td>\n      <td>42.373312</td>\n      <td>-71.041020</td>\n      <td>212</td>\n      <td>Maverick Square - Lewis Mall</td>\n      <td>42.368844</td>\n      <td>-71.039778</td>\n      <td>3985</td>\n      <td>Subscriber</td>\n      <td>2001.0</td>\n      <td>1.0</td>\n      <td>NaN</td>\n    </tr>\n    <tr>\n      <th>3</th>\n      <td>193</td>\n      <td>2020-01-01 00:06:13.8550</td>\n      <td>2020-01-01 00:09:27.8320</td>\n      <td>396</td>\n      <td>Main St at Beacon St</td>\n      <td>42.409330</td>\n      <td>-71.063819</td>\n      <td>387</td>\n      <td>Norman St at Kelvin St</td>\n      <td>42.409859</td>\n      <td>-71.066319</td>\n      <td>2692</td>\n      <td>Subscriber</td>\n      <td>1978.0</td>\n      <td>1.0</td>\n      <td>NaN</td>\n    </tr>\n    <tr>\n      <th>4</th>\n      <td>428</td>\n      <td>2020-01-01 00:07:25.2950</td>\n      <td>2020-01-01 00:14:33.7800</td>\n      <td>60</td>\n      <td>Charles Circle - Charles St at Cambridge St</td>\n      <td>42.360793</td>\n      <td>-71.071190</td>\n      <td>49</td>\n      <td>Stuart St at Charles St</td>\n      <td>42.351146</td>\n      <td>-71.066289</td>\n      <td>4978</td>\n      <td>Subscriber</td>\n      <td>1987.0</td>\n      <td>1.0</td>\n      <td>NaN</td>\n    </tr>\n  </tbody>\n</table>\n</div>"
     },
     "metadata": {},
     "execution_count": 43
    }
   ],
   "source": [
    "df_concatenated_columns_all.head()"
   ]
  },
  {
   "cell_type": "code",
   "execution_count": 44,
   "metadata": {},
   "outputs": [
    {
     "output_type": "stream",
     "name": "stdout",
     "text": [
      "<class 'pandas.core.frame.DataFrame'>\nInt64Index: 2073448 entries, 0 to 74001\nData columns (total 16 columns):\n #   Column                   Dtype  \n---  ------                   -----  \n 0   tripduration             int64  \n 1   starttime                object \n 2   stoptime                 object \n 3   start station id         int64  \n 4   start station name       object \n 5   start station latitude   float64\n 6   start station longitude  float64\n 7   end station id           int64  \n 8   end station name         object \n 9   end station latitude     float64\n 10  end station longitude    float64\n 11  bikeid                   int64  \n 12  usertype                 object \n 13  birth year               float64\n 14  gender                   float64\n 15  postal code              object \ndtypes: float64(6), int64(4), object(6)\nmemory usage: 268.9+ MB\n"
     ]
    }
   ],
   "source": [
    "df_concatenated_columns_all.info()"
   ]
  },
  {
   "cell_type": "code",
   "execution_count": 45,
   "metadata": {},
   "outputs": [
    {
     "output_type": "execute_result",
     "data": {
      "text/plain": [
       "(2073448, 16)"
      ]
     },
     "metadata": {},
     "execution_count": 45
    }
   ],
   "source": [
    "df_concatenated_columns_all.shape"
   ]
  },
  {
   "cell_type": "code",
   "execution_count": 46,
   "metadata": {},
   "outputs": [],
   "source": [
    "df_all = df_concatenated_columns_all.copy()"
   ]
  },
  {
   "cell_type": "code",
   "execution_count": 47,
   "metadata": {},
   "outputs": [
    {
     "output_type": "execute_result",
     "data": {
      "text/plain": [
       "(2073448, 16)"
      ]
     },
     "metadata": {},
     "execution_count": 47
    }
   ],
   "source": [
    "df_all.shape\n"
   ]
  },
  {
   "source": [
    "### Define\n",
    "- remove birth year, gender and postal code columns\n",
    "\n",
    "Action: \n",
    "drop these columns permanently"
   ],
   "cell_type": "markdown",
   "metadata": {}
  },
  {
   "source": [
    "### Code"
   ],
   "cell_type": "markdown",
   "metadata": {}
  },
  {
   "cell_type": "code",
   "execution_count": 48,
   "metadata": {},
   "outputs": [],
   "source": [
    "df_all.drop(['birth year', 'postal code', 'gender'], axis=1, inplace=True)"
   ]
  },
  {
   "source": [
    "### Test"
   ],
   "cell_type": "markdown",
   "metadata": {}
  },
  {
   "cell_type": "code",
   "execution_count": 49,
   "metadata": {},
   "outputs": [
    {
     "output_type": "execute_result",
     "data": {
      "text/plain": [
       "   tripduration                 starttime                  stoptime  \\\n",
       "0           478  2020-01-01 00:04:05.8090  2020-01-01 00:12:04.2370   \n",
       "1           363  2020-01-01 00:04:45.6990  2020-01-01 00:10:49.0400   \n",
       "2           284  2020-01-01 00:06:07.0630  2020-01-01 00:10:51.9240   \n",
       "3           193  2020-01-01 00:06:13.8550  2020-01-01 00:09:27.8320   \n",
       "4           428  2020-01-01 00:07:25.2950  2020-01-01 00:14:33.7800   \n",
       "\n",
       "   start station id                           start station name  \\\n",
       "0               366                              Broadway T Stop   \n",
       "1               219                  Boston East - 126 Border St   \n",
       "2               219                  Boston East - 126 Border St   \n",
       "3               396                         Main St at Beacon St   \n",
       "4                60  Charles Circle - Charles St at Cambridge St   \n",
       "\n",
       "   start station latitude  start station longitude  end station id  \\\n",
       "0               42.342781               -71.057473              93   \n",
       "1               42.373312               -71.041020             212   \n",
       "2               42.373312               -71.041020             212   \n",
       "3               42.409330               -71.063819             387   \n",
       "4               42.360793               -71.071190              49   \n",
       "\n",
       "               end station name  end station latitude  end station longitude  \\\n",
       "0              JFK/UMass T Stop             42.320340             -71.051180   \n",
       "1  Maverick Square - Lewis Mall             42.368844             -71.039778   \n",
       "2  Maverick Square - Lewis Mall             42.368844             -71.039778   \n",
       "3        Norman St at Kelvin St             42.409859             -71.066319   \n",
       "4       Stuart St at Charles St             42.351146             -71.066289   \n",
       "\n",
       "   bikeid    usertype  \n",
       "0    6005    Customer  \n",
       "1    3168  Subscriber  \n",
       "2    3985  Subscriber  \n",
       "3    2692  Subscriber  \n",
       "4    4978  Subscriber  "
      ],
      "text/html": "<div>\n<style scoped>\n    .dataframe tbody tr th:only-of-type {\n        vertical-align: middle;\n    }\n\n    .dataframe tbody tr th {\n        vertical-align: top;\n    }\n\n    .dataframe thead th {\n        text-align: right;\n    }\n</style>\n<table border=\"1\" class=\"dataframe\">\n  <thead>\n    <tr style=\"text-align: right;\">\n      <th></th>\n      <th>tripduration</th>\n      <th>starttime</th>\n      <th>stoptime</th>\n      <th>start station id</th>\n      <th>start station name</th>\n      <th>start station latitude</th>\n      <th>start station longitude</th>\n      <th>end station id</th>\n      <th>end station name</th>\n      <th>end station latitude</th>\n      <th>end station longitude</th>\n      <th>bikeid</th>\n      <th>usertype</th>\n    </tr>\n  </thead>\n  <tbody>\n    <tr>\n      <th>0</th>\n      <td>478</td>\n      <td>2020-01-01 00:04:05.8090</td>\n      <td>2020-01-01 00:12:04.2370</td>\n      <td>366</td>\n      <td>Broadway T Stop</td>\n      <td>42.342781</td>\n      <td>-71.057473</td>\n      <td>93</td>\n      <td>JFK/UMass T Stop</td>\n      <td>42.320340</td>\n      <td>-71.051180</td>\n      <td>6005</td>\n      <td>Customer</td>\n    </tr>\n    <tr>\n      <th>1</th>\n      <td>363</td>\n      <td>2020-01-01 00:04:45.6990</td>\n      <td>2020-01-01 00:10:49.0400</td>\n      <td>219</td>\n      <td>Boston East - 126 Border St</td>\n      <td>42.373312</td>\n      <td>-71.041020</td>\n      <td>212</td>\n      <td>Maverick Square - Lewis Mall</td>\n      <td>42.368844</td>\n      <td>-71.039778</td>\n      <td>3168</td>\n      <td>Subscriber</td>\n    </tr>\n    <tr>\n      <th>2</th>\n      <td>284</td>\n      <td>2020-01-01 00:06:07.0630</td>\n      <td>2020-01-01 00:10:51.9240</td>\n      <td>219</td>\n      <td>Boston East - 126 Border St</td>\n      <td>42.373312</td>\n      <td>-71.041020</td>\n      <td>212</td>\n      <td>Maverick Square - Lewis Mall</td>\n      <td>42.368844</td>\n      <td>-71.039778</td>\n      <td>3985</td>\n      <td>Subscriber</td>\n    </tr>\n    <tr>\n      <th>3</th>\n      <td>193</td>\n      <td>2020-01-01 00:06:13.8550</td>\n      <td>2020-01-01 00:09:27.8320</td>\n      <td>396</td>\n      <td>Main St at Beacon St</td>\n      <td>42.409330</td>\n      <td>-71.063819</td>\n      <td>387</td>\n      <td>Norman St at Kelvin St</td>\n      <td>42.409859</td>\n      <td>-71.066319</td>\n      <td>2692</td>\n      <td>Subscriber</td>\n    </tr>\n    <tr>\n      <th>4</th>\n      <td>428</td>\n      <td>2020-01-01 00:07:25.2950</td>\n      <td>2020-01-01 00:14:33.7800</td>\n      <td>60</td>\n      <td>Charles Circle - Charles St at Cambridge St</td>\n      <td>42.360793</td>\n      <td>-71.071190</td>\n      <td>49</td>\n      <td>Stuart St at Charles St</td>\n      <td>42.351146</td>\n      <td>-71.066289</td>\n      <td>4978</td>\n      <td>Subscriber</td>\n    </tr>\n  </tbody>\n</table>\n</div>"
     },
     "metadata": {},
     "execution_count": 49
    }
   ],
   "source": [
    "df_all.head()"
   ]
  },
  {
   "source": [
    "### Define\n",
    "- `starttime` and `stopttime` column is in object format, it should be datetime\n",
    "\n",
    "Action: convert these to datetime"
   ],
   "cell_type": "markdown",
   "metadata": {}
  },
  {
   "source": [
    "### Code"
   ],
   "cell_type": "markdown",
   "metadata": {}
  },
  {
   "cell_type": "code",
   "execution_count": 50,
   "metadata": {},
   "outputs": [],
   "source": [
    "# convert starttime field into datetime\n",
    "df_all['starttime'] = pandas.to_datetime(df_all['starttime'])"
   ]
  },
  {
   "cell_type": "code",
   "execution_count": 51,
   "metadata": {},
   "outputs": [],
   "source": [
    "# convert stoptime field into datetime\n",
    "df_all['stoptime'] = pandas.to_datetime(df_all['stoptime'])"
   ]
  },
  {
   "source": [
    "### Test"
   ],
   "cell_type": "markdown",
   "metadata": {}
  },
  {
   "cell_type": "code",
   "execution_count": 52,
   "metadata": {},
   "outputs": [
    {
     "output_type": "execute_result",
     "data": {
      "text/plain": [
       "tripduration                        int64\n",
       "starttime                  datetime64[ns]\n",
       "stoptime                   datetime64[ns]\n",
       "start station id                    int64\n",
       "start station name                 object\n",
       "start station latitude            float64\n",
       "start station longitude           float64\n",
       "end station id                      int64\n",
       "end station name                   object\n",
       "end station latitude              float64\n",
       "end station longitude             float64\n",
       "bikeid                              int64\n",
       "usertype                           object\n",
       "dtype: object"
      ]
     },
     "metadata": {},
     "execution_count": 52
    }
   ],
   "source": [
    "df_all.dtypes"
   ]
  },
  {
   "source": [
    "## Cleaning part 2"
   ],
   "cell_type": "markdown",
   "metadata": {}
  },
  {
   "source": [
    "Let's first check if there are any outliers in the data."
   ],
   "cell_type": "markdown",
   "metadata": {}
  },
  {
   "cell_type": "code",
   "execution_count": 53,
   "metadata": {},
   "outputs": [
    {
     "output_type": "execute_result",
     "data": {
      "text/plain": [
       "       tripduration  start station id  start station latitude  \\\n",
       "count  2.073448e+06      2.073448e+06            2.073448e+06   \n",
       "mean   1.831438e+03      1.634481e+02            4.235597e+01   \n",
       "std    2.425891e+04      1.357767e+02            3.452189e-02   \n",
       "min    6.100000e+01      1.000000e+00            0.000000e+00   \n",
       "25%    4.750000e+02      5.500000e+01            4.234522e+01   \n",
       "50%    8.280000e+02      1.100000e+02            4.235560e+01   \n",
       "75%    1.443000e+03      2.390000e+02            4.236567e+01   \n",
       "max    3.879352e+06      4.990000e+02            4.241608e+01   \n",
       "\n",
       "       start station longitude  end station id  end station latitude  \\\n",
       "count             2.073448e+06    2.073448e+06          2.073448e+06   \n",
       "mean             -7.108868e+01    1.623836e+02          4.235589e+01   \n",
       "std               5.628081e-02    1.358793e+02          3.455072e-02   \n",
       "min              -7.122627e+01    1.000000e+00          0.000000e+00   \n",
       "25%              -7.110594e+01    5.500000e+01          4.234522e+01   \n",
       "50%              -7.108981e+01    1.080000e+02          4.235560e+01   \n",
       "75%              -7.106959e+01    2.390000e+02          4.236567e+01   \n",
       "max               0.000000e+00    4.990000e+02          4.241608e+01   \n",
       "\n",
       "       end station longitude        bikeid  \n",
       "count           2.073448e+06  2.073448e+06  \n",
       "mean           -7.108840e+01  4.263332e+03  \n",
       "std             5.626398e-02  1.272965e+03  \n",
       "min            -7.122627e+01  3.100000e+01  \n",
       "25%            -7.110567e+01  3.175000e+03  \n",
       "50%            -7.108822e+01  4.256000e+03  \n",
       "75%            -7.106894e+01  5.406000e+03  \n",
       "max             0.000000e+00  6.724000e+03  "
      ],
      "text/html": "<div>\n<style scoped>\n    .dataframe tbody tr th:only-of-type {\n        vertical-align: middle;\n    }\n\n    .dataframe tbody tr th {\n        vertical-align: top;\n    }\n\n    .dataframe thead th {\n        text-align: right;\n    }\n</style>\n<table border=\"1\" class=\"dataframe\">\n  <thead>\n    <tr style=\"text-align: right;\">\n      <th></th>\n      <th>tripduration</th>\n      <th>start station id</th>\n      <th>start station latitude</th>\n      <th>start station longitude</th>\n      <th>end station id</th>\n      <th>end station latitude</th>\n      <th>end station longitude</th>\n      <th>bikeid</th>\n    </tr>\n  </thead>\n  <tbody>\n    <tr>\n      <th>count</th>\n      <td>2.073448e+06</td>\n      <td>2.073448e+06</td>\n      <td>2.073448e+06</td>\n      <td>2.073448e+06</td>\n      <td>2.073448e+06</td>\n      <td>2.073448e+06</td>\n      <td>2.073448e+06</td>\n      <td>2.073448e+06</td>\n    </tr>\n    <tr>\n      <th>mean</th>\n      <td>1.831438e+03</td>\n      <td>1.634481e+02</td>\n      <td>4.235597e+01</td>\n      <td>-7.108868e+01</td>\n      <td>1.623836e+02</td>\n      <td>4.235589e+01</td>\n      <td>-7.108840e+01</td>\n      <td>4.263332e+03</td>\n    </tr>\n    <tr>\n      <th>std</th>\n      <td>2.425891e+04</td>\n      <td>1.357767e+02</td>\n      <td>3.452189e-02</td>\n      <td>5.628081e-02</td>\n      <td>1.358793e+02</td>\n      <td>3.455072e-02</td>\n      <td>5.626398e-02</td>\n      <td>1.272965e+03</td>\n    </tr>\n    <tr>\n      <th>min</th>\n      <td>6.100000e+01</td>\n      <td>1.000000e+00</td>\n      <td>0.000000e+00</td>\n      <td>-7.122627e+01</td>\n      <td>1.000000e+00</td>\n      <td>0.000000e+00</td>\n      <td>-7.122627e+01</td>\n      <td>3.100000e+01</td>\n    </tr>\n    <tr>\n      <th>25%</th>\n      <td>4.750000e+02</td>\n      <td>5.500000e+01</td>\n      <td>4.234522e+01</td>\n      <td>-7.110594e+01</td>\n      <td>5.500000e+01</td>\n      <td>4.234522e+01</td>\n      <td>-7.110567e+01</td>\n      <td>3.175000e+03</td>\n    </tr>\n    <tr>\n      <th>50%</th>\n      <td>8.280000e+02</td>\n      <td>1.100000e+02</td>\n      <td>4.235560e+01</td>\n      <td>-7.108981e+01</td>\n      <td>1.080000e+02</td>\n      <td>4.235560e+01</td>\n      <td>-7.108822e+01</td>\n      <td>4.256000e+03</td>\n    </tr>\n    <tr>\n      <th>75%</th>\n      <td>1.443000e+03</td>\n      <td>2.390000e+02</td>\n      <td>4.236567e+01</td>\n      <td>-7.106959e+01</td>\n      <td>2.390000e+02</td>\n      <td>4.236567e+01</td>\n      <td>-7.106894e+01</td>\n      <td>5.406000e+03</td>\n    </tr>\n    <tr>\n      <th>max</th>\n      <td>3.879352e+06</td>\n      <td>4.990000e+02</td>\n      <td>4.241608e+01</td>\n      <td>0.000000e+00</td>\n      <td>4.990000e+02</td>\n      <td>4.241608e+01</td>\n      <td>0.000000e+00</td>\n      <td>6.724000e+03</td>\n    </tr>\n  </tbody>\n</table>\n</div>"
     },
     "metadata": {},
     "execution_count": 53
    }
   ],
   "source": [
    "# assess df_all statistics\n",
    "df_all.describe()"
   ]
  },
  {
   "source": [
    "There must be some zero values in the start latitude and end latitude columns, but since I'm not going to explore the data in those columns, I will not clean the data there."
   ],
   "cell_type": "markdown",
   "metadata": {}
  },
  {
   "cell_type": "code",
   "execution_count": 54,
   "metadata": {},
   "outputs": [
    {
     "output_type": "execute_result",
     "data": {
      "text/plain": [
       "0"
      ]
     },
     "metadata": {},
     "execution_count": 54
    }
   ],
   "source": [
    "# assess df_all's duplicated values\n",
    "sum(df_all.duplicated())"
   ]
  },
  {
   "cell_type": "code",
   "execution_count": 55,
   "metadata": {},
   "outputs": [
    {
     "output_type": "execute_result",
     "data": {
      "text/plain": [
       "tripduration               0\n",
       "starttime                  0\n",
       "stoptime                   0\n",
       "start station id           0\n",
       "start station name         0\n",
       "start station latitude     0\n",
       "start station longitude    0\n",
       "end station id             0\n",
       "end station name           0\n",
       "end station latitude       0\n",
       "end station longitude      0\n",
       "bikeid                     0\n",
       "usertype                   0\n",
       "dtype: int64"
      ]
     },
     "metadata": {},
     "execution_count": 55
    }
   ],
   "source": [
    "# assess df_all's null values\n",
    "df_all.isnull().sum()"
   ]
  },
  {
   "source": [
    "It seems like the data set is clean enough to start my exploration towards the initial questions, but to be able to draw conclusions from the starttime column, I would like to extract a couple of values and create new columns.\n",
    "\n",
    "Q: When are the most trips taken in terms of time of day, day of the week, or month of the year?\n",
    " \n",
    " ### Tidiness Issues\n",
    "\n",
    "There is no way to see\n",
    "- which day of the week the data was recorded\n",
    "- if the day is a weekday or a weekend\n",
    "- which months of the year the data was recorded\n",
    "- which time of the day the data was recorded\n",
    "\n"
   ],
   "cell_type": "markdown",
   "metadata": {}
  },
  {
   "source": [
    "### Define \n",
    "There is no way to see which day of the week the data was recorded\n",
    "\n",
    "Action:\n",
    "- Create a column for the days of the week \n",
    "- Convert values to date time and then to week day names\n",
    "\n"
   ],
   "cell_type": "markdown",
   "metadata": {}
  },
  {
   "source": [
    "### Code"
   ],
   "cell_type": "markdown",
   "metadata": {}
  },
  {
   "cell_type": "code",
   "execution_count": 190,
   "metadata": {},
   "outputs": [],
   "source": [
    "# create a column for the days of the week using the starttime column\n",
    "\n",
    "df_all['weekday'] = df_all['starttime'].dt.dayofweek   \n"
   ]
  },
  {
   "source": [
    "### Test"
   ],
   "cell_type": "markdown",
   "metadata": {}
  },
  {
   "cell_type": "code",
   "execution_count": 191,
   "metadata": {},
   "outputs": [
    {
     "output_type": "execute_result",
     "data": {
      "text/plain": [
       "       tripduration               starttime                stoptime  \\\n",
       "0               478 2020-01-01 00:04:05.809 2020-01-01 00:12:04.237   \n",
       "1               363 2020-01-01 00:04:45.699 2020-01-01 00:10:49.040   \n",
       "2               284 2020-01-01 00:06:07.063 2020-01-01 00:10:51.924   \n",
       "3               193 2020-01-01 00:06:13.855 2020-01-01 00:09:27.832   \n",
       "4               428 2020-01-01 00:07:25.295 2020-01-01 00:14:33.780   \n",
       "...             ...                     ...                     ...   \n",
       "32947           130 2020-02-08 07:26:10.301 2020-02-08 07:28:21.117   \n",
       "32948           157 2020-02-08 07:27:17.874 2020-02-08 07:29:54.959   \n",
       "32949           629 2020-02-08 07:28:25.079 2020-02-08 07:38:54.861   \n",
       "32950           525 2020-02-08 07:29:50.489 2020-02-08 07:38:35.699   \n",
       "32951           283 2020-02-08 07:30:46.284 2020-02-08 07:35:29.419   \n",
       "\n",
       "       start station id                           start station name  \\\n",
       "0                   366                              Broadway T Stop   \n",
       "1                   219                  Boston East - 126 Border St   \n",
       "2                   219                  Boston East - 126 Border St   \n",
       "3                   396                         Main St at Beacon St   \n",
       "4                    60  Charles Circle - Charles St at Cambridge St   \n",
       "...                 ...                                          ...   \n",
       "32947               195                         Child St at North St   \n",
       "32948               116    359 Broadway - Broadway at Fayette Street   \n",
       "32949               118    Linear Park - Mass. Ave. at Cameron Ave.    \n",
       "32950               407                         Craigie at Summer St   \n",
       "32951               280                        Main St at Baldwin St   \n",
       "\n",
       "       start station latitude  start station longitude  end station id  \\\n",
       "0                   42.342781               -71.057473              93   \n",
       "1                   42.373312               -71.041020             212   \n",
       "2                   42.373312               -71.041020             212   \n",
       "3                   42.409330               -71.063819             387   \n",
       "4                   42.360793               -71.071190              49   \n",
       "...                       ...                      ...             ...   \n",
       "32947               42.371505               -71.072493              90   \n",
       "32948               42.370803               -71.104412              76   \n",
       "32949               42.397828               -71.130516             115   \n",
       "32950               42.383634               -71.108558             328   \n",
       "32951               42.380857               -71.070629             171   \n",
       "\n",
       "                                        end station name  \\\n",
       "0                                       JFK/UMass T Stop   \n",
       "1                           Maverick Square - Lewis Mall   \n",
       "2                           Maverick Square - Lewis Mall   \n",
       "3                                 Norman St at Kelvin St   \n",
       "4                                Stuart St at Charles St   \n",
       "...                                                  ...   \n",
       "32947        Lechmere Station at Cambridge St / First St   \n",
       "32948  Central Sq Post Office / Cambridge City Hall a...   \n",
       "32949                              Porter Square Station   \n",
       "32950                         Grove St at Community Path   \n",
       "32951                      Bunker Hill Community College   \n",
       "\n",
       "       end station latitude  end station longitude  bikeid    usertype  \\\n",
       "0                 42.320340             -71.051180    6005    Customer   \n",
       "1                 42.368844             -71.039778    3168  Subscriber   \n",
       "2                 42.368844             -71.039778    3985  Subscriber   \n",
       "3                 42.409859             -71.066319    2692  Subscriber   \n",
       "4                 42.351146             -71.066289    4978  Subscriber   \n",
       "...                     ...                    ...     ...         ...   \n",
       "32947             42.370677             -71.076529    3844  Subscriber   \n",
       "32948             42.366426             -71.105495    3684  Subscriber   \n",
       "32949             42.387995             -71.119084    4985  Subscriber   \n",
       "32950             42.396387             -71.120113    5624  Subscriber   \n",
       "32951             42.374090             -71.069060    3994  Subscriber   \n",
       "\n",
       "       weekday     month timeoftheday     type  \n",
       "0            2   January        00:04  Weekday  \n",
       "1            2   January        00:04  Weekday  \n",
       "2            2   January        00:06  Weekday  \n",
       "3            2   January        00:06  Weekday  \n",
       "4            2   January        00:07  Weekday  \n",
       "...        ...       ...          ...      ...  \n",
       "32947        5  February        07:26  Weekend  \n",
       "32948        5  February        07:27  Weekend  \n",
       "32949        5  February        07:28  Weekend  \n",
       "32950        5  February        07:29  Weekend  \n",
       "32951        5  February        07:30  Weekend  \n",
       "\n",
       "[161550 rows x 17 columns]"
      ],
      "text/html": "<div>\n<style scoped>\n    .dataframe tbody tr th:only-of-type {\n        vertical-align: middle;\n    }\n\n    .dataframe tbody tr th {\n        vertical-align: top;\n    }\n\n    .dataframe thead th {\n        text-align: right;\n    }\n</style>\n<table border=\"1\" class=\"dataframe\">\n  <thead>\n    <tr style=\"text-align: right;\">\n      <th></th>\n      <th>tripduration</th>\n      <th>starttime</th>\n      <th>stoptime</th>\n      <th>start station id</th>\n      <th>start station name</th>\n      <th>start station latitude</th>\n      <th>start station longitude</th>\n      <th>end station id</th>\n      <th>end station name</th>\n      <th>end station latitude</th>\n      <th>end station longitude</th>\n      <th>bikeid</th>\n      <th>usertype</th>\n      <th>weekday</th>\n      <th>month</th>\n      <th>timeoftheday</th>\n      <th>type</th>\n    </tr>\n  </thead>\n  <tbody>\n    <tr>\n      <th>0</th>\n      <td>478</td>\n      <td>2020-01-01 00:04:05.809</td>\n      <td>2020-01-01 00:12:04.237</td>\n      <td>366</td>\n      <td>Broadway T Stop</td>\n      <td>42.342781</td>\n      <td>-71.057473</td>\n      <td>93</td>\n      <td>JFK/UMass T Stop</td>\n      <td>42.320340</td>\n      <td>-71.051180</td>\n      <td>6005</td>\n      <td>Customer</td>\n      <td>2</td>\n      <td>January</td>\n      <td>00:04</td>\n      <td>Weekday</td>\n    </tr>\n    <tr>\n      <th>1</th>\n      <td>363</td>\n      <td>2020-01-01 00:04:45.699</td>\n      <td>2020-01-01 00:10:49.040</td>\n      <td>219</td>\n      <td>Boston East - 126 Border St</td>\n      <td>42.373312</td>\n      <td>-71.041020</td>\n      <td>212</td>\n      <td>Maverick Square - Lewis Mall</td>\n      <td>42.368844</td>\n      <td>-71.039778</td>\n      <td>3168</td>\n      <td>Subscriber</td>\n      <td>2</td>\n      <td>January</td>\n      <td>00:04</td>\n      <td>Weekday</td>\n    </tr>\n    <tr>\n      <th>2</th>\n      <td>284</td>\n      <td>2020-01-01 00:06:07.063</td>\n      <td>2020-01-01 00:10:51.924</td>\n      <td>219</td>\n      <td>Boston East - 126 Border St</td>\n      <td>42.373312</td>\n      <td>-71.041020</td>\n      <td>212</td>\n      <td>Maverick Square - Lewis Mall</td>\n      <td>42.368844</td>\n      <td>-71.039778</td>\n      <td>3985</td>\n      <td>Subscriber</td>\n      <td>2</td>\n      <td>January</td>\n      <td>00:06</td>\n      <td>Weekday</td>\n    </tr>\n    <tr>\n      <th>3</th>\n      <td>193</td>\n      <td>2020-01-01 00:06:13.855</td>\n      <td>2020-01-01 00:09:27.832</td>\n      <td>396</td>\n      <td>Main St at Beacon St</td>\n      <td>42.409330</td>\n      <td>-71.063819</td>\n      <td>387</td>\n      <td>Norman St at Kelvin St</td>\n      <td>42.409859</td>\n      <td>-71.066319</td>\n      <td>2692</td>\n      <td>Subscriber</td>\n      <td>2</td>\n      <td>January</td>\n      <td>00:06</td>\n      <td>Weekday</td>\n    </tr>\n    <tr>\n      <th>4</th>\n      <td>428</td>\n      <td>2020-01-01 00:07:25.295</td>\n      <td>2020-01-01 00:14:33.780</td>\n      <td>60</td>\n      <td>Charles Circle - Charles St at Cambridge St</td>\n      <td>42.360793</td>\n      <td>-71.071190</td>\n      <td>49</td>\n      <td>Stuart St at Charles St</td>\n      <td>42.351146</td>\n      <td>-71.066289</td>\n      <td>4978</td>\n      <td>Subscriber</td>\n      <td>2</td>\n      <td>January</td>\n      <td>00:07</td>\n      <td>Weekday</td>\n    </tr>\n    <tr>\n      <th>...</th>\n      <td>...</td>\n      <td>...</td>\n      <td>...</td>\n      <td>...</td>\n      <td>...</td>\n      <td>...</td>\n      <td>...</td>\n      <td>...</td>\n      <td>...</td>\n      <td>...</td>\n      <td>...</td>\n      <td>...</td>\n      <td>...</td>\n      <td>...</td>\n      <td>...</td>\n      <td>...</td>\n      <td>...</td>\n    </tr>\n    <tr>\n      <th>32947</th>\n      <td>130</td>\n      <td>2020-02-08 07:26:10.301</td>\n      <td>2020-02-08 07:28:21.117</td>\n      <td>195</td>\n      <td>Child St at North St</td>\n      <td>42.371505</td>\n      <td>-71.072493</td>\n      <td>90</td>\n      <td>Lechmere Station at Cambridge St / First St</td>\n      <td>42.370677</td>\n      <td>-71.076529</td>\n      <td>3844</td>\n      <td>Subscriber</td>\n      <td>5</td>\n      <td>February</td>\n      <td>07:26</td>\n      <td>Weekend</td>\n    </tr>\n    <tr>\n      <th>32948</th>\n      <td>157</td>\n      <td>2020-02-08 07:27:17.874</td>\n      <td>2020-02-08 07:29:54.959</td>\n      <td>116</td>\n      <td>359 Broadway - Broadway at Fayette Street</td>\n      <td>42.370803</td>\n      <td>-71.104412</td>\n      <td>76</td>\n      <td>Central Sq Post Office / Cambridge City Hall a...</td>\n      <td>42.366426</td>\n      <td>-71.105495</td>\n      <td>3684</td>\n      <td>Subscriber</td>\n      <td>5</td>\n      <td>February</td>\n      <td>07:27</td>\n      <td>Weekend</td>\n    </tr>\n    <tr>\n      <th>32949</th>\n      <td>629</td>\n      <td>2020-02-08 07:28:25.079</td>\n      <td>2020-02-08 07:38:54.861</td>\n      <td>118</td>\n      <td>Linear Park - Mass. Ave. at Cameron Ave.</td>\n      <td>42.397828</td>\n      <td>-71.130516</td>\n      <td>115</td>\n      <td>Porter Square Station</td>\n      <td>42.387995</td>\n      <td>-71.119084</td>\n      <td>4985</td>\n      <td>Subscriber</td>\n      <td>5</td>\n      <td>February</td>\n      <td>07:28</td>\n      <td>Weekend</td>\n    </tr>\n    <tr>\n      <th>32950</th>\n      <td>525</td>\n      <td>2020-02-08 07:29:50.489</td>\n      <td>2020-02-08 07:38:35.699</td>\n      <td>407</td>\n      <td>Craigie at Summer St</td>\n      <td>42.383634</td>\n      <td>-71.108558</td>\n      <td>328</td>\n      <td>Grove St at Community Path</td>\n      <td>42.396387</td>\n      <td>-71.120113</td>\n      <td>5624</td>\n      <td>Subscriber</td>\n      <td>5</td>\n      <td>February</td>\n      <td>07:29</td>\n      <td>Weekend</td>\n    </tr>\n    <tr>\n      <th>32951</th>\n      <td>283</td>\n      <td>2020-02-08 07:30:46.284</td>\n      <td>2020-02-08 07:35:29.419</td>\n      <td>280</td>\n      <td>Main St at Baldwin St</td>\n      <td>42.380857</td>\n      <td>-71.070629</td>\n      <td>171</td>\n      <td>Bunker Hill Community College</td>\n      <td>42.374090</td>\n      <td>-71.069060</td>\n      <td>3994</td>\n      <td>Subscriber</td>\n      <td>5</td>\n      <td>February</td>\n      <td>07:30</td>\n      <td>Weekend</td>\n    </tr>\n  </tbody>\n</table>\n<p>161550 rows × 17 columns</p>\n</div>"
     },
     "metadata": {},
     "execution_count": 191
    }
   ],
   "source": [
    "df_all.head(161550)"
   ]
  },
  {
   "source": [
    "### Define \n",
    "There is no way to see which day of the month the data was recorded\n",
    "\n",
    "Action:\n",
    "- Create a column for the months of the year\n",
    "- Convert values to date time and then to month names"
   ],
   "cell_type": "markdown",
   "metadata": {}
  },
  {
   "source": [
    "### Code"
   ],
   "cell_type": "markdown",
   "metadata": {}
  },
  {
   "cell_type": "code",
   "execution_count": 192,
   "metadata": {},
   "outputs": [],
   "source": [
    "# create a column for the months of the year using the starttime column\n",
    "df_all['month'] = pandas.DatetimeIndex(df_all['starttime']).month\n",
    "\n",
    "# convert values to date time and then month names\n",
    "\n",
    "df_all['month'] = pandas.to_datetime(df_all['month'], format='%m').dt.month_name()\n"
   ]
  },
  {
   "source": [
    "### Test"
   ],
   "cell_type": "markdown",
   "metadata": {}
  },
  {
   "cell_type": "code",
   "execution_count": 193,
   "metadata": {},
   "outputs": [
    {
     "output_type": "execute_result",
     "data": {
      "text/plain": [
       "   tripduration               starttime                stoptime  \\\n",
       "0           478 2020-01-01 00:04:05.809 2020-01-01 00:12:04.237   \n",
       "1           363 2020-01-01 00:04:45.699 2020-01-01 00:10:49.040   \n",
       "2           284 2020-01-01 00:06:07.063 2020-01-01 00:10:51.924   \n",
       "3           193 2020-01-01 00:06:13.855 2020-01-01 00:09:27.832   \n",
       "4           428 2020-01-01 00:07:25.295 2020-01-01 00:14:33.780   \n",
       "\n",
       "   start station id                           start station name  \\\n",
       "0               366                              Broadway T Stop   \n",
       "1               219                  Boston East - 126 Border St   \n",
       "2               219                  Boston East - 126 Border St   \n",
       "3               396                         Main St at Beacon St   \n",
       "4                60  Charles Circle - Charles St at Cambridge St   \n",
       "\n",
       "   start station latitude  start station longitude  end station id  \\\n",
       "0               42.342781               -71.057473              93   \n",
       "1               42.373312               -71.041020             212   \n",
       "2               42.373312               -71.041020             212   \n",
       "3               42.409330               -71.063819             387   \n",
       "4               42.360793               -71.071190              49   \n",
       "\n",
       "               end station name  end station latitude  end station longitude  \\\n",
       "0              JFK/UMass T Stop             42.320340             -71.051180   \n",
       "1  Maverick Square - Lewis Mall             42.368844             -71.039778   \n",
       "2  Maverick Square - Lewis Mall             42.368844             -71.039778   \n",
       "3        Norman St at Kelvin St             42.409859             -71.066319   \n",
       "4       Stuart St at Charles St             42.351146             -71.066289   \n",
       "\n",
       "   bikeid    usertype  weekday    month timeoftheday     type  \n",
       "0    6005    Customer        2  January        00:04  Weekday  \n",
       "1    3168  Subscriber        2  January        00:04  Weekday  \n",
       "2    3985  Subscriber        2  January        00:06  Weekday  \n",
       "3    2692  Subscriber        2  January        00:06  Weekday  \n",
       "4    4978  Subscriber        2  January        00:07  Weekday  "
      ],
      "text/html": "<div>\n<style scoped>\n    .dataframe tbody tr th:only-of-type {\n        vertical-align: middle;\n    }\n\n    .dataframe tbody tr th {\n        vertical-align: top;\n    }\n\n    .dataframe thead th {\n        text-align: right;\n    }\n</style>\n<table border=\"1\" class=\"dataframe\">\n  <thead>\n    <tr style=\"text-align: right;\">\n      <th></th>\n      <th>tripduration</th>\n      <th>starttime</th>\n      <th>stoptime</th>\n      <th>start station id</th>\n      <th>start station name</th>\n      <th>start station latitude</th>\n      <th>start station longitude</th>\n      <th>end station id</th>\n      <th>end station name</th>\n      <th>end station latitude</th>\n      <th>end station longitude</th>\n      <th>bikeid</th>\n      <th>usertype</th>\n      <th>weekday</th>\n      <th>month</th>\n      <th>timeoftheday</th>\n      <th>type</th>\n    </tr>\n  </thead>\n  <tbody>\n    <tr>\n      <th>0</th>\n      <td>478</td>\n      <td>2020-01-01 00:04:05.809</td>\n      <td>2020-01-01 00:12:04.237</td>\n      <td>366</td>\n      <td>Broadway T Stop</td>\n      <td>42.342781</td>\n      <td>-71.057473</td>\n      <td>93</td>\n      <td>JFK/UMass T Stop</td>\n      <td>42.320340</td>\n      <td>-71.051180</td>\n      <td>6005</td>\n      <td>Customer</td>\n      <td>2</td>\n      <td>January</td>\n      <td>00:04</td>\n      <td>Weekday</td>\n    </tr>\n    <tr>\n      <th>1</th>\n      <td>363</td>\n      <td>2020-01-01 00:04:45.699</td>\n      <td>2020-01-01 00:10:49.040</td>\n      <td>219</td>\n      <td>Boston East - 126 Border St</td>\n      <td>42.373312</td>\n      <td>-71.041020</td>\n      <td>212</td>\n      <td>Maverick Square - Lewis Mall</td>\n      <td>42.368844</td>\n      <td>-71.039778</td>\n      <td>3168</td>\n      <td>Subscriber</td>\n      <td>2</td>\n      <td>January</td>\n      <td>00:04</td>\n      <td>Weekday</td>\n    </tr>\n    <tr>\n      <th>2</th>\n      <td>284</td>\n      <td>2020-01-01 00:06:07.063</td>\n      <td>2020-01-01 00:10:51.924</td>\n      <td>219</td>\n      <td>Boston East - 126 Border St</td>\n      <td>42.373312</td>\n      <td>-71.041020</td>\n      <td>212</td>\n      <td>Maverick Square - Lewis Mall</td>\n      <td>42.368844</td>\n      <td>-71.039778</td>\n      <td>3985</td>\n      <td>Subscriber</td>\n      <td>2</td>\n      <td>January</td>\n      <td>00:06</td>\n      <td>Weekday</td>\n    </tr>\n    <tr>\n      <th>3</th>\n      <td>193</td>\n      <td>2020-01-01 00:06:13.855</td>\n      <td>2020-01-01 00:09:27.832</td>\n      <td>396</td>\n      <td>Main St at Beacon St</td>\n      <td>42.409330</td>\n      <td>-71.063819</td>\n      <td>387</td>\n      <td>Norman St at Kelvin St</td>\n      <td>42.409859</td>\n      <td>-71.066319</td>\n      <td>2692</td>\n      <td>Subscriber</td>\n      <td>2</td>\n      <td>January</td>\n      <td>00:06</td>\n      <td>Weekday</td>\n    </tr>\n    <tr>\n      <th>4</th>\n      <td>428</td>\n      <td>2020-01-01 00:07:25.295</td>\n      <td>2020-01-01 00:14:33.780</td>\n      <td>60</td>\n      <td>Charles Circle - Charles St at Cambridge St</td>\n      <td>42.360793</td>\n      <td>-71.071190</td>\n      <td>49</td>\n      <td>Stuart St at Charles St</td>\n      <td>42.351146</td>\n      <td>-71.066289</td>\n      <td>4978</td>\n      <td>Subscriber</td>\n      <td>2</td>\n      <td>January</td>\n      <td>00:07</td>\n      <td>Weekday</td>\n    </tr>\n  </tbody>\n</table>\n</div>"
     },
     "metadata": {},
     "execution_count": 193
    }
   ],
   "source": [
    "df_all.head()"
   ]
  },
  {
   "source": [
    "### Define \n",
    "There is no way to see which time of the day the data was recorded\n",
    "\n",
    "Action:\n",
    "- Create a column for the time of the day\n"
   ],
   "cell_type": "markdown",
   "metadata": {}
  },
  {
   "source": [
    "### Code"
   ],
   "cell_type": "markdown",
   "metadata": {}
  },
  {
   "cell_type": "code",
   "execution_count": 194,
   "metadata": {},
   "outputs": [],
   "source": [
    "# create a column for the time of the day using the starttime column\n",
    "df_all['timeoftheday']= df_all['starttime'].dt.strftime('%H:%M')"
   ]
  },
  {
   "source": [
    "### Test"
   ],
   "cell_type": "markdown",
   "metadata": {}
  },
  {
   "cell_type": "code",
   "execution_count": 195,
   "metadata": {},
   "outputs": [
    {
     "output_type": "execute_result",
     "data": {
      "text/plain": [
       "   tripduration               starttime                stoptime  \\\n",
       "0           478 2020-01-01 00:04:05.809 2020-01-01 00:12:04.237   \n",
       "1           363 2020-01-01 00:04:45.699 2020-01-01 00:10:49.040   \n",
       "2           284 2020-01-01 00:06:07.063 2020-01-01 00:10:51.924   \n",
       "3           193 2020-01-01 00:06:13.855 2020-01-01 00:09:27.832   \n",
       "4           428 2020-01-01 00:07:25.295 2020-01-01 00:14:33.780   \n",
       "\n",
       "   start station id                           start station name  \\\n",
       "0               366                              Broadway T Stop   \n",
       "1               219                  Boston East - 126 Border St   \n",
       "2               219                  Boston East - 126 Border St   \n",
       "3               396                         Main St at Beacon St   \n",
       "4                60  Charles Circle - Charles St at Cambridge St   \n",
       "\n",
       "   start station latitude  start station longitude  end station id  \\\n",
       "0               42.342781               -71.057473              93   \n",
       "1               42.373312               -71.041020             212   \n",
       "2               42.373312               -71.041020             212   \n",
       "3               42.409330               -71.063819             387   \n",
       "4               42.360793               -71.071190              49   \n",
       "\n",
       "               end station name  end station latitude  end station longitude  \\\n",
       "0              JFK/UMass T Stop             42.320340             -71.051180   \n",
       "1  Maverick Square - Lewis Mall             42.368844             -71.039778   \n",
       "2  Maverick Square - Lewis Mall             42.368844             -71.039778   \n",
       "3        Norman St at Kelvin St             42.409859             -71.066319   \n",
       "4       Stuart St at Charles St             42.351146             -71.066289   \n",
       "\n",
       "   bikeid    usertype  weekday    month timeoftheday     type  \n",
       "0    6005    Customer        2  January        00:04  Weekday  \n",
       "1    3168  Subscriber        2  January        00:04  Weekday  \n",
       "2    3985  Subscriber        2  January        00:06  Weekday  \n",
       "3    2692  Subscriber        2  January        00:06  Weekday  \n",
       "4    4978  Subscriber        2  January        00:07  Weekday  "
      ],
      "text/html": "<div>\n<style scoped>\n    .dataframe tbody tr th:only-of-type {\n        vertical-align: middle;\n    }\n\n    .dataframe tbody tr th {\n        vertical-align: top;\n    }\n\n    .dataframe thead th {\n        text-align: right;\n    }\n</style>\n<table border=\"1\" class=\"dataframe\">\n  <thead>\n    <tr style=\"text-align: right;\">\n      <th></th>\n      <th>tripduration</th>\n      <th>starttime</th>\n      <th>stoptime</th>\n      <th>start station id</th>\n      <th>start station name</th>\n      <th>start station latitude</th>\n      <th>start station longitude</th>\n      <th>end station id</th>\n      <th>end station name</th>\n      <th>end station latitude</th>\n      <th>end station longitude</th>\n      <th>bikeid</th>\n      <th>usertype</th>\n      <th>weekday</th>\n      <th>month</th>\n      <th>timeoftheday</th>\n      <th>type</th>\n    </tr>\n  </thead>\n  <tbody>\n    <tr>\n      <th>0</th>\n      <td>478</td>\n      <td>2020-01-01 00:04:05.809</td>\n      <td>2020-01-01 00:12:04.237</td>\n      <td>366</td>\n      <td>Broadway T Stop</td>\n      <td>42.342781</td>\n      <td>-71.057473</td>\n      <td>93</td>\n      <td>JFK/UMass T Stop</td>\n      <td>42.320340</td>\n      <td>-71.051180</td>\n      <td>6005</td>\n      <td>Customer</td>\n      <td>2</td>\n      <td>January</td>\n      <td>00:04</td>\n      <td>Weekday</td>\n    </tr>\n    <tr>\n      <th>1</th>\n      <td>363</td>\n      <td>2020-01-01 00:04:45.699</td>\n      <td>2020-01-01 00:10:49.040</td>\n      <td>219</td>\n      <td>Boston East - 126 Border St</td>\n      <td>42.373312</td>\n      <td>-71.041020</td>\n      <td>212</td>\n      <td>Maverick Square - Lewis Mall</td>\n      <td>42.368844</td>\n      <td>-71.039778</td>\n      <td>3168</td>\n      <td>Subscriber</td>\n      <td>2</td>\n      <td>January</td>\n      <td>00:04</td>\n      <td>Weekday</td>\n    </tr>\n    <tr>\n      <th>2</th>\n      <td>284</td>\n      <td>2020-01-01 00:06:07.063</td>\n      <td>2020-01-01 00:10:51.924</td>\n      <td>219</td>\n      <td>Boston East - 126 Border St</td>\n      <td>42.373312</td>\n      <td>-71.041020</td>\n      <td>212</td>\n      <td>Maverick Square - Lewis Mall</td>\n      <td>42.368844</td>\n      <td>-71.039778</td>\n      <td>3985</td>\n      <td>Subscriber</td>\n      <td>2</td>\n      <td>January</td>\n      <td>00:06</td>\n      <td>Weekday</td>\n    </tr>\n    <tr>\n      <th>3</th>\n      <td>193</td>\n      <td>2020-01-01 00:06:13.855</td>\n      <td>2020-01-01 00:09:27.832</td>\n      <td>396</td>\n      <td>Main St at Beacon St</td>\n      <td>42.409330</td>\n      <td>-71.063819</td>\n      <td>387</td>\n      <td>Norman St at Kelvin St</td>\n      <td>42.409859</td>\n      <td>-71.066319</td>\n      <td>2692</td>\n      <td>Subscriber</td>\n      <td>2</td>\n      <td>January</td>\n      <td>00:06</td>\n      <td>Weekday</td>\n    </tr>\n    <tr>\n      <th>4</th>\n      <td>428</td>\n      <td>2020-01-01 00:07:25.295</td>\n      <td>2020-01-01 00:14:33.780</td>\n      <td>60</td>\n      <td>Charles Circle - Charles St at Cambridge St</td>\n      <td>42.360793</td>\n      <td>-71.071190</td>\n      <td>49</td>\n      <td>Stuart St at Charles St</td>\n      <td>42.351146</td>\n      <td>-71.066289</td>\n      <td>4978</td>\n      <td>Subscriber</td>\n      <td>2</td>\n      <td>January</td>\n      <td>00:07</td>\n      <td>Weekday</td>\n    </tr>\n  </tbody>\n</table>\n</div>"
     },
     "metadata": {},
     "execution_count": 195
    }
   ],
   "source": [
    "df_all.head()"
   ]
  },
  {
   "source": [
    "### Define \n",
    "There is no way to see if the day of the week is a weekday or a weekend\n",
    "\n",
    "Action:\n",
    "- Create a column to state if it's a weekday or weekend"
   ],
   "cell_type": "markdown",
   "metadata": {}
  },
  {
   "source": [
    "### Code"
   ],
   "cell_type": "markdown",
   "metadata": {}
  },
  {
   "cell_type": "code",
   "execution_count": 196,
   "metadata": {},
   "outputs": [],
   "source": [
    "df_all['type'] = df_all.starttime.dt.weekday.apply(lambda x: 'Weekday' if x < 5 else 'Weekend')"
   ]
  },
  {
   "source": [
    "### Test"
   ],
   "cell_type": "markdown",
   "metadata": {}
  },
  {
   "cell_type": "code",
   "execution_count": 199,
   "metadata": {},
   "outputs": [
    {
     "output_type": "execute_result",
     "data": {
      "text/plain": [
       "       tripduration               starttime                stoptime  \\\n",
       "0               478 2020-01-01 00:04:05.809 2020-01-01 00:12:04.237   \n",
       "1               363 2020-01-01 00:04:45.699 2020-01-01 00:10:49.040   \n",
       "2               284 2020-01-01 00:06:07.063 2020-01-01 00:10:51.924   \n",
       "3               193 2020-01-01 00:06:13.855 2020-01-01 00:09:27.832   \n",
       "4               428 2020-01-01 00:07:25.295 2020-01-01 00:14:33.780   \n",
       "...             ...                     ...                     ...   \n",
       "32947           130 2020-02-08 07:26:10.301 2020-02-08 07:28:21.117   \n",
       "32948           157 2020-02-08 07:27:17.874 2020-02-08 07:29:54.959   \n",
       "32949           629 2020-02-08 07:28:25.079 2020-02-08 07:38:54.861   \n",
       "32950           525 2020-02-08 07:29:50.489 2020-02-08 07:38:35.699   \n",
       "32951           283 2020-02-08 07:30:46.284 2020-02-08 07:35:29.419   \n",
       "\n",
       "       start station id                           start station name  \\\n",
       "0                   366                              Broadway T Stop   \n",
       "1                   219                  Boston East - 126 Border St   \n",
       "2                   219                  Boston East - 126 Border St   \n",
       "3                   396                         Main St at Beacon St   \n",
       "4                    60  Charles Circle - Charles St at Cambridge St   \n",
       "...                 ...                                          ...   \n",
       "32947               195                         Child St at North St   \n",
       "32948               116    359 Broadway - Broadway at Fayette Street   \n",
       "32949               118    Linear Park - Mass. Ave. at Cameron Ave.    \n",
       "32950               407                         Craigie at Summer St   \n",
       "32951               280                        Main St at Baldwin St   \n",
       "\n",
       "       start station latitude  start station longitude  end station id  \\\n",
       "0                   42.342781               -71.057473              93   \n",
       "1                   42.373312               -71.041020             212   \n",
       "2                   42.373312               -71.041020             212   \n",
       "3                   42.409330               -71.063819             387   \n",
       "4                   42.360793               -71.071190              49   \n",
       "...                       ...                      ...             ...   \n",
       "32947               42.371505               -71.072493              90   \n",
       "32948               42.370803               -71.104412              76   \n",
       "32949               42.397828               -71.130516             115   \n",
       "32950               42.383634               -71.108558             328   \n",
       "32951               42.380857               -71.070629             171   \n",
       "\n",
       "                                        end station name  \\\n",
       "0                                       JFK/UMass T Stop   \n",
       "1                           Maverick Square - Lewis Mall   \n",
       "2                           Maverick Square - Lewis Mall   \n",
       "3                                 Norman St at Kelvin St   \n",
       "4                                Stuart St at Charles St   \n",
       "...                                                  ...   \n",
       "32947        Lechmere Station at Cambridge St / First St   \n",
       "32948  Central Sq Post Office / Cambridge City Hall a...   \n",
       "32949                              Porter Square Station   \n",
       "32950                         Grove St at Community Path   \n",
       "32951                      Bunker Hill Community College   \n",
       "\n",
       "       end station latitude  end station longitude  bikeid    usertype  \\\n",
       "0                 42.320340             -71.051180    6005    Customer   \n",
       "1                 42.368844             -71.039778    3168  Subscriber   \n",
       "2                 42.368844             -71.039778    3985  Subscriber   \n",
       "3                 42.409859             -71.066319    2692  Subscriber   \n",
       "4                 42.351146             -71.066289    4978  Subscriber   \n",
       "...                     ...                    ...     ...         ...   \n",
       "32947             42.370677             -71.076529    3844  Subscriber   \n",
       "32948             42.366426             -71.105495    3684  Subscriber   \n",
       "32949             42.387995             -71.119084    4985  Subscriber   \n",
       "32950             42.396387             -71.120113    5624  Subscriber   \n",
       "32951             42.374090             -71.069060    3994  Subscriber   \n",
       "\n",
       "       weekday     month timeoftheday     type  \n",
       "0            2   January        00:04  Weekday  \n",
       "1            2   January        00:04  Weekday  \n",
       "2            2   January        00:06  Weekday  \n",
       "3            2   January        00:06  Weekday  \n",
       "4            2   January        00:07  Weekday  \n",
       "...        ...       ...          ...      ...  \n",
       "32947        5  February        07:26  Weekend  \n",
       "32948        5  February        07:27  Weekend  \n",
       "32949        5  February        07:28  Weekend  \n",
       "32950        5  February        07:29  Weekend  \n",
       "32951        5  February        07:30  Weekend  \n",
       "\n",
       "[161550 rows x 17 columns]"
      ],
      "text/html": "<div>\n<style scoped>\n    .dataframe tbody tr th:only-of-type {\n        vertical-align: middle;\n    }\n\n    .dataframe tbody tr th {\n        vertical-align: top;\n    }\n\n    .dataframe thead th {\n        text-align: right;\n    }\n</style>\n<table border=\"1\" class=\"dataframe\">\n  <thead>\n    <tr style=\"text-align: right;\">\n      <th></th>\n      <th>tripduration</th>\n      <th>starttime</th>\n      <th>stoptime</th>\n      <th>start station id</th>\n      <th>start station name</th>\n      <th>start station latitude</th>\n      <th>start station longitude</th>\n      <th>end station id</th>\n      <th>end station name</th>\n      <th>end station latitude</th>\n      <th>end station longitude</th>\n      <th>bikeid</th>\n      <th>usertype</th>\n      <th>weekday</th>\n      <th>month</th>\n      <th>timeoftheday</th>\n      <th>type</th>\n    </tr>\n  </thead>\n  <tbody>\n    <tr>\n      <th>0</th>\n      <td>478</td>\n      <td>2020-01-01 00:04:05.809</td>\n      <td>2020-01-01 00:12:04.237</td>\n      <td>366</td>\n      <td>Broadway T Stop</td>\n      <td>42.342781</td>\n      <td>-71.057473</td>\n      <td>93</td>\n      <td>JFK/UMass T Stop</td>\n      <td>42.320340</td>\n      <td>-71.051180</td>\n      <td>6005</td>\n      <td>Customer</td>\n      <td>2</td>\n      <td>January</td>\n      <td>00:04</td>\n      <td>Weekday</td>\n    </tr>\n    <tr>\n      <th>1</th>\n      <td>363</td>\n      <td>2020-01-01 00:04:45.699</td>\n      <td>2020-01-01 00:10:49.040</td>\n      <td>219</td>\n      <td>Boston East - 126 Border St</td>\n      <td>42.373312</td>\n      <td>-71.041020</td>\n      <td>212</td>\n      <td>Maverick Square - Lewis Mall</td>\n      <td>42.368844</td>\n      <td>-71.039778</td>\n      <td>3168</td>\n      <td>Subscriber</td>\n      <td>2</td>\n      <td>January</td>\n      <td>00:04</td>\n      <td>Weekday</td>\n    </tr>\n    <tr>\n      <th>2</th>\n      <td>284</td>\n      <td>2020-01-01 00:06:07.063</td>\n      <td>2020-01-01 00:10:51.924</td>\n      <td>219</td>\n      <td>Boston East - 126 Border St</td>\n      <td>42.373312</td>\n      <td>-71.041020</td>\n      <td>212</td>\n      <td>Maverick Square - Lewis Mall</td>\n      <td>42.368844</td>\n      <td>-71.039778</td>\n      <td>3985</td>\n      <td>Subscriber</td>\n      <td>2</td>\n      <td>January</td>\n      <td>00:06</td>\n      <td>Weekday</td>\n    </tr>\n    <tr>\n      <th>3</th>\n      <td>193</td>\n      <td>2020-01-01 00:06:13.855</td>\n      <td>2020-01-01 00:09:27.832</td>\n      <td>396</td>\n      <td>Main St at Beacon St</td>\n      <td>42.409330</td>\n      <td>-71.063819</td>\n      <td>387</td>\n      <td>Norman St at Kelvin St</td>\n      <td>42.409859</td>\n      <td>-71.066319</td>\n      <td>2692</td>\n      <td>Subscriber</td>\n      <td>2</td>\n      <td>January</td>\n      <td>00:06</td>\n      <td>Weekday</td>\n    </tr>\n    <tr>\n      <th>4</th>\n      <td>428</td>\n      <td>2020-01-01 00:07:25.295</td>\n      <td>2020-01-01 00:14:33.780</td>\n      <td>60</td>\n      <td>Charles Circle - Charles St at Cambridge St</td>\n      <td>42.360793</td>\n      <td>-71.071190</td>\n      <td>49</td>\n      <td>Stuart St at Charles St</td>\n      <td>42.351146</td>\n      <td>-71.066289</td>\n      <td>4978</td>\n      <td>Subscriber</td>\n      <td>2</td>\n      <td>January</td>\n      <td>00:07</td>\n      <td>Weekday</td>\n    </tr>\n    <tr>\n      <th>...</th>\n      <td>...</td>\n      <td>...</td>\n      <td>...</td>\n      <td>...</td>\n      <td>...</td>\n      <td>...</td>\n      <td>...</td>\n      <td>...</td>\n      <td>...</td>\n      <td>...</td>\n      <td>...</td>\n      <td>...</td>\n      <td>...</td>\n      <td>...</td>\n      <td>...</td>\n      <td>...</td>\n      <td>...</td>\n    </tr>\n    <tr>\n      <th>32947</th>\n      <td>130</td>\n      <td>2020-02-08 07:26:10.301</td>\n      <td>2020-02-08 07:28:21.117</td>\n      <td>195</td>\n      <td>Child St at North St</td>\n      <td>42.371505</td>\n      <td>-71.072493</td>\n      <td>90</td>\n      <td>Lechmere Station at Cambridge St / First St</td>\n      <td>42.370677</td>\n      <td>-71.076529</td>\n      <td>3844</td>\n      <td>Subscriber</td>\n      <td>5</td>\n      <td>February</td>\n      <td>07:26</td>\n      <td>Weekend</td>\n    </tr>\n    <tr>\n      <th>32948</th>\n      <td>157</td>\n      <td>2020-02-08 07:27:17.874</td>\n      <td>2020-02-08 07:29:54.959</td>\n      <td>116</td>\n      <td>359 Broadway - Broadway at Fayette Street</td>\n      <td>42.370803</td>\n      <td>-71.104412</td>\n      <td>76</td>\n      <td>Central Sq Post Office / Cambridge City Hall a...</td>\n      <td>42.366426</td>\n      <td>-71.105495</td>\n      <td>3684</td>\n      <td>Subscriber</td>\n      <td>5</td>\n      <td>February</td>\n      <td>07:27</td>\n      <td>Weekend</td>\n    </tr>\n    <tr>\n      <th>32949</th>\n      <td>629</td>\n      <td>2020-02-08 07:28:25.079</td>\n      <td>2020-02-08 07:38:54.861</td>\n      <td>118</td>\n      <td>Linear Park - Mass. Ave. at Cameron Ave.</td>\n      <td>42.397828</td>\n      <td>-71.130516</td>\n      <td>115</td>\n      <td>Porter Square Station</td>\n      <td>42.387995</td>\n      <td>-71.119084</td>\n      <td>4985</td>\n      <td>Subscriber</td>\n      <td>5</td>\n      <td>February</td>\n      <td>07:28</td>\n      <td>Weekend</td>\n    </tr>\n    <tr>\n      <th>32950</th>\n      <td>525</td>\n      <td>2020-02-08 07:29:50.489</td>\n      <td>2020-02-08 07:38:35.699</td>\n      <td>407</td>\n      <td>Craigie at Summer St</td>\n      <td>42.383634</td>\n      <td>-71.108558</td>\n      <td>328</td>\n      <td>Grove St at Community Path</td>\n      <td>42.396387</td>\n      <td>-71.120113</td>\n      <td>5624</td>\n      <td>Subscriber</td>\n      <td>5</td>\n      <td>February</td>\n      <td>07:29</td>\n      <td>Weekend</td>\n    </tr>\n    <tr>\n      <th>32951</th>\n      <td>283</td>\n      <td>2020-02-08 07:30:46.284</td>\n      <td>2020-02-08 07:35:29.419</td>\n      <td>280</td>\n      <td>Main St at Baldwin St</td>\n      <td>42.380857</td>\n      <td>-71.070629</td>\n      <td>171</td>\n      <td>Bunker Hill Community College</td>\n      <td>42.374090</td>\n      <td>-71.069060</td>\n      <td>3994</td>\n      <td>Subscriber</td>\n      <td>5</td>\n      <td>February</td>\n      <td>07:30</td>\n      <td>Weekend</td>\n    </tr>\n  </tbody>\n</table>\n<p>161550 rows × 17 columns</p>\n</div>"
     },
     "metadata": {},
     "execution_count": 199
    }
   ],
   "source": [
    "df_all.head(161550)\n"
   ]
  },
  {
   "cell_type": "code",
   "execution_count": 305,
   "metadata": {},
   "outputs": [
    {
     "output_type": "execute_result",
     "data": {
      "text/plain": [
       "tripduration                        int64\n",
       "starttime                  datetime64[ns]\n",
       "stoptime                   datetime64[ns]\n",
       "start station id                    int64\n",
       "start station name                 object\n",
       "start station latitude            float64\n",
       "start station longitude           float64\n",
       "end station id                      int64\n",
       "end station name                   object\n",
       "end station latitude              float64\n",
       "end station longitude             float64\n",
       "bikeid                              int64\n",
       "usertype                           object\n",
       "weekday                             int64\n",
       "month                              object\n",
       "timeoftheday               datetime64[ns]\n",
       "type                               object\n",
       "dtype: object"
      ]
     },
     "metadata": {},
     "execution_count": 305
    }
   ],
   "source": [
    "df_all.dtypes"
   ]
  },
  {
   "source": [
    "## Explore Univariate Variables\n",
    "\n",
    "In this section, I'll investigate distributions of individual variables. My aim is to check if there are any unusual points or outliers, take a deeper look to clean things up and prepare myself to look at relationships between variables.\n",
    "\n",
    "I will look into the following:\n",
    "- How long does the average trip take?\n",
    "- Which are the most used start and end stations?\n",
    "- When are the most trips taken in terms of time of day, day of the week, or month of the year?\n",
    "\n"
   ],
   "cell_type": "markdown",
   "metadata": {}
  },
  {
   "cell_type": "code",
   "execution_count": 198,
   "metadata": {},
   "outputs": [
    {
     "output_type": "execute_result",
     "data": {
      "text/plain": [
       "1831.438460477427"
      ]
     },
     "metadata": {},
     "execution_count": 198
    }
   ],
   "source": [
    "# asses how long does the average trip take\n",
    "df_all['tripduration'].mean()"
   ]
  },
  {
   "source": [
    "The average trip takes 1831 seconds, which is approx. 30 minutes. I would like to see how the most frequent trip durations and the min and max value compare to the average."
   ],
   "cell_type": "markdown",
   "metadata": {}
  },
  {
   "cell_type": "code",
   "execution_count": 65,
   "metadata": {},
   "outputs": [
    {
     "output_type": "execute_result",
     "data": {
      "text/plain": [
       "397    1897\n",
       "382    1884\n",
       "410    1879\n",
       "399    1878\n",
       "366    1873\n",
       "376    1871\n",
       "361    1866\n",
       "391    1865\n",
       "393    1863\n",
       "380    1857\n",
       "360    1857\n",
       "352    1853\n",
       "405    1851\n",
       "368    1850\n",
       "346    1847\n",
       "Name: tripduration, dtype: int64"
      ]
     },
     "metadata": {},
     "execution_count": 65
    }
   ],
   "source": [
    "# assess trip duration column's 15 most frequent values in descending order\n",
    "df_all['tripduration'].value_counts().sort_values(ascending=False)[:15]\n"
   ]
  },
  {
   "source": [
    "The most frequent trip duration shows values between 1847 and 1897 seconds which is around 30 minutes as well."
   ],
   "cell_type": "markdown",
   "metadata": {}
  },
  {
   "cell_type": "code",
   "execution_count": 169,
   "metadata": {},
   "outputs": [
    {
     "output_type": "execute_result",
     "data": {
      "text/plain": [
       "61"
      ]
     },
     "metadata": {},
     "execution_count": 169
    }
   ],
   "source": [
    "df_all['tripduration'].min()"
   ]
  },
  {
   "cell_type": "code",
   "execution_count": 170,
   "metadata": {},
   "outputs": [
    {
     "output_type": "execute_result",
     "data": {
      "text/plain": [
       "3879352"
      ]
     },
     "metadata": {},
     "execution_count": 170
    }
   ],
   "source": [
    "df_all['tripduration'].max()"
   ]
  },
  {
   "source": [
    "It seems like both minimum and maximum values are mistakes done by the users, either they didn't ride the bike just started the rental (minimum duration is around 1 minute) or they left the bike without closing the rental (maximum duration is 64655 minutes)."
   ],
   "cell_type": "markdown",
   "metadata": {}
  },
  {
   "source": [
    "Next, I will investigate the most frequently used start and end stations."
   ],
   "cell_type": "markdown",
   "metadata": {}
  },
  {
   "cell_type": "code",
   "execution_count": 138,
   "metadata": {},
   "outputs": [
    {
     "output_type": "execute_result",
     "data": {
      "text/plain": [
       "68     34220\n",
       "60     33094\n",
       "67     29301\n",
       "46     27899\n",
       "107    23308\n",
       "342    22866\n",
       "178    22503\n",
       "47     22194\n",
       "74     21111\n",
       "53     20713\n",
       "80     20239\n",
       "179    19741\n",
       "Name: start station id, dtype: int64"
      ]
     },
     "metadata": {},
     "execution_count": 138
    }
   ],
   "source": [
    "# assess start station id column's 12 most frequent values in descending order\n",
    "df_all['start station id'].value_counts().sort_values(ascending=False)[:12]"
   ]
  },
  {
   "cell_type": "code",
   "execution_count": 79,
   "metadata": {},
   "outputs": [
    {
     "output_type": "execute_result",
     "data": {
      "text/plain": [
       "184      Central Square at Mass Ave / Essex St\n",
       "475      Central Square at Mass Ave / Essex St\n",
       "536      Central Square at Mass Ave / Essex St\n",
       "559      Central Square at Mass Ave / Essex St\n",
       "594      Central Square at Mass Ave / Essex St\n",
       "                         ...                  \n",
       "73823    Central Square at Mass Ave / Essex St\n",
       "73854    Central Square at Mass Ave / Essex St\n",
       "73855    Central Square at Mass Ave / Essex St\n",
       "73925    Central Square at Mass Ave / Essex St\n",
       "73960    Central Square at Mass Ave / Essex St\n",
       "Name: start station name, Length: 34220, dtype: object"
      ]
     },
     "metadata": {},
     "execution_count": 79
    }
   ],
   "source": [
    "df_all.loc[df_all['start station id'] == 68, 'start station name']"
   ]
  },
  {
   "cell_type": "code",
   "execution_count": 80,
   "metadata": {},
   "outputs": [
    {
     "output_type": "execute_result",
     "data": {
      "text/plain": [
       "4        Charles Circle - Charles St at Cambridge St\n",
       "268      Charles Circle - Charles St at Cambridge St\n",
       "425      Charles Circle - Charles St at Cambridge St\n",
       "426      Charles Circle - Charles St at Cambridge St\n",
       "470      Charles Circle - Charles St at Cambridge St\n",
       "                            ...                     \n",
       "73645    Charles Circle - Charles St at Cambridge St\n",
       "73716    Charles Circle - Charles St at Cambridge St\n",
       "73752    Charles Circle - Charles St at Cambridge St\n",
       "73891    Charles Circle - Charles St at Cambridge St\n",
       "73912    Charles Circle - Charles St at Cambridge St\n",
       "Name: start station name, Length: 33094, dtype: object"
      ]
     },
     "metadata": {},
     "execution_count": 80
    }
   ],
   "source": [
    "df_all.loc[df_all['start station id'] == 60, 'start station name']"
   ]
  },
  {
   "cell_type": "code",
   "execution_count": 81,
   "metadata": {},
   "outputs": [
    {
     "output_type": "execute_result",
     "data": {
      "text/plain": [
       "171      MIT at Mass Ave / Amherst St\n",
       "172      MIT at Mass Ave / Amherst St\n",
       "216      MIT at Mass Ave / Amherst St\n",
       "234      MIT at Mass Ave / Amherst St\n",
       "279      MIT at Mass Ave / Amherst St\n",
       "                     ...             \n",
       "73383    MIT at Mass Ave / Amherst St\n",
       "73485    MIT at Mass Ave / Amherst St\n",
       "73511    MIT at Mass Ave / Amherst St\n",
       "73519    MIT at Mass Ave / Amherst St\n",
       "73653    MIT at Mass Ave / Amherst St\n",
       "Name: start station name, Length: 29301, dtype: object"
      ]
     },
     "metadata": {},
     "execution_count": 81
    }
   ],
   "source": [
    "df_all.loc[df_all['start station id'] == 67, 'start station name']"
   ]
  },
  {
   "cell_type": "code",
   "execution_count": 82,
   "metadata": {},
   "outputs": [
    {
     "output_type": "execute_result",
     "data": {
      "text/plain": [
       "118      Christian Science Plaza - Massachusetts Ave at...\n",
       "187      Christian Science Plaza - Massachusetts Ave at...\n",
       "219      Christian Science Plaza - Massachusetts Ave at...\n",
       "254      Christian Science Plaza - Massachusetts Ave at...\n",
       "283      Christian Science Plaza - Massachusetts Ave at...\n",
       "                               ...                        \n",
       "73488    Christian Science Plaza - Massachusetts Ave at...\n",
       "73705    Christian Science Plaza - Massachusetts Ave at...\n",
       "73736    Christian Science Plaza - Massachusetts Ave at...\n",
       "73737    Christian Science Plaza - Massachusetts Ave at...\n",
       "73812    Christian Science Plaza - Massachusetts Ave at...\n",
       "Name: start station name, Length: 27899, dtype: object"
      ]
     },
     "metadata": {},
     "execution_count": 82
    }
   ],
   "source": [
    "df_all.loc[df_all['start station id'] == 46, 'start station name']"
   ]
  },
  {
   "cell_type": "code",
   "execution_count": 85,
   "metadata": {},
   "outputs": [
    {
     "output_type": "execute_result",
     "data": {
      "text/plain": [
       "58       Ames St at Main St\n",
       "65       Ames St at Main St\n",
       "66       Ames St at Main St\n",
       "72       Ames St at Main St\n",
       "149      Ames St at Main St\n",
       "                ...        \n",
       "73804    Ames St at Main St\n",
       "73814    Ames St at Main St\n",
       "73818    Ames St at Main St\n",
       "73852    Ames St at Main St\n",
       "73896    Ames St at Main St\n",
       "Name: start station name, Length: 23308, dtype: object"
      ]
     },
     "metadata": {},
     "execution_count": 85
    }
   ],
   "source": [
    "df_all.loc[df_all['start station id'] == 107, 'start station name']"
   ]
  },
  {
   "cell_type": "code",
   "execution_count": 140,
   "metadata": {},
   "outputs": [
    {
     "output_type": "execute_result",
     "data": {
      "text/plain": [
       "51       Boylston St at Jersey St\n",
       "60       Boylston St at Jersey St\n",
       "64       Boylston St at Jersey St\n",
       "126      Boylston St at Jersey St\n",
       "127      Boylston St at Jersey St\n",
       "                   ...           \n",
       "73849    Boylston St at Jersey St\n",
       "73850    Boylston St at Jersey St\n",
       "73902    Boylston St at Jersey St\n",
       "73905    Boylston St at Jersey St\n",
       "73966    Boylston St at Jersey St\n",
       "Name: start station name, Length: 22866, dtype: object"
      ]
     },
     "metadata": {},
     "execution_count": 140
    }
   ],
   "source": [
    " df_all.loc[df_all['start station id'] == 342, 'start station name']"
   ]
  },
  {
   "cell_type": "code",
   "execution_count": 141,
   "metadata": {},
   "outputs": [
    {
     "output_type": "execute_result",
     "data": {
      "text/plain": [
       "82       MIT Pacific St at Purrington St\n",
       "165      MIT Pacific St at Purrington St\n",
       "182      MIT Pacific St at Purrington St\n",
       "291      MIT Pacific St at Purrington St\n",
       "296      MIT Pacific St at Purrington St\n",
       "                      ...               \n",
       "73801    MIT Pacific St at Purrington St\n",
       "73856    MIT Pacific St at Purrington St\n",
       "73887    MIT Pacific St at Purrington St\n",
       "73904    MIT Pacific St at Purrington St\n",
       "73994    MIT Pacific St at Purrington St\n",
       "Name: start station name, Length: 22503, dtype: object"
      ]
     },
     "metadata": {},
     "execution_count": 141
    }
   ],
   "source": [
    " df_all.loc[df_all['start station id'] == 178, 'start station name']"
   ]
  },
  {
   "cell_type": "code",
   "execution_count": 142,
   "metadata": {},
   "outputs": [
    {
     "output_type": "execute_result",
     "data": {
      "text/plain": [
       "16       Cross St at Hanover St\n",
       "100      Cross St at Hanover St\n",
       "263      Cross St at Hanover St\n",
       "323      Cross St at Hanover St\n",
       "376      Cross St at Hanover St\n",
       "                  ...          \n",
       "73876    Cross St at Hanover St\n",
       "73877    Cross St at Hanover St\n",
       "73879    Cross St at Hanover St\n",
       "73943    Cross St at Hanover St\n",
       "73945    Cross St at Hanover St\n",
       "Name: start station name, Length: 22194, dtype: object"
      ]
     },
     "metadata": {},
     "execution_count": 142
    }
   ],
   "source": [
    " df_all.loc[df_all['start station id'] == 47, 'start station name']"
   ]
  },
  {
   "cell_type": "code",
   "execution_count": 143,
   "metadata": {},
   "outputs": [
    {
     "output_type": "execute_result",
     "data": {
      "text/plain": [
       "21       Harvard Square at Mass Ave/ Dunster\n",
       "24       Harvard Square at Mass Ave/ Dunster\n",
       "25       Harvard Square at Mass Ave/ Dunster\n",
       "80       Harvard Square at Mass Ave/ Dunster\n",
       "81       Harvard Square at Mass Ave/ Dunster\n",
       "                        ...                 \n",
       "72838    Harvard Square at Mass Ave/ Dunster\n",
       "72841    Harvard Square at Mass Ave/ Dunster\n",
       "72887    Harvard Square at Mass Ave/ Dunster\n",
       "73626    Harvard Square at Mass Ave/ Dunster\n",
       "74000    Harvard Square at Mass Ave/ Dunster\n",
       "Name: start station name, Length: 21111, dtype: object"
      ]
     },
     "metadata": {},
     "execution_count": 143
    }
   ],
   "source": [
    " df_all.loc[df_all['start station id'] == 74, 'start station name']"
   ]
  },
  {
   "cell_type": "code",
   "execution_count": 144,
   "metadata": {},
   "outputs": [
    {
     "output_type": "execute_result",
     "data": {
      "text/plain": [
       "1976      Beacon St at Massachusetts Ave\n",
       "2015      Beacon St at Massachusetts Ave\n",
       "2441      Beacon St at Massachusetts Ave\n",
       "2733      Beacon St at Massachusetts Ave\n",
       "2978      Beacon St at Massachusetts Ave\n",
       "                       ...              \n",
       "100637    Beacon St at Massachusetts Ave\n",
       "100658    Beacon St at Massachusetts Ave\n",
       "100674    Beacon St at Massachusetts Ave\n",
       "100737    Beacon St at Massachusetts Ave\n",
       "100808    Beacon St at Massachusetts Ave\n",
       "Name: start station name, Length: 20713, dtype: object"
      ]
     },
     "metadata": {},
     "execution_count": 144
    }
   ],
   "source": [
    " df_all.loc[df_all['start station id'] == 53, 'start station name']"
   ]
  },
  {
   "cell_type": "code",
   "execution_count": 145,
   "metadata": {},
   "outputs": [
    {
     "output_type": "execute_result",
     "data": {
      "text/plain": [
       "220      MIT Stata Center at Vassar St / Main St\n",
       "243      MIT Stata Center at Vassar St / Main St\n",
       "529      MIT Stata Center at Vassar St / Main St\n",
       "544      MIT Stata Center at Vassar St / Main St\n",
       "997      MIT Stata Center at Vassar St / Main St\n",
       "                          ...                   \n",
       "73728    MIT Stata Center at Vassar St / Main St\n",
       "73767    MIT Stata Center at Vassar St / Main St\n",
       "73827    MIT Stata Center at Vassar St / Main St\n",
       "73961    MIT Stata Center at Vassar St / Main St\n",
       "73985    MIT Stata Center at Vassar St / Main St\n",
       "Name: start station name, Length: 20239, dtype: object"
      ]
     },
     "metadata": {},
     "execution_count": 145
    }
   ],
   "source": [
    " df_all.loc[df_all['start station id'] == 80, 'start station name']"
   ]
  },
  {
   "cell_type": "code",
   "execution_count": 148,
   "metadata": {},
   "outputs": [
    {
     "output_type": "execute_result",
     "data": {
      "text/plain": [
       "299      MIT Vassar St\n",
       "317      MIT Vassar St\n",
       "331      MIT Vassar St\n",
       "352      MIT Vassar St\n",
       "368      MIT Vassar St\n",
       "             ...      \n",
       "73907    MIT Vassar St\n",
       "73908    MIT Vassar St\n",
       "73939    MIT Vassar St\n",
       "73941    MIT Vassar St\n",
       "73973    MIT Vassar St\n",
       "Name: start station name, Length: 19741, dtype: object"
      ]
     },
     "metadata": {},
     "execution_count": 148
    }
   ],
   "source": [
    " df_all.loc[df_all['start station id'] == 179, 'start station name']"
   ]
  },
  {
   "cell_type": "code",
   "execution_count": 328,
   "metadata": {},
   "outputs": [
    {
     "output_type": "display_data",
     "data": {
      "text/plain": "<Figure size 432x288 with 1 Axes>",
      "image/svg+xml": "<?xml version=\"1.0\" encoding=\"utf-8\" standalone=\"no\"?>\n<!DOCTYPE svg PUBLIC \"-//W3C//DTD SVG 1.1//EN\"\n  \"http://www.w3.org/Graphics/SVG/1.1/DTD/svg11.dtd\">\n<!-- Created with matplotlib (https://matplotlib.org/) -->\n<svg height=\"388.63pt\" version=\"1.1\" viewBox=\"0 0 403.62625 388.63\" width=\"403.62625pt\" xmlns=\"http://www.w3.org/2000/svg\" xmlns:xlink=\"http://www.w3.org/1999/xlink\">\n <metadata>\n  <rdf:RDF xmlns:cc=\"http://creativecommons.org/ns#\" xmlns:dc=\"http://purl.org/dc/elements/1.1/\" xmlns:rdf=\"http://www.w3.org/1999/02/22-rdf-syntax-ns#\">\n   <cc:Work>\n    <dc:type rdf:resource=\"http://purl.org/dc/dcmitype/StillImage\"/>\n    <dc:date>2021-02-10T11:16:21.906477</dc:date>\n    <dc:format>image/svg+xml</dc:format>\n    <dc:creator>\n     <cc:Agent>\n      <dc:title>Matplotlib v3.3.1, https://matplotlib.org/</dc:title>\n     </cc:Agent>\n    </dc:creator>\n   </cc:Work>\n  </rdf:RDF>\n </metadata>\n <defs>\n  <style type=\"text/css\">*{stroke-linecap:butt;stroke-linejoin:round;}</style>\n </defs>\n <g id=\"figure_1\">\n  <g id=\"patch_1\">\n   <path d=\"M 0 388.63 \nL 403.62625 388.63 \nL 403.62625 0 \nL 0 0 \nz\n\" style=\"fill:none;\"/>\n  </g>\n  <g id=\"axes_1\">\n   <g id=\"patch_2\">\n    <path d=\"M 61.62625 242.7975 \nL 396.42625 242.7975 \nL 396.42625 25.3575 \nL 61.62625 25.3575 \nz\n\" style=\"fill:#ffffff;\"/>\n   </g>\n   <g id=\"patch_3\">\n    <path clip-path=\"url(#p8b86c388c0)\" d=\"M 68.60125 242.7975 \nL 82.55125 242.7975 \nL 82.55125 35.711786 \nL 68.60125 35.711786 \nz\n\" style=\"fill:#1f77b4;\"/>\n   </g>\n   <g id=\"patch_4\">\n    <path clip-path=\"url(#p8b86c388c0)\" d=\"M 96.50125 242.7975 \nL 110.45125 242.7975 \nL 110.45125 42.525886 \nL 96.50125 42.525886 \nz\n\" style=\"fill:#1f77b4;\"/>\n   </g>\n   <g id=\"patch_5\">\n    <path clip-path=\"url(#p8b86c388c0)\" d=\"M 124.40125 242.7975 \nL 138.35125 242.7975 \nL 138.35125 65.479601 \nL 124.40125 65.479601 \nz\n\" style=\"fill:#1f77b4;\"/>\n   </g>\n   <g id=\"patch_6\">\n    <path clip-path=\"url(#p8b86c388c0)\" d=\"M 152.30125 242.7975 \nL 166.25125 242.7975 \nL 166.25125 73.963942 \nL 152.30125 73.963942 \nz\n\" style=\"fill:#1f77b4;\"/>\n   </g>\n   <g id=\"patch_7\">\n    <path clip-path=\"url(#p8b86c388c0)\" d=\"M 180.20125 242.7975 \nL 194.15125 242.7975 \nL 194.15125 101.746833 \nL 180.20125 101.746833 \nz\n\" style=\"fill:#1f77b4;\"/>\n   </g>\n   <g id=\"patch_8\">\n    <path clip-path=\"url(#p8b86c388c0)\" d=\"M 208.10125 242.7975 \nL 222.05125 242.7975 \nL 222.05125 104.42164 \nL 208.10125 104.42164 \nz\n\" style=\"fill:#1f77b4;\"/>\n   </g>\n   <g id=\"patch_9\">\n    <path clip-path=\"url(#p8b86c388c0)\" d=\"M 236.00125 242.7975 \nL 249.95125 242.7975 \nL 249.95125 106.61837 \nL 236.00125 106.61837 \nz\n\" style=\"fill:#1f77b4;\"/>\n   </g>\n   <g id=\"patch_10\">\n    <path clip-path=\"url(#p8b86c388c0)\" d=\"M 263.90125 242.7975 \nL 277.85125 242.7975 \nL 277.85125 108.488314 \nL 263.90125 108.488314 \nz\n\" style=\"fill:#1f77b4;\"/>\n   </g>\n   <g id=\"patch_11\">\n    <path clip-path=\"url(#p8b86c388c0)\" d=\"M 291.80125 242.7975 \nL 305.75125 242.7975 \nL 305.75125 115.042196 \nL 291.80125 115.042196 \nz\n\" style=\"fill:#1f77b4;\"/>\n   </g>\n   <g id=\"patch_12\">\n    <path clip-path=\"url(#p8b86c388c0)\" d=\"M 319.70125 242.7975 \nL 333.65125 242.7975 \nL 333.65125 117.450732 \nL 319.70125 117.450732 \nz\n\" style=\"fill:#1f77b4;\"/>\n   </g>\n   <g id=\"patch_13\">\n    <path clip-path=\"url(#p8b86c388c0)\" d=\"M 347.60125 242.7975 \nL 361.55125 242.7975 \nL 361.55125 120.31919 \nL 347.60125 120.31919 \nz\n\" style=\"fill:#1f77b4;\"/>\n   </g>\n   <g id=\"patch_14\">\n    <path clip-path=\"url(#p8b86c388c0)\" d=\"M 375.50125 242.7975 \nL 389.45125 242.7975 \nL 389.45125 123.332886 \nL 375.50125 123.332886 \nz\n\" style=\"fill:#1f77b4;\"/>\n   </g>\n   <g id=\"matplotlib.axis_1\">\n    <g id=\"xtick_1\">\n     <g id=\"line2d_1\">\n      <defs>\n       <path d=\"M 0 0 \nL 0 3.5 \n\" id=\"m06925bb253\" style=\"stroke:#000000;stroke-width:0.8;\"/>\n      </defs>\n      <g>\n       <use style=\"stroke:#000000;stroke-width:0.8;\" x=\"75.57625\" xlink:href=\"#m06925bb253\" y=\"242.7975\"/>\n      </g>\n     </g>\n     <g id=\"text_1\">\n      <!-- Central Square -->\n      <g transform=\"translate(78.335625 324.588125)rotate(-90)scale(0.1 -0.1)\">\n       <defs>\n        <path d=\"M 64.40625 67.28125 \nL 64.40625 56.890625 \nQ 59.421875 61.53125 53.78125 63.8125 \nQ 48.140625 66.109375 41.796875 66.109375 \nQ 29.296875 66.109375 22.65625 58.46875 \nQ 16.015625 50.828125 16.015625 36.375 \nQ 16.015625 21.96875 22.65625 14.328125 \nQ 29.296875 6.6875 41.796875 6.6875 \nQ 48.140625 6.6875 53.78125 8.984375 \nQ 59.421875 11.28125 64.40625 15.921875 \nL 64.40625 5.609375 \nQ 59.234375 2.09375 53.4375 0.328125 \nQ 47.65625 -1.421875 41.21875 -1.421875 \nQ 24.65625 -1.421875 15.125 8.703125 \nQ 5.609375 18.84375 5.609375 36.375 \nQ 5.609375 53.953125 15.125 64.078125 \nQ 24.65625 74.21875 41.21875 74.21875 \nQ 47.75 74.21875 53.53125 72.484375 \nQ 59.328125 70.75 64.40625 67.28125 \nz\n\" id=\"DejaVuSans-67\"/>\n        <path d=\"M 56.203125 29.59375 \nL 56.203125 25.203125 \nL 14.890625 25.203125 \nQ 15.484375 15.921875 20.484375 11.0625 \nQ 25.484375 6.203125 34.421875 6.203125 \nQ 39.59375 6.203125 44.453125 7.46875 \nQ 49.3125 8.734375 54.109375 11.28125 \nL 54.109375 2.78125 \nQ 49.265625 0.734375 44.1875 -0.34375 \nQ 39.109375 -1.421875 33.890625 -1.421875 \nQ 20.796875 -1.421875 13.15625 6.1875 \nQ 5.515625 13.8125 5.515625 26.8125 \nQ 5.515625 40.234375 12.765625 48.109375 \nQ 20.015625 56 32.328125 56 \nQ 43.359375 56 49.78125 48.890625 \nQ 56.203125 41.796875 56.203125 29.59375 \nz\nM 47.21875 32.234375 \nQ 47.125 39.59375 43.09375 43.984375 \nQ 39.0625 48.390625 32.421875 48.390625 \nQ 24.90625 48.390625 20.390625 44.140625 \nQ 15.875 39.890625 15.1875 32.171875 \nz\n\" id=\"DejaVuSans-101\"/>\n        <path d=\"M 54.890625 33.015625 \nL 54.890625 0 \nL 45.90625 0 \nL 45.90625 32.71875 \nQ 45.90625 40.484375 42.875 44.328125 \nQ 39.84375 48.1875 33.796875 48.1875 \nQ 26.515625 48.1875 22.3125 43.546875 \nQ 18.109375 38.921875 18.109375 30.90625 \nL 18.109375 0 \nL 9.078125 0 \nL 9.078125 54.6875 \nL 18.109375 54.6875 \nL 18.109375 46.1875 \nQ 21.34375 51.125 25.703125 53.5625 \nQ 30.078125 56 35.796875 56 \nQ 45.21875 56 50.046875 50.171875 \nQ 54.890625 44.34375 54.890625 33.015625 \nz\n\" id=\"DejaVuSans-110\"/>\n        <path d=\"M 18.3125 70.21875 \nL 18.3125 54.6875 \nL 36.8125 54.6875 \nL 36.8125 47.703125 \nL 18.3125 47.703125 \nL 18.3125 18.015625 \nQ 18.3125 11.328125 20.140625 9.421875 \nQ 21.96875 7.515625 27.59375 7.515625 \nL 36.8125 7.515625 \nL 36.8125 0 \nL 27.59375 0 \nQ 17.1875 0 13.234375 3.875 \nQ 9.28125 7.765625 9.28125 18.015625 \nL 9.28125 47.703125 \nL 2.6875 47.703125 \nL 2.6875 54.6875 \nL 9.28125 54.6875 \nL 9.28125 70.21875 \nz\n\" id=\"DejaVuSans-116\"/>\n        <path d=\"M 41.109375 46.296875 \nQ 39.59375 47.171875 37.8125 47.578125 \nQ 36.03125 48 33.890625 48 \nQ 26.265625 48 22.1875 43.046875 \nQ 18.109375 38.09375 18.109375 28.8125 \nL 18.109375 0 \nL 9.078125 0 \nL 9.078125 54.6875 \nL 18.109375 54.6875 \nL 18.109375 46.1875 \nQ 20.953125 51.171875 25.484375 53.578125 \nQ 30.03125 56 36.53125 56 \nQ 37.453125 56 38.578125 55.875 \nQ 39.703125 55.765625 41.0625 55.515625 \nz\n\" id=\"DejaVuSans-114\"/>\n        <path d=\"M 34.28125 27.484375 \nQ 23.390625 27.484375 19.1875 25 \nQ 14.984375 22.515625 14.984375 16.5 \nQ 14.984375 11.71875 18.140625 8.90625 \nQ 21.296875 6.109375 26.703125 6.109375 \nQ 34.1875 6.109375 38.703125 11.40625 \nQ 43.21875 16.703125 43.21875 25.484375 \nL 43.21875 27.484375 \nz\nM 52.203125 31.203125 \nL 52.203125 0 \nL 43.21875 0 \nL 43.21875 8.296875 \nQ 40.140625 3.328125 35.546875 0.953125 \nQ 30.953125 -1.421875 24.3125 -1.421875 \nQ 15.921875 -1.421875 10.953125 3.296875 \nQ 6 8.015625 6 15.921875 \nQ 6 25.140625 12.171875 29.828125 \nQ 18.359375 34.515625 30.609375 34.515625 \nL 43.21875 34.515625 \nL 43.21875 35.40625 \nQ 43.21875 41.609375 39.140625 45 \nQ 35.0625 48.390625 27.6875 48.390625 \nQ 23 48.390625 18.546875 47.265625 \nQ 14.109375 46.140625 10.015625 43.890625 \nL 10.015625 52.203125 \nQ 14.9375 54.109375 19.578125 55.046875 \nQ 24.21875 56 28.609375 56 \nQ 40.484375 56 46.34375 49.84375 \nQ 52.203125 43.703125 52.203125 31.203125 \nz\n\" id=\"DejaVuSans-97\"/>\n        <path d=\"M 9.421875 75.984375 \nL 18.40625 75.984375 \nL 18.40625 0 \nL 9.421875 0 \nz\n\" id=\"DejaVuSans-108\"/>\n        <path id=\"DejaVuSans-32\"/>\n        <path d=\"M 53.515625 70.515625 \nL 53.515625 60.890625 \nQ 47.90625 63.578125 42.921875 64.890625 \nQ 37.9375 66.21875 33.296875 66.21875 \nQ 25.25 66.21875 20.875 63.09375 \nQ 16.5 59.96875 16.5 54.203125 \nQ 16.5 49.359375 19.40625 46.890625 \nQ 22.3125 44.4375 30.421875 42.921875 \nL 36.375 41.703125 \nQ 47.40625 39.59375 52.65625 34.296875 \nQ 57.90625 29 57.90625 20.125 \nQ 57.90625 9.515625 50.796875 4.046875 \nQ 43.703125 -1.421875 29.984375 -1.421875 \nQ 24.8125 -1.421875 18.96875 -0.25 \nQ 13.140625 0.921875 6.890625 3.21875 \nL 6.890625 13.375 \nQ 12.890625 10.015625 18.65625 8.296875 \nQ 24.421875 6.59375 29.984375 6.59375 \nQ 38.421875 6.59375 43.015625 9.90625 \nQ 47.609375 13.234375 47.609375 19.390625 \nQ 47.609375 24.75 44.3125 27.78125 \nQ 41.015625 30.8125 33.5 32.328125 \nL 27.484375 33.5 \nQ 16.453125 35.6875 11.515625 40.375 \nQ 6.59375 45.0625 6.59375 53.421875 \nQ 6.59375 63.09375 13.40625 68.65625 \nQ 20.21875 74.21875 32.171875 74.21875 \nQ 37.3125 74.21875 42.625 73.28125 \nQ 47.953125 72.359375 53.515625 70.515625 \nz\n\" id=\"DejaVuSans-83\"/>\n        <path d=\"M 14.796875 27.296875 \nQ 14.796875 17.390625 18.875 11.75 \nQ 22.953125 6.109375 30.078125 6.109375 \nQ 37.203125 6.109375 41.296875 11.75 \nQ 45.40625 17.390625 45.40625 27.296875 \nQ 45.40625 37.203125 41.296875 42.84375 \nQ 37.203125 48.484375 30.078125 48.484375 \nQ 22.953125 48.484375 18.875 42.84375 \nQ 14.796875 37.203125 14.796875 27.296875 \nz\nM 45.40625 8.203125 \nQ 42.578125 3.328125 38.25 0.953125 \nQ 33.9375 -1.421875 27.875 -1.421875 \nQ 17.96875 -1.421875 11.734375 6.484375 \nQ 5.515625 14.40625 5.515625 27.296875 \nQ 5.515625 40.1875 11.734375 48.09375 \nQ 17.96875 56 27.875 56 \nQ 33.9375 56 38.25 53.625 \nQ 42.578125 51.265625 45.40625 46.390625 \nL 45.40625 54.6875 \nL 54.390625 54.6875 \nL 54.390625 -20.796875 \nL 45.40625 -20.796875 \nz\n\" id=\"DejaVuSans-113\"/>\n        <path d=\"M 8.5 21.578125 \nL 8.5 54.6875 \nL 17.484375 54.6875 \nL 17.484375 21.921875 \nQ 17.484375 14.15625 20.5 10.265625 \nQ 23.53125 6.390625 29.59375 6.390625 \nQ 36.859375 6.390625 41.078125 11.03125 \nQ 45.3125 15.671875 45.3125 23.6875 \nL 45.3125 54.6875 \nL 54.296875 54.6875 \nL 54.296875 0 \nL 45.3125 0 \nL 45.3125 8.40625 \nQ 42.046875 3.421875 37.71875 1 \nQ 33.40625 -1.421875 27.6875 -1.421875 \nQ 18.265625 -1.421875 13.375 4.4375 \nQ 8.5 10.296875 8.5 21.578125 \nz\nM 31.109375 56 \nz\n\" id=\"DejaVuSans-117\"/>\n       </defs>\n       <use xlink:href=\"#DejaVuSans-67\"/>\n       <use x=\"69.824219\" xlink:href=\"#DejaVuSans-101\"/>\n       <use x=\"131.347656\" xlink:href=\"#DejaVuSans-110\"/>\n       <use x=\"194.726562\" xlink:href=\"#DejaVuSans-116\"/>\n       <use x=\"233.935547\" xlink:href=\"#DejaVuSans-114\"/>\n       <use x=\"275.048828\" xlink:href=\"#DejaVuSans-97\"/>\n       <use x=\"336.328125\" xlink:href=\"#DejaVuSans-108\"/>\n       <use x=\"364.111328\" xlink:href=\"#DejaVuSans-32\"/>\n       <use x=\"395.898438\" xlink:href=\"#DejaVuSans-83\"/>\n       <use x=\"459.375\" xlink:href=\"#DejaVuSans-113\"/>\n       <use x=\"522.851562\" xlink:href=\"#DejaVuSans-117\"/>\n       <use x=\"586.230469\" xlink:href=\"#DejaVuSans-97\"/>\n       <use x=\"647.509766\" xlink:href=\"#DejaVuSans-114\"/>\n       <use x=\"686.373047\" xlink:href=\"#DejaVuSans-101\"/>\n      </g>\n     </g>\n    </g>\n    <g id=\"xtick_2\">\n     <g id=\"line2d_2\">\n      <g>\n       <use style=\"stroke:#000000;stroke-width:0.8;\" x=\"103.47625\" xlink:href=\"#m06925bb253\" y=\"242.7975\"/>\n      </g>\n     </g>\n     <g id=\"text_2\">\n      <!-- Charles Circle -->\n      <g transform=\"translate(106.235625 318.752188)rotate(-90)scale(0.1 -0.1)\">\n       <defs>\n        <path d=\"M 54.890625 33.015625 \nL 54.890625 0 \nL 45.90625 0 \nL 45.90625 32.71875 \nQ 45.90625 40.484375 42.875 44.328125 \nQ 39.84375 48.1875 33.796875 48.1875 \nQ 26.515625 48.1875 22.3125 43.546875 \nQ 18.109375 38.921875 18.109375 30.90625 \nL 18.109375 0 \nL 9.078125 0 \nL 9.078125 75.984375 \nL 18.109375 75.984375 \nL 18.109375 46.1875 \nQ 21.34375 51.125 25.703125 53.5625 \nQ 30.078125 56 35.796875 56 \nQ 45.21875 56 50.046875 50.171875 \nQ 54.890625 44.34375 54.890625 33.015625 \nz\n\" id=\"DejaVuSans-104\"/>\n        <path d=\"M 44.28125 53.078125 \nL 44.28125 44.578125 \nQ 40.484375 46.53125 36.375 47.5 \nQ 32.28125 48.484375 27.875 48.484375 \nQ 21.1875 48.484375 17.84375 46.4375 \nQ 14.5 44.390625 14.5 40.28125 \nQ 14.5 37.15625 16.890625 35.375 \nQ 19.28125 33.59375 26.515625 31.984375 \nL 29.59375 31.296875 \nQ 39.15625 29.25 43.1875 25.515625 \nQ 47.21875 21.78125 47.21875 15.09375 \nQ 47.21875 7.46875 41.1875 3.015625 \nQ 35.15625 -1.421875 24.609375 -1.421875 \nQ 20.21875 -1.421875 15.453125 -0.5625 \nQ 10.6875 0.296875 5.421875 2 \nL 5.421875 11.28125 \nQ 10.40625 8.6875 15.234375 7.390625 \nQ 20.0625 6.109375 24.8125 6.109375 \nQ 31.15625 6.109375 34.5625 8.28125 \nQ 37.984375 10.453125 37.984375 14.40625 \nQ 37.984375 18.0625 35.515625 20.015625 \nQ 33.0625 21.96875 24.703125 23.78125 \nL 21.578125 24.515625 \nQ 13.234375 26.265625 9.515625 29.90625 \nQ 5.8125 33.546875 5.8125 39.890625 \nQ 5.8125 47.609375 11.28125 51.796875 \nQ 16.75 56 26.8125 56 \nQ 31.78125 56 36.171875 55.265625 \nQ 40.578125 54.546875 44.28125 53.078125 \nz\n\" id=\"DejaVuSans-115\"/>\n        <path d=\"M 9.421875 54.6875 \nL 18.40625 54.6875 \nL 18.40625 0 \nL 9.421875 0 \nz\nM 9.421875 75.984375 \nL 18.40625 75.984375 \nL 18.40625 64.59375 \nL 9.421875 64.59375 \nz\n\" id=\"DejaVuSans-105\"/>\n        <path d=\"M 48.78125 52.59375 \nL 48.78125 44.1875 \nQ 44.96875 46.296875 41.140625 47.34375 \nQ 37.3125 48.390625 33.40625 48.390625 \nQ 24.65625 48.390625 19.8125 42.84375 \nQ 14.984375 37.3125 14.984375 27.296875 \nQ 14.984375 17.28125 19.8125 11.734375 \nQ 24.65625 6.203125 33.40625 6.203125 \nQ 37.3125 6.203125 41.140625 7.25 \nQ 44.96875 8.296875 48.78125 10.40625 \nL 48.78125 2.09375 \nQ 45.015625 0.34375 40.984375 -0.53125 \nQ 36.96875 -1.421875 32.421875 -1.421875 \nQ 20.0625 -1.421875 12.78125 6.34375 \nQ 5.515625 14.109375 5.515625 27.296875 \nQ 5.515625 40.671875 12.859375 48.328125 \nQ 20.21875 56 33.015625 56 \nQ 37.15625 56 41.109375 55.140625 \nQ 45.0625 54.296875 48.78125 52.59375 \nz\n\" id=\"DejaVuSans-99\"/>\n       </defs>\n       <use xlink:href=\"#DejaVuSans-67\"/>\n       <use x=\"69.824219\" xlink:href=\"#DejaVuSans-104\"/>\n       <use x=\"133.203125\" xlink:href=\"#DejaVuSans-97\"/>\n       <use x=\"194.482422\" xlink:href=\"#DejaVuSans-114\"/>\n       <use x=\"235.595703\" xlink:href=\"#DejaVuSans-108\"/>\n       <use x=\"263.378906\" xlink:href=\"#DejaVuSans-101\"/>\n       <use x=\"324.902344\" xlink:href=\"#DejaVuSans-115\"/>\n       <use x=\"377.001953\" xlink:href=\"#DejaVuSans-32\"/>\n       <use x=\"408.789062\" xlink:href=\"#DejaVuSans-67\"/>\n       <use x=\"478.613281\" xlink:href=\"#DejaVuSans-105\"/>\n       <use x=\"506.396484\" xlink:href=\"#DejaVuSans-114\"/>\n       <use x=\"545.259766\" xlink:href=\"#DejaVuSans-99\"/>\n       <use x=\"600.240234\" xlink:href=\"#DejaVuSans-108\"/>\n       <use x=\"628.023438\" xlink:href=\"#DejaVuSans-101\"/>\n      </g>\n     </g>\n    </g>\n    <g id=\"xtick_3\">\n     <g id=\"line2d_3\">\n      <g>\n       <use style=\"stroke:#000000;stroke-width:0.8;\" x=\"131.37625\" xlink:href=\"#m06925bb253\" y=\"242.7975\"/>\n      </g>\n     </g>\n     <g id=\"text_3\">\n      <!-- MIT -->\n      <g transform=\"translate(134.135625 267.483438)rotate(-90)scale(0.1 -0.1)\">\n       <defs>\n        <path d=\"M 9.8125 72.90625 \nL 24.515625 72.90625 \nL 43.109375 23.296875 \nL 61.8125 72.90625 \nL 76.515625 72.90625 \nL 76.515625 0 \nL 66.890625 0 \nL 66.890625 64.015625 \nL 48.09375 14.015625 \nL 38.1875 14.015625 \nL 19.390625 64.015625 \nL 19.390625 0 \nL 9.8125 0 \nz\n\" id=\"DejaVuSans-77\"/>\n        <path d=\"M 9.8125 72.90625 \nL 19.671875 72.90625 \nL 19.671875 0 \nL 9.8125 0 \nz\n\" id=\"DejaVuSans-73\"/>\n        <path d=\"M -0.296875 72.90625 \nL 61.375 72.90625 \nL 61.375 64.59375 \nL 35.5 64.59375 \nL 35.5 0 \nL 25.59375 0 \nL 25.59375 64.59375 \nL -0.296875 64.59375 \nz\n\" id=\"DejaVuSans-84\"/>\n       </defs>\n       <use xlink:href=\"#DejaVuSans-77\"/>\n       <use x=\"86.279297\" xlink:href=\"#DejaVuSans-73\"/>\n       <use x=\"115.771484\" xlink:href=\"#DejaVuSans-84\"/>\n      </g>\n     </g>\n    </g>\n    <g id=\"xtick_4\">\n     <g id=\"line2d_4\">\n      <g>\n       <use style=\"stroke:#000000;stroke-width:0.8;\" x=\"159.27625\" xlink:href=\"#m06925bb253\" y=\"242.7975\"/>\n      </g>\n     </g>\n     <g id=\"text_4\">\n      <!-- Christian Science Plaza -->\n      <g transform=\"translate(162.035625 365.81625)rotate(-90)scale(0.1 -0.1)\">\n       <defs>\n        <path d=\"M 19.671875 64.796875 \nL 19.671875 37.40625 \nL 32.078125 37.40625 \nQ 38.96875 37.40625 42.71875 40.96875 \nQ 46.484375 44.53125 46.484375 51.125 \nQ 46.484375 57.671875 42.71875 61.234375 \nQ 38.96875 64.796875 32.078125 64.796875 \nz\nM 9.8125 72.90625 \nL 32.078125 72.90625 \nQ 44.34375 72.90625 50.609375 67.359375 \nQ 56.890625 61.8125 56.890625 51.125 \nQ 56.890625 40.328125 50.609375 34.8125 \nQ 44.34375 29.296875 32.078125 29.296875 \nL 19.671875 29.296875 \nL 19.671875 0 \nL 9.8125 0 \nz\n\" id=\"DejaVuSans-80\"/>\n        <path d=\"M 5.515625 54.6875 \nL 48.1875 54.6875 \nL 48.1875 46.484375 \nL 14.40625 7.171875 \nL 48.1875 7.171875 \nL 48.1875 0 \nL 4.296875 0 \nL 4.296875 8.203125 \nL 38.09375 47.515625 \nL 5.515625 47.515625 \nz\n\" id=\"DejaVuSans-122\"/>\n       </defs>\n       <use xlink:href=\"#DejaVuSans-67\"/>\n       <use x=\"69.824219\" xlink:href=\"#DejaVuSans-104\"/>\n       <use x=\"133.203125\" xlink:href=\"#DejaVuSans-114\"/>\n       <use x=\"174.316406\" xlink:href=\"#DejaVuSans-105\"/>\n       <use x=\"202.099609\" xlink:href=\"#DejaVuSans-115\"/>\n       <use x=\"254.199219\" xlink:href=\"#DejaVuSans-116\"/>\n       <use x=\"293.408203\" xlink:href=\"#DejaVuSans-105\"/>\n       <use x=\"321.191406\" xlink:href=\"#DejaVuSans-97\"/>\n       <use x=\"382.470703\" xlink:href=\"#DejaVuSans-110\"/>\n       <use x=\"445.849609\" xlink:href=\"#DejaVuSans-32\"/>\n       <use x=\"477.636719\" xlink:href=\"#DejaVuSans-83\"/>\n       <use x=\"541.113281\" xlink:href=\"#DejaVuSans-99\"/>\n       <use x=\"596.09375\" xlink:href=\"#DejaVuSans-105\"/>\n       <use x=\"623.876953\" xlink:href=\"#DejaVuSans-101\"/>\n       <use x=\"685.400391\" xlink:href=\"#DejaVuSans-110\"/>\n       <use x=\"748.779297\" xlink:href=\"#DejaVuSans-99\"/>\n       <use x=\"803.759766\" xlink:href=\"#DejaVuSans-101\"/>\n       <use x=\"865.283203\" xlink:href=\"#DejaVuSans-32\"/>\n       <use x=\"897.070312\" xlink:href=\"#DejaVuSans-80\"/>\n       <use x=\"957.373047\" xlink:href=\"#DejaVuSans-108\"/>\n       <use x=\"985.15625\" xlink:href=\"#DejaVuSans-97\"/>\n       <use x=\"1046.435547\" xlink:href=\"#DejaVuSans-122\"/>\n       <use x=\"1098.925781\" xlink:href=\"#DejaVuSans-97\"/>\n      </g>\n     </g>\n    </g>\n    <g id=\"xtick_5\">\n     <g id=\"line2d_5\">\n      <g>\n       <use style=\"stroke:#000000;stroke-width:0.8;\" x=\"187.17625\" xlink:href=\"#m06925bb253\" y=\"242.7975\"/>\n      </g>\n     </g>\n     <g id=\"text_5\">\n      <!-- Ames St -->\n      <g transform=\"translate(189.935625 291.188125)rotate(-90)scale(0.1 -0.1)\">\n       <defs>\n        <path d=\"M 34.1875 63.1875 \nL 20.796875 26.90625 \nL 47.609375 26.90625 \nz\nM 28.609375 72.90625 \nL 39.796875 72.90625 \nL 67.578125 0 \nL 57.328125 0 \nL 50.6875 18.703125 \nL 17.828125 18.703125 \nL 11.1875 0 \nL 0.78125 0 \nz\n\" id=\"DejaVuSans-65\"/>\n        <path d=\"M 52 44.1875 \nQ 55.375 50.25 60.0625 53.125 \nQ 64.75 56 71.09375 56 \nQ 79.640625 56 84.28125 50.015625 \nQ 88.921875 44.046875 88.921875 33.015625 \nL 88.921875 0 \nL 79.890625 0 \nL 79.890625 32.71875 \nQ 79.890625 40.578125 77.09375 44.375 \nQ 74.3125 48.1875 68.609375 48.1875 \nQ 61.625 48.1875 57.5625 43.546875 \nQ 53.515625 38.921875 53.515625 30.90625 \nL 53.515625 0 \nL 44.484375 0 \nL 44.484375 32.71875 \nQ 44.484375 40.625 41.703125 44.40625 \nQ 38.921875 48.1875 33.109375 48.1875 \nQ 26.21875 48.1875 22.15625 43.53125 \nQ 18.109375 38.875 18.109375 30.90625 \nL 18.109375 0 \nL 9.078125 0 \nL 9.078125 54.6875 \nL 18.109375 54.6875 \nL 18.109375 46.1875 \nQ 21.1875 51.21875 25.484375 53.609375 \nQ 29.78125 56 35.6875 56 \nQ 41.65625 56 45.828125 52.96875 \nQ 50 49.953125 52 44.1875 \nz\n\" id=\"DejaVuSans-109\"/>\n       </defs>\n       <use xlink:href=\"#DejaVuSans-65\"/>\n       <use x=\"68.408203\" xlink:href=\"#DejaVuSans-109\"/>\n       <use x=\"165.820312\" xlink:href=\"#DejaVuSans-101\"/>\n       <use x=\"227.34375\" xlink:href=\"#DejaVuSans-115\"/>\n       <use x=\"279.443359\" xlink:href=\"#DejaVuSans-32\"/>\n       <use x=\"311.230469\" xlink:href=\"#DejaVuSans-83\"/>\n       <use x=\"374.707031\" xlink:href=\"#DejaVuSans-116\"/>\n      </g>\n     </g>\n    </g>\n    <g id=\"xtick_6\">\n     <g id=\"line2d_6\">\n      <g>\n       <use style=\"stroke:#000000;stroke-width:0.8;\" x=\"215.07625\" xlink:href=\"#m06925bb253\" y=\"242.7975\"/>\n      </g>\n     </g>\n     <g id=\"text_6\">\n      <!-- Boylston St -->\n      <g transform=\"translate(217.835625 306.506875)rotate(-90)scale(0.1 -0.1)\">\n       <defs>\n        <path d=\"M 19.671875 34.8125 \nL 19.671875 8.109375 \nL 35.5 8.109375 \nQ 43.453125 8.109375 47.28125 11.40625 \nQ 51.125 14.703125 51.125 21.484375 \nQ 51.125 28.328125 47.28125 31.5625 \nQ 43.453125 34.8125 35.5 34.8125 \nz\nM 19.671875 64.796875 \nL 19.671875 42.828125 \nL 34.28125 42.828125 \nQ 41.5 42.828125 45.03125 45.53125 \nQ 48.578125 48.25 48.578125 53.8125 \nQ 48.578125 59.328125 45.03125 62.0625 \nQ 41.5 64.796875 34.28125 64.796875 \nz\nM 9.8125 72.90625 \nL 35.015625 72.90625 \nQ 46.296875 72.90625 52.390625 68.21875 \nQ 58.5 63.53125 58.5 54.890625 \nQ 58.5 48.1875 55.375 44.234375 \nQ 52.25 40.28125 46.1875 39.3125 \nQ 53.46875 37.75 57.5 32.78125 \nQ 61.53125 27.828125 61.53125 20.40625 \nQ 61.53125 10.640625 54.890625 5.3125 \nQ 48.25 0 35.984375 0 \nL 9.8125 0 \nz\n\" id=\"DejaVuSans-66\"/>\n        <path d=\"M 30.609375 48.390625 \nQ 23.390625 48.390625 19.1875 42.75 \nQ 14.984375 37.109375 14.984375 27.296875 \nQ 14.984375 17.484375 19.15625 11.84375 \nQ 23.34375 6.203125 30.609375 6.203125 \nQ 37.796875 6.203125 41.984375 11.859375 \nQ 46.1875 17.53125 46.1875 27.296875 \nQ 46.1875 37.015625 41.984375 42.703125 \nQ 37.796875 48.390625 30.609375 48.390625 \nz\nM 30.609375 56 \nQ 42.328125 56 49.015625 48.375 \nQ 55.71875 40.765625 55.71875 27.296875 \nQ 55.71875 13.875 49.015625 6.21875 \nQ 42.328125 -1.421875 30.609375 -1.421875 \nQ 18.84375 -1.421875 12.171875 6.21875 \nQ 5.515625 13.875 5.515625 27.296875 \nQ 5.515625 40.765625 12.171875 48.375 \nQ 18.84375 56 30.609375 56 \nz\n\" id=\"DejaVuSans-111\"/>\n        <path d=\"M 32.171875 -5.078125 \nQ 28.375 -14.84375 24.75 -17.8125 \nQ 21.140625 -20.796875 15.09375 -20.796875 \nL 7.90625 -20.796875 \nL 7.90625 -13.28125 \nL 13.1875 -13.28125 \nQ 16.890625 -13.28125 18.9375 -11.515625 \nQ 21 -9.765625 23.484375 -3.21875 \nL 25.09375 0.875 \nL 2.984375 54.6875 \nL 12.5 54.6875 \nL 29.59375 11.921875 \nL 46.6875 54.6875 \nL 56.203125 54.6875 \nz\n\" id=\"DejaVuSans-121\"/>\n       </defs>\n       <use xlink:href=\"#DejaVuSans-66\"/>\n       <use x=\"68.603516\" xlink:href=\"#DejaVuSans-111\"/>\n       <use x=\"129.785156\" xlink:href=\"#DejaVuSans-121\"/>\n       <use x=\"188.964844\" xlink:href=\"#DejaVuSans-108\"/>\n       <use x=\"216.748047\" xlink:href=\"#DejaVuSans-115\"/>\n       <use x=\"268.847656\" xlink:href=\"#DejaVuSans-116\"/>\n       <use x=\"308.056641\" xlink:href=\"#DejaVuSans-111\"/>\n       <use x=\"369.238281\" xlink:href=\"#DejaVuSans-110\"/>\n       <use x=\"432.617188\" xlink:href=\"#DejaVuSans-32\"/>\n       <use x=\"464.404297\" xlink:href=\"#DejaVuSans-83\"/>\n       <use x=\"527.880859\" xlink:href=\"#DejaVuSans-116\"/>\n      </g>\n     </g>\n    </g>\n    <g id=\"xtick_7\">\n     <g id=\"line2d_7\">\n      <g>\n       <use style=\"stroke:#000000;stroke-width:0.8;\" x=\"242.97625\" xlink:href=\"#m06925bb253\" y=\"242.7975\"/>\n      </g>\n     </g>\n     <g id=\"text_7\">\n      <!-- MIT Pacific St -->\n      <g transform=\"translate(245.735625 315.889688)rotate(-90)scale(0.1 -0.1)\">\n       <defs>\n        <path d=\"M 37.109375 75.984375 \nL 37.109375 68.5 \nL 28.515625 68.5 \nQ 23.6875 68.5 21.796875 66.546875 \nQ 19.921875 64.59375 19.921875 59.515625 \nL 19.921875 54.6875 \nL 34.71875 54.6875 \nL 34.71875 47.703125 \nL 19.921875 47.703125 \nL 19.921875 0 \nL 10.890625 0 \nL 10.890625 47.703125 \nL 2.296875 47.703125 \nL 2.296875 54.6875 \nL 10.890625 54.6875 \nL 10.890625 58.5 \nQ 10.890625 67.625 15.140625 71.796875 \nQ 19.390625 75.984375 28.609375 75.984375 \nz\n\" id=\"DejaVuSans-102\"/>\n       </defs>\n       <use xlink:href=\"#DejaVuSans-77\"/>\n       <use x=\"86.279297\" xlink:href=\"#DejaVuSans-73\"/>\n       <use x=\"115.771484\" xlink:href=\"#DejaVuSans-84\"/>\n       <use x=\"176.855469\" xlink:href=\"#DejaVuSans-32\"/>\n       <use x=\"208.642578\" xlink:href=\"#DejaVuSans-80\"/>\n       <use x=\"264.445312\" xlink:href=\"#DejaVuSans-97\"/>\n       <use x=\"325.724609\" xlink:href=\"#DejaVuSans-99\"/>\n       <use x=\"380.705078\" xlink:href=\"#DejaVuSans-105\"/>\n       <use x=\"408.488281\" xlink:href=\"#DejaVuSans-102\"/>\n       <use x=\"443.693359\" xlink:href=\"#DejaVuSans-105\"/>\n       <use x=\"471.476562\" xlink:href=\"#DejaVuSans-99\"/>\n       <use x=\"526.457031\" xlink:href=\"#DejaVuSans-32\"/>\n       <use x=\"558.244141\" xlink:href=\"#DejaVuSans-83\"/>\n       <use x=\"621.720703\" xlink:href=\"#DejaVuSans-116\"/>\n      </g>\n     </g>\n    </g>\n    <g id=\"xtick_8\">\n     <g id=\"line2d_8\">\n      <g>\n       <use style=\"stroke:#000000;stroke-width:0.8;\" x=\"270.87625\" xlink:href=\"#m06925bb253\" y=\"242.7975\"/>\n      </g>\n     </g>\n     <g id=\"text_8\">\n      <!-- Cross St -->\n      <g transform=\"translate(273.635625 290.650625)rotate(-90)scale(0.1 -0.1)\">\n       <use xlink:href=\"#DejaVuSans-67\"/>\n       <use x=\"69.824219\" xlink:href=\"#DejaVuSans-114\"/>\n       <use x=\"108.6875\" xlink:href=\"#DejaVuSans-111\"/>\n       <use x=\"169.869141\" xlink:href=\"#DejaVuSans-115\"/>\n       <use x=\"221.96875\" xlink:href=\"#DejaVuSans-115\"/>\n       <use x=\"274.068359\" xlink:href=\"#DejaVuSans-32\"/>\n       <use x=\"305.855469\" xlink:href=\"#DejaVuSans-83\"/>\n       <use x=\"369.332031\" xlink:href=\"#DejaVuSans-116\"/>\n      </g>\n     </g>\n    </g>\n    <g id=\"xtick_9\">\n     <g id=\"line2d_9\">\n      <g>\n       <use style=\"stroke:#000000;stroke-width:0.8;\" x=\"298.77625\" xlink:href=\"#m06925bb253\" y=\"242.7975\"/>\n      </g>\n     </g>\n     <g id=\"text_9\">\n      <!-- Harvard Square -->\n      <g transform=\"translate(301.535625 328.267813)rotate(-90)scale(0.1 -0.1)\">\n       <defs>\n        <path d=\"M 9.8125 72.90625 \nL 19.671875 72.90625 \nL 19.671875 43.015625 \nL 55.515625 43.015625 \nL 55.515625 72.90625 \nL 65.375 72.90625 \nL 65.375 0 \nL 55.515625 0 \nL 55.515625 34.71875 \nL 19.671875 34.71875 \nL 19.671875 0 \nL 9.8125 0 \nz\n\" id=\"DejaVuSans-72\"/>\n        <path d=\"M 2.984375 54.6875 \nL 12.5 54.6875 \nL 29.59375 8.796875 \nL 46.6875 54.6875 \nL 56.203125 54.6875 \nL 35.6875 0 \nL 23.484375 0 \nz\n\" id=\"DejaVuSans-118\"/>\n        <path d=\"M 45.40625 46.390625 \nL 45.40625 75.984375 \nL 54.390625 75.984375 \nL 54.390625 0 \nL 45.40625 0 \nL 45.40625 8.203125 \nQ 42.578125 3.328125 38.25 0.953125 \nQ 33.9375 -1.421875 27.875 -1.421875 \nQ 17.96875 -1.421875 11.734375 6.484375 \nQ 5.515625 14.40625 5.515625 27.296875 \nQ 5.515625 40.1875 11.734375 48.09375 \nQ 17.96875 56 27.875 56 \nQ 33.9375 56 38.25 53.625 \nQ 42.578125 51.265625 45.40625 46.390625 \nz\nM 14.796875 27.296875 \nQ 14.796875 17.390625 18.875 11.75 \nQ 22.953125 6.109375 30.078125 6.109375 \nQ 37.203125 6.109375 41.296875 11.75 \nQ 45.40625 17.390625 45.40625 27.296875 \nQ 45.40625 37.203125 41.296875 42.84375 \nQ 37.203125 48.484375 30.078125 48.484375 \nQ 22.953125 48.484375 18.875 42.84375 \nQ 14.796875 37.203125 14.796875 27.296875 \nz\n\" id=\"DejaVuSans-100\"/>\n       </defs>\n       <use xlink:href=\"#DejaVuSans-72\"/>\n       <use x=\"75.195312\" xlink:href=\"#DejaVuSans-97\"/>\n       <use x=\"136.474609\" xlink:href=\"#DejaVuSans-114\"/>\n       <use x=\"177.587891\" xlink:href=\"#DejaVuSans-118\"/>\n       <use x=\"236.767578\" xlink:href=\"#DejaVuSans-97\"/>\n       <use x=\"298.046875\" xlink:href=\"#DejaVuSans-114\"/>\n       <use x=\"337.410156\" xlink:href=\"#DejaVuSans-100\"/>\n       <use x=\"400.886719\" xlink:href=\"#DejaVuSans-32\"/>\n       <use x=\"432.673828\" xlink:href=\"#DejaVuSans-83\"/>\n       <use x=\"496.150391\" xlink:href=\"#DejaVuSans-113\"/>\n       <use x=\"559.626953\" xlink:href=\"#DejaVuSans-117\"/>\n       <use x=\"623.005859\" xlink:href=\"#DejaVuSans-97\"/>\n       <use x=\"684.285156\" xlink:href=\"#DejaVuSans-114\"/>\n       <use x=\"723.148438\" xlink:href=\"#DejaVuSans-101\"/>\n      </g>\n     </g>\n    </g>\n    <g id=\"xtick_10\">\n     <g id=\"line2d_10\">\n      <g>\n       <use style=\"stroke:#000000;stroke-width:0.8;\" x=\"326.67625\" xlink:href=\"#m06925bb253\" y=\"242.7975\"/>\n      </g>\n     </g>\n     <g id=\"text_10\">\n      <!-- Beacon St -->\n      <g transform=\"translate(329.435625 300.34125)rotate(-90)scale(0.1 -0.1)\">\n       <use xlink:href=\"#DejaVuSans-66\"/>\n       <use x=\"68.603516\" xlink:href=\"#DejaVuSans-101\"/>\n       <use x=\"130.126953\" xlink:href=\"#DejaVuSans-97\"/>\n       <use x=\"191.40625\" xlink:href=\"#DejaVuSans-99\"/>\n       <use x=\"246.386719\" xlink:href=\"#DejaVuSans-111\"/>\n       <use x=\"307.568359\" xlink:href=\"#DejaVuSans-110\"/>\n       <use x=\"370.947266\" xlink:href=\"#DejaVuSans-32\"/>\n       <use x=\"402.734375\" xlink:href=\"#DejaVuSans-83\"/>\n       <use x=\"466.210938\" xlink:href=\"#DejaVuSans-116\"/>\n      </g>\n     </g>\n    </g>\n    <g id=\"xtick_11\">\n     <g id=\"line2d_11\">\n      <g>\n       <use style=\"stroke:#000000;stroke-width:0.8;\" x=\"354.57625\" xlink:href=\"#m06925bb253\" y=\"242.7975\"/>\n      </g>\n     </g>\n     <g id=\"text_11\">\n      <!-- MIT Stata Center -->\n      <g transform=\"translate(357.335625 333.942813)rotate(-90)scale(0.1 -0.1)\">\n       <use xlink:href=\"#DejaVuSans-77\"/>\n       <use x=\"86.279297\" xlink:href=\"#DejaVuSans-73\"/>\n       <use x=\"115.771484\" xlink:href=\"#DejaVuSans-84\"/>\n       <use x=\"176.855469\" xlink:href=\"#DejaVuSans-32\"/>\n       <use x=\"208.642578\" xlink:href=\"#DejaVuSans-83\"/>\n       <use x=\"272.119141\" xlink:href=\"#DejaVuSans-116\"/>\n       <use x=\"311.328125\" xlink:href=\"#DejaVuSans-97\"/>\n       <use x=\"372.607422\" xlink:href=\"#DejaVuSans-116\"/>\n       <use x=\"411.816406\" xlink:href=\"#DejaVuSans-97\"/>\n       <use x=\"473.095703\" xlink:href=\"#DejaVuSans-32\"/>\n       <use x=\"504.882812\" xlink:href=\"#DejaVuSans-67\"/>\n       <use x=\"574.707031\" xlink:href=\"#DejaVuSans-101\"/>\n       <use x=\"636.230469\" xlink:href=\"#DejaVuSans-110\"/>\n       <use x=\"699.609375\" xlink:href=\"#DejaVuSans-116\"/>\n       <use x=\"738.818359\" xlink:href=\"#DejaVuSans-101\"/>\n       <use x=\"800.341797\" xlink:href=\"#DejaVuSans-114\"/>\n      </g>\n     </g>\n    </g>\n    <g id=\"xtick_12\">\n     <g id=\"line2d_12\">\n      <g>\n       <use style=\"stroke:#000000;stroke-width:0.8;\" x=\"382.47625\" xlink:href=\"#m06925bb253\" y=\"242.7975\"/>\n      </g>\n     </g>\n     <g id=\"text_12\">\n      <!-- MIT Vassar St -->\n      <g transform=\"translate(385.235625 316.96)rotate(-90)scale(0.1 -0.1)\">\n       <defs>\n        <path d=\"M 28.609375 0 \nL 0.78125 72.90625 \nL 11.078125 72.90625 \nL 34.1875 11.53125 \nL 57.328125 72.90625 \nL 67.578125 72.90625 \nL 39.796875 0 \nz\n\" id=\"DejaVuSans-86\"/>\n       </defs>\n       <use xlink:href=\"#DejaVuSans-77\"/>\n       <use x=\"86.279297\" xlink:href=\"#DejaVuSans-73\"/>\n       <use x=\"115.771484\" xlink:href=\"#DejaVuSans-84\"/>\n       <use x=\"176.855469\" xlink:href=\"#DejaVuSans-32\"/>\n       <use x=\"208.642578\" xlink:href=\"#DejaVuSans-86\"/>\n       <use x=\"269.300781\" xlink:href=\"#DejaVuSans-97\"/>\n       <use x=\"330.580078\" xlink:href=\"#DejaVuSans-115\"/>\n       <use x=\"382.679688\" xlink:href=\"#DejaVuSans-115\"/>\n       <use x=\"434.779297\" xlink:href=\"#DejaVuSans-97\"/>\n       <use x=\"496.058594\" xlink:href=\"#DejaVuSans-114\"/>\n       <use x=\"537.171875\" xlink:href=\"#DejaVuSans-32\"/>\n       <use x=\"568.958984\" xlink:href=\"#DejaVuSans-83\"/>\n       <use x=\"632.435547\" xlink:href=\"#DejaVuSans-116\"/>\n      </g>\n     </g>\n    </g>\n    <g id=\"text_13\">\n     <!-- Station Names -->\n     <g transform=\"translate(184.960938 378.934375)scale(0.12 -0.12)\">\n      <defs>\n       <path d=\"M 9.8125 72.90625 \nL 23.09375 72.90625 \nL 55.421875 11.921875 \nL 55.421875 72.90625 \nL 64.984375 72.90625 \nL 64.984375 0 \nL 51.703125 0 \nL 19.390625 60.984375 \nL 19.390625 0 \nL 9.8125 0 \nz\n\" id=\"DejaVuSans-78\"/>\n      </defs>\n      <use xlink:href=\"#DejaVuSans-83\"/>\n      <use x=\"63.476562\" xlink:href=\"#DejaVuSans-116\"/>\n      <use x=\"102.685547\" xlink:href=\"#DejaVuSans-97\"/>\n      <use x=\"163.964844\" xlink:href=\"#DejaVuSans-116\"/>\n      <use x=\"203.173828\" xlink:href=\"#DejaVuSans-105\"/>\n      <use x=\"230.957031\" xlink:href=\"#DejaVuSans-111\"/>\n      <use x=\"292.138672\" xlink:href=\"#DejaVuSans-110\"/>\n      <use x=\"355.517578\" xlink:href=\"#DejaVuSans-32\"/>\n      <use x=\"387.304688\" xlink:href=\"#DejaVuSans-78\"/>\n      <use x=\"462.109375\" xlink:href=\"#DejaVuSans-97\"/>\n      <use x=\"523.388672\" xlink:href=\"#DejaVuSans-109\"/>\n      <use x=\"620.800781\" xlink:href=\"#DejaVuSans-101\"/>\n      <use x=\"682.324219\" xlink:href=\"#DejaVuSans-115\"/>\n     </g>\n    </g>\n   </g>\n   <g id=\"matplotlib.axis_2\">\n    <g id=\"ytick_1\">\n     <g id=\"line2d_13\">\n      <defs>\n       <path d=\"M 0 0 \nL -3.5 0 \n\" id=\"mee1654007d\" style=\"stroke:#000000;stroke-width:0.8;\"/>\n      </defs>\n      <g>\n       <use style=\"stroke:#000000;stroke-width:0.8;\" x=\"61.62625\" xlink:href=\"#mee1654007d\" y=\"242.7975\"/>\n      </g>\n     </g>\n     <g id=\"text_14\">\n      <!-- 0 -->\n      <g transform=\"translate(48.26375 246.596719)scale(0.1 -0.1)\">\n       <defs>\n        <path d=\"M 31.78125 66.40625 \nQ 24.171875 66.40625 20.328125 58.90625 \nQ 16.5 51.421875 16.5 36.375 \nQ 16.5 21.390625 20.328125 13.890625 \nQ 24.171875 6.390625 31.78125 6.390625 \nQ 39.453125 6.390625 43.28125 13.890625 \nQ 47.125 21.390625 47.125 36.375 \nQ 47.125 51.421875 43.28125 58.90625 \nQ 39.453125 66.40625 31.78125 66.40625 \nz\nM 31.78125 74.21875 \nQ 44.046875 74.21875 50.515625 64.515625 \nQ 56.984375 54.828125 56.984375 36.375 \nQ 56.984375 17.96875 50.515625 8.265625 \nQ 44.046875 -1.421875 31.78125 -1.421875 \nQ 19.53125 -1.421875 13.0625 8.265625 \nQ 6.59375 17.96875 6.59375 36.375 \nQ 6.59375 54.828125 13.0625 64.515625 \nQ 19.53125 74.21875 31.78125 74.21875 \nz\n\" id=\"DejaVuSans-48\"/>\n       </defs>\n       <use xlink:href=\"#DejaVuSans-48\"/>\n      </g>\n     </g>\n    </g>\n    <g id=\"ytick_2\">\n     <g id=\"line2d_14\">\n      <g>\n       <use style=\"stroke:#000000;stroke-width:0.8;\" x=\"61.62625\" xlink:href=\"#mee1654007d\" y=\"212.539506\"/>\n      </g>\n     </g>\n     <g id=\"text_15\">\n      <!-- 5000 -->\n      <g transform=\"translate(29.17625 216.338724)scale(0.1 -0.1)\">\n       <defs>\n        <path d=\"M 10.796875 72.90625 \nL 49.515625 72.90625 \nL 49.515625 64.59375 \nL 19.828125 64.59375 \nL 19.828125 46.734375 \nQ 21.96875 47.46875 24.109375 47.828125 \nQ 26.265625 48.1875 28.421875 48.1875 \nQ 40.625 48.1875 47.75 41.5 \nQ 54.890625 34.8125 54.890625 23.390625 \nQ 54.890625 11.625 47.5625 5.09375 \nQ 40.234375 -1.421875 26.90625 -1.421875 \nQ 22.3125 -1.421875 17.546875 -0.640625 \nQ 12.796875 0.140625 7.71875 1.703125 \nL 7.71875 11.625 \nQ 12.109375 9.234375 16.796875 8.0625 \nQ 21.484375 6.890625 26.703125 6.890625 \nQ 35.15625 6.890625 40.078125 11.328125 \nQ 45.015625 15.765625 45.015625 23.390625 \nQ 45.015625 31 40.078125 35.4375 \nQ 35.15625 39.890625 26.703125 39.890625 \nQ 22.75 39.890625 18.8125 39.015625 \nQ 14.890625 38.140625 10.796875 36.28125 \nz\n\" id=\"DejaVuSans-53\"/>\n       </defs>\n       <use xlink:href=\"#DejaVuSans-53\"/>\n       <use x=\"63.623047\" xlink:href=\"#DejaVuSans-48\"/>\n       <use x=\"127.246094\" xlink:href=\"#DejaVuSans-48\"/>\n       <use x=\"190.869141\" xlink:href=\"#DejaVuSans-48\"/>\n      </g>\n     </g>\n    </g>\n    <g id=\"ytick_3\">\n     <g id=\"line2d_15\">\n      <g>\n       <use style=\"stroke:#000000;stroke-width:0.8;\" x=\"61.62625\" xlink:href=\"#mee1654007d\" y=\"182.281511\"/>\n      </g>\n     </g>\n     <g id=\"text_16\">\n      <!-- 10000 -->\n      <g transform=\"translate(22.81375 186.08073)scale(0.1 -0.1)\">\n       <defs>\n        <path d=\"M 12.40625 8.296875 \nL 28.515625 8.296875 \nL 28.515625 63.921875 \nL 10.984375 60.40625 \nL 10.984375 69.390625 \nL 28.421875 72.90625 \nL 38.28125 72.90625 \nL 38.28125 8.296875 \nL 54.390625 8.296875 \nL 54.390625 0 \nL 12.40625 0 \nz\n\" id=\"DejaVuSans-49\"/>\n       </defs>\n       <use xlink:href=\"#DejaVuSans-49\"/>\n       <use x=\"63.623047\" xlink:href=\"#DejaVuSans-48\"/>\n       <use x=\"127.246094\" xlink:href=\"#DejaVuSans-48\"/>\n       <use x=\"190.869141\" xlink:href=\"#DejaVuSans-48\"/>\n       <use x=\"254.492188\" xlink:href=\"#DejaVuSans-48\"/>\n      </g>\n     </g>\n    </g>\n    <g id=\"ytick_4\">\n     <g id=\"line2d_16\">\n      <g>\n       <use style=\"stroke:#000000;stroke-width:0.8;\" x=\"61.62625\" xlink:href=\"#mee1654007d\" y=\"152.023517\"/>\n      </g>\n     </g>\n     <g id=\"text_17\">\n      <!-- 15000 -->\n      <g transform=\"translate(22.81375 155.822735)scale(0.1 -0.1)\">\n       <use xlink:href=\"#DejaVuSans-49\"/>\n       <use x=\"63.623047\" xlink:href=\"#DejaVuSans-53\"/>\n       <use x=\"127.246094\" xlink:href=\"#DejaVuSans-48\"/>\n       <use x=\"190.869141\" xlink:href=\"#DejaVuSans-48\"/>\n       <use x=\"254.492188\" xlink:href=\"#DejaVuSans-48\"/>\n      </g>\n     </g>\n    </g>\n    <g id=\"ytick_5\">\n     <g id=\"line2d_17\">\n      <g>\n       <use style=\"stroke:#000000;stroke-width:0.8;\" x=\"61.62625\" xlink:href=\"#mee1654007d\" y=\"121.765522\"/>\n      </g>\n     </g>\n     <g id=\"text_18\">\n      <!-- 20000 -->\n      <g transform=\"translate(22.81375 125.564741)scale(0.1 -0.1)\">\n       <defs>\n        <path d=\"M 19.1875 8.296875 \nL 53.609375 8.296875 \nL 53.609375 0 \nL 7.328125 0 \nL 7.328125 8.296875 \nQ 12.9375 14.109375 22.625 23.890625 \nQ 32.328125 33.6875 34.8125 36.53125 \nQ 39.546875 41.84375 41.421875 45.53125 \nQ 43.3125 49.21875 43.3125 52.78125 \nQ 43.3125 58.59375 39.234375 62.25 \nQ 35.15625 65.921875 28.609375 65.921875 \nQ 23.96875 65.921875 18.8125 64.3125 \nQ 13.671875 62.703125 7.8125 59.421875 \nL 7.8125 69.390625 \nQ 13.765625 71.78125 18.9375 73 \nQ 24.125 74.21875 28.421875 74.21875 \nQ 39.75 74.21875 46.484375 68.546875 \nQ 53.21875 62.890625 53.21875 53.421875 \nQ 53.21875 48.921875 51.53125 44.890625 \nQ 49.859375 40.875 45.40625 35.40625 \nQ 44.1875 33.984375 37.640625 27.21875 \nQ 31.109375 20.453125 19.1875 8.296875 \nz\n\" id=\"DejaVuSans-50\"/>\n       </defs>\n       <use xlink:href=\"#DejaVuSans-50\"/>\n       <use x=\"63.623047\" xlink:href=\"#DejaVuSans-48\"/>\n       <use x=\"127.246094\" xlink:href=\"#DejaVuSans-48\"/>\n       <use x=\"190.869141\" xlink:href=\"#DejaVuSans-48\"/>\n       <use x=\"254.492188\" xlink:href=\"#DejaVuSans-48\"/>\n      </g>\n     </g>\n    </g>\n    <g id=\"ytick_6\">\n     <g id=\"line2d_18\">\n      <g>\n       <use style=\"stroke:#000000;stroke-width:0.8;\" x=\"61.62625\" xlink:href=\"#mee1654007d\" y=\"91.507528\"/>\n      </g>\n     </g>\n     <g id=\"text_19\">\n      <!-- 25000 -->\n      <g transform=\"translate(22.81375 95.306746)scale(0.1 -0.1)\">\n       <use xlink:href=\"#DejaVuSans-50\"/>\n       <use x=\"63.623047\" xlink:href=\"#DejaVuSans-53\"/>\n       <use x=\"127.246094\" xlink:href=\"#DejaVuSans-48\"/>\n       <use x=\"190.869141\" xlink:href=\"#DejaVuSans-48\"/>\n       <use x=\"254.492188\" xlink:href=\"#DejaVuSans-48\"/>\n      </g>\n     </g>\n    </g>\n    <g id=\"ytick_7\">\n     <g id=\"line2d_19\">\n      <g>\n       <use style=\"stroke:#000000;stroke-width:0.8;\" x=\"61.62625\" xlink:href=\"#mee1654007d\" y=\"61.249533\"/>\n      </g>\n     </g>\n     <g id=\"text_20\">\n      <!-- 30000 -->\n      <g transform=\"translate(22.81375 65.048752)scale(0.1 -0.1)\">\n       <defs>\n        <path d=\"M 40.578125 39.3125 \nQ 47.65625 37.796875 51.625 33 \nQ 55.609375 28.21875 55.609375 21.1875 \nQ 55.609375 10.40625 48.1875 4.484375 \nQ 40.765625 -1.421875 27.09375 -1.421875 \nQ 22.515625 -1.421875 17.65625 -0.515625 \nQ 12.796875 0.390625 7.625 2.203125 \nL 7.625 11.71875 \nQ 11.71875 9.328125 16.59375 8.109375 \nQ 21.484375 6.890625 26.8125 6.890625 \nQ 36.078125 6.890625 40.9375 10.546875 \nQ 45.796875 14.203125 45.796875 21.1875 \nQ 45.796875 27.640625 41.28125 31.265625 \nQ 36.765625 34.90625 28.71875 34.90625 \nL 20.21875 34.90625 \nL 20.21875 43.015625 \nL 29.109375 43.015625 \nQ 36.375 43.015625 40.234375 45.921875 \nQ 44.09375 48.828125 44.09375 54.296875 \nQ 44.09375 59.90625 40.109375 62.90625 \nQ 36.140625 65.921875 28.71875 65.921875 \nQ 24.65625 65.921875 20.015625 65.03125 \nQ 15.375 64.15625 9.8125 62.3125 \nL 9.8125 71.09375 \nQ 15.4375 72.65625 20.34375 73.4375 \nQ 25.25 74.21875 29.59375 74.21875 \nQ 40.828125 74.21875 47.359375 69.109375 \nQ 53.90625 64.015625 53.90625 55.328125 \nQ 53.90625 49.265625 50.4375 45.09375 \nQ 46.96875 40.921875 40.578125 39.3125 \nz\n\" id=\"DejaVuSans-51\"/>\n       </defs>\n       <use xlink:href=\"#DejaVuSans-51\"/>\n       <use x=\"63.623047\" xlink:href=\"#DejaVuSans-48\"/>\n       <use x=\"127.246094\" xlink:href=\"#DejaVuSans-48\"/>\n       <use x=\"190.869141\" xlink:href=\"#DejaVuSans-48\"/>\n       <use x=\"254.492188\" xlink:href=\"#DejaVuSans-48\"/>\n      </g>\n     </g>\n    </g>\n    <g id=\"ytick_8\">\n     <g id=\"line2d_20\">\n      <g>\n       <use style=\"stroke:#000000;stroke-width:0.8;\" x=\"61.62625\" xlink:href=\"#mee1654007d\" y=\"30.991539\"/>\n      </g>\n     </g>\n     <g id=\"text_21\">\n      <!-- 35000 -->\n      <g transform=\"translate(22.81375 34.790757)scale(0.1 -0.1)\">\n       <use xlink:href=\"#DejaVuSans-51\"/>\n       <use x=\"63.623047\" xlink:href=\"#DejaVuSans-53\"/>\n       <use x=\"127.246094\" xlink:href=\"#DejaVuSans-48\"/>\n       <use x=\"190.869141\" xlink:href=\"#DejaVuSans-48\"/>\n       <use x=\"254.492188\" xlink:href=\"#DejaVuSans-48\"/>\n      </g>\n     </g>\n    </g>\n    <g id=\"text_22\">\n     <!-- Number of rentals -->\n     <g transform=\"translate(16.318125 188.425313)rotate(-90)scale(0.12 -0.12)\">\n      <defs>\n       <path d=\"M 48.6875 27.296875 \nQ 48.6875 37.203125 44.609375 42.84375 \nQ 40.53125 48.484375 33.40625 48.484375 \nQ 26.265625 48.484375 22.1875 42.84375 \nQ 18.109375 37.203125 18.109375 27.296875 \nQ 18.109375 17.390625 22.1875 11.75 \nQ 26.265625 6.109375 33.40625 6.109375 \nQ 40.53125 6.109375 44.609375 11.75 \nQ 48.6875 17.390625 48.6875 27.296875 \nz\nM 18.109375 46.390625 \nQ 20.953125 51.265625 25.265625 53.625 \nQ 29.59375 56 35.59375 56 \nQ 45.5625 56 51.78125 48.09375 \nQ 58.015625 40.1875 58.015625 27.296875 \nQ 58.015625 14.40625 51.78125 6.484375 \nQ 45.5625 -1.421875 35.59375 -1.421875 \nQ 29.59375 -1.421875 25.265625 0.953125 \nQ 20.953125 3.328125 18.109375 8.203125 \nL 18.109375 0 \nL 9.078125 0 \nL 9.078125 75.984375 \nL 18.109375 75.984375 \nz\n\" id=\"DejaVuSans-98\"/>\n      </defs>\n      <use xlink:href=\"#DejaVuSans-78\"/>\n      <use x=\"74.804688\" xlink:href=\"#DejaVuSans-117\"/>\n      <use x=\"138.183594\" xlink:href=\"#DejaVuSans-109\"/>\n      <use x=\"235.595703\" xlink:href=\"#DejaVuSans-98\"/>\n      <use x=\"299.072266\" xlink:href=\"#DejaVuSans-101\"/>\n      <use x=\"360.595703\" xlink:href=\"#DejaVuSans-114\"/>\n      <use x=\"401.708984\" xlink:href=\"#DejaVuSans-32\"/>\n      <use x=\"433.496094\" xlink:href=\"#DejaVuSans-111\"/>\n      <use x=\"494.677734\" xlink:href=\"#DejaVuSans-102\"/>\n      <use x=\"529.882812\" xlink:href=\"#DejaVuSans-32\"/>\n      <use x=\"561.669922\" xlink:href=\"#DejaVuSans-114\"/>\n      <use x=\"600.533203\" xlink:href=\"#DejaVuSans-101\"/>\n      <use x=\"662.056641\" xlink:href=\"#DejaVuSans-110\"/>\n      <use x=\"725.435547\" xlink:href=\"#DejaVuSans-116\"/>\n      <use x=\"764.644531\" xlink:href=\"#DejaVuSans-97\"/>\n      <use x=\"825.923828\" xlink:href=\"#DejaVuSans-108\"/>\n      <use x=\"853.707031\" xlink:href=\"#DejaVuSans-115\"/>\n     </g>\n    </g>\n   </g>\n   <g id=\"patch_15\">\n    <path d=\"M 61.62625 242.7975 \nL 61.62625 25.3575 \n\" style=\"fill:none;stroke:#000000;stroke-linecap:square;stroke-linejoin:miter;stroke-width:0.8;\"/>\n   </g>\n   <g id=\"patch_16\">\n    <path d=\"M 396.42625 242.7975 \nL 396.42625 25.3575 \n\" style=\"fill:none;stroke:#000000;stroke-linecap:square;stroke-linejoin:miter;stroke-width:0.8;\"/>\n   </g>\n   <g id=\"patch_17\">\n    <path d=\"M 61.62625 242.7975 \nL 396.42625 242.7975 \n\" style=\"fill:none;stroke:#000000;stroke-linecap:square;stroke-linejoin:miter;stroke-width:0.8;\"/>\n   </g>\n   <g id=\"patch_18\">\n    <path d=\"M 61.62625 25.3575 \nL 396.42625 25.3575 \n\" style=\"fill:none;stroke:#000000;stroke-linecap:square;stroke-linejoin:miter;stroke-width:0.8;\"/>\n   </g>\n   <g id=\"text_23\">\n    <!-- Most Frequently Used Start Stations -->\n    <g transform=\"translate(85.2925 19.3575)scale(0.16 -0.16)\">\n     <defs>\n      <path d=\"M 9.8125 72.90625 \nL 51.703125 72.90625 \nL 51.703125 64.59375 \nL 19.671875 64.59375 \nL 19.671875 43.109375 \nL 48.578125 43.109375 \nL 48.578125 34.8125 \nL 19.671875 34.8125 \nL 19.671875 0 \nL 9.8125 0 \nz\n\" id=\"DejaVuSans-70\"/>\n      <path d=\"M 8.6875 72.90625 \nL 18.609375 72.90625 \nL 18.609375 28.609375 \nQ 18.609375 16.890625 22.84375 11.734375 \nQ 27.09375 6.59375 36.625 6.59375 \nQ 46.09375 6.59375 50.34375 11.734375 \nQ 54.59375 16.890625 54.59375 28.609375 \nL 54.59375 72.90625 \nL 64.5 72.90625 \nL 64.5 27.390625 \nQ 64.5 13.140625 57.4375 5.859375 \nQ 50.390625 -1.421875 36.625 -1.421875 \nQ 22.796875 -1.421875 15.734375 5.859375 \nQ 8.6875 13.140625 8.6875 27.390625 \nz\n\" id=\"DejaVuSans-85\"/>\n     </defs>\n     <use xlink:href=\"#DejaVuSans-77\"/>\n     <use x=\"86.279297\" xlink:href=\"#DejaVuSans-111\"/>\n     <use x=\"147.460938\" xlink:href=\"#DejaVuSans-115\"/>\n     <use x=\"199.560547\" xlink:href=\"#DejaVuSans-116\"/>\n     <use x=\"238.769531\" xlink:href=\"#DejaVuSans-32\"/>\n     <use x=\"270.556641\" xlink:href=\"#DejaVuSans-70\"/>\n     <use x=\"320.826172\" xlink:href=\"#DejaVuSans-114\"/>\n     <use x=\"359.689453\" xlink:href=\"#DejaVuSans-101\"/>\n     <use x=\"421.212891\" xlink:href=\"#DejaVuSans-113\"/>\n     <use x=\"484.689453\" xlink:href=\"#DejaVuSans-117\"/>\n     <use x=\"548.068359\" xlink:href=\"#DejaVuSans-101\"/>\n     <use x=\"609.591797\" xlink:href=\"#DejaVuSans-110\"/>\n     <use x=\"672.970703\" xlink:href=\"#DejaVuSans-116\"/>\n     <use x=\"712.179688\" xlink:href=\"#DejaVuSans-108\"/>\n     <use x=\"739.962891\" xlink:href=\"#DejaVuSans-121\"/>\n     <use x=\"799.142578\" xlink:href=\"#DejaVuSans-32\"/>\n     <use x=\"830.929688\" xlink:href=\"#DejaVuSans-85\"/>\n     <use x=\"904.123047\" xlink:href=\"#DejaVuSans-115\"/>\n     <use x=\"956.222656\" xlink:href=\"#DejaVuSans-101\"/>\n     <use x=\"1017.746094\" xlink:href=\"#DejaVuSans-100\"/>\n     <use x=\"1081.222656\" xlink:href=\"#DejaVuSans-32\"/>\n     <use x=\"1113.009766\" xlink:href=\"#DejaVuSans-83\"/>\n     <use x=\"1176.486328\" xlink:href=\"#DejaVuSans-116\"/>\n     <use x=\"1215.695312\" xlink:href=\"#DejaVuSans-97\"/>\n     <use x=\"1276.974609\" xlink:href=\"#DejaVuSans-114\"/>\n     <use x=\"1318.087891\" xlink:href=\"#DejaVuSans-116\"/>\n     <use x=\"1357.296875\" xlink:href=\"#DejaVuSans-32\"/>\n     <use x=\"1389.083984\" xlink:href=\"#DejaVuSans-83\"/>\n     <use x=\"1452.560547\" xlink:href=\"#DejaVuSans-116\"/>\n     <use x=\"1491.769531\" xlink:href=\"#DejaVuSans-97\"/>\n     <use x=\"1553.048828\" xlink:href=\"#DejaVuSans-116\"/>\n     <use x=\"1592.257812\" xlink:href=\"#DejaVuSans-105\"/>\n     <use x=\"1620.041016\" xlink:href=\"#DejaVuSans-111\"/>\n     <use x=\"1681.222656\" xlink:href=\"#DejaVuSans-110\"/>\n     <use x=\"1744.601562\" xlink:href=\"#DejaVuSans-115\"/>\n    </g>\n   </g>\n  </g>\n </g>\n <defs>\n  <clipPath id=\"p8b86c388c0\">\n   <rect height=\"217.44\" width=\"334.8\" x=\"61.62625\" y=\"25.3575\"/>\n  </clipPath>\n </defs>\n</svg>\n",
      "image/png": "[encoded data removed]"
     },
     "metadata": {
      "needs_background": "light"
     }
    }
   ],
   "source": [
    "ax = df_all['start station id'].value_counts().sort_values(ascending=False)[:12].plot(kind=\"bar\")\n",
    "plt.xlabel('Station Names', fontsize=12)\n",
    "plt.ylabel('Number of rentals', fontsize=12)\n",
    "\n",
    "plt.title('Most Frequently Used Start Stations', fontsize=16)\n",
    "ax.set_xticklabels(['Central Square','Charles Circle','MIT','Christian Science Plaza','Ames St','Boylston St','MIT Pacific St','Cross St','Harvard Square','Beacon St','MIT Stata Center', 'MIT Vassar St'], rotation='90');\n"
   ]
  },
  {
   "source": [
    "The most frequently used stations are: Central Square, Charles Circle, MIT, Christian Science Plaza, Annes St, Boylston St, MIT Pacific St, Cross St, Harward Square, Beacon St, MIT Stata Center, MIT Vassar St."
   ],
   "cell_type": "markdown",
   "metadata": {}
  },
  {
   "cell_type": "code",
   "execution_count": 156,
   "metadata": {},
   "outputs": [
    {
     "output_type": "execute_result",
     "data": {
      "text/plain": [
       "68     35158\n",
       "60     33450\n",
       "46     28040\n",
       "67     27574\n",
       "107    27111\n",
       "342    22970\n",
       "74     22725\n",
       "47     21995\n",
       "190    21604\n",
       "11     21473\n",
       "178    21351\n",
       "53     20595\n",
       "Name: end station id, dtype: int64"
      ]
     },
     "metadata": {},
     "execution_count": 156
    }
   ],
   "source": [
    "# assess end station id column's 12 most frequent values in descending order\n",
    "df_all['end station id'].value_counts().sort_values(ascending=False)[:12]\n"
   ]
  },
  {
   "cell_type": "code",
   "execution_count": 137,
   "metadata": {},
   "outputs": [
    {
     "output_type": "execute_result",
     "data": {
      "text/plain": [
       "165      Central Square at Mass Ave / Essex St\n",
       "457      Central Square at Mass Ave / Essex St\n",
       "483      Central Square at Mass Ave / Essex St\n",
       "487      Central Square at Mass Ave / Essex St\n",
       "542      Central Square at Mass Ave / Essex St\n",
       "                         ...                  \n",
       "73762    Central Square at Mass Ave / Essex St\n",
       "73763    Central Square at Mass Ave / Essex St\n",
       "73764    Central Square at Mass Ave / Essex St\n",
       "73828    Central Square at Mass Ave / Essex St\n",
       "73829    Central Square at Mass Ave / Essex St\n",
       "Name: end station name, Length: 35158, dtype: object"
      ]
     },
     "metadata": {},
     "execution_count": 137
    }
   ],
   "source": [
    "df_all.loc[df_all['end station id'] == 68, 'end station name']"
   ]
  },
  {
   "cell_type": "code",
   "execution_count": 123,
   "metadata": {},
   "outputs": [
    {
     "output_type": "execute_result",
     "data": {
      "text/plain": [
       "19       Charles Circle - Charles St at Cambridge St\n",
       "203      Charles Circle - Charles St at Cambridge St\n",
       "226      Charles Circle - Charles St at Cambridge St\n",
       "311      Charles Circle - Charles St at Cambridge St\n",
       "524      Charles Circle - Charles St at Cambridge St\n",
       "                            ...                     \n",
       "73723    Charles Circle - Charles St at Cambridge St\n",
       "73801    Charles Circle - Charles St at Cambridge St\n",
       "73848    Charles Circle - Charles St at Cambridge St\n",
       "73964    Charles Circle - Charles St at Cambridge St\n",
       "73965    Charles Circle - Charles St at Cambridge St\n",
       "Name: end station name, Length: 33450, dtype: object"
      ]
     },
     "metadata": {},
     "execution_count": 123
    }
   ],
   "source": [
    "df_all.loc[df_all['end station id'] == 60, 'end station name']"
   ]
  },
  {
   "cell_type": "code",
   "execution_count": 124,
   "metadata": {},
   "outputs": [
    {
     "output_type": "execute_result",
     "data": {
      "text/plain": [
       "51       Christian Science Plaza - Massachusetts Ave at...\n",
       "149      Christian Science Plaza - Massachusetts Ave at...\n",
       "150      Christian Science Plaza - Massachusetts Ave at...\n",
       "151      Christian Science Plaza - Massachusetts Ave at...\n",
       "154      Christian Science Plaza - Massachusetts Ave at...\n",
       "                               ...                        \n",
       "73506    Christian Science Plaza - Massachusetts Ave at...\n",
       "73715    Christian Science Plaza - Massachusetts Ave at...\n",
       "73736    Christian Science Plaza - Massachusetts Ave at...\n",
       "73737    Christian Science Plaza - Massachusetts Ave at...\n",
       "73909    Christian Science Plaza - Massachusetts Ave at...\n",
       "Name: end station name, Length: 28040, dtype: object"
      ]
     },
     "metadata": {},
     "execution_count": 124
    }
   ],
   "source": [
    "df_all.loc[df_all['end station id'] == 46, 'end station name']"
   ]
  },
  {
   "cell_type": "code",
   "execution_count": 125,
   "metadata": {},
   "outputs": [
    {
     "output_type": "execute_result",
     "data": {
      "text/plain": [
       "58       MIT at Mass Ave / Amherst St\n",
       "291      MIT at Mass Ave / Amherst St\n",
       "299      MIT at Mass Ave / Amherst St\n",
       "317      MIT at Mass Ave / Amherst St\n",
       "352      MIT at Mass Ave / Amherst St\n",
       "                     ...             \n",
       "73321    MIT at Mass Ave / Amherst St\n",
       "73406    MIT at Mass Ave / Amherst St\n",
       "73582    MIT at Mass Ave / Amherst St\n",
       "73583    MIT at Mass Ave / Amherst St\n",
       "73739    MIT at Mass Ave / Amherst St\n",
       "Name: end station name, Length: 27574, dtype: object"
      ]
     },
     "metadata": {},
     "execution_count": 125
    }
   ],
   "source": [
    "df_all.loc[df_all['end station id'] == 67, 'end station name']"
   ]
  },
  {
   "cell_type": "code",
   "execution_count": 126,
   "metadata": {},
   "outputs": [
    {
     "output_type": "execute_result",
     "data": {
      "text/plain": [
       "109      Ames St at Main St\n",
       "115      Ames St at Main St\n",
       "147      Ames St at Main St\n",
       "148      Ames St at Main St\n",
       "179      Ames St at Main St\n",
       "                ...        \n",
       "72850    Ames St at Main St\n",
       "73049    Ames St at Main St\n",
       "73226    Ames St at Main St\n",
       "73706    Ames St at Main St\n",
       "73710    Ames St at Main St\n",
       "Name: end station name, Length: 27111, dtype: object"
      ]
     },
     "metadata": {},
     "execution_count": 126
    }
   ],
   "source": [
    "df_all.loc[df_all['end station id'] == 107, 'end station name']"
   ]
  },
  {
   "cell_type": "code",
   "execution_count": 157,
   "metadata": {},
   "outputs": [
    {
     "output_type": "execute_result",
     "data": {
      "text/plain": [
       "108      Boylston St at Exeter St\n",
       "269      Boylston St at Exeter St\n",
       "359      Boylston St at Exeter St\n",
       "371      Boylston St at Exeter St\n",
       "417      Boylston St at Exeter St\n",
       "                   ...           \n",
       "73318    Boylston St at Exeter St\n",
       "73523    Boylston St at Exeter St\n",
       "73671    Boylston St at Exeter St\n",
       "73696    Boylston St at Exeter St\n",
       "73711    Boylston St at Exeter St\n",
       "Name: end station name, Length: 10511, dtype: object"
      ]
     },
     "metadata": {},
     "execution_count": 157
    }
   ],
   "source": [
    "df_all.loc[df_all['end station id'] == 372, 'end station name']"
   ]
  },
  {
   "cell_type": "code",
   "execution_count": 158,
   "metadata": {},
   "outputs": [
    {
     "output_type": "execute_result",
     "data": {
      "text/plain": [
       "248      Harvard Square at Mass Ave/ Dunster\n",
       "288      Harvard Square at Mass Ave/ Dunster\n",
       "378      Harvard Square at Mass Ave/ Dunster\n",
       "453      Harvard Square at Mass Ave/ Dunster\n",
       "454      Harvard Square at Mass Ave/ Dunster\n",
       "                        ...                 \n",
       "73161    Harvard Square at Mass Ave/ Dunster\n",
       "73468    Harvard Square at Mass Ave/ Dunster\n",
       "73729    Harvard Square at Mass Ave/ Dunster\n",
       "73753    Harvard Square at Mass Ave/ Dunster\n",
       "73873    Harvard Square at Mass Ave/ Dunster\n",
       "Name: end station name, Length: 22725, dtype: object"
      ]
     },
     "metadata": {},
     "execution_count": 158
    }
   ],
   "source": [
    "df_all.loc[df_all['end station id'] == 74, 'end station name']"
   ]
  },
  {
   "cell_type": "code",
   "execution_count": 159,
   "metadata": {},
   "outputs": [
    {
     "output_type": "execute_result",
     "data": {
      "text/plain": [
       "152      Cross St at Hanover St\n",
       "162      Cross St at Hanover St\n",
       "275      Cross St at Hanover St\n",
       "308      Cross St at Hanover St\n",
       "372      Cross St at Hanover St\n",
       "                  ...          \n",
       "73467    Cross St at Hanover St\n",
       "73470    Cross St at Hanover St\n",
       "73656    Cross St at Hanover St\n",
       "73869    Cross St at Hanover St\n",
       "73898    Cross St at Hanover St\n",
       "Name: end station name, Length: 21995, dtype: object"
      ]
     },
     "metadata": {},
     "execution_count": 159
    }
   ],
   "source": [
    "df_all.loc[df_all['end station id'] == 47, 'end station name']"
   ]
  },
  {
   "cell_type": "code",
   "execution_count": 160,
   "metadata": {},
   "outputs": [
    {
     "output_type": "execute_result",
     "data": {
      "text/plain": [
       "232      Nashua Street at Red Auerbach Way\n",
       "305      Nashua Street at Red Auerbach Way\n",
       "683      Nashua Street at Red Auerbach Way\n",
       "684      Nashua Street at Red Auerbach Way\n",
       "690      Nashua Street at Red Auerbach Way\n",
       "                       ...                \n",
       "73687    Nashua Street at Red Auerbach Way\n",
       "73779    Nashua Street at Red Auerbach Way\n",
       "73838    Nashua Street at Red Auerbach Way\n",
       "73863    Nashua Street at Red Auerbach Way\n",
       "73956    Nashua Street at Red Auerbach Way\n",
       "Name: end station name, Length: 21604, dtype: object"
      ]
     },
     "metadata": {},
     "execution_count": 160
    }
   ],
   "source": [
    "df_all.loc[df_all['end station id'] == 190, 'end station name']"
   ]
  },
  {
   "cell_type": "code",
   "execution_count": 161,
   "metadata": {},
   "outputs": [
    {
     "output_type": "execute_result",
     "data": {
      "text/plain": [
       "114      Longwood Ave at Binney St\n",
       "116      Longwood Ave at Binney St\n",
       "256      Longwood Ave at Binney St\n",
       "272      Longwood Ave at Binney St\n",
       "297      Longwood Ave at Binney St\n",
       "                   ...            \n",
       "72803    Longwood Ave at Binney St\n",
       "73046    Longwood Ave at Binney St\n",
       "73392    Longwood Ave at Binney St\n",
       "73785    Longwood Ave at Binney St\n",
       "73911    Longwood Ave at Binney St\n",
       "Name: end station name, Length: 21473, dtype: object"
      ]
     },
     "metadata": {},
     "execution_count": 161
    }
   ],
   "source": [
    "df_all.loc[df_all['end station id'] == 11, 'end station name']"
   ]
  },
  {
   "cell_type": "code",
   "execution_count": 162,
   "metadata": {},
   "outputs": [
    {
     "output_type": "execute_result",
     "data": {
      "text/plain": [
       "5        MIT Pacific St at Purrington St\n",
       "61       MIT Pacific St at Purrington St\n",
       "66       MIT Pacific St at Purrington St\n",
       "67       MIT Pacific St at Purrington St\n",
       "69       MIT Pacific St at Purrington St\n",
       "                      ...               \n",
       "73770    MIT Pacific St at Purrington St\n",
       "73816    MIT Pacific St at Purrington St\n",
       "73904    MIT Pacific St at Purrington St\n",
       "73983    MIT Pacific St at Purrington St\n",
       "73985    MIT Pacific St at Purrington St\n",
       "Name: end station name, Length: 21351, dtype: object"
      ]
     },
     "metadata": {},
     "execution_count": 162
    }
   ],
   "source": [
    "df_all.loc[df_all['end station id'] == 178, 'end station name']"
   ]
  },
  {
   "cell_type": "code",
   "execution_count": 163,
   "metadata": {},
   "outputs": [
    {
     "output_type": "execute_result",
     "data": {
      "text/plain": [
       "2015      Beacon St at Massachusetts Ave\n",
       "2347      Beacon St at Massachusetts Ave\n",
       "2669      Beacon St at Massachusetts Ave\n",
       "2723      Beacon St at Massachusetts Ave\n",
       "2762      Beacon St at Massachusetts Ave\n",
       "                       ...              \n",
       "100528    Beacon St at Massachusetts Ave\n",
       "100582    Beacon St at Massachusetts Ave\n",
       "100674    Beacon St at Massachusetts Ave\n",
       "100708    Beacon St at Massachusetts Ave\n",
       "100730    Beacon St at Massachusetts Ave\n",
       "Name: end station name, Length: 20595, dtype: object"
      ]
     },
     "metadata": {},
     "execution_count": 163
    }
   ],
   "source": [
    "df_all.loc[df_all['end station id'] == 53, 'end station name']"
   ]
  },
  {
   "source": [
    "The most frequently used end stations are:"
   ],
   "cell_type": "markdown",
   "metadata": {}
  },
  {
   "cell_type": "code",
   "execution_count": 327,
   "metadata": {},
   "outputs": [
    {
     "output_type": "display_data",
     "data": {
      "text/plain": "<Figure size 432x288 with 1 Axes>",
      "image/svg+xml": "<?xml version=\"1.0\" encoding=\"utf-8\" standalone=\"no\"?>\n<!DOCTYPE svg PUBLIC \"-//W3C//DTD SVG 1.1//EN\"\n  \"http://www.w3.org/Graphics/SVG/1.1/DTD/svg11.dtd\">\n<!-- Created with matplotlib (https://matplotlib.org/) -->\n<svg height=\"388.63pt\" version=\"1.1\" viewBox=\"0 0 403.62625 388.63\" width=\"403.62625pt\" xmlns=\"http://www.w3.org/2000/svg\" xmlns:xlink=\"http://www.w3.org/1999/xlink\">\n <metadata>\n  <rdf:RDF xmlns:cc=\"http://creativecommons.org/ns#\" xmlns:dc=\"http://purl.org/dc/elements/1.1/\" xmlns:rdf=\"http://www.w3.org/1999/02/22-rdf-syntax-ns#\">\n   <cc:Work>\n    <dc:type rdf:resource=\"http://purl.org/dc/dcmitype/StillImage\"/>\n    <dc:date>2021-02-10T11:16:13.204832</dc:date>\n    <dc:format>image/svg+xml</dc:format>\n    <dc:creator>\n     <cc:Agent>\n      <dc:title>Matplotlib v3.3.1, https://matplotlib.org/</dc:title>\n     </cc:Agent>\n    </dc:creator>\n   </cc:Work>\n  </rdf:RDF>\n </metadata>\n <defs>\n  <style type=\"text/css\">*{stroke-linecap:butt;stroke-linejoin:round;}</style>\n </defs>\n <g id=\"figure_1\">\n  <g id=\"patch_1\">\n   <path d=\"M 0 388.63 \nL 403.62625 388.63 \nL 403.62625 0 \nL 0 0 \nz\n\" style=\"fill:none;\"/>\n  </g>\n  <g id=\"axes_1\">\n   <g id=\"patch_2\">\n    <path d=\"M 61.62625 242.7975 \nL 396.42625 242.7975 \nL 396.42625 25.3575 \nL 61.62625 25.3575 \nz\n\" style=\"fill:#ffffff;\"/>\n   </g>\n   <g id=\"patch_3\">\n    <path clip-path=\"url(#p4a957fc2f8)\" d=\"M 68.60125 242.7975 \nL 82.55125 242.7975 \nL 82.55125 35.711786 \nL 68.60125 35.711786 \nz\n\" style=\"fill:#1f77b4;\"/>\n   </g>\n   <g id=\"patch_4\">\n    <path clip-path=\"url(#p4a957fc2f8)\" d=\"M 96.50125 242.7975 \nL 110.45125 242.7975 \nL 110.45125 45.772153 \nL 96.50125 45.772153 \nz\n\" style=\"fill:#1f77b4;\"/>\n   </g>\n   <g id=\"patch_5\">\n    <path clip-path=\"url(#p4a957fc2f8)\" d=\"M 124.40125 242.7975 \nL 138.35125 242.7975 \nL 138.35125 77.637837 \nL 124.40125 77.637837 \nz\n\" style=\"fill:#1f77b4;\"/>\n   </g>\n   <g id=\"patch_6\">\n    <path clip-path=\"url(#p4a957fc2f8)\" d=\"M 152.30125 242.7975 \nL 166.25125 242.7975 \nL 166.25125 80.382645 \nL 152.30125 80.382645 \nz\n\" style=\"fill:#1f77b4;\"/>\n   </g>\n   <g id=\"patch_7\">\n    <path clip-path=\"url(#p4a957fc2f8)\" d=\"M 180.20125 242.7975 \nL 194.15125 242.7975 \nL 194.15125 83.109782 \nL 180.20125 83.109782 \nz\n\" style=\"fill:#1f77b4;\"/>\n   </g>\n   <g id=\"patch_8\">\n    <path clip-path=\"url(#p4a957fc2f8)\" d=\"M 208.10125 242.7975 \nL 222.05125 242.7975 \nL 222.05125 107.500872 \nL 208.10125 107.500872 \nz\n\" style=\"fill:#1f77b4;\"/>\n   </g>\n   <g id=\"patch_9\">\n    <path clip-path=\"url(#p4a957fc2f8)\" d=\"M 236.00125 242.7975 \nL 249.95125 242.7975 \nL 249.95125 108.943957 \nL 236.00125 108.943957 \nz\n\" style=\"fill:#1f77b4;\"/>\n   </g>\n   <g id=\"patch_10\">\n    <path clip-path=\"url(#p4a957fc2f8)\" d=\"M 263.90125 242.7975 \nL 277.85125 242.7975 \nL 277.85125 113.243763 \nL 263.90125 113.243763 \nz\n\" style=\"fill:#1f77b4;\"/>\n   </g>\n   <g id=\"patch_11\">\n    <path clip-path=\"url(#p4a957fc2f8)\" d=\"M 291.80125 242.7975 \nL 305.75125 242.7975 \nL 305.75125 115.54681 \nL 291.80125 115.54681 \nz\n\" style=\"fill:#1f77b4;\"/>\n   </g>\n   <g id=\"patch_12\">\n    <path clip-path=\"url(#p4a957fc2f8)\" d=\"M 319.70125 242.7975 \nL 333.65125 242.7975 \nL 333.65125 116.318419 \nL 319.70125 116.318419 \nz\n\" style=\"fill:#1f77b4;\"/>\n   </g>\n   <g id=\"patch_13\">\n    <path clip-path=\"url(#p4a957fc2f8)\" d=\"M 347.60125 242.7975 \nL 361.55125 242.7975 \nL 361.55125 117.037016 \nL 347.60125 117.037016 \nz\n\" style=\"fill:#1f77b4;\"/>\n   </g>\n   <g id=\"patch_14\">\n    <path clip-path=\"url(#p4a957fc2f8)\" d=\"M 375.50125 242.7975 \nL 389.45125 242.7975 \nL 389.45125 121.489966 \nL 375.50125 121.489966 \nz\n\" style=\"fill:#1f77b4;\"/>\n   </g>\n   <g id=\"matplotlib.axis_1\">\n    <g id=\"xtick_1\">\n     <g id=\"line2d_1\">\n      <defs>\n       <path d=\"M 0 0 \nL 0 3.5 \n\" id=\"md899c26d87\" style=\"stroke:#000000;stroke-width:0.8;\"/>\n      </defs>\n      <g>\n       <use style=\"stroke:#000000;stroke-width:0.8;\" x=\"75.57625\" xlink:href=\"#md899c26d87\" y=\"242.7975\"/>\n      </g>\n     </g>\n     <g id=\"text_1\">\n      <!-- Central Square -->\n      <g transform=\"translate(78.335625 324.588125)rotate(-90)scale(0.1 -0.1)\">\n       <defs>\n        <path d=\"M 64.40625 67.28125 \nL 64.40625 56.890625 \nQ 59.421875 61.53125 53.78125 63.8125 \nQ 48.140625 66.109375 41.796875 66.109375 \nQ 29.296875 66.109375 22.65625 58.46875 \nQ 16.015625 50.828125 16.015625 36.375 \nQ 16.015625 21.96875 22.65625 14.328125 \nQ 29.296875 6.6875 41.796875 6.6875 \nQ 48.140625 6.6875 53.78125 8.984375 \nQ 59.421875 11.28125 64.40625 15.921875 \nL 64.40625 5.609375 \nQ 59.234375 2.09375 53.4375 0.328125 \nQ 47.65625 -1.421875 41.21875 -1.421875 \nQ 24.65625 -1.421875 15.125 8.703125 \nQ 5.609375 18.84375 5.609375 36.375 \nQ 5.609375 53.953125 15.125 64.078125 \nQ 24.65625 74.21875 41.21875 74.21875 \nQ 47.75 74.21875 53.53125 72.484375 \nQ 59.328125 70.75 64.40625 67.28125 \nz\n\" id=\"DejaVuSans-67\"/>\n        <path d=\"M 56.203125 29.59375 \nL 56.203125 25.203125 \nL 14.890625 25.203125 \nQ 15.484375 15.921875 20.484375 11.0625 \nQ 25.484375 6.203125 34.421875 6.203125 \nQ 39.59375 6.203125 44.453125 7.46875 \nQ 49.3125 8.734375 54.109375 11.28125 \nL 54.109375 2.78125 \nQ 49.265625 0.734375 44.1875 -0.34375 \nQ 39.109375 -1.421875 33.890625 -1.421875 \nQ 20.796875 -1.421875 13.15625 6.1875 \nQ 5.515625 13.8125 5.515625 26.8125 \nQ 5.515625 40.234375 12.765625 48.109375 \nQ 20.015625 56 32.328125 56 \nQ 43.359375 56 49.78125 48.890625 \nQ 56.203125 41.796875 56.203125 29.59375 \nz\nM 47.21875 32.234375 \nQ 47.125 39.59375 43.09375 43.984375 \nQ 39.0625 48.390625 32.421875 48.390625 \nQ 24.90625 48.390625 20.390625 44.140625 \nQ 15.875 39.890625 15.1875 32.171875 \nz\n\" id=\"DejaVuSans-101\"/>\n        <path d=\"M 54.890625 33.015625 \nL 54.890625 0 \nL 45.90625 0 \nL 45.90625 32.71875 \nQ 45.90625 40.484375 42.875 44.328125 \nQ 39.84375 48.1875 33.796875 48.1875 \nQ 26.515625 48.1875 22.3125 43.546875 \nQ 18.109375 38.921875 18.109375 30.90625 \nL 18.109375 0 \nL 9.078125 0 \nL 9.078125 54.6875 \nL 18.109375 54.6875 \nL 18.109375 46.1875 \nQ 21.34375 51.125 25.703125 53.5625 \nQ 30.078125 56 35.796875 56 \nQ 45.21875 56 50.046875 50.171875 \nQ 54.890625 44.34375 54.890625 33.015625 \nz\n\" id=\"DejaVuSans-110\"/>\n        <path d=\"M 18.3125 70.21875 \nL 18.3125 54.6875 \nL 36.8125 54.6875 \nL 36.8125 47.703125 \nL 18.3125 47.703125 \nL 18.3125 18.015625 \nQ 18.3125 11.328125 20.140625 9.421875 \nQ 21.96875 7.515625 27.59375 7.515625 \nL 36.8125 7.515625 \nL 36.8125 0 \nL 27.59375 0 \nQ 17.1875 0 13.234375 3.875 \nQ 9.28125 7.765625 9.28125 18.015625 \nL 9.28125 47.703125 \nL 2.6875 47.703125 \nL 2.6875 54.6875 \nL 9.28125 54.6875 \nL 9.28125 70.21875 \nz\n\" id=\"DejaVuSans-116\"/>\n        <path d=\"M 41.109375 46.296875 \nQ 39.59375 47.171875 37.8125 47.578125 \nQ 36.03125 48 33.890625 48 \nQ 26.265625 48 22.1875 43.046875 \nQ 18.109375 38.09375 18.109375 28.8125 \nL 18.109375 0 \nL 9.078125 0 \nL 9.078125 54.6875 \nL 18.109375 54.6875 \nL 18.109375 46.1875 \nQ 20.953125 51.171875 25.484375 53.578125 \nQ 30.03125 56 36.53125 56 \nQ 37.453125 56 38.578125 55.875 \nQ 39.703125 55.765625 41.0625 55.515625 \nz\n\" id=\"DejaVuSans-114\"/>\n        <path d=\"M 34.28125 27.484375 \nQ 23.390625 27.484375 19.1875 25 \nQ 14.984375 22.515625 14.984375 16.5 \nQ 14.984375 11.71875 18.140625 8.90625 \nQ 21.296875 6.109375 26.703125 6.109375 \nQ 34.1875 6.109375 38.703125 11.40625 \nQ 43.21875 16.703125 43.21875 25.484375 \nL 43.21875 27.484375 \nz\nM 52.203125 31.203125 \nL 52.203125 0 \nL 43.21875 0 \nL 43.21875 8.296875 \nQ 40.140625 3.328125 35.546875 0.953125 \nQ 30.953125 -1.421875 24.3125 -1.421875 \nQ 15.921875 -1.421875 10.953125 3.296875 \nQ 6 8.015625 6 15.921875 \nQ 6 25.140625 12.171875 29.828125 \nQ 18.359375 34.515625 30.609375 34.515625 \nL 43.21875 34.515625 \nL 43.21875 35.40625 \nQ 43.21875 41.609375 39.140625 45 \nQ 35.0625 48.390625 27.6875 48.390625 \nQ 23 48.390625 18.546875 47.265625 \nQ 14.109375 46.140625 10.015625 43.890625 \nL 10.015625 52.203125 \nQ 14.9375 54.109375 19.578125 55.046875 \nQ 24.21875 56 28.609375 56 \nQ 40.484375 56 46.34375 49.84375 \nQ 52.203125 43.703125 52.203125 31.203125 \nz\n\" id=\"DejaVuSans-97\"/>\n        <path d=\"M 9.421875 75.984375 \nL 18.40625 75.984375 \nL 18.40625 0 \nL 9.421875 0 \nz\n\" id=\"DejaVuSans-108\"/>\n        <path id=\"DejaVuSans-32\"/>\n        <path d=\"M 53.515625 70.515625 \nL 53.515625 60.890625 \nQ 47.90625 63.578125 42.921875 64.890625 \nQ 37.9375 66.21875 33.296875 66.21875 \nQ 25.25 66.21875 20.875 63.09375 \nQ 16.5 59.96875 16.5 54.203125 \nQ 16.5 49.359375 19.40625 46.890625 \nQ 22.3125 44.4375 30.421875 42.921875 \nL 36.375 41.703125 \nQ 47.40625 39.59375 52.65625 34.296875 \nQ 57.90625 29 57.90625 20.125 \nQ 57.90625 9.515625 50.796875 4.046875 \nQ 43.703125 -1.421875 29.984375 -1.421875 \nQ 24.8125 -1.421875 18.96875 -0.25 \nQ 13.140625 0.921875 6.890625 3.21875 \nL 6.890625 13.375 \nQ 12.890625 10.015625 18.65625 8.296875 \nQ 24.421875 6.59375 29.984375 6.59375 \nQ 38.421875 6.59375 43.015625 9.90625 \nQ 47.609375 13.234375 47.609375 19.390625 \nQ 47.609375 24.75 44.3125 27.78125 \nQ 41.015625 30.8125 33.5 32.328125 \nL 27.484375 33.5 \nQ 16.453125 35.6875 11.515625 40.375 \nQ 6.59375 45.0625 6.59375 53.421875 \nQ 6.59375 63.09375 13.40625 68.65625 \nQ 20.21875 74.21875 32.171875 74.21875 \nQ 37.3125 74.21875 42.625 73.28125 \nQ 47.953125 72.359375 53.515625 70.515625 \nz\n\" id=\"DejaVuSans-83\"/>\n        <path d=\"M 14.796875 27.296875 \nQ 14.796875 17.390625 18.875 11.75 \nQ 22.953125 6.109375 30.078125 6.109375 \nQ 37.203125 6.109375 41.296875 11.75 \nQ 45.40625 17.390625 45.40625 27.296875 \nQ 45.40625 37.203125 41.296875 42.84375 \nQ 37.203125 48.484375 30.078125 48.484375 \nQ 22.953125 48.484375 18.875 42.84375 \nQ 14.796875 37.203125 14.796875 27.296875 \nz\nM 45.40625 8.203125 \nQ 42.578125 3.328125 38.25 0.953125 \nQ 33.9375 -1.421875 27.875 -1.421875 \nQ 17.96875 -1.421875 11.734375 6.484375 \nQ 5.515625 14.40625 5.515625 27.296875 \nQ 5.515625 40.1875 11.734375 48.09375 \nQ 17.96875 56 27.875 56 \nQ 33.9375 56 38.25 53.625 \nQ 42.578125 51.265625 45.40625 46.390625 \nL 45.40625 54.6875 \nL 54.390625 54.6875 \nL 54.390625 -20.796875 \nL 45.40625 -20.796875 \nz\n\" id=\"DejaVuSans-113\"/>\n        <path d=\"M 8.5 21.578125 \nL 8.5 54.6875 \nL 17.484375 54.6875 \nL 17.484375 21.921875 \nQ 17.484375 14.15625 20.5 10.265625 \nQ 23.53125 6.390625 29.59375 6.390625 \nQ 36.859375 6.390625 41.078125 11.03125 \nQ 45.3125 15.671875 45.3125 23.6875 \nL 45.3125 54.6875 \nL 54.296875 54.6875 \nL 54.296875 0 \nL 45.3125 0 \nL 45.3125 8.40625 \nQ 42.046875 3.421875 37.71875 1 \nQ 33.40625 -1.421875 27.6875 -1.421875 \nQ 18.265625 -1.421875 13.375 4.4375 \nQ 8.5 10.296875 8.5 21.578125 \nz\nM 31.109375 56 \nz\n\" id=\"DejaVuSans-117\"/>\n       </defs>\n       <use xlink:href=\"#DejaVuSans-67\"/>\n       <use x=\"69.824219\" xlink:href=\"#DejaVuSans-101\"/>\n       <use x=\"131.347656\" xlink:href=\"#DejaVuSans-110\"/>\n       <use x=\"194.726562\" xlink:href=\"#DejaVuSans-116\"/>\n       <use x=\"233.935547\" xlink:href=\"#DejaVuSans-114\"/>\n       <use x=\"275.048828\" xlink:href=\"#DejaVuSans-97\"/>\n       <use x=\"336.328125\" xlink:href=\"#DejaVuSans-108\"/>\n       <use x=\"364.111328\" xlink:href=\"#DejaVuSans-32\"/>\n       <use x=\"395.898438\" xlink:href=\"#DejaVuSans-83\"/>\n       <use x=\"459.375\" xlink:href=\"#DejaVuSans-113\"/>\n       <use x=\"522.851562\" xlink:href=\"#DejaVuSans-117\"/>\n       <use x=\"586.230469\" xlink:href=\"#DejaVuSans-97\"/>\n       <use x=\"647.509766\" xlink:href=\"#DejaVuSans-114\"/>\n       <use x=\"686.373047\" xlink:href=\"#DejaVuSans-101\"/>\n      </g>\n     </g>\n    </g>\n    <g id=\"xtick_2\">\n     <g id=\"line2d_2\">\n      <g>\n       <use style=\"stroke:#000000;stroke-width:0.8;\" x=\"103.47625\" xlink:href=\"#md899c26d87\" y=\"242.7975\"/>\n      </g>\n     </g>\n     <g id=\"text_2\">\n      <!-- Charles Circle -->\n      <g transform=\"translate(106.235625 318.752188)rotate(-90)scale(0.1 -0.1)\">\n       <defs>\n        <path d=\"M 54.890625 33.015625 \nL 54.890625 0 \nL 45.90625 0 \nL 45.90625 32.71875 \nQ 45.90625 40.484375 42.875 44.328125 \nQ 39.84375 48.1875 33.796875 48.1875 \nQ 26.515625 48.1875 22.3125 43.546875 \nQ 18.109375 38.921875 18.109375 30.90625 \nL 18.109375 0 \nL 9.078125 0 \nL 9.078125 75.984375 \nL 18.109375 75.984375 \nL 18.109375 46.1875 \nQ 21.34375 51.125 25.703125 53.5625 \nQ 30.078125 56 35.796875 56 \nQ 45.21875 56 50.046875 50.171875 \nQ 54.890625 44.34375 54.890625 33.015625 \nz\n\" id=\"DejaVuSans-104\"/>\n        <path d=\"M 44.28125 53.078125 \nL 44.28125 44.578125 \nQ 40.484375 46.53125 36.375 47.5 \nQ 32.28125 48.484375 27.875 48.484375 \nQ 21.1875 48.484375 17.84375 46.4375 \nQ 14.5 44.390625 14.5 40.28125 \nQ 14.5 37.15625 16.890625 35.375 \nQ 19.28125 33.59375 26.515625 31.984375 \nL 29.59375 31.296875 \nQ 39.15625 29.25 43.1875 25.515625 \nQ 47.21875 21.78125 47.21875 15.09375 \nQ 47.21875 7.46875 41.1875 3.015625 \nQ 35.15625 -1.421875 24.609375 -1.421875 \nQ 20.21875 -1.421875 15.453125 -0.5625 \nQ 10.6875 0.296875 5.421875 2 \nL 5.421875 11.28125 \nQ 10.40625 8.6875 15.234375 7.390625 \nQ 20.0625 6.109375 24.8125 6.109375 \nQ 31.15625 6.109375 34.5625 8.28125 \nQ 37.984375 10.453125 37.984375 14.40625 \nQ 37.984375 18.0625 35.515625 20.015625 \nQ 33.0625 21.96875 24.703125 23.78125 \nL 21.578125 24.515625 \nQ 13.234375 26.265625 9.515625 29.90625 \nQ 5.8125 33.546875 5.8125 39.890625 \nQ 5.8125 47.609375 11.28125 51.796875 \nQ 16.75 56 26.8125 56 \nQ 31.78125 56 36.171875 55.265625 \nQ 40.578125 54.546875 44.28125 53.078125 \nz\n\" id=\"DejaVuSans-115\"/>\n        <path d=\"M 9.421875 54.6875 \nL 18.40625 54.6875 \nL 18.40625 0 \nL 9.421875 0 \nz\nM 9.421875 75.984375 \nL 18.40625 75.984375 \nL 18.40625 64.59375 \nL 9.421875 64.59375 \nz\n\" id=\"DejaVuSans-105\"/>\n        <path d=\"M 48.78125 52.59375 \nL 48.78125 44.1875 \nQ 44.96875 46.296875 41.140625 47.34375 \nQ 37.3125 48.390625 33.40625 48.390625 \nQ 24.65625 48.390625 19.8125 42.84375 \nQ 14.984375 37.3125 14.984375 27.296875 \nQ 14.984375 17.28125 19.8125 11.734375 \nQ 24.65625 6.203125 33.40625 6.203125 \nQ 37.3125 6.203125 41.140625 7.25 \nQ 44.96875 8.296875 48.78125 10.40625 \nL 48.78125 2.09375 \nQ 45.015625 0.34375 40.984375 -0.53125 \nQ 36.96875 -1.421875 32.421875 -1.421875 \nQ 20.0625 -1.421875 12.78125 6.34375 \nQ 5.515625 14.109375 5.515625 27.296875 \nQ 5.515625 40.671875 12.859375 48.328125 \nQ 20.21875 56 33.015625 56 \nQ 37.15625 56 41.109375 55.140625 \nQ 45.0625 54.296875 48.78125 52.59375 \nz\n\" id=\"DejaVuSans-99\"/>\n       </defs>\n       <use xlink:href=\"#DejaVuSans-67\"/>\n       <use x=\"69.824219\" xlink:href=\"#DejaVuSans-104\"/>\n       <use x=\"133.203125\" xlink:href=\"#DejaVuSans-97\"/>\n       <use x=\"194.482422\" xlink:href=\"#DejaVuSans-114\"/>\n       <use x=\"235.595703\" xlink:href=\"#DejaVuSans-108\"/>\n       <use x=\"263.378906\" xlink:href=\"#DejaVuSans-101\"/>\n       <use x=\"324.902344\" xlink:href=\"#DejaVuSans-115\"/>\n       <use x=\"377.001953\" xlink:href=\"#DejaVuSans-32\"/>\n       <use x=\"408.789062\" xlink:href=\"#DejaVuSans-67\"/>\n       <use x=\"478.613281\" xlink:href=\"#DejaVuSans-105\"/>\n       <use x=\"506.396484\" xlink:href=\"#DejaVuSans-114\"/>\n       <use x=\"545.259766\" xlink:href=\"#DejaVuSans-99\"/>\n       <use x=\"600.240234\" xlink:href=\"#DejaVuSans-108\"/>\n       <use x=\"628.023438\" xlink:href=\"#DejaVuSans-101\"/>\n      </g>\n     </g>\n    </g>\n    <g id=\"xtick_3\">\n     <g id=\"line2d_3\">\n      <g>\n       <use style=\"stroke:#000000;stroke-width:0.8;\" x=\"131.37625\" xlink:href=\"#md899c26d87\" y=\"242.7975\"/>\n      </g>\n     </g>\n     <g id=\"text_3\">\n      <!-- MIT -->\n      <g transform=\"translate(134.135625 267.483438)rotate(-90)scale(0.1 -0.1)\">\n       <defs>\n        <path d=\"M 9.8125 72.90625 \nL 24.515625 72.90625 \nL 43.109375 23.296875 \nL 61.8125 72.90625 \nL 76.515625 72.90625 \nL 76.515625 0 \nL 66.890625 0 \nL 66.890625 64.015625 \nL 48.09375 14.015625 \nL 38.1875 14.015625 \nL 19.390625 64.015625 \nL 19.390625 0 \nL 9.8125 0 \nz\n\" id=\"DejaVuSans-77\"/>\n        <path d=\"M 9.8125 72.90625 \nL 19.671875 72.90625 \nL 19.671875 0 \nL 9.8125 0 \nz\n\" id=\"DejaVuSans-73\"/>\n        <path d=\"M -0.296875 72.90625 \nL 61.375 72.90625 \nL 61.375 64.59375 \nL 35.5 64.59375 \nL 35.5 0 \nL 25.59375 0 \nL 25.59375 64.59375 \nL -0.296875 64.59375 \nz\n\" id=\"DejaVuSans-84\"/>\n       </defs>\n       <use xlink:href=\"#DejaVuSans-77\"/>\n       <use x=\"86.279297\" xlink:href=\"#DejaVuSans-73\"/>\n       <use x=\"115.771484\" xlink:href=\"#DejaVuSans-84\"/>\n      </g>\n     </g>\n    </g>\n    <g id=\"xtick_4\">\n     <g id=\"line2d_4\">\n      <g>\n       <use style=\"stroke:#000000;stroke-width:0.8;\" x=\"159.27625\" xlink:href=\"#md899c26d87\" y=\"242.7975\"/>\n      </g>\n     </g>\n     <g id=\"text_4\">\n      <!-- Christian Science Plaza -->\n      <g transform=\"translate(162.035625 365.81625)rotate(-90)scale(0.1 -0.1)\">\n       <defs>\n        <path d=\"M 19.671875 64.796875 \nL 19.671875 37.40625 \nL 32.078125 37.40625 \nQ 38.96875 37.40625 42.71875 40.96875 \nQ 46.484375 44.53125 46.484375 51.125 \nQ 46.484375 57.671875 42.71875 61.234375 \nQ 38.96875 64.796875 32.078125 64.796875 \nz\nM 9.8125 72.90625 \nL 32.078125 72.90625 \nQ 44.34375 72.90625 50.609375 67.359375 \nQ 56.890625 61.8125 56.890625 51.125 \nQ 56.890625 40.328125 50.609375 34.8125 \nQ 44.34375 29.296875 32.078125 29.296875 \nL 19.671875 29.296875 \nL 19.671875 0 \nL 9.8125 0 \nz\n\" id=\"DejaVuSans-80\"/>\n        <path d=\"M 5.515625 54.6875 \nL 48.1875 54.6875 \nL 48.1875 46.484375 \nL 14.40625 7.171875 \nL 48.1875 7.171875 \nL 48.1875 0 \nL 4.296875 0 \nL 4.296875 8.203125 \nL 38.09375 47.515625 \nL 5.515625 47.515625 \nz\n\" id=\"DejaVuSans-122\"/>\n       </defs>\n       <use xlink:href=\"#DejaVuSans-67\"/>\n       <use x=\"69.824219\" xlink:href=\"#DejaVuSans-104\"/>\n       <use x=\"133.203125\" xlink:href=\"#DejaVuSans-114\"/>\n       <use x=\"174.316406\" xlink:href=\"#DejaVuSans-105\"/>\n       <use x=\"202.099609\" xlink:href=\"#DejaVuSans-115\"/>\n       <use x=\"254.199219\" xlink:href=\"#DejaVuSans-116\"/>\n       <use x=\"293.408203\" xlink:href=\"#DejaVuSans-105\"/>\n       <use x=\"321.191406\" xlink:href=\"#DejaVuSans-97\"/>\n       <use x=\"382.470703\" xlink:href=\"#DejaVuSans-110\"/>\n       <use x=\"445.849609\" xlink:href=\"#DejaVuSans-32\"/>\n       <use x=\"477.636719\" xlink:href=\"#DejaVuSans-83\"/>\n       <use x=\"541.113281\" xlink:href=\"#DejaVuSans-99\"/>\n       <use x=\"596.09375\" xlink:href=\"#DejaVuSans-105\"/>\n       <use x=\"623.876953\" xlink:href=\"#DejaVuSans-101\"/>\n       <use x=\"685.400391\" xlink:href=\"#DejaVuSans-110\"/>\n       <use x=\"748.779297\" xlink:href=\"#DejaVuSans-99\"/>\n       <use x=\"803.759766\" xlink:href=\"#DejaVuSans-101\"/>\n       <use x=\"865.283203\" xlink:href=\"#DejaVuSans-32\"/>\n       <use x=\"897.070312\" xlink:href=\"#DejaVuSans-80\"/>\n       <use x=\"957.373047\" xlink:href=\"#DejaVuSans-108\"/>\n       <use x=\"985.15625\" xlink:href=\"#DejaVuSans-97\"/>\n       <use x=\"1046.435547\" xlink:href=\"#DejaVuSans-122\"/>\n       <use x=\"1098.925781\" xlink:href=\"#DejaVuSans-97\"/>\n      </g>\n     </g>\n    </g>\n    <g id=\"xtick_5\">\n     <g id=\"line2d_5\">\n      <g>\n       <use style=\"stroke:#000000;stroke-width:0.8;\" x=\"187.17625\" xlink:href=\"#md899c26d87\" y=\"242.7975\"/>\n      </g>\n     </g>\n     <g id=\"text_5\">\n      <!-- Ames St -->\n      <g transform=\"translate(189.935625 291.188125)rotate(-90)scale(0.1 -0.1)\">\n       <defs>\n        <path d=\"M 34.1875 63.1875 \nL 20.796875 26.90625 \nL 47.609375 26.90625 \nz\nM 28.609375 72.90625 \nL 39.796875 72.90625 \nL 67.578125 0 \nL 57.328125 0 \nL 50.6875 18.703125 \nL 17.828125 18.703125 \nL 11.1875 0 \nL 0.78125 0 \nz\n\" id=\"DejaVuSans-65\"/>\n        <path d=\"M 52 44.1875 \nQ 55.375 50.25 60.0625 53.125 \nQ 64.75 56 71.09375 56 \nQ 79.640625 56 84.28125 50.015625 \nQ 88.921875 44.046875 88.921875 33.015625 \nL 88.921875 0 \nL 79.890625 0 \nL 79.890625 32.71875 \nQ 79.890625 40.578125 77.09375 44.375 \nQ 74.3125 48.1875 68.609375 48.1875 \nQ 61.625 48.1875 57.5625 43.546875 \nQ 53.515625 38.921875 53.515625 30.90625 \nL 53.515625 0 \nL 44.484375 0 \nL 44.484375 32.71875 \nQ 44.484375 40.625 41.703125 44.40625 \nQ 38.921875 48.1875 33.109375 48.1875 \nQ 26.21875 48.1875 22.15625 43.53125 \nQ 18.109375 38.875 18.109375 30.90625 \nL 18.109375 0 \nL 9.078125 0 \nL 9.078125 54.6875 \nL 18.109375 54.6875 \nL 18.109375 46.1875 \nQ 21.1875 51.21875 25.484375 53.609375 \nQ 29.78125 56 35.6875 56 \nQ 41.65625 56 45.828125 52.96875 \nQ 50 49.953125 52 44.1875 \nz\n\" id=\"DejaVuSans-109\"/>\n       </defs>\n       <use xlink:href=\"#DejaVuSans-65\"/>\n       <use x=\"68.408203\" xlink:href=\"#DejaVuSans-109\"/>\n       <use x=\"165.820312\" xlink:href=\"#DejaVuSans-101\"/>\n       <use x=\"227.34375\" xlink:href=\"#DejaVuSans-115\"/>\n       <use x=\"279.443359\" xlink:href=\"#DejaVuSans-32\"/>\n       <use x=\"311.230469\" xlink:href=\"#DejaVuSans-83\"/>\n       <use x=\"374.707031\" xlink:href=\"#DejaVuSans-116\"/>\n      </g>\n     </g>\n    </g>\n    <g id=\"xtick_6\">\n     <g id=\"line2d_6\">\n      <g>\n       <use style=\"stroke:#000000;stroke-width:0.8;\" x=\"215.07625\" xlink:href=\"#md899c26d87\" y=\"242.7975\"/>\n      </g>\n     </g>\n     <g id=\"text_6\">\n      <!-- Boylston St -->\n      <g transform=\"translate(217.835625 306.506875)rotate(-90)scale(0.1 -0.1)\">\n       <defs>\n        <path d=\"M 19.671875 34.8125 \nL 19.671875 8.109375 \nL 35.5 8.109375 \nQ 43.453125 8.109375 47.28125 11.40625 \nQ 51.125 14.703125 51.125 21.484375 \nQ 51.125 28.328125 47.28125 31.5625 \nQ 43.453125 34.8125 35.5 34.8125 \nz\nM 19.671875 64.796875 \nL 19.671875 42.828125 \nL 34.28125 42.828125 \nQ 41.5 42.828125 45.03125 45.53125 \nQ 48.578125 48.25 48.578125 53.8125 \nQ 48.578125 59.328125 45.03125 62.0625 \nQ 41.5 64.796875 34.28125 64.796875 \nz\nM 9.8125 72.90625 \nL 35.015625 72.90625 \nQ 46.296875 72.90625 52.390625 68.21875 \nQ 58.5 63.53125 58.5 54.890625 \nQ 58.5 48.1875 55.375 44.234375 \nQ 52.25 40.28125 46.1875 39.3125 \nQ 53.46875 37.75 57.5 32.78125 \nQ 61.53125 27.828125 61.53125 20.40625 \nQ 61.53125 10.640625 54.890625 5.3125 \nQ 48.25 0 35.984375 0 \nL 9.8125 0 \nz\n\" id=\"DejaVuSans-66\"/>\n        <path d=\"M 30.609375 48.390625 \nQ 23.390625 48.390625 19.1875 42.75 \nQ 14.984375 37.109375 14.984375 27.296875 \nQ 14.984375 17.484375 19.15625 11.84375 \nQ 23.34375 6.203125 30.609375 6.203125 \nQ 37.796875 6.203125 41.984375 11.859375 \nQ 46.1875 17.53125 46.1875 27.296875 \nQ 46.1875 37.015625 41.984375 42.703125 \nQ 37.796875 48.390625 30.609375 48.390625 \nz\nM 30.609375 56 \nQ 42.328125 56 49.015625 48.375 \nQ 55.71875 40.765625 55.71875 27.296875 \nQ 55.71875 13.875 49.015625 6.21875 \nQ 42.328125 -1.421875 30.609375 -1.421875 \nQ 18.84375 -1.421875 12.171875 6.21875 \nQ 5.515625 13.875 5.515625 27.296875 \nQ 5.515625 40.765625 12.171875 48.375 \nQ 18.84375 56 30.609375 56 \nz\n\" id=\"DejaVuSans-111\"/>\n        <path d=\"M 32.171875 -5.078125 \nQ 28.375 -14.84375 24.75 -17.8125 \nQ 21.140625 -20.796875 15.09375 -20.796875 \nL 7.90625 -20.796875 \nL 7.90625 -13.28125 \nL 13.1875 -13.28125 \nQ 16.890625 -13.28125 18.9375 -11.515625 \nQ 21 -9.765625 23.484375 -3.21875 \nL 25.09375 0.875 \nL 2.984375 54.6875 \nL 12.5 54.6875 \nL 29.59375 11.921875 \nL 46.6875 54.6875 \nL 56.203125 54.6875 \nz\n\" id=\"DejaVuSans-121\"/>\n       </defs>\n       <use xlink:href=\"#DejaVuSans-66\"/>\n       <use x=\"68.603516\" xlink:href=\"#DejaVuSans-111\"/>\n       <use x=\"129.785156\" xlink:href=\"#DejaVuSans-121\"/>\n       <use x=\"188.964844\" xlink:href=\"#DejaVuSans-108\"/>\n       <use x=\"216.748047\" xlink:href=\"#DejaVuSans-115\"/>\n       <use x=\"268.847656\" xlink:href=\"#DejaVuSans-116\"/>\n       <use x=\"308.056641\" xlink:href=\"#DejaVuSans-111\"/>\n       <use x=\"369.238281\" xlink:href=\"#DejaVuSans-110\"/>\n       <use x=\"432.617188\" xlink:href=\"#DejaVuSans-32\"/>\n       <use x=\"464.404297\" xlink:href=\"#DejaVuSans-83\"/>\n       <use x=\"527.880859\" xlink:href=\"#DejaVuSans-116\"/>\n      </g>\n     </g>\n    </g>\n    <g id=\"xtick_7\">\n     <g id=\"line2d_7\">\n      <g>\n       <use style=\"stroke:#000000;stroke-width:0.8;\" x=\"242.97625\" xlink:href=\"#md899c26d87\" y=\"242.7975\"/>\n      </g>\n     </g>\n     <g id=\"text_7\">\n      <!-- Harvard Square -->\n      <g transform=\"translate(245.735625 328.267813)rotate(-90)scale(0.1 -0.1)\">\n       <defs>\n        <path d=\"M 9.8125 72.90625 \nL 19.671875 72.90625 \nL 19.671875 43.015625 \nL 55.515625 43.015625 \nL 55.515625 72.90625 \nL 65.375 72.90625 \nL 65.375 0 \nL 55.515625 0 \nL 55.515625 34.71875 \nL 19.671875 34.71875 \nL 19.671875 0 \nL 9.8125 0 \nz\n\" id=\"DejaVuSans-72\"/>\n        <path d=\"M 2.984375 54.6875 \nL 12.5 54.6875 \nL 29.59375 8.796875 \nL 46.6875 54.6875 \nL 56.203125 54.6875 \nL 35.6875 0 \nL 23.484375 0 \nz\n\" id=\"DejaVuSans-118\"/>\n        <path d=\"M 45.40625 46.390625 \nL 45.40625 75.984375 \nL 54.390625 75.984375 \nL 54.390625 0 \nL 45.40625 0 \nL 45.40625 8.203125 \nQ 42.578125 3.328125 38.25 0.953125 \nQ 33.9375 -1.421875 27.875 -1.421875 \nQ 17.96875 -1.421875 11.734375 6.484375 \nQ 5.515625 14.40625 5.515625 27.296875 \nQ 5.515625 40.1875 11.734375 48.09375 \nQ 17.96875 56 27.875 56 \nQ 33.9375 56 38.25 53.625 \nQ 42.578125 51.265625 45.40625 46.390625 \nz\nM 14.796875 27.296875 \nQ 14.796875 17.390625 18.875 11.75 \nQ 22.953125 6.109375 30.078125 6.109375 \nQ 37.203125 6.109375 41.296875 11.75 \nQ 45.40625 17.390625 45.40625 27.296875 \nQ 45.40625 37.203125 41.296875 42.84375 \nQ 37.203125 48.484375 30.078125 48.484375 \nQ 22.953125 48.484375 18.875 42.84375 \nQ 14.796875 37.203125 14.796875 27.296875 \nz\n\" id=\"DejaVuSans-100\"/>\n       </defs>\n       <use xlink:href=\"#DejaVuSans-72\"/>\n       <use x=\"75.195312\" xlink:href=\"#DejaVuSans-97\"/>\n       <use x=\"136.474609\" xlink:href=\"#DejaVuSans-114\"/>\n       <use x=\"177.587891\" xlink:href=\"#DejaVuSans-118\"/>\n       <use x=\"236.767578\" xlink:href=\"#DejaVuSans-97\"/>\n       <use x=\"298.046875\" xlink:href=\"#DejaVuSans-114\"/>\n       <use x=\"337.410156\" xlink:href=\"#DejaVuSans-100\"/>\n       <use x=\"400.886719\" xlink:href=\"#DejaVuSans-32\"/>\n       <use x=\"432.673828\" xlink:href=\"#DejaVuSans-83\"/>\n       <use x=\"496.150391\" xlink:href=\"#DejaVuSans-113\"/>\n       <use x=\"559.626953\" xlink:href=\"#DejaVuSans-117\"/>\n       <use x=\"623.005859\" xlink:href=\"#DejaVuSans-97\"/>\n       <use x=\"684.285156\" xlink:href=\"#DejaVuSans-114\"/>\n       <use x=\"723.148438\" xlink:href=\"#DejaVuSans-101\"/>\n      </g>\n     </g>\n    </g>\n    <g id=\"xtick_8\">\n     <g id=\"line2d_8\">\n      <g>\n       <use style=\"stroke:#000000;stroke-width:0.8;\" x=\"270.87625\" xlink:href=\"#md899c26d87\" y=\"242.7975\"/>\n      </g>\n     </g>\n     <g id=\"text_8\">\n      <!-- Cross St -->\n      <g transform=\"translate(273.635625 290.650625)rotate(-90)scale(0.1 -0.1)\">\n       <use xlink:href=\"#DejaVuSans-67\"/>\n       <use x=\"69.824219\" xlink:href=\"#DejaVuSans-114\"/>\n       <use x=\"108.6875\" xlink:href=\"#DejaVuSans-111\"/>\n       <use x=\"169.869141\" xlink:href=\"#DejaVuSans-115\"/>\n       <use x=\"221.96875\" xlink:href=\"#DejaVuSans-115\"/>\n       <use x=\"274.068359\" xlink:href=\"#DejaVuSans-32\"/>\n       <use x=\"305.855469\" xlink:href=\"#DejaVuSans-83\"/>\n       <use x=\"369.332031\" xlink:href=\"#DejaVuSans-116\"/>\n      </g>\n     </g>\n    </g>\n    <g id=\"xtick_9\">\n     <g id=\"line2d_9\">\n      <g>\n       <use style=\"stroke:#000000;stroke-width:0.8;\" x=\"298.77625\" xlink:href=\"#md899c26d87\" y=\"242.7975\"/>\n      </g>\n     </g>\n     <g id=\"text_9\">\n      <!-- Nashua Street -->\n      <g transform=\"translate(301.535625 320.97875)rotate(-90)scale(0.1 -0.1)\">\n       <defs>\n        <path d=\"M 9.8125 72.90625 \nL 23.09375 72.90625 \nL 55.421875 11.921875 \nL 55.421875 72.90625 \nL 64.984375 72.90625 \nL 64.984375 0 \nL 51.703125 0 \nL 19.390625 60.984375 \nL 19.390625 0 \nL 9.8125 0 \nz\n\" id=\"DejaVuSans-78\"/>\n       </defs>\n       <use xlink:href=\"#DejaVuSans-78\"/>\n       <use x=\"74.804688\" xlink:href=\"#DejaVuSans-97\"/>\n       <use x=\"136.083984\" xlink:href=\"#DejaVuSans-115\"/>\n       <use x=\"188.183594\" xlink:href=\"#DejaVuSans-104\"/>\n       <use x=\"251.5625\" xlink:href=\"#DejaVuSans-117\"/>\n       <use x=\"314.941406\" xlink:href=\"#DejaVuSans-97\"/>\n       <use x=\"376.220703\" xlink:href=\"#DejaVuSans-32\"/>\n       <use x=\"408.007812\" xlink:href=\"#DejaVuSans-83\"/>\n       <use x=\"471.484375\" xlink:href=\"#DejaVuSans-116\"/>\n       <use x=\"510.693359\" xlink:href=\"#DejaVuSans-114\"/>\n       <use x=\"549.556641\" xlink:href=\"#DejaVuSans-101\"/>\n       <use x=\"611.080078\" xlink:href=\"#DejaVuSans-101\"/>\n       <use x=\"672.603516\" xlink:href=\"#DejaVuSans-116\"/>\n      </g>\n     </g>\n    </g>\n    <g id=\"xtick_10\">\n     <g id=\"line2d_10\">\n      <g>\n       <use style=\"stroke:#000000;stroke-width:0.8;\" x=\"326.67625\" xlink:href=\"#md899c26d87\" y=\"242.7975\"/>\n      </g>\n     </g>\n     <g id=\"text_10\">\n      <!-- Longwood Ave -->\n      <g transform=\"translate(329.435625 322.26625)rotate(-90)scale(0.1 -0.1)\">\n       <defs>\n        <path d=\"M 9.8125 72.90625 \nL 19.671875 72.90625 \nL 19.671875 8.296875 \nL 55.171875 8.296875 \nL 55.171875 0 \nL 9.8125 0 \nz\n\" id=\"DejaVuSans-76\"/>\n        <path d=\"M 45.40625 27.984375 \nQ 45.40625 37.75 41.375 43.109375 \nQ 37.359375 48.484375 30.078125 48.484375 \nQ 22.859375 48.484375 18.828125 43.109375 \nQ 14.796875 37.75 14.796875 27.984375 \nQ 14.796875 18.265625 18.828125 12.890625 \nQ 22.859375 7.515625 30.078125 7.515625 \nQ 37.359375 7.515625 41.375 12.890625 \nQ 45.40625 18.265625 45.40625 27.984375 \nz\nM 54.390625 6.78125 \nQ 54.390625 -7.171875 48.1875 -13.984375 \nQ 42 -20.796875 29.203125 -20.796875 \nQ 24.46875 -20.796875 20.265625 -20.09375 \nQ 16.0625 -19.390625 12.109375 -17.921875 \nL 12.109375 -9.1875 \nQ 16.0625 -11.328125 19.921875 -12.34375 \nQ 23.78125 -13.375 27.78125 -13.375 \nQ 36.625 -13.375 41.015625 -8.765625 \nQ 45.40625 -4.15625 45.40625 5.171875 \nL 45.40625 9.625 \nQ 42.625 4.78125 38.28125 2.390625 \nQ 33.9375 0 27.875 0 \nQ 17.828125 0 11.671875 7.65625 \nQ 5.515625 15.328125 5.515625 27.984375 \nQ 5.515625 40.671875 11.671875 48.328125 \nQ 17.828125 56 27.875 56 \nQ 33.9375 56 38.28125 53.609375 \nQ 42.625 51.21875 45.40625 46.390625 \nL 45.40625 54.6875 \nL 54.390625 54.6875 \nz\n\" id=\"DejaVuSans-103\"/>\n        <path d=\"M 4.203125 54.6875 \nL 13.1875 54.6875 \nL 24.421875 12.015625 \nL 35.59375 54.6875 \nL 46.1875 54.6875 \nL 57.421875 12.015625 \nL 68.609375 54.6875 \nL 77.59375 54.6875 \nL 63.28125 0 \nL 52.6875 0 \nL 40.921875 44.828125 \nL 29.109375 0 \nL 18.5 0 \nz\n\" id=\"DejaVuSans-119\"/>\n       </defs>\n       <use xlink:href=\"#DejaVuSans-76\"/>\n       <use x=\"53.962891\" xlink:href=\"#DejaVuSans-111\"/>\n       <use x=\"115.144531\" xlink:href=\"#DejaVuSans-110\"/>\n       <use x=\"178.523438\" xlink:href=\"#DejaVuSans-103\"/>\n       <use x=\"242\" xlink:href=\"#DejaVuSans-119\"/>\n       <use x=\"323.787109\" xlink:href=\"#DejaVuSans-111\"/>\n       <use x=\"384.96875\" xlink:href=\"#DejaVuSans-111\"/>\n       <use x=\"446.150391\" xlink:href=\"#DejaVuSans-100\"/>\n       <use x=\"509.626953\" xlink:href=\"#DejaVuSans-32\"/>\n       <use x=\"541.414062\" xlink:href=\"#DejaVuSans-65\"/>\n       <use x=\"603.947266\" xlink:href=\"#DejaVuSans-118\"/>\n       <use x=\"663.126953\" xlink:href=\"#DejaVuSans-101\"/>\n      </g>\n     </g>\n    </g>\n    <g id=\"xtick_11\">\n     <g id=\"line2d_11\">\n      <g>\n       <use style=\"stroke:#000000;stroke-width:0.8;\" x=\"354.57625\" xlink:href=\"#md899c26d87\" y=\"242.7975\"/>\n      </g>\n     </g>\n     <g id=\"text_11\">\n      <!-- MIT Pacific St -->\n      <g transform=\"translate(357.335625 315.889688)rotate(-90)scale(0.1 -0.1)\">\n       <defs>\n        <path d=\"M 37.109375 75.984375 \nL 37.109375 68.5 \nL 28.515625 68.5 \nQ 23.6875 68.5 21.796875 66.546875 \nQ 19.921875 64.59375 19.921875 59.515625 \nL 19.921875 54.6875 \nL 34.71875 54.6875 \nL 34.71875 47.703125 \nL 19.921875 47.703125 \nL 19.921875 0 \nL 10.890625 0 \nL 10.890625 47.703125 \nL 2.296875 47.703125 \nL 2.296875 54.6875 \nL 10.890625 54.6875 \nL 10.890625 58.5 \nQ 10.890625 67.625 15.140625 71.796875 \nQ 19.390625 75.984375 28.609375 75.984375 \nz\n\" id=\"DejaVuSans-102\"/>\n       </defs>\n       <use xlink:href=\"#DejaVuSans-77\"/>\n       <use x=\"86.279297\" xlink:href=\"#DejaVuSans-73\"/>\n       <use x=\"115.771484\" xlink:href=\"#DejaVuSans-84\"/>\n       <use x=\"176.855469\" xlink:href=\"#DejaVuSans-32\"/>\n       <use x=\"208.642578\" xlink:href=\"#DejaVuSans-80\"/>\n       <use x=\"264.445312\" xlink:href=\"#DejaVuSans-97\"/>\n       <use x=\"325.724609\" xlink:href=\"#DejaVuSans-99\"/>\n       <use x=\"380.705078\" xlink:href=\"#DejaVuSans-105\"/>\n       <use x=\"408.488281\" xlink:href=\"#DejaVuSans-102\"/>\n       <use x=\"443.693359\" xlink:href=\"#DejaVuSans-105\"/>\n       <use x=\"471.476562\" xlink:href=\"#DejaVuSans-99\"/>\n       <use x=\"526.457031\" xlink:href=\"#DejaVuSans-32\"/>\n       <use x=\"558.244141\" xlink:href=\"#DejaVuSans-83\"/>\n       <use x=\"621.720703\" xlink:href=\"#DejaVuSans-116\"/>\n      </g>\n     </g>\n    </g>\n    <g id=\"xtick_12\">\n     <g id=\"line2d_12\">\n      <g>\n       <use style=\"stroke:#000000;stroke-width:0.8;\" x=\"382.47625\" xlink:href=\"#md899c26d87\" y=\"242.7975\"/>\n      </g>\n     </g>\n     <g id=\"text_12\">\n      <!-- Beacon St -->\n      <g transform=\"translate(385.235625 300.34125)rotate(-90)scale(0.1 -0.1)\">\n       <use xlink:href=\"#DejaVuSans-66\"/>\n       <use x=\"68.603516\" xlink:href=\"#DejaVuSans-101\"/>\n       <use x=\"130.126953\" xlink:href=\"#DejaVuSans-97\"/>\n       <use x=\"191.40625\" xlink:href=\"#DejaVuSans-99\"/>\n       <use x=\"246.386719\" xlink:href=\"#DejaVuSans-111\"/>\n       <use x=\"307.568359\" xlink:href=\"#DejaVuSans-110\"/>\n       <use x=\"370.947266\" xlink:href=\"#DejaVuSans-32\"/>\n       <use x=\"402.734375\" xlink:href=\"#DejaVuSans-83\"/>\n       <use x=\"466.210938\" xlink:href=\"#DejaVuSans-116\"/>\n      </g>\n     </g>\n    </g>\n    <g id=\"text_13\">\n     <!-- Station Names -->\n     <g transform=\"translate(184.960938 378.934375)scale(0.12 -0.12)\">\n      <use xlink:href=\"#DejaVuSans-83\"/>\n      <use x=\"63.476562\" xlink:href=\"#DejaVuSans-116\"/>\n      <use x=\"102.685547\" xlink:href=\"#DejaVuSans-97\"/>\n      <use x=\"163.964844\" xlink:href=\"#DejaVuSans-116\"/>\n      <use x=\"203.173828\" xlink:href=\"#DejaVuSans-105\"/>\n      <use x=\"230.957031\" xlink:href=\"#DejaVuSans-111\"/>\n      <use x=\"292.138672\" xlink:href=\"#DejaVuSans-110\"/>\n      <use x=\"355.517578\" xlink:href=\"#DejaVuSans-32\"/>\n      <use x=\"387.304688\" xlink:href=\"#DejaVuSans-78\"/>\n      <use x=\"462.109375\" xlink:href=\"#DejaVuSans-97\"/>\n      <use x=\"523.388672\" xlink:href=\"#DejaVuSans-109\"/>\n      <use x=\"620.800781\" xlink:href=\"#DejaVuSans-101\"/>\n      <use x=\"682.324219\" xlink:href=\"#DejaVuSans-115\"/>\n     </g>\n    </g>\n   </g>\n   <g id=\"matplotlib.axis_2\">\n    <g id=\"ytick_1\">\n     <g id=\"line2d_13\">\n      <defs>\n       <path d=\"M 0 0 \nL -3.5 0 \n\" id=\"me335e23d52\" style=\"stroke:#000000;stroke-width:0.8;\"/>\n      </defs>\n      <g>\n       <use style=\"stroke:#000000;stroke-width:0.8;\" x=\"61.62625\" xlink:href=\"#me335e23d52\" y=\"242.7975\"/>\n      </g>\n     </g>\n     <g id=\"text_14\">\n      <!-- 0 -->\n      <g transform=\"translate(48.26375 246.596719)scale(0.1 -0.1)\">\n       <defs>\n        <path d=\"M 31.78125 66.40625 \nQ 24.171875 66.40625 20.328125 58.90625 \nQ 16.5 51.421875 16.5 36.375 \nQ 16.5 21.390625 20.328125 13.890625 \nQ 24.171875 6.390625 31.78125 6.390625 \nQ 39.453125 6.390625 43.28125 13.890625 \nQ 47.125 21.390625 47.125 36.375 \nQ 47.125 51.421875 43.28125 58.90625 \nQ 39.453125 66.40625 31.78125 66.40625 \nz\nM 31.78125 74.21875 \nQ 44.046875 74.21875 50.515625 64.515625 \nQ 56.984375 54.828125 56.984375 36.375 \nQ 56.984375 17.96875 50.515625 8.265625 \nQ 44.046875 -1.421875 31.78125 -1.421875 \nQ 19.53125 -1.421875 13.0625 8.265625 \nQ 6.59375 17.96875 6.59375 36.375 \nQ 6.59375 54.828125 13.0625 64.515625 \nQ 19.53125 74.21875 31.78125 74.21875 \nz\n\" id=\"DejaVuSans-48\"/>\n       </defs>\n       <use xlink:href=\"#DejaVuSans-48\"/>\n      </g>\n     </g>\n    </g>\n    <g id=\"ytick_2\">\n     <g id=\"line2d_14\">\n      <g>\n       <use style=\"stroke:#000000;stroke-width:0.8;\" x=\"61.62625\" xlink:href=\"#me335e23d52\" y=\"213.346776\"/>\n      </g>\n     </g>\n     <g id=\"text_15\">\n      <!-- 5000 -->\n      <g transform=\"translate(29.17625 217.145994)scale(0.1 -0.1)\">\n       <defs>\n        <path d=\"M 10.796875 72.90625 \nL 49.515625 72.90625 \nL 49.515625 64.59375 \nL 19.828125 64.59375 \nL 19.828125 46.734375 \nQ 21.96875 47.46875 24.109375 47.828125 \nQ 26.265625 48.1875 28.421875 48.1875 \nQ 40.625 48.1875 47.75 41.5 \nQ 54.890625 34.8125 54.890625 23.390625 \nQ 54.890625 11.625 47.5625 5.09375 \nQ 40.234375 -1.421875 26.90625 -1.421875 \nQ 22.3125 -1.421875 17.546875 -0.640625 \nQ 12.796875 0.140625 7.71875 1.703125 \nL 7.71875 11.625 \nQ 12.109375 9.234375 16.796875 8.0625 \nQ 21.484375 6.890625 26.703125 6.890625 \nQ 35.15625 6.890625 40.078125 11.328125 \nQ 45.015625 15.765625 45.015625 23.390625 \nQ 45.015625 31 40.078125 35.4375 \nQ 35.15625 39.890625 26.703125 39.890625 \nQ 22.75 39.890625 18.8125 39.015625 \nQ 14.890625 38.140625 10.796875 36.28125 \nz\n\" id=\"DejaVuSans-53\"/>\n       </defs>\n       <use xlink:href=\"#DejaVuSans-53\"/>\n       <use x=\"63.623047\" xlink:href=\"#DejaVuSans-48\"/>\n       <use x=\"127.246094\" xlink:href=\"#DejaVuSans-48\"/>\n       <use x=\"190.869141\" xlink:href=\"#DejaVuSans-48\"/>\n      </g>\n     </g>\n    </g>\n    <g id=\"ytick_3\">\n     <g id=\"line2d_15\">\n      <g>\n       <use style=\"stroke:#000000;stroke-width:0.8;\" x=\"61.62625\" xlink:href=\"#me335e23d52\" y=\"183.896051\"/>\n      </g>\n     </g>\n     <g id=\"text_16\">\n      <!-- 10000 -->\n      <g transform=\"translate(22.81375 187.69527)scale(0.1 -0.1)\">\n       <defs>\n        <path d=\"M 12.40625 8.296875 \nL 28.515625 8.296875 \nL 28.515625 63.921875 \nL 10.984375 60.40625 \nL 10.984375 69.390625 \nL 28.421875 72.90625 \nL 38.28125 72.90625 \nL 38.28125 8.296875 \nL 54.390625 8.296875 \nL 54.390625 0 \nL 12.40625 0 \nz\n\" id=\"DejaVuSans-49\"/>\n       </defs>\n       <use xlink:href=\"#DejaVuSans-49\"/>\n       <use x=\"63.623047\" xlink:href=\"#DejaVuSans-48\"/>\n       <use x=\"127.246094\" xlink:href=\"#DejaVuSans-48\"/>\n       <use x=\"190.869141\" xlink:href=\"#DejaVuSans-48\"/>\n       <use x=\"254.492188\" xlink:href=\"#DejaVuSans-48\"/>\n      </g>\n     </g>\n    </g>\n    <g id=\"ytick_4\">\n     <g id=\"line2d_16\">\n      <g>\n       <use style=\"stroke:#000000;stroke-width:0.8;\" x=\"61.62625\" xlink:href=\"#me335e23d52\" y=\"154.445327\"/>\n      </g>\n     </g>\n     <g id=\"text_17\">\n      <!-- 15000 -->\n      <g transform=\"translate(22.81375 158.244545)scale(0.1 -0.1)\">\n       <use xlink:href=\"#DejaVuSans-49\"/>\n       <use x=\"63.623047\" xlink:href=\"#DejaVuSans-53\"/>\n       <use x=\"127.246094\" xlink:href=\"#DejaVuSans-48\"/>\n       <use x=\"190.869141\" xlink:href=\"#DejaVuSans-48\"/>\n       <use x=\"254.492188\" xlink:href=\"#DejaVuSans-48\"/>\n      </g>\n     </g>\n    </g>\n    <g id=\"ytick_5\">\n     <g id=\"line2d_17\">\n      <g>\n       <use style=\"stroke:#000000;stroke-width:0.8;\" x=\"61.62625\" xlink:href=\"#me335e23d52\" y=\"124.994602\"/>\n      </g>\n     </g>\n     <g id=\"text_18\">\n      <!-- 20000 -->\n      <g transform=\"translate(22.81375 128.793821)scale(0.1 -0.1)\">\n       <defs>\n        <path d=\"M 19.1875 8.296875 \nL 53.609375 8.296875 \nL 53.609375 0 \nL 7.328125 0 \nL 7.328125 8.296875 \nQ 12.9375 14.109375 22.625 23.890625 \nQ 32.328125 33.6875 34.8125 36.53125 \nQ 39.546875 41.84375 41.421875 45.53125 \nQ 43.3125 49.21875 43.3125 52.78125 \nQ 43.3125 58.59375 39.234375 62.25 \nQ 35.15625 65.921875 28.609375 65.921875 \nQ 23.96875 65.921875 18.8125 64.3125 \nQ 13.671875 62.703125 7.8125 59.421875 \nL 7.8125 69.390625 \nQ 13.765625 71.78125 18.9375 73 \nQ 24.125 74.21875 28.421875 74.21875 \nQ 39.75 74.21875 46.484375 68.546875 \nQ 53.21875 62.890625 53.21875 53.421875 \nQ 53.21875 48.921875 51.53125 44.890625 \nQ 49.859375 40.875 45.40625 35.40625 \nQ 44.1875 33.984375 37.640625 27.21875 \nQ 31.109375 20.453125 19.1875 8.296875 \nz\n\" id=\"DejaVuSans-50\"/>\n       </defs>\n       <use xlink:href=\"#DejaVuSans-50\"/>\n       <use x=\"63.623047\" xlink:href=\"#DejaVuSans-48\"/>\n       <use x=\"127.246094\" xlink:href=\"#DejaVuSans-48\"/>\n       <use x=\"190.869141\" xlink:href=\"#DejaVuSans-48\"/>\n       <use x=\"254.492188\" xlink:href=\"#DejaVuSans-48\"/>\n      </g>\n     </g>\n    </g>\n    <g id=\"ytick_6\">\n     <g id=\"line2d_18\">\n      <g>\n       <use style=\"stroke:#000000;stroke-width:0.8;\" x=\"61.62625\" xlink:href=\"#me335e23d52\" y=\"95.543878\"/>\n      </g>\n     </g>\n     <g id=\"text_19\">\n      <!-- 25000 -->\n      <g transform=\"translate(22.81375 99.343096)scale(0.1 -0.1)\">\n       <use xlink:href=\"#DejaVuSans-50\"/>\n       <use x=\"63.623047\" xlink:href=\"#DejaVuSans-53\"/>\n       <use x=\"127.246094\" xlink:href=\"#DejaVuSans-48\"/>\n       <use x=\"190.869141\" xlink:href=\"#DejaVuSans-48\"/>\n       <use x=\"254.492188\" xlink:href=\"#DejaVuSans-48\"/>\n      </g>\n     </g>\n    </g>\n    <g id=\"ytick_7\">\n     <g id=\"line2d_19\">\n      <g>\n       <use style=\"stroke:#000000;stroke-width:0.8;\" x=\"61.62625\" xlink:href=\"#me335e23d52\" y=\"66.093153\"/>\n      </g>\n     </g>\n     <g id=\"text_20\">\n      <!-- 30000 -->\n      <g transform=\"translate(22.81375 69.892372)scale(0.1 -0.1)\">\n       <defs>\n        <path d=\"M 40.578125 39.3125 \nQ 47.65625 37.796875 51.625 33 \nQ 55.609375 28.21875 55.609375 21.1875 \nQ 55.609375 10.40625 48.1875 4.484375 \nQ 40.765625 -1.421875 27.09375 -1.421875 \nQ 22.515625 -1.421875 17.65625 -0.515625 \nQ 12.796875 0.390625 7.625 2.203125 \nL 7.625 11.71875 \nQ 11.71875 9.328125 16.59375 8.109375 \nQ 21.484375 6.890625 26.8125 6.890625 \nQ 36.078125 6.890625 40.9375 10.546875 \nQ 45.796875 14.203125 45.796875 21.1875 \nQ 45.796875 27.640625 41.28125 31.265625 \nQ 36.765625 34.90625 28.71875 34.90625 \nL 20.21875 34.90625 \nL 20.21875 43.015625 \nL 29.109375 43.015625 \nQ 36.375 43.015625 40.234375 45.921875 \nQ 44.09375 48.828125 44.09375 54.296875 \nQ 44.09375 59.90625 40.109375 62.90625 \nQ 36.140625 65.921875 28.71875 65.921875 \nQ 24.65625 65.921875 20.015625 65.03125 \nQ 15.375 64.15625 9.8125 62.3125 \nL 9.8125 71.09375 \nQ 15.4375 72.65625 20.34375 73.4375 \nQ 25.25 74.21875 29.59375 74.21875 \nQ 40.828125 74.21875 47.359375 69.109375 \nQ 53.90625 64.015625 53.90625 55.328125 \nQ 53.90625 49.265625 50.4375 45.09375 \nQ 46.96875 40.921875 40.578125 39.3125 \nz\n\" id=\"DejaVuSans-51\"/>\n       </defs>\n       <use xlink:href=\"#DejaVuSans-51\"/>\n       <use x=\"63.623047\" xlink:href=\"#DejaVuSans-48\"/>\n       <use x=\"127.246094\" xlink:href=\"#DejaVuSans-48\"/>\n       <use x=\"190.869141\" xlink:href=\"#DejaVuSans-48\"/>\n       <use x=\"254.492188\" xlink:href=\"#DejaVuSans-48\"/>\n      </g>\n     </g>\n    </g>\n    <g id=\"ytick_8\">\n     <g id=\"line2d_20\">\n      <g>\n       <use style=\"stroke:#000000;stroke-width:0.8;\" x=\"61.62625\" xlink:href=\"#me335e23d52\" y=\"36.642429\"/>\n      </g>\n     </g>\n     <g id=\"text_21\">\n      <!-- 35000 -->\n      <g transform=\"translate(22.81375 40.441647)scale(0.1 -0.1)\">\n       <use xlink:href=\"#DejaVuSans-51\"/>\n       <use x=\"63.623047\" xlink:href=\"#DejaVuSans-53\"/>\n       <use x=\"127.246094\" xlink:href=\"#DejaVuSans-48\"/>\n       <use x=\"190.869141\" xlink:href=\"#DejaVuSans-48\"/>\n       <use x=\"254.492188\" xlink:href=\"#DejaVuSans-48\"/>\n      </g>\n     </g>\n    </g>\n    <g id=\"text_22\">\n     <!-- Number of rentals -->\n     <g transform=\"translate(16.318125 188.425313)rotate(-90)scale(0.12 -0.12)\">\n      <defs>\n       <path d=\"M 48.6875 27.296875 \nQ 48.6875 37.203125 44.609375 42.84375 \nQ 40.53125 48.484375 33.40625 48.484375 \nQ 26.265625 48.484375 22.1875 42.84375 \nQ 18.109375 37.203125 18.109375 27.296875 \nQ 18.109375 17.390625 22.1875 11.75 \nQ 26.265625 6.109375 33.40625 6.109375 \nQ 40.53125 6.109375 44.609375 11.75 \nQ 48.6875 17.390625 48.6875 27.296875 \nz\nM 18.109375 46.390625 \nQ 20.953125 51.265625 25.265625 53.625 \nQ 29.59375 56 35.59375 56 \nQ 45.5625 56 51.78125 48.09375 \nQ 58.015625 40.1875 58.015625 27.296875 \nQ 58.015625 14.40625 51.78125 6.484375 \nQ 45.5625 -1.421875 35.59375 -1.421875 \nQ 29.59375 -1.421875 25.265625 0.953125 \nQ 20.953125 3.328125 18.109375 8.203125 \nL 18.109375 0 \nL 9.078125 0 \nL 9.078125 75.984375 \nL 18.109375 75.984375 \nz\n\" id=\"DejaVuSans-98\"/>\n      </defs>\n      <use xlink:href=\"#DejaVuSans-78\"/>\n      <use x=\"74.804688\" xlink:href=\"#DejaVuSans-117\"/>\n      <use x=\"138.183594\" xlink:href=\"#DejaVuSans-109\"/>\n      <use x=\"235.595703\" xlink:href=\"#DejaVuSans-98\"/>\n      <use x=\"299.072266\" xlink:href=\"#DejaVuSans-101\"/>\n      <use x=\"360.595703\" xlink:href=\"#DejaVuSans-114\"/>\n      <use x=\"401.708984\" xlink:href=\"#DejaVuSans-32\"/>\n      <use x=\"433.496094\" xlink:href=\"#DejaVuSans-111\"/>\n      <use x=\"494.677734\" xlink:href=\"#DejaVuSans-102\"/>\n      <use x=\"529.882812\" xlink:href=\"#DejaVuSans-32\"/>\n      <use x=\"561.669922\" xlink:href=\"#DejaVuSans-114\"/>\n      <use x=\"600.533203\" xlink:href=\"#DejaVuSans-101\"/>\n      <use x=\"662.056641\" xlink:href=\"#DejaVuSans-110\"/>\n      <use x=\"725.435547\" xlink:href=\"#DejaVuSans-116\"/>\n      <use x=\"764.644531\" xlink:href=\"#DejaVuSans-97\"/>\n      <use x=\"825.923828\" xlink:href=\"#DejaVuSans-108\"/>\n      <use x=\"853.707031\" xlink:href=\"#DejaVuSans-115\"/>\n     </g>\n    </g>\n   </g>\n   <g id=\"patch_15\">\n    <path d=\"M 61.62625 242.7975 \nL 61.62625 25.3575 \n\" style=\"fill:none;stroke:#000000;stroke-linecap:square;stroke-linejoin:miter;stroke-width:0.8;\"/>\n   </g>\n   <g id=\"patch_16\">\n    <path d=\"M 396.42625 242.7975 \nL 396.42625 25.3575 \n\" style=\"fill:none;stroke:#000000;stroke-linecap:square;stroke-linejoin:miter;stroke-width:0.8;\"/>\n   </g>\n   <g id=\"patch_17\">\n    <path d=\"M 61.62625 242.7975 \nL 396.42625 242.7975 \n\" style=\"fill:none;stroke:#000000;stroke-linecap:square;stroke-linejoin:miter;stroke-width:0.8;\"/>\n   </g>\n   <g id=\"patch_18\">\n    <path d=\"M 61.62625 25.3575 \nL 396.42625 25.3575 \n\" style=\"fill:none;stroke:#000000;stroke-linecap:square;stroke-linejoin:miter;stroke-width:0.8;\"/>\n   </g>\n   <g id=\"text_23\">\n    <!-- Most Frequently Used End Stations -->\n    <g transform=\"translate(89.63125 19.3575)scale(0.16 -0.16)\">\n     <defs>\n      <path d=\"M 9.8125 72.90625 \nL 51.703125 72.90625 \nL 51.703125 64.59375 \nL 19.671875 64.59375 \nL 19.671875 43.109375 \nL 48.578125 43.109375 \nL 48.578125 34.8125 \nL 19.671875 34.8125 \nL 19.671875 0 \nL 9.8125 0 \nz\n\" id=\"DejaVuSans-70\"/>\n      <path d=\"M 8.6875 72.90625 \nL 18.609375 72.90625 \nL 18.609375 28.609375 \nQ 18.609375 16.890625 22.84375 11.734375 \nQ 27.09375 6.59375 36.625 6.59375 \nQ 46.09375 6.59375 50.34375 11.734375 \nQ 54.59375 16.890625 54.59375 28.609375 \nL 54.59375 72.90625 \nL 64.5 72.90625 \nL 64.5 27.390625 \nQ 64.5 13.140625 57.4375 5.859375 \nQ 50.390625 -1.421875 36.625 -1.421875 \nQ 22.796875 -1.421875 15.734375 5.859375 \nQ 8.6875 13.140625 8.6875 27.390625 \nz\n\" id=\"DejaVuSans-85\"/>\n      <path d=\"M 9.8125 72.90625 \nL 55.90625 72.90625 \nL 55.90625 64.59375 \nL 19.671875 64.59375 \nL 19.671875 43.015625 \nL 54.390625 43.015625 \nL 54.390625 34.71875 \nL 19.671875 34.71875 \nL 19.671875 8.296875 \nL 56.78125 8.296875 \nL 56.78125 0 \nL 9.8125 0 \nz\n\" id=\"DejaVuSans-69\"/>\n     </defs>\n     <use xlink:href=\"#DejaVuSans-77\"/>\n     <use x=\"86.279297\" xlink:href=\"#DejaVuSans-111\"/>\n     <use x=\"147.460938\" xlink:href=\"#DejaVuSans-115\"/>\n     <use x=\"199.560547\" xlink:href=\"#DejaVuSans-116\"/>\n     <use x=\"238.769531\" xlink:href=\"#DejaVuSans-32\"/>\n     <use x=\"270.556641\" xlink:href=\"#DejaVuSans-70\"/>\n     <use x=\"320.826172\" xlink:href=\"#DejaVuSans-114\"/>\n     <use x=\"359.689453\" xlink:href=\"#DejaVuSans-101\"/>\n     <use x=\"421.212891\" xlink:href=\"#DejaVuSans-113\"/>\n     <use x=\"484.689453\" xlink:href=\"#DejaVuSans-117\"/>\n     <use x=\"548.068359\" xlink:href=\"#DejaVuSans-101\"/>\n     <use x=\"609.591797\" xlink:href=\"#DejaVuSans-110\"/>\n     <use x=\"672.970703\" xlink:href=\"#DejaVuSans-116\"/>\n     <use x=\"712.179688\" xlink:href=\"#DejaVuSans-108\"/>\n     <use x=\"739.962891\" xlink:href=\"#DejaVuSans-121\"/>\n     <use x=\"799.142578\" xlink:href=\"#DejaVuSans-32\"/>\n     <use x=\"830.929688\" xlink:href=\"#DejaVuSans-85\"/>\n     <use x=\"904.123047\" xlink:href=\"#DejaVuSans-115\"/>\n     <use x=\"956.222656\" xlink:href=\"#DejaVuSans-101\"/>\n     <use x=\"1017.746094\" xlink:href=\"#DejaVuSans-100\"/>\n     <use x=\"1081.222656\" xlink:href=\"#DejaVuSans-32\"/>\n     <use x=\"1113.009766\" xlink:href=\"#DejaVuSans-69\"/>\n     <use x=\"1176.193359\" xlink:href=\"#DejaVuSans-110\"/>\n     <use x=\"1239.572266\" xlink:href=\"#DejaVuSans-100\"/>\n     <use x=\"1303.048828\" xlink:href=\"#DejaVuSans-32\"/>\n     <use x=\"1334.835938\" xlink:href=\"#DejaVuSans-83\"/>\n     <use x=\"1398.3125\" xlink:href=\"#DejaVuSans-116\"/>\n     <use x=\"1437.521484\" xlink:href=\"#DejaVuSans-97\"/>\n     <use x=\"1498.800781\" xlink:href=\"#DejaVuSans-116\"/>\n     <use x=\"1538.009766\" xlink:href=\"#DejaVuSans-105\"/>\n     <use x=\"1565.792969\" xlink:href=\"#DejaVuSans-111\"/>\n     <use x=\"1626.974609\" xlink:href=\"#DejaVuSans-110\"/>\n     <use x=\"1690.353516\" xlink:href=\"#DejaVuSans-115\"/>\n    </g>\n   </g>\n  </g>\n </g>\n <defs>\n  <clipPath id=\"p4a957fc2f8\">\n   <rect height=\"217.44\" width=\"334.8\" x=\"61.62625\" y=\"25.3575\"/>\n  </clipPath>\n </defs>\n</svg>\n",
      "image/png": "[encoded data removed]"
     },
     "metadata": {
      "needs_background": "light"
     }
    }
   ],
   "source": [
    "ax = df_all['end station id'].value_counts().sort_values(ascending=False)[:12].plot(kind=\"bar\")\n",
    "plt.xlabel('Station Names', fontsize=12)\n",
    "plt.ylabel('Number of rentals', fontsize=12)\n",
    "\n",
    "plt.title('Most Frequently Used End Stations', fontsize=16)\n",
    "ax.set_xticklabels(['Central Square','Charles Circle','MIT','Christian Science Plaza','Ames St','Boylston St','Harvard Square','Cross St','Nashua Street','Longwood Ave', 'MIT Pacific St', 'Beacon St']);"
   ]
  },
  {
   "source": [
    "The most frequently used stations are: Central Square, Charles Circle, MIT, Christian Science Plaza, Annes St - and until here, the most frequent start and end stations are identitical- Boylston St, Harward Square, Cross St, Nashua Street, Longwood Ave, Beacon St, MIT Pacific St, Beacon St."
   ],
   "cell_type": "markdown",
   "metadata": {}
  },
  {
   "source": [
    "Next, I will investigate which times of the day, days of the week and month of the year are the most popular between riders.\n",
    "\n",
    "For this I would like to separate different times of the day and see the most frequent values in each time of the day."
   ],
   "cell_type": "markdown",
   "metadata": {}
  },
  {
   "cell_type": "code",
   "execution_count": 241,
   "metadata": {},
   "outputs": [],
   "source": [
    "# convert time of the day column to datetime format so I can index it later\n",
    "df_all['timeoftheday'] = pandas.to_datetime(df_all['timeoftheday'])"
   ]
  },
  {
   "cell_type": "code",
   "execution_count": 242,
   "metadata": {},
   "outputs": [
    {
     "output_type": "execute_result",
     "data": {
      "text/plain": [
       "tripduration                        int64\n",
       "starttime                  datetime64[ns]\n",
       "stoptime                   datetime64[ns]\n",
       "start station id                    int64\n",
       "start station name                 object\n",
       "start station latitude            float64\n",
       "start station longitude           float64\n",
       "end station id                      int64\n",
       "end station name                   object\n",
       "end station latitude              float64\n",
       "end station longitude             float64\n",
       "bikeid                              int64\n",
       "usertype                           object\n",
       "weekday                             int64\n",
       "month                              object\n",
       "timeoftheday               datetime64[ns]\n",
       "type                               object\n",
       "dtype: object"
      ]
     },
     "metadata": {},
     "execution_count": 242
    }
   ],
   "source": [
    "# test if it's done\n",
    "df_all.dtypes"
   ]
  },
  {
   "cell_type": "code",
   "execution_count": 245,
   "metadata": {},
   "outputs": [],
   "source": [
    "# index and separate evening, morning, afternoon as different times of the day\n",
    "index = pandas.DatetimeIndex(df_all['timeoftheday'])\n",
    "df_evening = df_all.iloc[index.indexer_between_time('20:00','05:00')]\n",
    "df_morning = df_all.iloc[index.indexer_between_time('05:01','12:00')]\n",
    "df_afternoon = df_all.iloc[index.indexer_between_time('12:01','19:59')]\n"
   ]
  },
  {
   "cell_type": "code",
   "execution_count": 249,
   "metadata": {},
   "outputs": [
    {
     "output_type": "execute_result",
     "data": {
      "text/plain": [
       "   tripduration               starttime                stoptime  \\\n",
       "0           478 2020-01-01 00:04:05.809 2020-01-01 00:12:04.237   \n",
       "1           363 2020-01-01 00:04:45.699 2020-01-01 00:10:49.040   \n",
       "2           284 2020-01-01 00:06:07.063 2020-01-01 00:10:51.924   \n",
       "3           193 2020-01-01 00:06:13.855 2020-01-01 00:09:27.832   \n",
       "4           428 2020-01-01 00:07:25.295 2020-01-01 00:14:33.780   \n",
       "\n",
       "   start station id                           start station name  \\\n",
       "0               366                              Broadway T Stop   \n",
       "1               219                  Boston East - 126 Border St   \n",
       "2               219                  Boston East - 126 Border St   \n",
       "3               396                         Main St at Beacon St   \n",
       "4                60  Charles Circle - Charles St at Cambridge St   \n",
       "\n",
       "   start station latitude  start station longitude  end station id  \\\n",
       "0               42.342781               -71.057473              93   \n",
       "1               42.373312               -71.041020             212   \n",
       "2               42.373312               -71.041020             212   \n",
       "3               42.409330               -71.063819             387   \n",
       "4               42.360793               -71.071190              49   \n",
       "\n",
       "               end station name  end station latitude  end station longitude  \\\n",
       "0              JFK/UMass T Stop             42.320340             -71.051180   \n",
       "1  Maverick Square - Lewis Mall             42.368844             -71.039778   \n",
       "2  Maverick Square - Lewis Mall             42.368844             -71.039778   \n",
       "3        Norman St at Kelvin St             42.409859             -71.066319   \n",
       "4       Stuart St at Charles St             42.351146             -71.066289   \n",
       "\n",
       "   bikeid    usertype  weekday    month        timeoftheday     type  \n",
       "0    6005    Customer        2  January 2021-02-09 00:04:00  Weekday  \n",
       "1    3168  Subscriber        2  January 2021-02-09 00:04:00  Weekday  \n",
       "2    3985  Subscriber        2  January 2021-02-09 00:06:00  Weekday  \n",
       "3    2692  Subscriber        2  January 2021-02-09 00:06:00  Weekday  \n",
       "4    4978  Subscriber        2  January 2021-02-09 00:07:00  Weekday  "
      ],
      "text/html": "<div>\n<style scoped>\n    .dataframe tbody tr th:only-of-type {\n        vertical-align: middle;\n    }\n\n    .dataframe tbody tr th {\n        vertical-align: top;\n    }\n\n    .dataframe thead th {\n        text-align: right;\n    }\n</style>\n<table border=\"1\" class=\"dataframe\">\n  <thead>\n    <tr style=\"text-align: right;\">\n      <th></th>\n      <th>tripduration</th>\n      <th>starttime</th>\n      <th>stoptime</th>\n      <th>start station id</th>\n      <th>start station name</th>\n      <th>start station latitude</th>\n      <th>start station longitude</th>\n      <th>end station id</th>\n      <th>end station name</th>\n      <th>end station latitude</th>\n      <th>end station longitude</th>\n      <th>bikeid</th>\n      <th>usertype</th>\n      <th>weekday</th>\n      <th>month</th>\n      <th>timeoftheday</th>\n      <th>type</th>\n    </tr>\n  </thead>\n  <tbody>\n    <tr>\n      <th>0</th>\n      <td>478</td>\n      <td>2020-01-01 00:04:05.809</td>\n      <td>2020-01-01 00:12:04.237</td>\n      <td>366</td>\n      <td>Broadway T Stop</td>\n      <td>42.342781</td>\n      <td>-71.057473</td>\n      <td>93</td>\n      <td>JFK/UMass T Stop</td>\n      <td>42.320340</td>\n      <td>-71.051180</td>\n      <td>6005</td>\n      <td>Customer</td>\n      <td>2</td>\n      <td>January</td>\n      <td>2021-02-09 00:04:00</td>\n      <td>Weekday</td>\n    </tr>\n    <tr>\n      <th>1</th>\n      <td>363</td>\n      <td>2020-01-01 00:04:45.699</td>\n      <td>2020-01-01 00:10:49.040</td>\n      <td>219</td>\n      <td>Boston East - 126 Border St</td>\n      <td>42.373312</td>\n      <td>-71.041020</td>\n      <td>212</td>\n      <td>Maverick Square - Lewis Mall</td>\n      <td>42.368844</td>\n      <td>-71.039778</td>\n      <td>3168</td>\n      <td>Subscriber</td>\n      <td>2</td>\n      <td>January</td>\n      <td>2021-02-09 00:04:00</td>\n      <td>Weekday</td>\n    </tr>\n    <tr>\n      <th>2</th>\n      <td>284</td>\n      <td>2020-01-01 00:06:07.063</td>\n      <td>2020-01-01 00:10:51.924</td>\n      <td>219</td>\n      <td>Boston East - 126 Border St</td>\n      <td>42.373312</td>\n      <td>-71.041020</td>\n      <td>212</td>\n      <td>Maverick Square - Lewis Mall</td>\n      <td>42.368844</td>\n      <td>-71.039778</td>\n      <td>3985</td>\n      <td>Subscriber</td>\n      <td>2</td>\n      <td>January</td>\n      <td>2021-02-09 00:06:00</td>\n      <td>Weekday</td>\n    </tr>\n    <tr>\n      <th>3</th>\n      <td>193</td>\n      <td>2020-01-01 00:06:13.855</td>\n      <td>2020-01-01 00:09:27.832</td>\n      <td>396</td>\n      <td>Main St at Beacon St</td>\n      <td>42.409330</td>\n      <td>-71.063819</td>\n      <td>387</td>\n      <td>Norman St at Kelvin St</td>\n      <td>42.409859</td>\n      <td>-71.066319</td>\n      <td>2692</td>\n      <td>Subscriber</td>\n      <td>2</td>\n      <td>January</td>\n      <td>2021-02-09 00:06:00</td>\n      <td>Weekday</td>\n    </tr>\n    <tr>\n      <th>4</th>\n      <td>428</td>\n      <td>2020-01-01 00:07:25.295</td>\n      <td>2020-01-01 00:14:33.780</td>\n      <td>60</td>\n      <td>Charles Circle - Charles St at Cambridge St</td>\n      <td>42.360793</td>\n      <td>-71.071190</td>\n      <td>49</td>\n      <td>Stuart St at Charles St</td>\n      <td>42.351146</td>\n      <td>-71.066289</td>\n      <td>4978</td>\n      <td>Subscriber</td>\n      <td>2</td>\n      <td>January</td>\n      <td>2021-02-09 00:07:00</td>\n      <td>Weekday</td>\n    </tr>\n  </tbody>\n</table>\n</div>"
     },
     "metadata": {},
     "execution_count": 249
    }
   ],
   "source": [
    "#test\n",
    "df_evening.head()"
   ]
  },
  {
   "cell_type": "code",
   "execution_count": 250,
   "metadata": {},
   "outputs": [
    {
     "output_type": "execute_result",
     "data": {
      "text/plain": [
       "     tripduration               starttime                stoptime  \\\n",
       "234          1332 2020-01-01 05:15:08.162 2020-01-01 05:37:21.150   \n",
       "235          1197 2020-01-01 05:20:43.388 2020-01-01 05:40:40.978   \n",
       "236           675 2020-01-01 05:37:53.250 2020-01-01 05:49:08.287   \n",
       "237           642 2020-01-01 05:45:11.391 2020-01-01 05:55:53.992   \n",
       "238           439 2020-01-01 05:51:22.733 2020-01-01 05:58:41.757   \n",
       "\n",
       "     start station id                                 start station name  \\\n",
       "234                67                       MIT at Mass Ave / Amherst St   \n",
       "235               378                                      191 Beacon St   \n",
       "236               441                                    Sullivan Square   \n",
       "237                41  Packard's Corner - Commonwealth Ave at Brighto...   \n",
       "238                 8        Union Square - Brighton Ave at Cambridge St   \n",
       "\n",
       "     start station latitude  start station longitude  end station id  \\\n",
       "234               42.358100               -71.093198              81   \n",
       "235               42.380323               -71.108786             352   \n",
       "236               42.384452               -71.075149              85   \n",
       "237               42.352261               -71.123831              15   \n",
       "238               42.353334               -71.137313              17   \n",
       "\n",
       "                                      end station name  end station latitude  \\\n",
       "234                                   Chinatown T Stop             42.352409   \n",
       "235                                            Ring Rd             42.348278   \n",
       "236  Spaulding Rehabilitation Hospital - Charlestow...             42.378338   \n",
       "237                   Brighton Mills - 370 Western Ave             42.361546   \n",
       "238              Soldiers Field Park - 111 Western Ave             42.364263   \n",
       "\n",
       "     end station longitude  bikeid    usertype  weekday    month  \\\n",
       "234             -71.062679    3603  Subscriber        2  January   \n",
       "235             -71.080449    3080    Customer        2  January   \n",
       "236             -71.048927    5418  Subscriber        2  January   \n",
       "237             -71.137762    5113    Customer        2  January   \n",
       "238             -71.118276    4082  Subscriber        2  January   \n",
       "\n",
       "           timeoftheday     type  \n",
       "234 2021-02-09 05:15:00  Weekday  \n",
       "235 2021-02-09 05:20:00  Weekday  \n",
       "236 2021-02-09 05:37:00  Weekday  \n",
       "237 2021-02-09 05:45:00  Weekday  \n",
       "238 2021-02-09 05:51:00  Weekday  "
      ],
      "text/html": "<div>\n<style scoped>\n    .dataframe tbody tr th:only-of-type {\n        vertical-align: middle;\n    }\n\n    .dataframe tbody tr th {\n        vertical-align: top;\n    }\n\n    .dataframe thead th {\n        text-align: right;\n    }\n</style>\n<table border=\"1\" class=\"dataframe\">\n  <thead>\n    <tr style=\"text-align: right;\">\n      <th></th>\n      <th>tripduration</th>\n      <th>starttime</th>\n      <th>stoptime</th>\n      <th>start station id</th>\n      <th>start station name</th>\n      <th>start station latitude</th>\n      <th>start station longitude</th>\n      <th>end station id</th>\n      <th>end station name</th>\n      <th>end station latitude</th>\n      <th>end station longitude</th>\n      <th>bikeid</th>\n      <th>usertype</th>\n      <th>weekday</th>\n      <th>month</th>\n      <th>timeoftheday</th>\n      <th>type</th>\n    </tr>\n  </thead>\n  <tbody>\n    <tr>\n      <th>234</th>\n      <td>1332</td>\n      <td>2020-01-01 05:15:08.162</td>\n      <td>2020-01-01 05:37:21.150</td>\n      <td>67</td>\n      <td>MIT at Mass Ave / Amherst St</td>\n      <td>42.358100</td>\n      <td>-71.093198</td>\n      <td>81</td>\n      <td>Chinatown T Stop</td>\n      <td>42.352409</td>\n      <td>-71.062679</td>\n      <td>3603</td>\n      <td>Subscriber</td>\n      <td>2</td>\n      <td>January</td>\n      <td>2021-02-09 05:15:00</td>\n      <td>Weekday</td>\n    </tr>\n    <tr>\n      <th>235</th>\n      <td>1197</td>\n      <td>2020-01-01 05:20:43.388</td>\n      <td>2020-01-01 05:40:40.978</td>\n      <td>378</td>\n      <td>191 Beacon St</td>\n      <td>42.380323</td>\n      <td>-71.108786</td>\n      <td>352</td>\n      <td>Ring Rd</td>\n      <td>42.348278</td>\n      <td>-71.080449</td>\n      <td>3080</td>\n      <td>Customer</td>\n      <td>2</td>\n      <td>January</td>\n      <td>2021-02-09 05:20:00</td>\n      <td>Weekday</td>\n    </tr>\n    <tr>\n      <th>236</th>\n      <td>675</td>\n      <td>2020-01-01 05:37:53.250</td>\n      <td>2020-01-01 05:49:08.287</td>\n      <td>441</td>\n      <td>Sullivan Square</td>\n      <td>42.384452</td>\n      <td>-71.075149</td>\n      <td>85</td>\n      <td>Spaulding Rehabilitation Hospital - Charlestow...</td>\n      <td>42.378338</td>\n      <td>-71.048927</td>\n      <td>5418</td>\n      <td>Subscriber</td>\n      <td>2</td>\n      <td>January</td>\n      <td>2021-02-09 05:37:00</td>\n      <td>Weekday</td>\n    </tr>\n    <tr>\n      <th>237</th>\n      <td>642</td>\n      <td>2020-01-01 05:45:11.391</td>\n      <td>2020-01-01 05:55:53.992</td>\n      <td>41</td>\n      <td>Packard's Corner - Commonwealth Ave at Brighto...</td>\n      <td>42.352261</td>\n      <td>-71.123831</td>\n      <td>15</td>\n      <td>Brighton Mills - 370 Western Ave</td>\n      <td>42.361546</td>\n      <td>-71.137762</td>\n      <td>5113</td>\n      <td>Customer</td>\n      <td>2</td>\n      <td>January</td>\n      <td>2021-02-09 05:45:00</td>\n      <td>Weekday</td>\n    </tr>\n    <tr>\n      <th>238</th>\n      <td>439</td>\n      <td>2020-01-01 05:51:22.733</td>\n      <td>2020-01-01 05:58:41.757</td>\n      <td>8</td>\n      <td>Union Square - Brighton Ave at Cambridge St</td>\n      <td>42.353334</td>\n      <td>-71.137313</td>\n      <td>17</td>\n      <td>Soldiers Field Park - 111 Western Ave</td>\n      <td>42.364263</td>\n      <td>-71.118276</td>\n      <td>4082</td>\n      <td>Subscriber</td>\n      <td>2</td>\n      <td>January</td>\n      <td>2021-02-09 05:51:00</td>\n      <td>Weekday</td>\n    </tr>\n  </tbody>\n</table>\n</div>"
     },
     "metadata": {},
     "execution_count": 250
    }
   ],
   "source": [
    "#test\n",
    "df_morning.head()"
   ]
  },
  {
   "cell_type": "code",
   "execution_count": 251,
   "metadata": {},
   "outputs": [
    {
     "output_type": "execute_result",
     "data": {
      "text/plain": [
       "     tripduration               starttime                stoptime  \\\n",
       "534           373 2020-01-01 12:01:14.091 2020-01-01 12:07:27.133   \n",
       "535           411 2020-01-01 12:01:39.840 2020-01-01 12:08:31.377   \n",
       "536           391 2020-01-01 12:01:52.744 2020-01-01 12:08:23.776   \n",
       "537           757 2020-01-01 12:02:12.748 2020-01-01 12:14:50.457   \n",
       "538           973 2020-01-01 12:02:29.504 2020-01-01 12:18:42.568   \n",
       "\n",
       "     start station id                           start station name  \\\n",
       "534               116    359 Broadway - Broadway at Fayette Street   \n",
       "535                58                       Mugar Way at Beacon St   \n",
       "536                68        Central Square at Mass Ave / Essex St   \n",
       "537               149                             175 N Harvard St   \n",
       "538                36  Copley Square - Dartmouth St at Boylston St   \n",
       "\n",
       "     start station latitude  start station longitude  end station id  \\\n",
       "534               42.370803               -71.104412              67   \n",
       "535               42.355536               -71.072869              16   \n",
       "536               42.365070               -71.103100             107   \n",
       "537               42.363796               -71.129164             351   \n",
       "538               42.349928               -71.077392             121   \n",
       "\n",
       "                                end station name  end station latitude  \\\n",
       "534                 MIT at Mass Ave / Amherst St             42.358100   \n",
       "535  Back Bay T Stop - Dartmouth St at Stuart St             42.348074   \n",
       "536                           Ames St at Main St             42.362500   \n",
       "537                   Faneuil St at Arlington St             42.352766   \n",
       "538                  W Broadway at Dorchester St             42.335959   \n",
       "\n",
       "     end station longitude  bikeid    usertype  weekday    month  \\\n",
       "534             -71.093198    5739  Subscriber        2  January   \n",
       "535             -71.076570    5983  Subscriber        2  January   \n",
       "536             -71.088220    5312  Subscriber        2  January   \n",
       "537             -71.159885    5892  Subscriber        2  January   \n",
       "538             -71.046229    3763  Subscriber        2  January   \n",
       "\n",
       "           timeoftheday     type  \n",
       "534 2021-02-09 12:01:00  Weekday  \n",
       "535 2021-02-09 12:01:00  Weekday  \n",
       "536 2021-02-09 12:01:00  Weekday  \n",
       "537 2021-02-09 12:02:00  Weekday  \n",
       "538 2021-02-09 12:02:00  Weekday  "
      ],
      "text/html": "<div>\n<style scoped>\n    .dataframe tbody tr th:only-of-type {\n        vertical-align: middle;\n    }\n\n    .dataframe tbody tr th {\n        vertical-align: top;\n    }\n\n    .dataframe thead th {\n        text-align: right;\n    }\n</style>\n<table border=\"1\" class=\"dataframe\">\n  <thead>\n    <tr style=\"text-align: right;\">\n      <th></th>\n      <th>tripduration</th>\n      <th>starttime</th>\n      <th>stoptime</th>\n      <th>start station id</th>\n      <th>start station name</th>\n      <th>start station latitude</th>\n      <th>start station longitude</th>\n      <th>end station id</th>\n      <th>end station name</th>\n      <th>end station latitude</th>\n      <th>end station longitude</th>\n      <th>bikeid</th>\n      <th>usertype</th>\n      <th>weekday</th>\n      <th>month</th>\n      <th>timeoftheday</th>\n      <th>type</th>\n    </tr>\n  </thead>\n  <tbody>\n    <tr>\n      <th>534</th>\n      <td>373</td>\n      <td>2020-01-01 12:01:14.091</td>\n      <td>2020-01-01 12:07:27.133</td>\n      <td>116</td>\n      <td>359 Broadway - Broadway at Fayette Street</td>\n      <td>42.370803</td>\n      <td>-71.104412</td>\n      <td>67</td>\n      <td>MIT at Mass Ave / Amherst St</td>\n      <td>42.358100</td>\n      <td>-71.093198</td>\n      <td>5739</td>\n      <td>Subscriber</td>\n      <td>2</td>\n      <td>January</td>\n      <td>2021-02-09 12:01:00</td>\n      <td>Weekday</td>\n    </tr>\n    <tr>\n      <th>535</th>\n      <td>411</td>\n      <td>2020-01-01 12:01:39.840</td>\n      <td>2020-01-01 12:08:31.377</td>\n      <td>58</td>\n      <td>Mugar Way at Beacon St</td>\n      <td>42.355536</td>\n      <td>-71.072869</td>\n      <td>16</td>\n      <td>Back Bay T Stop - Dartmouth St at Stuart St</td>\n      <td>42.348074</td>\n      <td>-71.076570</td>\n      <td>5983</td>\n      <td>Subscriber</td>\n      <td>2</td>\n      <td>January</td>\n      <td>2021-02-09 12:01:00</td>\n      <td>Weekday</td>\n    </tr>\n    <tr>\n      <th>536</th>\n      <td>391</td>\n      <td>2020-01-01 12:01:52.744</td>\n      <td>2020-01-01 12:08:23.776</td>\n      <td>68</td>\n      <td>Central Square at Mass Ave / Essex St</td>\n      <td>42.365070</td>\n      <td>-71.103100</td>\n      <td>107</td>\n      <td>Ames St at Main St</td>\n      <td>42.362500</td>\n      <td>-71.088220</td>\n      <td>5312</td>\n      <td>Subscriber</td>\n      <td>2</td>\n      <td>January</td>\n      <td>2021-02-09 12:01:00</td>\n      <td>Weekday</td>\n    </tr>\n    <tr>\n      <th>537</th>\n      <td>757</td>\n      <td>2020-01-01 12:02:12.748</td>\n      <td>2020-01-01 12:14:50.457</td>\n      <td>149</td>\n      <td>175 N Harvard St</td>\n      <td>42.363796</td>\n      <td>-71.129164</td>\n      <td>351</td>\n      <td>Faneuil St at Arlington St</td>\n      <td>42.352766</td>\n      <td>-71.159885</td>\n      <td>5892</td>\n      <td>Subscriber</td>\n      <td>2</td>\n      <td>January</td>\n      <td>2021-02-09 12:02:00</td>\n      <td>Weekday</td>\n    </tr>\n    <tr>\n      <th>538</th>\n      <td>973</td>\n      <td>2020-01-01 12:02:29.504</td>\n      <td>2020-01-01 12:18:42.568</td>\n      <td>36</td>\n      <td>Copley Square - Dartmouth St at Boylston St</td>\n      <td>42.349928</td>\n      <td>-71.077392</td>\n      <td>121</td>\n      <td>W Broadway at Dorchester St</td>\n      <td>42.335959</td>\n      <td>-71.046229</td>\n      <td>3763</td>\n      <td>Subscriber</td>\n      <td>2</td>\n      <td>January</td>\n      <td>2021-02-09 12:02:00</td>\n      <td>Weekday</td>\n    </tr>\n  </tbody>\n</table>\n</div>"
     },
     "metadata": {},
     "execution_count": 251
    }
   ],
   "source": [
    "#test\n",
    "df_afternoon.head()"
   ]
  },
  {
   "cell_type": "code",
   "execution_count": 264,
   "metadata": {},
   "outputs": [
    {
     "output_type": "execute_result",
     "data": {
      "text/plain": [
       "2021-02-09 17:08:00    3754\n",
       "2021-02-09 17:11:00    3701\n",
       "2021-02-09 17:15:00    3693\n",
       "2021-02-09 17:10:00    3680\n",
       "2021-02-09 17:20:00    3676\n",
       "                       ... \n",
       "2021-02-09 19:58:00    1934\n",
       "2021-02-09 12:04:00    1929\n",
       "2021-02-09 12:02:00    1923\n",
       "2021-02-09 19:57:00    1920\n",
       "2021-02-09 12:01:00    1861\n",
       "Name: timeoftheday, Length: 479, dtype: int64"
      ]
     },
     "metadata": {},
     "execution_count": 264
    }
   ],
   "source": [
    "# check most frequent values in each dataframe for further exploration later\n",
    "df_afternoon['timeoftheday'].value_counts().sort_values(ascending=False)"
   ]
  },
  {
   "cell_type": "code",
   "execution_count": 265,
   "metadata": {},
   "outputs": [
    {
     "output_type": "execute_result",
     "data": {
      "text/plain": [
       "2021-02-09 20:01:00    2005\n",
       "2021-02-09 20:08:00    1992\n",
       "2021-02-09 20:00:00    1989\n",
       "2021-02-09 20:03:00    1950\n",
       "2021-02-09 20:05:00    1942\n",
       "                       ... \n",
       "2021-02-09 03:55:00      51\n",
       "2021-02-09 03:01:00      50\n",
       "2021-02-09 04:09:00      46\n",
       "2021-02-09 04:01:00      45\n",
       "2021-02-09 03:00:00      32\n",
       "Name: timeoftheday, Length: 541, dtype: int64"
      ]
     },
     "metadata": {},
     "execution_count": 265
    }
   ],
   "source": [
    "# check most frequent values in each dataframe for further exploration later\n",
    "df_evening['timeoftheday'].value_counts().sort_values(ascending=False)"
   ]
  },
  {
   "cell_type": "code",
   "execution_count": 267,
   "metadata": {},
   "outputs": [
    {
     "output_type": "execute_result",
     "data": {
      "text/plain": [
       "2021-02-09 08:39:00    2119\n",
       "2021-02-09 08:37:00    2068\n",
       "2021-02-09 08:45:00    2056\n",
       "2021-02-09 08:49:00    2030\n",
       "2021-02-09 08:44:00    2026\n",
       "                       ... \n",
       "2021-02-09 05:05:00     104\n",
       "2021-02-09 05:01:00      99\n",
       "2021-02-09 05:02:00      97\n",
       "2021-02-09 05:04:00      89\n",
       "2021-02-09 05:03:00      86\n",
       "Name: timeoftheday, Length: 420, dtype: int64"
      ]
     },
     "metadata": {},
     "execution_count": 267
    }
   ],
   "source": [
    "# check most frequent values in each dataframe for further exploration later\n",
    "df_morning['timeoftheday'].value_counts().sort_values(ascending=False)"
   ]
  },
  {
   "source": [
    "# assess weekday column's 12 most frequent values in descending order\n",
    "df_all['weekday'].value_counts()"
   ],
   "cell_type": "code",
   "metadata": {},
   "execution_count": 200,
   "outputs": [
    {
     "output_type": "execute_result",
     "data": {
      "text/plain": [
       "5    338908\n",
       "4    307958\n",
       "6    293585\n",
       "2    292558\n",
       "1    286126\n",
       "3    285525\n",
       "0    268788\n",
       "Name: weekday, dtype: int64"
      ]
     },
     "metadata": {},
     "execution_count": 200
    }
   ]
  },
  {
   "source": [],
   "cell_type": "markdown",
   "metadata": {}
  },
  {
   "cell_type": "code",
   "execution_count": 315,
   "metadata": {},
   "outputs": [
    {
     "output_type": "display_data",
     "data": {
      "text/plain": "<Figure size 432x288 with 1 Axes>",
      "image/svg+xml": "<?xml version=\"1.0\" encoding=\"utf-8\" standalone=\"no\"?>\n<!DOCTYPE svg PUBLIC \"-//W3C//DTD SVG 1.1//EN\"\n  \"http://www.w3.org/Graphics/SVG/1.1/DTD/svg11.dtd\">\n<!-- Created with matplotlib (https://matplotlib.org/) -->\n<svg height=\"323.183808pt\" version=\"1.1\" viewBox=\"0 0 409.98875 323.183808\" width=\"409.98875pt\" xmlns=\"http://www.w3.org/2000/svg\" xmlns:xlink=\"http://www.w3.org/1999/xlink\">\n <metadata>\n  <rdf:RDF xmlns:cc=\"http://creativecommons.org/ns#\" xmlns:dc=\"http://purl.org/dc/elements/1.1/\" xmlns:rdf=\"http://www.w3.org/1999/02/22-rdf-syntax-ns#\">\n   <cc:Work>\n    <dc:type rdf:resource=\"http://purl.org/dc/dcmitype/StillImage\"/>\n    <dc:date>2021-02-10T10:45:48.754071</dc:date>\n    <dc:format>image/svg+xml</dc:format>\n    <dc:creator>\n     <cc:Agent>\n      <dc:title>Matplotlib v3.3.1, https://matplotlib.org/</dc:title>\n     </cc:Agent>\n    </dc:creator>\n   </cc:Work>\n  </rdf:RDF>\n </metadata>\n <defs>\n  <style type=\"text/css\">*{stroke-linecap:butt;stroke-linejoin:round;}</style>\n </defs>\n <g id=\"figure_1\">\n  <g id=\"patch_1\">\n   <path d=\"M -0 323.183808 \nL 409.98875 323.183808 \nL 409.98875 0 \nL -0 0 \nz\n\" style=\"fill:none;\"/>\n  </g>\n  <g id=\"axes_1\">\n   <g id=\"patch_2\">\n    <path d=\"M 67.98875 242.7975 \nL 402.78875 242.7975 \nL 402.78875 25.3575 \nL 67.98875 25.3575 \nz\n\" style=\"fill:#ffffff;\"/>\n   </g>\n   <g id=\"patch_3\">\n    <path clip-path=\"url(#p1b2886cd6d)\" d=\"M 79.945893 242.7975 \nL 103.860179 242.7975 \nL 103.860179 35.711786 \nL 79.945893 35.711786 \nz\n\" style=\"fill:#1f77b4;\"/>\n   </g>\n   <g id=\"patch_4\">\n    <path clip-path=\"url(#p1b2886cd6d)\" d=\"M 127.774464 242.7975 \nL 151.68875 242.7975 \nL 151.68875 54.623416 \nL 127.774464 54.623416 \nz\n\" style=\"fill:#1f77b4;\"/>\n   </g>\n   <g id=\"patch_5\">\n    <path clip-path=\"url(#p1b2886cd6d)\" d=\"M 175.603036 242.7975 \nL 199.517321 242.7975 \nL 199.517321 63.405867 \nL 175.603036 63.405867 \nz\n\" style=\"fill:#1f77b4;\"/>\n   </g>\n   <g id=\"patch_6\">\n    <path clip-path=\"url(#p1b2886cd6d)\" d=\"M 223.431607 242.7975 \nL 247.345893 242.7975 \nL 247.345893 64.033404 \nL 223.431607 64.033404 \nz\n\" style=\"fill:#1f77b4;\"/>\n   </g>\n   <g id=\"patch_7\">\n    <path clip-path=\"url(#p1b2886cd6d)\" d=\"M 271.260179 242.7975 \nL 295.174464 242.7975 \nL 295.174464 67.963601 \nL 271.260179 67.963601 \nz\n\" style=\"fill:#1f77b4;\"/>\n   </g>\n   <g id=\"patch_8\">\n    <path clip-path=\"url(#p1b2886cd6d)\" d=\"M 319.08875 242.7975 \nL 343.003036 242.7975 \nL 343.003036 68.330835 \nL 319.08875 68.330835 \nz\n\" style=\"fill:#1f77b4;\"/>\n   </g>\n   <g id=\"patch_9\">\n    <path clip-path=\"url(#p1b2886cd6d)\" d=\"M 366.917321 242.7975 \nL 390.831607 242.7975 \nL 390.831607 78.55778 \nL 366.917321 78.55778 \nz\n\" style=\"fill:#1f77b4;\"/>\n   </g>\n   <g id=\"matplotlib.axis_1\">\n    <g id=\"xtick_1\">\n     <g id=\"line2d_1\">\n      <defs>\n       <path d=\"M 0 0 \nL 0 3.5 \n\" id=\"m1431fe59b5\" style=\"stroke:#000000;stroke-width:0.8;\"/>\n      </defs>\n      <g>\n       <use style=\"stroke:#000000;stroke-width:0.8;\" x=\"91.903036\" xlink:href=\"#m1431fe59b5\" y=\"242.7975\"/>\n      </g>\n     </g>\n     <g id=\"text_1\">\n      <!-- Saturday -->\n      <g transform=\"translate(79.533027 289.203953)rotate(-50)scale(0.1 -0.1)\">\n       <defs>\n        <path d=\"M 53.515625 70.515625 \nL 53.515625 60.890625 \nQ 47.90625 63.578125 42.921875 64.890625 \nQ 37.9375 66.21875 33.296875 66.21875 \nQ 25.25 66.21875 20.875 63.09375 \nQ 16.5 59.96875 16.5 54.203125 \nQ 16.5 49.359375 19.40625 46.890625 \nQ 22.3125 44.4375 30.421875 42.921875 \nL 36.375 41.703125 \nQ 47.40625 39.59375 52.65625 34.296875 \nQ 57.90625 29 57.90625 20.125 \nQ 57.90625 9.515625 50.796875 4.046875 \nQ 43.703125 -1.421875 29.984375 -1.421875 \nQ 24.8125 -1.421875 18.96875 -0.25 \nQ 13.140625 0.921875 6.890625 3.21875 \nL 6.890625 13.375 \nQ 12.890625 10.015625 18.65625 8.296875 \nQ 24.421875 6.59375 29.984375 6.59375 \nQ 38.421875 6.59375 43.015625 9.90625 \nQ 47.609375 13.234375 47.609375 19.390625 \nQ 47.609375 24.75 44.3125 27.78125 \nQ 41.015625 30.8125 33.5 32.328125 \nL 27.484375 33.5 \nQ 16.453125 35.6875 11.515625 40.375 \nQ 6.59375 45.0625 6.59375 53.421875 \nQ 6.59375 63.09375 13.40625 68.65625 \nQ 20.21875 74.21875 32.171875 74.21875 \nQ 37.3125 74.21875 42.625 73.28125 \nQ 47.953125 72.359375 53.515625 70.515625 \nz\n\" id=\"DejaVuSans-83\"/>\n        <path d=\"M 34.28125 27.484375 \nQ 23.390625 27.484375 19.1875 25 \nQ 14.984375 22.515625 14.984375 16.5 \nQ 14.984375 11.71875 18.140625 8.90625 \nQ 21.296875 6.109375 26.703125 6.109375 \nQ 34.1875 6.109375 38.703125 11.40625 \nQ 43.21875 16.703125 43.21875 25.484375 \nL 43.21875 27.484375 \nz\nM 52.203125 31.203125 \nL 52.203125 0 \nL 43.21875 0 \nL 43.21875 8.296875 \nQ 40.140625 3.328125 35.546875 0.953125 \nQ 30.953125 -1.421875 24.3125 -1.421875 \nQ 15.921875 -1.421875 10.953125 3.296875 \nQ 6 8.015625 6 15.921875 \nQ 6 25.140625 12.171875 29.828125 \nQ 18.359375 34.515625 30.609375 34.515625 \nL 43.21875 34.515625 \nL 43.21875 35.40625 \nQ 43.21875 41.609375 39.140625 45 \nQ 35.0625 48.390625 27.6875 48.390625 \nQ 23 48.390625 18.546875 47.265625 \nQ 14.109375 46.140625 10.015625 43.890625 \nL 10.015625 52.203125 \nQ 14.9375 54.109375 19.578125 55.046875 \nQ 24.21875 56 28.609375 56 \nQ 40.484375 56 46.34375 49.84375 \nQ 52.203125 43.703125 52.203125 31.203125 \nz\n\" id=\"DejaVuSans-97\"/>\n        <path d=\"M 18.3125 70.21875 \nL 18.3125 54.6875 \nL 36.8125 54.6875 \nL 36.8125 47.703125 \nL 18.3125 47.703125 \nL 18.3125 18.015625 \nQ 18.3125 11.328125 20.140625 9.421875 \nQ 21.96875 7.515625 27.59375 7.515625 \nL 36.8125 7.515625 \nL 36.8125 0 \nL 27.59375 0 \nQ 17.1875 0 13.234375 3.875 \nQ 9.28125 7.765625 9.28125 18.015625 \nL 9.28125 47.703125 \nL 2.6875 47.703125 \nL 2.6875 54.6875 \nL 9.28125 54.6875 \nL 9.28125 70.21875 \nz\n\" id=\"DejaVuSans-116\"/>\n        <path d=\"M 8.5 21.578125 \nL 8.5 54.6875 \nL 17.484375 54.6875 \nL 17.484375 21.921875 \nQ 17.484375 14.15625 20.5 10.265625 \nQ 23.53125 6.390625 29.59375 6.390625 \nQ 36.859375 6.390625 41.078125 11.03125 \nQ 45.3125 15.671875 45.3125 23.6875 \nL 45.3125 54.6875 \nL 54.296875 54.6875 \nL 54.296875 0 \nL 45.3125 0 \nL 45.3125 8.40625 \nQ 42.046875 3.421875 37.71875 1 \nQ 33.40625 -1.421875 27.6875 -1.421875 \nQ 18.265625 -1.421875 13.375 4.4375 \nQ 8.5 10.296875 8.5 21.578125 \nz\nM 31.109375 56 \nz\n\" id=\"DejaVuSans-117\"/>\n        <path d=\"M 41.109375 46.296875 \nQ 39.59375 47.171875 37.8125 47.578125 \nQ 36.03125 48 33.890625 48 \nQ 26.265625 48 22.1875 43.046875 \nQ 18.109375 38.09375 18.109375 28.8125 \nL 18.109375 0 \nL 9.078125 0 \nL 9.078125 54.6875 \nL 18.109375 54.6875 \nL 18.109375 46.1875 \nQ 20.953125 51.171875 25.484375 53.578125 \nQ 30.03125 56 36.53125 56 \nQ 37.453125 56 38.578125 55.875 \nQ 39.703125 55.765625 41.0625 55.515625 \nz\n\" id=\"DejaVuSans-114\"/>\n        <path d=\"M 45.40625 46.390625 \nL 45.40625 75.984375 \nL 54.390625 75.984375 \nL 54.390625 0 \nL 45.40625 0 \nL 45.40625 8.203125 \nQ 42.578125 3.328125 38.25 0.953125 \nQ 33.9375 -1.421875 27.875 -1.421875 \nQ 17.96875 -1.421875 11.734375 6.484375 \nQ 5.515625 14.40625 5.515625 27.296875 \nQ 5.515625 40.1875 11.734375 48.09375 \nQ 17.96875 56 27.875 56 \nQ 33.9375 56 38.25 53.625 \nQ 42.578125 51.265625 45.40625 46.390625 \nz\nM 14.796875 27.296875 \nQ 14.796875 17.390625 18.875 11.75 \nQ 22.953125 6.109375 30.078125 6.109375 \nQ 37.203125 6.109375 41.296875 11.75 \nQ 45.40625 17.390625 45.40625 27.296875 \nQ 45.40625 37.203125 41.296875 42.84375 \nQ 37.203125 48.484375 30.078125 48.484375 \nQ 22.953125 48.484375 18.875 42.84375 \nQ 14.796875 37.203125 14.796875 27.296875 \nz\n\" id=\"DejaVuSans-100\"/>\n        <path d=\"M 32.171875 -5.078125 \nQ 28.375 -14.84375 24.75 -17.8125 \nQ 21.140625 -20.796875 15.09375 -20.796875 \nL 7.90625 -20.796875 \nL 7.90625 -13.28125 \nL 13.1875 -13.28125 \nQ 16.890625 -13.28125 18.9375 -11.515625 \nQ 21 -9.765625 23.484375 -3.21875 \nL 25.09375 0.875 \nL 2.984375 54.6875 \nL 12.5 54.6875 \nL 29.59375 11.921875 \nL 46.6875 54.6875 \nL 56.203125 54.6875 \nz\n\" id=\"DejaVuSans-121\"/>\n       </defs>\n       <use xlink:href=\"#DejaVuSans-83\"/>\n       <use x=\"63.476562\" xlink:href=\"#DejaVuSans-97\"/>\n       <use x=\"124.755859\" xlink:href=\"#DejaVuSans-116\"/>\n       <use x=\"163.964844\" xlink:href=\"#DejaVuSans-117\"/>\n       <use x=\"227.34375\" xlink:href=\"#DejaVuSans-114\"/>\n       <use x=\"266.707031\" xlink:href=\"#DejaVuSans-100\"/>\n       <use x=\"330.183594\" xlink:href=\"#DejaVuSans-97\"/>\n       <use x=\"391.462891\" xlink:href=\"#DejaVuSans-121\"/>\n      </g>\n     </g>\n    </g>\n    <g id=\"xtick_2\">\n     <g id=\"line2d_2\">\n      <g>\n       <use style=\"stroke:#000000;stroke-width:0.8;\" x=\"139.731607\" xlink:href=\"#m1431fe59b5\" y=\"242.7975\"/>\n      </g>\n     </g>\n     <g id=\"text_2\">\n      <!-- Friday -->\n      <g transform=\"translate(132.103663 277.901207)rotate(-50)scale(0.1 -0.1)\">\n       <defs>\n        <path d=\"M 9.8125 72.90625 \nL 51.703125 72.90625 \nL 51.703125 64.59375 \nL 19.671875 64.59375 \nL 19.671875 43.109375 \nL 48.578125 43.109375 \nL 48.578125 34.8125 \nL 19.671875 34.8125 \nL 19.671875 0 \nL 9.8125 0 \nz\n\" id=\"DejaVuSans-70\"/>\n        <path d=\"M 9.421875 54.6875 \nL 18.40625 54.6875 \nL 18.40625 0 \nL 9.421875 0 \nz\nM 9.421875 75.984375 \nL 18.40625 75.984375 \nL 18.40625 64.59375 \nL 9.421875 64.59375 \nz\n\" id=\"DejaVuSans-105\"/>\n       </defs>\n       <use xlink:href=\"#DejaVuSans-70\"/>\n       <use x=\"50.269531\" xlink:href=\"#DejaVuSans-114\"/>\n       <use x=\"91.382812\" xlink:href=\"#DejaVuSans-105\"/>\n       <use x=\"119.166016\" xlink:href=\"#DejaVuSans-100\"/>\n       <use x=\"182.642578\" xlink:href=\"#DejaVuSans-97\"/>\n       <use x=\"243.921875\" xlink:href=\"#DejaVuSans-121\"/>\n      </g>\n     </g>\n    </g>\n    <g id=\"xtick_3\">\n     <g id=\"line2d_3\">\n      <g>\n       <use style=\"stroke:#000000;stroke-width:0.8;\" x=\"187.560179\" xlink:href=\"#m1431fe59b5\" y=\"242.7975\"/>\n      </g>\n     </g>\n     <g id=\"text_3\">\n      <!-- Sunday -->\n      <g transform=\"translate(177.647828 283.346107)rotate(-50)scale(0.1 -0.1)\">\n       <defs>\n        <path d=\"M 54.890625 33.015625 \nL 54.890625 0 \nL 45.90625 0 \nL 45.90625 32.71875 \nQ 45.90625 40.484375 42.875 44.328125 \nQ 39.84375 48.1875 33.796875 48.1875 \nQ 26.515625 48.1875 22.3125 43.546875 \nQ 18.109375 38.921875 18.109375 30.90625 \nL 18.109375 0 \nL 9.078125 0 \nL 9.078125 54.6875 \nL 18.109375 54.6875 \nL 18.109375 46.1875 \nQ 21.34375 51.125 25.703125 53.5625 \nQ 30.078125 56 35.796875 56 \nQ 45.21875 56 50.046875 50.171875 \nQ 54.890625 44.34375 54.890625 33.015625 \nz\n\" id=\"DejaVuSans-110\"/>\n       </defs>\n       <use xlink:href=\"#DejaVuSans-83\"/>\n       <use x=\"63.476562\" xlink:href=\"#DejaVuSans-117\"/>\n       <use x=\"126.855469\" xlink:href=\"#DejaVuSans-110\"/>\n       <use x=\"190.234375\" xlink:href=\"#DejaVuSans-100\"/>\n       <use x=\"253.710938\" xlink:href=\"#DejaVuSans-97\"/>\n       <use x=\"314.990234\" xlink:href=\"#DejaVuSans-121\"/>\n      </g>\n     </g>\n    </g>\n    <g id=\"xtick_4\">\n     <g id=\"line2d_4\">\n      <g>\n       <use style=\"stroke:#000000;stroke-width:0.8;\" x=\"235.38875\" xlink:href=\"#m1431fe59b5\" y=\"242.7975\"/>\n      </g>\n     </g>\n     <g id=\"text_4\">\n      <!-- Wednesday -->\n      <g transform=\"translate(218.894857 299.033261)rotate(-50)scale(0.1 -0.1)\">\n       <defs>\n        <path d=\"M 3.328125 72.90625 \nL 13.28125 72.90625 \nL 28.609375 11.28125 \nL 43.890625 72.90625 \nL 54.984375 72.90625 \nL 70.3125 11.28125 \nL 85.59375 72.90625 \nL 95.609375 72.90625 \nL 77.296875 0 \nL 64.890625 0 \nL 49.515625 63.28125 \nL 33.984375 0 \nL 21.578125 0 \nz\n\" id=\"DejaVuSans-87\"/>\n        <path d=\"M 56.203125 29.59375 \nL 56.203125 25.203125 \nL 14.890625 25.203125 \nQ 15.484375 15.921875 20.484375 11.0625 \nQ 25.484375 6.203125 34.421875 6.203125 \nQ 39.59375 6.203125 44.453125 7.46875 \nQ 49.3125 8.734375 54.109375 11.28125 \nL 54.109375 2.78125 \nQ 49.265625 0.734375 44.1875 -0.34375 \nQ 39.109375 -1.421875 33.890625 -1.421875 \nQ 20.796875 -1.421875 13.15625 6.1875 \nQ 5.515625 13.8125 5.515625 26.8125 \nQ 5.515625 40.234375 12.765625 48.109375 \nQ 20.015625 56 32.328125 56 \nQ 43.359375 56 49.78125 48.890625 \nQ 56.203125 41.796875 56.203125 29.59375 \nz\nM 47.21875 32.234375 \nQ 47.125 39.59375 43.09375 43.984375 \nQ 39.0625 48.390625 32.421875 48.390625 \nQ 24.90625 48.390625 20.390625 44.140625 \nQ 15.875 39.890625 15.1875 32.171875 \nz\n\" id=\"DejaVuSans-101\"/>\n        <path d=\"M 44.28125 53.078125 \nL 44.28125 44.578125 \nQ 40.484375 46.53125 36.375 47.5 \nQ 32.28125 48.484375 27.875 48.484375 \nQ 21.1875 48.484375 17.84375 46.4375 \nQ 14.5 44.390625 14.5 40.28125 \nQ 14.5 37.15625 16.890625 35.375 \nQ 19.28125 33.59375 26.515625 31.984375 \nL 29.59375 31.296875 \nQ 39.15625 29.25 43.1875 25.515625 \nQ 47.21875 21.78125 47.21875 15.09375 \nQ 47.21875 7.46875 41.1875 3.015625 \nQ 35.15625 -1.421875 24.609375 -1.421875 \nQ 20.21875 -1.421875 15.453125 -0.5625 \nQ 10.6875 0.296875 5.421875 2 \nL 5.421875 11.28125 \nQ 10.40625 8.6875 15.234375 7.390625 \nQ 20.0625 6.109375 24.8125 6.109375 \nQ 31.15625 6.109375 34.5625 8.28125 \nQ 37.984375 10.453125 37.984375 14.40625 \nQ 37.984375 18.0625 35.515625 20.015625 \nQ 33.0625 21.96875 24.703125 23.78125 \nL 21.578125 24.515625 \nQ 13.234375 26.265625 9.515625 29.90625 \nQ 5.8125 33.546875 5.8125 39.890625 \nQ 5.8125 47.609375 11.28125 51.796875 \nQ 16.75 56 26.8125 56 \nQ 31.78125 56 36.171875 55.265625 \nQ 40.578125 54.546875 44.28125 53.078125 \nz\n\" id=\"DejaVuSans-115\"/>\n       </defs>\n       <use xlink:href=\"#DejaVuSans-87\"/>\n       <use x=\"93.001953\" xlink:href=\"#DejaVuSans-101\"/>\n       <use x=\"154.525391\" xlink:href=\"#DejaVuSans-100\"/>\n       <use x=\"218.001953\" xlink:href=\"#DejaVuSans-110\"/>\n       <use x=\"281.380859\" xlink:href=\"#DejaVuSans-101\"/>\n       <use x=\"342.904297\" xlink:href=\"#DejaVuSans-115\"/>\n       <use x=\"395.003906\" xlink:href=\"#DejaVuSans-100\"/>\n       <use x=\"458.480469\" xlink:href=\"#DejaVuSans-97\"/>\n       <use x=\"519.759766\" xlink:href=\"#DejaVuSans-121\"/>\n      </g>\n     </g>\n    </g>\n    <g id=\"xtick_5\">\n     <g id=\"line2d_5\">\n      <g>\n       <use style=\"stroke:#000000;stroke-width:0.8;\" x=\"283.217321\" xlink:href=\"#m1431fe59b5\" y=\"242.7975\"/>\n      </g>\n     </g>\n     <g id=\"text_5\">\n      <!-- Tuesday -->\n      <g transform=\"translate(272.253411 285.852509)rotate(-50)scale(0.1 -0.1)\">\n       <defs>\n        <path d=\"M -0.296875 72.90625 \nL 61.375 72.90625 \nL 61.375 64.59375 \nL 35.5 64.59375 \nL 35.5 0 \nL 25.59375 0 \nL 25.59375 64.59375 \nL -0.296875 64.59375 \nz\n\" id=\"DejaVuSans-84\"/>\n       </defs>\n       <use xlink:href=\"#DejaVuSans-84\"/>\n       <use x=\"45.958984\" xlink:href=\"#DejaVuSans-117\"/>\n       <use x=\"109.337891\" xlink:href=\"#DejaVuSans-101\"/>\n       <use x=\"170.861328\" xlink:href=\"#DejaVuSans-115\"/>\n       <use x=\"222.960938\" xlink:href=\"#DejaVuSans-100\"/>\n       <use x=\"286.4375\" xlink:href=\"#DejaVuSans-97\"/>\n       <use x=\"347.716797\" xlink:href=\"#DejaVuSans-121\"/>\n      </g>\n     </g>\n    </g>\n    <g id=\"xtick_6\">\n     <g id=\"line2d_6\">\n      <g>\n       <use style=\"stroke:#000000;stroke-width:0.8;\" x=\"331.045893\" xlink:href=\"#m1431fe59b5\" y=\"242.7975\"/>\n      </g>\n     </g>\n     <g id=\"text_6\">\n      <!-- Thursday -->\n      <g transform=\"translate(318.215387 290.301551)rotate(-50)scale(0.1 -0.1)\">\n       <defs>\n        <path d=\"M 54.890625 33.015625 \nL 54.890625 0 \nL 45.90625 0 \nL 45.90625 32.71875 \nQ 45.90625 40.484375 42.875 44.328125 \nQ 39.84375 48.1875 33.796875 48.1875 \nQ 26.515625 48.1875 22.3125 43.546875 \nQ 18.109375 38.921875 18.109375 30.90625 \nL 18.109375 0 \nL 9.078125 0 \nL 9.078125 75.984375 \nL 18.109375 75.984375 \nL 18.109375 46.1875 \nQ 21.34375 51.125 25.703125 53.5625 \nQ 30.078125 56 35.796875 56 \nQ 45.21875 56 50.046875 50.171875 \nQ 54.890625 44.34375 54.890625 33.015625 \nz\n\" id=\"DejaVuSans-104\"/>\n       </defs>\n       <use xlink:href=\"#DejaVuSans-84\"/>\n       <use x=\"61.083984\" xlink:href=\"#DejaVuSans-104\"/>\n       <use x=\"124.462891\" xlink:href=\"#DejaVuSans-117\"/>\n       <use x=\"187.841797\" xlink:href=\"#DejaVuSans-114\"/>\n       <use x=\"228.955078\" xlink:href=\"#DejaVuSans-115\"/>\n       <use x=\"281.054688\" xlink:href=\"#DejaVuSans-100\"/>\n       <use x=\"344.53125\" xlink:href=\"#DejaVuSans-97\"/>\n       <use x=\"405.810547\" xlink:href=\"#DejaVuSans-121\"/>\n      </g>\n     </g>\n    </g>\n    <g id=\"xtick_7\">\n     <g id=\"line2d_7\">\n      <g>\n       <use style=\"stroke:#000000;stroke-width:0.8;\" x=\"378.874464\" xlink:href=\"#m1431fe59b5\" y=\"242.7975\"/>\n      </g>\n     </g>\n     <g id=\"text_7\">\n      <!-- Monday -->\n      <g transform=\"translate(368.299741 284.924877)rotate(-50)scale(0.1 -0.1)\">\n       <defs>\n        <path d=\"M 9.8125 72.90625 \nL 24.515625 72.90625 \nL 43.109375 23.296875 \nL 61.8125 72.90625 \nL 76.515625 72.90625 \nL 76.515625 0 \nL 66.890625 0 \nL 66.890625 64.015625 \nL 48.09375 14.015625 \nL 38.1875 14.015625 \nL 19.390625 64.015625 \nL 19.390625 0 \nL 9.8125 0 \nz\n\" id=\"DejaVuSans-77\"/>\n        <path d=\"M 30.609375 48.390625 \nQ 23.390625 48.390625 19.1875 42.75 \nQ 14.984375 37.109375 14.984375 27.296875 \nQ 14.984375 17.484375 19.15625 11.84375 \nQ 23.34375 6.203125 30.609375 6.203125 \nQ 37.796875 6.203125 41.984375 11.859375 \nQ 46.1875 17.53125 46.1875 27.296875 \nQ 46.1875 37.015625 41.984375 42.703125 \nQ 37.796875 48.390625 30.609375 48.390625 \nz\nM 30.609375 56 \nQ 42.328125 56 49.015625 48.375 \nQ 55.71875 40.765625 55.71875 27.296875 \nQ 55.71875 13.875 49.015625 6.21875 \nQ 42.328125 -1.421875 30.609375 -1.421875 \nQ 18.84375 -1.421875 12.171875 6.21875 \nQ 5.515625 13.875 5.515625 27.296875 \nQ 5.515625 40.765625 12.171875 48.375 \nQ 18.84375 56 30.609375 56 \nz\n\" id=\"DejaVuSans-111\"/>\n       </defs>\n       <use xlink:href=\"#DejaVuSans-77\"/>\n       <use x=\"86.279297\" xlink:href=\"#DejaVuSans-111\"/>\n       <use x=\"147.460938\" xlink:href=\"#DejaVuSans-110\"/>\n       <use x=\"210.839844\" xlink:href=\"#DejaVuSans-100\"/>\n       <use x=\"274.316406\" xlink:href=\"#DejaVuSans-97\"/>\n       <use x=\"335.595703\" xlink:href=\"#DejaVuSans-121\"/>\n      </g>\n     </g>\n    </g>\n    <g id=\"text_8\">\n     <!-- Days of the week -->\n     <g transform=\"translate(183.299375 313.488183)scale(0.12 -0.12)\">\n      <defs>\n       <path d=\"M 19.671875 64.796875 \nL 19.671875 8.109375 \nL 31.59375 8.109375 \nQ 46.6875 8.109375 53.6875 14.9375 \nQ 60.6875 21.78125 60.6875 36.53125 \nQ 60.6875 51.171875 53.6875 57.984375 \nQ 46.6875 64.796875 31.59375 64.796875 \nz\nM 9.8125 72.90625 \nL 30.078125 72.90625 \nQ 51.265625 72.90625 61.171875 64.09375 \nQ 71.09375 55.28125 71.09375 36.53125 \nQ 71.09375 17.671875 61.125 8.828125 \nQ 51.171875 0 30.078125 0 \nL 9.8125 0 \nz\n\" id=\"DejaVuSans-68\"/>\n       <path id=\"DejaVuSans-32\"/>\n       <path d=\"M 37.109375 75.984375 \nL 37.109375 68.5 \nL 28.515625 68.5 \nQ 23.6875 68.5 21.796875 66.546875 \nQ 19.921875 64.59375 19.921875 59.515625 \nL 19.921875 54.6875 \nL 34.71875 54.6875 \nL 34.71875 47.703125 \nL 19.921875 47.703125 \nL 19.921875 0 \nL 10.890625 0 \nL 10.890625 47.703125 \nL 2.296875 47.703125 \nL 2.296875 54.6875 \nL 10.890625 54.6875 \nL 10.890625 58.5 \nQ 10.890625 67.625 15.140625 71.796875 \nQ 19.390625 75.984375 28.609375 75.984375 \nz\n\" id=\"DejaVuSans-102\"/>\n       <path d=\"M 4.203125 54.6875 \nL 13.1875 54.6875 \nL 24.421875 12.015625 \nL 35.59375 54.6875 \nL 46.1875 54.6875 \nL 57.421875 12.015625 \nL 68.609375 54.6875 \nL 77.59375 54.6875 \nL 63.28125 0 \nL 52.6875 0 \nL 40.921875 44.828125 \nL 29.109375 0 \nL 18.5 0 \nz\n\" id=\"DejaVuSans-119\"/>\n       <path d=\"M 9.078125 75.984375 \nL 18.109375 75.984375 \nL 18.109375 31.109375 \nL 44.921875 54.6875 \nL 56.390625 54.6875 \nL 27.390625 29.109375 \nL 57.625 0 \nL 45.90625 0 \nL 18.109375 26.703125 \nL 18.109375 0 \nL 9.078125 0 \nz\n\" id=\"DejaVuSans-107\"/>\n      </defs>\n      <use xlink:href=\"#DejaVuSans-68\"/>\n      <use x=\"77.001953\" xlink:href=\"#DejaVuSans-97\"/>\n      <use x=\"138.28125\" xlink:href=\"#DejaVuSans-121\"/>\n      <use x=\"197.460938\" xlink:href=\"#DejaVuSans-115\"/>\n      <use x=\"249.560547\" xlink:href=\"#DejaVuSans-32\"/>\n      <use x=\"281.347656\" xlink:href=\"#DejaVuSans-111\"/>\n      <use x=\"342.529297\" xlink:href=\"#DejaVuSans-102\"/>\n      <use x=\"377.734375\" xlink:href=\"#DejaVuSans-32\"/>\n      <use x=\"409.521484\" xlink:href=\"#DejaVuSans-116\"/>\n      <use x=\"448.730469\" xlink:href=\"#DejaVuSans-104\"/>\n      <use x=\"512.109375\" xlink:href=\"#DejaVuSans-101\"/>\n      <use x=\"573.632812\" xlink:href=\"#DejaVuSans-32\"/>\n      <use x=\"605.419922\" xlink:href=\"#DejaVuSans-119\"/>\n      <use x=\"687.207031\" xlink:href=\"#DejaVuSans-101\"/>\n      <use x=\"748.730469\" xlink:href=\"#DejaVuSans-101\"/>\n      <use x=\"810.253906\" xlink:href=\"#DejaVuSans-107\"/>\n     </g>\n    </g>\n   </g>\n   <g id=\"matplotlib.axis_2\">\n    <g id=\"ytick_1\">\n     <g id=\"line2d_8\">\n      <defs>\n       <path d=\"M 0 0 \nL -3.5 0 \n\" id=\"mdeb6fb7e4a\" style=\"stroke:#000000;stroke-width:0.8;\"/>\n      </defs>\n      <g>\n       <use style=\"stroke:#000000;stroke-width:0.8;\" x=\"67.98875\" xlink:href=\"#mdeb6fb7e4a\" y=\"242.7975\"/>\n      </g>\n     </g>\n     <g id=\"text_9\">\n      <!-- 0 -->\n      <g transform=\"translate(54.62625 246.596719)scale(0.1 -0.1)\">\n       <defs>\n        <path d=\"M 31.78125 66.40625 \nQ 24.171875 66.40625 20.328125 58.90625 \nQ 16.5 51.421875 16.5 36.375 \nQ 16.5 21.390625 20.328125 13.890625 \nQ 24.171875 6.390625 31.78125 6.390625 \nQ 39.453125 6.390625 43.28125 13.890625 \nQ 47.125 21.390625 47.125 36.375 \nQ 47.125 51.421875 43.28125 58.90625 \nQ 39.453125 66.40625 31.78125 66.40625 \nz\nM 31.78125 74.21875 \nQ 44.046875 74.21875 50.515625 64.515625 \nQ 56.984375 54.828125 56.984375 36.375 \nQ 56.984375 17.96875 50.515625 8.265625 \nQ 44.046875 -1.421875 31.78125 -1.421875 \nQ 19.53125 -1.421875 13.0625 8.265625 \nQ 6.59375 17.96875 6.59375 36.375 \nQ 6.59375 54.828125 13.0625 64.515625 \nQ 19.53125 74.21875 31.78125 74.21875 \nz\n\" id=\"DejaVuSans-48\"/>\n       </defs>\n       <use xlink:href=\"#DejaVuSans-48\"/>\n      </g>\n     </g>\n    </g>\n    <g id=\"ytick_2\">\n     <g id=\"line2d_9\">\n      <g>\n       <use style=\"stroke:#000000;stroke-width:0.8;\" x=\"67.98875\" xlink:href=\"#mdeb6fb7e4a\" y=\"212.245593\"/>\n      </g>\n     </g>\n     <g id=\"text_10\">\n      <!-- 50000 -->\n      <g transform=\"translate(29.17625 216.044812)scale(0.1 -0.1)\">\n       <defs>\n        <path d=\"M 10.796875 72.90625 \nL 49.515625 72.90625 \nL 49.515625 64.59375 \nL 19.828125 64.59375 \nL 19.828125 46.734375 \nQ 21.96875 47.46875 24.109375 47.828125 \nQ 26.265625 48.1875 28.421875 48.1875 \nQ 40.625 48.1875 47.75 41.5 \nQ 54.890625 34.8125 54.890625 23.390625 \nQ 54.890625 11.625 47.5625 5.09375 \nQ 40.234375 -1.421875 26.90625 -1.421875 \nQ 22.3125 -1.421875 17.546875 -0.640625 \nQ 12.796875 0.140625 7.71875 1.703125 \nL 7.71875 11.625 \nQ 12.109375 9.234375 16.796875 8.0625 \nQ 21.484375 6.890625 26.703125 6.890625 \nQ 35.15625 6.890625 40.078125 11.328125 \nQ 45.015625 15.765625 45.015625 23.390625 \nQ 45.015625 31 40.078125 35.4375 \nQ 35.15625 39.890625 26.703125 39.890625 \nQ 22.75 39.890625 18.8125 39.015625 \nQ 14.890625 38.140625 10.796875 36.28125 \nz\n\" id=\"DejaVuSans-53\"/>\n       </defs>\n       <use xlink:href=\"#DejaVuSans-53\"/>\n       <use x=\"63.623047\" xlink:href=\"#DejaVuSans-48\"/>\n       <use x=\"127.246094\" xlink:href=\"#DejaVuSans-48\"/>\n       <use x=\"190.869141\" xlink:href=\"#DejaVuSans-48\"/>\n       <use x=\"254.492188\" xlink:href=\"#DejaVuSans-48\"/>\n      </g>\n     </g>\n    </g>\n    <g id=\"ytick_3\">\n     <g id=\"line2d_10\">\n      <g>\n       <use style=\"stroke:#000000;stroke-width:0.8;\" x=\"67.98875\" xlink:href=\"#mdeb6fb7e4a\" y=\"181.693686\"/>\n      </g>\n     </g>\n     <g id=\"text_11\">\n      <!-- 100000 -->\n      <g transform=\"translate(22.81375 185.492905)scale(0.1 -0.1)\">\n       <defs>\n        <path d=\"M 12.40625 8.296875 \nL 28.515625 8.296875 \nL 28.515625 63.921875 \nL 10.984375 60.40625 \nL 10.984375 69.390625 \nL 28.421875 72.90625 \nL 38.28125 72.90625 \nL 38.28125 8.296875 \nL 54.390625 8.296875 \nL 54.390625 0 \nL 12.40625 0 \nz\n\" id=\"DejaVuSans-49\"/>\n       </defs>\n       <use xlink:href=\"#DejaVuSans-49\"/>\n       <use x=\"63.623047\" xlink:href=\"#DejaVuSans-48\"/>\n       <use x=\"127.246094\" xlink:href=\"#DejaVuSans-48\"/>\n       <use x=\"190.869141\" xlink:href=\"#DejaVuSans-48\"/>\n       <use x=\"254.492188\" xlink:href=\"#DejaVuSans-48\"/>\n       <use x=\"318.115234\" xlink:href=\"#DejaVuSans-48\"/>\n      </g>\n     </g>\n    </g>\n    <g id=\"ytick_4\">\n     <g id=\"line2d_11\">\n      <g>\n       <use style=\"stroke:#000000;stroke-width:0.8;\" x=\"67.98875\" xlink:href=\"#mdeb6fb7e4a\" y=\"151.141779\"/>\n      </g>\n     </g>\n     <g id=\"text_12\">\n      <!-- 150000 -->\n      <g transform=\"translate(22.81375 154.940998)scale(0.1 -0.1)\">\n       <use xlink:href=\"#DejaVuSans-49\"/>\n       <use x=\"63.623047\" xlink:href=\"#DejaVuSans-53\"/>\n       <use x=\"127.246094\" xlink:href=\"#DejaVuSans-48\"/>\n       <use x=\"190.869141\" xlink:href=\"#DejaVuSans-48\"/>\n       <use x=\"254.492188\" xlink:href=\"#DejaVuSans-48\"/>\n       <use x=\"318.115234\" xlink:href=\"#DejaVuSans-48\"/>\n      </g>\n     </g>\n    </g>\n    <g id=\"ytick_5\">\n     <g id=\"line2d_12\">\n      <g>\n       <use style=\"stroke:#000000;stroke-width:0.8;\" x=\"67.98875\" xlink:href=\"#mdeb6fb7e4a\" y=\"120.589872\"/>\n      </g>\n     </g>\n     <g id=\"text_13\">\n      <!-- 200000 -->\n      <g transform=\"translate(22.81375 124.389091)scale(0.1 -0.1)\">\n       <defs>\n        <path d=\"M 19.1875 8.296875 \nL 53.609375 8.296875 \nL 53.609375 0 \nL 7.328125 0 \nL 7.328125 8.296875 \nQ 12.9375 14.109375 22.625 23.890625 \nQ 32.328125 33.6875 34.8125 36.53125 \nQ 39.546875 41.84375 41.421875 45.53125 \nQ 43.3125 49.21875 43.3125 52.78125 \nQ 43.3125 58.59375 39.234375 62.25 \nQ 35.15625 65.921875 28.609375 65.921875 \nQ 23.96875 65.921875 18.8125 64.3125 \nQ 13.671875 62.703125 7.8125 59.421875 \nL 7.8125 69.390625 \nQ 13.765625 71.78125 18.9375 73 \nQ 24.125 74.21875 28.421875 74.21875 \nQ 39.75 74.21875 46.484375 68.546875 \nQ 53.21875 62.890625 53.21875 53.421875 \nQ 53.21875 48.921875 51.53125 44.890625 \nQ 49.859375 40.875 45.40625 35.40625 \nQ 44.1875 33.984375 37.640625 27.21875 \nQ 31.109375 20.453125 19.1875 8.296875 \nz\n\" id=\"DejaVuSans-50\"/>\n       </defs>\n       <use xlink:href=\"#DejaVuSans-50\"/>\n       <use x=\"63.623047\" xlink:href=\"#DejaVuSans-48\"/>\n       <use x=\"127.246094\" xlink:href=\"#DejaVuSans-48\"/>\n       <use x=\"190.869141\" xlink:href=\"#DejaVuSans-48\"/>\n       <use x=\"254.492188\" xlink:href=\"#DejaVuSans-48\"/>\n       <use x=\"318.115234\" xlink:href=\"#DejaVuSans-48\"/>\n      </g>\n     </g>\n    </g>\n    <g id=\"ytick_6\">\n     <g id=\"line2d_13\">\n      <g>\n       <use style=\"stroke:#000000;stroke-width:0.8;\" x=\"67.98875\" xlink:href=\"#mdeb6fb7e4a\" y=\"90.037965\"/>\n      </g>\n     </g>\n     <g id=\"text_14\">\n      <!-- 250000 -->\n      <g transform=\"translate(22.81375 93.837184)scale(0.1 -0.1)\">\n       <use xlink:href=\"#DejaVuSans-50\"/>\n       <use x=\"63.623047\" xlink:href=\"#DejaVuSans-53\"/>\n       <use x=\"127.246094\" xlink:href=\"#DejaVuSans-48\"/>\n       <use x=\"190.869141\" xlink:href=\"#DejaVuSans-48\"/>\n       <use x=\"254.492188\" xlink:href=\"#DejaVuSans-48\"/>\n       <use x=\"318.115234\" xlink:href=\"#DejaVuSans-48\"/>\n      </g>\n     </g>\n    </g>\n    <g id=\"ytick_7\">\n     <g id=\"line2d_14\">\n      <g>\n       <use style=\"stroke:#000000;stroke-width:0.8;\" x=\"67.98875\" xlink:href=\"#mdeb6fb7e4a\" y=\"59.486058\"/>\n      </g>\n     </g>\n     <g id=\"text_15\">\n      <!-- 300000 -->\n      <g transform=\"translate(22.81375 63.285276)scale(0.1 -0.1)\">\n       <defs>\n        <path d=\"M 40.578125 39.3125 \nQ 47.65625 37.796875 51.625 33 \nQ 55.609375 28.21875 55.609375 21.1875 \nQ 55.609375 10.40625 48.1875 4.484375 \nQ 40.765625 -1.421875 27.09375 -1.421875 \nQ 22.515625 -1.421875 17.65625 -0.515625 \nQ 12.796875 0.390625 7.625 2.203125 \nL 7.625 11.71875 \nQ 11.71875 9.328125 16.59375 8.109375 \nQ 21.484375 6.890625 26.8125 6.890625 \nQ 36.078125 6.890625 40.9375 10.546875 \nQ 45.796875 14.203125 45.796875 21.1875 \nQ 45.796875 27.640625 41.28125 31.265625 \nQ 36.765625 34.90625 28.71875 34.90625 \nL 20.21875 34.90625 \nL 20.21875 43.015625 \nL 29.109375 43.015625 \nQ 36.375 43.015625 40.234375 45.921875 \nQ 44.09375 48.828125 44.09375 54.296875 \nQ 44.09375 59.90625 40.109375 62.90625 \nQ 36.140625 65.921875 28.71875 65.921875 \nQ 24.65625 65.921875 20.015625 65.03125 \nQ 15.375 64.15625 9.8125 62.3125 \nL 9.8125 71.09375 \nQ 15.4375 72.65625 20.34375 73.4375 \nQ 25.25 74.21875 29.59375 74.21875 \nQ 40.828125 74.21875 47.359375 69.109375 \nQ 53.90625 64.015625 53.90625 55.328125 \nQ 53.90625 49.265625 50.4375 45.09375 \nQ 46.96875 40.921875 40.578125 39.3125 \nz\n\" id=\"DejaVuSans-51\"/>\n       </defs>\n       <use xlink:href=\"#DejaVuSans-51\"/>\n       <use x=\"63.623047\" xlink:href=\"#DejaVuSans-48\"/>\n       <use x=\"127.246094\" xlink:href=\"#DejaVuSans-48\"/>\n       <use x=\"190.869141\" xlink:href=\"#DejaVuSans-48\"/>\n       <use x=\"254.492188\" xlink:href=\"#DejaVuSans-48\"/>\n       <use x=\"318.115234\" xlink:href=\"#DejaVuSans-48\"/>\n      </g>\n     </g>\n    </g>\n    <g id=\"ytick_8\">\n     <g id=\"line2d_15\">\n      <g>\n       <use style=\"stroke:#000000;stroke-width:0.8;\" x=\"67.98875\" xlink:href=\"#mdeb6fb7e4a\" y=\"28.934151\"/>\n      </g>\n     </g>\n     <g id=\"text_16\">\n      <!-- 350000 -->\n      <g transform=\"translate(22.81375 32.733369)scale(0.1 -0.1)\">\n       <use xlink:href=\"#DejaVuSans-51\"/>\n       <use x=\"63.623047\" xlink:href=\"#DejaVuSans-53\"/>\n       <use x=\"127.246094\" xlink:href=\"#DejaVuSans-48\"/>\n       <use x=\"190.869141\" xlink:href=\"#DejaVuSans-48\"/>\n       <use x=\"254.492188\" xlink:href=\"#DejaVuSans-48\"/>\n       <use x=\"318.115234\" xlink:href=\"#DejaVuSans-48\"/>\n      </g>\n     </g>\n    </g>\n    <g id=\"text_17\">\n     <!-- Number of rentals -->\n     <g transform=\"translate(16.318125 188.425313)rotate(-90)scale(0.12 -0.12)\">\n      <defs>\n       <path d=\"M 9.8125 72.90625 \nL 23.09375 72.90625 \nL 55.421875 11.921875 \nL 55.421875 72.90625 \nL 64.984375 72.90625 \nL 64.984375 0 \nL 51.703125 0 \nL 19.390625 60.984375 \nL 19.390625 0 \nL 9.8125 0 \nz\n\" id=\"DejaVuSans-78\"/>\n       <path d=\"M 52 44.1875 \nQ 55.375 50.25 60.0625 53.125 \nQ 64.75 56 71.09375 56 \nQ 79.640625 56 84.28125 50.015625 \nQ 88.921875 44.046875 88.921875 33.015625 \nL 88.921875 0 \nL 79.890625 0 \nL 79.890625 32.71875 \nQ 79.890625 40.578125 77.09375 44.375 \nQ 74.3125 48.1875 68.609375 48.1875 \nQ 61.625 48.1875 57.5625 43.546875 \nQ 53.515625 38.921875 53.515625 30.90625 \nL 53.515625 0 \nL 44.484375 0 \nL 44.484375 32.71875 \nQ 44.484375 40.625 41.703125 44.40625 \nQ 38.921875 48.1875 33.109375 48.1875 \nQ 26.21875 48.1875 22.15625 43.53125 \nQ 18.109375 38.875 18.109375 30.90625 \nL 18.109375 0 \nL 9.078125 0 \nL 9.078125 54.6875 \nL 18.109375 54.6875 \nL 18.109375 46.1875 \nQ 21.1875 51.21875 25.484375 53.609375 \nQ 29.78125 56 35.6875 56 \nQ 41.65625 56 45.828125 52.96875 \nQ 50 49.953125 52 44.1875 \nz\n\" id=\"DejaVuSans-109\"/>\n       <path d=\"M 48.6875 27.296875 \nQ 48.6875 37.203125 44.609375 42.84375 \nQ 40.53125 48.484375 33.40625 48.484375 \nQ 26.265625 48.484375 22.1875 42.84375 \nQ 18.109375 37.203125 18.109375 27.296875 \nQ 18.109375 17.390625 22.1875 11.75 \nQ 26.265625 6.109375 33.40625 6.109375 \nQ 40.53125 6.109375 44.609375 11.75 \nQ 48.6875 17.390625 48.6875 27.296875 \nz\nM 18.109375 46.390625 \nQ 20.953125 51.265625 25.265625 53.625 \nQ 29.59375 56 35.59375 56 \nQ 45.5625 56 51.78125 48.09375 \nQ 58.015625 40.1875 58.015625 27.296875 \nQ 58.015625 14.40625 51.78125 6.484375 \nQ 45.5625 -1.421875 35.59375 -1.421875 \nQ 29.59375 -1.421875 25.265625 0.953125 \nQ 20.953125 3.328125 18.109375 8.203125 \nL 18.109375 0 \nL 9.078125 0 \nL 9.078125 75.984375 \nL 18.109375 75.984375 \nz\n\" id=\"DejaVuSans-98\"/>\n       <path d=\"M 9.421875 75.984375 \nL 18.40625 75.984375 \nL 18.40625 0 \nL 9.421875 0 \nz\n\" id=\"DejaVuSans-108\"/>\n      </defs>\n      <use xlink:href=\"#DejaVuSans-78\"/>\n      <use x=\"74.804688\" xlink:href=\"#DejaVuSans-117\"/>\n      <use x=\"138.183594\" xlink:href=\"#DejaVuSans-109\"/>\n      <use x=\"235.595703\" xlink:href=\"#DejaVuSans-98\"/>\n      <use x=\"299.072266\" xlink:href=\"#DejaVuSans-101\"/>\n      <use x=\"360.595703\" xlink:href=\"#DejaVuSans-114\"/>\n      <use x=\"401.708984\" xlink:href=\"#DejaVuSans-32\"/>\n      <use x=\"433.496094\" xlink:href=\"#DejaVuSans-111\"/>\n      <use x=\"494.677734\" xlink:href=\"#DejaVuSans-102\"/>\n      <use x=\"529.882812\" xlink:href=\"#DejaVuSans-32\"/>\n      <use x=\"561.669922\" xlink:href=\"#DejaVuSans-114\"/>\n      <use x=\"600.533203\" xlink:href=\"#DejaVuSans-101\"/>\n      <use x=\"662.056641\" xlink:href=\"#DejaVuSans-110\"/>\n      <use x=\"725.435547\" xlink:href=\"#DejaVuSans-116\"/>\n      <use x=\"764.644531\" xlink:href=\"#DejaVuSans-97\"/>\n      <use x=\"825.923828\" xlink:href=\"#DejaVuSans-108\"/>\n      <use x=\"853.707031\" xlink:href=\"#DejaVuSans-115\"/>\n     </g>\n    </g>\n   </g>\n   <g id=\"patch_10\">\n    <path d=\"M 67.98875 242.7975 \nL 67.98875 25.3575 \n\" style=\"fill:none;stroke:#000000;stroke-linecap:square;stroke-linejoin:miter;stroke-width:0.8;\"/>\n   </g>\n   <g id=\"patch_11\">\n    <path d=\"M 402.78875 242.7975 \nL 402.78875 25.3575 \n\" style=\"fill:none;stroke:#000000;stroke-linecap:square;stroke-linejoin:miter;stroke-width:0.8;\"/>\n   </g>\n   <g id=\"patch_12\">\n    <path d=\"M 67.98875 242.7975 \nL 402.78875 242.7975 \n\" style=\"fill:none;stroke:#000000;stroke-linecap:square;stroke-linejoin:miter;stroke-width:0.8;\"/>\n   </g>\n   <g id=\"patch_13\">\n    <path d=\"M 67.98875 25.3575 \nL 402.78875 25.3575 \n\" style=\"fill:none;stroke:#000000;stroke-linecap:square;stroke-linejoin:miter;stroke-width:0.8;\"/>\n   </g>\n   <g id=\"text_18\">\n    <!-- Most Popular Days of the Week -->\n    <g transform=\"translate(110.86125 19.3575)scale(0.16 -0.16)\">\n     <defs>\n      <path d=\"M 19.671875 64.796875 \nL 19.671875 37.40625 \nL 32.078125 37.40625 \nQ 38.96875 37.40625 42.71875 40.96875 \nQ 46.484375 44.53125 46.484375 51.125 \nQ 46.484375 57.671875 42.71875 61.234375 \nQ 38.96875 64.796875 32.078125 64.796875 \nz\nM 9.8125 72.90625 \nL 32.078125 72.90625 \nQ 44.34375 72.90625 50.609375 67.359375 \nQ 56.890625 61.8125 56.890625 51.125 \nQ 56.890625 40.328125 50.609375 34.8125 \nQ 44.34375 29.296875 32.078125 29.296875 \nL 19.671875 29.296875 \nL 19.671875 0 \nL 9.8125 0 \nz\n\" id=\"DejaVuSans-80\"/>\n      <path d=\"M 18.109375 8.203125 \nL 18.109375 -20.796875 \nL 9.078125 -20.796875 \nL 9.078125 54.6875 \nL 18.109375 54.6875 \nL 18.109375 46.390625 \nQ 20.953125 51.265625 25.265625 53.625 \nQ 29.59375 56 35.59375 56 \nQ 45.5625 56 51.78125 48.09375 \nQ 58.015625 40.1875 58.015625 27.296875 \nQ 58.015625 14.40625 51.78125 6.484375 \nQ 45.5625 -1.421875 35.59375 -1.421875 \nQ 29.59375 -1.421875 25.265625 0.953125 \nQ 20.953125 3.328125 18.109375 8.203125 \nz\nM 48.6875 27.296875 \nQ 48.6875 37.203125 44.609375 42.84375 \nQ 40.53125 48.484375 33.40625 48.484375 \nQ 26.265625 48.484375 22.1875 42.84375 \nQ 18.109375 37.203125 18.109375 27.296875 \nQ 18.109375 17.390625 22.1875 11.75 \nQ 26.265625 6.109375 33.40625 6.109375 \nQ 40.53125 6.109375 44.609375 11.75 \nQ 48.6875 17.390625 48.6875 27.296875 \nz\n\" id=\"DejaVuSans-112\"/>\n     </defs>\n     <use xlink:href=\"#DejaVuSans-77\"/>\n     <use x=\"86.279297\" xlink:href=\"#DejaVuSans-111\"/>\n     <use x=\"147.460938\" xlink:href=\"#DejaVuSans-115\"/>\n     <use x=\"199.560547\" xlink:href=\"#DejaVuSans-116\"/>\n     <use x=\"238.769531\" xlink:href=\"#DejaVuSans-32\"/>\n     <use x=\"270.556641\" xlink:href=\"#DejaVuSans-80\"/>\n     <use x=\"327.234375\" xlink:href=\"#DejaVuSans-111\"/>\n     <use x=\"388.416016\" xlink:href=\"#DejaVuSans-112\"/>\n     <use x=\"451.892578\" xlink:href=\"#DejaVuSans-117\"/>\n     <use x=\"515.271484\" xlink:href=\"#DejaVuSans-108\"/>\n     <use x=\"543.054688\" xlink:href=\"#DejaVuSans-97\"/>\n     <use x=\"604.333984\" xlink:href=\"#DejaVuSans-114\"/>\n     <use x=\"645.447266\" xlink:href=\"#DejaVuSans-32\"/>\n     <use x=\"677.234375\" xlink:href=\"#DejaVuSans-68\"/>\n     <use x=\"754.236328\" xlink:href=\"#DejaVuSans-97\"/>\n     <use x=\"815.515625\" xlink:href=\"#DejaVuSans-121\"/>\n     <use x=\"874.695312\" xlink:href=\"#DejaVuSans-115\"/>\n     <use x=\"926.794922\" xlink:href=\"#DejaVuSans-32\"/>\n     <use x=\"958.582031\" xlink:href=\"#DejaVuSans-111\"/>\n     <use x=\"1019.763672\" xlink:href=\"#DejaVuSans-102\"/>\n     <use x=\"1054.96875\" xlink:href=\"#DejaVuSans-32\"/>\n     <use x=\"1086.755859\" xlink:href=\"#DejaVuSans-116\"/>\n     <use x=\"1125.964844\" xlink:href=\"#DejaVuSans-104\"/>\n     <use x=\"1189.34375\" xlink:href=\"#DejaVuSans-101\"/>\n     <use x=\"1250.867188\" xlink:href=\"#DejaVuSans-32\"/>\n     <use x=\"1282.654297\" xlink:href=\"#DejaVuSans-87\"/>\n     <use x=\"1375.65625\" xlink:href=\"#DejaVuSans-101\"/>\n     <use x=\"1437.179688\" xlink:href=\"#DejaVuSans-101\"/>\n     <use x=\"1498.703125\" xlink:href=\"#DejaVuSans-107\"/>\n    </g>\n   </g>\n  </g>\n </g>\n <defs>\n  <clipPath id=\"p1b2886cd6d\">\n   <rect height=\"217.44\" width=\"334.8\" x=\"67.98875\" y=\"25.3575\"/>\n  </clipPath>\n </defs>\n</svg>\n",
      "image/png": "[encoded data removed]"
     },
     "metadata": {
      "needs_background": "light"
     }
    }
   ],
   "source": [
    "ax = df_all['weekday'].value_counts().plot(kind=\"bar\")\n",
    "plt.xlabel('Days of the week', fontsize=12)\n",
    "plt.ylabel('Number of rentals', fontsize=12)\n",
    "\n",
    "plt.title('Most Popular Days of the Week', fontsize=16)\n",
    "ax.set_xticklabels(['Saturday','Friday','Sunday','Wednesday','Tuesday','Thursday','Monday'], rotation=50);"
   ]
  },
  {
   "source": [
    "The most popular days of the week for the riders are Saturday, Frdiay, Sunday, Wednesday, Tuesday, Thursday and not surprisingly, Monday comes the last.\n",
    "\n",
    "Next, I will check the most popular months of the year."
   ],
   "cell_type": "markdown",
   "metadata": {}
  },
  {
   "cell_type": "code",
   "execution_count": 310,
   "metadata": {},
   "outputs": [
    {
     "output_type": "execute_result",
     "data": {
      "text/plain": [
       "September    307853\n",
       "August       289033\n",
       "July         259726\n",
       "October      248424\n",
       "June         191843\n",
       "November     161712\n",
       "February     133235\n",
       "January      128598\n",
       "May          124879\n",
       "March        107350\n",
       "December      74002\n",
       "April         46793\n",
       "Name: month, dtype: int64"
      ]
     },
     "metadata": {},
     "execution_count": 310
    }
   ],
   "source": [
    "# assess month's column 12 most frequent values in descending order\n",
    "df_all['month'].value_counts().sort_values(ascending=False)"
   ]
  },
  {
   "cell_type": "code",
   "execution_count": 326,
   "metadata": {},
   "outputs": [
    {
     "output_type": "display_data",
     "data": {
      "text/plain": "<Figure size 432x288 with 1 Axes>",
      "image/svg+xml": "<?xml version=\"1.0\" encoding=\"utf-8\" standalone=\"no\"?>\n<!DOCTYPE svg PUBLIC \"-//W3C//DTD SVG 1.1//EN\"\n  \"http://www.w3.org/Graphics/SVG/1.1/DTD/svg11.dtd\">\n<!-- Created with matplotlib (https://matplotlib.org/) -->\n<svg height=\"327.887813pt\" version=\"1.1\" viewBox=\"0 0 409.98875 327.887813\" width=\"409.98875pt\" xmlns=\"http://www.w3.org/2000/svg\" xmlns:xlink=\"http://www.w3.org/1999/xlink\">\n <metadata>\n  <rdf:RDF xmlns:cc=\"http://creativecommons.org/ns#\" xmlns:dc=\"http://purl.org/dc/elements/1.1/\" xmlns:rdf=\"http://www.w3.org/1999/02/22-rdf-syntax-ns#\">\n   <cc:Work>\n    <dc:type rdf:resource=\"http://purl.org/dc/dcmitype/StillImage\"/>\n    <dc:date>2021-02-10T11:15:54.096695</dc:date>\n    <dc:format>image/svg+xml</dc:format>\n    <dc:creator>\n     <cc:Agent>\n      <dc:title>Matplotlib v3.3.1, https://matplotlib.org/</dc:title>\n     </cc:Agent>\n    </dc:creator>\n   </cc:Work>\n  </rdf:RDF>\n </metadata>\n <defs>\n  <style type=\"text/css\">*{stroke-linecap:butt;stroke-linejoin:round;}</style>\n </defs>\n <g id=\"figure_1\">\n  <g id=\"patch_1\">\n   <path d=\"M -0 327.887813 \nL 409.98875 327.887813 \nL 409.98875 0 \nL -0 0 \nz\n\" style=\"fill:none;\"/>\n  </g>\n  <g id=\"axes_1\">\n   <g id=\"patch_2\">\n    <path d=\"M 67.98875 242.7975 \nL 402.78875 242.7975 \nL 402.78875 25.3575 \nL 67.98875 25.3575 \nz\n\" style=\"fill:#ffffff;\"/>\n   </g>\n   <g id=\"patch_3\">\n    <path clip-path=\"url(#p208a3de92a)\" d=\"M 74.96375 242.7975 \nL 88.91375 242.7975 \nL 88.91375 35.711786 \nL 74.96375 35.711786 \nz\n\" style=\"fill:#1f77b4;\"/>\n   </g>\n   <g id=\"patch_4\">\n    <path clip-path=\"url(#p208a3de92a)\" d=\"M 102.86375 242.7975 \nL 116.81375 242.7975 \nL 116.81375 48.371572 \nL 102.86375 48.371572 \nz\n\" style=\"fill:#1f77b4;\"/>\n   </g>\n   <g id=\"patch_5\">\n    <path clip-path=\"url(#p208a3de92a)\" d=\"M 130.76375 242.7975 \nL 144.71375 242.7975 \nL 144.71375 68.085724 \nL 130.76375 68.085724 \nz\n\" style=\"fill:#1f77b4;\"/>\n   </g>\n   <g id=\"patch_6\">\n    <path clip-path=\"url(#p208a3de92a)\" d=\"M 158.66375 242.7975 \nL 172.61375 242.7975 \nL 172.61375 75.688323 \nL 158.66375 75.688323 \nz\n\" style=\"fill:#1f77b4;\"/>\n   </g>\n   <g id=\"patch_7\">\n    <path clip-path=\"url(#p208a3de92a)\" d=\"M 186.56375 242.7975 \nL 200.51375 242.7975 \nL 200.51375 113.749075 \nL 186.56375 113.749075 \nz\n\" style=\"fill:#1f77b4;\"/>\n   </g>\n   <g id=\"patch_8\">\n    <path clip-path=\"url(#p208a3de92a)\" d=\"M 214.46375 242.7975 \nL 228.41375 242.7975 \nL 228.41375 134.017514 \nL 214.46375 134.017514 \nz\n\" style=\"fill:#1f77b4;\"/>\n   </g>\n   <g id=\"patch_9\">\n    <path clip-path=\"url(#p208a3de92a)\" d=\"M 242.36375 242.7975 \nL 256.31375 242.7975 \nL 256.31375 153.173345 \nL 242.36375 153.173345 \nz\n\" style=\"fill:#1f77b4;\"/>\n   </g>\n   <g id=\"patch_10\">\n    <path clip-path=\"url(#p208a3de92a)\" d=\"M 270.26375 242.7975 \nL 284.21375 242.7975 \nL 284.21375 156.292549 \nL 270.26375 156.292549 \nz\n\" style=\"fill:#1f77b4;\"/>\n   </g>\n   <g id=\"patch_11\">\n    <path clip-path=\"url(#p208a3de92a)\" d=\"M 298.16375 242.7975 \nL 312.11375 242.7975 \nL 312.11375 158.794236 \nL 298.16375 158.794236 \nz\n\" style=\"fill:#1f77b4;\"/>\n   </g>\n   <g id=\"patch_12\">\n    <path clip-path=\"url(#p208a3de92a)\" d=\"M 326.06375 242.7975 \nL 340.01375 242.7975 \nL 340.01375 170.585596 \nL 326.06375 170.585596 \nz\n\" style=\"fill:#1f77b4;\"/>\n   </g>\n   <g id=\"patch_13\">\n    <path clip-path=\"url(#p208a3de92a)\" d=\"M 353.96375 242.7975 \nL 367.91375 242.7975 \nL 367.91375 193.018037 \nL 353.96375 193.018037 \nz\n\" style=\"fill:#1f77b4;\"/>\n   </g>\n   <g id=\"patch_14\">\n    <path clip-path=\"url(#p208a3de92a)\" d=\"M 381.86375 242.7975 \nL 395.81375 242.7975 \nL 395.81375 211.320913 \nL 381.86375 211.320913 \nz\n\" style=\"fill:#1f77b4;\"/>\n   </g>\n   <g id=\"matplotlib.axis_1\">\n    <g id=\"xtick_1\">\n     <g id=\"line2d_1\">\n      <defs>\n       <path d=\"M 0 0 \nL 0 3.5 \n\" id=\"mc4d1bc8409\" style=\"stroke:#000000;stroke-width:0.8;\"/>\n      </defs>\n      <g>\n       <use style=\"stroke:#000000;stroke-width:0.8;\" x=\"81.93875\" xlink:href=\"#mc4d1bc8409\" y=\"242.7975\"/>\n      </g>\n     </g>\n     <g id=\"text_1\">\n      <!-- September -->\n      <g transform=\"translate(84.698125 305.074063)rotate(-90)scale(0.1 -0.1)\">\n       <defs>\n        <path d=\"M 53.515625 70.515625 \nL 53.515625 60.890625 \nQ 47.90625 63.578125 42.921875 64.890625 \nQ 37.9375 66.21875 33.296875 66.21875 \nQ 25.25 66.21875 20.875 63.09375 \nQ 16.5 59.96875 16.5 54.203125 \nQ 16.5 49.359375 19.40625 46.890625 \nQ 22.3125 44.4375 30.421875 42.921875 \nL 36.375 41.703125 \nQ 47.40625 39.59375 52.65625 34.296875 \nQ 57.90625 29 57.90625 20.125 \nQ 57.90625 9.515625 50.796875 4.046875 \nQ 43.703125 -1.421875 29.984375 -1.421875 \nQ 24.8125 -1.421875 18.96875 -0.25 \nQ 13.140625 0.921875 6.890625 3.21875 \nL 6.890625 13.375 \nQ 12.890625 10.015625 18.65625 8.296875 \nQ 24.421875 6.59375 29.984375 6.59375 \nQ 38.421875 6.59375 43.015625 9.90625 \nQ 47.609375 13.234375 47.609375 19.390625 \nQ 47.609375 24.75 44.3125 27.78125 \nQ 41.015625 30.8125 33.5 32.328125 \nL 27.484375 33.5 \nQ 16.453125 35.6875 11.515625 40.375 \nQ 6.59375 45.0625 6.59375 53.421875 \nQ 6.59375 63.09375 13.40625 68.65625 \nQ 20.21875 74.21875 32.171875 74.21875 \nQ 37.3125 74.21875 42.625 73.28125 \nQ 47.953125 72.359375 53.515625 70.515625 \nz\n\" id=\"DejaVuSans-83\"/>\n        <path d=\"M 56.203125 29.59375 \nL 56.203125 25.203125 \nL 14.890625 25.203125 \nQ 15.484375 15.921875 20.484375 11.0625 \nQ 25.484375 6.203125 34.421875 6.203125 \nQ 39.59375 6.203125 44.453125 7.46875 \nQ 49.3125 8.734375 54.109375 11.28125 \nL 54.109375 2.78125 \nQ 49.265625 0.734375 44.1875 -0.34375 \nQ 39.109375 -1.421875 33.890625 -1.421875 \nQ 20.796875 -1.421875 13.15625 6.1875 \nQ 5.515625 13.8125 5.515625 26.8125 \nQ 5.515625 40.234375 12.765625 48.109375 \nQ 20.015625 56 32.328125 56 \nQ 43.359375 56 49.78125 48.890625 \nQ 56.203125 41.796875 56.203125 29.59375 \nz\nM 47.21875 32.234375 \nQ 47.125 39.59375 43.09375 43.984375 \nQ 39.0625 48.390625 32.421875 48.390625 \nQ 24.90625 48.390625 20.390625 44.140625 \nQ 15.875 39.890625 15.1875 32.171875 \nz\n\" id=\"DejaVuSans-101\"/>\n        <path d=\"M 18.109375 8.203125 \nL 18.109375 -20.796875 \nL 9.078125 -20.796875 \nL 9.078125 54.6875 \nL 18.109375 54.6875 \nL 18.109375 46.390625 \nQ 20.953125 51.265625 25.265625 53.625 \nQ 29.59375 56 35.59375 56 \nQ 45.5625 56 51.78125 48.09375 \nQ 58.015625 40.1875 58.015625 27.296875 \nQ 58.015625 14.40625 51.78125 6.484375 \nQ 45.5625 -1.421875 35.59375 -1.421875 \nQ 29.59375 -1.421875 25.265625 0.953125 \nQ 20.953125 3.328125 18.109375 8.203125 \nz\nM 48.6875 27.296875 \nQ 48.6875 37.203125 44.609375 42.84375 \nQ 40.53125 48.484375 33.40625 48.484375 \nQ 26.265625 48.484375 22.1875 42.84375 \nQ 18.109375 37.203125 18.109375 27.296875 \nQ 18.109375 17.390625 22.1875 11.75 \nQ 26.265625 6.109375 33.40625 6.109375 \nQ 40.53125 6.109375 44.609375 11.75 \nQ 48.6875 17.390625 48.6875 27.296875 \nz\n\" id=\"DejaVuSans-112\"/>\n        <path d=\"M 18.3125 70.21875 \nL 18.3125 54.6875 \nL 36.8125 54.6875 \nL 36.8125 47.703125 \nL 18.3125 47.703125 \nL 18.3125 18.015625 \nQ 18.3125 11.328125 20.140625 9.421875 \nQ 21.96875 7.515625 27.59375 7.515625 \nL 36.8125 7.515625 \nL 36.8125 0 \nL 27.59375 0 \nQ 17.1875 0 13.234375 3.875 \nQ 9.28125 7.765625 9.28125 18.015625 \nL 9.28125 47.703125 \nL 2.6875 47.703125 \nL 2.6875 54.6875 \nL 9.28125 54.6875 \nL 9.28125 70.21875 \nz\n\" id=\"DejaVuSans-116\"/>\n        <path d=\"M 52 44.1875 \nQ 55.375 50.25 60.0625 53.125 \nQ 64.75 56 71.09375 56 \nQ 79.640625 56 84.28125 50.015625 \nQ 88.921875 44.046875 88.921875 33.015625 \nL 88.921875 0 \nL 79.890625 0 \nL 79.890625 32.71875 \nQ 79.890625 40.578125 77.09375 44.375 \nQ 74.3125 48.1875 68.609375 48.1875 \nQ 61.625 48.1875 57.5625 43.546875 \nQ 53.515625 38.921875 53.515625 30.90625 \nL 53.515625 0 \nL 44.484375 0 \nL 44.484375 32.71875 \nQ 44.484375 40.625 41.703125 44.40625 \nQ 38.921875 48.1875 33.109375 48.1875 \nQ 26.21875 48.1875 22.15625 43.53125 \nQ 18.109375 38.875 18.109375 30.90625 \nL 18.109375 0 \nL 9.078125 0 \nL 9.078125 54.6875 \nL 18.109375 54.6875 \nL 18.109375 46.1875 \nQ 21.1875 51.21875 25.484375 53.609375 \nQ 29.78125 56 35.6875 56 \nQ 41.65625 56 45.828125 52.96875 \nQ 50 49.953125 52 44.1875 \nz\n\" id=\"DejaVuSans-109\"/>\n        <path d=\"M 48.6875 27.296875 \nQ 48.6875 37.203125 44.609375 42.84375 \nQ 40.53125 48.484375 33.40625 48.484375 \nQ 26.265625 48.484375 22.1875 42.84375 \nQ 18.109375 37.203125 18.109375 27.296875 \nQ 18.109375 17.390625 22.1875 11.75 \nQ 26.265625 6.109375 33.40625 6.109375 \nQ 40.53125 6.109375 44.609375 11.75 \nQ 48.6875 17.390625 48.6875 27.296875 \nz\nM 18.109375 46.390625 \nQ 20.953125 51.265625 25.265625 53.625 \nQ 29.59375 56 35.59375 56 \nQ 45.5625 56 51.78125 48.09375 \nQ 58.015625 40.1875 58.015625 27.296875 \nQ 58.015625 14.40625 51.78125 6.484375 \nQ 45.5625 -1.421875 35.59375 -1.421875 \nQ 29.59375 -1.421875 25.265625 0.953125 \nQ 20.953125 3.328125 18.109375 8.203125 \nL 18.109375 0 \nL 9.078125 0 \nL 9.078125 75.984375 \nL 18.109375 75.984375 \nz\n\" id=\"DejaVuSans-98\"/>\n        <path d=\"M 41.109375 46.296875 \nQ 39.59375 47.171875 37.8125 47.578125 \nQ 36.03125 48 33.890625 48 \nQ 26.265625 48 22.1875 43.046875 \nQ 18.109375 38.09375 18.109375 28.8125 \nL 18.109375 0 \nL 9.078125 0 \nL 9.078125 54.6875 \nL 18.109375 54.6875 \nL 18.109375 46.1875 \nQ 20.953125 51.171875 25.484375 53.578125 \nQ 30.03125 56 36.53125 56 \nQ 37.453125 56 38.578125 55.875 \nQ 39.703125 55.765625 41.0625 55.515625 \nz\n\" id=\"DejaVuSans-114\"/>\n       </defs>\n       <use xlink:href=\"#DejaVuSans-83\"/>\n       <use x=\"63.476562\" xlink:href=\"#DejaVuSans-101\"/>\n       <use x=\"125\" xlink:href=\"#DejaVuSans-112\"/>\n       <use x=\"188.476562\" xlink:href=\"#DejaVuSans-116\"/>\n       <use x=\"227.685547\" xlink:href=\"#DejaVuSans-101\"/>\n       <use x=\"289.208984\" xlink:href=\"#DejaVuSans-109\"/>\n       <use x=\"386.621094\" xlink:href=\"#DejaVuSans-98\"/>\n       <use x=\"450.097656\" xlink:href=\"#DejaVuSans-101\"/>\n       <use x=\"511.621094\" xlink:href=\"#DejaVuSans-114\"/>\n      </g>\n     </g>\n    </g>\n    <g id=\"xtick_2\">\n     <g id=\"line2d_2\">\n      <g>\n       <use style=\"stroke:#000000;stroke-width:0.8;\" x=\"109.83875\" xlink:href=\"#mc4d1bc8409\" y=\"242.7975\"/>\n      </g>\n     </g>\n     <g id=\"text_2\">\n      <!-- August -->\n      <g transform=\"translate(112.598125 284.79125)rotate(-90)scale(0.1 -0.1)\">\n       <defs>\n        <path d=\"M 34.1875 63.1875 \nL 20.796875 26.90625 \nL 47.609375 26.90625 \nz\nM 28.609375 72.90625 \nL 39.796875 72.90625 \nL 67.578125 0 \nL 57.328125 0 \nL 50.6875 18.703125 \nL 17.828125 18.703125 \nL 11.1875 0 \nL 0.78125 0 \nz\n\" id=\"DejaVuSans-65\"/>\n        <path d=\"M 8.5 21.578125 \nL 8.5 54.6875 \nL 17.484375 54.6875 \nL 17.484375 21.921875 \nQ 17.484375 14.15625 20.5 10.265625 \nQ 23.53125 6.390625 29.59375 6.390625 \nQ 36.859375 6.390625 41.078125 11.03125 \nQ 45.3125 15.671875 45.3125 23.6875 \nL 45.3125 54.6875 \nL 54.296875 54.6875 \nL 54.296875 0 \nL 45.3125 0 \nL 45.3125 8.40625 \nQ 42.046875 3.421875 37.71875 1 \nQ 33.40625 -1.421875 27.6875 -1.421875 \nQ 18.265625 -1.421875 13.375 4.4375 \nQ 8.5 10.296875 8.5 21.578125 \nz\nM 31.109375 56 \nz\n\" id=\"DejaVuSans-117\"/>\n        <path d=\"M 45.40625 27.984375 \nQ 45.40625 37.75 41.375 43.109375 \nQ 37.359375 48.484375 30.078125 48.484375 \nQ 22.859375 48.484375 18.828125 43.109375 \nQ 14.796875 37.75 14.796875 27.984375 \nQ 14.796875 18.265625 18.828125 12.890625 \nQ 22.859375 7.515625 30.078125 7.515625 \nQ 37.359375 7.515625 41.375 12.890625 \nQ 45.40625 18.265625 45.40625 27.984375 \nz\nM 54.390625 6.78125 \nQ 54.390625 -7.171875 48.1875 -13.984375 \nQ 42 -20.796875 29.203125 -20.796875 \nQ 24.46875 -20.796875 20.265625 -20.09375 \nQ 16.0625 -19.390625 12.109375 -17.921875 \nL 12.109375 -9.1875 \nQ 16.0625 -11.328125 19.921875 -12.34375 \nQ 23.78125 -13.375 27.78125 -13.375 \nQ 36.625 -13.375 41.015625 -8.765625 \nQ 45.40625 -4.15625 45.40625 5.171875 \nL 45.40625 9.625 \nQ 42.625 4.78125 38.28125 2.390625 \nQ 33.9375 0 27.875 0 \nQ 17.828125 0 11.671875 7.65625 \nQ 5.515625 15.328125 5.515625 27.984375 \nQ 5.515625 40.671875 11.671875 48.328125 \nQ 17.828125 56 27.875 56 \nQ 33.9375 56 38.28125 53.609375 \nQ 42.625 51.21875 45.40625 46.390625 \nL 45.40625 54.6875 \nL 54.390625 54.6875 \nz\n\" id=\"DejaVuSans-103\"/>\n        <path d=\"M 44.28125 53.078125 \nL 44.28125 44.578125 \nQ 40.484375 46.53125 36.375 47.5 \nQ 32.28125 48.484375 27.875 48.484375 \nQ 21.1875 48.484375 17.84375 46.4375 \nQ 14.5 44.390625 14.5 40.28125 \nQ 14.5 37.15625 16.890625 35.375 \nQ 19.28125 33.59375 26.515625 31.984375 \nL 29.59375 31.296875 \nQ 39.15625 29.25 43.1875 25.515625 \nQ 47.21875 21.78125 47.21875 15.09375 \nQ 47.21875 7.46875 41.1875 3.015625 \nQ 35.15625 -1.421875 24.609375 -1.421875 \nQ 20.21875 -1.421875 15.453125 -0.5625 \nQ 10.6875 0.296875 5.421875 2 \nL 5.421875 11.28125 \nQ 10.40625 8.6875 15.234375 7.390625 \nQ 20.0625 6.109375 24.8125 6.109375 \nQ 31.15625 6.109375 34.5625 8.28125 \nQ 37.984375 10.453125 37.984375 14.40625 \nQ 37.984375 18.0625 35.515625 20.015625 \nQ 33.0625 21.96875 24.703125 23.78125 \nL 21.578125 24.515625 \nQ 13.234375 26.265625 9.515625 29.90625 \nQ 5.8125 33.546875 5.8125 39.890625 \nQ 5.8125 47.609375 11.28125 51.796875 \nQ 16.75 56 26.8125 56 \nQ 31.78125 56 36.171875 55.265625 \nQ 40.578125 54.546875 44.28125 53.078125 \nz\n\" id=\"DejaVuSans-115\"/>\n       </defs>\n       <use xlink:href=\"#DejaVuSans-65\"/>\n       <use x=\"68.408203\" xlink:href=\"#DejaVuSans-117\"/>\n       <use x=\"131.787109\" xlink:href=\"#DejaVuSans-103\"/>\n       <use x=\"195.263672\" xlink:href=\"#DejaVuSans-117\"/>\n       <use x=\"258.642578\" xlink:href=\"#DejaVuSans-115\"/>\n       <use x=\"310.742188\" xlink:href=\"#DejaVuSans-116\"/>\n      </g>\n     </g>\n    </g>\n    <g id=\"xtick_3\">\n     <g id=\"line2d_3\">\n      <g>\n       <use style=\"stroke:#000000;stroke-width:0.8;\" x=\"137.73875\" xlink:href=\"#mc4d1bc8409\" y=\"242.7975\"/>\n      </g>\n     </g>\n     <g id=\"text_3\">\n      <!-- July -->\n      <g transform=\"translate(140.498125 267.781875)rotate(-90)scale(0.1 -0.1)\">\n       <defs>\n        <path d=\"M 9.8125 72.90625 \nL 19.671875 72.90625 \nL 19.671875 5.078125 \nQ 19.671875 -8.109375 14.671875 -14.0625 \nQ 9.671875 -20.015625 -1.421875 -20.015625 \nL -5.171875 -20.015625 \nL -5.171875 -11.71875 \nL -2.09375 -11.71875 \nQ 4.4375 -11.71875 7.125 -8.046875 \nQ 9.8125 -4.390625 9.8125 5.078125 \nz\n\" id=\"DejaVuSans-74\"/>\n        <path d=\"M 9.421875 75.984375 \nL 18.40625 75.984375 \nL 18.40625 0 \nL 9.421875 0 \nz\n\" id=\"DejaVuSans-108\"/>\n        <path d=\"M 32.171875 -5.078125 \nQ 28.375 -14.84375 24.75 -17.8125 \nQ 21.140625 -20.796875 15.09375 -20.796875 \nL 7.90625 -20.796875 \nL 7.90625 -13.28125 \nL 13.1875 -13.28125 \nQ 16.890625 -13.28125 18.9375 -11.515625 \nQ 21 -9.765625 23.484375 -3.21875 \nL 25.09375 0.875 \nL 2.984375 54.6875 \nL 12.5 54.6875 \nL 29.59375 11.921875 \nL 46.6875 54.6875 \nL 56.203125 54.6875 \nz\n\" id=\"DejaVuSans-121\"/>\n       </defs>\n       <use xlink:href=\"#DejaVuSans-74\"/>\n       <use x=\"29.492188\" xlink:href=\"#DejaVuSans-117\"/>\n       <use x=\"92.871094\" xlink:href=\"#DejaVuSans-108\"/>\n       <use x=\"120.654297\" xlink:href=\"#DejaVuSans-121\"/>\n      </g>\n     </g>\n    </g>\n    <g id=\"xtick_4\">\n     <g id=\"line2d_4\">\n      <g>\n       <use style=\"stroke:#000000;stroke-width:0.8;\" x=\"165.63875\" xlink:href=\"#mc4d1bc8409\" y=\"242.7975\"/>\n      </g>\n     </g>\n     <g id=\"text_4\">\n      <!-- October -->\n      <g transform=\"translate(168.398125 289.819375)rotate(-90)scale(0.1 -0.1)\">\n       <defs>\n        <path d=\"M 39.40625 66.21875 \nQ 28.65625 66.21875 22.328125 58.203125 \nQ 16.015625 50.203125 16.015625 36.375 \nQ 16.015625 22.609375 22.328125 14.59375 \nQ 28.65625 6.59375 39.40625 6.59375 \nQ 50.140625 6.59375 56.421875 14.59375 \nQ 62.703125 22.609375 62.703125 36.375 \nQ 62.703125 50.203125 56.421875 58.203125 \nQ 50.140625 66.21875 39.40625 66.21875 \nz\nM 39.40625 74.21875 \nQ 54.734375 74.21875 63.90625 63.9375 \nQ 73.09375 53.65625 73.09375 36.375 \nQ 73.09375 19.140625 63.90625 8.859375 \nQ 54.734375 -1.421875 39.40625 -1.421875 \nQ 24.03125 -1.421875 14.8125 8.828125 \nQ 5.609375 19.09375 5.609375 36.375 \nQ 5.609375 53.65625 14.8125 63.9375 \nQ 24.03125 74.21875 39.40625 74.21875 \nz\n\" id=\"DejaVuSans-79\"/>\n        <path d=\"M 48.78125 52.59375 \nL 48.78125 44.1875 \nQ 44.96875 46.296875 41.140625 47.34375 \nQ 37.3125 48.390625 33.40625 48.390625 \nQ 24.65625 48.390625 19.8125 42.84375 \nQ 14.984375 37.3125 14.984375 27.296875 \nQ 14.984375 17.28125 19.8125 11.734375 \nQ 24.65625 6.203125 33.40625 6.203125 \nQ 37.3125 6.203125 41.140625 7.25 \nQ 44.96875 8.296875 48.78125 10.40625 \nL 48.78125 2.09375 \nQ 45.015625 0.34375 40.984375 -0.53125 \nQ 36.96875 -1.421875 32.421875 -1.421875 \nQ 20.0625 -1.421875 12.78125 6.34375 \nQ 5.515625 14.109375 5.515625 27.296875 \nQ 5.515625 40.671875 12.859375 48.328125 \nQ 20.21875 56 33.015625 56 \nQ 37.15625 56 41.109375 55.140625 \nQ 45.0625 54.296875 48.78125 52.59375 \nz\n\" id=\"DejaVuSans-99\"/>\n        <path d=\"M 30.609375 48.390625 \nQ 23.390625 48.390625 19.1875 42.75 \nQ 14.984375 37.109375 14.984375 27.296875 \nQ 14.984375 17.484375 19.15625 11.84375 \nQ 23.34375 6.203125 30.609375 6.203125 \nQ 37.796875 6.203125 41.984375 11.859375 \nQ 46.1875 17.53125 46.1875 27.296875 \nQ 46.1875 37.015625 41.984375 42.703125 \nQ 37.796875 48.390625 30.609375 48.390625 \nz\nM 30.609375 56 \nQ 42.328125 56 49.015625 48.375 \nQ 55.71875 40.765625 55.71875 27.296875 \nQ 55.71875 13.875 49.015625 6.21875 \nQ 42.328125 -1.421875 30.609375 -1.421875 \nQ 18.84375 -1.421875 12.171875 6.21875 \nQ 5.515625 13.875 5.515625 27.296875 \nQ 5.515625 40.765625 12.171875 48.375 \nQ 18.84375 56 30.609375 56 \nz\n\" id=\"DejaVuSans-111\"/>\n       </defs>\n       <use xlink:href=\"#DejaVuSans-79\"/>\n       <use x=\"78.710938\" xlink:href=\"#DejaVuSans-99\"/>\n       <use x=\"133.691406\" xlink:href=\"#DejaVuSans-116\"/>\n       <use x=\"172.900391\" xlink:href=\"#DejaVuSans-111\"/>\n       <use x=\"234.082031\" xlink:href=\"#DejaVuSans-98\"/>\n       <use x=\"297.558594\" xlink:href=\"#DejaVuSans-101\"/>\n       <use x=\"359.082031\" xlink:href=\"#DejaVuSans-114\"/>\n      </g>\n     </g>\n    </g>\n    <g id=\"xtick_5\">\n     <g id=\"line2d_5\">\n      <g>\n       <use style=\"stroke:#000000;stroke-width:0.8;\" x=\"193.53875\" xlink:href=\"#mc4d1bc8409\" y=\"242.7975\"/>\n      </g>\n     </g>\n     <g id=\"text_5\">\n      <!-- June -->\n      <g transform=\"translate(196.298125 271.575625)rotate(-90)scale(0.1 -0.1)\">\n       <defs>\n        <path d=\"M 54.890625 33.015625 \nL 54.890625 0 \nL 45.90625 0 \nL 45.90625 32.71875 \nQ 45.90625 40.484375 42.875 44.328125 \nQ 39.84375 48.1875 33.796875 48.1875 \nQ 26.515625 48.1875 22.3125 43.546875 \nQ 18.109375 38.921875 18.109375 30.90625 \nL 18.109375 0 \nL 9.078125 0 \nL 9.078125 54.6875 \nL 18.109375 54.6875 \nL 18.109375 46.1875 \nQ 21.34375 51.125 25.703125 53.5625 \nQ 30.078125 56 35.796875 56 \nQ 45.21875 56 50.046875 50.171875 \nQ 54.890625 44.34375 54.890625 33.015625 \nz\n\" id=\"DejaVuSans-110\"/>\n       </defs>\n       <use xlink:href=\"#DejaVuSans-74\"/>\n       <use x=\"29.492188\" xlink:href=\"#DejaVuSans-117\"/>\n       <use x=\"92.871094\" xlink:href=\"#DejaVuSans-110\"/>\n       <use x=\"156.25\" xlink:href=\"#DejaVuSans-101\"/>\n      </g>\n     </g>\n    </g>\n    <g id=\"xtick_6\">\n     <g id=\"line2d_6\">\n      <g>\n       <use style=\"stroke:#000000;stroke-width:0.8;\" x=\"221.43875\" xlink:href=\"#mc4d1bc8409\" y=\"242.7975\"/>\n      </g>\n     </g>\n     <g id=\"text_6\">\n      <!-- November -->\n      <g transform=\"translate(224.198125 301.8225)rotate(-90)scale(0.1 -0.1)\">\n       <defs>\n        <path d=\"M 9.8125 72.90625 \nL 23.09375 72.90625 \nL 55.421875 11.921875 \nL 55.421875 72.90625 \nL 64.984375 72.90625 \nL 64.984375 0 \nL 51.703125 0 \nL 19.390625 60.984375 \nL 19.390625 0 \nL 9.8125 0 \nz\n\" id=\"DejaVuSans-78\"/>\n        <path d=\"M 2.984375 54.6875 \nL 12.5 54.6875 \nL 29.59375 8.796875 \nL 46.6875 54.6875 \nL 56.203125 54.6875 \nL 35.6875 0 \nL 23.484375 0 \nz\n\" id=\"DejaVuSans-118\"/>\n       </defs>\n       <use xlink:href=\"#DejaVuSans-78\"/>\n       <use x=\"74.804688\" xlink:href=\"#DejaVuSans-111\"/>\n       <use x=\"135.986328\" xlink:href=\"#DejaVuSans-118\"/>\n       <use x=\"195.166016\" xlink:href=\"#DejaVuSans-101\"/>\n       <use x=\"256.689453\" xlink:href=\"#DejaVuSans-109\"/>\n       <use x=\"354.101562\" xlink:href=\"#DejaVuSans-98\"/>\n       <use x=\"417.578125\" xlink:href=\"#DejaVuSans-101\"/>\n       <use x=\"479.101562\" xlink:href=\"#DejaVuSans-114\"/>\n      </g>\n     </g>\n    </g>\n    <g id=\"xtick_7\">\n     <g id=\"line2d_7\">\n      <g>\n       <use style=\"stroke:#000000;stroke-width:0.8;\" x=\"249.33875\" xlink:href=\"#mc4d1bc8409\" y=\"242.7975\"/>\n      </g>\n     </g>\n     <g id=\"text_7\">\n      <!-- February -->\n      <g transform=\"translate(252.098125 294.106875)rotate(-90)scale(0.1 -0.1)\">\n       <defs>\n        <path d=\"M 9.8125 72.90625 \nL 51.703125 72.90625 \nL 51.703125 64.59375 \nL 19.671875 64.59375 \nL 19.671875 43.109375 \nL 48.578125 43.109375 \nL 48.578125 34.8125 \nL 19.671875 34.8125 \nL 19.671875 0 \nL 9.8125 0 \nz\n\" id=\"DejaVuSans-70\"/>\n        <path d=\"M 34.28125 27.484375 \nQ 23.390625 27.484375 19.1875 25 \nQ 14.984375 22.515625 14.984375 16.5 \nQ 14.984375 11.71875 18.140625 8.90625 \nQ 21.296875 6.109375 26.703125 6.109375 \nQ 34.1875 6.109375 38.703125 11.40625 \nQ 43.21875 16.703125 43.21875 25.484375 \nL 43.21875 27.484375 \nz\nM 52.203125 31.203125 \nL 52.203125 0 \nL 43.21875 0 \nL 43.21875 8.296875 \nQ 40.140625 3.328125 35.546875 0.953125 \nQ 30.953125 -1.421875 24.3125 -1.421875 \nQ 15.921875 -1.421875 10.953125 3.296875 \nQ 6 8.015625 6 15.921875 \nQ 6 25.140625 12.171875 29.828125 \nQ 18.359375 34.515625 30.609375 34.515625 \nL 43.21875 34.515625 \nL 43.21875 35.40625 \nQ 43.21875 41.609375 39.140625 45 \nQ 35.0625 48.390625 27.6875 48.390625 \nQ 23 48.390625 18.546875 47.265625 \nQ 14.109375 46.140625 10.015625 43.890625 \nL 10.015625 52.203125 \nQ 14.9375 54.109375 19.578125 55.046875 \nQ 24.21875 56 28.609375 56 \nQ 40.484375 56 46.34375 49.84375 \nQ 52.203125 43.703125 52.203125 31.203125 \nz\n\" id=\"DejaVuSans-97\"/>\n       </defs>\n       <use xlink:href=\"#DejaVuSans-70\"/>\n       <use x=\"52.019531\" xlink:href=\"#DejaVuSans-101\"/>\n       <use x=\"113.542969\" xlink:href=\"#DejaVuSans-98\"/>\n       <use x=\"177.019531\" xlink:href=\"#DejaVuSans-114\"/>\n       <use x=\"218.132812\" xlink:href=\"#DejaVuSans-117\"/>\n       <use x=\"281.511719\" xlink:href=\"#DejaVuSans-97\"/>\n       <use x=\"342.791016\" xlink:href=\"#DejaVuSans-114\"/>\n       <use x=\"383.904297\" xlink:href=\"#DejaVuSans-121\"/>\n      </g>\n     </g>\n    </g>\n    <g id=\"xtick_8\">\n     <g id=\"line2d_8\">\n      <g>\n       <use style=\"stroke:#000000;stroke-width:0.8;\" x=\"277.23875\" xlink:href=\"#mc4d1bc8409\" y=\"242.7975\"/>\n      </g>\n     </g>\n     <g id=\"text_8\">\n      <!-- January -->\n      <g transform=\"translate(279.998125 287.708438)rotate(-90)scale(0.1 -0.1)\">\n       <use xlink:href=\"#DejaVuSans-74\"/>\n       <use x=\"29.492188\" xlink:href=\"#DejaVuSans-97\"/>\n       <use x=\"90.771484\" xlink:href=\"#DejaVuSans-110\"/>\n       <use x=\"154.150391\" xlink:href=\"#DejaVuSans-117\"/>\n       <use x=\"217.529297\" xlink:href=\"#DejaVuSans-97\"/>\n       <use x=\"278.808594\" xlink:href=\"#DejaVuSans-114\"/>\n       <use x=\"319.921875\" xlink:href=\"#DejaVuSans-121\"/>\n      </g>\n     </g>\n    </g>\n    <g id=\"xtick_9\">\n     <g id=\"line2d_9\">\n      <g>\n       <use style=\"stroke:#000000;stroke-width:0.8;\" x=\"305.13875\" xlink:href=\"#mc4d1bc8409\" y=\"242.7975\"/>\n      </g>\n     </g>\n     <g id=\"text_9\">\n      <!-- May -->\n      <g transform=\"translate(307.898125 270.4725)rotate(-90)scale(0.1 -0.1)\">\n       <defs>\n        <path d=\"M 9.8125 72.90625 \nL 24.515625 72.90625 \nL 43.109375 23.296875 \nL 61.8125 72.90625 \nL 76.515625 72.90625 \nL 76.515625 0 \nL 66.890625 0 \nL 66.890625 64.015625 \nL 48.09375 14.015625 \nL 38.1875 14.015625 \nL 19.390625 64.015625 \nL 19.390625 0 \nL 9.8125 0 \nz\n\" id=\"DejaVuSans-77\"/>\n       </defs>\n       <use xlink:href=\"#DejaVuSans-77\"/>\n       <use x=\"86.279297\" xlink:href=\"#DejaVuSans-97\"/>\n       <use x=\"147.558594\" xlink:href=\"#DejaVuSans-121\"/>\n      </g>\n     </g>\n    </g>\n    <g id=\"xtick_10\">\n     <g id=\"line2d_10\">\n      <g>\n       <use style=\"stroke:#000000;stroke-width:0.8;\" x=\"333.03875\" xlink:href=\"#mc4d1bc8409\" y=\"242.7975\"/>\n      </g>\n     </g>\n     <g id=\"text_10\">\n      <!-- March -->\n      <g transform=\"translate(335.798125 280.275625)rotate(-90)scale(0.1 -0.1)\">\n       <defs>\n        <path d=\"M 54.890625 33.015625 \nL 54.890625 0 \nL 45.90625 0 \nL 45.90625 32.71875 \nQ 45.90625 40.484375 42.875 44.328125 \nQ 39.84375 48.1875 33.796875 48.1875 \nQ 26.515625 48.1875 22.3125 43.546875 \nQ 18.109375 38.921875 18.109375 30.90625 \nL 18.109375 0 \nL 9.078125 0 \nL 9.078125 75.984375 \nL 18.109375 75.984375 \nL 18.109375 46.1875 \nQ 21.34375 51.125 25.703125 53.5625 \nQ 30.078125 56 35.796875 56 \nQ 45.21875 56 50.046875 50.171875 \nQ 54.890625 44.34375 54.890625 33.015625 \nz\n\" id=\"DejaVuSans-104\"/>\n       </defs>\n       <use xlink:href=\"#DejaVuSans-77\"/>\n       <use x=\"86.279297\" xlink:href=\"#DejaVuSans-97\"/>\n       <use x=\"147.558594\" xlink:href=\"#DejaVuSans-114\"/>\n       <use x=\"186.421875\" xlink:href=\"#DejaVuSans-99\"/>\n       <use x=\"241.402344\" xlink:href=\"#DejaVuSans-104\"/>\n      </g>\n     </g>\n    </g>\n    <g id=\"xtick_11\">\n     <g id=\"line2d_11\">\n      <g>\n       <use style=\"stroke:#000000;stroke-width:0.8;\" x=\"360.93875\" xlink:href=\"#mc4d1bc8409\" y=\"242.7975\"/>\n      </g>\n     </g>\n     <g id=\"text_11\">\n      <!-- December -->\n      <g transform=\"translate(363.698125 301.655313)rotate(-90)scale(0.1 -0.1)\">\n       <defs>\n        <path d=\"M 19.671875 64.796875 \nL 19.671875 8.109375 \nL 31.59375 8.109375 \nQ 46.6875 8.109375 53.6875 14.9375 \nQ 60.6875 21.78125 60.6875 36.53125 \nQ 60.6875 51.171875 53.6875 57.984375 \nQ 46.6875 64.796875 31.59375 64.796875 \nz\nM 9.8125 72.90625 \nL 30.078125 72.90625 \nQ 51.265625 72.90625 61.171875 64.09375 \nQ 71.09375 55.28125 71.09375 36.53125 \nQ 71.09375 17.671875 61.125 8.828125 \nQ 51.171875 0 30.078125 0 \nL 9.8125 0 \nz\n\" id=\"DejaVuSans-68\"/>\n       </defs>\n       <use xlink:href=\"#DejaVuSans-68\"/>\n       <use x=\"77.001953\" xlink:href=\"#DejaVuSans-101\"/>\n       <use x=\"138.525391\" xlink:href=\"#DejaVuSans-99\"/>\n       <use x=\"193.505859\" xlink:href=\"#DejaVuSans-101\"/>\n       <use x=\"255.029297\" xlink:href=\"#DejaVuSans-109\"/>\n       <use x=\"352.441406\" xlink:href=\"#DejaVuSans-98\"/>\n       <use x=\"415.917969\" xlink:href=\"#DejaVuSans-101\"/>\n       <use x=\"477.441406\" xlink:href=\"#DejaVuSans-114\"/>\n      </g>\n     </g>\n    </g>\n    <g id=\"xtick_12\">\n     <g id=\"line2d_12\">\n      <g>\n       <use style=\"stroke:#000000;stroke-width:0.8;\" x=\"388.83875\" xlink:href=\"#mc4d1bc8409\" y=\"242.7975\"/>\n      </g>\n     </g>\n     <g id=\"text_12\">\n      <!-- April -->\n      <g transform=\"translate(391.598125 272.65375)rotate(-90)scale(0.1 -0.1)\">\n       <defs>\n        <path d=\"M 9.421875 54.6875 \nL 18.40625 54.6875 \nL 18.40625 0 \nL 9.421875 0 \nz\nM 9.421875 75.984375 \nL 18.40625 75.984375 \nL 18.40625 64.59375 \nL 9.421875 64.59375 \nz\n\" id=\"DejaVuSans-105\"/>\n       </defs>\n       <use xlink:href=\"#DejaVuSans-65\"/>\n       <use x=\"68.408203\" xlink:href=\"#DejaVuSans-112\"/>\n       <use x=\"131.884766\" xlink:href=\"#DejaVuSans-114\"/>\n       <use x=\"172.998047\" xlink:href=\"#DejaVuSans-105\"/>\n       <use x=\"200.78125\" xlink:href=\"#DejaVuSans-108\"/>\n      </g>\n     </g>\n    </g>\n    <g id=\"text_13\">\n     <!-- Months -->\n     <g transform=\"translate(213.457812 318.192188)scale(0.12 -0.12)\">\n      <use xlink:href=\"#DejaVuSans-77\"/>\n      <use x=\"86.279297\" xlink:href=\"#DejaVuSans-111\"/>\n      <use x=\"147.460938\" xlink:href=\"#DejaVuSans-110\"/>\n      <use x=\"210.839844\" xlink:href=\"#DejaVuSans-116\"/>\n      <use x=\"250.048828\" xlink:href=\"#DejaVuSans-104\"/>\n      <use x=\"313.427734\" xlink:href=\"#DejaVuSans-115\"/>\n     </g>\n    </g>\n   </g>\n   <g id=\"matplotlib.axis_2\">\n    <g id=\"ytick_1\">\n     <g id=\"line2d_13\">\n      <defs>\n       <path d=\"M 0 0 \nL -3.5 0 \n\" id=\"m96b2e71c2c\" style=\"stroke:#000000;stroke-width:0.8;\"/>\n      </defs>\n      <g>\n       <use style=\"stroke:#000000;stroke-width:0.8;\" x=\"67.98875\" xlink:href=\"#m96b2e71c2c\" y=\"242.7975\"/>\n      </g>\n     </g>\n     <g id=\"text_14\">\n      <!-- 0 -->\n      <g transform=\"translate(54.62625 246.596719)scale(0.1 -0.1)\">\n       <defs>\n        <path d=\"M 31.78125 66.40625 \nQ 24.171875 66.40625 20.328125 58.90625 \nQ 16.5 51.421875 16.5 36.375 \nQ 16.5 21.390625 20.328125 13.890625 \nQ 24.171875 6.390625 31.78125 6.390625 \nQ 39.453125 6.390625 43.28125 13.890625 \nQ 47.125 21.390625 47.125 36.375 \nQ 47.125 51.421875 43.28125 58.90625 \nQ 39.453125 66.40625 31.78125 66.40625 \nz\nM 31.78125 74.21875 \nQ 44.046875 74.21875 50.515625 64.515625 \nQ 56.984375 54.828125 56.984375 36.375 \nQ 56.984375 17.96875 50.515625 8.265625 \nQ 44.046875 -1.421875 31.78125 -1.421875 \nQ 19.53125 -1.421875 13.0625 8.265625 \nQ 6.59375 17.96875 6.59375 36.375 \nQ 6.59375 54.828125 13.0625 64.515625 \nQ 19.53125 74.21875 31.78125 74.21875 \nz\n\" id=\"DejaVuSans-48\"/>\n       </defs>\n       <use xlink:href=\"#DejaVuSans-48\"/>\n      </g>\n     </g>\n    </g>\n    <g id=\"ytick_2\">\n     <g id=\"line2d_14\">\n      <g>\n       <use style=\"stroke:#000000;stroke-width:0.8;\" x=\"67.98875\" xlink:href=\"#m96b2e71c2c\" y=\"209.163637\"/>\n      </g>\n     </g>\n     <g id=\"text_15\">\n      <!-- 50000 -->\n      <g transform=\"translate(29.17625 212.962855)scale(0.1 -0.1)\">\n       <defs>\n        <path d=\"M 10.796875 72.90625 \nL 49.515625 72.90625 \nL 49.515625 64.59375 \nL 19.828125 64.59375 \nL 19.828125 46.734375 \nQ 21.96875 47.46875 24.109375 47.828125 \nQ 26.265625 48.1875 28.421875 48.1875 \nQ 40.625 48.1875 47.75 41.5 \nQ 54.890625 34.8125 54.890625 23.390625 \nQ 54.890625 11.625 47.5625 5.09375 \nQ 40.234375 -1.421875 26.90625 -1.421875 \nQ 22.3125 -1.421875 17.546875 -0.640625 \nQ 12.796875 0.140625 7.71875 1.703125 \nL 7.71875 11.625 \nQ 12.109375 9.234375 16.796875 8.0625 \nQ 21.484375 6.890625 26.703125 6.890625 \nQ 35.15625 6.890625 40.078125 11.328125 \nQ 45.015625 15.765625 45.015625 23.390625 \nQ 45.015625 31 40.078125 35.4375 \nQ 35.15625 39.890625 26.703125 39.890625 \nQ 22.75 39.890625 18.8125 39.015625 \nQ 14.890625 38.140625 10.796875 36.28125 \nz\n\" id=\"DejaVuSans-53\"/>\n       </defs>\n       <use xlink:href=\"#DejaVuSans-53\"/>\n       <use x=\"63.623047\" xlink:href=\"#DejaVuSans-48\"/>\n       <use x=\"127.246094\" xlink:href=\"#DejaVuSans-48\"/>\n       <use x=\"190.869141\" xlink:href=\"#DejaVuSans-48\"/>\n       <use x=\"254.492188\" xlink:href=\"#DejaVuSans-48\"/>\n      </g>\n     </g>\n    </g>\n    <g id=\"ytick_3\">\n     <g id=\"line2d_15\">\n      <g>\n       <use style=\"stroke:#000000;stroke-width:0.8;\" x=\"67.98875\" xlink:href=\"#m96b2e71c2c\" y=\"175.529773\"/>\n      </g>\n     </g>\n     <g id=\"text_16\">\n      <!-- 100000 -->\n      <g transform=\"translate(22.81375 179.328992)scale(0.1 -0.1)\">\n       <defs>\n        <path d=\"M 12.40625 8.296875 \nL 28.515625 8.296875 \nL 28.515625 63.921875 \nL 10.984375 60.40625 \nL 10.984375 69.390625 \nL 28.421875 72.90625 \nL 38.28125 72.90625 \nL 38.28125 8.296875 \nL 54.390625 8.296875 \nL 54.390625 0 \nL 12.40625 0 \nz\n\" id=\"DejaVuSans-49\"/>\n       </defs>\n       <use xlink:href=\"#DejaVuSans-49\"/>\n       <use x=\"63.623047\" xlink:href=\"#DejaVuSans-48\"/>\n       <use x=\"127.246094\" xlink:href=\"#DejaVuSans-48\"/>\n       <use x=\"190.869141\" xlink:href=\"#DejaVuSans-48\"/>\n       <use x=\"254.492188\" xlink:href=\"#DejaVuSans-48\"/>\n       <use x=\"318.115234\" xlink:href=\"#DejaVuSans-48\"/>\n      </g>\n     </g>\n    </g>\n    <g id=\"ytick_4\">\n     <g id=\"line2d_16\">\n      <g>\n       <use style=\"stroke:#000000;stroke-width:0.8;\" x=\"67.98875\" xlink:href=\"#m96b2e71c2c\" y=\"141.89591\"/>\n      </g>\n     </g>\n     <g id=\"text_17\">\n      <!-- 150000 -->\n      <g transform=\"translate(22.81375 145.695129)scale(0.1 -0.1)\">\n       <use xlink:href=\"#DejaVuSans-49\"/>\n       <use x=\"63.623047\" xlink:href=\"#DejaVuSans-53\"/>\n       <use x=\"127.246094\" xlink:href=\"#DejaVuSans-48\"/>\n       <use x=\"190.869141\" xlink:href=\"#DejaVuSans-48\"/>\n       <use x=\"254.492188\" xlink:href=\"#DejaVuSans-48\"/>\n       <use x=\"318.115234\" xlink:href=\"#DejaVuSans-48\"/>\n      </g>\n     </g>\n    </g>\n    <g id=\"ytick_5\">\n     <g id=\"line2d_17\">\n      <g>\n       <use style=\"stroke:#000000;stroke-width:0.8;\" x=\"67.98875\" xlink:href=\"#m96b2e71c2c\" y=\"108.262047\"/>\n      </g>\n     </g>\n     <g id=\"text_18\">\n      <!-- 200000 -->\n      <g transform=\"translate(22.81375 112.061266)scale(0.1 -0.1)\">\n       <defs>\n        <path d=\"M 19.1875 8.296875 \nL 53.609375 8.296875 \nL 53.609375 0 \nL 7.328125 0 \nL 7.328125 8.296875 \nQ 12.9375 14.109375 22.625 23.890625 \nQ 32.328125 33.6875 34.8125 36.53125 \nQ 39.546875 41.84375 41.421875 45.53125 \nQ 43.3125 49.21875 43.3125 52.78125 \nQ 43.3125 58.59375 39.234375 62.25 \nQ 35.15625 65.921875 28.609375 65.921875 \nQ 23.96875 65.921875 18.8125 64.3125 \nQ 13.671875 62.703125 7.8125 59.421875 \nL 7.8125 69.390625 \nQ 13.765625 71.78125 18.9375 73 \nQ 24.125 74.21875 28.421875 74.21875 \nQ 39.75 74.21875 46.484375 68.546875 \nQ 53.21875 62.890625 53.21875 53.421875 \nQ 53.21875 48.921875 51.53125 44.890625 \nQ 49.859375 40.875 45.40625 35.40625 \nQ 44.1875 33.984375 37.640625 27.21875 \nQ 31.109375 20.453125 19.1875 8.296875 \nz\n\" id=\"DejaVuSans-50\"/>\n       </defs>\n       <use xlink:href=\"#DejaVuSans-50\"/>\n       <use x=\"63.623047\" xlink:href=\"#DejaVuSans-48\"/>\n       <use x=\"127.246094\" xlink:href=\"#DejaVuSans-48\"/>\n       <use x=\"190.869141\" xlink:href=\"#DejaVuSans-48\"/>\n       <use x=\"254.492188\" xlink:href=\"#DejaVuSans-48\"/>\n       <use x=\"318.115234\" xlink:href=\"#DejaVuSans-48\"/>\n      </g>\n     </g>\n    </g>\n    <g id=\"ytick_6\">\n     <g id=\"line2d_18\">\n      <g>\n       <use style=\"stroke:#000000;stroke-width:0.8;\" x=\"67.98875\" xlink:href=\"#m96b2e71c2c\" y=\"74.628184\"/>\n      </g>\n     </g>\n     <g id=\"text_19\">\n      <!-- 250000 -->\n      <g transform=\"translate(22.81375 78.427402)scale(0.1 -0.1)\">\n       <use xlink:href=\"#DejaVuSans-50\"/>\n       <use x=\"63.623047\" xlink:href=\"#DejaVuSans-53\"/>\n       <use x=\"127.246094\" xlink:href=\"#DejaVuSans-48\"/>\n       <use x=\"190.869141\" xlink:href=\"#DejaVuSans-48\"/>\n       <use x=\"254.492188\" xlink:href=\"#DejaVuSans-48\"/>\n       <use x=\"318.115234\" xlink:href=\"#DejaVuSans-48\"/>\n      </g>\n     </g>\n    </g>\n    <g id=\"ytick_7\">\n     <g id=\"line2d_19\">\n      <g>\n       <use style=\"stroke:#000000;stroke-width:0.8;\" x=\"67.98875\" xlink:href=\"#m96b2e71c2c\" y=\"40.99432\"/>\n      </g>\n     </g>\n     <g id=\"text_20\">\n      <!-- 300000 -->\n      <g transform=\"translate(22.81375 44.793539)scale(0.1 -0.1)\">\n       <defs>\n        <path d=\"M 40.578125 39.3125 \nQ 47.65625 37.796875 51.625 33 \nQ 55.609375 28.21875 55.609375 21.1875 \nQ 55.609375 10.40625 48.1875 4.484375 \nQ 40.765625 -1.421875 27.09375 -1.421875 \nQ 22.515625 -1.421875 17.65625 -0.515625 \nQ 12.796875 0.390625 7.625 2.203125 \nL 7.625 11.71875 \nQ 11.71875 9.328125 16.59375 8.109375 \nQ 21.484375 6.890625 26.8125 6.890625 \nQ 36.078125 6.890625 40.9375 10.546875 \nQ 45.796875 14.203125 45.796875 21.1875 \nQ 45.796875 27.640625 41.28125 31.265625 \nQ 36.765625 34.90625 28.71875 34.90625 \nL 20.21875 34.90625 \nL 20.21875 43.015625 \nL 29.109375 43.015625 \nQ 36.375 43.015625 40.234375 45.921875 \nQ 44.09375 48.828125 44.09375 54.296875 \nQ 44.09375 59.90625 40.109375 62.90625 \nQ 36.140625 65.921875 28.71875 65.921875 \nQ 24.65625 65.921875 20.015625 65.03125 \nQ 15.375 64.15625 9.8125 62.3125 \nL 9.8125 71.09375 \nQ 15.4375 72.65625 20.34375 73.4375 \nQ 25.25 74.21875 29.59375 74.21875 \nQ 40.828125 74.21875 47.359375 69.109375 \nQ 53.90625 64.015625 53.90625 55.328125 \nQ 53.90625 49.265625 50.4375 45.09375 \nQ 46.96875 40.921875 40.578125 39.3125 \nz\n\" id=\"DejaVuSans-51\"/>\n       </defs>\n       <use xlink:href=\"#DejaVuSans-51\"/>\n       <use x=\"63.623047\" xlink:href=\"#DejaVuSans-48\"/>\n       <use x=\"127.246094\" xlink:href=\"#DejaVuSans-48\"/>\n       <use x=\"190.869141\" xlink:href=\"#DejaVuSans-48\"/>\n       <use x=\"254.492188\" xlink:href=\"#DejaVuSans-48\"/>\n       <use x=\"318.115234\" xlink:href=\"#DejaVuSans-48\"/>\n      </g>\n     </g>\n    </g>\n    <g id=\"text_21\">\n     <!-- Number of rentals -->\n     <g transform=\"translate(16.318125 188.425313)rotate(-90)scale(0.12 -0.12)\">\n      <defs>\n       <path id=\"DejaVuSans-32\"/>\n       <path d=\"M 37.109375 75.984375 \nL 37.109375 68.5 \nL 28.515625 68.5 \nQ 23.6875 68.5 21.796875 66.546875 \nQ 19.921875 64.59375 19.921875 59.515625 \nL 19.921875 54.6875 \nL 34.71875 54.6875 \nL 34.71875 47.703125 \nL 19.921875 47.703125 \nL 19.921875 0 \nL 10.890625 0 \nL 10.890625 47.703125 \nL 2.296875 47.703125 \nL 2.296875 54.6875 \nL 10.890625 54.6875 \nL 10.890625 58.5 \nQ 10.890625 67.625 15.140625 71.796875 \nQ 19.390625 75.984375 28.609375 75.984375 \nz\n\" id=\"DejaVuSans-102\"/>\n      </defs>\n      <use xlink:href=\"#DejaVuSans-78\"/>\n      <use x=\"74.804688\" xlink:href=\"#DejaVuSans-117\"/>\n      <use x=\"138.183594\" xlink:href=\"#DejaVuSans-109\"/>\n      <use x=\"235.595703\" xlink:href=\"#DejaVuSans-98\"/>\n      <use x=\"299.072266\" xlink:href=\"#DejaVuSans-101\"/>\n      <use x=\"360.595703\" xlink:href=\"#DejaVuSans-114\"/>\n      <use x=\"401.708984\" xlink:href=\"#DejaVuSans-32\"/>\n      <use x=\"433.496094\" xlink:href=\"#DejaVuSans-111\"/>\n      <use x=\"494.677734\" xlink:href=\"#DejaVuSans-102\"/>\n      <use x=\"529.882812\" xlink:href=\"#DejaVuSans-32\"/>\n      <use x=\"561.669922\" xlink:href=\"#DejaVuSans-114\"/>\n      <use x=\"600.533203\" xlink:href=\"#DejaVuSans-101\"/>\n      <use x=\"662.056641\" xlink:href=\"#DejaVuSans-110\"/>\n      <use x=\"725.435547\" xlink:href=\"#DejaVuSans-116\"/>\n      <use x=\"764.644531\" xlink:href=\"#DejaVuSans-97\"/>\n      <use x=\"825.923828\" xlink:href=\"#DejaVuSans-108\"/>\n      <use x=\"853.707031\" xlink:href=\"#DejaVuSans-115\"/>\n     </g>\n    </g>\n   </g>\n   <g id=\"patch_15\">\n    <path d=\"M 67.98875 242.7975 \nL 67.98875 25.3575 \n\" style=\"fill:none;stroke:#000000;stroke-linecap:square;stroke-linejoin:miter;stroke-width:0.8;\"/>\n   </g>\n   <g id=\"patch_16\">\n    <path d=\"M 402.78875 242.7975 \nL 402.78875 25.3575 \n\" style=\"fill:none;stroke:#000000;stroke-linecap:square;stroke-linejoin:miter;stroke-width:0.8;\"/>\n   </g>\n   <g id=\"patch_17\">\n    <path d=\"M 67.98875 242.7975 \nL 402.78875 242.7975 \n\" style=\"fill:none;stroke:#000000;stroke-linecap:square;stroke-linejoin:miter;stroke-width:0.8;\"/>\n   </g>\n   <g id=\"patch_18\">\n    <path d=\"M 67.98875 25.3575 \nL 402.78875 25.3575 \n\" style=\"fill:none;stroke:#000000;stroke-linecap:square;stroke-linejoin:miter;stroke-width:0.8;\"/>\n   </g>\n   <g id=\"text_22\">\n    <!-- Most Popular Months of the Year -->\n    <g transform=\"translate(106.5625 19.3575)scale(0.16 -0.16)\">\n     <defs>\n      <path d=\"M 19.671875 64.796875 \nL 19.671875 37.40625 \nL 32.078125 37.40625 \nQ 38.96875 37.40625 42.71875 40.96875 \nQ 46.484375 44.53125 46.484375 51.125 \nQ 46.484375 57.671875 42.71875 61.234375 \nQ 38.96875 64.796875 32.078125 64.796875 \nz\nM 9.8125 72.90625 \nL 32.078125 72.90625 \nQ 44.34375 72.90625 50.609375 67.359375 \nQ 56.890625 61.8125 56.890625 51.125 \nQ 56.890625 40.328125 50.609375 34.8125 \nQ 44.34375 29.296875 32.078125 29.296875 \nL 19.671875 29.296875 \nL 19.671875 0 \nL 9.8125 0 \nz\n\" id=\"DejaVuSans-80\"/>\n      <path d=\"M -0.203125 72.90625 \nL 10.40625 72.90625 \nL 30.609375 42.921875 \nL 50.6875 72.90625 \nL 61.28125 72.90625 \nL 35.5 34.71875 \nL 35.5 0 \nL 25.59375 0 \nL 25.59375 34.71875 \nz\n\" id=\"DejaVuSans-89\"/>\n     </defs>\n     <use xlink:href=\"#DejaVuSans-77\"/>\n     <use x=\"86.279297\" xlink:href=\"#DejaVuSans-111\"/>\n     <use x=\"147.460938\" xlink:href=\"#DejaVuSans-115\"/>\n     <use x=\"199.560547\" xlink:href=\"#DejaVuSans-116\"/>\n     <use x=\"238.769531\" xlink:href=\"#DejaVuSans-32\"/>\n     <use x=\"270.556641\" xlink:href=\"#DejaVuSans-80\"/>\n     <use x=\"327.234375\" xlink:href=\"#DejaVuSans-111\"/>\n     <use x=\"388.416016\" xlink:href=\"#DejaVuSans-112\"/>\n     <use x=\"451.892578\" xlink:href=\"#DejaVuSans-117\"/>\n     <use x=\"515.271484\" xlink:href=\"#DejaVuSans-108\"/>\n     <use x=\"543.054688\" xlink:href=\"#DejaVuSans-97\"/>\n     <use x=\"604.333984\" xlink:href=\"#DejaVuSans-114\"/>\n     <use x=\"645.447266\" xlink:href=\"#DejaVuSans-32\"/>\n     <use x=\"677.234375\" xlink:href=\"#DejaVuSans-77\"/>\n     <use x=\"763.513672\" xlink:href=\"#DejaVuSans-111\"/>\n     <use x=\"824.695312\" xlink:href=\"#DejaVuSans-110\"/>\n     <use x=\"888.074219\" xlink:href=\"#DejaVuSans-116\"/>\n     <use x=\"927.283203\" xlink:href=\"#DejaVuSans-104\"/>\n     <use x=\"990.662109\" xlink:href=\"#DejaVuSans-115\"/>\n     <use x=\"1042.761719\" xlink:href=\"#DejaVuSans-32\"/>\n     <use x=\"1074.548828\" xlink:href=\"#DejaVuSans-111\"/>\n     <use x=\"1135.730469\" xlink:href=\"#DejaVuSans-102\"/>\n     <use x=\"1170.935547\" xlink:href=\"#DejaVuSans-32\"/>\n     <use x=\"1202.722656\" xlink:href=\"#DejaVuSans-116\"/>\n     <use x=\"1241.931641\" xlink:href=\"#DejaVuSans-104\"/>\n     <use x=\"1305.310547\" xlink:href=\"#DejaVuSans-101\"/>\n     <use x=\"1366.833984\" xlink:href=\"#DejaVuSans-32\"/>\n     <use x=\"1398.621094\" xlink:href=\"#DejaVuSans-89\"/>\n     <use x=\"1446.455078\" xlink:href=\"#DejaVuSans-101\"/>\n     <use x=\"1507.978516\" xlink:href=\"#DejaVuSans-97\"/>\n     <use x=\"1569.257812\" xlink:href=\"#DejaVuSans-114\"/>\n    </g>\n   </g>\n  </g>\n </g>\n <defs>\n  <clipPath id=\"p208a3de92a\">\n   <rect height=\"217.44\" width=\"334.8\" x=\"67.98875\" y=\"25.3575\"/>\n  </clipPath>\n </defs>\n</svg>\n",
      "image/png": "[encoded data removed]"
     },
     "metadata": {
      "needs_background": "light"
     }
    }
   ],
   "source": [
    "# plot the most popular months of the year\n",
    "ax = df_all['month'].value_counts().plot(kind=\"bar\")\n",
    "ax.set_title('Most Popular Months of the Year', fontsize=16)\n",
    "ax.set_xlabel('Months', fontsize=12)\n",
    "ax.set_ylabel('Number of rentals', fontsize=12);"
   ]
  },
  {
   "source": [
    "The most popular months of the year to ride a bike are: \n",
    "\n",
    "September, August, July, October, June, November\n",
    "\n",
    "The least popular ones are:\n",
    "\n",
    "April, December, March, May, January, February"
   ],
   "cell_type": "markdown",
   "metadata": {}
  },
  {
   "source": [
    "## Bivariate Exploration\n",
    "\n",
    "> In this section, I'll investigate relationships between pairs of variables in my data. Make sure the variables that you cover here have been introduced in some\n",
    "fashion in the previous section (univariate exploration).\n",
    "-\n",
    "\n",
    "- Relationship between weekday/weekend and start station \n",
    "- Duration and weekday/weekend\n",
    "\n",
    "\n",
    "\n",
    "- When are the most trips taken in terms of time of day, day of the week, or month of the year?\n",
    "- Does these depend on if a user is a subscriber or customer?\n"
   ],
   "cell_type": "markdown",
   "metadata": {}
  },
  {
   "cell_type": "code",
   "execution_count": null,
   "metadata": {},
   "outputs": [],
   "source": []
  }
 ],
 "metadata": {
  "kernelspec": {
   "name": "python3",
   "display_name": "Python 3.8.5 64-bit ('base': conda)",
   "metadata": {
    "interpreter": {
     "hash": "94a5e2267bb68d269dd9f387cea6be90041024604c23baf599719be89ba72eed"
    }
   }
  },
  "language_info": {
   "codemirror_mode": {
    "name": "ipython",
    "version": 3
   },
   "file_extension": ".py",
   "mimetype": "text/x-python",
   "name": "python",
   "nbconvert_exporter": "python",
   "pygments_lexer": "ipython3",
   "version": "3.8.5-final"
  }
 },
 "nbformat": 4,
 "nbformat_minor": 4
}