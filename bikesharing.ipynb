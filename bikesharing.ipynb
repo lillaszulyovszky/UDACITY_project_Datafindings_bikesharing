{
 "cells": [
  {
   "cell_type": "markdown",
   "metadata": {},
   "source": [
    "<a id=’intro’></a>\n",
    "\n",
    "# Introduction of the dataset and Analysis Plan\n",
    "\n",
    "**Structure of the dataset**\n",
    "\n",
    "- I have 12 csv's, for the 12 months of 2020. Ideally, I would like to see all 12 in one dataset, so I can have a wider range in time to draw conclusions from.\n",
    "\n",
    "- Most of the cvs's have 15 columns with a few having only 14. \n",
    "- Need to make sure I'm not missing data so will reduce the ones with 15 rows to 14 before I merge them together. \n",
    "- Different months have different amount of entries, but that's normal and I will not manipulate that.\n",
    "\n",
    "- I will look at the datasets' statistics, datatypes, missing and duplicated values as well as visually assess them to see if there is any need for cleaning.\n",
    "\n",
    "**Columns**\n",
    "- **tripduration**: trip duration in seconds\n",
    "- **starttime**: the time the rental started\n",
    "- **stoptime**: the time teh rental ended\n",
    "- **start station id**: where the rental started\n",
    "- **end station id**: where the rental ended\n",
    "- **start station latitude**: gps coordinates of start station\n",
    "- **start station longitude**: gps coordinates of start station\n",
    "- **end station latitude**: gps coordinates of end station\n",
    "- **end station longitude**: gps coordinates of end station\n",
    "- **bikeid**: identificator of the bike used\n",
    "- **usertype**: if the user has subscription or not\n",
    "\n",
    "\n",
    "**Insights to explore**\n",
    "\n",
    "- How long does the average trip takes?\n",
    "- Which are the most used start and end stations?\n",
    "- When are the most trips taken in terms of time of day, day of the week, or month of the year?\n",
    "- Does these depend on if a user is a subscriber or customer?\n",
    "\n",
    "**Features in the dataset the will help support the investigation?**\n",
    "\n",
    "Trip duration, Start time, End time, Start station, End Station, Usertype\n"
   ]
  },
  {
   "cell_type": "markdown",
   "metadata": {},
   "source": [
    "# Udacity Project - Bikesharing Dataset\n",
    "\n",
    "## Data Wrangling and Data Visualisation\n",
    "\n",
    "This data set includes information about individual rides made in a bike-sharing system covering the greater Boston area. \n",
    "\n",
    "Table of Contents\n",
    "\n",
    "<ul>\n",
    "<li><a ref=\"#intro\">Introduction of the dataset and Analysis Plan</a></li>\n",
    "<li><a ref=\"#2\">Data Wrangling</a></li>\n",
    "<li><a ref=\"#65\">Explore Univariate Variables</a></li>\n",
    "<li><a ref=\"#100\">Explore Bivariate Variables</a></li>\n",
    "<li><a ref=\"#105\">Explore Multivariate Variables</a></li>\n",
    "\n",
    "</ul>"
   ]
  },
  {
   "cell_type": "markdown",
   "metadata": {},
   "source": [
    "<a id=’2’></a>\n",
    "\n",
    "# Data Wrangling\n"
   ]
  },
  {
   "cell_type": "code",
   "execution_count": 3,
   "metadata": {},
   "outputs": [],
   "source": [
    "\n",
    "# import libraries \n",
    "import numpy as np\n",
    "import pandas as pandas\n",
    "import matplotlib.pyplot as plt\n",
    "import seaborn as sb\n",
    "\n",
    "%matplotlib inline"
   ]
  },
  {
   "cell_type": "code",
   "execution_count": 4,
   "metadata": {},
   "outputs": [
    {
     "data": {
      "text/html": [
       "<div>\n",
       "<style scoped>\n",
       "    .dataframe tbody tr th:only-of-type {\n",
       "        vertical-align: middle;\n",
       "    }\n",
       "\n",
       "    .dataframe tbody tr th {\n",
       "        vertical-align: top;\n",
       "    }\n",
       "\n",
       "    .dataframe thead th {\n",
       "        text-align: right;\n",
       "    }\n",
       "</style>\n",
       "<table border=\"1\" class=\"dataframe\">\n",
       "  <thead>\n",
       "    <tr style=\"text-align: right;\">\n",
       "      <th></th>\n",
       "      <th>tripduration</th>\n",
       "      <th>starttime</th>\n",
       "      <th>stoptime</th>\n",
       "      <th>start station id</th>\n",
       "      <th>start station name</th>\n",
       "      <th>start station latitude</th>\n",
       "      <th>start station longitude</th>\n",
       "      <th>end station id</th>\n",
       "      <th>end station name</th>\n",
       "      <th>end station latitude</th>\n",
       "      <th>end station longitude</th>\n",
       "      <th>bikeid</th>\n",
       "      <th>usertype</th>\n",
       "      <th>birth year</th>\n",
       "      <th>gender</th>\n",
       "    </tr>\n",
       "  </thead>\n",
       "  <tbody>\n",
       "    <tr>\n",
       "      <th>0</th>\n",
       "      <td>478</td>\n",
       "      <td>2020-01-01 00:04:05.8090</td>\n",
       "      <td>2020-01-01 00:12:04.2370</td>\n",
       "      <td>366</td>\n",
       "      <td>Broadway T Stop</td>\n",
       "      <td>42.342781</td>\n",
       "      <td>-71.057473</td>\n",
       "      <td>93</td>\n",
       "      <td>JFK/UMass T Stop</td>\n",
       "      <td>42.320340</td>\n",
       "      <td>-71.051180</td>\n",
       "      <td>6005</td>\n",
       "      <td>Customer</td>\n",
       "      <td>1969</td>\n",
       "      <td>0</td>\n",
       "    </tr>\n",
       "    <tr>\n",
       "      <th>1</th>\n",
       "      <td>363</td>\n",
       "      <td>2020-01-01 00:04:45.6990</td>\n",
       "      <td>2020-01-01 00:10:49.0400</td>\n",
       "      <td>219</td>\n",
       "      <td>Boston East - 126 Border St</td>\n",
       "      <td>42.373312</td>\n",
       "      <td>-71.041020</td>\n",
       "      <td>212</td>\n",
       "      <td>Maverick Square - Lewis Mall</td>\n",
       "      <td>42.368844</td>\n",
       "      <td>-71.039778</td>\n",
       "      <td>3168</td>\n",
       "      <td>Subscriber</td>\n",
       "      <td>2000</td>\n",
       "      <td>1</td>\n",
       "    </tr>\n",
       "    <tr>\n",
       "      <th>2</th>\n",
       "      <td>284</td>\n",
       "      <td>2020-01-01 00:06:07.0630</td>\n",
       "      <td>2020-01-01 00:10:51.9240</td>\n",
       "      <td>219</td>\n",
       "      <td>Boston East - 126 Border St</td>\n",
       "      <td>42.373312</td>\n",
       "      <td>-71.041020</td>\n",
       "      <td>212</td>\n",
       "      <td>Maverick Square - Lewis Mall</td>\n",
       "      <td>42.368844</td>\n",
       "      <td>-71.039778</td>\n",
       "      <td>3985</td>\n",
       "      <td>Subscriber</td>\n",
       "      <td>2001</td>\n",
       "      <td>1</td>\n",
       "    </tr>\n",
       "    <tr>\n",
       "      <th>3</th>\n",
       "      <td>193</td>\n",
       "      <td>2020-01-01 00:06:13.8550</td>\n",
       "      <td>2020-01-01 00:09:27.8320</td>\n",
       "      <td>396</td>\n",
       "      <td>Main St at Beacon St</td>\n",
       "      <td>42.409330</td>\n",
       "      <td>-71.063819</td>\n",
       "      <td>387</td>\n",
       "      <td>Norman St at Kelvin St</td>\n",
       "      <td>42.409859</td>\n",
       "      <td>-71.066319</td>\n",
       "      <td>2692</td>\n",
       "      <td>Subscriber</td>\n",
       "      <td>1978</td>\n",
       "      <td>1</td>\n",
       "    </tr>\n",
       "    <tr>\n",
       "      <th>4</th>\n",
       "      <td>428</td>\n",
       "      <td>2020-01-01 00:07:25.2950</td>\n",
       "      <td>2020-01-01 00:14:33.7800</td>\n",
       "      <td>60</td>\n",
       "      <td>Charles Circle - Charles St at Cambridge St</td>\n",
       "      <td>42.360793</td>\n",
       "      <td>-71.071190</td>\n",
       "      <td>49</td>\n",
       "      <td>Stuart St at Charles St</td>\n",
       "      <td>42.351146</td>\n",
       "      <td>-71.066289</td>\n",
       "      <td>4978</td>\n",
       "      <td>Subscriber</td>\n",
       "      <td>1987</td>\n",
       "      <td>1</td>\n",
       "    </tr>\n",
       "  </tbody>\n",
       "</table>\n",
       "</div>"
      ],
      "text/plain": [
       "   tripduration                 starttime                  stoptime  \\\n",
       "0           478  2020-01-01 00:04:05.8090  2020-01-01 00:12:04.2370   \n",
       "1           363  2020-01-01 00:04:45.6990  2020-01-01 00:10:49.0400   \n",
       "2           284  2020-01-01 00:06:07.0630  2020-01-01 00:10:51.9240   \n",
       "3           193  2020-01-01 00:06:13.8550  2020-01-01 00:09:27.8320   \n",
       "4           428  2020-01-01 00:07:25.2950  2020-01-01 00:14:33.7800   \n",
       "\n",
       "   start station id                           start station name  \\\n",
       "0               366                              Broadway T Stop   \n",
       "1               219                  Boston East - 126 Border St   \n",
       "2               219                  Boston East - 126 Border St   \n",
       "3               396                         Main St at Beacon St   \n",
       "4                60  Charles Circle - Charles St at Cambridge St   \n",
       "\n",
       "   start station latitude  start station longitude  end station id  \\\n",
       "0               42.342781               -71.057473              93   \n",
       "1               42.373312               -71.041020             212   \n",
       "2               42.373312               -71.041020             212   \n",
       "3               42.409330               -71.063819             387   \n",
       "4               42.360793               -71.071190              49   \n",
       "\n",
       "               end station name  end station latitude  end station longitude  \\\n",
       "0              JFK/UMass T Stop             42.320340             -71.051180   \n",
       "1  Maverick Square - Lewis Mall             42.368844             -71.039778   \n",
       "2  Maverick Square - Lewis Mall             42.368844             -71.039778   \n",
       "3        Norman St at Kelvin St             42.409859             -71.066319   \n",
       "4       Stuart St at Charles St             42.351146             -71.066289   \n",
       "\n",
       "   bikeid    usertype  birth year  gender  \n",
       "0    6005    Customer        1969       0  \n",
       "1    3168  Subscriber        2000       1  \n",
       "2    3985  Subscriber        2001       1  \n",
       "3    2692  Subscriber        1978       1  \n",
       "4    4978  Subscriber        1987       1  "
      ]
     },
     "execution_count": 4,
     "metadata": {},
     "output_type": "execute_result"
    }
   ],
   "source": [
    "# load in each month's dataset into a pandas dataframe\n",
    "df_01 = pandas.read_csv('202001-bluebikes-tripdata.csv')\n",
    "df_01.head()"
   ]
  },
  {
   "cell_type": "markdown",
   "metadata": {},
   "source": [
    "## Assessment"
   ]
  },
  {
   "cell_type": "code",
   "execution_count": 5,
   "metadata": {},
   "outputs": [
    {
     "data": {
      "text/plain": [
       "(128598, 15)"
      ]
     },
     "execution_count": 5,
     "metadata": {},
     "output_type": "execute_result"
    }
   ],
   "source": [
    "# assess shape\n",
    "df_01.shape"
   ]
  },
  {
   "cell_type": "code",
   "execution_count": 6,
   "metadata": {},
   "outputs": [
    {
     "name": "stdout",
     "output_type": "stream",
     "text": [
      "<class 'pandas.core.frame.DataFrame'>\n",
      "RangeIndex: 128598 entries, 0 to 128597\n",
      "Data columns (total 15 columns):\n",
      " #   Column                   Non-Null Count   Dtype  \n",
      "---  ------                   --------------   -----  \n",
      " 0   tripduration             128598 non-null  int64  \n",
      " 1   starttime                128598 non-null  object \n",
      " 2   stoptime                 128598 non-null  object \n",
      " 3   start station id         128598 non-null  int64  \n",
      " 4   start station name       128598 non-null  object \n",
      " 5   start station latitude   128598 non-null  float64\n",
      " 6   start station longitude  128598 non-null  float64\n",
      " 7   end station id           128598 non-null  int64  \n",
      " 8   end station name         128598 non-null  object \n",
      " 9   end station latitude     128598 non-null  float64\n",
      " 10  end station longitude    128598 non-null  float64\n",
      " 11  bikeid                   128598 non-null  int64  \n",
      " 12  usertype                 128598 non-null  object \n",
      " 13  birth year               128598 non-null  int64  \n",
      " 14  gender                   128598 non-null  int64  \n",
      "dtypes: float64(4), int64(6), object(5)\n",
      "memory usage: 14.7+ MB\n"
     ]
    }
   ],
   "source": [
    "# assess column names in each data set to see which column is missing\n",
    "df_01.info()"
   ]
  },
  {
   "cell_type": "code",
   "execution_count": 7,
   "metadata": {},
   "outputs": [
    {
     "data": {
      "text/plain": [
       "(133235, 15)"
      ]
     },
     "execution_count": 7,
     "metadata": {},
     "output_type": "execute_result"
    }
   ],
   "source": [
    "df_02 = pandas.read_csv('202002-bluebikes-tripdata.csv')\n",
    "df_02.shape"
   ]
  },
  {
   "cell_type": "code",
   "execution_count": 8,
   "metadata": {},
   "outputs": [
    {
     "name": "stdout",
     "output_type": "stream",
     "text": [
      "<class 'pandas.core.frame.DataFrame'>\n",
      "RangeIndex: 133235 entries, 0 to 133234\n",
      "Data columns (total 15 columns):\n",
      " #   Column                   Non-Null Count   Dtype  \n",
      "---  ------                   --------------   -----  \n",
      " 0   tripduration             133235 non-null  int64  \n",
      " 1   starttime                133235 non-null  object \n",
      " 2   stoptime                 133235 non-null  object \n",
      " 3   start station id         133235 non-null  int64  \n",
      " 4   start station name       133235 non-null  object \n",
      " 5   start station latitude   133235 non-null  float64\n",
      " 6   start station longitude  133235 non-null  float64\n",
      " 7   end station id           133235 non-null  int64  \n",
      " 8   end station name         133235 non-null  object \n",
      " 9   end station latitude     133235 non-null  float64\n",
      " 10  end station longitude    133235 non-null  float64\n",
      " 11  bikeid                   133235 non-null  int64  \n",
      " 12  usertype                 133235 non-null  object \n",
      " 13  birth year               133235 non-null  int64  \n",
      " 14  gender                   133235 non-null  int64  \n",
      "dtypes: float64(4), int64(6), object(5)\n",
      "memory usage: 15.2+ MB\n"
     ]
    }
   ],
   "source": [
    "# assess column names in each data set to see which column is missing\n",
    "df_02.info()"
   ]
  },
  {
   "cell_type": "code",
   "execution_count": 9,
   "metadata": {},
   "outputs": [
    {
     "data": {
      "text/plain": [
       "(107350, 15)"
      ]
     },
     "execution_count": 9,
     "metadata": {},
     "output_type": "execute_result"
    }
   ],
   "source": [
    "df_03 = pandas.read_csv('202003-bluebikes-tripdata.csv')\n",
    "df_03.shape"
   ]
  },
  {
   "cell_type": "code",
   "execution_count": 10,
   "metadata": {},
   "outputs": [
    {
     "name": "stdout",
     "output_type": "stream",
     "text": [
      "<class 'pandas.core.frame.DataFrame'>\n",
      "RangeIndex: 107350 entries, 0 to 107349\n",
      "Data columns (total 15 columns):\n",
      " #   Column                   Non-Null Count   Dtype  \n",
      "---  ------                   --------------   -----  \n",
      " 0   tripduration             107350 non-null  int64  \n",
      " 1   starttime                107350 non-null  object \n",
      " 2   stoptime                 107350 non-null  object \n",
      " 3   start station id         107350 non-null  int64  \n",
      " 4   start station name       107350 non-null  object \n",
      " 5   start station latitude   107350 non-null  float64\n",
      " 6   start station longitude  107350 non-null  float64\n",
      " 7   end station id           107350 non-null  int64  \n",
      " 8   end station name         107350 non-null  object \n",
      " 9   end station latitude     107350 non-null  float64\n",
      " 10  end station longitude    107350 non-null  float64\n",
      " 11  bikeid                   107350 non-null  int64  \n",
      " 12  usertype                 107350 non-null  object \n",
      " 13  birth year               107350 non-null  int64  \n",
      " 14  gender                   107350 non-null  int64  \n",
      "dtypes: float64(4), int64(6), object(5)\n",
      "memory usage: 12.3+ MB\n"
     ]
    }
   ],
   "source": [
    "# assess column names in each data set to see which column is missing\n",
    "df_03.info()"
   ]
  },
  {
   "cell_type": "code",
   "execution_count": 11,
   "metadata": {},
   "outputs": [
    {
     "data": {
      "text/plain": [
       "(46793, 15)"
      ]
     },
     "execution_count": 11,
     "metadata": {},
     "output_type": "execute_result"
    }
   ],
   "source": [
    "df_04 = pandas.read_csv('202004-bluebikes-tripdata.csv')\n",
    "df_04.shape"
   ]
  },
  {
   "cell_type": "code",
   "execution_count": 12,
   "metadata": {},
   "outputs": [
    {
     "name": "stdout",
     "output_type": "stream",
     "text": [
      "<class 'pandas.core.frame.DataFrame'>\n",
      "RangeIndex: 46793 entries, 0 to 46792\n",
      "Data columns (total 15 columns):\n",
      " #   Column                   Non-Null Count  Dtype  \n",
      "---  ------                   --------------  -----  \n",
      " 0   tripduration             46793 non-null  int64  \n",
      " 1   starttime                46793 non-null  object \n",
      " 2   stoptime                 46793 non-null  object \n",
      " 3   start station id         46793 non-null  int64  \n",
      " 4   start station name       46793 non-null  object \n",
      " 5   start station latitude   46793 non-null  float64\n",
      " 6   start station longitude  46793 non-null  float64\n",
      " 7   end station id           46793 non-null  int64  \n",
      " 8   end station name         46793 non-null  object \n",
      " 9   end station latitude     46793 non-null  float64\n",
      " 10  end station longitude    46793 non-null  float64\n",
      " 11  bikeid                   46793 non-null  int64  \n",
      " 12  usertype                 46793 non-null  object \n",
      " 13  birth year               46793 non-null  int64  \n",
      " 14  gender                   46793 non-null  int64  \n",
      "dtypes: float64(4), int64(6), object(5)\n",
      "memory usage: 5.4+ MB\n"
     ]
    }
   ],
   "source": [
    "# assess column names in each data set to see which column is missing\n",
    "df_04.info()"
   ]
  },
  {
   "cell_type": "code",
   "execution_count": 13,
   "metadata": {},
   "outputs": [
    {
     "data": {
      "text/plain": [
       "(124879, 14)"
      ]
     },
     "execution_count": 13,
     "metadata": {},
     "output_type": "execute_result"
    }
   ],
   "source": [
    "df_05 = pandas.read_csv('202005-bluebikes-tripdata.csv')\n",
    "df_05.shape"
   ]
  },
  {
   "cell_type": "code",
   "execution_count": 14,
   "metadata": {},
   "outputs": [
    {
     "name": "stdout",
     "output_type": "stream",
     "text": [
      "<class 'pandas.core.frame.DataFrame'>\n",
      "RangeIndex: 124879 entries, 0 to 124878\n",
      "Data columns (total 14 columns):\n",
      " #   Column                   Non-Null Count   Dtype  \n",
      "---  ------                   --------------   -----  \n",
      " 0   tripduration             124879 non-null  int64  \n",
      " 1   starttime                124879 non-null  object \n",
      " 2   stoptime                 124879 non-null  object \n",
      " 3   start station id         124879 non-null  int64  \n",
      " 4   start station name       124879 non-null  object \n",
      " 5   start station latitude   124879 non-null  float64\n",
      " 6   start station longitude  124879 non-null  float64\n",
      " 7   end station id           124879 non-null  int64  \n",
      " 8   end station name         124879 non-null  object \n",
      " 9   end station latitude     124879 non-null  float64\n",
      " 10  end station longitude    124879 non-null  float64\n",
      " 11  bikeid                   124879 non-null  int64  \n",
      " 12  usertype                 124879 non-null  object \n",
      " 13  postal code              110498 non-null  object \n",
      "dtypes: float64(4), int64(4), object(6)\n",
      "memory usage: 13.3+ MB\n"
     ]
    }
   ],
   "source": [
    "# assess column names in each data set to see which column is missing\n",
    "df_05.info()"
   ]
  },
  {
   "cell_type": "code",
   "execution_count": 15,
   "metadata": {},
   "outputs": [
    {
     "data": {
      "text/plain": [
       "(191843, 14)"
      ]
     },
     "execution_count": 15,
     "metadata": {},
     "output_type": "execute_result"
    }
   ],
   "source": [
    "df_06 = pandas.read_csv('202006-bluebikes-tripdata.csv')\n",
    "df_06.shape"
   ]
  },
  {
   "cell_type": "code",
   "execution_count": 16,
   "metadata": {},
   "outputs": [
    {
     "name": "stdout",
     "output_type": "stream",
     "text": [
      "<class 'pandas.core.frame.DataFrame'>\n",
      "RangeIndex: 191843 entries, 0 to 191842\n",
      "Data columns (total 14 columns):\n",
      " #   Column                   Non-Null Count   Dtype  \n",
      "---  ------                   --------------   -----  \n",
      " 0   tripduration             191843 non-null  int64  \n",
      " 1   starttime                191843 non-null  object \n",
      " 2   stoptime                 191843 non-null  object \n",
      " 3   start station id         191843 non-null  int64  \n",
      " 4   start station name       191843 non-null  object \n",
      " 5   start station latitude   191843 non-null  float64\n",
      " 6   start station longitude  191843 non-null  float64\n",
      " 7   end station id           191843 non-null  int64  \n",
      " 8   end station name         191843 non-null  object \n",
      " 9   end station latitude     191843 non-null  float64\n",
      " 10  end station longitude    191843 non-null  float64\n",
      " 11  bikeid                   191843 non-null  int64  \n",
      " 12  usertype                 191843 non-null  object \n",
      " 13  postal code              170883 non-null  object \n",
      "dtypes: float64(4), int64(4), object(6)\n",
      "memory usage: 20.5+ MB\n"
     ]
    }
   ],
   "source": [
    "# assess column names in each data set to see which column is missing\n",
    "df_06.info()"
   ]
  },
  {
   "cell_type": "code",
   "execution_count": 17,
   "metadata": {},
   "outputs": [
    {
     "data": {
      "text/plain": [
       "(259726, 14)"
      ]
     },
     "execution_count": 17,
     "metadata": {},
     "output_type": "execute_result"
    }
   ],
   "source": [
    "df_07 = pandas.read_csv('202007-bluebikes-tripdata.csv')\n",
    "df_07.shape"
   ]
  },
  {
   "cell_type": "code",
   "execution_count": 18,
   "metadata": {},
   "outputs": [
    {
     "name": "stdout",
     "output_type": "stream",
     "text": [
      "<class 'pandas.core.frame.DataFrame'>\n",
      "RangeIndex: 259726 entries, 0 to 259725\n",
      "Data columns (total 14 columns):\n",
      " #   Column                   Non-Null Count   Dtype  \n",
      "---  ------                   --------------   -----  \n",
      " 0   tripduration             259726 non-null  int64  \n",
      " 1   starttime                259726 non-null  object \n",
      " 2   stoptime                 259726 non-null  object \n",
      " 3   start station id         259726 non-null  int64  \n",
      " 4   start station name       259726 non-null  object \n",
      " 5   start station latitude   259726 non-null  float64\n",
      " 6   start station longitude  259726 non-null  float64\n",
      " 7   end station id           259726 non-null  int64  \n",
      " 8   end station name         259726 non-null  object \n",
      " 9   end station latitude     259726 non-null  float64\n",
      " 10  end station longitude    259726 non-null  float64\n",
      " 11  bikeid                   259726 non-null  int64  \n",
      " 12  usertype                 259726 non-null  object \n",
      " 13  postal code              230479 non-null  object \n",
      "dtypes: float64(4), int64(4), object(6)\n",
      "memory usage: 27.7+ MB\n"
     ]
    }
   ],
   "source": [
    "# assess column names in each data set to see which column is missing\n",
    "df_07.info()"
   ]
  },
  {
   "cell_type": "code",
   "execution_count": 19,
   "metadata": {},
   "outputs": [
    {
     "data": {
      "text/plain": [
       "(289033, 14)"
      ]
     },
     "execution_count": 19,
     "metadata": {},
     "output_type": "execute_result"
    }
   ],
   "source": [
    "df_08 = pandas.read_csv('202008-bluebikes-tripdata.csv')\n",
    "df_08.shape"
   ]
  },
  {
   "cell_type": "code",
   "execution_count": 20,
   "metadata": {},
   "outputs": [
    {
     "name": "stdout",
     "output_type": "stream",
     "text": [
      "<class 'pandas.core.frame.DataFrame'>\n",
      "RangeIndex: 289033 entries, 0 to 289032\n",
      "Data columns (total 14 columns):\n",
      " #   Column                   Non-Null Count   Dtype  \n",
      "---  ------                   --------------   -----  \n",
      " 0   tripduration             289033 non-null  int64  \n",
      " 1   starttime                289033 non-null  object \n",
      " 2   stoptime                 289033 non-null  object \n",
      " 3   start station id         289033 non-null  int64  \n",
      " 4   start station name       289033 non-null  object \n",
      " 5   start station latitude   289033 non-null  float64\n",
      " 6   start station longitude  289033 non-null  float64\n",
      " 7   end station id           289033 non-null  int64  \n",
      " 8   end station name         289033 non-null  object \n",
      " 9   end station latitude     289033 non-null  float64\n",
      " 10  end station longitude    289033 non-null  float64\n",
      " 11  bikeid                   289033 non-null  int64  \n",
      " 12  usertype                 289033 non-null  object \n",
      " 13  postal code              264273 non-null  object \n",
      "dtypes: float64(4), int64(4), object(6)\n",
      "memory usage: 30.9+ MB\n"
     ]
    }
   ],
   "source": [
    "# assess column names in each data set to see which column is missing\n",
    "df_08.info()"
   ]
  },
  {
   "cell_type": "code",
   "execution_count": 21,
   "metadata": {},
   "outputs": [
    {
     "data": {
      "text/plain": [
       "(307853, 14)"
      ]
     },
     "execution_count": 21,
     "metadata": {},
     "output_type": "execute_result"
    }
   ],
   "source": [
    "df_09 = pandas.read_csv('202009-bluebikes-tripdata.csv')\n",
    "df_09.shape"
   ]
  },
  {
   "cell_type": "code",
   "execution_count": 22,
   "metadata": {},
   "outputs": [
    {
     "name": "stdout",
     "output_type": "stream",
     "text": [
      "<class 'pandas.core.frame.DataFrame'>\n",
      "RangeIndex: 307853 entries, 0 to 307852\n",
      "Data columns (total 14 columns):\n",
      " #   Column                   Non-Null Count   Dtype  \n",
      "---  ------                   --------------   -----  \n",
      " 0   tripduration             307853 non-null  int64  \n",
      " 1   starttime                307853 non-null  object \n",
      " 2   stoptime                 307853 non-null  object \n",
      " 3   start station id         307853 non-null  int64  \n",
      " 4   start station name       307853 non-null  object \n",
      " 5   start station latitude   307853 non-null  float64\n",
      " 6   start station longitude  307853 non-null  float64\n",
      " 7   end station id           307853 non-null  int64  \n",
      " 8   end station name         307853 non-null  object \n",
      " 9   end station latitude     307853 non-null  float64\n",
      " 10  end station longitude    307853 non-null  float64\n",
      " 11  bikeid                   307853 non-null  int64  \n",
      " 12  usertype                 307853 non-null  object \n",
      " 13  postal code              284701 non-null  object \n",
      "dtypes: float64(4), int64(4), object(6)\n",
      "memory usage: 32.9+ MB\n"
     ]
    }
   ],
   "source": [
    "# assess column names in each data set to see which column is missing\n",
    "df_09.info()"
   ]
  },
  {
   "cell_type": "code",
   "execution_count": 23,
   "metadata": {},
   "outputs": [
    {
     "data": {
      "text/plain": [
       "(248424, 14)"
      ]
     },
     "execution_count": 23,
     "metadata": {},
     "output_type": "execute_result"
    }
   ],
   "source": [
    "df_10 = pandas.read_csv('202010-bluebikes-tripdata.csv')\n",
    "df_10.shape"
   ]
  },
  {
   "cell_type": "code",
   "execution_count": 24,
   "metadata": {},
   "outputs": [
    {
     "name": "stdout",
     "output_type": "stream",
     "text": [
      "<class 'pandas.core.frame.DataFrame'>\n",
      "RangeIndex: 248424 entries, 0 to 248423\n",
      "Data columns (total 14 columns):\n",
      " #   Column                   Non-Null Count   Dtype  \n",
      "---  ------                   --------------   -----  \n",
      " 0   tripduration             248424 non-null  int64  \n",
      " 1   starttime                248424 non-null  object \n",
      " 2   stoptime                 248424 non-null  object \n",
      " 3   start station id         248424 non-null  int64  \n",
      " 4   start station name       248424 non-null  object \n",
      " 5   start station latitude   248424 non-null  float64\n",
      " 6   start station longitude  248424 non-null  float64\n",
      " 7   end station id           248424 non-null  int64  \n",
      " 8   end station name         248424 non-null  object \n",
      " 9   end station latitude     248424 non-null  float64\n",
      " 10  end station longitude    248424 non-null  float64\n",
      " 11  bikeid                   248424 non-null  int64  \n",
      " 12  usertype                 248424 non-null  object \n",
      " 13  postal code              230070 non-null  object \n",
      "dtypes: float64(4), int64(4), object(6)\n",
      "memory usage: 26.5+ MB\n"
     ]
    }
   ],
   "source": [
    "# assess column names in each data set to see which column is missing\n",
    "df_10.info()"
   ]
  },
  {
   "cell_type": "code",
   "execution_count": 25,
   "metadata": {},
   "outputs": [
    {
     "data": {
      "text/plain": [
       "(161712, 14)"
      ]
     },
     "execution_count": 25,
     "metadata": {},
     "output_type": "execute_result"
    }
   ],
   "source": [
    "df_11 = pandas.read_csv('202011-bluebikes-tripdata.csv')\n",
    "df_11.shape"
   ]
  },
  {
   "cell_type": "code",
   "execution_count": 26,
   "metadata": {},
   "outputs": [
    {
     "name": "stdout",
     "output_type": "stream",
     "text": [
      "<class 'pandas.core.frame.DataFrame'>\n",
      "RangeIndex: 161712 entries, 0 to 161711\n",
      "Data columns (total 14 columns):\n",
      " #   Column                   Non-Null Count   Dtype  \n",
      "---  ------                   --------------   -----  \n",
      " 0   tripduration             161712 non-null  int64  \n",
      " 1   starttime                161712 non-null  object \n",
      " 2   stoptime                 161712 non-null  object \n",
      " 3   start station id         161712 non-null  int64  \n",
      " 4   start station name       161712 non-null  object \n",
      " 5   start station latitude   161712 non-null  float64\n",
      " 6   start station longitude  161712 non-null  float64\n",
      " 7   end station id           161712 non-null  int64  \n",
      " 8   end station name         161712 non-null  object \n",
      " 9   end station latitude     161712 non-null  float64\n",
      " 10  end station longitude    161712 non-null  float64\n",
      " 11  bikeid                   161712 non-null  int64  \n",
      " 12  usertype                 161712 non-null  object \n",
      " 13  postal code              151233 non-null  object \n",
      "dtypes: float64(4), int64(4), object(6)\n",
      "memory usage: 17.3+ MB\n"
     ]
    }
   ],
   "source": [
    "# assess column names in each data set to see which column is missing\n",
    "df_11.info()"
   ]
  },
  {
   "cell_type": "code",
   "execution_count": 27,
   "metadata": {},
   "outputs": [
    {
     "data": {
      "text/plain": [
       "(74002, 14)"
      ]
     },
     "execution_count": 27,
     "metadata": {},
     "output_type": "execute_result"
    }
   ],
   "source": [
    "df_12 = pandas.read_csv('202012-bluebikes-tripdata.csv')\n",
    "df_12.shape"
   ]
  },
  {
   "cell_type": "code",
   "execution_count": 28,
   "metadata": {},
   "outputs": [
    {
     "name": "stdout",
     "output_type": "stream",
     "text": [
      "<class 'pandas.core.frame.DataFrame'>\n",
      "RangeIndex: 74002 entries, 0 to 74001\n",
      "Data columns (total 14 columns):\n",
      " #   Column                   Non-Null Count  Dtype  \n",
      "---  ------                   --------------  -----  \n",
      " 0   tripduration             74002 non-null  int64  \n",
      " 1   starttime                74002 non-null  object \n",
      " 2   stoptime                 74002 non-null  object \n",
      " 3   start station id         74002 non-null  int64  \n",
      " 4   start station name       74002 non-null  object \n",
      " 5   start station latitude   74002 non-null  float64\n",
      " 6   start station longitude  74002 non-null  float64\n",
      " 7   end station id           74002 non-null  int64  \n",
      " 8   end station name         74002 non-null  object \n",
      " 9   end station latitude     74002 non-null  float64\n",
      " 10  end station longitude    74002 non-null  float64\n",
      " 11  bikeid                   74002 non-null  int64  \n",
      " 12  usertype                 74002 non-null  object \n",
      " 13  postal code              71109 non-null  object \n",
      "dtypes: float64(4), int64(4), object(6)\n",
      "memory usage: 7.9+ MB\n"
     ]
    }
   ],
   "source": [
    "# assess column names in each data set to see which column is missing\n",
    "df_12.info()"
   ]
  },
  {
   "cell_type": "markdown",
   "metadata": {},
   "source": [
    "### Summary of Assessment\n",
    "\n",
    "### Quality Issues\n",
    "*All datasets*\n",
    "- `starttime` and `stopttime` column is in object format, it should be datetime\n",
    "\n",
    "### Tidiness Issues\n",
    "\n",
    "- merge datasets (concat)\n",
    "- remove birthyear, postcalcode and gender columns as it only has partial month's data coverage, not the full year\n",
    "\n",
    "I have to state here, that I haven't gone through all the assessment like checking for missing values, etc. I would like to do that after merging the datasets together as it will be a lot easier like that so I assume that there will be a Cleaning Part 2 upon succeeding to merge the datasets together.\n",
    "\n"
   ]
  },
  {
   "cell_type": "markdown",
   "metadata": {},
   "source": [
    "## Cleaning dataset"
   ]
  },
  {
   "cell_type": "markdown",
   "metadata": {},
   "source": [
    "### Define \n",
    "- merge datasets (concat)\n",
    "\n",
    "Action: find best method to merge datasets"
   ]
  },
  {
   "cell_type": "markdown",
   "metadata": {},
   "source": [
    "### Code"
   ]
  },
  {
   "cell_type": "code",
   "execution_count": 29,
   "metadata": {},
   "outputs": [],
   "source": [
    "# make a copy of all datasets to be sure I can revert if things go wrong\n",
    "df_01_copy = df_01.copy()\n",
    "df_02_copy = df_02.copy()\n",
    "df_03_copy = df_03.copy()\n",
    "df_04_copy = df_04.copy()\n",
    "df_05_copy = df_05.copy()\n",
    "df_06_copy = df_06.copy()\n",
    "df_07_copy = df_07.copy()\n",
    "df_08_copy = df_08.copy()\n",
    "df_09_copy = df_09.copy()\n",
    "df_10_copy = df_10.copy()\n",
    "df_11_copy = df_11.copy()\n",
    "df_12_copy = df_12.copy()"
   ]
  },
  {
   "cell_type": "markdown",
   "metadata": {},
   "source": [
    "Check each copied datasets shape so I can see if I got all the data after merging"
   ]
  },
  {
   "cell_type": "code",
   "execution_count": 30,
   "metadata": {},
   "outputs": [
    {
     "data": {
      "text/plain": [
       "(128598, 15)"
      ]
     },
     "execution_count": 30,
     "metadata": {},
     "output_type": "execute_result"
    }
   ],
   "source": [
    "df_01_copy.shape"
   ]
  },
  {
   "cell_type": "code",
   "execution_count": 31,
   "metadata": {},
   "outputs": [
    {
     "data": {
      "text/plain": [
       "(133235, 15)"
      ]
     },
     "execution_count": 31,
     "metadata": {},
     "output_type": "execute_result"
    }
   ],
   "source": [
    "df_02_copy.shape"
   ]
  },
  {
   "cell_type": "code",
   "execution_count": 32,
   "metadata": {},
   "outputs": [
    {
     "data": {
      "text/plain": [
       "(107350, 15)"
      ]
     },
     "execution_count": 32,
     "metadata": {},
     "output_type": "execute_result"
    }
   ],
   "source": [
    "df_03_copy.shape"
   ]
  },
  {
   "cell_type": "code",
   "execution_count": 33,
   "metadata": {},
   "outputs": [
    {
     "data": {
      "text/plain": [
       "(46793, 15)"
      ]
     },
     "execution_count": 33,
     "metadata": {},
     "output_type": "execute_result"
    }
   ],
   "source": [
    "df_04_copy.shape"
   ]
  },
  {
   "cell_type": "code",
   "execution_count": 34,
   "metadata": {},
   "outputs": [
    {
     "data": {
      "text/plain": [
       "(124879, 14)"
      ]
     },
     "execution_count": 34,
     "metadata": {},
     "output_type": "execute_result"
    }
   ],
   "source": [
    "df_05_copy.shape"
   ]
  },
  {
   "cell_type": "code",
   "execution_count": 35,
   "metadata": {},
   "outputs": [
    {
     "data": {
      "text/plain": [
       "(191843, 14)"
      ]
     },
     "execution_count": 35,
     "metadata": {},
     "output_type": "execute_result"
    }
   ],
   "source": [
    "df_06_copy.shape"
   ]
  },
  {
   "cell_type": "code",
   "execution_count": 36,
   "metadata": {},
   "outputs": [
    {
     "data": {
      "text/plain": [
       "(259726, 14)"
      ]
     },
     "execution_count": 36,
     "metadata": {},
     "output_type": "execute_result"
    }
   ],
   "source": [
    "df_07_copy.shape"
   ]
  },
  {
   "cell_type": "code",
   "execution_count": 37,
   "metadata": {},
   "outputs": [
    {
     "data": {
      "text/plain": [
       "(289033, 14)"
      ]
     },
     "execution_count": 37,
     "metadata": {},
     "output_type": "execute_result"
    }
   ],
   "source": [
    "df_08_copy.shape"
   ]
  },
  {
   "cell_type": "code",
   "execution_count": 38,
   "metadata": {},
   "outputs": [
    {
     "data": {
      "text/plain": [
       "(307853, 14)"
      ]
     },
     "execution_count": 38,
     "metadata": {},
     "output_type": "execute_result"
    }
   ],
   "source": [
    "df_09_copy.shape"
   ]
  },
  {
   "cell_type": "code",
   "execution_count": 39,
   "metadata": {},
   "outputs": [
    {
     "data": {
      "text/plain": [
       "(248424, 14)"
      ]
     },
     "execution_count": 39,
     "metadata": {},
     "output_type": "execute_result"
    }
   ],
   "source": [
    "df_10_copy.shape"
   ]
  },
  {
   "cell_type": "code",
   "execution_count": 40,
   "metadata": {},
   "outputs": [
    {
     "data": {
      "text/plain": [
       "(161712, 14)"
      ]
     },
     "execution_count": 40,
     "metadata": {},
     "output_type": "execute_result"
    }
   ],
   "source": [
    "df_11_copy.shape"
   ]
  },
  {
   "cell_type": "code",
   "execution_count": 41,
   "metadata": {},
   "outputs": [
    {
     "data": {
      "text/plain": [
       "(74002, 14)"
      ]
     },
     "execution_count": 41,
     "metadata": {},
     "output_type": "execute_result"
    }
   ],
   "source": [
    "df_12_copy.shape"
   ]
  },
  {
   "cell_type": "markdown",
   "metadata": {},
   "source": [
    "Check if copies have the right columns"
   ]
  },
  {
   "cell_type": "code",
   "execution_count": 42,
   "metadata": {},
   "outputs": [
    {
     "data": {
      "text/html": [
       "<div>\n",
       "<style scoped>\n",
       "    .dataframe tbody tr th:only-of-type {\n",
       "        vertical-align: middle;\n",
       "    }\n",
       "\n",
       "    .dataframe tbody tr th {\n",
       "        vertical-align: top;\n",
       "    }\n",
       "\n",
       "    .dataframe thead th {\n",
       "        text-align: right;\n",
       "    }\n",
       "</style>\n",
       "<table border=\"1\" class=\"dataframe\">\n",
       "  <thead>\n",
       "    <tr style=\"text-align: right;\">\n",
       "      <th></th>\n",
       "      <th>tripduration</th>\n",
       "      <th>starttime</th>\n",
       "      <th>stoptime</th>\n",
       "      <th>start station id</th>\n",
       "      <th>start station name</th>\n",
       "      <th>start station latitude</th>\n",
       "      <th>start station longitude</th>\n",
       "      <th>end station id</th>\n",
       "      <th>end station name</th>\n",
       "      <th>end station latitude</th>\n",
       "      <th>end station longitude</th>\n",
       "      <th>bikeid</th>\n",
       "      <th>usertype</th>\n",
       "      <th>birth year</th>\n",
       "      <th>gender</th>\n",
       "    </tr>\n",
       "  </thead>\n",
       "  <tbody>\n",
       "    <tr>\n",
       "      <th>0</th>\n",
       "      <td>478</td>\n",
       "      <td>2020-01-01 00:04:05.8090</td>\n",
       "      <td>2020-01-01 00:12:04.2370</td>\n",
       "      <td>366</td>\n",
       "      <td>Broadway T Stop</td>\n",
       "      <td>42.342781</td>\n",
       "      <td>-71.057473</td>\n",
       "      <td>93</td>\n",
       "      <td>JFK/UMass T Stop</td>\n",
       "      <td>42.320340</td>\n",
       "      <td>-71.051180</td>\n",
       "      <td>6005</td>\n",
       "      <td>Customer</td>\n",
       "      <td>1969</td>\n",
       "      <td>0</td>\n",
       "    </tr>\n",
       "    <tr>\n",
       "      <th>1</th>\n",
       "      <td>363</td>\n",
       "      <td>2020-01-01 00:04:45.6990</td>\n",
       "      <td>2020-01-01 00:10:49.0400</td>\n",
       "      <td>219</td>\n",
       "      <td>Boston East - 126 Border St</td>\n",
       "      <td>42.373312</td>\n",
       "      <td>-71.041020</td>\n",
       "      <td>212</td>\n",
       "      <td>Maverick Square - Lewis Mall</td>\n",
       "      <td>42.368844</td>\n",
       "      <td>-71.039778</td>\n",
       "      <td>3168</td>\n",
       "      <td>Subscriber</td>\n",
       "      <td>2000</td>\n",
       "      <td>1</td>\n",
       "    </tr>\n",
       "    <tr>\n",
       "      <th>2</th>\n",
       "      <td>284</td>\n",
       "      <td>2020-01-01 00:06:07.0630</td>\n",
       "      <td>2020-01-01 00:10:51.9240</td>\n",
       "      <td>219</td>\n",
       "      <td>Boston East - 126 Border St</td>\n",
       "      <td>42.373312</td>\n",
       "      <td>-71.041020</td>\n",
       "      <td>212</td>\n",
       "      <td>Maverick Square - Lewis Mall</td>\n",
       "      <td>42.368844</td>\n",
       "      <td>-71.039778</td>\n",
       "      <td>3985</td>\n",
       "      <td>Subscriber</td>\n",
       "      <td>2001</td>\n",
       "      <td>1</td>\n",
       "    </tr>\n",
       "    <tr>\n",
       "      <th>3</th>\n",
       "      <td>193</td>\n",
       "      <td>2020-01-01 00:06:13.8550</td>\n",
       "      <td>2020-01-01 00:09:27.8320</td>\n",
       "      <td>396</td>\n",
       "      <td>Main St at Beacon St</td>\n",
       "      <td>42.409330</td>\n",
       "      <td>-71.063819</td>\n",
       "      <td>387</td>\n",
       "      <td>Norman St at Kelvin St</td>\n",
       "      <td>42.409859</td>\n",
       "      <td>-71.066319</td>\n",
       "      <td>2692</td>\n",
       "      <td>Subscriber</td>\n",
       "      <td>1978</td>\n",
       "      <td>1</td>\n",
       "    </tr>\n",
       "    <tr>\n",
       "      <th>4</th>\n",
       "      <td>428</td>\n",
       "      <td>2020-01-01 00:07:25.2950</td>\n",
       "      <td>2020-01-01 00:14:33.7800</td>\n",
       "      <td>60</td>\n",
       "      <td>Charles Circle - Charles St at Cambridge St</td>\n",
       "      <td>42.360793</td>\n",
       "      <td>-71.071190</td>\n",
       "      <td>49</td>\n",
       "      <td>Stuart St at Charles St</td>\n",
       "      <td>42.351146</td>\n",
       "      <td>-71.066289</td>\n",
       "      <td>4978</td>\n",
       "      <td>Subscriber</td>\n",
       "      <td>1987</td>\n",
       "      <td>1</td>\n",
       "    </tr>\n",
       "  </tbody>\n",
       "</table>\n",
       "</div>"
      ],
      "text/plain": [
       "   tripduration                 starttime                  stoptime  \\\n",
       "0           478  2020-01-01 00:04:05.8090  2020-01-01 00:12:04.2370   \n",
       "1           363  2020-01-01 00:04:45.6990  2020-01-01 00:10:49.0400   \n",
       "2           284  2020-01-01 00:06:07.0630  2020-01-01 00:10:51.9240   \n",
       "3           193  2020-01-01 00:06:13.8550  2020-01-01 00:09:27.8320   \n",
       "4           428  2020-01-01 00:07:25.2950  2020-01-01 00:14:33.7800   \n",
       "\n",
       "   start station id                           start station name  \\\n",
       "0               366                              Broadway T Stop   \n",
       "1               219                  Boston East - 126 Border St   \n",
       "2               219                  Boston East - 126 Border St   \n",
       "3               396                         Main St at Beacon St   \n",
       "4                60  Charles Circle - Charles St at Cambridge St   \n",
       "\n",
       "   start station latitude  start station longitude  end station id  \\\n",
       "0               42.342781               -71.057473              93   \n",
       "1               42.373312               -71.041020             212   \n",
       "2               42.373312               -71.041020             212   \n",
       "3               42.409330               -71.063819             387   \n",
       "4               42.360793               -71.071190              49   \n",
       "\n",
       "               end station name  end station latitude  end station longitude  \\\n",
       "0              JFK/UMass T Stop             42.320340             -71.051180   \n",
       "1  Maverick Square - Lewis Mall             42.368844             -71.039778   \n",
       "2  Maverick Square - Lewis Mall             42.368844             -71.039778   \n",
       "3        Norman St at Kelvin St             42.409859             -71.066319   \n",
       "4       Stuart St at Charles St             42.351146             -71.066289   \n",
       "\n",
       "   bikeid    usertype  birth year  gender  \n",
       "0    6005    Customer        1969       0  \n",
       "1    3168  Subscriber        2000       1  \n",
       "2    3985  Subscriber        2001       1  \n",
       "3    2692  Subscriber        1978       1  \n",
       "4    4978  Subscriber        1987       1  "
      ]
     },
     "execution_count": 42,
     "metadata": {},
     "output_type": "execute_result"
    }
   ],
   "source": [
    "df_01_copy.head()"
   ]
  },
  {
   "cell_type": "code",
   "execution_count": 43,
   "metadata": {},
   "outputs": [
    {
     "data": {
      "text/html": [
       "<div>\n",
       "<style scoped>\n",
       "    .dataframe tbody tr th:only-of-type {\n",
       "        vertical-align: middle;\n",
       "    }\n",
       "\n",
       "    .dataframe tbody tr th {\n",
       "        vertical-align: top;\n",
       "    }\n",
       "\n",
       "    .dataframe thead th {\n",
       "        text-align: right;\n",
       "    }\n",
       "</style>\n",
       "<table border=\"1\" class=\"dataframe\">\n",
       "  <thead>\n",
       "    <tr style=\"text-align: right;\">\n",
       "      <th></th>\n",
       "      <th>tripduration</th>\n",
       "      <th>starttime</th>\n",
       "      <th>stoptime</th>\n",
       "      <th>start station id</th>\n",
       "      <th>start station name</th>\n",
       "      <th>start station latitude</th>\n",
       "      <th>start station longitude</th>\n",
       "      <th>end station id</th>\n",
       "      <th>end station name</th>\n",
       "      <th>end station latitude</th>\n",
       "      <th>end station longitude</th>\n",
       "      <th>bikeid</th>\n",
       "      <th>usertype</th>\n",
       "      <th>postal code</th>\n",
       "    </tr>\n",
       "  </thead>\n",
       "  <tbody>\n",
       "    <tr>\n",
       "      <th>0</th>\n",
       "      <td>1160</td>\n",
       "      <td>2020-06-01 00:00:25.6240</td>\n",
       "      <td>2020-06-01 00:19:45.7010</td>\n",
       "      <td>192</td>\n",
       "      <td>Purchase St at Pearl St</td>\n",
       "      <td>42.354659</td>\n",
       "      <td>-71.053181</td>\n",
       "      <td>366</td>\n",
       "      <td>Broadway T Stop</td>\n",
       "      <td>42.342781</td>\n",
       "      <td>-71.057473</td>\n",
       "      <td>2831</td>\n",
       "      <td>Customer</td>\n",
       "      <td>NaN</td>\n",
       "    </tr>\n",
       "    <tr>\n",
       "      <th>1</th>\n",
       "      <td>1419</td>\n",
       "      <td>2020-06-01 00:01:09.3800</td>\n",
       "      <td>2020-06-01 00:24:48.9520</td>\n",
       "      <td>355</td>\n",
       "      <td>Bennington St at Constitution Beach</td>\n",
       "      <td>42.385224</td>\n",
       "      <td>-71.010631</td>\n",
       "      <td>355</td>\n",
       "      <td>Bennington St at Constitution Beach</td>\n",
       "      <td>42.385224</td>\n",
       "      <td>-71.010631</td>\n",
       "      <td>5696</td>\n",
       "      <td>Customer</td>\n",
       "      <td>02128</td>\n",
       "    </tr>\n",
       "    <tr>\n",
       "      <th>2</th>\n",
       "      <td>1093</td>\n",
       "      <td>2020-06-01 00:01:29.4790</td>\n",
       "      <td>2020-06-01 00:19:43.3530</td>\n",
       "      <td>131</td>\n",
       "      <td>Jackson Square T Stop</td>\n",
       "      <td>42.322931</td>\n",
       "      <td>-71.100141</td>\n",
       "      <td>331</td>\n",
       "      <td>Huntington Ave at Mass Art</td>\n",
       "      <td>42.336586</td>\n",
       "      <td>-71.098870</td>\n",
       "      <td>3922</td>\n",
       "      <td>Subscriber</td>\n",
       "      <td>10570</td>\n",
       "    </tr>\n",
       "    <tr>\n",
       "      <th>3</th>\n",
       "      <td>1067</td>\n",
       "      <td>2020-06-01 00:01:35.8540</td>\n",
       "      <td>2020-06-01 00:19:23.3250</td>\n",
       "      <td>131</td>\n",
       "      <td>Jackson Square T Stop</td>\n",
       "      <td>42.322931</td>\n",
       "      <td>-71.100141</td>\n",
       "      <td>331</td>\n",
       "      <td>Huntington Ave at Mass Art</td>\n",
       "      <td>42.336586</td>\n",
       "      <td>-71.098870</td>\n",
       "      <td>3361</td>\n",
       "      <td>Subscriber</td>\n",
       "      <td>10570</td>\n",
       "    </tr>\n",
       "    <tr>\n",
       "      <th>4</th>\n",
       "      <td>1391</td>\n",
       "      <td>2020-06-01 00:01:51.0390</td>\n",
       "      <td>2020-06-01 00:25:02.8460</td>\n",
       "      <td>355</td>\n",
       "      <td>Bennington St at Constitution Beach</td>\n",
       "      <td>42.385224</td>\n",
       "      <td>-71.010631</td>\n",
       "      <td>355</td>\n",
       "      <td>Bennington St at Constitution Beach</td>\n",
       "      <td>42.385224</td>\n",
       "      <td>-71.010631</td>\n",
       "      <td>3621</td>\n",
       "      <td>Customer</td>\n",
       "      <td>01902</td>\n",
       "    </tr>\n",
       "  </tbody>\n",
       "</table>\n",
       "</div>"
      ],
      "text/plain": [
       "   tripduration                 starttime                  stoptime  \\\n",
       "0          1160  2020-06-01 00:00:25.6240  2020-06-01 00:19:45.7010   \n",
       "1          1419  2020-06-01 00:01:09.3800  2020-06-01 00:24:48.9520   \n",
       "2          1093  2020-06-01 00:01:29.4790  2020-06-01 00:19:43.3530   \n",
       "3          1067  2020-06-01 00:01:35.8540  2020-06-01 00:19:23.3250   \n",
       "4          1391  2020-06-01 00:01:51.0390  2020-06-01 00:25:02.8460   \n",
       "\n",
       "   start station id                   start station name  \\\n",
       "0               192              Purchase St at Pearl St   \n",
       "1               355  Bennington St at Constitution Beach   \n",
       "2               131                Jackson Square T Stop   \n",
       "3               131                Jackson Square T Stop   \n",
       "4               355  Bennington St at Constitution Beach   \n",
       "\n",
       "   start station latitude  start station longitude  end station id  \\\n",
       "0               42.354659               -71.053181             366   \n",
       "1               42.385224               -71.010631             355   \n",
       "2               42.322931               -71.100141             331   \n",
       "3               42.322931               -71.100141             331   \n",
       "4               42.385224               -71.010631             355   \n",
       "\n",
       "                      end station name  end station latitude  \\\n",
       "0                      Broadway T Stop             42.342781   \n",
       "1  Bennington St at Constitution Beach             42.385224   \n",
       "2           Huntington Ave at Mass Art             42.336586   \n",
       "3           Huntington Ave at Mass Art             42.336586   \n",
       "4  Bennington St at Constitution Beach             42.385224   \n",
       "\n",
       "   end station longitude  bikeid    usertype postal code  \n",
       "0             -71.057473    2831    Customer         NaN  \n",
       "1             -71.010631    5696    Customer       02128  \n",
       "2             -71.098870    3922  Subscriber       10570  \n",
       "3             -71.098870    3361  Subscriber       10570  \n",
       "4             -71.010631    3621    Customer       01902  "
      ]
     },
     "execution_count": 43,
     "metadata": {},
     "output_type": "execute_result"
    }
   ],
   "source": [
    "df_06_copy.head()"
   ]
  },
  {
   "cell_type": "code",
   "execution_count": 44,
   "metadata": {},
   "outputs": [],
   "source": [
    "# concat the data sets\n",
    "df_concatenated_columns_all = pandas.concat([df_01_copy, df_02_copy, df_03_copy, df_04_copy, df_05_copy, df_06_copy, df_07_copy, df_08_copy, df_09_copy, df_10_copy, df_11_copy, df_12_copy,])\n"
   ]
  },
  {
   "cell_type": "markdown",
   "metadata": {},
   "source": [
    "### Test"
   ]
  },
  {
   "cell_type": "code",
   "execution_count": 45,
   "metadata": {},
   "outputs": [
    {
     "data": {
      "text/html": [
       "<div>\n",
       "<style scoped>\n",
       "    .dataframe tbody tr th:only-of-type {\n",
       "        vertical-align: middle;\n",
       "    }\n",
       "\n",
       "    .dataframe tbody tr th {\n",
       "        vertical-align: top;\n",
       "    }\n",
       "\n",
       "    .dataframe thead th {\n",
       "        text-align: right;\n",
       "    }\n",
       "</style>\n",
       "<table border=\"1\" class=\"dataframe\">\n",
       "  <thead>\n",
       "    <tr style=\"text-align: right;\">\n",
       "      <th></th>\n",
       "      <th>tripduration</th>\n",
       "      <th>starttime</th>\n",
       "      <th>stoptime</th>\n",
       "      <th>start station id</th>\n",
       "      <th>start station name</th>\n",
       "      <th>start station latitude</th>\n",
       "      <th>start station longitude</th>\n",
       "      <th>end station id</th>\n",
       "      <th>end station name</th>\n",
       "      <th>end station latitude</th>\n",
       "      <th>end station longitude</th>\n",
       "      <th>bikeid</th>\n",
       "      <th>usertype</th>\n",
       "      <th>birth year</th>\n",
       "      <th>gender</th>\n",
       "      <th>postal code</th>\n",
       "    </tr>\n",
       "  </thead>\n",
       "  <tbody>\n",
       "    <tr>\n",
       "      <th>0</th>\n",
       "      <td>478</td>\n",
       "      <td>2020-01-01 00:04:05.8090</td>\n",
       "      <td>2020-01-01 00:12:04.2370</td>\n",
       "      <td>366</td>\n",
       "      <td>Broadway T Stop</td>\n",
       "      <td>42.342781</td>\n",
       "      <td>-71.057473</td>\n",
       "      <td>93</td>\n",
       "      <td>JFK/UMass T Stop</td>\n",
       "      <td>42.320340</td>\n",
       "      <td>-71.051180</td>\n",
       "      <td>6005</td>\n",
       "      <td>Customer</td>\n",
       "      <td>1969.0</td>\n",
       "      <td>0.0</td>\n",
       "      <td>NaN</td>\n",
       "    </tr>\n",
       "    <tr>\n",
       "      <th>1</th>\n",
       "      <td>363</td>\n",
       "      <td>2020-01-01 00:04:45.6990</td>\n",
       "      <td>2020-01-01 00:10:49.0400</td>\n",
       "      <td>219</td>\n",
       "      <td>Boston East - 126 Border St</td>\n",
       "      <td>42.373312</td>\n",
       "      <td>-71.041020</td>\n",
       "      <td>212</td>\n",
       "      <td>Maverick Square - Lewis Mall</td>\n",
       "      <td>42.368844</td>\n",
       "      <td>-71.039778</td>\n",
       "      <td>3168</td>\n",
       "      <td>Subscriber</td>\n",
       "      <td>2000.0</td>\n",
       "      <td>1.0</td>\n",
       "      <td>NaN</td>\n",
       "    </tr>\n",
       "    <tr>\n",
       "      <th>2</th>\n",
       "      <td>284</td>\n",
       "      <td>2020-01-01 00:06:07.0630</td>\n",
       "      <td>2020-01-01 00:10:51.9240</td>\n",
       "      <td>219</td>\n",
       "      <td>Boston East - 126 Border St</td>\n",
       "      <td>42.373312</td>\n",
       "      <td>-71.041020</td>\n",
       "      <td>212</td>\n",
       "      <td>Maverick Square - Lewis Mall</td>\n",
       "      <td>42.368844</td>\n",
       "      <td>-71.039778</td>\n",
       "      <td>3985</td>\n",
       "      <td>Subscriber</td>\n",
       "      <td>2001.0</td>\n",
       "      <td>1.0</td>\n",
       "      <td>NaN</td>\n",
       "    </tr>\n",
       "    <tr>\n",
       "      <th>3</th>\n",
       "      <td>193</td>\n",
       "      <td>2020-01-01 00:06:13.8550</td>\n",
       "      <td>2020-01-01 00:09:27.8320</td>\n",
       "      <td>396</td>\n",
       "      <td>Main St at Beacon St</td>\n",
       "      <td>42.409330</td>\n",
       "      <td>-71.063819</td>\n",
       "      <td>387</td>\n",
       "      <td>Norman St at Kelvin St</td>\n",
       "      <td>42.409859</td>\n",
       "      <td>-71.066319</td>\n",
       "      <td>2692</td>\n",
       "      <td>Subscriber</td>\n",
       "      <td>1978.0</td>\n",
       "      <td>1.0</td>\n",
       "      <td>NaN</td>\n",
       "    </tr>\n",
       "    <tr>\n",
       "      <th>4</th>\n",
       "      <td>428</td>\n",
       "      <td>2020-01-01 00:07:25.2950</td>\n",
       "      <td>2020-01-01 00:14:33.7800</td>\n",
       "      <td>60</td>\n",
       "      <td>Charles Circle - Charles St at Cambridge St</td>\n",
       "      <td>42.360793</td>\n",
       "      <td>-71.071190</td>\n",
       "      <td>49</td>\n",
       "      <td>Stuart St at Charles St</td>\n",
       "      <td>42.351146</td>\n",
       "      <td>-71.066289</td>\n",
       "      <td>4978</td>\n",
       "      <td>Subscriber</td>\n",
       "      <td>1987.0</td>\n",
       "      <td>1.0</td>\n",
       "      <td>NaN</td>\n",
       "    </tr>\n",
       "  </tbody>\n",
       "</table>\n",
       "</div>"
      ],
      "text/plain": [
       "   tripduration                 starttime                  stoptime  \\\n",
       "0           478  2020-01-01 00:04:05.8090  2020-01-01 00:12:04.2370   \n",
       "1           363  2020-01-01 00:04:45.6990  2020-01-01 00:10:49.0400   \n",
       "2           284  2020-01-01 00:06:07.0630  2020-01-01 00:10:51.9240   \n",
       "3           193  2020-01-01 00:06:13.8550  2020-01-01 00:09:27.8320   \n",
       "4           428  2020-01-01 00:07:25.2950  2020-01-01 00:14:33.7800   \n",
       "\n",
       "   start station id                           start station name  \\\n",
       "0               366                              Broadway T Stop   \n",
       "1               219                  Boston East - 126 Border St   \n",
       "2               219                  Boston East - 126 Border St   \n",
       "3               396                         Main St at Beacon St   \n",
       "4                60  Charles Circle - Charles St at Cambridge St   \n",
       "\n",
       "   start station latitude  start station longitude  end station id  \\\n",
       "0               42.342781               -71.057473              93   \n",
       "1               42.373312               -71.041020             212   \n",
       "2               42.373312               -71.041020             212   \n",
       "3               42.409330               -71.063819             387   \n",
       "4               42.360793               -71.071190              49   \n",
       "\n",
       "               end station name  end station latitude  end station longitude  \\\n",
       "0              JFK/UMass T Stop             42.320340             -71.051180   \n",
       "1  Maverick Square - Lewis Mall             42.368844             -71.039778   \n",
       "2  Maverick Square - Lewis Mall             42.368844             -71.039778   \n",
       "3        Norman St at Kelvin St             42.409859             -71.066319   \n",
       "4       Stuart St at Charles St             42.351146             -71.066289   \n",
       "\n",
       "   bikeid    usertype  birth year  gender postal code  \n",
       "0    6005    Customer      1969.0     0.0         NaN  \n",
       "1    3168  Subscriber      2000.0     1.0         NaN  \n",
       "2    3985  Subscriber      2001.0     1.0         NaN  \n",
       "3    2692  Subscriber      1978.0     1.0         NaN  \n",
       "4    4978  Subscriber      1987.0     1.0         NaN  "
      ]
     },
     "execution_count": 45,
     "metadata": {},
     "output_type": "execute_result"
    }
   ],
   "source": [
    "df_concatenated_columns_all.head()"
   ]
  },
  {
   "cell_type": "code",
   "execution_count": 46,
   "metadata": {},
   "outputs": [
    {
     "name": "stdout",
     "output_type": "stream",
     "text": [
      "<class 'pandas.core.frame.DataFrame'>\n",
      "Int64Index: 2073448 entries, 0 to 74001\n",
      "Data columns (total 16 columns):\n",
      " #   Column                   Dtype  \n",
      "---  ------                   -----  \n",
      " 0   tripduration             int64  \n",
      " 1   starttime                object \n",
      " 2   stoptime                 object \n",
      " 3   start station id         int64  \n",
      " 4   start station name       object \n",
      " 5   start station latitude   float64\n",
      " 6   start station longitude  float64\n",
      " 7   end station id           int64  \n",
      " 8   end station name         object \n",
      " 9   end station latitude     float64\n",
      " 10  end station longitude    float64\n",
      " 11  bikeid                   int64  \n",
      " 12  usertype                 object \n",
      " 13  birth year               float64\n",
      " 14  gender                   float64\n",
      " 15  postal code              object \n",
      "dtypes: float64(6), int64(4), object(6)\n",
      "memory usage: 268.9+ MB\n"
     ]
    }
   ],
   "source": [
    "df_concatenated_columns_all.info()"
   ]
  },
  {
   "cell_type": "code",
   "execution_count": 47,
   "metadata": {},
   "outputs": [
    {
     "data": {
      "text/plain": [
       "(2073448, 16)"
      ]
     },
     "execution_count": 47,
     "metadata": {},
     "output_type": "execute_result"
    }
   ],
   "source": [
    "df_concatenated_columns_all.shape"
   ]
  },
  {
   "cell_type": "code",
   "execution_count": 48,
   "metadata": {},
   "outputs": [],
   "source": [
    "df_all = df_concatenated_columns_all.copy()"
   ]
  },
  {
   "cell_type": "code",
   "execution_count": 49,
   "metadata": {},
   "outputs": [
    {
     "data": {
      "text/plain": [
       "(2073448, 16)"
      ]
     },
     "execution_count": 49,
     "metadata": {},
     "output_type": "execute_result"
    }
   ],
   "source": [
    "df_all.shape\n"
   ]
  },
  {
   "cell_type": "markdown",
   "metadata": {},
   "source": [
    "### Define\n",
    "- remove birth year, gender and postal code columns\n",
    "\n",
    "Action: \n",
    "drop these columns permanently"
   ]
  },
  {
   "cell_type": "markdown",
   "metadata": {},
   "source": [
    "### Code"
   ]
  },
  {
   "cell_type": "code",
   "execution_count": 50,
   "metadata": {},
   "outputs": [],
   "source": [
    "df_all.drop(['birth year', 'postal code', 'gender'], axis=1, inplace=True)"
   ]
  },
  {
   "cell_type": "markdown",
   "metadata": {},
   "source": [
    "### Test"
   ]
  },
  {
   "cell_type": "code",
   "execution_count": 51,
   "metadata": {},
   "outputs": [
    {
     "data": {
      "text/html": [
       "<div>\n",
       "<style scoped>\n",
       "    .dataframe tbody tr th:only-of-type {\n",
       "        vertical-align: middle;\n",
       "    }\n",
       "\n",
       "    .dataframe tbody tr th {\n",
       "        vertical-align: top;\n",
       "    }\n",
       "\n",
       "    .dataframe thead th {\n",
       "        text-align: right;\n",
       "    }\n",
       "</style>\n",
       "<table border=\"1\" class=\"dataframe\">\n",
       "  <thead>\n",
       "    <tr style=\"text-align: right;\">\n",
       "      <th></th>\n",
       "      <th>tripduration</th>\n",
       "      <th>starttime</th>\n",
       "      <th>stoptime</th>\n",
       "      <th>start station id</th>\n",
       "      <th>start station name</th>\n",
       "      <th>start station latitude</th>\n",
       "      <th>start station longitude</th>\n",
       "      <th>end station id</th>\n",
       "      <th>end station name</th>\n",
       "      <th>end station latitude</th>\n",
       "      <th>end station longitude</th>\n",
       "      <th>bikeid</th>\n",
       "      <th>usertype</th>\n",
       "    </tr>\n",
       "  </thead>\n",
       "  <tbody>\n",
       "    <tr>\n",
       "      <th>0</th>\n",
       "      <td>478</td>\n",
       "      <td>2020-01-01 00:04:05.8090</td>\n",
       "      <td>2020-01-01 00:12:04.2370</td>\n",
       "      <td>366</td>\n",
       "      <td>Broadway T Stop</td>\n",
       "      <td>42.342781</td>\n",
       "      <td>-71.057473</td>\n",
       "      <td>93</td>\n",
       "      <td>JFK/UMass T Stop</td>\n",
       "      <td>42.320340</td>\n",
       "      <td>-71.051180</td>\n",
       "      <td>6005</td>\n",
       "      <td>Customer</td>\n",
       "    </tr>\n",
       "    <tr>\n",
       "      <th>1</th>\n",
       "      <td>363</td>\n",
       "      <td>2020-01-01 00:04:45.6990</td>\n",
       "      <td>2020-01-01 00:10:49.0400</td>\n",
       "      <td>219</td>\n",
       "      <td>Boston East - 126 Border St</td>\n",
       "      <td>42.373312</td>\n",
       "      <td>-71.041020</td>\n",
       "      <td>212</td>\n",
       "      <td>Maverick Square - Lewis Mall</td>\n",
       "      <td>42.368844</td>\n",
       "      <td>-71.039778</td>\n",
       "      <td>3168</td>\n",
       "      <td>Subscriber</td>\n",
       "    </tr>\n",
       "    <tr>\n",
       "      <th>2</th>\n",
       "      <td>284</td>\n",
       "      <td>2020-01-01 00:06:07.0630</td>\n",
       "      <td>2020-01-01 00:10:51.9240</td>\n",
       "      <td>219</td>\n",
       "      <td>Boston East - 126 Border St</td>\n",
       "      <td>42.373312</td>\n",
       "      <td>-71.041020</td>\n",
       "      <td>212</td>\n",
       "      <td>Maverick Square - Lewis Mall</td>\n",
       "      <td>42.368844</td>\n",
       "      <td>-71.039778</td>\n",
       "      <td>3985</td>\n",
       "      <td>Subscriber</td>\n",
       "    </tr>\n",
       "    <tr>\n",
       "      <th>3</th>\n",
       "      <td>193</td>\n",
       "      <td>2020-01-01 00:06:13.8550</td>\n",
       "      <td>2020-01-01 00:09:27.8320</td>\n",
       "      <td>396</td>\n",
       "      <td>Main St at Beacon St</td>\n",
       "      <td>42.409330</td>\n",
       "      <td>-71.063819</td>\n",
       "      <td>387</td>\n",
       "      <td>Norman St at Kelvin St</td>\n",
       "      <td>42.409859</td>\n",
       "      <td>-71.066319</td>\n",
       "      <td>2692</td>\n",
       "      <td>Subscriber</td>\n",
       "    </tr>\n",
       "    <tr>\n",
       "      <th>4</th>\n",
       "      <td>428</td>\n",
       "      <td>2020-01-01 00:07:25.2950</td>\n",
       "      <td>2020-01-01 00:14:33.7800</td>\n",
       "      <td>60</td>\n",
       "      <td>Charles Circle - Charles St at Cambridge St</td>\n",
       "      <td>42.360793</td>\n",
       "      <td>-71.071190</td>\n",
       "      <td>49</td>\n",
       "      <td>Stuart St at Charles St</td>\n",
       "      <td>42.351146</td>\n",
       "      <td>-71.066289</td>\n",
       "      <td>4978</td>\n",
       "      <td>Subscriber</td>\n",
       "    </tr>\n",
       "  </tbody>\n",
       "</table>\n",
       "</div>"
      ],
      "text/plain": [
       "   tripduration                 starttime                  stoptime  \\\n",
       "0           478  2020-01-01 00:04:05.8090  2020-01-01 00:12:04.2370   \n",
       "1           363  2020-01-01 00:04:45.6990  2020-01-01 00:10:49.0400   \n",
       "2           284  2020-01-01 00:06:07.0630  2020-01-01 00:10:51.9240   \n",
       "3           193  2020-01-01 00:06:13.8550  2020-01-01 00:09:27.8320   \n",
       "4           428  2020-01-01 00:07:25.2950  2020-01-01 00:14:33.7800   \n",
       "\n",
       "   start station id                           start station name  \\\n",
       "0               366                              Broadway T Stop   \n",
       "1               219                  Boston East - 126 Border St   \n",
       "2               219                  Boston East - 126 Border St   \n",
       "3               396                         Main St at Beacon St   \n",
       "4                60  Charles Circle - Charles St at Cambridge St   \n",
       "\n",
       "   start station latitude  start station longitude  end station id  \\\n",
       "0               42.342781               -71.057473              93   \n",
       "1               42.373312               -71.041020             212   \n",
       "2               42.373312               -71.041020             212   \n",
       "3               42.409330               -71.063819             387   \n",
       "4               42.360793               -71.071190              49   \n",
       "\n",
       "               end station name  end station latitude  end station longitude  \\\n",
       "0              JFK/UMass T Stop             42.320340             -71.051180   \n",
       "1  Maverick Square - Lewis Mall             42.368844             -71.039778   \n",
       "2  Maverick Square - Lewis Mall             42.368844             -71.039778   \n",
       "3        Norman St at Kelvin St             42.409859             -71.066319   \n",
       "4       Stuart St at Charles St             42.351146             -71.066289   \n",
       "\n",
       "   bikeid    usertype  \n",
       "0    6005    Customer  \n",
       "1    3168  Subscriber  \n",
       "2    3985  Subscriber  \n",
       "3    2692  Subscriber  \n",
       "4    4978  Subscriber  "
      ]
     },
     "execution_count": 51,
     "metadata": {},
     "output_type": "execute_result"
    }
   ],
   "source": [
    "df_all.head()"
   ]
  },
  {
   "cell_type": "markdown",
   "metadata": {},
   "source": [
    "### Define\n",
    "- `starttime` and `stopttime` column is in object format, it should be datetime\n",
    "\n",
    "Action: convert these to datetime"
   ]
  },
  {
   "cell_type": "markdown",
   "metadata": {},
   "source": [
    "### Code"
   ]
  },
  {
   "cell_type": "code",
   "execution_count": 52,
   "metadata": {},
   "outputs": [],
   "source": [
    "# convert starttime field into datetime\n",
    "df_all['starttime'] = pandas.to_datetime(df_all['starttime'])"
   ]
  },
  {
   "cell_type": "code",
   "execution_count": 53,
   "metadata": {},
   "outputs": [],
   "source": [
    "# convert stoptime field into datetime\n",
    "df_all['stoptime'] = pandas.to_datetime(df_all['stoptime'])"
   ]
  },
  {
   "cell_type": "markdown",
   "metadata": {},
   "source": [
    "### Test"
   ]
  },
  {
   "cell_type": "code",
   "execution_count": 54,
   "metadata": {},
   "outputs": [
    {
     "data": {
      "text/plain": [
       "tripduration                        int64\n",
       "starttime                  datetime64[ns]\n",
       "stoptime                   datetime64[ns]\n",
       "start station id                    int64\n",
       "start station name                 object\n",
       "start station latitude            float64\n",
       "start station longitude           float64\n",
       "end station id                      int64\n",
       "end station name                   object\n",
       "end station latitude              float64\n",
       "end station longitude             float64\n",
       "bikeid                              int64\n",
       "usertype                           object\n",
       "dtype: object"
      ]
     },
     "execution_count": 54,
     "metadata": {},
     "output_type": "execute_result"
    }
   ],
   "source": [
    "df_all.dtypes"
   ]
  },
  {
   "cell_type": "markdown",
   "metadata": {},
   "source": [
    "## Cleaning part 2"
   ]
  },
  {
   "cell_type": "markdown",
   "metadata": {},
   "source": [
    "Let's first check if there are any outliers in the data."
   ]
  },
  {
   "cell_type": "code",
   "execution_count": 55,
   "metadata": {},
   "outputs": [
    {
     "data": {
      "text/html": [
       "<div>\n",
       "<style scoped>\n",
       "    .dataframe tbody tr th:only-of-type {\n",
       "        vertical-align: middle;\n",
       "    }\n",
       "\n",
       "    .dataframe tbody tr th {\n",
       "        vertical-align: top;\n",
       "    }\n",
       "\n",
       "    .dataframe thead th {\n",
       "        text-align: right;\n",
       "    }\n",
       "</style>\n",
       "<table border=\"1\" class=\"dataframe\">\n",
       "  <thead>\n",
       "    <tr style=\"text-align: right;\">\n",
       "      <th></th>\n",
       "      <th>tripduration</th>\n",
       "      <th>start station id</th>\n",
       "      <th>start station latitude</th>\n",
       "      <th>start station longitude</th>\n",
       "      <th>end station id</th>\n",
       "      <th>end station latitude</th>\n",
       "      <th>end station longitude</th>\n",
       "      <th>bikeid</th>\n",
       "    </tr>\n",
       "  </thead>\n",
       "  <tbody>\n",
       "    <tr>\n",
       "      <th>count</th>\n",
       "      <td>2.073448e+06</td>\n",
       "      <td>2.073448e+06</td>\n",
       "      <td>2.073448e+06</td>\n",
       "      <td>2.073448e+06</td>\n",
       "      <td>2.073448e+06</td>\n",
       "      <td>2.073448e+06</td>\n",
       "      <td>2.073448e+06</td>\n",
       "      <td>2.073448e+06</td>\n",
       "    </tr>\n",
       "    <tr>\n",
       "      <th>mean</th>\n",
       "      <td>1.831438e+03</td>\n",
       "      <td>1.634481e+02</td>\n",
       "      <td>4.235597e+01</td>\n",
       "      <td>-7.108868e+01</td>\n",
       "      <td>1.623836e+02</td>\n",
       "      <td>4.235589e+01</td>\n",
       "      <td>-7.108840e+01</td>\n",
       "      <td>4.263332e+03</td>\n",
       "    </tr>\n",
       "    <tr>\n",
       "      <th>std</th>\n",
       "      <td>2.425891e+04</td>\n",
       "      <td>1.357767e+02</td>\n",
       "      <td>3.452189e-02</td>\n",
       "      <td>5.628081e-02</td>\n",
       "      <td>1.358793e+02</td>\n",
       "      <td>3.455072e-02</td>\n",
       "      <td>5.626398e-02</td>\n",
       "      <td>1.272965e+03</td>\n",
       "    </tr>\n",
       "    <tr>\n",
       "      <th>min</th>\n",
       "      <td>6.100000e+01</td>\n",
       "      <td>1.000000e+00</td>\n",
       "      <td>0.000000e+00</td>\n",
       "      <td>-7.122627e+01</td>\n",
       "      <td>1.000000e+00</td>\n",
       "      <td>0.000000e+00</td>\n",
       "      <td>-7.122627e+01</td>\n",
       "      <td>3.100000e+01</td>\n",
       "    </tr>\n",
       "    <tr>\n",
       "      <th>25%</th>\n",
       "      <td>4.750000e+02</td>\n",
       "      <td>5.500000e+01</td>\n",
       "      <td>4.234522e+01</td>\n",
       "      <td>-7.110594e+01</td>\n",
       "      <td>5.500000e+01</td>\n",
       "      <td>4.234522e+01</td>\n",
       "      <td>-7.110567e+01</td>\n",
       "      <td>3.175000e+03</td>\n",
       "    </tr>\n",
       "    <tr>\n",
       "      <th>50%</th>\n",
       "      <td>8.280000e+02</td>\n",
       "      <td>1.100000e+02</td>\n",
       "      <td>4.235560e+01</td>\n",
       "      <td>-7.108981e+01</td>\n",
       "      <td>1.080000e+02</td>\n",
       "      <td>4.235560e+01</td>\n",
       "      <td>-7.108822e+01</td>\n",
       "      <td>4.256000e+03</td>\n",
       "    </tr>\n",
       "    <tr>\n",
       "      <th>75%</th>\n",
       "      <td>1.443000e+03</td>\n",
       "      <td>2.390000e+02</td>\n",
       "      <td>4.236567e+01</td>\n",
       "      <td>-7.106959e+01</td>\n",
       "      <td>2.390000e+02</td>\n",
       "      <td>4.236567e+01</td>\n",
       "      <td>-7.106894e+01</td>\n",
       "      <td>5.406000e+03</td>\n",
       "    </tr>\n",
       "    <tr>\n",
       "      <th>max</th>\n",
       "      <td>3.879352e+06</td>\n",
       "      <td>4.990000e+02</td>\n",
       "      <td>4.241608e+01</td>\n",
       "      <td>0.000000e+00</td>\n",
       "      <td>4.990000e+02</td>\n",
       "      <td>4.241608e+01</td>\n",
       "      <td>0.000000e+00</td>\n",
       "      <td>6.724000e+03</td>\n",
       "    </tr>\n",
       "  </tbody>\n",
       "</table>\n",
       "</div>"
      ],
      "text/plain": [
       "       tripduration  start station id  start station latitude  \\\n",
       "count  2.073448e+06      2.073448e+06            2.073448e+06   \n",
       "mean   1.831438e+03      1.634481e+02            4.235597e+01   \n",
       "std    2.425891e+04      1.357767e+02            3.452189e-02   \n",
       "min    6.100000e+01      1.000000e+00            0.000000e+00   \n",
       "25%    4.750000e+02      5.500000e+01            4.234522e+01   \n",
       "50%    8.280000e+02      1.100000e+02            4.235560e+01   \n",
       "75%    1.443000e+03      2.390000e+02            4.236567e+01   \n",
       "max    3.879352e+06      4.990000e+02            4.241608e+01   \n",
       "\n",
       "       start station longitude  end station id  end station latitude  \\\n",
       "count             2.073448e+06    2.073448e+06          2.073448e+06   \n",
       "mean             -7.108868e+01    1.623836e+02          4.235589e+01   \n",
       "std               5.628081e-02    1.358793e+02          3.455072e-02   \n",
       "min              -7.122627e+01    1.000000e+00          0.000000e+00   \n",
       "25%              -7.110594e+01    5.500000e+01          4.234522e+01   \n",
       "50%              -7.108981e+01    1.080000e+02          4.235560e+01   \n",
       "75%              -7.106959e+01    2.390000e+02          4.236567e+01   \n",
       "max               0.000000e+00    4.990000e+02          4.241608e+01   \n",
       "\n",
       "       end station longitude        bikeid  \n",
       "count           2.073448e+06  2.073448e+06  \n",
       "mean           -7.108840e+01  4.263332e+03  \n",
       "std             5.626398e-02  1.272965e+03  \n",
       "min            -7.122627e+01  3.100000e+01  \n",
       "25%            -7.110567e+01  3.175000e+03  \n",
       "50%            -7.108822e+01  4.256000e+03  \n",
       "75%            -7.106894e+01  5.406000e+03  \n",
       "max             0.000000e+00  6.724000e+03  "
      ]
     },
     "execution_count": 55,
     "metadata": {},
     "output_type": "execute_result"
    }
   ],
   "source": [
    "# assess df_all statistics\n",
    "df_all.describe()"
   ]
  },
  {
   "cell_type": "markdown",
   "metadata": {},
   "source": [
    "There must be some zero values in the start latitude and end latitude columns, but since I'm not going to explore the data in those columns, I will not clean the data there."
   ]
  },
  {
   "cell_type": "code",
   "execution_count": 56,
   "metadata": {},
   "outputs": [
    {
     "data": {
      "text/plain": [
       "0"
      ]
     },
     "execution_count": 56,
     "metadata": {},
     "output_type": "execute_result"
    }
   ],
   "source": [
    "# assess df_all's duplicated values\n",
    "sum(df_all.duplicated())"
   ]
  },
  {
   "cell_type": "code",
   "execution_count": 57,
   "metadata": {},
   "outputs": [
    {
     "data": {
      "text/plain": [
       "tripduration               0\n",
       "starttime                  0\n",
       "stoptime                   0\n",
       "start station id           0\n",
       "start station name         0\n",
       "start station latitude     0\n",
       "start station longitude    0\n",
       "end station id             0\n",
       "end station name           0\n",
       "end station latitude       0\n",
       "end station longitude      0\n",
       "bikeid                     0\n",
       "usertype                   0\n",
       "dtype: int64"
      ]
     },
     "execution_count": 57,
     "metadata": {},
     "output_type": "execute_result"
    }
   ],
   "source": [
    "# assess df_all's null values\n",
    "df_all.isnull().sum()"
   ]
  },
  {
   "cell_type": "markdown",
   "metadata": {},
   "source": [
    "It seems like the data set is clean enough to start my exploration towards the initial questions, but to be able to draw conclusions from the starttime column, I would like to extract a couple of values and create new columns.\n",
    "\n",
    "Q: When are the most trips taken in terms of time of day, day of the week, or month of the year?\n",
    " \n",
    " ### Tidiness Issues\n",
    "\n",
    "There is no way to see\n",
    "- which day of the week the data was recorded\n",
    "- if the day is a weekday or a weekend\n",
    "- which months of the year the data was recorded\n",
    "- which time of the day the data was recorded\n",
    "\n"
   ]
  },
  {
   "cell_type": "markdown",
   "metadata": {},
   "source": [
    "### Define \n",
    "There is no way to see which day of the week the data was recorded\n",
    "\n",
    "Action:\n",
    "- Create a column for the days of the week \n",
    "- Convert values to date time and then to week day names\n",
    "\n"
   ]
  },
  {
   "cell_type": "markdown",
   "metadata": {},
   "source": [
    "### Code"
   ]
  },
  {
   "cell_type": "code",
   "execution_count": 58,
   "metadata": {},
   "outputs": [],
   "source": [
    "# create a column for the days of the week using the starttime column\n",
    "\n",
    "df_all['weekday'] = df_all['starttime'].dt.dayofweek   \n"
   ]
  },
  {
   "cell_type": "markdown",
   "metadata": {},
   "source": [
    "### Test"
   ]
  },
  {
   "cell_type": "code",
   "execution_count": 59,
   "metadata": {},
   "outputs": [
    {
     "data": {
      "text/html": [
       "<div>\n",
       "<style scoped>\n",
       "    .dataframe tbody tr th:only-of-type {\n",
       "        vertical-align: middle;\n",
       "    }\n",
       "\n",
       "    .dataframe tbody tr th {\n",
       "        vertical-align: top;\n",
       "    }\n",
       "\n",
       "    .dataframe thead th {\n",
       "        text-align: right;\n",
       "    }\n",
       "</style>\n",
       "<table border=\"1\" class=\"dataframe\">\n",
       "  <thead>\n",
       "    <tr style=\"text-align: right;\">\n",
       "      <th></th>\n",
       "      <th>tripduration</th>\n",
       "      <th>starttime</th>\n",
       "      <th>stoptime</th>\n",
       "      <th>start station id</th>\n",
       "      <th>start station name</th>\n",
       "      <th>start station latitude</th>\n",
       "      <th>start station longitude</th>\n",
       "      <th>end station id</th>\n",
       "      <th>end station name</th>\n",
       "      <th>end station latitude</th>\n",
       "      <th>end station longitude</th>\n",
       "      <th>bikeid</th>\n",
       "      <th>usertype</th>\n",
       "      <th>weekday</th>\n",
       "    </tr>\n",
       "  </thead>\n",
       "  <tbody>\n",
       "    <tr>\n",
       "      <th>0</th>\n",
       "      <td>478</td>\n",
       "      <td>2020-01-01 00:04:05.809</td>\n",
       "      <td>2020-01-01 00:12:04.237</td>\n",
       "      <td>366</td>\n",
       "      <td>Broadway T Stop</td>\n",
       "      <td>42.342781</td>\n",
       "      <td>-71.057473</td>\n",
       "      <td>93</td>\n",
       "      <td>JFK/UMass T Stop</td>\n",
       "      <td>42.320340</td>\n",
       "      <td>-71.051180</td>\n",
       "      <td>6005</td>\n",
       "      <td>Customer</td>\n",
       "      <td>2</td>\n",
       "    </tr>\n",
       "    <tr>\n",
       "      <th>1</th>\n",
       "      <td>363</td>\n",
       "      <td>2020-01-01 00:04:45.699</td>\n",
       "      <td>2020-01-01 00:10:49.040</td>\n",
       "      <td>219</td>\n",
       "      <td>Boston East - 126 Border St</td>\n",
       "      <td>42.373312</td>\n",
       "      <td>-71.041020</td>\n",
       "      <td>212</td>\n",
       "      <td>Maverick Square - Lewis Mall</td>\n",
       "      <td>42.368844</td>\n",
       "      <td>-71.039778</td>\n",
       "      <td>3168</td>\n",
       "      <td>Subscriber</td>\n",
       "      <td>2</td>\n",
       "    </tr>\n",
       "    <tr>\n",
       "      <th>2</th>\n",
       "      <td>284</td>\n",
       "      <td>2020-01-01 00:06:07.063</td>\n",
       "      <td>2020-01-01 00:10:51.924</td>\n",
       "      <td>219</td>\n",
       "      <td>Boston East - 126 Border St</td>\n",
       "      <td>42.373312</td>\n",
       "      <td>-71.041020</td>\n",
       "      <td>212</td>\n",
       "      <td>Maverick Square - Lewis Mall</td>\n",
       "      <td>42.368844</td>\n",
       "      <td>-71.039778</td>\n",
       "      <td>3985</td>\n",
       "      <td>Subscriber</td>\n",
       "      <td>2</td>\n",
       "    </tr>\n",
       "    <tr>\n",
       "      <th>3</th>\n",
       "      <td>193</td>\n",
       "      <td>2020-01-01 00:06:13.855</td>\n",
       "      <td>2020-01-01 00:09:27.832</td>\n",
       "      <td>396</td>\n",
       "      <td>Main St at Beacon St</td>\n",
       "      <td>42.409330</td>\n",
       "      <td>-71.063819</td>\n",
       "      <td>387</td>\n",
       "      <td>Norman St at Kelvin St</td>\n",
       "      <td>42.409859</td>\n",
       "      <td>-71.066319</td>\n",
       "      <td>2692</td>\n",
       "      <td>Subscriber</td>\n",
       "      <td>2</td>\n",
       "    </tr>\n",
       "    <tr>\n",
       "      <th>4</th>\n",
       "      <td>428</td>\n",
       "      <td>2020-01-01 00:07:25.295</td>\n",
       "      <td>2020-01-01 00:14:33.780</td>\n",
       "      <td>60</td>\n",
       "      <td>Charles Circle - Charles St at Cambridge St</td>\n",
       "      <td>42.360793</td>\n",
       "      <td>-71.071190</td>\n",
       "      <td>49</td>\n",
       "      <td>Stuart St at Charles St</td>\n",
       "      <td>42.351146</td>\n",
       "      <td>-71.066289</td>\n",
       "      <td>4978</td>\n",
       "      <td>Subscriber</td>\n",
       "      <td>2</td>\n",
       "    </tr>\n",
       "    <tr>\n",
       "      <th>...</th>\n",
       "      <td>...</td>\n",
       "      <td>...</td>\n",
       "      <td>...</td>\n",
       "      <td>...</td>\n",
       "      <td>...</td>\n",
       "      <td>...</td>\n",
       "      <td>...</td>\n",
       "      <td>...</td>\n",
       "      <td>...</td>\n",
       "      <td>...</td>\n",
       "      <td>...</td>\n",
       "      <td>...</td>\n",
       "      <td>...</td>\n",
       "      <td>...</td>\n",
       "    </tr>\n",
       "    <tr>\n",
       "      <th>32947</th>\n",
       "      <td>130</td>\n",
       "      <td>2020-02-08 07:26:10.301</td>\n",
       "      <td>2020-02-08 07:28:21.117</td>\n",
       "      <td>195</td>\n",
       "      <td>Child St at North St</td>\n",
       "      <td>42.371505</td>\n",
       "      <td>-71.072493</td>\n",
       "      <td>90</td>\n",
       "      <td>Lechmere Station at Cambridge St / First St</td>\n",
       "      <td>42.370677</td>\n",
       "      <td>-71.076529</td>\n",
       "      <td>3844</td>\n",
       "      <td>Subscriber</td>\n",
       "      <td>5</td>\n",
       "    </tr>\n",
       "    <tr>\n",
       "      <th>32948</th>\n",
       "      <td>157</td>\n",
       "      <td>2020-02-08 07:27:17.874</td>\n",
       "      <td>2020-02-08 07:29:54.959</td>\n",
       "      <td>116</td>\n",
       "      <td>359 Broadway - Broadway at Fayette Street</td>\n",
       "      <td>42.370803</td>\n",
       "      <td>-71.104412</td>\n",
       "      <td>76</td>\n",
       "      <td>Central Sq Post Office / Cambridge City Hall a...</td>\n",
       "      <td>42.366426</td>\n",
       "      <td>-71.105495</td>\n",
       "      <td>3684</td>\n",
       "      <td>Subscriber</td>\n",
       "      <td>5</td>\n",
       "    </tr>\n",
       "    <tr>\n",
       "      <th>32949</th>\n",
       "      <td>629</td>\n",
       "      <td>2020-02-08 07:28:25.079</td>\n",
       "      <td>2020-02-08 07:38:54.861</td>\n",
       "      <td>118</td>\n",
       "      <td>Linear Park - Mass. Ave. at Cameron Ave.</td>\n",
       "      <td>42.397828</td>\n",
       "      <td>-71.130516</td>\n",
       "      <td>115</td>\n",
       "      <td>Porter Square Station</td>\n",
       "      <td>42.387995</td>\n",
       "      <td>-71.119084</td>\n",
       "      <td>4985</td>\n",
       "      <td>Subscriber</td>\n",
       "      <td>5</td>\n",
       "    </tr>\n",
       "    <tr>\n",
       "      <th>32950</th>\n",
       "      <td>525</td>\n",
       "      <td>2020-02-08 07:29:50.489</td>\n",
       "      <td>2020-02-08 07:38:35.699</td>\n",
       "      <td>407</td>\n",
       "      <td>Craigie at Summer St</td>\n",
       "      <td>42.383634</td>\n",
       "      <td>-71.108558</td>\n",
       "      <td>328</td>\n",
       "      <td>Grove St at Community Path</td>\n",
       "      <td>42.396387</td>\n",
       "      <td>-71.120113</td>\n",
       "      <td>5624</td>\n",
       "      <td>Subscriber</td>\n",
       "      <td>5</td>\n",
       "    </tr>\n",
       "    <tr>\n",
       "      <th>32951</th>\n",
       "      <td>283</td>\n",
       "      <td>2020-02-08 07:30:46.284</td>\n",
       "      <td>2020-02-08 07:35:29.419</td>\n",
       "      <td>280</td>\n",
       "      <td>Main St at Baldwin St</td>\n",
       "      <td>42.380857</td>\n",
       "      <td>-71.070629</td>\n",
       "      <td>171</td>\n",
       "      <td>Bunker Hill Community College</td>\n",
       "      <td>42.374090</td>\n",
       "      <td>-71.069060</td>\n",
       "      <td>3994</td>\n",
       "      <td>Subscriber</td>\n",
       "      <td>5</td>\n",
       "    </tr>\n",
       "  </tbody>\n",
       "</table>\n",
       "<p>161550 rows × 14 columns</p>\n",
       "</div>"
      ],
      "text/plain": [
       "       tripduration               starttime                stoptime  \\\n",
       "0               478 2020-01-01 00:04:05.809 2020-01-01 00:12:04.237   \n",
       "1               363 2020-01-01 00:04:45.699 2020-01-01 00:10:49.040   \n",
       "2               284 2020-01-01 00:06:07.063 2020-01-01 00:10:51.924   \n",
       "3               193 2020-01-01 00:06:13.855 2020-01-01 00:09:27.832   \n",
       "4               428 2020-01-01 00:07:25.295 2020-01-01 00:14:33.780   \n",
       "...             ...                     ...                     ...   \n",
       "32947           130 2020-02-08 07:26:10.301 2020-02-08 07:28:21.117   \n",
       "32948           157 2020-02-08 07:27:17.874 2020-02-08 07:29:54.959   \n",
       "32949           629 2020-02-08 07:28:25.079 2020-02-08 07:38:54.861   \n",
       "32950           525 2020-02-08 07:29:50.489 2020-02-08 07:38:35.699   \n",
       "32951           283 2020-02-08 07:30:46.284 2020-02-08 07:35:29.419   \n",
       "\n",
       "       start station id                           start station name  \\\n",
       "0                   366                              Broadway T Stop   \n",
       "1                   219                  Boston East - 126 Border St   \n",
       "2                   219                  Boston East - 126 Border St   \n",
       "3                   396                         Main St at Beacon St   \n",
       "4                    60  Charles Circle - Charles St at Cambridge St   \n",
       "...                 ...                                          ...   \n",
       "32947               195                         Child St at North St   \n",
       "32948               116    359 Broadway - Broadway at Fayette Street   \n",
       "32949               118    Linear Park - Mass. Ave. at Cameron Ave.    \n",
       "32950               407                         Craigie at Summer St   \n",
       "32951               280                        Main St at Baldwin St   \n",
       "\n",
       "       start station latitude  start station longitude  end station id  \\\n",
       "0                   42.342781               -71.057473              93   \n",
       "1                   42.373312               -71.041020             212   \n",
       "2                   42.373312               -71.041020             212   \n",
       "3                   42.409330               -71.063819             387   \n",
       "4                   42.360793               -71.071190              49   \n",
       "...                       ...                      ...             ...   \n",
       "32947               42.371505               -71.072493              90   \n",
       "32948               42.370803               -71.104412              76   \n",
       "32949               42.397828               -71.130516             115   \n",
       "32950               42.383634               -71.108558             328   \n",
       "32951               42.380857               -71.070629             171   \n",
       "\n",
       "                                        end station name  \\\n",
       "0                                       JFK/UMass T Stop   \n",
       "1                           Maverick Square - Lewis Mall   \n",
       "2                           Maverick Square - Lewis Mall   \n",
       "3                                 Norman St at Kelvin St   \n",
       "4                                Stuart St at Charles St   \n",
       "...                                                  ...   \n",
       "32947        Lechmere Station at Cambridge St / First St   \n",
       "32948  Central Sq Post Office / Cambridge City Hall a...   \n",
       "32949                              Porter Square Station   \n",
       "32950                         Grove St at Community Path   \n",
       "32951                      Bunker Hill Community College   \n",
       "\n",
       "       end station latitude  end station longitude  bikeid    usertype  \\\n",
       "0                 42.320340             -71.051180    6005    Customer   \n",
       "1                 42.368844             -71.039778    3168  Subscriber   \n",
       "2                 42.368844             -71.039778    3985  Subscriber   \n",
       "3                 42.409859             -71.066319    2692  Subscriber   \n",
       "4                 42.351146             -71.066289    4978  Subscriber   \n",
       "...                     ...                    ...     ...         ...   \n",
       "32947             42.370677             -71.076529    3844  Subscriber   \n",
       "32948             42.366426             -71.105495    3684  Subscriber   \n",
       "32949             42.387995             -71.119084    4985  Subscriber   \n",
       "32950             42.396387             -71.120113    5624  Subscriber   \n",
       "32951             42.374090             -71.069060    3994  Subscriber   \n",
       "\n",
       "       weekday  \n",
       "0            2  \n",
       "1            2  \n",
       "2            2  \n",
       "3            2  \n",
       "4            2  \n",
       "...        ...  \n",
       "32947        5  \n",
       "32948        5  \n",
       "32949        5  \n",
       "32950        5  \n",
       "32951        5  \n",
       "\n",
       "[161550 rows x 14 columns]"
      ]
     },
     "execution_count": 59,
     "metadata": {},
     "output_type": "execute_result"
    }
   ],
   "source": [
    "df_all.head(161550)"
   ]
  },
  {
   "cell_type": "markdown",
   "metadata": {},
   "source": [
    "### Define \n",
    "There is no way to see which day of the month the data was recorded\n",
    "\n",
    "Action:\n",
    "- Create a column for the months of the year\n",
    "- Convert values to date time and then to month names"
   ]
  },
  {
   "cell_type": "markdown",
   "metadata": {},
   "source": [
    "### Code"
   ]
  },
  {
   "cell_type": "code",
   "execution_count": 60,
   "metadata": {},
   "outputs": [],
   "source": [
    "# create a column for the months of the year using the starttime column\n",
    "df_all['month'] = pandas.DatetimeIndex(df_all['starttime']).month\n",
    "\n",
    "# convert values to date time and then month names\n",
    "\n",
    "df_all['month'] = pandas.to_datetime(df_all['month'], format='%m').dt.month_name()\n"
   ]
  },
  {
   "cell_type": "markdown",
   "metadata": {},
   "source": [
    "### Test"
   ]
  },
  {
   "cell_type": "code",
   "execution_count": 61,
   "metadata": {},
   "outputs": [
    {
     "data": {
      "text/html": [
       "<div>\n",
       "<style scoped>\n",
       "    .dataframe tbody tr th:only-of-type {\n",
       "        vertical-align: middle;\n",
       "    }\n",
       "\n",
       "    .dataframe tbody tr th {\n",
       "        vertical-align: top;\n",
       "    }\n",
       "\n",
       "    .dataframe thead th {\n",
       "        text-align: right;\n",
       "    }\n",
       "</style>\n",
       "<table border=\"1\" class=\"dataframe\">\n",
       "  <thead>\n",
       "    <tr style=\"text-align: right;\">\n",
       "      <th></th>\n",
       "      <th>tripduration</th>\n",
       "      <th>starttime</th>\n",
       "      <th>stoptime</th>\n",
       "      <th>start station id</th>\n",
       "      <th>start station name</th>\n",
       "      <th>start station latitude</th>\n",
       "      <th>start station longitude</th>\n",
       "      <th>end station id</th>\n",
       "      <th>end station name</th>\n",
       "      <th>end station latitude</th>\n",
       "      <th>end station longitude</th>\n",
       "      <th>bikeid</th>\n",
       "      <th>usertype</th>\n",
       "      <th>weekday</th>\n",
       "      <th>month</th>\n",
       "    </tr>\n",
       "  </thead>\n",
       "  <tbody>\n",
       "    <tr>\n",
       "      <th>0</th>\n",
       "      <td>478</td>\n",
       "      <td>2020-01-01 00:04:05.809</td>\n",
       "      <td>2020-01-01 00:12:04.237</td>\n",
       "      <td>366</td>\n",
       "      <td>Broadway T Stop</td>\n",
       "      <td>42.342781</td>\n",
       "      <td>-71.057473</td>\n",
       "      <td>93</td>\n",
       "      <td>JFK/UMass T Stop</td>\n",
       "      <td>42.320340</td>\n",
       "      <td>-71.051180</td>\n",
       "      <td>6005</td>\n",
       "      <td>Customer</td>\n",
       "      <td>2</td>\n",
       "      <td>January</td>\n",
       "    </tr>\n",
       "    <tr>\n",
       "      <th>1</th>\n",
       "      <td>363</td>\n",
       "      <td>2020-01-01 00:04:45.699</td>\n",
       "      <td>2020-01-01 00:10:49.040</td>\n",
       "      <td>219</td>\n",
       "      <td>Boston East - 126 Border St</td>\n",
       "      <td>42.373312</td>\n",
       "      <td>-71.041020</td>\n",
       "      <td>212</td>\n",
       "      <td>Maverick Square - Lewis Mall</td>\n",
       "      <td>42.368844</td>\n",
       "      <td>-71.039778</td>\n",
       "      <td>3168</td>\n",
       "      <td>Subscriber</td>\n",
       "      <td>2</td>\n",
       "      <td>January</td>\n",
       "    </tr>\n",
       "    <tr>\n",
       "      <th>2</th>\n",
       "      <td>284</td>\n",
       "      <td>2020-01-01 00:06:07.063</td>\n",
       "      <td>2020-01-01 00:10:51.924</td>\n",
       "      <td>219</td>\n",
       "      <td>Boston East - 126 Border St</td>\n",
       "      <td>42.373312</td>\n",
       "      <td>-71.041020</td>\n",
       "      <td>212</td>\n",
       "      <td>Maverick Square - Lewis Mall</td>\n",
       "      <td>42.368844</td>\n",
       "      <td>-71.039778</td>\n",
       "      <td>3985</td>\n",
       "      <td>Subscriber</td>\n",
       "      <td>2</td>\n",
       "      <td>January</td>\n",
       "    </tr>\n",
       "    <tr>\n",
       "      <th>3</th>\n",
       "      <td>193</td>\n",
       "      <td>2020-01-01 00:06:13.855</td>\n",
       "      <td>2020-01-01 00:09:27.832</td>\n",
       "      <td>396</td>\n",
       "      <td>Main St at Beacon St</td>\n",
       "      <td>42.409330</td>\n",
       "      <td>-71.063819</td>\n",
       "      <td>387</td>\n",
       "      <td>Norman St at Kelvin St</td>\n",
       "      <td>42.409859</td>\n",
       "      <td>-71.066319</td>\n",
       "      <td>2692</td>\n",
       "      <td>Subscriber</td>\n",
       "      <td>2</td>\n",
       "      <td>January</td>\n",
       "    </tr>\n",
       "    <tr>\n",
       "      <th>4</th>\n",
       "      <td>428</td>\n",
       "      <td>2020-01-01 00:07:25.295</td>\n",
       "      <td>2020-01-01 00:14:33.780</td>\n",
       "      <td>60</td>\n",
       "      <td>Charles Circle - Charles St at Cambridge St</td>\n",
       "      <td>42.360793</td>\n",
       "      <td>-71.071190</td>\n",
       "      <td>49</td>\n",
       "      <td>Stuart St at Charles St</td>\n",
       "      <td>42.351146</td>\n",
       "      <td>-71.066289</td>\n",
       "      <td>4978</td>\n",
       "      <td>Subscriber</td>\n",
       "      <td>2</td>\n",
       "      <td>January</td>\n",
       "    </tr>\n",
       "  </tbody>\n",
       "</table>\n",
       "</div>"
      ],
      "text/plain": [
       "   tripduration               starttime                stoptime  \\\n",
       "0           478 2020-01-01 00:04:05.809 2020-01-01 00:12:04.237   \n",
       "1           363 2020-01-01 00:04:45.699 2020-01-01 00:10:49.040   \n",
       "2           284 2020-01-01 00:06:07.063 2020-01-01 00:10:51.924   \n",
       "3           193 2020-01-01 00:06:13.855 2020-01-01 00:09:27.832   \n",
       "4           428 2020-01-01 00:07:25.295 2020-01-01 00:14:33.780   \n",
       "\n",
       "   start station id                           start station name  \\\n",
       "0               366                              Broadway T Stop   \n",
       "1               219                  Boston East - 126 Border St   \n",
       "2               219                  Boston East - 126 Border St   \n",
       "3               396                         Main St at Beacon St   \n",
       "4                60  Charles Circle - Charles St at Cambridge St   \n",
       "\n",
       "   start station latitude  start station longitude  end station id  \\\n",
       "0               42.342781               -71.057473              93   \n",
       "1               42.373312               -71.041020             212   \n",
       "2               42.373312               -71.041020             212   \n",
       "3               42.409330               -71.063819             387   \n",
       "4               42.360793               -71.071190              49   \n",
       "\n",
       "               end station name  end station latitude  end station longitude  \\\n",
       "0              JFK/UMass T Stop             42.320340             -71.051180   \n",
       "1  Maverick Square - Lewis Mall             42.368844             -71.039778   \n",
       "2  Maverick Square - Lewis Mall             42.368844             -71.039778   \n",
       "3        Norman St at Kelvin St             42.409859             -71.066319   \n",
       "4       Stuart St at Charles St             42.351146             -71.066289   \n",
       "\n",
       "   bikeid    usertype  weekday    month  \n",
       "0    6005    Customer        2  January  \n",
       "1    3168  Subscriber        2  January  \n",
       "2    3985  Subscriber        2  January  \n",
       "3    2692  Subscriber        2  January  \n",
       "4    4978  Subscriber        2  January  "
      ]
     },
     "execution_count": 61,
     "metadata": {},
     "output_type": "execute_result"
    }
   ],
   "source": [
    "df_all.head()"
   ]
  },
  {
   "cell_type": "markdown",
   "metadata": {},
   "source": [
    "### Define \n",
    "There is no way to see which time of the day the data was recorded\n",
    "\n",
    "Action:\n",
    "- Create a column for the time of the day\n"
   ]
  },
  {
   "cell_type": "markdown",
   "metadata": {},
   "source": [
    "### Code"
   ]
  },
  {
   "cell_type": "code",
   "execution_count": 62,
   "metadata": {},
   "outputs": [],
   "source": [
    "# create a column for the time of the day using the starttime column\n",
    "df_all['timeoftheday']= df_all['starttime'].dt.strftime('%H')"
   ]
  },
  {
   "cell_type": "markdown",
   "metadata": {},
   "source": [
    "### Test"
   ]
  },
  {
   "cell_type": "code",
   "execution_count": 63,
   "metadata": {},
   "outputs": [
    {
     "data": {
      "text/html": [
       "<div>\n",
       "<style scoped>\n",
       "    .dataframe tbody tr th:only-of-type {\n",
       "        vertical-align: middle;\n",
       "    }\n",
       "\n",
       "    .dataframe tbody tr th {\n",
       "        vertical-align: top;\n",
       "    }\n",
       "\n",
       "    .dataframe thead th {\n",
       "        text-align: right;\n",
       "    }\n",
       "</style>\n",
       "<table border=\"1\" class=\"dataframe\">\n",
       "  <thead>\n",
       "    <tr style=\"text-align: right;\">\n",
       "      <th></th>\n",
       "      <th>tripduration</th>\n",
       "      <th>starttime</th>\n",
       "      <th>stoptime</th>\n",
       "      <th>start station id</th>\n",
       "      <th>start station name</th>\n",
       "      <th>start station latitude</th>\n",
       "      <th>start station longitude</th>\n",
       "      <th>end station id</th>\n",
       "      <th>end station name</th>\n",
       "      <th>end station latitude</th>\n",
       "      <th>end station longitude</th>\n",
       "      <th>bikeid</th>\n",
       "      <th>usertype</th>\n",
       "      <th>weekday</th>\n",
       "      <th>month</th>\n",
       "      <th>timeoftheday</th>\n",
       "    </tr>\n",
       "  </thead>\n",
       "  <tbody>\n",
       "    <tr>\n",
       "      <th>0</th>\n",
       "      <td>478</td>\n",
       "      <td>2020-01-01 00:04:05.809</td>\n",
       "      <td>2020-01-01 00:12:04.237</td>\n",
       "      <td>366</td>\n",
       "      <td>Broadway T Stop</td>\n",
       "      <td>42.342781</td>\n",
       "      <td>-71.057473</td>\n",
       "      <td>93</td>\n",
       "      <td>JFK/UMass T Stop</td>\n",
       "      <td>42.320340</td>\n",
       "      <td>-71.051180</td>\n",
       "      <td>6005</td>\n",
       "      <td>Customer</td>\n",
       "      <td>2</td>\n",
       "      <td>January</td>\n",
       "      <td>00</td>\n",
       "    </tr>\n",
       "    <tr>\n",
       "      <th>1</th>\n",
       "      <td>363</td>\n",
       "      <td>2020-01-01 00:04:45.699</td>\n",
       "      <td>2020-01-01 00:10:49.040</td>\n",
       "      <td>219</td>\n",
       "      <td>Boston East - 126 Border St</td>\n",
       "      <td>42.373312</td>\n",
       "      <td>-71.041020</td>\n",
       "      <td>212</td>\n",
       "      <td>Maverick Square - Lewis Mall</td>\n",
       "      <td>42.368844</td>\n",
       "      <td>-71.039778</td>\n",
       "      <td>3168</td>\n",
       "      <td>Subscriber</td>\n",
       "      <td>2</td>\n",
       "      <td>January</td>\n",
       "      <td>00</td>\n",
       "    </tr>\n",
       "    <tr>\n",
       "      <th>2</th>\n",
       "      <td>284</td>\n",
       "      <td>2020-01-01 00:06:07.063</td>\n",
       "      <td>2020-01-01 00:10:51.924</td>\n",
       "      <td>219</td>\n",
       "      <td>Boston East - 126 Border St</td>\n",
       "      <td>42.373312</td>\n",
       "      <td>-71.041020</td>\n",
       "      <td>212</td>\n",
       "      <td>Maverick Square - Lewis Mall</td>\n",
       "      <td>42.368844</td>\n",
       "      <td>-71.039778</td>\n",
       "      <td>3985</td>\n",
       "      <td>Subscriber</td>\n",
       "      <td>2</td>\n",
       "      <td>January</td>\n",
       "      <td>00</td>\n",
       "    </tr>\n",
       "    <tr>\n",
       "      <th>3</th>\n",
       "      <td>193</td>\n",
       "      <td>2020-01-01 00:06:13.855</td>\n",
       "      <td>2020-01-01 00:09:27.832</td>\n",
       "      <td>396</td>\n",
       "      <td>Main St at Beacon St</td>\n",
       "      <td>42.409330</td>\n",
       "      <td>-71.063819</td>\n",
       "      <td>387</td>\n",
       "      <td>Norman St at Kelvin St</td>\n",
       "      <td>42.409859</td>\n",
       "      <td>-71.066319</td>\n",
       "      <td>2692</td>\n",
       "      <td>Subscriber</td>\n",
       "      <td>2</td>\n",
       "      <td>January</td>\n",
       "      <td>00</td>\n",
       "    </tr>\n",
       "    <tr>\n",
       "      <th>4</th>\n",
       "      <td>428</td>\n",
       "      <td>2020-01-01 00:07:25.295</td>\n",
       "      <td>2020-01-01 00:14:33.780</td>\n",
       "      <td>60</td>\n",
       "      <td>Charles Circle - Charles St at Cambridge St</td>\n",
       "      <td>42.360793</td>\n",
       "      <td>-71.071190</td>\n",
       "      <td>49</td>\n",
       "      <td>Stuart St at Charles St</td>\n",
       "      <td>42.351146</td>\n",
       "      <td>-71.066289</td>\n",
       "      <td>4978</td>\n",
       "      <td>Subscriber</td>\n",
       "      <td>2</td>\n",
       "      <td>January</td>\n",
       "      <td>00</td>\n",
       "    </tr>\n",
       "  </tbody>\n",
       "</table>\n",
       "</div>"
      ],
      "text/plain": [
       "   tripduration               starttime                stoptime  \\\n",
       "0           478 2020-01-01 00:04:05.809 2020-01-01 00:12:04.237   \n",
       "1           363 2020-01-01 00:04:45.699 2020-01-01 00:10:49.040   \n",
       "2           284 2020-01-01 00:06:07.063 2020-01-01 00:10:51.924   \n",
       "3           193 2020-01-01 00:06:13.855 2020-01-01 00:09:27.832   \n",
       "4           428 2020-01-01 00:07:25.295 2020-01-01 00:14:33.780   \n",
       "\n",
       "   start station id                           start station name  \\\n",
       "0               366                              Broadway T Stop   \n",
       "1               219                  Boston East - 126 Border St   \n",
       "2               219                  Boston East - 126 Border St   \n",
       "3               396                         Main St at Beacon St   \n",
       "4                60  Charles Circle - Charles St at Cambridge St   \n",
       "\n",
       "   start station latitude  start station longitude  end station id  \\\n",
       "0               42.342781               -71.057473              93   \n",
       "1               42.373312               -71.041020             212   \n",
       "2               42.373312               -71.041020             212   \n",
       "3               42.409330               -71.063819             387   \n",
       "4               42.360793               -71.071190              49   \n",
       "\n",
       "               end station name  end station latitude  end station longitude  \\\n",
       "0              JFK/UMass T Stop             42.320340             -71.051180   \n",
       "1  Maverick Square - Lewis Mall             42.368844             -71.039778   \n",
       "2  Maverick Square - Lewis Mall             42.368844             -71.039778   \n",
       "3        Norman St at Kelvin St             42.409859             -71.066319   \n",
       "4       Stuart St at Charles St             42.351146             -71.066289   \n",
       "\n",
       "   bikeid    usertype  weekday    month timeoftheday  \n",
       "0    6005    Customer        2  January           00  \n",
       "1    3168  Subscriber        2  January           00  \n",
       "2    3985  Subscriber        2  January           00  \n",
       "3    2692  Subscriber        2  January           00  \n",
       "4    4978  Subscriber        2  January           00  "
      ]
     },
     "execution_count": 63,
     "metadata": {},
     "output_type": "execute_result"
    }
   ],
   "source": [
    "df_all.head()"
   ]
  },
  {
   "cell_type": "markdown",
   "metadata": {},
   "source": [
    "### Define \n",
    "There is no way to see if the day of the week is a weekday or a weekend\n",
    "\n",
    "Action:\n",
    "- Create a column to state if it's a weekday or weekend"
   ]
  },
  {
   "cell_type": "markdown",
   "metadata": {},
   "source": [
    "### Code"
   ]
  },
  {
   "cell_type": "code",
   "execution_count": 64,
   "metadata": {},
   "outputs": [],
   "source": [
    "df_all['type'] = df_all.starttime.dt.weekday.apply(lambda x: 'Weekday' if x < 5 else 'Weekend')"
   ]
  },
  {
   "cell_type": "markdown",
   "metadata": {},
   "source": [
    "### Test"
   ]
  },
  {
   "cell_type": "code",
   "execution_count": 65,
   "metadata": {},
   "outputs": [
    {
     "data": {
      "text/html": [
       "<div>\n",
       "<style scoped>\n",
       "    .dataframe tbody tr th:only-of-type {\n",
       "        vertical-align: middle;\n",
       "    }\n",
       "\n",
       "    .dataframe tbody tr th {\n",
       "        vertical-align: top;\n",
       "    }\n",
       "\n",
       "    .dataframe thead th {\n",
       "        text-align: right;\n",
       "    }\n",
       "</style>\n",
       "<table border=\"1\" class=\"dataframe\">\n",
       "  <thead>\n",
       "    <tr style=\"text-align: right;\">\n",
       "      <th></th>\n",
       "      <th>tripduration</th>\n",
       "      <th>starttime</th>\n",
       "      <th>stoptime</th>\n",
       "      <th>start station id</th>\n",
       "      <th>start station name</th>\n",
       "      <th>start station latitude</th>\n",
       "      <th>start station longitude</th>\n",
       "      <th>end station id</th>\n",
       "      <th>end station name</th>\n",
       "      <th>end station latitude</th>\n",
       "      <th>end station longitude</th>\n",
       "      <th>bikeid</th>\n",
       "      <th>usertype</th>\n",
       "      <th>weekday</th>\n",
       "      <th>month</th>\n",
       "      <th>timeoftheday</th>\n",
       "      <th>type</th>\n",
       "    </tr>\n",
       "  </thead>\n",
       "  <tbody>\n",
       "    <tr>\n",
       "      <th>0</th>\n",
       "      <td>478</td>\n",
       "      <td>2020-01-01 00:04:05.809</td>\n",
       "      <td>2020-01-01 00:12:04.237</td>\n",
       "      <td>366</td>\n",
       "      <td>Broadway T Stop</td>\n",
       "      <td>42.342781</td>\n",
       "      <td>-71.057473</td>\n",
       "      <td>93</td>\n",
       "      <td>JFK/UMass T Stop</td>\n",
       "      <td>42.320340</td>\n",
       "      <td>-71.051180</td>\n",
       "      <td>6005</td>\n",
       "      <td>Customer</td>\n",
       "      <td>2</td>\n",
       "      <td>January</td>\n",
       "      <td>00</td>\n",
       "      <td>Weekday</td>\n",
       "    </tr>\n",
       "    <tr>\n",
       "      <th>1</th>\n",
       "      <td>363</td>\n",
       "      <td>2020-01-01 00:04:45.699</td>\n",
       "      <td>2020-01-01 00:10:49.040</td>\n",
       "      <td>219</td>\n",
       "      <td>Boston East - 126 Border St</td>\n",
       "      <td>42.373312</td>\n",
       "      <td>-71.041020</td>\n",
       "      <td>212</td>\n",
       "      <td>Maverick Square - Lewis Mall</td>\n",
       "      <td>42.368844</td>\n",
       "      <td>-71.039778</td>\n",
       "      <td>3168</td>\n",
       "      <td>Subscriber</td>\n",
       "      <td>2</td>\n",
       "      <td>January</td>\n",
       "      <td>00</td>\n",
       "      <td>Weekday</td>\n",
       "    </tr>\n",
       "    <tr>\n",
       "      <th>2</th>\n",
       "      <td>284</td>\n",
       "      <td>2020-01-01 00:06:07.063</td>\n",
       "      <td>2020-01-01 00:10:51.924</td>\n",
       "      <td>219</td>\n",
       "      <td>Boston East - 126 Border St</td>\n",
       "      <td>42.373312</td>\n",
       "      <td>-71.041020</td>\n",
       "      <td>212</td>\n",
       "      <td>Maverick Square - Lewis Mall</td>\n",
       "      <td>42.368844</td>\n",
       "      <td>-71.039778</td>\n",
       "      <td>3985</td>\n",
       "      <td>Subscriber</td>\n",
       "      <td>2</td>\n",
       "      <td>January</td>\n",
       "      <td>00</td>\n",
       "      <td>Weekday</td>\n",
       "    </tr>\n",
       "    <tr>\n",
       "      <th>3</th>\n",
       "      <td>193</td>\n",
       "      <td>2020-01-01 00:06:13.855</td>\n",
       "      <td>2020-01-01 00:09:27.832</td>\n",
       "      <td>396</td>\n",
       "      <td>Main St at Beacon St</td>\n",
       "      <td>42.409330</td>\n",
       "      <td>-71.063819</td>\n",
       "      <td>387</td>\n",
       "      <td>Norman St at Kelvin St</td>\n",
       "      <td>42.409859</td>\n",
       "      <td>-71.066319</td>\n",
       "      <td>2692</td>\n",
       "      <td>Subscriber</td>\n",
       "      <td>2</td>\n",
       "      <td>January</td>\n",
       "      <td>00</td>\n",
       "      <td>Weekday</td>\n",
       "    </tr>\n",
       "    <tr>\n",
       "      <th>4</th>\n",
       "      <td>428</td>\n",
       "      <td>2020-01-01 00:07:25.295</td>\n",
       "      <td>2020-01-01 00:14:33.780</td>\n",
       "      <td>60</td>\n",
       "      <td>Charles Circle - Charles St at Cambridge St</td>\n",
       "      <td>42.360793</td>\n",
       "      <td>-71.071190</td>\n",
       "      <td>49</td>\n",
       "      <td>Stuart St at Charles St</td>\n",
       "      <td>42.351146</td>\n",
       "      <td>-71.066289</td>\n",
       "      <td>4978</td>\n",
       "      <td>Subscriber</td>\n",
       "      <td>2</td>\n",
       "      <td>January</td>\n",
       "      <td>00</td>\n",
       "      <td>Weekday</td>\n",
       "    </tr>\n",
       "    <tr>\n",
       "      <th>...</th>\n",
       "      <td>...</td>\n",
       "      <td>...</td>\n",
       "      <td>...</td>\n",
       "      <td>...</td>\n",
       "      <td>...</td>\n",
       "      <td>...</td>\n",
       "      <td>...</td>\n",
       "      <td>...</td>\n",
       "      <td>...</td>\n",
       "      <td>...</td>\n",
       "      <td>...</td>\n",
       "      <td>...</td>\n",
       "      <td>...</td>\n",
       "      <td>...</td>\n",
       "      <td>...</td>\n",
       "      <td>...</td>\n",
       "      <td>...</td>\n",
       "    </tr>\n",
       "    <tr>\n",
       "      <th>32947</th>\n",
       "      <td>130</td>\n",
       "      <td>2020-02-08 07:26:10.301</td>\n",
       "      <td>2020-02-08 07:28:21.117</td>\n",
       "      <td>195</td>\n",
       "      <td>Child St at North St</td>\n",
       "      <td>42.371505</td>\n",
       "      <td>-71.072493</td>\n",
       "      <td>90</td>\n",
       "      <td>Lechmere Station at Cambridge St / First St</td>\n",
       "      <td>42.370677</td>\n",
       "      <td>-71.076529</td>\n",
       "      <td>3844</td>\n",
       "      <td>Subscriber</td>\n",
       "      <td>5</td>\n",
       "      <td>February</td>\n",
       "      <td>07</td>\n",
       "      <td>Weekend</td>\n",
       "    </tr>\n",
       "    <tr>\n",
       "      <th>32948</th>\n",
       "      <td>157</td>\n",
       "      <td>2020-02-08 07:27:17.874</td>\n",
       "      <td>2020-02-08 07:29:54.959</td>\n",
       "      <td>116</td>\n",
       "      <td>359 Broadway - Broadway at Fayette Street</td>\n",
       "      <td>42.370803</td>\n",
       "      <td>-71.104412</td>\n",
       "      <td>76</td>\n",
       "      <td>Central Sq Post Office / Cambridge City Hall a...</td>\n",
       "      <td>42.366426</td>\n",
       "      <td>-71.105495</td>\n",
       "      <td>3684</td>\n",
       "      <td>Subscriber</td>\n",
       "      <td>5</td>\n",
       "      <td>February</td>\n",
       "      <td>07</td>\n",
       "      <td>Weekend</td>\n",
       "    </tr>\n",
       "    <tr>\n",
       "      <th>32949</th>\n",
       "      <td>629</td>\n",
       "      <td>2020-02-08 07:28:25.079</td>\n",
       "      <td>2020-02-08 07:38:54.861</td>\n",
       "      <td>118</td>\n",
       "      <td>Linear Park - Mass. Ave. at Cameron Ave.</td>\n",
       "      <td>42.397828</td>\n",
       "      <td>-71.130516</td>\n",
       "      <td>115</td>\n",
       "      <td>Porter Square Station</td>\n",
       "      <td>42.387995</td>\n",
       "      <td>-71.119084</td>\n",
       "      <td>4985</td>\n",
       "      <td>Subscriber</td>\n",
       "      <td>5</td>\n",
       "      <td>February</td>\n",
       "      <td>07</td>\n",
       "      <td>Weekend</td>\n",
       "    </tr>\n",
       "    <tr>\n",
       "      <th>32950</th>\n",
       "      <td>525</td>\n",
       "      <td>2020-02-08 07:29:50.489</td>\n",
       "      <td>2020-02-08 07:38:35.699</td>\n",
       "      <td>407</td>\n",
       "      <td>Craigie at Summer St</td>\n",
       "      <td>42.383634</td>\n",
       "      <td>-71.108558</td>\n",
       "      <td>328</td>\n",
       "      <td>Grove St at Community Path</td>\n",
       "      <td>42.396387</td>\n",
       "      <td>-71.120113</td>\n",
       "      <td>5624</td>\n",
       "      <td>Subscriber</td>\n",
       "      <td>5</td>\n",
       "      <td>February</td>\n",
       "      <td>07</td>\n",
       "      <td>Weekend</td>\n",
       "    </tr>\n",
       "    <tr>\n",
       "      <th>32951</th>\n",
       "      <td>283</td>\n",
       "      <td>2020-02-08 07:30:46.284</td>\n",
       "      <td>2020-02-08 07:35:29.419</td>\n",
       "      <td>280</td>\n",
       "      <td>Main St at Baldwin St</td>\n",
       "      <td>42.380857</td>\n",
       "      <td>-71.070629</td>\n",
       "      <td>171</td>\n",
       "      <td>Bunker Hill Community College</td>\n",
       "      <td>42.374090</td>\n",
       "      <td>-71.069060</td>\n",
       "      <td>3994</td>\n",
       "      <td>Subscriber</td>\n",
       "      <td>5</td>\n",
       "      <td>February</td>\n",
       "      <td>07</td>\n",
       "      <td>Weekend</td>\n",
       "    </tr>\n",
       "  </tbody>\n",
       "</table>\n",
       "<p>161550 rows × 17 columns</p>\n",
       "</div>"
      ],
      "text/plain": [
       "       tripduration               starttime                stoptime  \\\n",
       "0               478 2020-01-01 00:04:05.809 2020-01-01 00:12:04.237   \n",
       "1               363 2020-01-01 00:04:45.699 2020-01-01 00:10:49.040   \n",
       "2               284 2020-01-01 00:06:07.063 2020-01-01 00:10:51.924   \n",
       "3               193 2020-01-01 00:06:13.855 2020-01-01 00:09:27.832   \n",
       "4               428 2020-01-01 00:07:25.295 2020-01-01 00:14:33.780   \n",
       "...             ...                     ...                     ...   \n",
       "32947           130 2020-02-08 07:26:10.301 2020-02-08 07:28:21.117   \n",
       "32948           157 2020-02-08 07:27:17.874 2020-02-08 07:29:54.959   \n",
       "32949           629 2020-02-08 07:28:25.079 2020-02-08 07:38:54.861   \n",
       "32950           525 2020-02-08 07:29:50.489 2020-02-08 07:38:35.699   \n",
       "32951           283 2020-02-08 07:30:46.284 2020-02-08 07:35:29.419   \n",
       "\n",
       "       start station id                           start station name  \\\n",
       "0                   366                              Broadway T Stop   \n",
       "1                   219                  Boston East - 126 Border St   \n",
       "2                   219                  Boston East - 126 Border St   \n",
       "3                   396                         Main St at Beacon St   \n",
       "4                    60  Charles Circle - Charles St at Cambridge St   \n",
       "...                 ...                                          ...   \n",
       "32947               195                         Child St at North St   \n",
       "32948               116    359 Broadway - Broadway at Fayette Street   \n",
       "32949               118    Linear Park - Mass. Ave. at Cameron Ave.    \n",
       "32950               407                         Craigie at Summer St   \n",
       "32951               280                        Main St at Baldwin St   \n",
       "\n",
       "       start station latitude  start station longitude  end station id  \\\n",
       "0                   42.342781               -71.057473              93   \n",
       "1                   42.373312               -71.041020             212   \n",
       "2                   42.373312               -71.041020             212   \n",
       "3                   42.409330               -71.063819             387   \n",
       "4                   42.360793               -71.071190              49   \n",
       "...                       ...                      ...             ...   \n",
       "32947               42.371505               -71.072493              90   \n",
       "32948               42.370803               -71.104412              76   \n",
       "32949               42.397828               -71.130516             115   \n",
       "32950               42.383634               -71.108558             328   \n",
       "32951               42.380857               -71.070629             171   \n",
       "\n",
       "                                        end station name  \\\n",
       "0                                       JFK/UMass T Stop   \n",
       "1                           Maverick Square - Lewis Mall   \n",
       "2                           Maverick Square - Lewis Mall   \n",
       "3                                 Norman St at Kelvin St   \n",
       "4                                Stuart St at Charles St   \n",
       "...                                                  ...   \n",
       "32947        Lechmere Station at Cambridge St / First St   \n",
       "32948  Central Sq Post Office / Cambridge City Hall a...   \n",
       "32949                              Porter Square Station   \n",
       "32950                         Grove St at Community Path   \n",
       "32951                      Bunker Hill Community College   \n",
       "\n",
       "       end station latitude  end station longitude  bikeid    usertype  \\\n",
       "0                 42.320340             -71.051180    6005    Customer   \n",
       "1                 42.368844             -71.039778    3168  Subscriber   \n",
       "2                 42.368844             -71.039778    3985  Subscriber   \n",
       "3                 42.409859             -71.066319    2692  Subscriber   \n",
       "4                 42.351146             -71.066289    4978  Subscriber   \n",
       "...                     ...                    ...     ...         ...   \n",
       "32947             42.370677             -71.076529    3844  Subscriber   \n",
       "32948             42.366426             -71.105495    3684  Subscriber   \n",
       "32949             42.387995             -71.119084    4985  Subscriber   \n",
       "32950             42.396387             -71.120113    5624  Subscriber   \n",
       "32951             42.374090             -71.069060    3994  Subscriber   \n",
       "\n",
       "       weekday     month timeoftheday     type  \n",
       "0            2   January           00  Weekday  \n",
       "1            2   January           00  Weekday  \n",
       "2            2   January           00  Weekday  \n",
       "3            2   January           00  Weekday  \n",
       "4            2   January           00  Weekday  \n",
       "...        ...       ...          ...      ...  \n",
       "32947        5  February           07  Weekend  \n",
       "32948        5  February           07  Weekend  \n",
       "32949        5  February           07  Weekend  \n",
       "32950        5  February           07  Weekend  \n",
       "32951        5  February           07  Weekend  \n",
       "\n",
       "[161550 rows x 17 columns]"
      ]
     },
     "execution_count": 65,
     "metadata": {},
     "output_type": "execute_result"
    }
   ],
   "source": [
    "df_all.head(161550)\n"
   ]
  },
  {
   "cell_type": "code",
   "execution_count": 66,
   "metadata": {},
   "outputs": [
    {
     "data": {
      "text/plain": [
       "tripduration                        int64\n",
       "starttime                  datetime64[ns]\n",
       "stoptime                   datetime64[ns]\n",
       "start station id                    int64\n",
       "start station name                 object\n",
       "start station latitude            float64\n",
       "start station longitude           float64\n",
       "end station id                      int64\n",
       "end station name                   object\n",
       "end station latitude              float64\n",
       "end station longitude             float64\n",
       "bikeid                              int64\n",
       "usertype                           object\n",
       "weekday                             int64\n",
       "month                              object\n",
       "timeoftheday                       object\n",
       "type                               object\n",
       "dtype: object"
      ]
     },
     "execution_count": 66,
     "metadata": {},
     "output_type": "execute_result"
    }
   ],
   "source": [
    "df_all.dtypes"
   ]
  },
  {
   "cell_type": "code",
   "execution_count": 111,
   "metadata": {},
   "outputs": [
    {
     "ename": "OSError",
     "evalue": "[Errno 30] Read-only file system: '/bikesharing_full_year.csv'",
     "output_type": "error",
     "traceback": [
      "\u001b[0;31m---------------------------------------------------------------------------\u001b[0m",
      "\u001b[0;31mOSError\u001b[0m                                   Traceback (most recent call last)",
      "\u001b[0;32m<ipython-input-111-6a483d5c0727>\u001b[0m in \u001b[0;36m<module>\u001b[0;34m\u001b[0m\n\u001b[1;32m      1\u001b[0m \u001b[0;31m#save the DF to a new csv\u001b[0m\u001b[0;34m\u001b[0m\u001b[0;34m\u001b[0m\u001b[0;34m\u001b[0m\u001b[0m\n\u001b[0;32m----> 2\u001b[0;31m \u001b[0mdf_all\u001b[0m\u001b[0;34m.\u001b[0m\u001b[0mto_csv\u001b[0m\u001b[0;34m(\u001b[0m\u001b[0;34mr'/bikesharing_full_year.csv'\u001b[0m\u001b[0;34m,\u001b[0m \u001b[0mindex\u001b[0m\u001b[0;34m=\u001b[0m\u001b[0;32mFalse\u001b[0m\u001b[0;34m)\u001b[0m\u001b[0;34m\u001b[0m\u001b[0;34m\u001b[0m\u001b[0m\n\u001b[0m",
      "\u001b[0;32m~/opt/anaconda3/lib/python3.8/site-packages/pandas/core/generic.py\u001b[0m in \u001b[0;36mto_csv\u001b[0;34m(self, path_or_buf, sep, na_rep, float_format, columns, header, index, index_label, mode, encoding, compression, quoting, quotechar, line_terminator, chunksize, date_format, doublequote, escapechar, decimal, errors)\u001b[0m\n\u001b[1;32m   3165\u001b[0m             \u001b[0mdecimal\u001b[0m\u001b[0;34m=\u001b[0m\u001b[0mdecimal\u001b[0m\u001b[0;34m,\u001b[0m\u001b[0;34m\u001b[0m\u001b[0;34m\u001b[0m\u001b[0m\n\u001b[1;32m   3166\u001b[0m         )\n\u001b[0;32m-> 3167\u001b[0;31m         \u001b[0mformatter\u001b[0m\u001b[0;34m.\u001b[0m\u001b[0msave\u001b[0m\u001b[0;34m(\u001b[0m\u001b[0;34m)\u001b[0m\u001b[0;34m\u001b[0m\u001b[0;34m\u001b[0m\u001b[0m\n\u001b[0m\u001b[1;32m   3168\u001b[0m \u001b[0;34m\u001b[0m\u001b[0m\n\u001b[1;32m   3169\u001b[0m         \u001b[0;32mif\u001b[0m \u001b[0mpath_or_buf\u001b[0m \u001b[0;32mis\u001b[0m \u001b[0;32mNone\u001b[0m\u001b[0;34m:\u001b[0m\u001b[0;34m\u001b[0m\u001b[0;34m\u001b[0m\u001b[0m\n",
      "\u001b[0;32m~/opt/anaconda3/lib/python3.8/site-packages/pandas/io/formats/csvs.py\u001b[0m in \u001b[0;36msave\u001b[0;34m(self)\u001b[0m\n\u001b[1;32m    183\u001b[0m             \u001b[0mclose\u001b[0m \u001b[0;34m=\u001b[0m \u001b[0;32mFalse\u001b[0m\u001b[0;34m\u001b[0m\u001b[0;34m\u001b[0m\u001b[0m\n\u001b[1;32m    184\u001b[0m         \u001b[0;32melse\u001b[0m\u001b[0;34m:\u001b[0m\u001b[0;34m\u001b[0m\u001b[0;34m\u001b[0m\u001b[0m\n\u001b[0;32m--> 185\u001b[0;31m             f, handles = get_handle(\n\u001b[0m\u001b[1;32m    186\u001b[0m                 \u001b[0mself\u001b[0m\u001b[0;34m.\u001b[0m\u001b[0mpath_or_buf\u001b[0m\u001b[0;34m,\u001b[0m\u001b[0;34m\u001b[0m\u001b[0;34m\u001b[0m\u001b[0m\n\u001b[1;32m    187\u001b[0m                 \u001b[0mself\u001b[0m\u001b[0;34m.\u001b[0m\u001b[0mmode\u001b[0m\u001b[0;34m,\u001b[0m\u001b[0;34m\u001b[0m\u001b[0;34m\u001b[0m\u001b[0m\n",
      "\u001b[0;32m~/opt/anaconda3/lib/python3.8/site-packages/pandas/io/common.py\u001b[0m in \u001b[0;36mget_handle\u001b[0;34m(path_or_buf, mode, encoding, compression, memory_map, is_text, errors)\u001b[0m\n\u001b[1;32m    491\u001b[0m         \u001b[0;32mif\u001b[0m \u001b[0mencoding\u001b[0m\u001b[0;34m:\u001b[0m\u001b[0;34m\u001b[0m\u001b[0;34m\u001b[0m\u001b[0m\n\u001b[1;32m    492\u001b[0m             \u001b[0;31m# Encoding\u001b[0m\u001b[0;34m\u001b[0m\u001b[0;34m\u001b[0m\u001b[0;34m\u001b[0m\u001b[0m\n\u001b[0;32m--> 493\u001b[0;31m             \u001b[0mf\u001b[0m \u001b[0;34m=\u001b[0m \u001b[0mopen\u001b[0m\u001b[0;34m(\u001b[0m\u001b[0mpath_or_buf\u001b[0m\u001b[0;34m,\u001b[0m \u001b[0mmode\u001b[0m\u001b[0;34m,\u001b[0m \u001b[0mencoding\u001b[0m\u001b[0;34m=\u001b[0m\u001b[0mencoding\u001b[0m\u001b[0;34m,\u001b[0m \u001b[0merrors\u001b[0m\u001b[0;34m=\u001b[0m\u001b[0merrors\u001b[0m\u001b[0;34m,\u001b[0m \u001b[0mnewline\u001b[0m\u001b[0;34m=\u001b[0m\u001b[0;34m\"\"\u001b[0m\u001b[0;34m)\u001b[0m\u001b[0;34m\u001b[0m\u001b[0;34m\u001b[0m\u001b[0m\n\u001b[0m\u001b[1;32m    494\u001b[0m         \u001b[0;32melif\u001b[0m \u001b[0mis_text\u001b[0m\u001b[0;34m:\u001b[0m\u001b[0;34m\u001b[0m\u001b[0;34m\u001b[0m\u001b[0m\n\u001b[1;32m    495\u001b[0m             \u001b[0;31m# No explicit encoding\u001b[0m\u001b[0;34m\u001b[0m\u001b[0;34m\u001b[0m\u001b[0;34m\u001b[0m\u001b[0m\n",
      "\u001b[0;31mOSError\u001b[0m: [Errno 30] Read-only file system: '/bikesharing_full_year.csv'"
     ]
    }
   ],
   "source": [
    "#save the DF to a new csv\n",
    "df_all.to_csv(r'/bikesharing_full_year.csv', index=False)"
   ]
  },
  {
   "cell_type": "markdown",
   "metadata": {},
   "source": [
    "<a id=’65’></a>\n",
    "\n",
    "\n",
    "## Explore Univariate Variables\n",
    "\n",
    "In this section, I'll investigate distributions of individual variables. My aim is to check if there are any unusual points or outliers, take a deeper look to clean things up and prepare myself to look at relationships between variables.\n",
    "\n",
    "I will look into the following:\n",
    "- How long does the average trip take?\n",
    "- Which are the most used start and end stations?\n",
    "- When are the most trips taken in terms of time of day, day of the week, or month of the year?\n",
    "\n"
   ]
  },
  {
   "cell_type": "code",
   "execution_count": 68,
   "metadata": {},
   "outputs": [
    {
     "data": {
      "text/plain": [
       "1831.438460477427"
      ]
     },
     "execution_count": 68,
     "metadata": {},
     "output_type": "execute_result"
    }
   ],
   "source": [
    "# asses how long does the average trip take\n",
    "df_all['tripduration'].mean()"
   ]
  },
  {
   "cell_type": "markdown",
   "metadata": {},
   "source": [
    "The average trip takes 1831 seconds, which is approx. 30 minutes. I would like to see how the most frequent trip durations and the min and max value compare to the average."
   ]
  },
  {
   "cell_type": "code",
   "execution_count": 69,
   "metadata": {},
   "outputs": [
    {
     "data": {
      "text/plain": [
       "397    1897\n",
       "382    1884\n",
       "410    1879\n",
       "399    1878\n",
       "366    1873\n",
       "376    1871\n",
       "361    1866\n",
       "391    1865\n",
       "393    1863\n",
       "380    1857\n",
       "360    1857\n",
       "352    1853\n",
       "405    1851\n",
       "368    1850\n",
       "346    1847\n",
       "Name: tripduration, dtype: int64"
      ]
     },
     "execution_count": 69,
     "metadata": {},
     "output_type": "execute_result"
    }
   ],
   "source": [
    "# assess trip duration column's 15 most frequent values in descending order\n",
    "df_all['tripduration'].value_counts().sort_values(ascending=False)[:15]\n"
   ]
  },
  {
   "cell_type": "markdown",
   "metadata": {},
   "source": [
    "The most frequent trip duration shows values between 1847 and 1897 seconds which is around 30 minutes as well."
   ]
  },
  {
   "cell_type": "code",
   "execution_count": 70,
   "metadata": {},
   "outputs": [
    {
     "data": {
      "text/plain": [
       "61"
      ]
     },
     "execution_count": 70,
     "metadata": {},
     "output_type": "execute_result"
    }
   ],
   "source": [
    "df_all['tripduration'].min()"
   ]
  },
  {
   "cell_type": "code",
   "execution_count": 71,
   "metadata": {},
   "outputs": [
    {
     "data": {
      "text/plain": [
       "3879352"
      ]
     },
     "execution_count": 71,
     "metadata": {},
     "output_type": "execute_result"
    }
   ],
   "source": [
    "df_all['tripduration'].max()"
   ]
  },
  {
   "cell_type": "markdown",
   "metadata": {},
   "source": [
    "It seems like both minimum and maximum values are mistakes done by the users, either they didn't ride the bike just started the rental (minimum duration is around 1 minute) or they left the bike without closing the rental (maximum duration is 64655 minutes)."
   ]
  },
  {
   "cell_type": "markdown",
   "metadata": {},
   "source": [
    "Next, I will investigate the most frequently used start and end stations."
   ]
  },
  {
   "cell_type": "code",
   "execution_count": 72,
   "metadata": {},
   "outputs": [
    {
     "data": {
      "text/plain": [
       "68     34220\n",
       "60     33094\n",
       "67     29301\n",
       "46     27899\n",
       "107    23308\n",
       "342    22866\n",
       "178    22503\n",
       "47     22194\n",
       "74     21111\n",
       "53     20713\n",
       "80     20239\n",
       "179    19741\n",
       "Name: start station id, dtype: int64"
      ]
     },
     "execution_count": 72,
     "metadata": {},
     "output_type": "execute_result"
    }
   ],
   "source": [
    "# assess start station id column's 12 most frequent values in descending order\n",
    "df_all['start station id'].value_counts().sort_values(ascending=False)[:12]"
   ]
  },
  {
   "cell_type": "code",
   "execution_count": 73,
   "metadata": {},
   "outputs": [
    {
     "data": {
      "text/plain": [
       "184      Central Square at Mass Ave / Essex St\n",
       "475      Central Square at Mass Ave / Essex St\n",
       "536      Central Square at Mass Ave / Essex St\n",
       "559      Central Square at Mass Ave / Essex St\n",
       "594      Central Square at Mass Ave / Essex St\n",
       "                         ...                  \n",
       "73823    Central Square at Mass Ave / Essex St\n",
       "73854    Central Square at Mass Ave / Essex St\n",
       "73855    Central Square at Mass Ave / Essex St\n",
       "73925    Central Square at Mass Ave / Essex St\n",
       "73960    Central Square at Mass Ave / Essex St\n",
       "Name: start station name, Length: 34220, dtype: object"
      ]
     },
     "execution_count": 73,
     "metadata": {},
     "output_type": "execute_result"
    }
   ],
   "source": [
    "df_all.loc[df_all['start station id'] == 68, 'start station name']"
   ]
  },
  {
   "cell_type": "code",
   "execution_count": 74,
   "metadata": {},
   "outputs": [
    {
     "data": {
      "text/plain": [
       "4        Charles Circle - Charles St at Cambridge St\n",
       "268      Charles Circle - Charles St at Cambridge St\n",
       "425      Charles Circle - Charles St at Cambridge St\n",
       "426      Charles Circle - Charles St at Cambridge St\n",
       "470      Charles Circle - Charles St at Cambridge St\n",
       "                            ...                     \n",
       "73645    Charles Circle - Charles St at Cambridge St\n",
       "73716    Charles Circle - Charles St at Cambridge St\n",
       "73752    Charles Circle - Charles St at Cambridge St\n",
       "73891    Charles Circle - Charles St at Cambridge St\n",
       "73912    Charles Circle - Charles St at Cambridge St\n",
       "Name: start station name, Length: 33094, dtype: object"
      ]
     },
     "execution_count": 74,
     "metadata": {},
     "output_type": "execute_result"
    }
   ],
   "source": [
    "df_all.loc[df_all['start station id'] == 60, 'start station name']"
   ]
  },
  {
   "cell_type": "code",
   "execution_count": 75,
   "metadata": {},
   "outputs": [
    {
     "data": {
      "text/plain": [
       "171      MIT at Mass Ave / Amherst St\n",
       "172      MIT at Mass Ave / Amherst St\n",
       "216      MIT at Mass Ave / Amherst St\n",
       "234      MIT at Mass Ave / Amherst St\n",
       "279      MIT at Mass Ave / Amherst St\n",
       "                     ...             \n",
       "73383    MIT at Mass Ave / Amherst St\n",
       "73485    MIT at Mass Ave / Amherst St\n",
       "73511    MIT at Mass Ave / Amherst St\n",
       "73519    MIT at Mass Ave / Amherst St\n",
       "73653    MIT at Mass Ave / Amherst St\n",
       "Name: start station name, Length: 29301, dtype: object"
      ]
     },
     "execution_count": 75,
     "metadata": {},
     "output_type": "execute_result"
    }
   ],
   "source": [
    "df_all.loc[df_all['start station id'] == 67, 'start station name']"
   ]
  },
  {
   "cell_type": "code",
   "execution_count": 76,
   "metadata": {},
   "outputs": [
    {
     "data": {
      "text/plain": [
       "118      Christian Science Plaza - Massachusetts Ave at...\n",
       "187      Christian Science Plaza - Massachusetts Ave at...\n",
       "219      Christian Science Plaza - Massachusetts Ave at...\n",
       "254      Christian Science Plaza - Massachusetts Ave at...\n",
       "283      Christian Science Plaza - Massachusetts Ave at...\n",
       "                               ...                        \n",
       "73488    Christian Science Plaza - Massachusetts Ave at...\n",
       "73705    Christian Science Plaza - Massachusetts Ave at...\n",
       "73736    Christian Science Plaza - Massachusetts Ave at...\n",
       "73737    Christian Science Plaza - Massachusetts Ave at...\n",
       "73812    Christian Science Plaza - Massachusetts Ave at...\n",
       "Name: start station name, Length: 27899, dtype: object"
      ]
     },
     "execution_count": 76,
     "metadata": {},
     "output_type": "execute_result"
    }
   ],
   "source": [
    "df_all.loc[df_all['start station id'] == 46, 'start station name']"
   ]
  },
  {
   "cell_type": "code",
   "execution_count": 77,
   "metadata": {},
   "outputs": [
    {
     "data": {
      "text/plain": [
       "58       Ames St at Main St\n",
       "65       Ames St at Main St\n",
       "66       Ames St at Main St\n",
       "72       Ames St at Main St\n",
       "149      Ames St at Main St\n",
       "                ...        \n",
       "73804    Ames St at Main St\n",
       "73814    Ames St at Main St\n",
       "73818    Ames St at Main St\n",
       "73852    Ames St at Main St\n",
       "73896    Ames St at Main St\n",
       "Name: start station name, Length: 23308, dtype: object"
      ]
     },
     "execution_count": 77,
     "metadata": {},
     "output_type": "execute_result"
    }
   ],
   "source": [
    "df_all.loc[df_all['start station id'] == 107, 'start station name']"
   ]
  },
  {
   "cell_type": "code",
   "execution_count": 78,
   "metadata": {},
   "outputs": [
    {
     "data": {
      "text/plain": [
       "51       Boylston St at Jersey St\n",
       "60       Boylston St at Jersey St\n",
       "64       Boylston St at Jersey St\n",
       "126      Boylston St at Jersey St\n",
       "127      Boylston St at Jersey St\n",
       "                   ...           \n",
       "73849    Boylston St at Jersey St\n",
       "73850    Boylston St at Jersey St\n",
       "73902    Boylston St at Jersey St\n",
       "73905    Boylston St at Jersey St\n",
       "73966    Boylston St at Jersey St\n",
       "Name: start station name, Length: 22866, dtype: object"
      ]
     },
     "execution_count": 78,
     "metadata": {},
     "output_type": "execute_result"
    }
   ],
   "source": [
    " df_all.loc[df_all['start station id'] == 342, 'start station name']"
   ]
  },
  {
   "cell_type": "code",
   "execution_count": 79,
   "metadata": {},
   "outputs": [
    {
     "data": {
      "text/plain": [
       "82       MIT Pacific St at Purrington St\n",
       "165      MIT Pacific St at Purrington St\n",
       "182      MIT Pacific St at Purrington St\n",
       "291      MIT Pacific St at Purrington St\n",
       "296      MIT Pacific St at Purrington St\n",
       "                      ...               \n",
       "73801    MIT Pacific St at Purrington St\n",
       "73856    MIT Pacific St at Purrington St\n",
       "73887    MIT Pacific St at Purrington St\n",
       "73904    MIT Pacific St at Purrington St\n",
       "73994    MIT Pacific St at Purrington St\n",
       "Name: start station name, Length: 22503, dtype: object"
      ]
     },
     "execution_count": 79,
     "metadata": {},
     "output_type": "execute_result"
    }
   ],
   "source": [
    " df_all.loc[df_all['start station id'] == 178, 'start station name']"
   ]
  },
  {
   "cell_type": "code",
   "execution_count": 80,
   "metadata": {},
   "outputs": [
    {
     "data": {
      "text/plain": [
       "16       Cross St at Hanover St\n",
       "100      Cross St at Hanover St\n",
       "263      Cross St at Hanover St\n",
       "323      Cross St at Hanover St\n",
       "376      Cross St at Hanover St\n",
       "                  ...          \n",
       "73876    Cross St at Hanover St\n",
       "73877    Cross St at Hanover St\n",
       "73879    Cross St at Hanover St\n",
       "73943    Cross St at Hanover St\n",
       "73945    Cross St at Hanover St\n",
       "Name: start station name, Length: 22194, dtype: object"
      ]
     },
     "execution_count": 80,
     "metadata": {},
     "output_type": "execute_result"
    }
   ],
   "source": [
    " df_all.loc[df_all['start station id'] == 47, 'start station name']"
   ]
  },
  {
   "cell_type": "code",
   "execution_count": 81,
   "metadata": {},
   "outputs": [
    {
     "data": {
      "text/plain": [
       "21       Harvard Square at Mass Ave/ Dunster\n",
       "24       Harvard Square at Mass Ave/ Dunster\n",
       "25       Harvard Square at Mass Ave/ Dunster\n",
       "80       Harvard Square at Mass Ave/ Dunster\n",
       "81       Harvard Square at Mass Ave/ Dunster\n",
       "                        ...                 \n",
       "72838    Harvard Square at Mass Ave/ Dunster\n",
       "72841    Harvard Square at Mass Ave/ Dunster\n",
       "72887    Harvard Square at Mass Ave/ Dunster\n",
       "73626    Harvard Square at Mass Ave/ Dunster\n",
       "74000    Harvard Square at Mass Ave/ Dunster\n",
       "Name: start station name, Length: 21111, dtype: object"
      ]
     },
     "execution_count": 81,
     "metadata": {},
     "output_type": "execute_result"
    }
   ],
   "source": [
    " df_all.loc[df_all['start station id'] == 74, 'start station name']"
   ]
  },
  {
   "cell_type": "code",
   "execution_count": 82,
   "metadata": {},
   "outputs": [
    {
     "data": {
      "text/plain": [
       "1976      Beacon St at Massachusetts Ave\n",
       "2015      Beacon St at Massachusetts Ave\n",
       "2441      Beacon St at Massachusetts Ave\n",
       "2733      Beacon St at Massachusetts Ave\n",
       "2978      Beacon St at Massachusetts Ave\n",
       "                       ...              \n",
       "100637    Beacon St at Massachusetts Ave\n",
       "100658    Beacon St at Massachusetts Ave\n",
       "100674    Beacon St at Massachusetts Ave\n",
       "100737    Beacon St at Massachusetts Ave\n",
       "100808    Beacon St at Massachusetts Ave\n",
       "Name: start station name, Length: 20713, dtype: object"
      ]
     },
     "execution_count": 82,
     "metadata": {},
     "output_type": "execute_result"
    }
   ],
   "source": [
    " df_all.loc[df_all['start station id'] == 53, 'start station name']"
   ]
  },
  {
   "cell_type": "code",
   "execution_count": 83,
   "metadata": {},
   "outputs": [
    {
     "data": {
      "text/plain": [
       "220      MIT Stata Center at Vassar St / Main St\n",
       "243      MIT Stata Center at Vassar St / Main St\n",
       "529      MIT Stata Center at Vassar St / Main St\n",
       "544      MIT Stata Center at Vassar St / Main St\n",
       "997      MIT Stata Center at Vassar St / Main St\n",
       "                          ...                   \n",
       "73728    MIT Stata Center at Vassar St / Main St\n",
       "73767    MIT Stata Center at Vassar St / Main St\n",
       "73827    MIT Stata Center at Vassar St / Main St\n",
       "73961    MIT Stata Center at Vassar St / Main St\n",
       "73985    MIT Stata Center at Vassar St / Main St\n",
       "Name: start station name, Length: 20239, dtype: object"
      ]
     },
     "execution_count": 83,
     "metadata": {},
     "output_type": "execute_result"
    }
   ],
   "source": [
    " df_all.loc[df_all['start station id'] == 80, 'start station name']"
   ]
  },
  {
   "cell_type": "code",
   "execution_count": 84,
   "metadata": {},
   "outputs": [
    {
     "data": {
      "text/plain": [
       "299      MIT Vassar St\n",
       "317      MIT Vassar St\n",
       "331      MIT Vassar St\n",
       "352      MIT Vassar St\n",
       "368      MIT Vassar St\n",
       "             ...      \n",
       "73907    MIT Vassar St\n",
       "73908    MIT Vassar St\n",
       "73939    MIT Vassar St\n",
       "73941    MIT Vassar St\n",
       "73973    MIT Vassar St\n",
       "Name: start station name, Length: 19741, dtype: object"
      ]
     },
     "execution_count": 84,
     "metadata": {},
     "output_type": "execute_result"
    }
   ],
   "source": [
    " df_all.loc[df_all['start station id'] == 179, 'start station name']"
   ]
  },
  {
   "cell_type": "code",
   "execution_count": 85,
   "metadata": {},
   "outputs": [
    {
     "data": {
      "image/png": "[encoded data removed]",
      "text/plain": [
       "<Figure size 432x288 with 1 Axes>"
      ]
     },
     "metadata": {
      "needs_background": "light"
     },
     "output_type": "display_data"
    }
   ],
   "source": [
    "# plot the number of rentals by the most popular start stations\n",
    "ax = df_all['start station id'].value_counts().sort_values(ascending=False)[:12].plot(kind=\"bar\")\n",
    "plt.xlabel('Station Names', fontsize=12)\n",
    "plt.ylabel('Number of rentals', fontsize=12)\n",
    "\n",
    "plt.title('Most Frequently Used Start Stations', fontsize=16)\n",
    "ax.set_xticklabels(['Central Square','Charles Circle','MIT','Christian Science Plaza','Ames St','Boylston St','MIT Pacific St','Cross St','Harvard Square','Beacon St','MIT Stata Center', 'MIT Vassar St'], rotation='90');\n"
   ]
  },
  {
   "cell_type": "markdown",
   "metadata": {},
   "source": [
    "The most frequently used start stations are: Central Square, Charles Circle, MIT, Christian Science Plaza, Annes St, Boylston St, MIT Pacific St, Cross St, Harward Square, Beacon St, MIT Stata Center, MIT Vassar St."
   ]
  },
  {
   "cell_type": "code",
   "execution_count": 86,
   "metadata": {},
   "outputs": [
    {
     "data": {
      "text/plain": [
       "68     35158\n",
       "60     33450\n",
       "46     28040\n",
       "67     27574\n",
       "107    27111\n",
       "342    22970\n",
       "74     22725\n",
       "47     21995\n",
       "190    21604\n",
       "11     21473\n",
       "178    21351\n",
       "53     20595\n",
       "Name: end station id, dtype: int64"
      ]
     },
     "execution_count": 86,
     "metadata": {},
     "output_type": "execute_result"
    }
   ],
   "source": [
    "# assess end station id column's 12 most frequent values in descending order\n",
    "df_all['end station id'].value_counts().sort_values(ascending=False)[:12]\n"
   ]
  },
  {
   "cell_type": "code",
   "execution_count": 87,
   "metadata": {},
   "outputs": [
    {
     "data": {
      "text/plain": [
       "165      Central Square at Mass Ave / Essex St\n",
       "457      Central Square at Mass Ave / Essex St\n",
       "483      Central Square at Mass Ave / Essex St\n",
       "487      Central Square at Mass Ave / Essex St\n",
       "542      Central Square at Mass Ave / Essex St\n",
       "                         ...                  \n",
       "73762    Central Square at Mass Ave / Essex St\n",
       "73763    Central Square at Mass Ave / Essex St\n",
       "73764    Central Square at Mass Ave / Essex St\n",
       "73828    Central Square at Mass Ave / Essex St\n",
       "73829    Central Square at Mass Ave / Essex St\n",
       "Name: end station name, Length: 35158, dtype: object"
      ]
     },
     "execution_count": 87,
     "metadata": {},
     "output_type": "execute_result"
    }
   ],
   "source": [
    "df_all.loc[df_all['end station id'] == 68, 'end station name']"
   ]
  },
  {
   "cell_type": "code",
   "execution_count": 88,
   "metadata": {},
   "outputs": [
    {
     "data": {
      "text/plain": [
       "19       Charles Circle - Charles St at Cambridge St\n",
       "203      Charles Circle - Charles St at Cambridge St\n",
       "226      Charles Circle - Charles St at Cambridge St\n",
       "311      Charles Circle - Charles St at Cambridge St\n",
       "524      Charles Circle - Charles St at Cambridge St\n",
       "                            ...                     \n",
       "73723    Charles Circle - Charles St at Cambridge St\n",
       "73801    Charles Circle - Charles St at Cambridge St\n",
       "73848    Charles Circle - Charles St at Cambridge St\n",
       "73964    Charles Circle - Charles St at Cambridge St\n",
       "73965    Charles Circle - Charles St at Cambridge St\n",
       "Name: end station name, Length: 33450, dtype: object"
      ]
     },
     "execution_count": 88,
     "metadata": {},
     "output_type": "execute_result"
    }
   ],
   "source": [
    "df_all.loc[df_all['end station id'] == 60, 'end station name']"
   ]
  },
  {
   "cell_type": "code",
   "execution_count": 89,
   "metadata": {},
   "outputs": [
    {
     "data": {
      "text/plain": [
       "51       Christian Science Plaza - Massachusetts Ave at...\n",
       "149      Christian Science Plaza - Massachusetts Ave at...\n",
       "150      Christian Science Plaza - Massachusetts Ave at...\n",
       "151      Christian Science Plaza - Massachusetts Ave at...\n",
       "154      Christian Science Plaza - Massachusetts Ave at...\n",
       "                               ...                        \n",
       "73506    Christian Science Plaza - Massachusetts Ave at...\n",
       "73715    Christian Science Plaza - Massachusetts Ave at...\n",
       "73736    Christian Science Plaza - Massachusetts Ave at...\n",
       "73737    Christian Science Plaza - Massachusetts Ave at...\n",
       "73909    Christian Science Plaza - Massachusetts Ave at...\n",
       "Name: end station name, Length: 28040, dtype: object"
      ]
     },
     "execution_count": 89,
     "metadata": {},
     "output_type": "execute_result"
    }
   ],
   "source": [
    "df_all.loc[df_all['end station id'] == 46, 'end station name']"
   ]
  },
  {
   "cell_type": "code",
   "execution_count": 90,
   "metadata": {},
   "outputs": [
    {
     "data": {
      "text/plain": [
       "58       MIT at Mass Ave / Amherst St\n",
       "291      MIT at Mass Ave / Amherst St\n",
       "299      MIT at Mass Ave / Amherst St\n",
       "317      MIT at Mass Ave / Amherst St\n",
       "352      MIT at Mass Ave / Amherst St\n",
       "                     ...             \n",
       "73321    MIT at Mass Ave / Amherst St\n",
       "73406    MIT at Mass Ave / Amherst St\n",
       "73582    MIT at Mass Ave / Amherst St\n",
       "73583    MIT at Mass Ave / Amherst St\n",
       "73739    MIT at Mass Ave / Amherst St\n",
       "Name: end station name, Length: 27574, dtype: object"
      ]
     },
     "execution_count": 90,
     "metadata": {},
     "output_type": "execute_result"
    }
   ],
   "source": [
    "df_all.loc[df_all['end station id'] == 67, 'end station name']"
   ]
  },
  {
   "cell_type": "code",
   "execution_count": 91,
   "metadata": {},
   "outputs": [
    {
     "data": {
      "text/plain": [
       "109      Ames St at Main St\n",
       "115      Ames St at Main St\n",
       "147      Ames St at Main St\n",
       "148      Ames St at Main St\n",
       "179      Ames St at Main St\n",
       "                ...        \n",
       "72850    Ames St at Main St\n",
       "73049    Ames St at Main St\n",
       "73226    Ames St at Main St\n",
       "73706    Ames St at Main St\n",
       "73710    Ames St at Main St\n",
       "Name: end station name, Length: 27111, dtype: object"
      ]
     },
     "execution_count": 91,
     "metadata": {},
     "output_type": "execute_result"
    }
   ],
   "source": [
    "df_all.loc[df_all['end station id'] == 107, 'end station name']"
   ]
  },
  {
   "cell_type": "code",
   "execution_count": 92,
   "metadata": {},
   "outputs": [
    {
     "data": {
      "text/plain": [
       "108      Boylston St at Exeter St\n",
       "269      Boylston St at Exeter St\n",
       "359      Boylston St at Exeter St\n",
       "371      Boylston St at Exeter St\n",
       "417      Boylston St at Exeter St\n",
       "                   ...           \n",
       "73318    Boylston St at Exeter St\n",
       "73523    Boylston St at Exeter St\n",
       "73671    Boylston St at Exeter St\n",
       "73696    Boylston St at Exeter St\n",
       "73711    Boylston St at Exeter St\n",
       "Name: end station name, Length: 10511, dtype: object"
      ]
     },
     "execution_count": 92,
     "metadata": {},
     "output_type": "execute_result"
    }
   ],
   "source": [
    "df_all.loc[df_all['end station id'] == 372, 'end station name']"
   ]
  },
  {
   "cell_type": "code",
   "execution_count": 93,
   "metadata": {},
   "outputs": [
    {
     "data": {
      "text/plain": [
       "248      Harvard Square at Mass Ave/ Dunster\n",
       "288      Harvard Square at Mass Ave/ Dunster\n",
       "378      Harvard Square at Mass Ave/ Dunster\n",
       "453      Harvard Square at Mass Ave/ Dunster\n",
       "454      Harvard Square at Mass Ave/ Dunster\n",
       "                        ...                 \n",
       "73161    Harvard Square at Mass Ave/ Dunster\n",
       "73468    Harvard Square at Mass Ave/ Dunster\n",
       "73729    Harvard Square at Mass Ave/ Dunster\n",
       "73753    Harvard Square at Mass Ave/ Dunster\n",
       "73873    Harvard Square at Mass Ave/ Dunster\n",
       "Name: end station name, Length: 22725, dtype: object"
      ]
     },
     "execution_count": 93,
     "metadata": {},
     "output_type": "execute_result"
    }
   ],
   "source": [
    "df_all.loc[df_all['end station id'] == 74, 'end station name']"
   ]
  },
  {
   "cell_type": "code",
   "execution_count": 94,
   "metadata": {},
   "outputs": [
    {
     "data": {
      "text/plain": [
       "152      Cross St at Hanover St\n",
       "162      Cross St at Hanover St\n",
       "275      Cross St at Hanover St\n",
       "308      Cross St at Hanover St\n",
       "372      Cross St at Hanover St\n",
       "                  ...          \n",
       "73467    Cross St at Hanover St\n",
       "73470    Cross St at Hanover St\n",
       "73656    Cross St at Hanover St\n",
       "73869    Cross St at Hanover St\n",
       "73898    Cross St at Hanover St\n",
       "Name: end station name, Length: 21995, dtype: object"
      ]
     },
     "execution_count": 94,
     "metadata": {},
     "output_type": "execute_result"
    }
   ],
   "source": [
    "df_all.loc[df_all['end station id'] == 47, 'end station name']"
   ]
  },
  {
   "cell_type": "code",
   "execution_count": 95,
   "metadata": {},
   "outputs": [
    {
     "data": {
      "text/plain": [
       "232      Nashua Street at Red Auerbach Way\n",
       "305      Nashua Street at Red Auerbach Way\n",
       "683      Nashua Street at Red Auerbach Way\n",
       "684      Nashua Street at Red Auerbach Way\n",
       "690      Nashua Street at Red Auerbach Way\n",
       "                       ...                \n",
       "73687    Nashua Street at Red Auerbach Way\n",
       "73779    Nashua Street at Red Auerbach Way\n",
       "73838    Nashua Street at Red Auerbach Way\n",
       "73863    Nashua Street at Red Auerbach Way\n",
       "73956    Nashua Street at Red Auerbach Way\n",
       "Name: end station name, Length: 21604, dtype: object"
      ]
     },
     "execution_count": 95,
     "metadata": {},
     "output_type": "execute_result"
    }
   ],
   "source": [
    "df_all.loc[df_all['end station id'] == 190, 'end station name']"
   ]
  },
  {
   "cell_type": "code",
   "execution_count": 96,
   "metadata": {},
   "outputs": [
    {
     "data": {
      "text/plain": [
       "114      Longwood Ave at Binney St\n",
       "116      Longwood Ave at Binney St\n",
       "256      Longwood Ave at Binney St\n",
       "272      Longwood Ave at Binney St\n",
       "297      Longwood Ave at Binney St\n",
       "                   ...            \n",
       "72803    Longwood Ave at Binney St\n",
       "73046    Longwood Ave at Binney St\n",
       "73392    Longwood Ave at Binney St\n",
       "73785    Longwood Ave at Binney St\n",
       "73911    Longwood Ave at Binney St\n",
       "Name: end station name, Length: 21473, dtype: object"
      ]
     },
     "execution_count": 96,
     "metadata": {},
     "output_type": "execute_result"
    }
   ],
   "source": [
    "df_all.loc[df_all['end station id'] == 11, 'end station name']"
   ]
  },
  {
   "cell_type": "code",
   "execution_count": 97,
   "metadata": {},
   "outputs": [
    {
     "data": {
      "text/plain": [
       "5        MIT Pacific St at Purrington St\n",
       "61       MIT Pacific St at Purrington St\n",
       "66       MIT Pacific St at Purrington St\n",
       "67       MIT Pacific St at Purrington St\n",
       "69       MIT Pacific St at Purrington St\n",
       "                      ...               \n",
       "73770    MIT Pacific St at Purrington St\n",
       "73816    MIT Pacific St at Purrington St\n",
       "73904    MIT Pacific St at Purrington St\n",
       "73983    MIT Pacific St at Purrington St\n",
       "73985    MIT Pacific St at Purrington St\n",
       "Name: end station name, Length: 21351, dtype: object"
      ]
     },
     "execution_count": 97,
     "metadata": {},
     "output_type": "execute_result"
    }
   ],
   "source": [
    "df_all.loc[df_all['end station id'] == 178, 'end station name']"
   ]
  },
  {
   "cell_type": "code",
   "execution_count": 98,
   "metadata": {},
   "outputs": [
    {
     "data": {
      "text/plain": [
       "2015      Beacon St at Massachusetts Ave\n",
       "2347      Beacon St at Massachusetts Ave\n",
       "2669      Beacon St at Massachusetts Ave\n",
       "2723      Beacon St at Massachusetts Ave\n",
       "2762      Beacon St at Massachusetts Ave\n",
       "                       ...              \n",
       "100528    Beacon St at Massachusetts Ave\n",
       "100582    Beacon St at Massachusetts Ave\n",
       "100674    Beacon St at Massachusetts Ave\n",
       "100708    Beacon St at Massachusetts Ave\n",
       "100730    Beacon St at Massachusetts Ave\n",
       "Name: end station name, Length: 20595, dtype: object"
      ]
     },
     "execution_count": 98,
     "metadata": {},
     "output_type": "execute_result"
    }
   ],
   "source": [
    "df_all.loc[df_all['end station id'] == 53, 'end station name']"
   ]
  },
  {
   "cell_type": "code",
   "execution_count": 99,
   "metadata": {},
   "outputs": [
    {
     "data": {
      "image/png": "[encoded data removed]",
      "text/plain": [
       "<Figure size 432x288 with 1 Axes>"
      ]
     },
     "metadata": {
      "needs_background": "light"
     },
     "output_type": "display_data"
    }
   ],
   "source": [
    "# plot the number of rentals by the most popular end stations\n",
    "ax = df_all['end station id'].value_counts().sort_values(ascending=False)[:12].plot(kind=\"bar\")\n",
    "plt.xlabel('Station Names', fontsize=12)\n",
    "plt.ylabel('Number of rentals', fontsize=12)\n",
    "\n",
    "plt.title('Most Frequently Used End Stations', fontsize=16)\n",
    "ax.set_xticklabels(['Central Square','Charles Circle','MIT','Christian Science Plaza','Ames St','Boylston St','Harvard Square','Cross St','Nashua Street','Longwood Ave', 'MIT Pacific St', 'Beacon St']);"
   ]
  },
  {
   "cell_type": "markdown",
   "metadata": {},
   "source": [
    "The most frequently used end stations are: Central Square, Charles Circle, MIT, Christian Science Plaza, Annes St - and until here, the most frequent start and end stations are identitical- Boylston St, Harward Square, Cross St, Nashua Street, Longwood Ave, Beacon St, MIT Pacific St, Beacon St."
   ]
  },
  {
   "cell_type": "code",
   "execution_count": 120,
   "metadata": {},
   "outputs": [
    {
     "data": {
      "image/png": "[encoded data removed]",
      "text/plain": [
       "<Figure size 432x288 with 1 Axes>"
      ]
     },
     "metadata": {
      "needs_background": "light"
     },
     "output_type": "display_data"
    }
   ],
   "source": [
    "# plot the number of rentals by the days of the week\n",
    "ax = df_all['weekday'].value_counts().plot(kind=\"bar\")\n",
    "plt.xlabel('Days of the week', fontsize=12)\n",
    "plt.ylabel('Number of rentals', fontsize=12)\n",
    "\n",
    "plt.title('Most Popular Days of the Week', fontsize=16)\n",
    "ax.set_xticklabels(['Saturday','Friday','Sunday','Wednesday','Tuesday','Thursday','Monday']);"
   ]
  },
  {
   "cell_type": "markdown",
   "metadata": {},
   "source": [
    "The most popular days of the week for the riders are Saturday, Frdiay, Sunday, Wednesday, Tuesday, Thursday and not surprisingly, Monday comes the last.\n",
    "\n",
    "Next, I will check the most popular months of the year."
   ]
  },
  {
   "cell_type": "code",
   "execution_count": 101,
   "metadata": {},
   "outputs": [
    {
     "data": {
      "text/plain": [
       "September    307853\n",
       "August       289033\n",
       "July         259726\n",
       "October      248424\n",
       "June         191843\n",
       "November     161712\n",
       "February     133235\n",
       "January      128598\n",
       "May          124879\n",
       "March        107350\n",
       "December      74002\n",
       "April         46793\n",
       "Name: month, dtype: int64"
      ]
     },
     "execution_count": 101,
     "metadata": {},
     "output_type": "execute_result"
    }
   ],
   "source": [
    "# assess month's column 12 most frequent values in descending order\n",
    "df_all['month'].value_counts().sort_values(ascending=False)"
   ]
  },
  {
   "cell_type": "code",
   "execution_count": 112,
   "metadata": {},
   "outputs": [
    {
     "data": {
      "image/png": "[encoded data removed]",
      "text/plain": [
       "<Figure size 432x288 with 1 Axes>"
      ]
     },
     "metadata": {
      "needs_background": "light"
     },
     "output_type": "display_data"
    }
   ],
   "source": [
    "# plot the most popular months of the year\n",
    "ax = df_all['month'].value_counts().reindex(['January', 'February', 'March', 'April', 'May', 'June', 'July', 'August', 'September', 'October', 'November', 'December']).plot(kind=\"barh\")\n",
    "ax.set_title('Most Popular Months of the Year', fontsize=16)\n",
    "ax.set_xlabel('Months', fontsize=12)\n",
    "ax.set_ylabel('Number of rentals', fontsize=12);"
   ]
  },
  {
   "cell_type": "markdown",
   "metadata": {},
   "source": [
    "The most popular months of the year to ride a bike are: \n",
    "\n",
    "September, August, July, October, June, November\n",
    "\n",
    "The least popular ones are:\n",
    "\n",
    "April, December, March, May, January, February"
   ]
  },
  {
   "cell_type": "markdown",
   "metadata": {},
   "source": [
    "<a id=’100’></a>\n",
    "\n",
    "## Bivariate Exploration\n",
    "\n",
    "> In this section, I'll investigate relationships between pairs of variables in my data. Make sure the variables that you cover here have been introduced in some\n",
    "fashion in the previous section (univariate exploration).\n",
    "-\n",
    "\n",
    "- Relationship between weekday/weekend and start/end stations\n",
    "- Duration on weekdays/weekends\n",
    "- Duration depending on user type\n"
   ]
  },
  {
   "cell_type": "code",
   "execution_count": 103,
   "metadata": {},
   "outputs": [
    {
     "data": {
      "image/png": "[encoded data removed]",
      "text/plain": [
       "<Figure size 432x288 with 1 Axes>"
      ]
     },
     "metadata": {
      "needs_background": "light"
     },
     "output_type": "display_data"
    }
   ],
   "source": [
    "# since the first relationship is between two categorical variables, I will use a countplot to visualise\n",
    "ax = sb.countplot(data = df_all, order = pandas.value_counts(df_all['start station name']).iloc[:10].index, x = 'start station name', hue = 'type')\n",
    "plt.xticks(rotation = 90);\n",
    "ax.set_title('Bike Rental Difference Between Weekdays and Weekends on Start stations', fontsize=16)\n",
    "ax.set_xlabel('Station names', fontsize=12)\n",
    "ax.set_ylabel('Number of rentals', fontsize=12);"
   ]
  },
  {
   "cell_type": "code",
   "execution_count": 104,
   "metadata": {},
   "outputs": [
    {
     "data": {
      "image/png": "[encoded data removed]",
      "text/plain": [
       "<Figure size 432x288 with 1 Axes>"
      ]
     },
     "metadata": {
      "needs_background": "light"
     },
     "output_type": "display_data"
    }
   ],
   "source": [
    "# check the same for the end stations as well\n",
    "ax = sb.countplot(data = df_all, order = pandas.value_counts(df_all['end station name']).iloc[:10].index, x = 'end station name', hue = 'type')\n",
    "plt.xticks(rotation = 90);\n",
    "ax.set_title('Bike Rental Difference Between Weekdays and Weekends on End stations', fontsize=16)\n",
    "ax.set_xlabel('Station names', fontsize=12)\n",
    "ax.set_ylabel('Number of rentals', fontsize=12);"
   ]
  },
  {
   "cell_type": "markdown",
   "metadata": {},
   "source": [
    "There is a clear difference in number of rentals between weekdays and weekends and we can also see that the names of the stations differ on the most popular start and end stations, which likely means there are certain areas where people go to work from and to. To prove this however, I would need to visualise it on a map but that's out of the scope for this project.\n",
    "\n",
    "I will continue looking at the next question."
   ]
  },
  {
   "cell_type": "code",
   "execution_count": 105,
   "metadata": {},
   "outputs": [
    {
     "data": {
      "image/png": "[encoded data removed]",
      "text/plain": [
       "<Figure size 432x288 with 1 Axes>"
      ]
     },
     "metadata": {
      "needs_background": "light"
     },
     "output_type": "display_data"
    }
   ],
   "source": [
    "# let's see how the tripduration is affected by the type of the days in the week on average\n",
    "ax = sb.barplot(data = df_all, x = 'type', y = 'tripduration')\n",
    "plt.xticks(rotation=15);\n",
    "plt.ylabel('Trip duration')\n",
    "plt.xlabel('Type of the Day');"
   ]
  },
  {
   "cell_type": "markdown",
   "metadata": {},
   "source": [
    "This plot shows us that on weekdays, the average trip duration is around 1600 seconds and on weekends it's above 2300. This lets us conclude that people use the bikes on weekends for longer rides, perhaps not for the daily commute but for sport purposes."
   ]
  },
  {
   "cell_type": "markdown",
   "metadata": {},
   "source": [
    "Now I would like to use the same plot to see the relationship between trip duration and usertype."
   ]
  },
  {
   "cell_type": "code",
   "execution_count": 106,
   "metadata": {},
   "outputs": [
    {
     "data": {
      "image/png": "[encoded data removed]",
      "text/plain": [
       "<Figure size 432x288 with 1 Axes>"
      ]
     },
     "metadata": {
      "needs_background": "light"
     },
     "output_type": "display_data"
    }
   ],
   "source": [
    "# let's see how the tripduration relates to the type of the user\n",
    "ax = sb.barplot(data = df_all, x = 'usertype', y = 'tripduration')\n",
    "plt.xticks(rotation=15);\n",
    "plt.ylabel('Trip duration')\n",
    "plt.xlabel('Type of the User');"
   ]
  },
  {
   "cell_type": "markdown",
   "metadata": {},
   "source": [
    "We can see that the average usage for a single ride customer is almost tripled compared to the subscribers. This could easily happen due to the number of subscribers versus single ride customers. Let's investigate that."
   ]
  },
  {
   "cell_type": "code",
   "execution_count": 107,
   "metadata": {},
   "outputs": [
    {
     "data": {
      "text/plain": [
       "Subscriber    1503053\n",
       "Customer       570395\n",
       "Name: usertype, dtype: int64"
      ]
     },
     "execution_count": 107,
     "metadata": {},
     "output_type": "execute_result"
    }
   ],
   "source": [
    "# check the total count of each user type\n",
    "df_all['usertype'].value_counts()"
   ]
  },
  {
   "cell_type": "markdown",
   "metadata": {},
   "source": [
    "It seems like there are a lot more subscribers than single ride customers, so looking at our plot let's conclude that single ride customers use the bikes for longer rides, while subscribers probably only use it for daily commute, which makes sense."
   ]
  },
  {
   "cell_type": "markdown",
   "metadata": {},
   "source": [
    "<a id=’105’></a>\n",
    "\n",
    "## Multivariate Exploration\n",
    "\n",
    "I'll create plots of three or more variables to investigate my data even\n",
    "further. \n",
    "\n",
    "To specify, I would like to see the relationship between:\n",
    "- trip duration by months, based on user type\n",
    "- number of trips by weekday or weekend, based on user type\n",
    "- trip duration by type of weekday, based on user type"
   ]
  },
  {
   "cell_type": "code",
   "execution_count": 124,
   "metadata": {},
   "outputs": [
    {
     "data": {
      "image/png": "[encoded data removed]",
      "text/plain": [
       "<Figure size 1058.4x595.44 with 1 Axes>"
      ]
     },
     "metadata": {
      "needs_background": "light"
     },
     "output_type": "display_data"
    }
   ],
   "source": [
    "# plot the trip duration by the months of the year based on if the user is a customer or a subscriber\n",
    "plt.figure(figsize=[14.70, 8.27])\n",
    "sb.stripplot(data = df_all, x = 'month', y = 'tripduration', hue = 'usertype',\n",
    "            jitter = 0.35, dodge = True, palette = 'colorblind')\n",
    "plt.title('Trip duration by Months based on User type', fontsize = 16)\n",
    "plt.xlabel('Month')\n",
    "plt.ylabel('Trip duration')\n",
    "plt.legend(title=\"User Type\", title_fontsize = 12);\n"
   ]
  },
  {
   "cell_type": "markdown",
   "metadata": {},
   "source": [
    "This plot clearly shows that\n",
    "1, single ride customers are using the bikes for a longer duration than subscribers\n",
    "2, single ride customers are using the bikes more often than subscribers\n",
    "3, both user types are using the bikes more often and for a longer time in the months of summer.\n",
    "\n",
    "Next I'll explore how does the frequency look like by hours."
   ]
  },
  {
   "cell_type": "code",
   "execution_count": 128,
   "metadata": {},
   "outputs": [
    {
     "data": {
      "image/png": "[encoded data removed]",
      "text/plain": [
       "<Figure size 1058.4x595.44 with 2 Axes>"
      ]
     },
     "metadata": {
      "needs_background": "light"
     },
     "output_type": "display_data"
    }
   ],
   "source": [
    "# plot the number of trips by the hours of the day on weekdays and weekends\n",
    "plt.figure(figsize=[14.70, 8.27])\n",
    "plt.subplot(1,2,1)\n",
    "fig1 = sb.countplot(data = df_all[df_all['type']== 'Weekday'], x = 'timeoftheday', color = 'Grey')\n",
    "plt.title('Number of trips by Hour during Weekdays', fontsize = 16)\n",
    "plt.xlabel('Hour')\n",
    "plt.ylabel('Number of Trips')\n",
    "plt.ylim([0,200000])\n",
    "plt.subplot(1,2,2)\n",
    "fig1 = sb.countplot(data = df_all[df_all['type']== 'Weekend'], x = 'timeoftheday', color = 'Grey')\n",
    "plt.title('Number of trips by Hour during Weekends', fontsize = 16)\n",
    "plt.xlabel('Hour')\n",
    "plt.ylabel('Number of Trips')\n",
    "plt.ylim([0,100000])\n",
    "plt.tight_layout();"
   ]
  },
  {
   "cell_type": "markdown",
   "metadata": {},
   "source": [
    "This is probably one of the most insightful plots in this analysis.\n",
    "\n",
    "On weekdays, we can see the frequency of usage goes up around rush hours, which makes a lot of sense.\n",
    "On the other hand, weekends show a very balanced and gradually increasing and decreasing usage as people start to wake up, maybe go for a longer ride during the day and go home around the end of the afternoon."
   ]
  },
  {
   "cell_type": "code",
   "execution_count": 129,
   "metadata": {
    "scrolled": true
   },
   "outputs": [
    {
     "data": {
      "image/png": "[encoded data removed]",
      "text/plain": [
       "<Figure size 1058.4x595.44 with 1 Axes>"
      ]
     },
     "metadata": {
      "needs_background": "light"
     },
     "output_type": "display_data"
    }
   ],
   "source": [
    "# plot the trip duration by the type of the weekday based on user type\n",
    "plt.figure(figsize=[14.70, 8.27])\n",
    "ax = sb.barplot(data=df_all, x = 'usertype', y='tripduration', hue='type')\n",
    "plt.ylabel('Trip duration')\n",
    "plt.xlabel('Type of the User');\n",
    "plt.legend(title=\"User Type\", title_fontsize = 12);\n",
    "plt.title('Trip duration by Weekday/Weekend based on User Type', fontsize = 16);"
   ]
  },
  {
   "cell_type": "markdown",
   "metadata": {},
   "source": [
    "By the plot above we can conclude that \n",
    "1, Customers use the bikes for longer trips than Subscribers on both type of weekdays, but more on the weekends\n",
    "2, Subscribers also use the bikes for longer trips on weekends, but considerebly shorter rides than single ride customers"
   ]
  },
  {
   "cell_type": "code",
   "execution_count": null,
   "metadata": {},
   "outputs": [],
   "source": []
  },
  {
   "cell_type": "code",
   "execution_count": null,
   "metadata": {},
   "outputs": [],
   "source": []
  },
  {
   "cell_type": "code",
   "execution_count": null,
   "metadata": {},
   "outputs": [],
   "source": []
  }
 ],
 "metadata": {
  "kernelspec": {
   "display_name": "Python 3",
   "language": "python",
   "name": "python3"
  },
  "language_info": {
   "codemirror_mode": {
    "name": "ipython",
    "version": 3
   },
   "file_extension": ".py",
   "mimetype": "text/x-python",
   "name": "python",
   "nbconvert_exporter": "python",
   "pygments_lexer": "ipython3",
   "version": "3.8.5"
  }
 },
 "nbformat": 4,
 "nbformat_minor": 4
}
