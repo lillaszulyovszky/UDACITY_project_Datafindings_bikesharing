{
 "cells": [
  {
   "cell_type": "markdown",
   "metadata": {},
   "source": [
    "# Udacity Project - Bikesharing Dataset\n",
    "\n",
    "## Data Wrangling and Data Visualisation\n",
    "\n",
    "This data set includes information about individual rides made in a bike-sharing system covering the greater Boston area. \n",
    "\n",
    "Table of Contents\n",
    "- Data Wrangling\n",
    "- Explonatory Data Analysis\n",
    "- Explanatory Data Analysis"
   ]
  },
  {
   "source": [
    "# Data Wrangling\n"
   ],
   "cell_type": "markdown",
   "metadata": {}
  },
  {
   "cell_type": "code",
   "execution_count": 2,
   "metadata": {},
   "outputs": [],
   "source": [
    "# import libraries \n",
    "import numpy as np\n",
    "import pandas as pandas\n",
    "import matplotlib.pyplot as plt\n",
    "import seaborn as sb\n",
    "\n",
    "%matplotlib inline"
   ]
  },
  {
   "source": [
    "**Structure of the dataset**\n",
    "\n",
    "I have 12 csv's, for the 12 months of 2020. Ideally, I would like to see all 12 in one dataset, so it's easier to do explanatory analysis. \n",
    "Most of the months have 15 columns with a few having only 14. Need to make sure I'm not missing data so will reduce the ones with 15 rows to 14 before I merge them together. When I merge them, I will do it by quarters to help explore the data better. Different months have different amount of entries, but that's normal and I will not manipulate that.\n",
    "\n",
    "I will look at the datasets statistics, datatypes, missing and duplicated values as well as visually assess the datasets to see if there is any need for cleaning.\n",
    "\n",
    "\n",
    "**Insights to explore**\n",
    "\n",
    "- How long does the average trip takes?\n",
    "- Which are the most used start and end stations?\n",
    "- When are the most trips taken in terms of time of day, day of the week, or month of the year?\n",
    "- Does these depend on if a user is a subscriber or customer?\n",
    "\n",
    "**Features in the dataset the will help support the investigation?**\n",
    "\n",
    "Trip duration, Start time, End time, Start station, End Station, Usertype\n"
   ],
   "cell_type": "markdown",
   "metadata": {}
  },
  {
   "source": [
    "## Assessment"
   ],
   "cell_type": "markdown",
   "metadata": {}
  },
  {
   "cell_type": "code",
   "execution_count": 9,
   "metadata": {},
   "outputs": [
    {
     "output_type": "execute_result",
     "data": {
      "text/plain": [
       "   tripduration                 starttime                  stoptime  \\\n",
       "0           478  2020-01-01 00:04:05.8090  2020-01-01 00:12:04.2370   \n",
       "1           363  2020-01-01 00:04:45.6990  2020-01-01 00:10:49.0400   \n",
       "2           284  2020-01-01 00:06:07.0630  2020-01-01 00:10:51.9240   \n",
       "3           193  2020-01-01 00:06:13.8550  2020-01-01 00:09:27.8320   \n",
       "4           428  2020-01-01 00:07:25.2950  2020-01-01 00:14:33.7800   \n",
       "\n",
       "   start station id                           start station name  \\\n",
       "0               366                              Broadway T Stop   \n",
       "1               219                  Boston East - 126 Border St   \n",
       "2               219                  Boston East - 126 Border St   \n",
       "3               396                         Main St at Beacon St   \n",
       "4                60  Charles Circle - Charles St at Cambridge St   \n",
       "\n",
       "   start station latitude  start station longitude  end station id  \\\n",
       "0               42.342781               -71.057473              93   \n",
       "1               42.373312               -71.041020             212   \n",
       "2               42.373312               -71.041020             212   \n",
       "3               42.409330               -71.063819             387   \n",
       "4               42.360793               -71.071190              49   \n",
       "\n",
       "               end station name  end station latitude  end station longitude  \\\n",
       "0              JFK/UMass T Stop             42.320340             -71.051180   \n",
       "1  Maverick Square - Lewis Mall             42.368844             -71.039778   \n",
       "2  Maverick Square - Lewis Mall             42.368844             -71.039778   \n",
       "3        Norman St at Kelvin St             42.409859             -71.066319   \n",
       "4       Stuart St at Charles St             42.351146             -71.066289   \n",
       "\n",
       "   bikeid    usertype  birth year  gender  \n",
       "0    6005    Customer        1969       0  \n",
       "1    3168  Subscriber        2000       1  \n",
       "2    3985  Subscriber        2001       1  \n",
       "3    2692  Subscriber        1978       1  \n",
       "4    4978  Subscriber        1987       1  "
      ],
      "text/html": "<div>\n<style scoped>\n    .dataframe tbody tr th:only-of-type {\n        vertical-align: middle;\n    }\n\n    .dataframe tbody tr th {\n        vertical-align: top;\n    }\n\n    .dataframe thead th {\n        text-align: right;\n    }\n</style>\n<table border=\"1\" class=\"dataframe\">\n  <thead>\n    <tr style=\"text-align: right;\">\n      <th></th>\n      <th>tripduration</th>\n      <th>starttime</th>\n      <th>stoptime</th>\n      <th>start station id</th>\n      <th>start station name</th>\n      <th>start station latitude</th>\n      <th>start station longitude</th>\n      <th>end station id</th>\n      <th>end station name</th>\n      <th>end station latitude</th>\n      <th>end station longitude</th>\n      <th>bikeid</th>\n      <th>usertype</th>\n      <th>birth year</th>\n      <th>gender</th>\n    </tr>\n  </thead>\n  <tbody>\n    <tr>\n      <th>0</th>\n      <td>478</td>\n      <td>2020-01-01 00:04:05.8090</td>\n      <td>2020-01-01 00:12:04.2370</td>\n      <td>366</td>\n      <td>Broadway T Stop</td>\n      <td>42.342781</td>\n      <td>-71.057473</td>\n      <td>93</td>\n      <td>JFK/UMass T Stop</td>\n      <td>42.320340</td>\n      <td>-71.051180</td>\n      <td>6005</td>\n      <td>Customer</td>\n      <td>1969</td>\n      <td>0</td>\n    </tr>\n    <tr>\n      <th>1</th>\n      <td>363</td>\n      <td>2020-01-01 00:04:45.6990</td>\n      <td>2020-01-01 00:10:49.0400</td>\n      <td>219</td>\n      <td>Boston East - 126 Border St</td>\n      <td>42.373312</td>\n      <td>-71.041020</td>\n      <td>212</td>\n      <td>Maverick Square - Lewis Mall</td>\n      <td>42.368844</td>\n      <td>-71.039778</td>\n      <td>3168</td>\n      <td>Subscriber</td>\n      <td>2000</td>\n      <td>1</td>\n    </tr>\n    <tr>\n      <th>2</th>\n      <td>284</td>\n      <td>2020-01-01 00:06:07.0630</td>\n      <td>2020-01-01 00:10:51.9240</td>\n      <td>219</td>\n      <td>Boston East - 126 Border St</td>\n      <td>42.373312</td>\n      <td>-71.041020</td>\n      <td>212</td>\n      <td>Maverick Square - Lewis Mall</td>\n      <td>42.368844</td>\n      <td>-71.039778</td>\n      <td>3985</td>\n      <td>Subscriber</td>\n      <td>2001</td>\n      <td>1</td>\n    </tr>\n    <tr>\n      <th>3</th>\n      <td>193</td>\n      <td>2020-01-01 00:06:13.8550</td>\n      <td>2020-01-01 00:09:27.8320</td>\n      <td>396</td>\n      <td>Main St at Beacon St</td>\n      <td>42.409330</td>\n      <td>-71.063819</td>\n      <td>387</td>\n      <td>Norman St at Kelvin St</td>\n      <td>42.409859</td>\n      <td>-71.066319</td>\n      <td>2692</td>\n      <td>Subscriber</td>\n      <td>1978</td>\n      <td>1</td>\n    </tr>\n    <tr>\n      <th>4</th>\n      <td>428</td>\n      <td>2020-01-01 00:07:25.2950</td>\n      <td>2020-01-01 00:14:33.7800</td>\n      <td>60</td>\n      <td>Charles Circle - Charles St at Cambridge St</td>\n      <td>42.360793</td>\n      <td>-71.071190</td>\n      <td>49</td>\n      <td>Stuart St at Charles St</td>\n      <td>42.351146</td>\n      <td>-71.066289</td>\n      <td>4978</td>\n      <td>Subscriber</td>\n      <td>1987</td>\n      <td>1</td>\n    </tr>\n  </tbody>\n</table>\n</div>"
     },
     "metadata": {},
     "execution_count": 9
    }
   ],
   "source": [
    "# load in each month's dataset into a pandas dataframe\n",
    "df_01 = pandas.read_csv('202001-bluebikes-tripdata.csv')\n",
    "df_01.head()"
   ]
  },
  {
   "cell_type": "code",
   "execution_count": 10,
   "metadata": {},
   "outputs": [
    {
     "output_type": "execute_result",
     "data": {
      "text/plain": [
       "(128598, 15)"
      ]
     },
     "metadata": {},
     "execution_count": 10
    }
   ],
   "source": [
    "# assess shape\n",
    "df_01.shape"
   ]
  },
  {
   "cell_type": "code",
   "execution_count": 11,
   "metadata": {},
   "outputs": [
    {
     "output_type": "stream",
     "name": "stdout",
     "text": [
      "<class 'pandas.core.frame.DataFrame'>\nRangeIndex: 128598 entries, 0 to 128597\nData columns (total 15 columns):\n #   Column                   Non-Null Count   Dtype  \n---  ------                   --------------   -----  \n 0   tripduration             128598 non-null  int64  \n 1   starttime                128598 non-null  object \n 2   stoptime                 128598 non-null  object \n 3   start station id         128598 non-null  int64  \n 4   start station name       128598 non-null  object \n 5   start station latitude   128598 non-null  float64\n 6   start station longitude  128598 non-null  float64\n 7   end station id           128598 non-null  int64  \n 8   end station name         128598 non-null  object \n 9   end station latitude     128598 non-null  float64\n 10  end station longitude    128598 non-null  float64\n 11  bikeid                   128598 non-null  int64  \n 12  usertype                 128598 non-null  object \n 13  birth year               128598 non-null  int64  \n 14  gender                   128598 non-null  int64  \ndtypes: float64(4), int64(6), object(5)\nmemory usage: 14.7+ MB\n"
     ]
    }
   ],
   "source": [
    "# assess column names in each data set to see which column is missing\n",
    "df_01.info()"
   ]
  },
  {
   "cell_type": "code",
   "execution_count": 13,
   "metadata": {},
   "outputs": [
    {
     "output_type": "execute_result",
     "data": {
      "text/plain": [
       "(133235, 15)"
      ]
     },
     "metadata": {},
     "execution_count": 13
    }
   ],
   "source": [
    "df_02 = pandas.read_csv('202002-bluebikes-tripdata.csv')\n",
    "df_02.shape"
   ]
  },
  {
   "cell_type": "code",
   "execution_count": 16,
   "metadata": {},
   "outputs": [
    {
     "output_type": "stream",
     "name": "stdout",
     "text": [
      "<class 'pandas.core.frame.DataFrame'>\nRangeIndex: 133235 entries, 0 to 133234\nData columns (total 15 columns):\n #   Column                   Non-Null Count   Dtype  \n---  ------                   --------------   -----  \n 0   tripduration             133235 non-null  int64  \n 1   starttime                133235 non-null  object \n 2   stoptime                 133235 non-null  object \n 3   start station id         133235 non-null  int64  \n 4   start station name       133235 non-null  object \n 5   start station latitude   133235 non-null  float64\n 6   start station longitude  133235 non-null  float64\n 7   end station id           133235 non-null  int64  \n 8   end station name         133235 non-null  object \n 9   end station latitude     133235 non-null  float64\n 10  end station longitude    133235 non-null  float64\n 11  bikeid                   133235 non-null  int64  \n 12  usertype                 133235 non-null  object \n 13  birth year               133235 non-null  int64  \n 14  gender                   133235 non-null  int64  \ndtypes: float64(4), int64(6), object(5)\nmemory usage: 15.2+ MB\n"
     ]
    }
   ],
   "source": [
    "# assess column names in each data set to see which column is missing\n",
    "df_02.info()"
   ]
  },
  {
   "cell_type": "code",
   "execution_count": 18,
   "metadata": {},
   "outputs": [
    {
     "output_type": "execute_result",
     "data": {
      "text/plain": [
       "(107350, 15)"
      ]
     },
     "metadata": {},
     "execution_count": 18
    }
   ],
   "source": [
    "df_03 = pandas.read_csv('202003-bluebikes-tripdata.csv')\n",
    "df_03.shape"
   ]
  },
  {
   "cell_type": "code",
   "execution_count": 19,
   "metadata": {},
   "outputs": [
    {
     "output_type": "stream",
     "name": "stdout",
     "text": [
      "<class 'pandas.core.frame.DataFrame'>\nRangeIndex: 107350 entries, 0 to 107349\nData columns (total 15 columns):\n #   Column                   Non-Null Count   Dtype  \n---  ------                   --------------   -----  \n 0   tripduration             107350 non-null  int64  \n 1   starttime                107350 non-null  object \n 2   stoptime                 107350 non-null  object \n 3   start station id         107350 non-null  int64  \n 4   start station name       107350 non-null  object \n 5   start station latitude   107350 non-null  float64\n 6   start station longitude  107350 non-null  float64\n 7   end station id           107350 non-null  int64  \n 8   end station name         107350 non-null  object \n 9   end station latitude     107350 non-null  float64\n 10  end station longitude    107350 non-null  float64\n 11  bikeid                   107350 non-null  int64  \n 12  usertype                 107350 non-null  object \n 13  birth year               107350 non-null  int64  \n 14  gender                   107350 non-null  int64  \ndtypes: float64(4), int64(6), object(5)\nmemory usage: 12.3+ MB\n"
     ]
    }
   ],
   "source": [
    "# assess column names in each data set to see which column is missing\n",
    "df_03.info()"
   ]
  },
  {
   "cell_type": "code",
   "execution_count": 21,
   "metadata": {},
   "outputs": [
    {
     "output_type": "execute_result",
     "data": {
      "text/plain": [
       "(46793, 15)"
      ]
     },
     "metadata": {},
     "execution_count": 21
    }
   ],
   "source": [
    "df_04 = pandas.read_csv('202004-bluebikes-tripdata.csv')\n",
    "df_04.shape"
   ]
  },
  {
   "cell_type": "code",
   "execution_count": 22,
   "metadata": {},
   "outputs": [
    {
     "output_type": "stream",
     "name": "stdout",
     "text": [
      "<class 'pandas.core.frame.DataFrame'>\nRangeIndex: 46793 entries, 0 to 46792\nData columns (total 15 columns):\n #   Column                   Non-Null Count  Dtype  \n---  ------                   --------------  -----  \n 0   tripduration             46793 non-null  int64  \n 1   starttime                46793 non-null  object \n 2   stoptime                 46793 non-null  object \n 3   start station id         46793 non-null  int64  \n 4   start station name       46793 non-null  object \n 5   start station latitude   46793 non-null  float64\n 6   start station longitude  46793 non-null  float64\n 7   end station id           46793 non-null  int64  \n 8   end station name         46793 non-null  object \n 9   end station latitude     46793 non-null  float64\n 10  end station longitude    46793 non-null  float64\n 11  bikeid                   46793 non-null  int64  \n 12  usertype                 46793 non-null  object \n 13  birth year               46793 non-null  int64  \n 14  gender                   46793 non-null  int64  \ndtypes: float64(4), int64(6), object(5)\nmemory usage: 5.4+ MB\n"
     ]
    }
   ],
   "source": [
    "# assess column names in each data set to see which column is missing\n",
    "df_04.info()"
   ]
  },
  {
   "cell_type": "code",
   "execution_count": 32,
   "metadata": {},
   "outputs": [
    {
     "output_type": "execute_result",
     "data": {
      "text/plain": [
       "(124879, 14)"
      ]
     },
     "metadata": {},
     "execution_count": 32
    }
   ],
   "source": [
    "df_05 = pandas.read_csv('202005-bluebikes-tripdata.csv')\n",
    "df_05.shape"
   ]
  },
  {
   "cell_type": "code",
   "execution_count": 33,
   "metadata": {},
   "outputs": [
    {
     "output_type": "stream",
     "name": "stdout",
     "text": [
      "<class 'pandas.core.frame.DataFrame'>\nRangeIndex: 124879 entries, 0 to 124878\nData columns (total 14 columns):\n #   Column                   Non-Null Count   Dtype  \n---  ------                   --------------   -----  \n 0   tripduration             124879 non-null  int64  \n 1   starttime                124879 non-null  object \n 2   stoptime                 124879 non-null  object \n 3   start station id         124879 non-null  int64  \n 4   start station name       124879 non-null  object \n 5   start station latitude   124879 non-null  float64\n 6   start station longitude  124879 non-null  float64\n 7   end station id           124879 non-null  int64  \n 8   end station name         124879 non-null  object \n 9   end station latitude     124879 non-null  float64\n 10  end station longitude    124879 non-null  float64\n 11  bikeid                   124879 non-null  int64  \n 12  usertype                 124879 non-null  object \n 13  postal code              110498 non-null  object \ndtypes: float64(4), int64(4), object(6)\nmemory usage: 13.3+ MB\n"
     ]
    }
   ],
   "source": [
    "# assess column names in each data set to see which column is missing\n",
    "df_05.info()"
   ]
  },
  {
   "cell_type": "code",
   "execution_count": 34,
   "metadata": {},
   "outputs": [
    {
     "output_type": "execute_result",
     "data": {
      "text/plain": [
       "(191843, 14)"
      ]
     },
     "metadata": {},
     "execution_count": 34
    }
   ],
   "source": [
    "df_06 = pandas.read_csv('202006-bluebikes-tripdata.csv')\n",
    "df_06.shape"
   ]
  },
  {
   "cell_type": "code",
   "execution_count": 35,
   "metadata": {},
   "outputs": [
    {
     "output_type": "stream",
     "name": "stdout",
     "text": [
      "<class 'pandas.core.frame.DataFrame'>\nRangeIndex: 191843 entries, 0 to 191842\nData columns (total 14 columns):\n #   Column                   Non-Null Count   Dtype  \n---  ------                   --------------   -----  \n 0   tripduration             191843 non-null  int64  \n 1   starttime                191843 non-null  object \n 2   stoptime                 191843 non-null  object \n 3   start station id         191843 non-null  int64  \n 4   start station name       191843 non-null  object \n 5   start station latitude   191843 non-null  float64\n 6   start station longitude  191843 non-null  float64\n 7   end station id           191843 non-null  int64  \n 8   end station name         191843 non-null  object \n 9   end station latitude     191843 non-null  float64\n 10  end station longitude    191843 non-null  float64\n 11  bikeid                   191843 non-null  int64  \n 12  usertype                 191843 non-null  object \n 13  postal code              170883 non-null  object \ndtypes: float64(4), int64(4), object(6)\nmemory usage: 20.5+ MB\n"
     ]
    }
   ],
   "source": [
    "# assess column names in each data set to see which column is missing\n",
    "df_06.info()"
   ]
  },
  {
   "cell_type": "code",
   "execution_count": 36,
   "metadata": {},
   "outputs": [
    {
     "output_type": "execute_result",
     "data": {
      "text/plain": [
       "(259726, 14)"
      ]
     },
     "metadata": {},
     "execution_count": 36
    }
   ],
   "source": [
    "df_07 = pandas.read_csv('202007-bluebikes-tripdata.csv')\n",
    "df_07.shape"
   ]
  },
  {
   "cell_type": "code",
   "execution_count": 37,
   "metadata": {},
   "outputs": [
    {
     "output_type": "stream",
     "name": "stdout",
     "text": [
      "<class 'pandas.core.frame.DataFrame'>\nRangeIndex: 259726 entries, 0 to 259725\nData columns (total 14 columns):\n #   Column                   Non-Null Count   Dtype  \n---  ------                   --------------   -----  \n 0   tripduration             259726 non-null  int64  \n 1   starttime                259726 non-null  object \n 2   stoptime                 259726 non-null  object \n 3   start station id         259726 non-null  int64  \n 4   start station name       259726 non-null  object \n 5   start station latitude   259726 non-null  float64\n 6   start station longitude  259726 non-null  float64\n 7   end station id           259726 non-null  int64  \n 8   end station name         259726 non-null  object \n 9   end station latitude     259726 non-null  float64\n 10  end station longitude    259726 non-null  float64\n 11  bikeid                   259726 non-null  int64  \n 12  usertype                 259726 non-null  object \n 13  postal code              230479 non-null  object \ndtypes: float64(4), int64(4), object(6)\nmemory usage: 27.7+ MB\n"
     ]
    }
   ],
   "source": [
    "# assess column names in each data set to see which column is missing\n",
    "df_07.info()"
   ]
  },
  {
   "cell_type": "code",
   "execution_count": 38,
   "metadata": {},
   "outputs": [
    {
     "output_type": "execute_result",
     "data": {
      "text/plain": [
       "(289033, 14)"
      ]
     },
     "metadata": {},
     "execution_count": 38
    }
   ],
   "source": [
    "df_08 = pandas.read_csv('202008-bluebikes-tripdata.csv')\n",
    "df_08.shape"
   ]
  },
  {
   "cell_type": "code",
   "execution_count": 146,
   "metadata": {},
   "outputs": [
    {
     "output_type": "stream",
     "name": "stdout",
     "text": [
      "<class 'pandas.core.frame.DataFrame'>\nRangeIndex: 289033 entries, 0 to 289032\nData columns (total 14 columns):\n #   Column                   Non-Null Count   Dtype  \n---  ------                   --------------   -----  \n 0   tripduration             289033 non-null  int64  \n 1   starttime                289033 non-null  object \n 2   stoptime                 289033 non-null  object \n 3   start station id         289033 non-null  int64  \n 4   start station name       289033 non-null  object \n 5   start station latitude   289033 non-null  float64\n 6   start station longitude  289033 non-null  float64\n 7   end station id           289033 non-null  int64  \n 8   end station name         289033 non-null  object \n 9   end station latitude     289033 non-null  float64\n 10  end station longitude    289033 non-null  float64\n 11  bikeid                   289033 non-null  int64  \n 12  usertype                 289033 non-null  object \n 13  postal code              264273 non-null  object \ndtypes: float64(4), int64(4), object(6)\nmemory usage: 30.9+ MB\n"
     ]
    }
   ],
   "source": [
    "# assess column names in each data set to see which column is missing\n",
    "df_08.info()"
   ]
  },
  {
   "cell_type": "code",
   "execution_count": 39,
   "metadata": {},
   "outputs": [
    {
     "output_type": "execute_result",
     "data": {
      "text/plain": [
       "(307853, 14)"
      ]
     },
     "metadata": {},
     "execution_count": 39
    }
   ],
   "source": [
    "df_09 = pandas.read_csv('202009-bluebikes-tripdata.csv')\n",
    "df_09.shape"
   ]
  },
  {
   "cell_type": "code",
   "execution_count": 40,
   "metadata": {},
   "outputs": [
    {
     "output_type": "stream",
     "name": "stdout",
     "text": [
      "<class 'pandas.core.frame.DataFrame'>\nRangeIndex: 307853 entries, 0 to 307852\nData columns (total 14 columns):\n #   Column                   Non-Null Count   Dtype  \n---  ------                   --------------   -----  \n 0   tripduration             307853 non-null  int64  \n 1   starttime                307853 non-null  object \n 2   stoptime                 307853 non-null  object \n 3   start station id         307853 non-null  int64  \n 4   start station name       307853 non-null  object \n 5   start station latitude   307853 non-null  float64\n 6   start station longitude  307853 non-null  float64\n 7   end station id           307853 non-null  int64  \n 8   end station name         307853 non-null  object \n 9   end station latitude     307853 non-null  float64\n 10  end station longitude    307853 non-null  float64\n 11  bikeid                   307853 non-null  int64  \n 12  usertype                 307853 non-null  object \n 13  postal code              284701 non-null  object \ndtypes: float64(4), int64(4), object(6)\nmemory usage: 32.9+ MB\n"
     ]
    }
   ],
   "source": [
    "# assess column names in each data set to see which column is missing\n",
    "df_09.info()"
   ]
  },
  {
   "cell_type": "code",
   "execution_count": 42,
   "metadata": {},
   "outputs": [
    {
     "output_type": "execute_result",
     "data": {
      "text/plain": [
       "(248424, 14)"
      ]
     },
     "metadata": {},
     "execution_count": 42
    }
   ],
   "source": [
    "df_10 = pandas.read_csv('202010-bluebikes-tripdata.csv')\n",
    "df_10.shape"
   ]
  },
  {
   "cell_type": "code",
   "execution_count": 43,
   "metadata": {},
   "outputs": [
    {
     "output_type": "stream",
     "name": "stdout",
     "text": [
      "<class 'pandas.core.frame.DataFrame'>\nRangeIndex: 248424 entries, 0 to 248423\nData columns (total 14 columns):\n #   Column                   Non-Null Count   Dtype  \n---  ------                   --------------   -----  \n 0   tripduration             248424 non-null  int64  \n 1   starttime                248424 non-null  object \n 2   stoptime                 248424 non-null  object \n 3   start station id         248424 non-null  int64  \n 4   start station name       248424 non-null  object \n 5   start station latitude   248424 non-null  float64\n 6   start station longitude  248424 non-null  float64\n 7   end station id           248424 non-null  int64  \n 8   end station name         248424 non-null  object \n 9   end station latitude     248424 non-null  float64\n 10  end station longitude    248424 non-null  float64\n 11  bikeid                   248424 non-null  int64  \n 12  usertype                 248424 non-null  object \n 13  postal code              230070 non-null  object \ndtypes: float64(4), int64(4), object(6)\nmemory usage: 26.5+ MB\n"
     ]
    }
   ],
   "source": [
    "# assess column names in each data set to see which column is missing\n",
    "df_10.info()"
   ]
  },
  {
   "cell_type": "code",
   "execution_count": 45,
   "metadata": {},
   "outputs": [
    {
     "output_type": "execute_result",
     "data": {
      "text/plain": [
       "(161712, 14)"
      ]
     },
     "metadata": {},
     "execution_count": 45
    }
   ],
   "source": [
    "df_11 = pandas.read_csv('202011-bluebikes-tripdata.csv')\n",
    "df_11.shape"
   ]
  },
  {
   "cell_type": "code",
   "execution_count": 46,
   "metadata": {},
   "outputs": [
    {
     "output_type": "stream",
     "name": "stdout",
     "text": [
      "<class 'pandas.core.frame.DataFrame'>\nRangeIndex: 161712 entries, 0 to 161711\nData columns (total 14 columns):\n #   Column                   Non-Null Count   Dtype  \n---  ------                   --------------   -----  \n 0   tripduration             161712 non-null  int64  \n 1   starttime                161712 non-null  object \n 2   stoptime                 161712 non-null  object \n 3   start station id         161712 non-null  int64  \n 4   start station name       161712 non-null  object \n 5   start station latitude   161712 non-null  float64\n 6   start station longitude  161712 non-null  float64\n 7   end station id           161712 non-null  int64  \n 8   end station name         161712 non-null  object \n 9   end station latitude     161712 non-null  float64\n 10  end station longitude    161712 non-null  float64\n 11  bikeid                   161712 non-null  int64  \n 12  usertype                 161712 non-null  object \n 13  postal code              151233 non-null  object \ndtypes: float64(4), int64(4), object(6)\nmemory usage: 17.3+ MB\n"
     ]
    }
   ],
   "source": [
    "# assess column names in each data set to see which column is missing\n",
    "df_11.info()"
   ]
  },
  {
   "cell_type": "code",
   "execution_count": 47,
   "metadata": {},
   "outputs": [
    {
     "output_type": "execute_result",
     "data": {
      "text/plain": [
       "(74002, 14)"
      ]
     },
     "metadata": {},
     "execution_count": 47
    }
   ],
   "source": [
    "df_12 = pandas.read_csv('202012-bluebikes-tripdata.csv')\n",
    "df_12.shape"
   ]
  },
  {
   "cell_type": "code",
   "execution_count": 48,
   "metadata": {},
   "outputs": [
    {
     "output_type": "stream",
     "name": "stdout",
     "text": [
      "<class 'pandas.core.frame.DataFrame'>\nRangeIndex: 74002 entries, 0 to 74001\nData columns (total 14 columns):\n #   Column                   Non-Null Count  Dtype  \n---  ------                   --------------  -----  \n 0   tripduration             74002 non-null  int64  \n 1   starttime                74002 non-null  object \n 2   stoptime                 74002 non-null  object \n 3   start station id         74002 non-null  int64  \n 4   start station name       74002 non-null  object \n 5   start station latitude   74002 non-null  float64\n 6   start station longitude  74002 non-null  float64\n 7   end station id           74002 non-null  int64  \n 8   end station name         74002 non-null  object \n 9   end station latitude     74002 non-null  float64\n 10  end station longitude    74002 non-null  float64\n 11  bikeid                   74002 non-null  int64  \n 12  usertype                 74002 non-null  object \n 13  postal code              71109 non-null  object \ndtypes: float64(4), int64(4), object(6)\nmemory usage: 7.9+ MB\n"
     ]
    }
   ],
   "source": [
    "# assess column names in each data set to see which column is missing\n",
    "df_12.info()"
   ]
  },
  {
   "source": [
    "### Summary of Assessment\n",
    "\n",
    "### Quality Issues\n",
    "*All datasets*\n",
    "- `starttime` and `stopttime` column is in object format, it should be datetime\n",
    "\n",
    "### Tidiness Issues\n",
    "\n",
    "- merge datasets (concat)\n",
    "- remove birthyear, postcalcode and gender columns as it only has partial month's data coverage, not the full year\n",
    "\n",
    "I have to state here, that I haven't gone through all the assessment like checking for missing values, etc. I would like to do that after merging the datasets together as it will be a lot easier like that so I assume that there will be a Cleaning Part 2 upon succeeding to merge the datasets together.\n",
    "\n"
   ],
   "cell_type": "markdown",
   "metadata": {}
  },
  {
   "source": [
    "## Cleaning dataset"
   ],
   "cell_type": "markdown",
   "metadata": {}
  },
  {
   "source": [
    "### Define \n",
    "- merge datasets (concat)\n",
    "\n",
    "Action: find best method to merge datasets"
   ],
   "cell_type": "markdown",
   "metadata": {}
  },
  {
   "source": [
    "### Code"
   ],
   "cell_type": "markdown",
   "metadata": {}
  },
  {
   "cell_type": "code",
   "execution_count": 49,
   "metadata": {},
   "outputs": [],
   "source": [
    "# make a copy of all datasets to be sure I can revert if things go wrong\n",
    "df_01_copy = df_01.copy()\n",
    "df_02_copy = df_02.copy()\n",
    "df_03_copy = df_03.copy()\n",
    "df_04_copy = df_04.copy()\n",
    "df_05_copy = df_05.copy()\n",
    "df_06_copy = df_06.copy()\n",
    "df_07_copy = df_07.copy()\n",
    "df_08_copy = df_08.copy()\n",
    "df_09_copy = df_09.copy()\n",
    "df_10_copy = df_10.copy()\n",
    "df_11_copy = df_11.copy()\n",
    "df_12_copy = df_12.copy()"
   ]
  },
  {
   "source": [
    "Check each copied datasets shape so I can see if I got all the data after merging"
   ],
   "cell_type": "markdown",
   "metadata": {}
  },
  {
   "cell_type": "code",
   "execution_count": 50,
   "metadata": {},
   "outputs": [
    {
     "output_type": "execute_result",
     "data": {
      "text/plain": [
       "(128598, 15)"
      ]
     },
     "metadata": {},
     "execution_count": 50
    }
   ],
   "source": [
    "df_01_copy.shape"
   ]
  },
  {
   "cell_type": "code",
   "execution_count": 51,
   "metadata": {},
   "outputs": [
    {
     "output_type": "execute_result",
     "data": {
      "text/plain": [
       "(133235, 15)"
      ]
     },
     "metadata": {},
     "execution_count": 51
    }
   ],
   "source": [
    "df_02_copy.shape"
   ]
  },
  {
   "cell_type": "code",
   "execution_count": 52,
   "metadata": {},
   "outputs": [
    {
     "output_type": "execute_result",
     "data": {
      "text/plain": [
       "(107350, 15)"
      ]
     },
     "metadata": {},
     "execution_count": 52
    }
   ],
   "source": [
    "df_03_copy.shape"
   ]
  },
  {
   "cell_type": "code",
   "execution_count": 53,
   "metadata": {},
   "outputs": [
    {
     "output_type": "execute_result",
     "data": {
      "text/plain": [
       "(46793, 15)"
      ]
     },
     "metadata": {},
     "execution_count": 53
    }
   ],
   "source": [
    "df_04_copy.shape"
   ]
  },
  {
   "cell_type": "code",
   "execution_count": 54,
   "metadata": {},
   "outputs": [
    {
     "output_type": "execute_result",
     "data": {
      "text/plain": [
       "(124879, 14)"
      ]
     },
     "metadata": {},
     "execution_count": 54
    }
   ],
   "source": [
    "df_05_copy.shape"
   ]
  },
  {
   "cell_type": "code",
   "execution_count": 55,
   "metadata": {},
   "outputs": [
    {
     "output_type": "execute_result",
     "data": {
      "text/plain": [
       "(191843, 14)"
      ]
     },
     "metadata": {},
     "execution_count": 55
    }
   ],
   "source": [
    "df_06_copy.shape"
   ]
  },
  {
   "cell_type": "code",
   "execution_count": 56,
   "metadata": {},
   "outputs": [
    {
     "output_type": "execute_result",
     "data": {
      "text/plain": [
       "(259726, 14)"
      ]
     },
     "metadata": {},
     "execution_count": 56
    }
   ],
   "source": [
    "df_07_copy.shape"
   ]
  },
  {
   "cell_type": "code",
   "execution_count": 57,
   "metadata": {},
   "outputs": [
    {
     "output_type": "execute_result",
     "data": {
      "text/plain": [
       "(289033, 14)"
      ]
     },
     "metadata": {},
     "execution_count": 57
    }
   ],
   "source": [
    "df_08_copy.shape"
   ]
  },
  {
   "cell_type": "code",
   "execution_count": 58,
   "metadata": {},
   "outputs": [
    {
     "output_type": "execute_result",
     "data": {
      "text/plain": [
       "(307853, 14)"
      ]
     },
     "metadata": {},
     "execution_count": 58
    }
   ],
   "source": [
    "df_09_copy.shape"
   ]
  },
  {
   "cell_type": "code",
   "execution_count": 59,
   "metadata": {},
   "outputs": [
    {
     "output_type": "execute_result",
     "data": {
      "text/plain": [
       "(248424, 14)"
      ]
     },
     "metadata": {},
     "execution_count": 59
    }
   ],
   "source": [
    "df_10_copy.shape"
   ]
  },
  {
   "cell_type": "code",
   "execution_count": 60,
   "metadata": {},
   "outputs": [
    {
     "output_type": "execute_result",
     "data": {
      "text/plain": [
       "(161712, 14)"
      ]
     },
     "metadata": {},
     "execution_count": 60
    }
   ],
   "source": [
    "df_11_copy.shape"
   ]
  },
  {
   "cell_type": "code",
   "execution_count": 61,
   "metadata": {},
   "outputs": [
    {
     "output_type": "execute_result",
     "data": {
      "text/plain": [
       "(74002, 14)"
      ]
     },
     "metadata": {},
     "execution_count": 61
    }
   ],
   "source": [
    "df_12_copy.shape"
   ]
  },
  {
   "source": [
    "Check if copies have the right columns"
   ],
   "cell_type": "markdown",
   "metadata": {}
  },
  {
   "cell_type": "code",
   "execution_count": 62,
   "metadata": {},
   "outputs": [
    {
     "output_type": "execute_result",
     "data": {
      "text/plain": [
       "   tripduration                 starttime                  stoptime  \\\n",
       "0           478  2020-01-01 00:04:05.8090  2020-01-01 00:12:04.2370   \n",
       "1           363  2020-01-01 00:04:45.6990  2020-01-01 00:10:49.0400   \n",
       "2           284  2020-01-01 00:06:07.0630  2020-01-01 00:10:51.9240   \n",
       "3           193  2020-01-01 00:06:13.8550  2020-01-01 00:09:27.8320   \n",
       "4           428  2020-01-01 00:07:25.2950  2020-01-01 00:14:33.7800   \n",
       "\n",
       "   start station id                           start station name  \\\n",
       "0               366                              Broadway T Stop   \n",
       "1               219                  Boston East - 126 Border St   \n",
       "2               219                  Boston East - 126 Border St   \n",
       "3               396                         Main St at Beacon St   \n",
       "4                60  Charles Circle - Charles St at Cambridge St   \n",
       "\n",
       "   start station latitude  start station longitude  end station id  \\\n",
       "0               42.342781               -71.057473              93   \n",
       "1               42.373312               -71.041020             212   \n",
       "2               42.373312               -71.041020             212   \n",
       "3               42.409330               -71.063819             387   \n",
       "4               42.360793               -71.071190              49   \n",
       "\n",
       "               end station name  end station latitude  end station longitude  \\\n",
       "0              JFK/UMass T Stop             42.320340             -71.051180   \n",
       "1  Maverick Square - Lewis Mall             42.368844             -71.039778   \n",
       "2  Maverick Square - Lewis Mall             42.368844             -71.039778   \n",
       "3        Norman St at Kelvin St             42.409859             -71.066319   \n",
       "4       Stuart St at Charles St             42.351146             -71.066289   \n",
       "\n",
       "   bikeid    usertype  birth year  gender  \n",
       "0    6005    Customer        1969       0  \n",
       "1    3168  Subscriber        2000       1  \n",
       "2    3985  Subscriber        2001       1  \n",
       "3    2692  Subscriber        1978       1  \n",
       "4    4978  Subscriber        1987       1  "
      ],
      "text/html": "<div>\n<style scoped>\n    .dataframe tbody tr th:only-of-type {\n        vertical-align: middle;\n    }\n\n    .dataframe tbody tr th {\n        vertical-align: top;\n    }\n\n    .dataframe thead th {\n        text-align: right;\n    }\n</style>\n<table border=\"1\" class=\"dataframe\">\n  <thead>\n    <tr style=\"text-align: right;\">\n      <th></th>\n      <th>tripduration</th>\n      <th>starttime</th>\n      <th>stoptime</th>\n      <th>start station id</th>\n      <th>start station name</th>\n      <th>start station latitude</th>\n      <th>start station longitude</th>\n      <th>end station id</th>\n      <th>end station name</th>\n      <th>end station latitude</th>\n      <th>end station longitude</th>\n      <th>bikeid</th>\n      <th>usertype</th>\n      <th>birth year</th>\n      <th>gender</th>\n    </tr>\n  </thead>\n  <tbody>\n    <tr>\n      <th>0</th>\n      <td>478</td>\n      <td>2020-01-01 00:04:05.8090</td>\n      <td>2020-01-01 00:12:04.2370</td>\n      <td>366</td>\n      <td>Broadway T Stop</td>\n      <td>42.342781</td>\n      <td>-71.057473</td>\n      <td>93</td>\n      <td>JFK/UMass T Stop</td>\n      <td>42.320340</td>\n      <td>-71.051180</td>\n      <td>6005</td>\n      <td>Customer</td>\n      <td>1969</td>\n      <td>0</td>\n    </tr>\n    <tr>\n      <th>1</th>\n      <td>363</td>\n      <td>2020-01-01 00:04:45.6990</td>\n      <td>2020-01-01 00:10:49.0400</td>\n      <td>219</td>\n      <td>Boston East - 126 Border St</td>\n      <td>42.373312</td>\n      <td>-71.041020</td>\n      <td>212</td>\n      <td>Maverick Square - Lewis Mall</td>\n      <td>42.368844</td>\n      <td>-71.039778</td>\n      <td>3168</td>\n      <td>Subscriber</td>\n      <td>2000</td>\n      <td>1</td>\n    </tr>\n    <tr>\n      <th>2</th>\n      <td>284</td>\n      <td>2020-01-01 00:06:07.0630</td>\n      <td>2020-01-01 00:10:51.9240</td>\n      <td>219</td>\n      <td>Boston East - 126 Border St</td>\n      <td>42.373312</td>\n      <td>-71.041020</td>\n      <td>212</td>\n      <td>Maverick Square - Lewis Mall</td>\n      <td>42.368844</td>\n      <td>-71.039778</td>\n      <td>3985</td>\n      <td>Subscriber</td>\n      <td>2001</td>\n      <td>1</td>\n    </tr>\n    <tr>\n      <th>3</th>\n      <td>193</td>\n      <td>2020-01-01 00:06:13.8550</td>\n      <td>2020-01-01 00:09:27.8320</td>\n      <td>396</td>\n      <td>Main St at Beacon St</td>\n      <td>42.409330</td>\n      <td>-71.063819</td>\n      <td>387</td>\n      <td>Norman St at Kelvin St</td>\n      <td>42.409859</td>\n      <td>-71.066319</td>\n      <td>2692</td>\n      <td>Subscriber</td>\n      <td>1978</td>\n      <td>1</td>\n    </tr>\n    <tr>\n      <th>4</th>\n      <td>428</td>\n      <td>2020-01-01 00:07:25.2950</td>\n      <td>2020-01-01 00:14:33.7800</td>\n      <td>60</td>\n      <td>Charles Circle - Charles St at Cambridge St</td>\n      <td>42.360793</td>\n      <td>-71.071190</td>\n      <td>49</td>\n      <td>Stuart St at Charles St</td>\n      <td>42.351146</td>\n      <td>-71.066289</td>\n      <td>4978</td>\n      <td>Subscriber</td>\n      <td>1987</td>\n      <td>1</td>\n    </tr>\n  </tbody>\n</table>\n</div>"
     },
     "metadata": {},
     "execution_count": 62
    }
   ],
   "source": [
    "df_01_copy.head()"
   ]
  },
  {
   "cell_type": "code",
   "execution_count": 63,
   "metadata": {},
   "outputs": [
    {
     "output_type": "execute_result",
     "data": {
      "text/plain": [
       "   tripduration                 starttime                  stoptime  \\\n",
       "0          1160  2020-06-01 00:00:25.6240  2020-06-01 00:19:45.7010   \n",
       "1          1419  2020-06-01 00:01:09.3800  2020-06-01 00:24:48.9520   \n",
       "2          1093  2020-06-01 00:01:29.4790  2020-06-01 00:19:43.3530   \n",
       "3          1067  2020-06-01 00:01:35.8540  2020-06-01 00:19:23.3250   \n",
       "4          1391  2020-06-01 00:01:51.0390  2020-06-01 00:25:02.8460   \n",
       "\n",
       "   start station id                   start station name  \\\n",
       "0               192              Purchase St at Pearl St   \n",
       "1               355  Bennington St at Constitution Beach   \n",
       "2               131                Jackson Square T Stop   \n",
       "3               131                Jackson Square T Stop   \n",
       "4               355  Bennington St at Constitution Beach   \n",
       "\n",
       "   start station latitude  start station longitude  end station id  \\\n",
       "0               42.354659               -71.053181             366   \n",
       "1               42.385224               -71.010631             355   \n",
       "2               42.322931               -71.100141             331   \n",
       "3               42.322931               -71.100141             331   \n",
       "4               42.385224               -71.010631             355   \n",
       "\n",
       "                      end station name  end station latitude  \\\n",
       "0                      Broadway T Stop             42.342781   \n",
       "1  Bennington St at Constitution Beach             42.385224   \n",
       "2           Huntington Ave at Mass Art             42.336586   \n",
       "3           Huntington Ave at Mass Art             42.336586   \n",
       "4  Bennington St at Constitution Beach             42.385224   \n",
       "\n",
       "   end station longitude  bikeid    usertype postal code  \n",
       "0             -71.057473    2831    Customer         NaN  \n",
       "1             -71.010631    5696    Customer       02128  \n",
       "2             -71.098870    3922  Subscriber       10570  \n",
       "3             -71.098870    3361  Subscriber       10570  \n",
       "4             -71.010631    3621    Customer       01902  "
      ],
      "text/html": "<div>\n<style scoped>\n    .dataframe tbody tr th:only-of-type {\n        vertical-align: middle;\n    }\n\n    .dataframe tbody tr th {\n        vertical-align: top;\n    }\n\n    .dataframe thead th {\n        text-align: right;\n    }\n</style>\n<table border=\"1\" class=\"dataframe\">\n  <thead>\n    <tr style=\"text-align: right;\">\n      <th></th>\n      <th>tripduration</th>\n      <th>starttime</th>\n      <th>stoptime</th>\n      <th>start station id</th>\n      <th>start station name</th>\n      <th>start station latitude</th>\n      <th>start station longitude</th>\n      <th>end station id</th>\n      <th>end station name</th>\n      <th>end station latitude</th>\n      <th>end station longitude</th>\n      <th>bikeid</th>\n      <th>usertype</th>\n      <th>postal code</th>\n    </tr>\n  </thead>\n  <tbody>\n    <tr>\n      <th>0</th>\n      <td>1160</td>\n      <td>2020-06-01 00:00:25.6240</td>\n      <td>2020-06-01 00:19:45.7010</td>\n      <td>192</td>\n      <td>Purchase St at Pearl St</td>\n      <td>42.354659</td>\n      <td>-71.053181</td>\n      <td>366</td>\n      <td>Broadway T Stop</td>\n      <td>42.342781</td>\n      <td>-71.057473</td>\n      <td>2831</td>\n      <td>Customer</td>\n      <td>NaN</td>\n    </tr>\n    <tr>\n      <th>1</th>\n      <td>1419</td>\n      <td>2020-06-01 00:01:09.3800</td>\n      <td>2020-06-01 00:24:48.9520</td>\n      <td>355</td>\n      <td>Bennington St at Constitution Beach</td>\n      <td>42.385224</td>\n      <td>-71.010631</td>\n      <td>355</td>\n      <td>Bennington St at Constitution Beach</td>\n      <td>42.385224</td>\n      <td>-71.010631</td>\n      <td>5696</td>\n      <td>Customer</td>\n      <td>02128</td>\n    </tr>\n    <tr>\n      <th>2</th>\n      <td>1093</td>\n      <td>2020-06-01 00:01:29.4790</td>\n      <td>2020-06-01 00:19:43.3530</td>\n      <td>131</td>\n      <td>Jackson Square T Stop</td>\n      <td>42.322931</td>\n      <td>-71.100141</td>\n      <td>331</td>\n      <td>Huntington Ave at Mass Art</td>\n      <td>42.336586</td>\n      <td>-71.098870</td>\n      <td>3922</td>\n      <td>Subscriber</td>\n      <td>10570</td>\n    </tr>\n    <tr>\n      <th>3</th>\n      <td>1067</td>\n      <td>2020-06-01 00:01:35.8540</td>\n      <td>2020-06-01 00:19:23.3250</td>\n      <td>131</td>\n      <td>Jackson Square T Stop</td>\n      <td>42.322931</td>\n      <td>-71.100141</td>\n      <td>331</td>\n      <td>Huntington Ave at Mass Art</td>\n      <td>42.336586</td>\n      <td>-71.098870</td>\n      <td>3361</td>\n      <td>Subscriber</td>\n      <td>10570</td>\n    </tr>\n    <tr>\n      <th>4</th>\n      <td>1391</td>\n      <td>2020-06-01 00:01:51.0390</td>\n      <td>2020-06-01 00:25:02.8460</td>\n      <td>355</td>\n      <td>Bennington St at Constitution Beach</td>\n      <td>42.385224</td>\n      <td>-71.010631</td>\n      <td>355</td>\n      <td>Bennington St at Constitution Beach</td>\n      <td>42.385224</td>\n      <td>-71.010631</td>\n      <td>3621</td>\n      <td>Customer</td>\n      <td>01902</td>\n    </tr>\n  </tbody>\n</table>\n</div>"
     },
     "metadata": {},
     "execution_count": 63
    }
   ],
   "source": [
    "df_06_copy.head()"
   ]
  },
  {
   "cell_type": "code",
   "execution_count": 64,
   "metadata": {},
   "outputs": [],
   "source": [
    "# concat the data sets\n",
    "df_concatenated_columns_all = pandas.concat([df_01_copy, df_02_copy, df_03_copy, df_04_copy, df_05_copy, df_06_copy, df_07_copy, df_08_copy, df_09_copy, df_10_copy, df_11_copy, df_12_copy,])\n"
   ]
  },
  {
   "source": [
    "### Test"
   ],
   "cell_type": "markdown",
   "metadata": {}
  },
  {
   "cell_type": "code",
   "execution_count": 65,
   "metadata": {},
   "outputs": [
    {
     "output_type": "execute_result",
     "data": {
      "text/plain": [
       "   tripduration                 starttime                  stoptime  \\\n",
       "0           478  2020-01-01 00:04:05.8090  2020-01-01 00:12:04.2370   \n",
       "1           363  2020-01-01 00:04:45.6990  2020-01-01 00:10:49.0400   \n",
       "2           284  2020-01-01 00:06:07.0630  2020-01-01 00:10:51.9240   \n",
       "3           193  2020-01-01 00:06:13.8550  2020-01-01 00:09:27.8320   \n",
       "4           428  2020-01-01 00:07:25.2950  2020-01-01 00:14:33.7800   \n",
       "\n",
       "   start station id                           start station name  \\\n",
       "0               366                              Broadway T Stop   \n",
       "1               219                  Boston East - 126 Border St   \n",
       "2               219                  Boston East - 126 Border St   \n",
       "3               396                         Main St at Beacon St   \n",
       "4                60  Charles Circle - Charles St at Cambridge St   \n",
       "\n",
       "   start station latitude  start station longitude  end station id  \\\n",
       "0               42.342781               -71.057473              93   \n",
       "1               42.373312               -71.041020             212   \n",
       "2               42.373312               -71.041020             212   \n",
       "3               42.409330               -71.063819             387   \n",
       "4               42.360793               -71.071190              49   \n",
       "\n",
       "               end station name  end station latitude  end station longitude  \\\n",
       "0              JFK/UMass T Stop             42.320340             -71.051180   \n",
       "1  Maverick Square - Lewis Mall             42.368844             -71.039778   \n",
       "2  Maverick Square - Lewis Mall             42.368844             -71.039778   \n",
       "3        Norman St at Kelvin St             42.409859             -71.066319   \n",
       "4       Stuart St at Charles St             42.351146             -71.066289   \n",
       "\n",
       "   bikeid    usertype  birth year  gender postal code  \n",
       "0    6005    Customer      1969.0     0.0         NaN  \n",
       "1    3168  Subscriber      2000.0     1.0         NaN  \n",
       "2    3985  Subscriber      2001.0     1.0         NaN  \n",
       "3    2692  Subscriber      1978.0     1.0         NaN  \n",
       "4    4978  Subscriber      1987.0     1.0         NaN  "
      ],
      "text/html": "<div>\n<style scoped>\n    .dataframe tbody tr th:only-of-type {\n        vertical-align: middle;\n    }\n\n    .dataframe tbody tr th {\n        vertical-align: top;\n    }\n\n    .dataframe thead th {\n        text-align: right;\n    }\n</style>\n<table border=\"1\" class=\"dataframe\">\n  <thead>\n    <tr style=\"text-align: right;\">\n      <th></th>\n      <th>tripduration</th>\n      <th>starttime</th>\n      <th>stoptime</th>\n      <th>start station id</th>\n      <th>start station name</th>\n      <th>start station latitude</th>\n      <th>start station longitude</th>\n      <th>end station id</th>\n      <th>end station name</th>\n      <th>end station latitude</th>\n      <th>end station longitude</th>\n      <th>bikeid</th>\n      <th>usertype</th>\n      <th>birth year</th>\n      <th>gender</th>\n      <th>postal code</th>\n    </tr>\n  </thead>\n  <tbody>\n    <tr>\n      <th>0</th>\n      <td>478</td>\n      <td>2020-01-01 00:04:05.8090</td>\n      <td>2020-01-01 00:12:04.2370</td>\n      <td>366</td>\n      <td>Broadway T Stop</td>\n      <td>42.342781</td>\n      <td>-71.057473</td>\n      <td>93</td>\n      <td>JFK/UMass T Stop</td>\n      <td>42.320340</td>\n      <td>-71.051180</td>\n      <td>6005</td>\n      <td>Customer</td>\n      <td>1969.0</td>\n      <td>0.0</td>\n      <td>NaN</td>\n    </tr>\n    <tr>\n      <th>1</th>\n      <td>363</td>\n      <td>2020-01-01 00:04:45.6990</td>\n      <td>2020-01-01 00:10:49.0400</td>\n      <td>219</td>\n      <td>Boston East - 126 Border St</td>\n      <td>42.373312</td>\n      <td>-71.041020</td>\n      <td>212</td>\n      <td>Maverick Square - Lewis Mall</td>\n      <td>42.368844</td>\n      <td>-71.039778</td>\n      <td>3168</td>\n      <td>Subscriber</td>\n      <td>2000.0</td>\n      <td>1.0</td>\n      <td>NaN</td>\n    </tr>\n    <tr>\n      <th>2</th>\n      <td>284</td>\n      <td>2020-01-01 00:06:07.0630</td>\n      <td>2020-01-01 00:10:51.9240</td>\n      <td>219</td>\n      <td>Boston East - 126 Border St</td>\n      <td>42.373312</td>\n      <td>-71.041020</td>\n      <td>212</td>\n      <td>Maverick Square - Lewis Mall</td>\n      <td>42.368844</td>\n      <td>-71.039778</td>\n      <td>3985</td>\n      <td>Subscriber</td>\n      <td>2001.0</td>\n      <td>1.0</td>\n      <td>NaN</td>\n    </tr>\n    <tr>\n      <th>3</th>\n      <td>193</td>\n      <td>2020-01-01 00:06:13.8550</td>\n      <td>2020-01-01 00:09:27.8320</td>\n      <td>396</td>\n      <td>Main St at Beacon St</td>\n      <td>42.409330</td>\n      <td>-71.063819</td>\n      <td>387</td>\n      <td>Norman St at Kelvin St</td>\n      <td>42.409859</td>\n      <td>-71.066319</td>\n      <td>2692</td>\n      <td>Subscriber</td>\n      <td>1978.0</td>\n      <td>1.0</td>\n      <td>NaN</td>\n    </tr>\n    <tr>\n      <th>4</th>\n      <td>428</td>\n      <td>2020-01-01 00:07:25.2950</td>\n      <td>2020-01-01 00:14:33.7800</td>\n      <td>60</td>\n      <td>Charles Circle - Charles St at Cambridge St</td>\n      <td>42.360793</td>\n      <td>-71.071190</td>\n      <td>49</td>\n      <td>Stuart St at Charles St</td>\n      <td>42.351146</td>\n      <td>-71.066289</td>\n      <td>4978</td>\n      <td>Subscriber</td>\n      <td>1987.0</td>\n      <td>1.0</td>\n      <td>NaN</td>\n    </tr>\n  </tbody>\n</table>\n</div>"
     },
     "metadata": {},
     "execution_count": 65
    }
   ],
   "source": [
    "df_concatenated_columns_all.head()"
   ]
  },
  {
   "cell_type": "code",
   "execution_count": 66,
   "metadata": {},
   "outputs": [
    {
     "output_type": "stream",
     "name": "stdout",
     "text": [
      "<class 'pandas.core.frame.DataFrame'>\nInt64Index: 2073448 entries, 0 to 74001\nData columns (total 16 columns):\n #   Column                   Dtype  \n---  ------                   -----  \n 0   tripduration             int64  \n 1   starttime                object \n 2   stoptime                 object \n 3   start station id         int64  \n 4   start station name       object \n 5   start station latitude   float64\n 6   start station longitude  float64\n 7   end station id           int64  \n 8   end station name         object \n 9   end station latitude     float64\n 10  end station longitude    float64\n 11  bikeid                   int64  \n 12  usertype                 object \n 13  birth year               float64\n 14  gender                   float64\n 15  postal code              object \ndtypes: float64(6), int64(4), object(6)\nmemory usage: 268.9+ MB\n"
     ]
    }
   ],
   "source": [
    "df_concatenated_columns_all.info()"
   ]
  },
  {
   "cell_type": "code",
   "execution_count": 67,
   "metadata": {},
   "outputs": [
    {
     "output_type": "execute_result",
     "data": {
      "text/plain": [
       "(2073448, 16)"
      ]
     },
     "metadata": {},
     "execution_count": 67
    }
   ],
   "source": [
    "df_concatenated_columns_all.shape"
   ]
  },
  {
   "cell_type": "code",
   "execution_count": 68,
   "metadata": {},
   "outputs": [],
   "source": [
    "df_all = df_concatenated_columns_all.copy()"
   ]
  },
  {
   "cell_type": "code",
   "execution_count": 69,
   "metadata": {},
   "outputs": [
    {
     "output_type": "execute_result",
     "data": {
      "text/plain": [
       "(2073448, 16)"
      ]
     },
     "metadata": {},
     "execution_count": 69
    }
   ],
   "source": [
    "df_all.shape\n"
   ]
  },
  {
   "source": [
    "### Define\n",
    "- remove birth year, gender and postal code columns\n",
    "\n",
    "Action: \n",
    "drop these columns permanently"
   ],
   "cell_type": "markdown",
   "metadata": {}
  },
  {
   "source": [
    "### Code"
   ],
   "cell_type": "markdown",
   "metadata": {}
  },
  {
   "cell_type": "code",
   "execution_count": 70,
   "metadata": {},
   "outputs": [],
   "source": [
    "df_all.drop(['birth year', 'postal code', 'gender'], axis=1, inplace=True)"
   ]
  },
  {
   "source": [
    "### Test"
   ],
   "cell_type": "markdown",
   "metadata": {}
  },
  {
   "cell_type": "code",
   "execution_count": 71,
   "metadata": {},
   "outputs": [
    {
     "output_type": "execute_result",
     "data": {
      "text/plain": [
       "   tripduration                 starttime                  stoptime  \\\n",
       "0           478  2020-01-01 00:04:05.8090  2020-01-01 00:12:04.2370   \n",
       "1           363  2020-01-01 00:04:45.6990  2020-01-01 00:10:49.0400   \n",
       "2           284  2020-01-01 00:06:07.0630  2020-01-01 00:10:51.9240   \n",
       "3           193  2020-01-01 00:06:13.8550  2020-01-01 00:09:27.8320   \n",
       "4           428  2020-01-01 00:07:25.2950  2020-01-01 00:14:33.7800   \n",
       "\n",
       "   start station id                           start station name  \\\n",
       "0               366                              Broadway T Stop   \n",
       "1               219                  Boston East - 126 Border St   \n",
       "2               219                  Boston East - 126 Border St   \n",
       "3               396                         Main St at Beacon St   \n",
       "4                60  Charles Circle - Charles St at Cambridge St   \n",
       "\n",
       "   start station latitude  start station longitude  end station id  \\\n",
       "0               42.342781               -71.057473              93   \n",
       "1               42.373312               -71.041020             212   \n",
       "2               42.373312               -71.041020             212   \n",
       "3               42.409330               -71.063819             387   \n",
       "4               42.360793               -71.071190              49   \n",
       "\n",
       "               end station name  end station latitude  end station longitude  \\\n",
       "0              JFK/UMass T Stop             42.320340             -71.051180   \n",
       "1  Maverick Square - Lewis Mall             42.368844             -71.039778   \n",
       "2  Maverick Square - Lewis Mall             42.368844             -71.039778   \n",
       "3        Norman St at Kelvin St             42.409859             -71.066319   \n",
       "4       Stuart St at Charles St             42.351146             -71.066289   \n",
       "\n",
       "   bikeid    usertype  \n",
       "0    6005    Customer  \n",
       "1    3168  Subscriber  \n",
       "2    3985  Subscriber  \n",
       "3    2692  Subscriber  \n",
       "4    4978  Subscriber  "
      ],
      "text/html": "<div>\n<style scoped>\n    .dataframe tbody tr th:only-of-type {\n        vertical-align: middle;\n    }\n\n    .dataframe tbody tr th {\n        vertical-align: top;\n    }\n\n    .dataframe thead th {\n        text-align: right;\n    }\n</style>\n<table border=\"1\" class=\"dataframe\">\n  <thead>\n    <tr style=\"text-align: right;\">\n      <th></th>\n      <th>tripduration</th>\n      <th>starttime</th>\n      <th>stoptime</th>\n      <th>start station id</th>\n      <th>start station name</th>\n      <th>start station latitude</th>\n      <th>start station longitude</th>\n      <th>end station id</th>\n      <th>end station name</th>\n      <th>end station latitude</th>\n      <th>end station longitude</th>\n      <th>bikeid</th>\n      <th>usertype</th>\n    </tr>\n  </thead>\n  <tbody>\n    <tr>\n      <th>0</th>\n      <td>478</td>\n      <td>2020-01-01 00:04:05.8090</td>\n      <td>2020-01-01 00:12:04.2370</td>\n      <td>366</td>\n      <td>Broadway T Stop</td>\n      <td>42.342781</td>\n      <td>-71.057473</td>\n      <td>93</td>\n      <td>JFK/UMass T Stop</td>\n      <td>42.320340</td>\n      <td>-71.051180</td>\n      <td>6005</td>\n      <td>Customer</td>\n    </tr>\n    <tr>\n      <th>1</th>\n      <td>363</td>\n      <td>2020-01-01 00:04:45.6990</td>\n      <td>2020-01-01 00:10:49.0400</td>\n      <td>219</td>\n      <td>Boston East - 126 Border St</td>\n      <td>42.373312</td>\n      <td>-71.041020</td>\n      <td>212</td>\n      <td>Maverick Square - Lewis Mall</td>\n      <td>42.368844</td>\n      <td>-71.039778</td>\n      <td>3168</td>\n      <td>Subscriber</td>\n    </tr>\n    <tr>\n      <th>2</th>\n      <td>284</td>\n      <td>2020-01-01 00:06:07.0630</td>\n      <td>2020-01-01 00:10:51.9240</td>\n      <td>219</td>\n      <td>Boston East - 126 Border St</td>\n      <td>42.373312</td>\n      <td>-71.041020</td>\n      <td>212</td>\n      <td>Maverick Square - Lewis Mall</td>\n      <td>42.368844</td>\n      <td>-71.039778</td>\n      <td>3985</td>\n      <td>Subscriber</td>\n    </tr>\n    <tr>\n      <th>3</th>\n      <td>193</td>\n      <td>2020-01-01 00:06:13.8550</td>\n      <td>2020-01-01 00:09:27.8320</td>\n      <td>396</td>\n      <td>Main St at Beacon St</td>\n      <td>42.409330</td>\n      <td>-71.063819</td>\n      <td>387</td>\n      <td>Norman St at Kelvin St</td>\n      <td>42.409859</td>\n      <td>-71.066319</td>\n      <td>2692</td>\n      <td>Subscriber</td>\n    </tr>\n    <tr>\n      <th>4</th>\n      <td>428</td>\n      <td>2020-01-01 00:07:25.2950</td>\n      <td>2020-01-01 00:14:33.7800</td>\n      <td>60</td>\n      <td>Charles Circle - Charles St at Cambridge St</td>\n      <td>42.360793</td>\n      <td>-71.071190</td>\n      <td>49</td>\n      <td>Stuart St at Charles St</td>\n      <td>42.351146</td>\n      <td>-71.066289</td>\n      <td>4978</td>\n      <td>Subscriber</td>\n    </tr>\n  </tbody>\n</table>\n</div>"
     },
     "metadata": {},
     "execution_count": 71
    }
   ],
   "source": [
    "df_all.head()"
   ]
  },
  {
   "source": [
    "### Define\n",
    "- `starttime` and `stopttime` column is in object format, it should be datetime\n",
    "\n",
    "Action: convert these to datetime"
   ],
   "cell_type": "markdown",
   "metadata": {}
  },
  {
   "source": [
    "### Code"
   ],
   "cell_type": "markdown",
   "metadata": {}
  },
  {
   "cell_type": "code",
   "execution_count": 74,
   "metadata": {},
   "outputs": [],
   "source": [
    "# convert starttime field into datetime\n",
    "df_all['starttime'] = pandas.to_datetime(df_all['starttime'])"
   ]
  },
  {
   "cell_type": "code",
   "execution_count": 75,
   "metadata": {},
   "outputs": [],
   "source": [
    "# convert stoptime field into datetime\n",
    "df_all['stoptime'] = pandas.to_datetime(df_all['stoptime'])"
   ]
  },
  {
   "source": [
    "### Test"
   ],
   "cell_type": "markdown",
   "metadata": {}
  },
  {
   "cell_type": "code",
   "execution_count": 76,
   "metadata": {},
   "outputs": [
    {
     "output_type": "execute_result",
     "data": {
      "text/plain": [
       "tripduration                        int64\n",
       "starttime                  datetime64[ns]\n",
       "stoptime                   datetime64[ns]\n",
       "start station id                    int64\n",
       "start station name                 object\n",
       "start station latitude            float64\n",
       "start station longitude           float64\n",
       "end station id                      int64\n",
       "end station name                   object\n",
       "end station latitude              float64\n",
       "end station longitude             float64\n",
       "bikeid                              int64\n",
       "usertype                           object\n",
       "dtype: object"
      ]
     },
     "metadata": {},
     "execution_count": 76
    }
   ],
   "source": [
    "df_all.dtypes"
   ]
  },
  {
   "source": [
    "## Cleaning part 2"
   ],
   "cell_type": "markdown",
   "metadata": {}
  },
  {
   "source": [
    "Let's first check if there are any outliers in the data."
   ],
   "cell_type": "markdown",
   "metadata": {}
  },
  {
   "cell_type": "code",
   "execution_count": 77,
   "metadata": {},
   "outputs": [
    {
     "output_type": "execute_result",
     "data": {
      "text/plain": [
       "       tripduration  start station id  start station latitude  \\\n",
       "count  2.073448e+06      2.073448e+06            2.073448e+06   \n",
       "mean   1.831438e+03      1.634481e+02            4.235597e+01   \n",
       "std    2.425891e+04      1.357767e+02            3.452189e-02   \n",
       "min    6.100000e+01      1.000000e+00            0.000000e+00   \n",
       "25%    4.750000e+02      5.500000e+01            4.234522e+01   \n",
       "50%    8.280000e+02      1.100000e+02            4.235560e+01   \n",
       "75%    1.443000e+03      2.390000e+02            4.236567e+01   \n",
       "max    3.879352e+06      4.990000e+02            4.241608e+01   \n",
       "\n",
       "       start station longitude  end station id  end station latitude  \\\n",
       "count             2.073448e+06    2.073448e+06          2.073448e+06   \n",
       "mean             -7.108868e+01    1.623836e+02          4.235589e+01   \n",
       "std               5.628081e-02    1.358793e+02          3.455072e-02   \n",
       "min              -7.122627e+01    1.000000e+00          0.000000e+00   \n",
       "25%              -7.110594e+01    5.500000e+01          4.234522e+01   \n",
       "50%              -7.108981e+01    1.080000e+02          4.235560e+01   \n",
       "75%              -7.106959e+01    2.390000e+02          4.236567e+01   \n",
       "max               0.000000e+00    4.990000e+02          4.241608e+01   \n",
       "\n",
       "       end station longitude        bikeid  \n",
       "count           2.073448e+06  2.073448e+06  \n",
       "mean           -7.108840e+01  4.263332e+03  \n",
       "std             5.626398e-02  1.272965e+03  \n",
       "min            -7.122627e+01  3.100000e+01  \n",
       "25%            -7.110567e+01  3.175000e+03  \n",
       "50%            -7.108822e+01  4.256000e+03  \n",
       "75%            -7.106894e+01  5.406000e+03  \n",
       "max             0.000000e+00  6.724000e+03  "
      ],
      "text/html": "<div>\n<style scoped>\n    .dataframe tbody tr th:only-of-type {\n        vertical-align: middle;\n    }\n\n    .dataframe tbody tr th {\n        vertical-align: top;\n    }\n\n    .dataframe thead th {\n        text-align: right;\n    }\n</style>\n<table border=\"1\" class=\"dataframe\">\n  <thead>\n    <tr style=\"text-align: right;\">\n      <th></th>\n      <th>tripduration</th>\n      <th>start station id</th>\n      <th>start station latitude</th>\n      <th>start station longitude</th>\n      <th>end station id</th>\n      <th>end station latitude</th>\n      <th>end station longitude</th>\n      <th>bikeid</th>\n    </tr>\n  </thead>\n  <tbody>\n    <tr>\n      <th>count</th>\n      <td>2.073448e+06</td>\n      <td>2.073448e+06</td>\n      <td>2.073448e+06</td>\n      <td>2.073448e+06</td>\n      <td>2.073448e+06</td>\n      <td>2.073448e+06</td>\n      <td>2.073448e+06</td>\n      <td>2.073448e+06</td>\n    </tr>\n    <tr>\n      <th>mean</th>\n      <td>1.831438e+03</td>\n      <td>1.634481e+02</td>\n      <td>4.235597e+01</td>\n      <td>-7.108868e+01</td>\n      <td>1.623836e+02</td>\n      <td>4.235589e+01</td>\n      <td>-7.108840e+01</td>\n      <td>4.263332e+03</td>\n    </tr>\n    <tr>\n      <th>std</th>\n      <td>2.425891e+04</td>\n      <td>1.357767e+02</td>\n      <td>3.452189e-02</td>\n      <td>5.628081e-02</td>\n      <td>1.358793e+02</td>\n      <td>3.455072e-02</td>\n      <td>5.626398e-02</td>\n      <td>1.272965e+03</td>\n    </tr>\n    <tr>\n      <th>min</th>\n      <td>6.100000e+01</td>\n      <td>1.000000e+00</td>\n      <td>0.000000e+00</td>\n      <td>-7.122627e+01</td>\n      <td>1.000000e+00</td>\n      <td>0.000000e+00</td>\n      <td>-7.122627e+01</td>\n      <td>3.100000e+01</td>\n    </tr>\n    <tr>\n      <th>25%</th>\n      <td>4.750000e+02</td>\n      <td>5.500000e+01</td>\n      <td>4.234522e+01</td>\n      <td>-7.110594e+01</td>\n      <td>5.500000e+01</td>\n      <td>4.234522e+01</td>\n      <td>-7.110567e+01</td>\n      <td>3.175000e+03</td>\n    </tr>\n    <tr>\n      <th>50%</th>\n      <td>8.280000e+02</td>\n      <td>1.100000e+02</td>\n      <td>4.235560e+01</td>\n      <td>-7.108981e+01</td>\n      <td>1.080000e+02</td>\n      <td>4.235560e+01</td>\n      <td>-7.108822e+01</td>\n      <td>4.256000e+03</td>\n    </tr>\n    <tr>\n      <th>75%</th>\n      <td>1.443000e+03</td>\n      <td>2.390000e+02</td>\n      <td>4.236567e+01</td>\n      <td>-7.106959e+01</td>\n      <td>2.390000e+02</td>\n      <td>4.236567e+01</td>\n      <td>-7.106894e+01</td>\n      <td>5.406000e+03</td>\n    </tr>\n    <tr>\n      <th>max</th>\n      <td>3.879352e+06</td>\n      <td>4.990000e+02</td>\n      <td>4.241608e+01</td>\n      <td>0.000000e+00</td>\n      <td>4.990000e+02</td>\n      <td>4.241608e+01</td>\n      <td>0.000000e+00</td>\n      <td>6.724000e+03</td>\n    </tr>\n  </tbody>\n</table>\n</div>"
     },
     "metadata": {},
     "execution_count": 77
    }
   ],
   "source": [
    "# assess df_all statistics\n",
    "df_all.describe()"
   ]
  },
  {
   "source": [
    "There must be some zero values in the start latitude and end latitude columns, but since I'm not going to explore the data in those columns, I will not clean the data there."
   ],
   "cell_type": "markdown",
   "metadata": {}
  },
  {
   "cell_type": "code",
   "execution_count": 78,
   "metadata": {},
   "outputs": [
    {
     "output_type": "execute_result",
     "data": {
      "text/plain": [
       "0"
      ]
     },
     "metadata": {},
     "execution_count": 78
    }
   ],
   "source": [
    "# assess df_all's duplicated values\n",
    "sum(df_all.duplicated())"
   ]
  },
  {
   "cell_type": "code",
   "execution_count": 79,
   "metadata": {},
   "outputs": [
    {
     "output_type": "execute_result",
     "data": {
      "text/plain": [
       "tripduration               0\n",
       "starttime                  0\n",
       "stoptime                   0\n",
       "start station id           0\n",
       "start station name         0\n",
       "start station latitude     0\n",
       "start station longitude    0\n",
       "end station id             0\n",
       "end station name           0\n",
       "end station latitude       0\n",
       "end station longitude      0\n",
       "bikeid                     0\n",
       "usertype                   0\n",
       "dtype: int64"
      ]
     },
     "metadata": {},
     "execution_count": 79
    }
   ],
   "source": [
    "# assess df_all's null values\n",
    "df_all.isnull().sum()"
   ]
  },
  {
   "source": [
    "It seems like the data set is clean enough to start my exploration towards the initial questions, but to be able to draw conclusions from the starttime column, I would like to extract a couple of values and create new columns.\n",
    "\n",
    "Q: When are the most trips taken in terms of time of day, day of the week, or month of the year?\n",
    " \n",
    " ### Tidiness Issues\n",
    "\n",
    "There is no way to see\n",
    "- which day of the week the data was recorded\n",
    "- if the day is a weekday or a weekend\n",
    "- which months of the year the data was recorded\n",
    "- which time of the day the data was recorded\n",
    "\n"
   ],
   "cell_type": "markdown",
   "metadata": {}
  },
  {
   "source": [
    "### Define \n",
    "There is no way to see which day of the week the data was recorded\n",
    "\n",
    "Action:\n",
    "- Create a column for the days of the week \n",
    "- Convert values to date time and then to week day names\n",
    "\n"
   ],
   "cell_type": "markdown",
   "metadata": {}
  },
  {
   "source": [
    "### Code"
   ],
   "cell_type": "markdown",
   "metadata": {}
  },
  {
   "cell_type": "code",
   "execution_count": 197,
   "metadata": {},
   "outputs": [],
   "source": [
    "# create a column for the days of the week using the starttime column\n",
    "\n",
    "df_all['weekday'] = df_all['starttime'].dt.dayofweek   \n",
    "\n",
    "# convert values to date time and then to week day names\n",
    "\n",
    "df_all['weekday'] = pandas.to_datetime(df_all['weekday'])\n",
    "df_all['weekday'] = df_all['weekday'].dt.day_name()\n"
   ]
  },
  {
   "source": [
    "### Test"
   ],
   "cell_type": "markdown",
   "metadata": {}
  },
  {
   "cell_type": "code",
   "execution_count": 196,
   "metadata": {},
   "outputs": [
    {
     "output_type": "execute_result",
     "data": {
      "text/plain": [
       "   tripduration               starttime                stoptime  \\\n",
       "0           478 2020-01-01 00:04:05.809 2020-01-01 00:12:04.237   \n",
       "1           363 2020-01-01 00:04:45.699 2020-01-01 00:10:49.040   \n",
       "2           284 2020-01-01 00:06:07.063 2020-01-01 00:10:51.924   \n",
       "3           193 2020-01-01 00:06:13.855 2020-01-01 00:09:27.832   \n",
       "4           428 2020-01-01 00:07:25.295 2020-01-01 00:14:33.780   \n",
       "\n",
       "   start station id                           start station name  \\\n",
       "0               366                              Broadway T Stop   \n",
       "1               219                  Boston East - 126 Border St   \n",
       "2               219                  Boston East - 126 Border St   \n",
       "3               396                         Main St at Beacon St   \n",
       "4                60  Charles Circle - Charles St at Cambridge St   \n",
       "\n",
       "   start station latitude  start station longitude  end station id  \\\n",
       "0               42.342781               -71.057473              93   \n",
       "1               42.373312               -71.041020             212   \n",
       "2               42.373312               -71.041020             212   \n",
       "3               42.409330               -71.063819             387   \n",
       "4               42.360793               -71.071190              49   \n",
       "\n",
       "               end station name  end station latitude  end station longitude  \\\n",
       "0              JFK/UMass T Stop             42.320340             -71.051180   \n",
       "1  Maverick Square - Lewis Mall             42.368844             -71.039778   \n",
       "2  Maverick Square - Lewis Mall             42.368844             -71.039778   \n",
       "3        Norman St at Kelvin St             42.409859             -71.066319   \n",
       "4       Stuart St at Charles St             42.351146             -71.066289   \n",
       "\n",
       "   bikeid    usertype   weekday    month timeoftheday     type  \n",
       "0    6005    Customer  Thursday  January        00:04  Weekday  \n",
       "1    3168  Subscriber  Thursday  January        00:04  Weekday  \n",
       "2    3985  Subscriber  Thursday  January        00:06  Weekday  \n",
       "3    2692  Subscriber  Thursday  January        00:06  Weekday  \n",
       "4    4978  Subscriber  Thursday  January        00:07  Weekday  "
      ],
      "text/html": "<div>\n<style scoped>\n    .dataframe tbody tr th:only-of-type {\n        vertical-align: middle;\n    }\n\n    .dataframe tbody tr th {\n        vertical-align: top;\n    }\n\n    .dataframe thead th {\n        text-align: right;\n    }\n</style>\n<table border=\"1\" class=\"dataframe\">\n  <thead>\n    <tr style=\"text-align: right;\">\n      <th></th>\n      <th>tripduration</th>\n      <th>starttime</th>\n      <th>stoptime</th>\n      <th>start station id</th>\n      <th>start station name</th>\n      <th>start station latitude</th>\n      <th>start station longitude</th>\n      <th>end station id</th>\n      <th>end station name</th>\n      <th>end station latitude</th>\n      <th>end station longitude</th>\n      <th>bikeid</th>\n      <th>usertype</th>\n      <th>weekday</th>\n      <th>month</th>\n      <th>timeoftheday</th>\n      <th>type</th>\n    </tr>\n  </thead>\n  <tbody>\n    <tr>\n      <th>0</th>\n      <td>478</td>\n      <td>2020-01-01 00:04:05.809</td>\n      <td>2020-01-01 00:12:04.237</td>\n      <td>366</td>\n      <td>Broadway T Stop</td>\n      <td>42.342781</td>\n      <td>-71.057473</td>\n      <td>93</td>\n      <td>JFK/UMass T Stop</td>\n      <td>42.320340</td>\n      <td>-71.051180</td>\n      <td>6005</td>\n      <td>Customer</td>\n      <td>Thursday</td>\n      <td>January</td>\n      <td>00:04</td>\n      <td>Weekday</td>\n    </tr>\n    <tr>\n      <th>1</th>\n      <td>363</td>\n      <td>2020-01-01 00:04:45.699</td>\n      <td>2020-01-01 00:10:49.040</td>\n      <td>219</td>\n      <td>Boston East - 126 Border St</td>\n      <td>42.373312</td>\n      <td>-71.041020</td>\n      <td>212</td>\n      <td>Maverick Square - Lewis Mall</td>\n      <td>42.368844</td>\n      <td>-71.039778</td>\n      <td>3168</td>\n      <td>Subscriber</td>\n      <td>Thursday</td>\n      <td>January</td>\n      <td>00:04</td>\n      <td>Weekday</td>\n    </tr>\n    <tr>\n      <th>2</th>\n      <td>284</td>\n      <td>2020-01-01 00:06:07.063</td>\n      <td>2020-01-01 00:10:51.924</td>\n      <td>219</td>\n      <td>Boston East - 126 Border St</td>\n      <td>42.373312</td>\n      <td>-71.041020</td>\n      <td>212</td>\n      <td>Maverick Square - Lewis Mall</td>\n      <td>42.368844</td>\n      <td>-71.039778</td>\n      <td>3985</td>\n      <td>Subscriber</td>\n      <td>Thursday</td>\n      <td>January</td>\n      <td>00:06</td>\n      <td>Weekday</td>\n    </tr>\n    <tr>\n      <th>3</th>\n      <td>193</td>\n      <td>2020-01-01 00:06:13.855</td>\n      <td>2020-01-01 00:09:27.832</td>\n      <td>396</td>\n      <td>Main St at Beacon St</td>\n      <td>42.409330</td>\n      <td>-71.063819</td>\n      <td>387</td>\n      <td>Norman St at Kelvin St</td>\n      <td>42.409859</td>\n      <td>-71.066319</td>\n      <td>2692</td>\n      <td>Subscriber</td>\n      <td>Thursday</td>\n      <td>January</td>\n      <td>00:06</td>\n      <td>Weekday</td>\n    </tr>\n    <tr>\n      <th>4</th>\n      <td>428</td>\n      <td>2020-01-01 00:07:25.295</td>\n      <td>2020-01-01 00:14:33.780</td>\n      <td>60</td>\n      <td>Charles Circle - Charles St at Cambridge St</td>\n      <td>42.360793</td>\n      <td>-71.071190</td>\n      <td>49</td>\n      <td>Stuart St at Charles St</td>\n      <td>42.351146</td>\n      <td>-71.066289</td>\n      <td>4978</td>\n      <td>Subscriber</td>\n      <td>Thursday</td>\n      <td>January</td>\n      <td>00:07</td>\n      <td>Weekday</td>\n    </tr>\n  </tbody>\n</table>\n</div>"
     },
     "metadata": {},
     "execution_count": 196
    }
   ],
   "source": [
    "df_all.head(5)"
   ]
  },
  {
   "source": [
    "### Define \n",
    "There is no way to see which day of the month the data was recorded\n",
    "\n",
    "Action:\n",
    "- Create a column for the months of the year\n",
    "- Convert values to date time and then to month names"
   ],
   "cell_type": "markdown",
   "metadata": {}
  },
  {
   "source": [
    "### Code"
   ],
   "cell_type": "markdown",
   "metadata": {}
  },
  {
   "cell_type": "code",
   "execution_count": 199,
   "metadata": {},
   "outputs": [],
   "source": [
    "# create a column for the months of the year using the starttime column\n",
    "df_all['month'] = pandas.DatetimeIndex(df_all['starttime']).month\n",
    "\n",
    "# convert values to date time and then month names\n",
    "\n",
    "df_all['month'] = pandas.to_datetime(df_all['month'], format='%m').dt.month_name()\n"
   ]
  },
  {
   "source": [
    "### Test"
   ],
   "cell_type": "markdown",
   "metadata": {}
  },
  {
   "cell_type": "code",
   "execution_count": 187,
   "metadata": {},
   "outputs": [
    {
     "output_type": "execute_result",
     "data": {
      "text/plain": [
       "   tripduration               starttime                stoptime  \\\n",
       "0           478 2020-01-01 00:04:05.809 2020-01-01 00:12:04.237   \n",
       "1           363 2020-01-01 00:04:45.699 2020-01-01 00:10:49.040   \n",
       "2           284 2020-01-01 00:06:07.063 2020-01-01 00:10:51.924   \n",
       "3           193 2020-01-01 00:06:13.855 2020-01-01 00:09:27.832   \n",
       "4           428 2020-01-01 00:07:25.295 2020-01-01 00:14:33.780   \n",
       "\n",
       "   start station id                           start station name  \\\n",
       "0               366                              Broadway T Stop   \n",
       "1               219                  Boston East - 126 Border St   \n",
       "2               219                  Boston East - 126 Border St   \n",
       "3               396                         Main St at Beacon St   \n",
       "4                60  Charles Circle - Charles St at Cambridge St   \n",
       "\n",
       "   start station latitude  start station longitude  end station id  \\\n",
       "0               42.342781               -71.057473              93   \n",
       "1               42.373312               -71.041020             212   \n",
       "2               42.373312               -71.041020             212   \n",
       "3               42.409330               -71.063819             387   \n",
       "4               42.360793               -71.071190              49   \n",
       "\n",
       "               end station name  end station latitude  end station longitude  \\\n",
       "0              JFK/UMass T Stop             42.320340             -71.051180   \n",
       "1  Maverick Square - Lewis Mall             42.368844             -71.039778   \n",
       "2  Maverick Square - Lewis Mall             42.368844             -71.039778   \n",
       "3        Norman St at Kelvin St             42.409859             -71.066319   \n",
       "4       Stuart St at Charles St             42.351146             -71.066289   \n",
       "\n",
       "   bikeid    usertype   weekday    month timeoftheday     type  \n",
       "0    6005    Customer  Thursday  January        00:04  Weekday  \n",
       "1    3168  Subscriber  Thursday  January        00:04  Weekday  \n",
       "2    3985  Subscriber  Thursday  January        00:06  Weekday  \n",
       "3    2692  Subscriber  Thursday  January        00:06  Weekday  \n",
       "4    4978  Subscriber  Thursday  January        00:07  Weekday  "
      ],
      "text/html": "<div>\n<style scoped>\n    .dataframe tbody tr th:only-of-type {\n        vertical-align: middle;\n    }\n\n    .dataframe tbody tr th {\n        vertical-align: top;\n    }\n\n    .dataframe thead th {\n        text-align: right;\n    }\n</style>\n<table border=\"1\" class=\"dataframe\">\n  <thead>\n    <tr style=\"text-align: right;\">\n      <th></th>\n      <th>tripduration</th>\n      <th>starttime</th>\n      <th>stoptime</th>\n      <th>start station id</th>\n      <th>start station name</th>\n      <th>start station latitude</th>\n      <th>start station longitude</th>\n      <th>end station id</th>\n      <th>end station name</th>\n      <th>end station latitude</th>\n      <th>end station longitude</th>\n      <th>bikeid</th>\n      <th>usertype</th>\n      <th>weekday</th>\n      <th>month</th>\n      <th>timeoftheday</th>\n      <th>type</th>\n    </tr>\n  </thead>\n  <tbody>\n    <tr>\n      <th>0</th>\n      <td>478</td>\n      <td>2020-01-01 00:04:05.809</td>\n      <td>2020-01-01 00:12:04.237</td>\n      <td>366</td>\n      <td>Broadway T Stop</td>\n      <td>42.342781</td>\n      <td>-71.057473</td>\n      <td>93</td>\n      <td>JFK/UMass T Stop</td>\n      <td>42.320340</td>\n      <td>-71.051180</td>\n      <td>6005</td>\n      <td>Customer</td>\n      <td>Thursday</td>\n      <td>January</td>\n      <td>00:04</td>\n      <td>Weekday</td>\n    </tr>\n    <tr>\n      <th>1</th>\n      <td>363</td>\n      <td>2020-01-01 00:04:45.699</td>\n      <td>2020-01-01 00:10:49.040</td>\n      <td>219</td>\n      <td>Boston East - 126 Border St</td>\n      <td>42.373312</td>\n      <td>-71.041020</td>\n      <td>212</td>\n      <td>Maverick Square - Lewis Mall</td>\n      <td>42.368844</td>\n      <td>-71.039778</td>\n      <td>3168</td>\n      <td>Subscriber</td>\n      <td>Thursday</td>\n      <td>January</td>\n      <td>00:04</td>\n      <td>Weekday</td>\n    </tr>\n    <tr>\n      <th>2</th>\n      <td>284</td>\n      <td>2020-01-01 00:06:07.063</td>\n      <td>2020-01-01 00:10:51.924</td>\n      <td>219</td>\n      <td>Boston East - 126 Border St</td>\n      <td>42.373312</td>\n      <td>-71.041020</td>\n      <td>212</td>\n      <td>Maverick Square - Lewis Mall</td>\n      <td>42.368844</td>\n      <td>-71.039778</td>\n      <td>3985</td>\n      <td>Subscriber</td>\n      <td>Thursday</td>\n      <td>January</td>\n      <td>00:06</td>\n      <td>Weekday</td>\n    </tr>\n    <tr>\n      <th>3</th>\n      <td>193</td>\n      <td>2020-01-01 00:06:13.855</td>\n      <td>2020-01-01 00:09:27.832</td>\n      <td>396</td>\n      <td>Main St at Beacon St</td>\n      <td>42.409330</td>\n      <td>-71.063819</td>\n      <td>387</td>\n      <td>Norman St at Kelvin St</td>\n      <td>42.409859</td>\n      <td>-71.066319</td>\n      <td>2692</td>\n      <td>Subscriber</td>\n      <td>Thursday</td>\n      <td>January</td>\n      <td>00:06</td>\n      <td>Weekday</td>\n    </tr>\n    <tr>\n      <th>4</th>\n      <td>428</td>\n      <td>2020-01-01 00:07:25.295</td>\n      <td>2020-01-01 00:14:33.780</td>\n      <td>60</td>\n      <td>Charles Circle - Charles St at Cambridge St</td>\n      <td>42.360793</td>\n      <td>-71.071190</td>\n      <td>49</td>\n      <td>Stuart St at Charles St</td>\n      <td>42.351146</td>\n      <td>-71.066289</td>\n      <td>4978</td>\n      <td>Subscriber</td>\n      <td>Thursday</td>\n      <td>January</td>\n      <td>00:07</td>\n      <td>Weekday</td>\n    </tr>\n  </tbody>\n</table>\n</div>"
     },
     "metadata": {},
     "execution_count": 187
    }
   ],
   "source": [
    "df_all.head()"
   ]
  },
  {
   "source": [
    "### Define \n",
    "There is no way to see which time of the day the data was recorded\n",
    "\n",
    "Action:\n",
    "- Create a column for the time of the day\n"
   ],
   "cell_type": "markdown",
   "metadata": {}
  },
  {
   "source": [
    "### Code"
   ],
   "cell_type": "markdown",
   "metadata": {}
  },
  {
   "cell_type": "code",
   "execution_count": 188,
   "metadata": {},
   "outputs": [],
   "source": [
    "# create a column for the time of the day using the starttime column\n",
    "df_all['timeoftheday']= df_all['starttime'].dt.strftime('%H:%M')"
   ]
  },
  {
   "source": [
    "### Test"
   ],
   "cell_type": "markdown",
   "metadata": {}
  },
  {
   "cell_type": "code",
   "execution_count": 189,
   "metadata": {},
   "outputs": [
    {
     "output_type": "execute_result",
     "data": {
      "text/plain": [
       "   tripduration               starttime                stoptime  \\\n",
       "0           478 2020-01-01 00:04:05.809 2020-01-01 00:12:04.237   \n",
       "1           363 2020-01-01 00:04:45.699 2020-01-01 00:10:49.040   \n",
       "2           284 2020-01-01 00:06:07.063 2020-01-01 00:10:51.924   \n",
       "3           193 2020-01-01 00:06:13.855 2020-01-01 00:09:27.832   \n",
       "4           428 2020-01-01 00:07:25.295 2020-01-01 00:14:33.780   \n",
       "\n",
       "   start station id                           start station name  \\\n",
       "0               366                              Broadway T Stop   \n",
       "1               219                  Boston East - 126 Border St   \n",
       "2               219                  Boston East - 126 Border St   \n",
       "3               396                         Main St at Beacon St   \n",
       "4                60  Charles Circle - Charles St at Cambridge St   \n",
       "\n",
       "   start station latitude  start station longitude  end station id  \\\n",
       "0               42.342781               -71.057473              93   \n",
       "1               42.373312               -71.041020             212   \n",
       "2               42.373312               -71.041020             212   \n",
       "3               42.409330               -71.063819             387   \n",
       "4               42.360793               -71.071190              49   \n",
       "\n",
       "               end station name  end station latitude  end station longitude  \\\n",
       "0              JFK/UMass T Stop             42.320340             -71.051180   \n",
       "1  Maverick Square - Lewis Mall             42.368844             -71.039778   \n",
       "2  Maverick Square - Lewis Mall             42.368844             -71.039778   \n",
       "3        Norman St at Kelvin St             42.409859             -71.066319   \n",
       "4       Stuart St at Charles St             42.351146             -71.066289   \n",
       "\n",
       "   bikeid    usertype   weekday    month timeoftheday     type  \n",
       "0    6005    Customer  Thursday  January        00:04  Weekday  \n",
       "1    3168  Subscriber  Thursday  January        00:04  Weekday  \n",
       "2    3985  Subscriber  Thursday  January        00:06  Weekday  \n",
       "3    2692  Subscriber  Thursday  January        00:06  Weekday  \n",
       "4    4978  Subscriber  Thursday  January        00:07  Weekday  "
      ],
      "text/html": "<div>\n<style scoped>\n    .dataframe tbody tr th:only-of-type {\n        vertical-align: middle;\n    }\n\n    .dataframe tbody tr th {\n        vertical-align: top;\n    }\n\n    .dataframe thead th {\n        text-align: right;\n    }\n</style>\n<table border=\"1\" class=\"dataframe\">\n  <thead>\n    <tr style=\"text-align: right;\">\n      <th></th>\n      <th>tripduration</th>\n      <th>starttime</th>\n      <th>stoptime</th>\n      <th>start station id</th>\n      <th>start station name</th>\n      <th>start station latitude</th>\n      <th>start station longitude</th>\n      <th>end station id</th>\n      <th>end station name</th>\n      <th>end station latitude</th>\n      <th>end station longitude</th>\n      <th>bikeid</th>\n      <th>usertype</th>\n      <th>weekday</th>\n      <th>month</th>\n      <th>timeoftheday</th>\n      <th>type</th>\n    </tr>\n  </thead>\n  <tbody>\n    <tr>\n      <th>0</th>\n      <td>478</td>\n      <td>2020-01-01 00:04:05.809</td>\n      <td>2020-01-01 00:12:04.237</td>\n      <td>366</td>\n      <td>Broadway T Stop</td>\n      <td>42.342781</td>\n      <td>-71.057473</td>\n      <td>93</td>\n      <td>JFK/UMass T Stop</td>\n      <td>42.320340</td>\n      <td>-71.051180</td>\n      <td>6005</td>\n      <td>Customer</td>\n      <td>Thursday</td>\n      <td>January</td>\n      <td>00:04</td>\n      <td>Weekday</td>\n    </tr>\n    <tr>\n      <th>1</th>\n      <td>363</td>\n      <td>2020-01-01 00:04:45.699</td>\n      <td>2020-01-01 00:10:49.040</td>\n      <td>219</td>\n      <td>Boston East - 126 Border St</td>\n      <td>42.373312</td>\n      <td>-71.041020</td>\n      <td>212</td>\n      <td>Maverick Square - Lewis Mall</td>\n      <td>42.368844</td>\n      <td>-71.039778</td>\n      <td>3168</td>\n      <td>Subscriber</td>\n      <td>Thursday</td>\n      <td>January</td>\n      <td>00:04</td>\n      <td>Weekday</td>\n    </tr>\n    <tr>\n      <th>2</th>\n      <td>284</td>\n      <td>2020-01-01 00:06:07.063</td>\n      <td>2020-01-01 00:10:51.924</td>\n      <td>219</td>\n      <td>Boston East - 126 Border St</td>\n      <td>42.373312</td>\n      <td>-71.041020</td>\n      <td>212</td>\n      <td>Maverick Square - Lewis Mall</td>\n      <td>42.368844</td>\n      <td>-71.039778</td>\n      <td>3985</td>\n      <td>Subscriber</td>\n      <td>Thursday</td>\n      <td>January</td>\n      <td>00:06</td>\n      <td>Weekday</td>\n    </tr>\n    <tr>\n      <th>3</th>\n      <td>193</td>\n      <td>2020-01-01 00:06:13.855</td>\n      <td>2020-01-01 00:09:27.832</td>\n      <td>396</td>\n      <td>Main St at Beacon St</td>\n      <td>42.409330</td>\n      <td>-71.063819</td>\n      <td>387</td>\n      <td>Norman St at Kelvin St</td>\n      <td>42.409859</td>\n      <td>-71.066319</td>\n      <td>2692</td>\n      <td>Subscriber</td>\n      <td>Thursday</td>\n      <td>January</td>\n      <td>00:06</td>\n      <td>Weekday</td>\n    </tr>\n    <tr>\n      <th>4</th>\n      <td>428</td>\n      <td>2020-01-01 00:07:25.295</td>\n      <td>2020-01-01 00:14:33.780</td>\n      <td>60</td>\n      <td>Charles Circle - Charles St at Cambridge St</td>\n      <td>42.360793</td>\n      <td>-71.071190</td>\n      <td>49</td>\n      <td>Stuart St at Charles St</td>\n      <td>42.351146</td>\n      <td>-71.066289</td>\n      <td>4978</td>\n      <td>Subscriber</td>\n      <td>Thursday</td>\n      <td>January</td>\n      <td>00:07</td>\n      <td>Weekday</td>\n    </tr>\n  </tbody>\n</table>\n</div>"
     },
     "metadata": {},
     "execution_count": 189
    }
   ],
   "source": [
    "df_all.head()"
   ]
  },
  {
   "source": [
    "### Define \n",
    "There is no way to see if the day of the week is a weekday or a weekend\n",
    "\n",
    "Action:\n",
    "- Create a column to state if it's a weekday or weekend"
   ],
   "cell_type": "markdown",
   "metadata": {}
  },
  {
   "source": [
    "### Code"
   ],
   "cell_type": "markdown",
   "metadata": {}
  },
  {
   "cell_type": "code",
   "execution_count": 190,
   "metadata": {},
   "outputs": [],
   "source": [
    "df_all['type'] = df_all.starttime.dt.weekday.apply(lambda x: 'Weekday' if x < 5 else 'Weekend')"
   ]
  },
  {
   "source": [
    "### Test"
   ],
   "cell_type": "markdown",
   "metadata": {}
  },
  {
   "cell_type": "code",
   "execution_count": 194,
   "metadata": {},
   "outputs": [
    {
     "output_type": "execute_result",
     "data": {
      "text/plain": [
       "      tripduration               starttime                stoptime  \\\n",
       "0              478 2020-01-01 00:04:05.809 2020-01-01 00:12:04.237   \n",
       "1              363 2020-01-01 00:04:45.699 2020-01-01 00:10:49.040   \n",
       "2              284 2020-01-01 00:06:07.063 2020-01-01 00:10:51.924   \n",
       "3              193 2020-01-01 00:06:13.855 2020-01-01 00:09:27.832   \n",
       "4              428 2020-01-01 00:07:25.295 2020-01-01 00:14:33.780   \n",
       "...            ...                     ...                     ...   \n",
       "1495          1230 2020-01-01 21:51:42.091 2020-01-01 22:12:12.097   \n",
       "1496           903 2020-01-01 21:55:38.713 2020-01-01 22:10:41.897   \n",
       "1497           988 2020-01-01 21:57:33.631 2020-01-01 22:14:02.276   \n",
       "1498           698 2020-01-01 21:59:39.092 2020-01-01 22:11:17.477   \n",
       "1499           279 2020-01-01 21:59:44.437 2020-01-01 22:04:24.306   \n",
       "\n",
       "      start station id                                 start station name  \\\n",
       "0                  366                                    Broadway T Stop   \n",
       "1                  219                        Boston East - 126 Border St   \n",
       "2                  219                        Boston East - 126 Border St   \n",
       "3                  396                               Main St at Beacon St   \n",
       "4                   60        Charles Circle - Charles St at Cambridge St   \n",
       "...                ...                                                ...   \n",
       "1495                30      Brigham Circle - Francis St at Huntington Ave   \n",
       "1496               190                  Nashua Street at Red Auerbach Way   \n",
       "1497                 6                             Cambridge St at Joy St   \n",
       "1498               104  Harvard University Radcliffe Quadrangle at She...   \n",
       "1499                74                Harvard Square at Mass Ave/ Dunster   \n",
       "\n",
       "      start station latitude  start station longitude  end station id  \\\n",
       "0                  42.342781               -71.057473              93   \n",
       "1                  42.373312               -71.041020             212   \n",
       "2                  42.373312               -71.041020             212   \n",
       "3                  42.409330               -71.063819             387   \n",
       "4                  42.360793               -71.071190              49   \n",
       "...                      ...                      ...             ...   \n",
       "1495               42.334629               -71.104079              90   \n",
       "1496               42.365673               -71.064263              78   \n",
       "1497               42.361212               -71.065306             342   \n",
       "1498               42.380287               -71.125107             221   \n",
       "1499               42.373268               -71.118579             180   \n",
       "\n",
       "                                 end station name  end station latitude  \\\n",
       "0                                JFK/UMass T Stop             42.320340   \n",
       "1                    Maverick Square - Lewis Mall             42.368844   \n",
       "2                    Maverick Square - Lewis Mall             42.368844   \n",
       "3                          Norman St at Kelvin St             42.409859   \n",
       "4                         Stuart St at Charles St             42.351146   \n",
       "...                                           ...                   ...   \n",
       "1495  Lechmere Station at Cambridge St / First St             42.370677   \n",
       "1496                    Union Square - Somerville             42.379671   \n",
       "1497                     Boylston St at Jersey St             42.344651   \n",
       "1498        Verizon Innovation Hub 10 Ware Street             42.372509   \n",
       "1499                                    Mt Auburn             42.374786   \n",
       "\n",
       "      end station longitude  bikeid    usertype   weekday    month  \\\n",
       "0                -71.051180    6005    Customer  Thursday  January   \n",
       "1                -71.039778    3168  Subscriber  Thursday  January   \n",
       "2                -71.039778    3985  Subscriber  Thursday  January   \n",
       "3                -71.066319    2692  Subscriber  Thursday  January   \n",
       "4                -71.066289    4978  Subscriber  Thursday  January   \n",
       "...                     ...     ...         ...       ...      ...   \n",
       "1495             -71.076529    5526  Subscriber  Thursday  January   \n",
       "1496             -71.095493    5456  Subscriber  Thursday  January   \n",
       "1497             -71.097325    3123    Customer  Thursday  January   \n",
       "1498             -71.113054    2815  Subscriber  Thursday  January   \n",
       "1499             -71.133202    4399  Subscriber  Thursday  January   \n",
       "\n",
       "     timeoftheday     type  \n",
       "0           00:04  Weekday  \n",
       "1           00:04  Weekday  \n",
       "2           00:06  Weekday  \n",
       "3           00:06  Weekday  \n",
       "4           00:07  Weekday  \n",
       "...           ...      ...  \n",
       "1495        21:51  Weekday  \n",
       "1496        21:55  Weekday  \n",
       "1497        21:57  Weekday  \n",
       "1498        21:59  Weekday  \n",
       "1499        21:59  Weekday  \n",
       "\n",
       "[1500 rows x 17 columns]"
      ],
      "text/html": "<div>\n<style scoped>\n    .dataframe tbody tr th:only-of-type {\n        vertical-align: middle;\n    }\n\n    .dataframe tbody tr th {\n        vertical-align: top;\n    }\n\n    .dataframe thead th {\n        text-align: right;\n    }\n</style>\n<table border=\"1\" class=\"dataframe\">\n  <thead>\n    <tr style=\"text-align: right;\">\n      <th></th>\n      <th>tripduration</th>\n      <th>starttime</th>\n      <th>stoptime</th>\n      <th>start station id</th>\n      <th>start station name</th>\n      <th>start station latitude</th>\n      <th>start station longitude</th>\n      <th>end station id</th>\n      <th>end station name</th>\n      <th>end station latitude</th>\n      <th>end station longitude</th>\n      <th>bikeid</th>\n      <th>usertype</th>\n      <th>weekday</th>\n      <th>month</th>\n      <th>timeoftheday</th>\n      <th>type</th>\n    </tr>\n  </thead>\n  <tbody>\n    <tr>\n      <th>0</th>\n      <td>478</td>\n      <td>2020-01-01 00:04:05.809</td>\n      <td>2020-01-01 00:12:04.237</td>\n      <td>366</td>\n      <td>Broadway T Stop</td>\n      <td>42.342781</td>\n      <td>-71.057473</td>\n      <td>93</td>\n      <td>JFK/UMass T Stop</td>\n      <td>42.320340</td>\n      <td>-71.051180</td>\n      <td>6005</td>\n      <td>Customer</td>\n      <td>Thursday</td>\n      <td>January</td>\n      <td>00:04</td>\n      <td>Weekday</td>\n    </tr>\n    <tr>\n      <th>1</th>\n      <td>363</td>\n      <td>2020-01-01 00:04:45.699</td>\n      <td>2020-01-01 00:10:49.040</td>\n      <td>219</td>\n      <td>Boston East - 126 Border St</td>\n      <td>42.373312</td>\n      <td>-71.041020</td>\n      <td>212</td>\n      <td>Maverick Square - Lewis Mall</td>\n      <td>42.368844</td>\n      <td>-71.039778</td>\n      <td>3168</td>\n      <td>Subscriber</td>\n      <td>Thursday</td>\n      <td>January</td>\n      <td>00:04</td>\n      <td>Weekday</td>\n    </tr>\n    <tr>\n      <th>2</th>\n      <td>284</td>\n      <td>2020-01-01 00:06:07.063</td>\n      <td>2020-01-01 00:10:51.924</td>\n      <td>219</td>\n      <td>Boston East - 126 Border St</td>\n      <td>42.373312</td>\n      <td>-71.041020</td>\n      <td>212</td>\n      <td>Maverick Square - Lewis Mall</td>\n      <td>42.368844</td>\n      <td>-71.039778</td>\n      <td>3985</td>\n      <td>Subscriber</td>\n      <td>Thursday</td>\n      <td>January</td>\n      <td>00:06</td>\n      <td>Weekday</td>\n    </tr>\n    <tr>\n      <th>3</th>\n      <td>193</td>\n      <td>2020-01-01 00:06:13.855</td>\n      <td>2020-01-01 00:09:27.832</td>\n      <td>396</td>\n      <td>Main St at Beacon St</td>\n      <td>42.409330</td>\n      <td>-71.063819</td>\n      <td>387</td>\n      <td>Norman St at Kelvin St</td>\n      <td>42.409859</td>\n      <td>-71.066319</td>\n      <td>2692</td>\n      <td>Subscriber</td>\n      <td>Thursday</td>\n      <td>January</td>\n      <td>00:06</td>\n      <td>Weekday</td>\n    </tr>\n    <tr>\n      <th>4</th>\n      <td>428</td>\n      <td>2020-01-01 00:07:25.295</td>\n      <td>2020-01-01 00:14:33.780</td>\n      <td>60</td>\n      <td>Charles Circle - Charles St at Cambridge St</td>\n      <td>42.360793</td>\n      <td>-71.071190</td>\n      <td>49</td>\n      <td>Stuart St at Charles St</td>\n      <td>42.351146</td>\n      <td>-71.066289</td>\n      <td>4978</td>\n      <td>Subscriber</td>\n      <td>Thursday</td>\n      <td>January</td>\n      <td>00:07</td>\n      <td>Weekday</td>\n    </tr>\n    <tr>\n      <th>...</th>\n      <td>...</td>\n      <td>...</td>\n      <td>...</td>\n      <td>...</td>\n      <td>...</td>\n      <td>...</td>\n      <td>...</td>\n      <td>...</td>\n      <td>...</td>\n      <td>...</td>\n      <td>...</td>\n      <td>...</td>\n      <td>...</td>\n      <td>...</td>\n      <td>...</td>\n      <td>...</td>\n      <td>...</td>\n    </tr>\n    <tr>\n      <th>1495</th>\n      <td>1230</td>\n      <td>2020-01-01 21:51:42.091</td>\n      <td>2020-01-01 22:12:12.097</td>\n      <td>30</td>\n      <td>Brigham Circle - Francis St at Huntington Ave</td>\n      <td>42.334629</td>\n      <td>-71.104079</td>\n      <td>90</td>\n      <td>Lechmere Station at Cambridge St / First St</td>\n      <td>42.370677</td>\n      <td>-71.076529</td>\n      <td>5526</td>\n      <td>Subscriber</td>\n      <td>Thursday</td>\n      <td>January</td>\n      <td>21:51</td>\n      <td>Weekday</td>\n    </tr>\n    <tr>\n      <th>1496</th>\n      <td>903</td>\n      <td>2020-01-01 21:55:38.713</td>\n      <td>2020-01-01 22:10:41.897</td>\n      <td>190</td>\n      <td>Nashua Street at Red Auerbach Way</td>\n      <td>42.365673</td>\n      <td>-71.064263</td>\n      <td>78</td>\n      <td>Union Square - Somerville</td>\n      <td>42.379671</td>\n      <td>-71.095493</td>\n      <td>5456</td>\n      <td>Subscriber</td>\n      <td>Thursday</td>\n      <td>January</td>\n      <td>21:55</td>\n      <td>Weekday</td>\n    </tr>\n    <tr>\n      <th>1497</th>\n      <td>988</td>\n      <td>2020-01-01 21:57:33.631</td>\n      <td>2020-01-01 22:14:02.276</td>\n      <td>6</td>\n      <td>Cambridge St at Joy St</td>\n      <td>42.361212</td>\n      <td>-71.065306</td>\n      <td>342</td>\n      <td>Boylston St at Jersey St</td>\n      <td>42.344651</td>\n      <td>-71.097325</td>\n      <td>3123</td>\n      <td>Customer</td>\n      <td>Thursday</td>\n      <td>January</td>\n      <td>21:57</td>\n      <td>Weekday</td>\n    </tr>\n    <tr>\n      <th>1498</th>\n      <td>698</td>\n      <td>2020-01-01 21:59:39.092</td>\n      <td>2020-01-01 22:11:17.477</td>\n      <td>104</td>\n      <td>Harvard University Radcliffe Quadrangle at She...</td>\n      <td>42.380287</td>\n      <td>-71.125107</td>\n      <td>221</td>\n      <td>Verizon Innovation Hub 10 Ware Street</td>\n      <td>42.372509</td>\n      <td>-71.113054</td>\n      <td>2815</td>\n      <td>Subscriber</td>\n      <td>Thursday</td>\n      <td>January</td>\n      <td>21:59</td>\n      <td>Weekday</td>\n    </tr>\n    <tr>\n      <th>1499</th>\n      <td>279</td>\n      <td>2020-01-01 21:59:44.437</td>\n      <td>2020-01-01 22:04:24.306</td>\n      <td>74</td>\n      <td>Harvard Square at Mass Ave/ Dunster</td>\n      <td>42.373268</td>\n      <td>-71.118579</td>\n      <td>180</td>\n      <td>Mt Auburn</td>\n      <td>42.374786</td>\n      <td>-71.133202</td>\n      <td>4399</td>\n      <td>Subscriber</td>\n      <td>Thursday</td>\n      <td>January</td>\n      <td>21:59</td>\n      <td>Weekday</td>\n    </tr>\n  </tbody>\n</table>\n<p>1500 rows × 17 columns</p>\n</div>"
     },
     "metadata": {},
     "execution_count": 194
    }
   ],
   "source": [
    "df_all.head(1500)\n"
   ]
  },
  {
   "source": [
    "## Explore Univariate Variables\n",
    "\n",
    "In this section, I'll investigate distributions of individual variables. My aim is to check if there are any unusual points or outliers, take a deeper look to clean things up and prepare myself to look at relationships between variables.\n",
    "\n",
    "I will look into the following:\n",
    "- How long does the average trip takes?\n",
    "- Which are the most used start and end stations?\n",
    "- When are the most trips taken in terms of time of day, day of the week, or month of the year?\n",
    "- Does these depend on if a user is a subscriber or customer?\n"
   ],
   "cell_type": "markdown",
   "metadata": {}
  },
  {
   "cell_type": "code",
   "execution_count": 102,
   "metadata": {},
   "outputs": [
    {
     "output_type": "execute_result",
     "data": {
      "text/plain": [
       "1831.438460477427"
      ]
     },
     "metadata": {},
     "execution_count": 102
    }
   ],
   "source": [
    "# asses how long does the average trip take\n",
    "df_all['tripduration'].mean()"
   ]
  },
  {
   "source": [
    "The average trip takes 1831 seconds, which is approx. 30 minutes."
   ],
   "cell_type": "markdown",
   "metadata": {}
  },
  {
   "cell_type": "code",
   "execution_count": 97,
   "metadata": {},
   "outputs": [
    {
     "output_type": "execute_result",
     "data": {
      "text/plain": [
       "397    1897\n",
       "382    1884\n",
       "410    1879\n",
       "399    1878\n",
       "366    1873\n",
       "376    1871\n",
       "361    1866\n",
       "391    1865\n",
       "393    1863\n",
       "380    1857\n",
       "360    1857\n",
       "352    1853\n",
       "405    1851\n",
       "368    1850\n",
       "346    1847\n",
       "Name: tripduration, dtype: int64"
      ]
     },
     "metadata": {},
     "execution_count": 97
    }
   ],
   "source": [
    "# assess trip duration column's 15 most frequent values in descending order\n",
    "df_all['tripduration'].value_counts().sort_values(ascending=False)[:15]\n"
   ]
  },
  {
   "source": [
    "The most frequent trip duration shows values between 1847 and 1897 seconds which is around 30 minutes as well."
   ],
   "cell_type": "markdown",
   "metadata": {}
  },
  {
   "cell_type": "code",
   "execution_count": 201,
   "metadata": {},
   "outputs": [
    {
     "output_type": "execute_result",
     "data": {
      "text/plain": [
       "68     34220\n",
       "60     33094\n",
       "67     29301\n",
       "46     27899\n",
       "107    23308\n",
       "342    22866\n",
       "178    22503\n",
       "47     22194\n",
       "74     21111\n",
       "53     20713\n",
       "Name: start station id, dtype: int64"
      ]
     },
     "metadata": {},
     "execution_count": 201
    }
   ],
   "source": [
    "# assess start station id column's 10 most frequent values in descending order\n",
    "df_all['start station id'].value_counts().sort_values(ascending=False)[:10]\n"
   ]
  },
  {
   "cell_type": "code",
   "execution_count": 227,
   "metadata": {},
   "outputs": [
    {
     "output_type": "execute_result",
     "data": {
      "text/plain": [
       "Empty DataFrame\n",
       "Columns: [start station name]\n",
       "Index: []"
      ],
      "text/html": "<div>\n<style scoped>\n    .dataframe tbody tr th:only-of-type {\n        vertical-align: middle;\n    }\n\n    .dataframe tbody tr th {\n        vertical-align: top;\n    }\n\n    .dataframe thead th {\n        text-align: right;\n    }\n</style>\n<table border=\"1\" class=\"dataframe\">\n  <thead>\n    <tr style=\"text-align: right;\">\n      <th></th>\n      <th>start station name</th>\n    </tr>\n  </thead>\n  <tbody>\n  </tbody>\n</table>\n</div>"
     },
     "metadata": {},
     "execution_count": 227
    }
   ],
   "source": [
    "df_all.loc[df_all['start station id'] == 34220, ['start station name']]"
   ]
  },
  {
   "source": [
    "The most frequently used start stations are:"
   ],
   "cell_type": "markdown",
   "metadata": {}
  },
  {
   "cell_type": "code",
   "execution_count": 99,
   "metadata": {},
   "outputs": [
    {
     "output_type": "execute_result",
     "data": {
      "text/plain": [
       "68     35158\n",
       "60     33450\n",
       "46     28040\n",
       "67     27574\n",
       "107    27111\n",
       "342    22970\n",
       "74     22725\n",
       "47     21995\n",
       "190    21604\n",
       "11     21473\n",
       "178    21351\n",
       "53     20595\n",
       "41     19466\n",
       "58     19447\n",
       "179    18923\n",
       "Name: end station id, dtype: int64"
      ]
     },
     "metadata": {},
     "execution_count": 99
    }
   ],
   "source": [
    "# assess end station id column's 15 most frequent values in descending order\n",
    "df_all['end station id'].value_counts().sort_values(ascending=False)[:15]\n"
   ]
  },
  {
   "source": [
    "The most frequently used end stations are:"
   ],
   "cell_type": "markdown",
   "metadata": {}
  },
  {
   "cell_type": "code",
   "execution_count": 82,
   "metadata": {},
   "outputs": [
    {
     "output_type": "error",
     "ename": "SyntaxError",
     "evalue": "invalid syntax (<ipython-input-82-3d28575df74a>, line 1)",
     "traceback": [
      "\u001b[0;36m  File \u001b[0;32m\"<ipython-input-82-3d28575df74a>\"\u001b[0;36m, line \u001b[0;32m1\u001b[0m\n\u001b[0;31m    df_all.\u001b[0m\n\u001b[0m           ^\u001b[0m\n\u001b[0;31mSyntaxError\u001b[0m\u001b[0;31m:\u001b[0m invalid syntax\n"
     ]
    }
   ],
   "source": [
    "df_all."
   ]
  }
 ],
 "metadata": {
  "kernelspec": {
   "name": "python3",
   "display_name": "Python 3.8.5 64-bit ('anaconda3': virtualenv)",
   "metadata": {
    "interpreter": {
     "hash": "94a5e2267bb68d269dd9f387cea6be90041024604c23baf599719be89ba72eed"
    }
   }
  },
  "language_info": {
   "codemirror_mode": {
    "name": "ipython",
    "version": 3
   },
   "file_extension": ".py",
   "mimetype": "text/x-python",
   "name": "python",
   "nbconvert_exporter": "python",
   "pygments_lexer": "ipython3",
   "version": "3.8.5-final"
  }
 },
 "nbformat": 4,
 "nbformat_minor": 4
}