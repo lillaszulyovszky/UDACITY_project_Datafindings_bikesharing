{
 "cells": [
  {
   "cell_type": "markdown",
   "metadata": {},
   "source": [
    "# Udacity Project - Bikesharing Dataset\n",
    "\n",
    "## Data Wrangling and Data Visualisation\n",
    "\n",
    "This data set includes information about individual rides made in a bike-sharing system covering the greater Boston area. "
   ]
  },
  {
   "cell_type": "code",
   "execution_count": 1,
   "metadata": {},
   "outputs": [],
   "source": [
    "# import libraries \n",
    "import numpy as np\n",
    "import pandas as pd\n",
    "import matplotlib.pyplot as plt\n",
    "import seaborn as sb\n",
    "\n",
    "%matplotlib inline"
   ]
  },
  {
   "source": [
    "**What is the structure of your dataset?**\n",
    "\n",
    "Most of the months have 15 columns with a few having only 14. Need to make sure I'm not missing data so will reduce the ones with 15 rows to 14 before I merge them together. When I merge them, I will do it by quarters to help explore the data better. Different months have different amount of entries, but that's normal and I will not manipulate that.\n",
    "\n",
    "I will look at the datasets statistics, datatypes, missing and duplicated values to see if there is any need for cleaning.\n",
    "\n",
    "\n",
    "**What is/are the main feature(s) of interest in your dataset?**\n",
    "\n",
    "To see who, when are where are using the most and least bikes within Boston.\n",
    "\n",
    "\n",
    "**What features in the dataset do you think will help support your investigation into your feature(s) of interest?**\n",
    "\n",
    "Trip duration, Start station, End Station, Usertype, Birthyear and Gender\n"
   ],
   "cell_type": "markdown",
   "metadata": {}
  },
  {
   "cell_type": "code",
   "execution_count": 42,
   "metadata": {},
   "outputs": [
    {
     "output_type": "execute_result",
     "data": {
      "text/plain": [
       "   tripduration                 starttime                  stoptime  \\\n",
       "0           478  2020-01-01 00:04:05.8090  2020-01-01 00:12:04.2370   \n",
       "1           363  2020-01-01 00:04:45.6990  2020-01-01 00:10:49.0400   \n",
       "2           284  2020-01-01 00:06:07.0630  2020-01-01 00:10:51.9240   \n",
       "3           193  2020-01-01 00:06:13.8550  2020-01-01 00:09:27.8320   \n",
       "4           428  2020-01-01 00:07:25.2950  2020-01-01 00:14:33.7800   \n",
       "\n",
       "   start station id                           start station name  \\\n",
       "0               366                              Broadway T Stop   \n",
       "1               219                  Boston East - 126 Border St   \n",
       "2               219                  Boston East - 126 Border St   \n",
       "3               396                         Main St at Beacon St   \n",
       "4                60  Charles Circle - Charles St at Cambridge St   \n",
       "\n",
       "   start station latitude  start station longitude  end station id  \\\n",
       "0               42.342781               -71.057473              93   \n",
       "1               42.373312               -71.041020             212   \n",
       "2               42.373312               -71.041020             212   \n",
       "3               42.409330               -71.063819             387   \n",
       "4               42.360793               -71.071190              49   \n",
       "\n",
       "               end station name  end station latitude  end station longitude  \\\n",
       "0              JFK/UMass T Stop             42.320340             -71.051180   \n",
       "1  Maverick Square - Lewis Mall             42.368844             -71.039778   \n",
       "2  Maverick Square - Lewis Mall             42.368844             -71.039778   \n",
       "3        Norman St at Kelvin St             42.409859             -71.066319   \n",
       "4       Stuart St at Charles St             42.351146             -71.066289   \n",
       "\n",
       "   bikeid    usertype  birth year  gender  \n",
       "0    6005    Customer        1969       0  \n",
       "1    3168  Subscriber        2000       1  \n",
       "2    3985  Subscriber        2001       1  \n",
       "3    2692  Subscriber        1978       1  \n",
       "4    4978  Subscriber        1987       1  "
      ],
      "text/html": "<div>\n<style scoped>\n    .dataframe tbody tr th:only-of-type {\n        vertical-align: middle;\n    }\n\n    .dataframe tbody tr th {\n        vertical-align: top;\n    }\n\n    .dataframe thead th {\n        text-align: right;\n    }\n</style>\n<table border=\"1\" class=\"dataframe\">\n  <thead>\n    <tr style=\"text-align: right;\">\n      <th></th>\n      <th>tripduration</th>\n      <th>starttime</th>\n      <th>stoptime</th>\n      <th>start station id</th>\n      <th>start station name</th>\n      <th>start station latitude</th>\n      <th>start station longitude</th>\n      <th>end station id</th>\n      <th>end station name</th>\n      <th>end station latitude</th>\n      <th>end station longitude</th>\n      <th>bikeid</th>\n      <th>usertype</th>\n      <th>birth year</th>\n      <th>gender</th>\n    </tr>\n  </thead>\n  <tbody>\n    <tr>\n      <th>0</th>\n      <td>478</td>\n      <td>2020-01-01 00:04:05.8090</td>\n      <td>2020-01-01 00:12:04.2370</td>\n      <td>366</td>\n      <td>Broadway T Stop</td>\n      <td>42.342781</td>\n      <td>-71.057473</td>\n      <td>93</td>\n      <td>JFK/UMass T Stop</td>\n      <td>42.320340</td>\n      <td>-71.051180</td>\n      <td>6005</td>\n      <td>Customer</td>\n      <td>1969</td>\n      <td>0</td>\n    </tr>\n    <tr>\n      <th>1</th>\n      <td>363</td>\n      <td>2020-01-01 00:04:45.6990</td>\n      <td>2020-01-01 00:10:49.0400</td>\n      <td>219</td>\n      <td>Boston East - 126 Border St</td>\n      <td>42.373312</td>\n      <td>-71.041020</td>\n      <td>212</td>\n      <td>Maverick Square - Lewis Mall</td>\n      <td>42.368844</td>\n      <td>-71.039778</td>\n      <td>3168</td>\n      <td>Subscriber</td>\n      <td>2000</td>\n      <td>1</td>\n    </tr>\n    <tr>\n      <th>2</th>\n      <td>284</td>\n      <td>2020-01-01 00:06:07.0630</td>\n      <td>2020-01-01 00:10:51.9240</td>\n      <td>219</td>\n      <td>Boston East - 126 Border St</td>\n      <td>42.373312</td>\n      <td>-71.041020</td>\n      <td>212</td>\n      <td>Maverick Square - Lewis Mall</td>\n      <td>42.368844</td>\n      <td>-71.039778</td>\n      <td>3985</td>\n      <td>Subscriber</td>\n      <td>2001</td>\n      <td>1</td>\n    </tr>\n    <tr>\n      <th>3</th>\n      <td>193</td>\n      <td>2020-01-01 00:06:13.8550</td>\n      <td>2020-01-01 00:09:27.8320</td>\n      <td>396</td>\n      <td>Main St at Beacon St</td>\n      <td>42.409330</td>\n      <td>-71.063819</td>\n      <td>387</td>\n      <td>Norman St at Kelvin St</td>\n      <td>42.409859</td>\n      <td>-71.066319</td>\n      <td>2692</td>\n      <td>Subscriber</td>\n      <td>1978</td>\n      <td>1</td>\n    </tr>\n    <tr>\n      <th>4</th>\n      <td>428</td>\n      <td>2020-01-01 00:07:25.2950</td>\n      <td>2020-01-01 00:14:33.7800</td>\n      <td>60</td>\n      <td>Charles Circle - Charles St at Cambridge St</td>\n      <td>42.360793</td>\n      <td>-71.071190</td>\n      <td>49</td>\n      <td>Stuart St at Charles St</td>\n      <td>42.351146</td>\n      <td>-71.066289</td>\n      <td>4978</td>\n      <td>Subscriber</td>\n      <td>1987</td>\n      <td>1</td>\n    </tr>\n  </tbody>\n</table>\n</div>"
     },
     "metadata": {},
     "execution_count": 42
    }
   ],
   "source": [
    "# load in each month's dataset into a pandas dataframe\n",
    "df_01 = pd.read_csv('202001-bluebikes-tripdata.csv')\n",
    "df_01.shape\n",
    "df_01.head()"
   ]
  },
  {
   "cell_type": "code",
   "execution_count": 25,
   "metadata": {},
   "outputs": [
    {
     "output_type": "execute_result",
     "data": {
      "text/plain": [
       "(133235, 15)"
      ]
     },
     "metadata": {},
     "execution_count": 25
    }
   ],
   "source": [
    "df_02 = pd.read_csv('202002-bluebikes-tripdata.csv')\n",
    "df_02.shape"
   ]
  },
  {
   "cell_type": "code",
   "execution_count": 32,
   "metadata": {},
   "outputs": [
    {
     "output_type": "execute_result",
     "data": {
      "text/plain": [
       "(107350, 15)"
      ]
     },
     "metadata": {},
     "execution_count": 32
    }
   ],
   "source": [
    "df_03 = pd.read_csv('202003-bluebikes-tripdata.csv')\n",
    "df_03.shape"
   ]
  },
  {
   "cell_type": "code",
   "execution_count": 33,
   "metadata": {},
   "outputs": [
    {
     "output_type": "execute_result",
     "data": {
      "text/plain": [
       "(46793, 15)"
      ]
     },
     "metadata": {},
     "execution_count": 33
    }
   ],
   "source": [
    "df_04 = pd.read_csv('202004-bluebikes-tripdata.csv')\n",
    "df_04.shape"
   ]
  },
  {
   "cell_type": "code",
   "execution_count": 34,
   "metadata": {},
   "outputs": [
    {
     "output_type": "execute_result",
     "data": {
      "text/plain": [
       "(124879, 14)"
      ]
     },
     "metadata": {},
     "execution_count": 34
    }
   ],
   "source": [
    "df_05 = pd.read_csv('202005-bluebikes-tripdata.csv')\n",
    "df_05.shape"
   ]
  },
  {
   "cell_type": "code",
   "execution_count": 35,
   "metadata": {},
   "outputs": [
    {
     "output_type": "execute_result",
     "data": {
      "text/plain": [
       "(191843, 14)"
      ]
     },
     "metadata": {},
     "execution_count": 35
    }
   ],
   "source": [
    "df_06 = pd.read_csv('202006-bluebikes-tripdata.csv')\n",
    "df_06.shape"
   ]
  },
  {
   "cell_type": "code",
   "execution_count": 36,
   "metadata": {},
   "outputs": [
    {
     "output_type": "execute_result",
     "data": {
      "text/plain": [
       "(259726, 14)"
      ]
     },
     "metadata": {},
     "execution_count": 36
    }
   ],
   "source": [
    "df_07 = pd.read_csv('202007-bluebikes-tripdata.csv')\n",
    "df_07.shape"
   ]
  },
  {
   "cell_type": "code",
   "execution_count": 37,
   "metadata": {},
   "outputs": [
    {
     "output_type": "execute_result",
     "data": {
      "text/plain": [
       "(289033, 14)"
      ]
     },
     "metadata": {},
     "execution_count": 37
    }
   ],
   "source": [
    "df_08 = pd.read_csv('202008-bluebikes-tripdata.csv')\n",
    "df_08.shape"
   ]
  },
  {
   "cell_type": "code",
   "execution_count": 38,
   "metadata": {},
   "outputs": [
    {
     "output_type": "execute_result",
     "data": {
      "text/plain": [
       "(307853, 14)"
      ]
     },
     "metadata": {},
     "execution_count": 38
    }
   ],
   "source": [
    "df_09 = pd.read_csv('202009-bluebikes-tripdata.csv')\n",
    "df_09.shape"
   ]
  },
  {
   "cell_type": "code",
   "execution_count": 39,
   "metadata": {},
   "outputs": [
    {
     "output_type": "execute_result",
     "data": {
      "text/plain": [
       "(248424, 14)"
      ]
     },
     "metadata": {},
     "execution_count": 39
    }
   ],
   "source": [
    "df_10 = pd.read_csv('202010-bluebikes-tripdata.csv')\n",
    "df_10.shape"
   ]
  },
  {
   "cell_type": "code",
   "execution_count": 40,
   "metadata": {},
   "outputs": [
    {
     "output_type": "execute_result",
     "data": {
      "text/plain": [
       "(161712, 14)"
      ]
     },
     "metadata": {},
     "execution_count": 40
    }
   ],
   "source": [
    "df_11 = pd.read_csv('202011-bluebikes-tripdata.csv')\n",
    "df_11.shape"
   ]
  },
  {
   "cell_type": "code",
   "execution_count": 41,
   "metadata": {},
   "outputs": [
    {
     "output_type": "execute_result",
     "data": {
      "text/plain": [
       "(74002, 14)"
      ]
     },
     "metadata": {},
     "execution_count": 41
    }
   ],
   "source": [
    "df_12 = pd.read_csv('202012-bluebikes-tripdata.csv')\n",
    "df_12.shape"
   ]
  },
  {
   "cell_type": "code",
   "execution_count": null,
   "metadata": {},
   "outputs": [],
   "source": []
  }
 ],
 "metadata": {
  "kernelspec": {
   "name": "python3",
   "display_name": "Python 3.8.5 64-bit ('base': conda)",
   "metadata": {
    "interpreter": {
     "hash": "94a5e2267bb68d269dd9f387cea6be90041024604c23baf599719be89ba72eed"
    }
   }
  },
  "language_info": {
   "codemirror_mode": {
    "name": "ipython",
    "version": 3
   },
   "file_extension": ".py",
   "mimetype": "text/x-python",
   "name": "python",
   "nbconvert_exporter": "python",
   "pygments_lexer": "ipython3",
   "version": "3.8.5-final"
  }
 },
 "nbformat": 4,
 "nbformat_minor": 4
}